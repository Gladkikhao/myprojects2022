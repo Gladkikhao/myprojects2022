{
 "cells": [
  {
   "cell_type": "markdown",
   "id": "32eb54f7",
   "metadata": {},
   "source": [
    "# Мобильные приложения — Анализ поведения пользователей в мобильном приложении"
   ]
  },
  {
   "cell_type": "markdown",
   "id": "fa530229",
   "metadata": {},
   "source": [
    "**ЦЕЛЬ РАБОТЫ:**   \n",
    "Провести анализ действий пользователей. Выявить закономерности, понять их происхождение. Дать рекомендации на основе анализа, для того чтобы достичь увеличения конверсии в целевое событие - просмотр контакта.   \n",
    "  \n",
    "\n",
    "### **Описание данных:**\n",
    "\n",
    "Датасет содержит данные о событиях, совершенных в мобильном приложении \"Ненужные вещи\". В нем пользователи продают свои ненужные вещи, размещая их на доске объявлений.\n",
    "\n",
    "В датасете содержатся данные пользователей, впервые совершивших действия в приложении после 7 октября 2019 года.\n",
    "\n",
    "Колонки в *mobile_sources.csv*: \n",
    "\n",
    "- `userId` — идентификатор пользователя,\n",
    "- `source` — источник, с которого пользователь установил приложение.\n",
    "\n",
    "Колонки в *mobile_dataset.csv*: \n",
    "\n",
    "- `event.time` — время совершения,\n",
    "- `user.id` — идентификатор пользователя,\n",
    "- `event.name` — действие пользователя.\n",
    "\n",
    "Виды действий:\n",
    "\n",
    "- `advert_open` — открыл карточки объявления,\n",
    "- `photos_show` — просмотрел фотографий в объявлении,\n",
    "- `tips_show` — увидел рекомендованные объявления,\n",
    "- `tips_click` — кликнул по рекомендованному объявлению,\n",
    "- `contacts_show` и `show_contacts` — посмотрел номер телефона,\n",
    "- `contacts_call` — позвонил по номеру из объявления,\n",
    "- `map` — открыл карту объявлений,\n",
    "- `search_1`—`search_7` — разные действия, связанные с поиском по сайту,\n",
    "- `favorites_add` — добавил объявление в избранное."
   ]
  },
  {
   "cell_type": "markdown",
   "id": "b4c95221",
   "metadata": {},
   "source": [
    "## Предобработка данных  \n",
    "1.1 Проверить пропуски, дубликаты и типы данных  \n",
    "1.2 Добавить отдельный столбец date, привести к одному формату столбец event.time   \n",
    "1.3 Переименовать столбцы в обоих датафремах  \n",
    "1.4 Объединить события search_1—search_7; contacts_show и show_contacts    \n",
    "  \n",
    "## Исследовательский анализ  \n",
    "2.1 Выявить период, которым мы располагаем. Найти максимальную и минимальную дату  \n",
    "2.2 Посмотреть на распределение событий по дням  \n",
    "2.3 Посмотрим на частоту событий по числу уникальных пользователей совершивших это событие. А также посчитаем долю от общего числа пользователей.  \n",
    "2.4 Делаем сессии из лога событий. Определяем время на каждое событие.  \n",
    "2.5 Сравнить конверсию воронки взаимодействия, с основными карточками, с помощью search до целевого действия (contacts_show)  \n",
    "2.6 Сравнить конверсию воронки, с основными карточками, с помощью tips_click до целевого действия (contacts_show)  \n",
    "2.7 Изучить динамику количества взаимодействий в приложении по дням и неделям.      \n",
    "  \n",
    "       \n",
    "  \n",
    "## Проверка статистических гипотез  \n",
    "3.1 Одни пользователи совершают действия tips_show и tips_click, другие — только tips_show.  \n",
    "Проверить гипотезу: **конверсия в contacts_show различается у этих двух групп.**    \n",
    "3.2 Проверьте гипотезу: **конверсия в contacts_show между теми пользователями, которые совершили установку приложения, исходя из источника(yandex или google) различается.**  \n",
    "  \n",
    "## Общий вывод\n",
    "4.1 Вывод на основании исследования и рекомендации\n",
    "  \n",
    "## Материалы   \n",
    "5.1 Ссылка на презентацию. "
   ]
  },
  {
   "cell_type": "markdown",
   "id": "2f88c571",
   "metadata": {},
   "source": [
    "##  Дашборд  \n",
    "\n",
    "1. Набор №1  \n",
    "    * Постройте диаграмму распределения количества событий по типу события.  \n",
    "    * Добавьте индикатор количества пользователей.  \n",
    "    * Добавьте фильтр дашборда по дате совершения события.  \n",
    "2. Набор №2  \n",
    "    * Постройте диаграмму, отображающую количество событий по дням.  \n",
    "    * Постройте гистограмму, отображающую количество пользователей, пришедших из разных источников.  \n",
    "    * Добавьте фильтр дашборда по типу события.  "
   ]
  },
  {
   "cell_type": "code",
   "execution_count": 90,
   "id": "b517441f",
   "metadata": {},
   "outputs": [],
   "source": [
    "import pandas as pd\n",
    "import numpy as np\n",
    "from scipy import stats\n",
    "import seaborn as sns\n",
    "import matplotlib.pyplot as plt\n",
    "from matplotlib.pyplot import figure\n",
    "import datetime as dt\n",
    "from plotly.offline import download_plotlyjs, init_notebook_mode, plot, iplot\n",
    "import plotly.graph_objs as go\n",
    "import plotly.express as px\n",
    "import plotly.figure_factory as ff\n",
    "import math as mth\n",
    "import warnings\n",
    "warnings.filterwarnings('ignore')\n",
    "pd.set_option('display.max_colwidth', -1)\n"
   ]
  },
  {
   "cell_type": "code",
   "execution_count": 91,
   "id": "5967c7eb",
   "metadata": {},
   "outputs": [],
   "source": [
    "df_1 = pd.read_csv('/Users/datasets/mobile_dataset.csv')\n",
    "df_2 = pd.read_csv('/Users/datasets/mobile_sourсes.csv')"
   ]
  },
  {
   "cell_type": "code",
   "execution_count": 92,
   "id": "24a17f38",
   "metadata": {},
   "outputs": [
    {
     "data": {
      "text/html": [
       "<div>\n",
       "<style scoped>\n",
       "    .dataframe tbody tr th:only-of-type {\n",
       "        vertical-align: middle;\n",
       "    }\n",
       "\n",
       "    .dataframe tbody tr th {\n",
       "        vertical-align: top;\n",
       "    }\n",
       "\n",
       "    .dataframe thead th {\n",
       "        text-align: right;\n",
       "    }\n",
       "</style>\n",
       "<table border=\"1\" class=\"dataframe\">\n",
       "  <thead>\n",
       "    <tr style=\"text-align: right;\">\n",
       "      <th></th>\n",
       "      <th>event.time</th>\n",
       "      <th>event.name</th>\n",
       "      <th>user.id</th>\n",
       "    </tr>\n",
       "  </thead>\n",
       "  <tbody>\n",
       "    <tr>\n",
       "      <th>0</th>\n",
       "      <td>2019-10-07 00:00:00.431357</td>\n",
       "      <td>advert_open</td>\n",
       "      <td>020292ab-89bc-4156-9acf-68bc2783f894</td>\n",
       "    </tr>\n",
       "    <tr>\n",
       "      <th>1</th>\n",
       "      <td>2019-10-07 00:00:01.236320</td>\n",
       "      <td>tips_show</td>\n",
       "      <td>020292ab-89bc-4156-9acf-68bc2783f894</td>\n",
       "    </tr>\n",
       "    <tr>\n",
       "      <th>2</th>\n",
       "      <td>2019-10-07 00:00:02.245341</td>\n",
       "      <td>tips_show</td>\n",
       "      <td>cf7eda61-9349-469f-ac27-e5b6f5ec475c</td>\n",
       "    </tr>\n",
       "    <tr>\n",
       "      <th>3</th>\n",
       "      <td>2019-10-07 00:00:07.039334</td>\n",
       "      <td>tips_show</td>\n",
       "      <td>020292ab-89bc-4156-9acf-68bc2783f894</td>\n",
       "    </tr>\n",
       "    <tr>\n",
       "      <th>4</th>\n",
       "      <td>2019-10-07 00:00:56.319813</td>\n",
       "      <td>advert_open</td>\n",
       "      <td>cf7eda61-9349-469f-ac27-e5b6f5ec475c</td>\n",
       "    </tr>\n",
       "    <tr>\n",
       "      <th>...</th>\n",
       "      <td>...</td>\n",
       "      <td>...</td>\n",
       "      <td>...</td>\n",
       "    </tr>\n",
       "    <tr>\n",
       "      <th>74192</th>\n",
       "      <td>2019-11-03 23:53:29.534986</td>\n",
       "      <td>tips_show</td>\n",
       "      <td>28fccdf4-7b9e-42f5-bc73-439a265f20e9</td>\n",
       "    </tr>\n",
       "    <tr>\n",
       "      <th>74193</th>\n",
       "      <td>2019-11-03 23:54:00.407086</td>\n",
       "      <td>tips_show</td>\n",
       "      <td>28fccdf4-7b9e-42f5-bc73-439a265f20e9</td>\n",
       "    </tr>\n",
       "    <tr>\n",
       "      <th>74194</th>\n",
       "      <td>2019-11-03 23:56:57.041825</td>\n",
       "      <td>search_1</td>\n",
       "      <td>20850c8f-4135-4059-b13b-198d3ac59902</td>\n",
       "    </tr>\n",
       "    <tr>\n",
       "      <th>74195</th>\n",
       "      <td>2019-11-03 23:57:06.232189</td>\n",
       "      <td>tips_show</td>\n",
       "      <td>28fccdf4-7b9e-42f5-bc73-439a265f20e9</td>\n",
       "    </tr>\n",
       "    <tr>\n",
       "      <th>74196</th>\n",
       "      <td>2019-11-03 23:58:12.532487</td>\n",
       "      <td>tips_show</td>\n",
       "      <td>28fccdf4-7b9e-42f5-bc73-439a265f20e9</td>\n",
       "    </tr>\n",
       "  </tbody>\n",
       "</table>\n",
       "<p>74197 rows × 3 columns</p>\n",
       "</div>"
      ],
      "text/plain": [
       "                       event.time   event.name  \\\n",
       "0      2019-10-07 00:00:00.431357  advert_open   \n",
       "1      2019-10-07 00:00:01.236320  tips_show     \n",
       "2      2019-10-07 00:00:02.245341  tips_show     \n",
       "3      2019-10-07 00:00:07.039334  tips_show     \n",
       "4      2019-10-07 00:00:56.319813  advert_open   \n",
       "...                           ...          ...   \n",
       "74192  2019-11-03 23:53:29.534986  tips_show     \n",
       "74193  2019-11-03 23:54:00.407086  tips_show     \n",
       "74194  2019-11-03 23:56:57.041825  search_1      \n",
       "74195  2019-11-03 23:57:06.232189  tips_show     \n",
       "74196  2019-11-03 23:58:12.532487  tips_show     \n",
       "\n",
       "                                    user.id  \n",
       "0      020292ab-89bc-4156-9acf-68bc2783f894  \n",
       "1      020292ab-89bc-4156-9acf-68bc2783f894  \n",
       "2      cf7eda61-9349-469f-ac27-e5b6f5ec475c  \n",
       "3      020292ab-89bc-4156-9acf-68bc2783f894  \n",
       "4      cf7eda61-9349-469f-ac27-e5b6f5ec475c  \n",
       "...                                     ...  \n",
       "74192  28fccdf4-7b9e-42f5-bc73-439a265f20e9  \n",
       "74193  28fccdf4-7b9e-42f5-bc73-439a265f20e9  \n",
       "74194  20850c8f-4135-4059-b13b-198d3ac59902  \n",
       "74195  28fccdf4-7b9e-42f5-bc73-439a265f20e9  \n",
       "74196  28fccdf4-7b9e-42f5-bc73-439a265f20e9  \n",
       "\n",
       "[74197 rows x 3 columns]"
      ]
     },
     "execution_count": 92,
     "metadata": {},
     "output_type": "execute_result"
    }
   ],
   "source": [
    "df_1"
   ]
  },
  {
   "cell_type": "code",
   "execution_count": 93,
   "id": "602df377",
   "metadata": {},
   "outputs": [
    {
     "data": {
      "text/html": [
       "<div>\n",
       "<style scoped>\n",
       "    .dataframe tbody tr th:only-of-type {\n",
       "        vertical-align: middle;\n",
       "    }\n",
       "\n",
       "    .dataframe tbody tr th {\n",
       "        vertical-align: top;\n",
       "    }\n",
       "\n",
       "    .dataframe thead th {\n",
       "        text-align: right;\n",
       "    }\n",
       "</style>\n",
       "<table border=\"1\" class=\"dataframe\">\n",
       "  <thead>\n",
       "    <tr style=\"text-align: right;\">\n",
       "      <th></th>\n",
       "      <th>userId</th>\n",
       "      <th>source</th>\n",
       "    </tr>\n",
       "  </thead>\n",
       "  <tbody>\n",
       "    <tr>\n",
       "      <th>0</th>\n",
       "      <td>020292ab-89bc-4156-9acf-68bc2783f894</td>\n",
       "      <td>other</td>\n",
       "    </tr>\n",
       "    <tr>\n",
       "      <th>1</th>\n",
       "      <td>cf7eda61-9349-469f-ac27-e5b6f5ec475c</td>\n",
       "      <td>yandex</td>\n",
       "    </tr>\n",
       "    <tr>\n",
       "      <th>2</th>\n",
       "      <td>8c356c42-3ba9-4cb6-80b8-3f868d0192c3</td>\n",
       "      <td>yandex</td>\n",
       "    </tr>\n",
       "    <tr>\n",
       "      <th>3</th>\n",
       "      <td>d9b06b47-0f36-419b-bbb0-3533e582a6cb</td>\n",
       "      <td>other</td>\n",
       "    </tr>\n",
       "    <tr>\n",
       "      <th>4</th>\n",
       "      <td>f32e1e2a-3027-4693-b793-b7b3ff274439</td>\n",
       "      <td>google</td>\n",
       "    </tr>\n",
       "    <tr>\n",
       "      <th>...</th>\n",
       "      <td>...</td>\n",
       "      <td>...</td>\n",
       "    </tr>\n",
       "    <tr>\n",
       "      <th>4288</th>\n",
       "      <td>b86fe56e-f2de-4f8a-b192-cd89a37ecd41</td>\n",
       "      <td>yandex</td>\n",
       "    </tr>\n",
       "    <tr>\n",
       "      <th>4289</th>\n",
       "      <td>424c0ae1-3ea3-4f1e-a814-6bac73e48ab1</td>\n",
       "      <td>yandex</td>\n",
       "    </tr>\n",
       "    <tr>\n",
       "      <th>4290</th>\n",
       "      <td>437a4cd4-9ba9-457f-8614-d142bc48fbeb</td>\n",
       "      <td>yandex</td>\n",
       "    </tr>\n",
       "    <tr>\n",
       "      <th>4291</th>\n",
       "      <td>c10055f0-0b47-477a-869e-d391b31fdf8f</td>\n",
       "      <td>yandex</td>\n",
       "    </tr>\n",
       "    <tr>\n",
       "      <th>4292</th>\n",
       "      <td>d157bffc-264d-4464-8220-1cc0c42f43a9</td>\n",
       "      <td>google</td>\n",
       "    </tr>\n",
       "  </tbody>\n",
       "</table>\n",
       "<p>4293 rows × 2 columns</p>\n",
       "</div>"
      ],
      "text/plain": [
       "                                    userId  source\n",
       "0     020292ab-89bc-4156-9acf-68bc2783f894  other \n",
       "1     cf7eda61-9349-469f-ac27-e5b6f5ec475c  yandex\n",
       "2     8c356c42-3ba9-4cb6-80b8-3f868d0192c3  yandex\n",
       "3     d9b06b47-0f36-419b-bbb0-3533e582a6cb  other \n",
       "4     f32e1e2a-3027-4693-b793-b7b3ff274439  google\n",
       "...                                    ...     ...\n",
       "4288  b86fe56e-f2de-4f8a-b192-cd89a37ecd41  yandex\n",
       "4289  424c0ae1-3ea3-4f1e-a814-6bac73e48ab1  yandex\n",
       "4290  437a4cd4-9ba9-457f-8614-d142bc48fbeb  yandex\n",
       "4291  c10055f0-0b47-477a-869e-d391b31fdf8f  yandex\n",
       "4292  d157bffc-264d-4464-8220-1cc0c42f43a9  google\n",
       "\n",
       "[4293 rows x 2 columns]"
      ]
     },
     "execution_count": 93,
     "metadata": {},
     "output_type": "execute_result"
    }
   ],
   "source": [
    "df_2"
   ]
  },
  {
   "cell_type": "markdown",
   "id": "3df57223",
   "metadata": {},
   "source": [
    "# Предобработка данных  "
   ]
  },
  {
   "cell_type": "code",
   "execution_count": 94,
   "id": "076e82a5",
   "metadata": {},
   "outputs": [
    {
     "name": "stdout",
     "output_type": "stream",
     "text": [
      "Количество дубликатов в датафрейме 1: 0\n",
      "Количество дубликатов в датафрейме 2: 0\n"
     ]
    }
   ],
   "source": [
    "print('Количество дубликатов в датафрейме 1:', df_1.duplicated().sum())\n",
    "print('Количество дубликатов в датафрейме 2:', df_2.duplicated().sum())"
   ]
  },
  {
   "cell_type": "code",
   "execution_count": 95,
   "id": "36b47d3e",
   "metadata": {},
   "outputs": [],
   "source": [
    "df_1.columns =['date_time', 'event_name', 'user_id']\n",
    "df_2.columns = ['user_id', 'source']"
   ]
  },
  {
   "cell_type": "code",
   "execution_count": 96,
   "id": "a218a3f4",
   "metadata": {},
   "outputs": [
    {
     "name": "stdout",
     "output_type": "stream",
     "text": [
      "Множества идентификаторов в обоих датасетах совпадают +++\n"
     ]
    }
   ],
   "source": [
    "if set(df_1['user_id']) == set(df_2['user_id']):\n",
    "    print('Множества идентификаторов в обоих датасетах совпадают +++')\n",
    "else:\n",
    "    print('Множества не совпадают ---')"
   ]
  },
  {
   "cell_type": "code",
   "execution_count": 97,
   "id": "784d0aaf",
   "metadata": {},
   "outputs": [
    {
     "name": "stdout",
     "output_type": "stream",
     "text": [
      "<class 'pandas.core.frame.DataFrame'>\n",
      "Int64Index: 74197 entries, 0 to 74196\n",
      "Data columns (total 4 columns):\n",
      " #   Column      Non-Null Count  Dtype \n",
      "---  ------      --------------  ----- \n",
      " 0   date_time   74197 non-null  object\n",
      " 1   event_name  74197 non-null  object\n",
      " 2   user_id     74197 non-null  object\n",
      " 3   source      74197 non-null  object\n",
      "dtypes: object(4)\n",
      "memory usage: 2.8+ MB\n"
     ]
    }
   ],
   "source": [
    "df_mobile = df_1.merge(df_2, on='user_id', how='left')\n",
    "df_mobile.info()"
   ]
  },
  {
   "cell_type": "code",
   "execution_count": 98,
   "id": "de847d90",
   "metadata": {},
   "outputs": [
    {
     "data": {
      "text/html": [
       "<div>\n",
       "<style scoped>\n",
       "    .dataframe tbody tr th:only-of-type {\n",
       "        vertical-align: middle;\n",
       "    }\n",
       "\n",
       "    .dataframe tbody tr th {\n",
       "        vertical-align: top;\n",
       "    }\n",
       "\n",
       "    .dataframe thead th {\n",
       "        text-align: right;\n",
       "    }\n",
       "</style>\n",
       "<table border=\"1\" class=\"dataframe\">\n",
       "  <thead>\n",
       "    <tr style=\"text-align: right;\">\n",
       "      <th></th>\n",
       "      <th>date_time</th>\n",
       "      <th>event_name</th>\n",
       "      <th>user_id</th>\n",
       "      <th>source</th>\n",
       "      <th>date</th>\n",
       "    </tr>\n",
       "  </thead>\n",
       "  <tbody>\n",
       "    <tr>\n",
       "      <th>0</th>\n",
       "      <td>2019-10-07 00:00:00</td>\n",
       "      <td>advert_open</td>\n",
       "      <td>020292ab-89bc-4156-9acf-68bc2783f894</td>\n",
       "      <td>other</td>\n",
       "      <td>2019-10-07</td>\n",
       "    </tr>\n",
       "    <tr>\n",
       "      <th>1</th>\n",
       "      <td>2019-10-07 00:00:01</td>\n",
       "      <td>tips_show</td>\n",
       "      <td>020292ab-89bc-4156-9acf-68bc2783f894</td>\n",
       "      <td>other</td>\n",
       "      <td>2019-10-07</td>\n",
       "    </tr>\n",
       "    <tr>\n",
       "      <th>2</th>\n",
       "      <td>2019-10-07 00:00:02</td>\n",
       "      <td>tips_show</td>\n",
       "      <td>cf7eda61-9349-469f-ac27-e5b6f5ec475c</td>\n",
       "      <td>yandex</td>\n",
       "      <td>2019-10-07</td>\n",
       "    </tr>\n",
       "    <tr>\n",
       "      <th>3</th>\n",
       "      <td>2019-10-07 00:00:07</td>\n",
       "      <td>tips_show</td>\n",
       "      <td>020292ab-89bc-4156-9acf-68bc2783f894</td>\n",
       "      <td>other</td>\n",
       "      <td>2019-10-07</td>\n",
       "    </tr>\n",
       "    <tr>\n",
       "      <th>4</th>\n",
       "      <td>2019-10-07 00:00:56</td>\n",
       "      <td>advert_open</td>\n",
       "      <td>cf7eda61-9349-469f-ac27-e5b6f5ec475c</td>\n",
       "      <td>yandex</td>\n",
       "      <td>2019-10-07</td>\n",
       "    </tr>\n",
       "    <tr>\n",
       "      <th>...</th>\n",
       "      <td>...</td>\n",
       "      <td>...</td>\n",
       "      <td>...</td>\n",
       "      <td>...</td>\n",
       "      <td>...</td>\n",
       "    </tr>\n",
       "    <tr>\n",
       "      <th>74192</th>\n",
       "      <td>2019-11-03 23:53:29</td>\n",
       "      <td>tips_show</td>\n",
       "      <td>28fccdf4-7b9e-42f5-bc73-439a265f20e9</td>\n",
       "      <td>google</td>\n",
       "      <td>2019-11-03</td>\n",
       "    </tr>\n",
       "    <tr>\n",
       "      <th>74193</th>\n",
       "      <td>2019-11-03 23:54:00</td>\n",
       "      <td>tips_show</td>\n",
       "      <td>28fccdf4-7b9e-42f5-bc73-439a265f20e9</td>\n",
       "      <td>google</td>\n",
       "      <td>2019-11-03</td>\n",
       "    </tr>\n",
       "    <tr>\n",
       "      <th>74194</th>\n",
       "      <td>2019-11-03 23:56:57</td>\n",
       "      <td>search_1</td>\n",
       "      <td>20850c8f-4135-4059-b13b-198d3ac59902</td>\n",
       "      <td>google</td>\n",
       "      <td>2019-11-03</td>\n",
       "    </tr>\n",
       "    <tr>\n",
       "      <th>74195</th>\n",
       "      <td>2019-11-03 23:57:06</td>\n",
       "      <td>tips_show</td>\n",
       "      <td>28fccdf4-7b9e-42f5-bc73-439a265f20e9</td>\n",
       "      <td>google</td>\n",
       "      <td>2019-11-03</td>\n",
       "    </tr>\n",
       "    <tr>\n",
       "      <th>74196</th>\n",
       "      <td>2019-11-03 23:58:12</td>\n",
       "      <td>tips_show</td>\n",
       "      <td>28fccdf4-7b9e-42f5-bc73-439a265f20e9</td>\n",
       "      <td>google</td>\n",
       "      <td>2019-11-03</td>\n",
       "    </tr>\n",
       "  </tbody>\n",
       "</table>\n",
       "<p>74197 rows × 5 columns</p>\n",
       "</div>"
      ],
      "text/plain": [
       "                date_time   event_name                               user_id  \\\n",
       "0     2019-10-07 00:00:00  advert_open  020292ab-89bc-4156-9acf-68bc2783f894   \n",
       "1     2019-10-07 00:00:01  tips_show    020292ab-89bc-4156-9acf-68bc2783f894   \n",
       "2     2019-10-07 00:00:02  tips_show    cf7eda61-9349-469f-ac27-e5b6f5ec475c   \n",
       "3     2019-10-07 00:00:07  tips_show    020292ab-89bc-4156-9acf-68bc2783f894   \n",
       "4     2019-10-07 00:00:56  advert_open  cf7eda61-9349-469f-ac27-e5b6f5ec475c   \n",
       "...                   ...          ...                                   ...   \n",
       "74192 2019-11-03 23:53:29  tips_show    28fccdf4-7b9e-42f5-bc73-439a265f20e9   \n",
       "74193 2019-11-03 23:54:00  tips_show    28fccdf4-7b9e-42f5-bc73-439a265f20e9   \n",
       "74194 2019-11-03 23:56:57  search_1     20850c8f-4135-4059-b13b-198d3ac59902   \n",
       "74195 2019-11-03 23:57:06  tips_show    28fccdf4-7b9e-42f5-bc73-439a265f20e9   \n",
       "74196 2019-11-03 23:58:12  tips_show    28fccdf4-7b9e-42f5-bc73-439a265f20e9   \n",
       "\n",
       "       source       date  \n",
       "0      other  2019-10-07  \n",
       "1      other  2019-10-07  \n",
       "2      yandex 2019-10-07  \n",
       "3      other  2019-10-07  \n",
       "4      yandex 2019-10-07  \n",
       "...       ...        ...  \n",
       "74192  google 2019-11-03  \n",
       "74193  google 2019-11-03  \n",
       "74194  google 2019-11-03  \n",
       "74195  google 2019-11-03  \n",
       "74196  google 2019-11-03  \n",
       "\n",
       "[74197 rows x 5 columns]"
      ]
     },
     "execution_count": 98,
     "metadata": {},
     "output_type": "execute_result"
    }
   ],
   "source": [
    "df_mobile['date_time'] = pd.to_datetime(df_mobile['date_time'], format='%Y-%m-%d %H:%M:%S')\n",
    "df_mobile['date_time'] = df_mobile['date_time'].dt.strftime('%Y-%m-%d %H:%M:%S').astype('datetime64')\n",
    "df_mobile['date'] = pd.to_datetime(df_mobile['date_time'], format='%Y-%m-%d')\n",
    "df_mobile['date'] = df_mobile['date'].dt.strftime('%Y-%m-%d').astype('datetime64')\n",
    "df_mobile"
   ]
  },
  {
   "cell_type": "code",
   "execution_count": 99,
   "id": "689a8a6f",
   "metadata": {},
   "outputs": [
    {
     "name": "stdout",
     "output_type": "stream",
     "text": [
      "Количество пропусков в столбцах датафрейма: date_time     0\n",
      "event_name    0\n",
      "user_id       0\n",
      "source        0\n",
      "date          0\n",
      "dtype: int64\n"
     ]
    }
   ],
   "source": [
    "print('Количество пропусков в столбцах датафрейма:', df_mobile.isna().sum())"
   ]
  },
  {
   "cell_type": "code",
   "execution_count": 100,
   "id": "7070a1a6",
   "metadata": {},
   "outputs": [
    {
     "data": {
      "text/plain": [
       "tips_show        40055\n",
       "photos_show      10012\n",
       "advert_open      6164 \n",
       "contacts_show    4450 \n",
       "map              3881 \n",
       "search_1         3506 \n",
       "favorites_add    1417 \n",
       "search_5         1049 \n",
       "tips_click       814  \n",
       "search_4         701  \n",
       "contacts_call    541  \n",
       "search_3         522  \n",
       "search_6         460  \n",
       "search_2         324  \n",
       "search_7         222  \n",
       "show_contacts    79   \n",
       "Name: event_name, dtype: int64"
      ]
     },
     "execution_count": 100,
     "metadata": {},
     "output_type": "execute_result"
    }
   ],
   "source": [
    "df_mobile['event_name'].value_counts()"
   ]
  },
  {
   "cell_type": "markdown",
   "id": "bd44060e",
   "metadata": {},
   "source": [
    "Объединим похожие события в одно, такие как: contacts_show и show_contacts, search_1 — search_7. Это не ошибка, но скорее всего связано с человеческим фактором заполнения данных. "
   ]
  },
  {
   "cell_type": "code",
   "execution_count": 101,
   "id": "1c805f58",
   "metadata": {},
   "outputs": [
    {
     "data": {
      "text/html": [
       "<div>\n",
       "<style scoped>\n",
       "    .dataframe tbody tr th:only-of-type {\n",
       "        vertical-align: middle;\n",
       "    }\n",
       "\n",
       "    .dataframe tbody tr th {\n",
       "        vertical-align: top;\n",
       "    }\n",
       "\n",
       "    .dataframe thead th {\n",
       "        text-align: right;\n",
       "    }\n",
       "</style>\n",
       "<table border=\"1\" class=\"dataframe\">\n",
       "  <thead>\n",
       "    <tr style=\"text-align: right;\">\n",
       "      <th></th>\n",
       "      <th>date_time</th>\n",
       "      <th>event_name</th>\n",
       "      <th>user_id</th>\n",
       "      <th>source</th>\n",
       "      <th>date</th>\n",
       "    </tr>\n",
       "  </thead>\n",
       "  <tbody>\n",
       "    <tr>\n",
       "      <th>0</th>\n",
       "      <td>2019-10-07 00:00:00</td>\n",
       "      <td>advert_open</td>\n",
       "      <td>020292ab-89bc-4156-9acf-68bc2783f894</td>\n",
       "      <td>other</td>\n",
       "      <td>2019-10-07</td>\n",
       "    </tr>\n",
       "    <tr>\n",
       "      <th>1</th>\n",
       "      <td>2019-10-07 00:00:01</td>\n",
       "      <td>tips_show</td>\n",
       "      <td>020292ab-89bc-4156-9acf-68bc2783f894</td>\n",
       "      <td>other</td>\n",
       "      <td>2019-10-07</td>\n",
       "    </tr>\n",
       "    <tr>\n",
       "      <th>2</th>\n",
       "      <td>2019-10-07 00:00:02</td>\n",
       "      <td>tips_show</td>\n",
       "      <td>cf7eda61-9349-469f-ac27-e5b6f5ec475c</td>\n",
       "      <td>yandex</td>\n",
       "      <td>2019-10-07</td>\n",
       "    </tr>\n",
       "    <tr>\n",
       "      <th>3</th>\n",
       "      <td>2019-10-07 00:00:07</td>\n",
       "      <td>tips_show</td>\n",
       "      <td>020292ab-89bc-4156-9acf-68bc2783f894</td>\n",
       "      <td>other</td>\n",
       "      <td>2019-10-07</td>\n",
       "    </tr>\n",
       "    <tr>\n",
       "      <th>4</th>\n",
       "      <td>2019-10-07 00:00:56</td>\n",
       "      <td>advert_open</td>\n",
       "      <td>cf7eda61-9349-469f-ac27-e5b6f5ec475c</td>\n",
       "      <td>yandex</td>\n",
       "      <td>2019-10-07</td>\n",
       "    </tr>\n",
       "    <tr>\n",
       "      <th>...</th>\n",
       "      <td>...</td>\n",
       "      <td>...</td>\n",
       "      <td>...</td>\n",
       "      <td>...</td>\n",
       "      <td>...</td>\n",
       "    </tr>\n",
       "    <tr>\n",
       "      <th>74192</th>\n",
       "      <td>2019-11-03 23:53:29</td>\n",
       "      <td>tips_show</td>\n",
       "      <td>28fccdf4-7b9e-42f5-bc73-439a265f20e9</td>\n",
       "      <td>google</td>\n",
       "      <td>2019-11-03</td>\n",
       "    </tr>\n",
       "    <tr>\n",
       "      <th>74193</th>\n",
       "      <td>2019-11-03 23:54:00</td>\n",
       "      <td>tips_show</td>\n",
       "      <td>28fccdf4-7b9e-42f5-bc73-439a265f20e9</td>\n",
       "      <td>google</td>\n",
       "      <td>2019-11-03</td>\n",
       "    </tr>\n",
       "    <tr>\n",
       "      <th>74194</th>\n",
       "      <td>2019-11-03 23:56:57</td>\n",
       "      <td>search</td>\n",
       "      <td>20850c8f-4135-4059-b13b-198d3ac59902</td>\n",
       "      <td>google</td>\n",
       "      <td>2019-11-03</td>\n",
       "    </tr>\n",
       "    <tr>\n",
       "      <th>74195</th>\n",
       "      <td>2019-11-03 23:57:06</td>\n",
       "      <td>tips_show</td>\n",
       "      <td>28fccdf4-7b9e-42f5-bc73-439a265f20e9</td>\n",
       "      <td>google</td>\n",
       "      <td>2019-11-03</td>\n",
       "    </tr>\n",
       "    <tr>\n",
       "      <th>74196</th>\n",
       "      <td>2019-11-03 23:58:12</td>\n",
       "      <td>tips_show</td>\n",
       "      <td>28fccdf4-7b9e-42f5-bc73-439a265f20e9</td>\n",
       "      <td>google</td>\n",
       "      <td>2019-11-03</td>\n",
       "    </tr>\n",
       "  </tbody>\n",
       "</table>\n",
       "<p>74197 rows × 5 columns</p>\n",
       "</div>"
      ],
      "text/plain": [
       "                date_time   event_name                               user_id  \\\n",
       "0     2019-10-07 00:00:00  advert_open  020292ab-89bc-4156-9acf-68bc2783f894   \n",
       "1     2019-10-07 00:00:01  tips_show    020292ab-89bc-4156-9acf-68bc2783f894   \n",
       "2     2019-10-07 00:00:02  tips_show    cf7eda61-9349-469f-ac27-e5b6f5ec475c   \n",
       "3     2019-10-07 00:00:07  tips_show    020292ab-89bc-4156-9acf-68bc2783f894   \n",
       "4     2019-10-07 00:00:56  advert_open  cf7eda61-9349-469f-ac27-e5b6f5ec475c   \n",
       "...                   ...          ...                                   ...   \n",
       "74192 2019-11-03 23:53:29  tips_show    28fccdf4-7b9e-42f5-bc73-439a265f20e9   \n",
       "74193 2019-11-03 23:54:00  tips_show    28fccdf4-7b9e-42f5-bc73-439a265f20e9   \n",
       "74194 2019-11-03 23:56:57  search       20850c8f-4135-4059-b13b-198d3ac59902   \n",
       "74195 2019-11-03 23:57:06  tips_show    28fccdf4-7b9e-42f5-bc73-439a265f20e9   \n",
       "74196 2019-11-03 23:58:12  tips_show    28fccdf4-7b9e-42f5-bc73-439a265f20e9   \n",
       "\n",
       "       source       date  \n",
       "0      other  2019-10-07  \n",
       "1      other  2019-10-07  \n",
       "2      yandex 2019-10-07  \n",
       "3      other  2019-10-07  \n",
       "4      yandex 2019-10-07  \n",
       "...       ...        ...  \n",
       "74192  google 2019-11-03  \n",
       "74193  google 2019-11-03  \n",
       "74194  google 2019-11-03  \n",
       "74195  google 2019-11-03  \n",
       "74196  google 2019-11-03  \n",
       "\n",
       "[74197 rows x 5 columns]"
      ]
     },
     "execution_count": 101,
     "metadata": {},
     "output_type": "execute_result"
    }
   ],
   "source": [
    "def replace(raw):\n",
    "    if raw =='show_contacts':\n",
    "        return 'contacts_show'\n",
    "    elif 'search' in raw:\n",
    "        return 'search'\n",
    "    return raw\n",
    "df_mobile['event_name'] = df_mobile['event_name'].apply(replace)\n",
    "df_mobile"
   ]
  },
  {
   "cell_type": "markdown",
   "id": "9be6033f",
   "metadata": {},
   "source": [
    "Провела предобработку данных, попсмотрела пропуски и дубликаты, переменовала столбцы, и почистила данне для лучшего анализа в столбце 'event_name'. Данные готовы к исследовательскому анализу."
   ]
  },
  {
   "cell_type": "markdown",
   "id": "5b4f7bf6",
   "metadata": {},
   "source": [
    "# Исследовательский анализ"
   ]
  },
  {
   "cell_type": "markdown",
   "id": "49786350",
   "metadata": {},
   "source": [
    "2.1 Выявить период, которым мы располагаем. Найти максимальную и минимальную дату"
   ]
  },
  {
   "cell_type": "code",
   "execution_count": 102,
   "id": "de648133",
   "metadata": {},
   "outputs": [
    {
     "name": "stdout",
     "output_type": "stream",
     "text": [
      "Минимальная дата события: 2019-10-07 00:00:00\n",
      "Максимальная дата события: 2019-11-03 23:58:12\n"
     ]
    }
   ],
   "source": [
    "print('Минимальная дата события:', df_mobile['date_time'].min())\n",
    "print('Максимальная дата события:', df_mobile['date_time'].max())"
   ]
  },
  {
   "cell_type": "markdown",
   "id": "9e786a40",
   "metadata": {},
   "source": [
    "2.2 Посмотреть на распределение событий по дням"
   ]
  },
  {
   "cell_type": "code",
   "execution_count": 103,
   "id": "a2270339",
   "metadata": {},
   "outputs": [
    {
     "name": "stdout",
     "output_type": "stream",
     "text": [
      "Кол-во событий - 74197\n",
      "Кол-во событий которое совершает один пользователь за день - 17.3\n"
     ]
    }
   ],
   "source": [
    "print('Кол-во событий -', df_mobile['event_name'].count())\n",
    "print('Кол-во событий которое совершает один пользователь за день -', round(df_mobile.groupby('user_id')['event_name'].count().mean(), 1))"
   ]
  },
  {
   "cell_type": "code",
   "execution_count": 104,
   "id": "f117e8d2",
   "metadata": {},
   "outputs": [],
   "source": [
    "events = df_mobile.groupby(['date', 'event_name']).agg({'date_time':'count'}).reset_index()\n",
    "events.columns = ['date', 'event_name', 'event_count']\n",
    "counting = events.groupby('date').agg({'event_count':'sum'})['event_count'].reset_index()\n",
    "counting.columns = ['date', 'event_sum']\n",
    "events = events.merge(counting, on='date', how='left')"
   ]
  },
  {
   "cell_type": "code",
   "execution_count": 105,
   "id": "cbf5d249",
   "metadata": {},
   "outputs": [
    {
     "data": {
      "application/vnd.plotly.v1+json": {
       "config": {
        "plotlyServerURL": "https://plot.ly"
       },
       "data": [
        {
         "alignmentgroup": "True",
         "hovertemplate": "event_name=advert_open<br>date=%{x}<br>event_count=%{y}<extra></extra>",
         "legendgroup": "advert_open",
         "marker": {
          "color": "#636efa",
          "pattern": {
           "shape": ""
          }
         },
         "name": "advert_open",
         "offsetgroup": "advert_open",
         "orientation": "v",
         "showlegend": true,
         "textposition": "auto",
         "type": "bar",
         "x": [
          "2019-10-07T00:00:00",
          "2019-10-08T00:00:00",
          "2019-10-09T00:00:00",
          "2019-10-10T00:00:00",
          "2019-10-11T00:00:00",
          "2019-10-12T00:00:00",
          "2019-10-13T00:00:00",
          "2019-10-14T00:00:00",
          "2019-10-15T00:00:00",
          "2019-10-16T00:00:00",
          "2019-10-17T00:00:00",
          "2019-10-18T00:00:00",
          "2019-10-19T00:00:00",
          "2019-10-20T00:00:00",
          "2019-10-21T00:00:00",
          "2019-10-22T00:00:00",
          "2019-10-23T00:00:00",
          "2019-10-24T00:00:00",
          "2019-10-25T00:00:00",
          "2019-10-26T00:00:00",
          "2019-10-27T00:00:00",
          "2019-10-28T00:00:00",
          "2019-10-29T00:00:00",
          "2019-10-30T00:00:00",
          "2019-10-31T00:00:00",
          "2019-11-01T00:00:00",
          "2019-11-02T00:00:00",
          "2019-11-03T00:00:00"
         ],
         "xaxis": "x",
         "y": [
          401,
          206,
          130,
          105,
          109,
          141,
          286,
          166,
          297,
          254,
          164,
          186,
          191,
          132,
          249,
          164,
          224,
          244,
          215,
          274,
          287,
          305,
          285,
          237,
          270,
          228,
          88,
          326
         ],
         "yaxis": "y"
        },
        {
         "alignmentgroup": "True",
         "hovertemplate": "event_name=contacts_call<br>date=%{x}<br>event_count=%{y}<extra></extra>",
         "legendgroup": "contacts_call",
         "marker": {
          "color": "#EF553B",
          "pattern": {
           "shape": ""
          }
         },
         "name": "contacts_call",
         "offsetgroup": "contacts_call",
         "orientation": "v",
         "showlegend": true,
         "textposition": "auto",
         "type": "bar",
         "x": [
          "2019-10-07T00:00:00",
          "2019-10-08T00:00:00",
          "2019-10-09T00:00:00",
          "2019-10-10T00:00:00",
          "2019-10-11T00:00:00",
          "2019-10-12T00:00:00",
          "2019-10-13T00:00:00",
          "2019-10-14T00:00:00",
          "2019-10-15T00:00:00",
          "2019-10-16T00:00:00",
          "2019-10-17T00:00:00",
          "2019-10-18T00:00:00",
          "2019-10-19T00:00:00",
          "2019-10-20T00:00:00",
          "2019-10-21T00:00:00",
          "2019-10-22T00:00:00",
          "2019-10-23T00:00:00",
          "2019-10-24T00:00:00",
          "2019-10-25T00:00:00",
          "2019-10-26T00:00:00",
          "2019-10-27T00:00:00",
          "2019-10-28T00:00:00",
          "2019-10-29T00:00:00",
          "2019-10-30T00:00:00",
          "2019-10-31T00:00:00",
          "2019-11-01T00:00:00",
          "2019-11-02T00:00:00",
          "2019-11-03T00:00:00"
         ],
         "xaxis": "x",
         "y": [
          7,
          23,
          10,
          19,
          6,
          10,
          4,
          20,
          32,
          17,
          35,
          16,
          20,
          30,
          15,
          19,
          22,
          35,
          19,
          19,
          16,
          31,
          12,
          25,
          29,
          12,
          18,
          20
         ],
         "yaxis": "y"
        },
        {
         "alignmentgroup": "True",
         "hovertemplate": "event_name=contacts_show<br>date=%{x}<br>event_count=%{y}<extra></extra>",
         "legendgroup": "contacts_show",
         "marker": {
          "color": "#00cc96",
          "pattern": {
           "shape": ""
          }
         },
         "name": "contacts_show",
         "offsetgroup": "contacts_show",
         "orientation": "v",
         "showlegend": true,
         "textposition": "auto",
         "type": "bar",
         "x": [
          "2019-10-07T00:00:00",
          "2019-10-08T00:00:00",
          "2019-10-09T00:00:00",
          "2019-10-10T00:00:00",
          "2019-10-11T00:00:00",
          "2019-10-12T00:00:00",
          "2019-10-13T00:00:00",
          "2019-10-14T00:00:00",
          "2019-10-15T00:00:00",
          "2019-10-16T00:00:00",
          "2019-10-17T00:00:00",
          "2019-10-18T00:00:00",
          "2019-10-19T00:00:00",
          "2019-10-20T00:00:00",
          "2019-10-21T00:00:00",
          "2019-10-22T00:00:00",
          "2019-10-23T00:00:00",
          "2019-10-24T00:00:00",
          "2019-10-25T00:00:00",
          "2019-10-26T00:00:00",
          "2019-10-27T00:00:00",
          "2019-10-28T00:00:00",
          "2019-10-29T00:00:00",
          "2019-10-30T00:00:00",
          "2019-10-31T00:00:00",
          "2019-11-01T00:00:00",
          "2019-11-02T00:00:00",
          "2019-11-03T00:00:00"
         ],
         "xaxis": "x",
         "y": [
          61,
          119,
          99,
          106,
          88,
          54,
          107,
          212,
          212,
          187,
          265,
          166,
          90,
          183,
          175,
          215,
          239,
          220,
          188,
          181,
          101,
          198,
          162,
          190,
          234,
          223,
          122,
          132
         ],
         "yaxis": "y"
        },
        {
         "alignmentgroup": "True",
         "hovertemplate": "event_name=favorites_add<br>date=%{x}<br>event_count=%{y}<extra></extra>",
         "legendgroup": "favorites_add",
         "marker": {
          "color": "#ab63fa",
          "pattern": {
           "shape": ""
          }
         },
         "name": "favorites_add",
         "offsetgroup": "favorites_add",
         "orientation": "v",
         "showlegend": true,
         "textposition": "auto",
         "type": "bar",
         "x": [
          "2019-10-07T00:00:00",
          "2019-10-08T00:00:00",
          "2019-10-09T00:00:00",
          "2019-10-10T00:00:00",
          "2019-10-11T00:00:00",
          "2019-10-12T00:00:00",
          "2019-10-13T00:00:00",
          "2019-10-14T00:00:00",
          "2019-10-15T00:00:00",
          "2019-10-16T00:00:00",
          "2019-10-17T00:00:00",
          "2019-10-18T00:00:00",
          "2019-10-19T00:00:00",
          "2019-10-20T00:00:00",
          "2019-10-21T00:00:00",
          "2019-10-22T00:00:00",
          "2019-10-23T00:00:00",
          "2019-10-24T00:00:00",
          "2019-10-25T00:00:00",
          "2019-10-26T00:00:00",
          "2019-10-27T00:00:00",
          "2019-10-28T00:00:00",
          "2019-10-29T00:00:00",
          "2019-10-30T00:00:00",
          "2019-10-31T00:00:00",
          "2019-11-01T00:00:00",
          "2019-11-02T00:00:00",
          "2019-11-03T00:00:00"
         ],
         "xaxis": "x",
         "y": [
          40,
          97,
          43,
          30,
          16,
          37,
          44,
          49,
          63,
          21,
          56,
          35,
          42,
          50,
          35,
          67,
          55,
          68,
          51,
          38,
          70,
          18,
          76,
          120,
          37,
          40,
          44,
          75
         ],
         "yaxis": "y"
        },
        {
         "alignmentgroup": "True",
         "hovertemplate": "event_name=map<br>date=%{x}<br>event_count=%{y}<extra></extra>",
         "legendgroup": "map",
         "marker": {
          "color": "#FFA15A",
          "pattern": {
           "shape": ""
          }
         },
         "name": "map",
         "offsetgroup": "map",
         "orientation": "v",
         "showlegend": true,
         "textposition": "auto",
         "type": "bar",
         "x": [
          "2019-10-07T00:00:00",
          "2019-10-08T00:00:00",
          "2019-10-09T00:00:00",
          "2019-10-10T00:00:00",
          "2019-10-11T00:00:00",
          "2019-10-12T00:00:00",
          "2019-10-13T00:00:00",
          "2019-10-14T00:00:00",
          "2019-10-15T00:00:00",
          "2019-10-16T00:00:00",
          "2019-10-17T00:00:00",
          "2019-10-18T00:00:00",
          "2019-10-19T00:00:00",
          "2019-10-20T00:00:00",
          "2019-10-21T00:00:00",
          "2019-10-22T00:00:00",
          "2019-10-23T00:00:00",
          "2019-10-24T00:00:00",
          "2019-10-25T00:00:00",
          "2019-10-26T00:00:00",
          "2019-10-27T00:00:00",
          "2019-10-28T00:00:00",
          "2019-10-29T00:00:00",
          "2019-10-30T00:00:00",
          "2019-10-31T00:00:00",
          "2019-11-01T00:00:00",
          "2019-11-02T00:00:00",
          "2019-11-03T00:00:00"
         ],
         "xaxis": "x",
         "y": [
          168,
          261,
          133,
          163,
          108,
          112,
          152,
          179,
          148,
          148,
          160,
          127,
          122,
          131,
          263,
          149,
          196,
          163,
          119,
          141,
          123,
          226,
          84,
          68,
          61,
          72,
          39,
          65
         ],
         "yaxis": "y"
        },
        {
         "alignmentgroup": "True",
         "hovertemplate": "event_name=photos_show<br>date=%{x}<br>event_count=%{y}<extra></extra>",
         "legendgroup": "photos_show",
         "marker": {
          "color": "#19d3f3",
          "pattern": {
           "shape": ""
          }
         },
         "name": "photos_show",
         "offsetgroup": "photos_show",
         "orientation": "v",
         "showlegend": true,
         "textposition": "auto",
         "type": "bar",
         "x": [
          "2019-10-07T00:00:00",
          "2019-10-08T00:00:00",
          "2019-10-09T00:00:00",
          "2019-10-10T00:00:00",
          "2019-10-11T00:00:00",
          "2019-10-12T00:00:00",
          "2019-10-13T00:00:00",
          "2019-10-14T00:00:00",
          "2019-10-15T00:00:00",
          "2019-10-16T00:00:00",
          "2019-10-17T00:00:00",
          "2019-10-18T00:00:00",
          "2019-10-19T00:00:00",
          "2019-10-20T00:00:00",
          "2019-10-21T00:00:00",
          "2019-10-22T00:00:00",
          "2019-10-23T00:00:00",
          "2019-10-24T00:00:00",
          "2019-10-25T00:00:00",
          "2019-10-26T00:00:00",
          "2019-10-27T00:00:00",
          "2019-10-28T00:00:00",
          "2019-10-29T00:00:00",
          "2019-10-30T00:00:00",
          "2019-10-31T00:00:00",
          "2019-11-01T00:00:00",
          "2019-11-02T00:00:00",
          "2019-11-03T00:00:00"
         ],
         "xaxis": "x",
         "y": [
          230,
          239,
          235,
          218,
          381,
          302,
          373,
          324,
          344,
          279,
          347,
          333,
          454,
          405,
          316,
          358,
          502,
          378,
          352,
          577,
          507,
          332,
          375,
          313,
          348,
          305,
          331,
          554
         ],
         "yaxis": "y"
        },
        {
         "alignmentgroup": "True",
         "hovertemplate": "event_name=search<br>date=%{x}<br>event_count=%{y}<extra></extra>",
         "legendgroup": "search",
         "marker": {
          "color": "#FF6692",
          "pattern": {
           "shape": ""
          }
         },
         "name": "search",
         "offsetgroup": "search",
         "orientation": "v",
         "showlegend": true,
         "textposition": "auto",
         "type": "bar",
         "x": [
          "2019-10-07T00:00:00",
          "2019-10-08T00:00:00",
          "2019-10-09T00:00:00",
          "2019-10-10T00:00:00",
          "2019-10-11T00:00:00",
          "2019-10-12T00:00:00",
          "2019-10-13T00:00:00",
          "2019-10-14T00:00:00",
          "2019-10-15T00:00:00",
          "2019-10-16T00:00:00",
          "2019-10-17T00:00:00",
          "2019-10-18T00:00:00",
          "2019-10-19T00:00:00",
          "2019-10-20T00:00:00",
          "2019-10-21T00:00:00",
          "2019-10-22T00:00:00",
          "2019-10-23T00:00:00",
          "2019-10-24T00:00:00",
          "2019-10-25T00:00:00",
          "2019-10-26T00:00:00",
          "2019-10-27T00:00:00",
          "2019-10-28T00:00:00",
          "2019-10-29T00:00:00",
          "2019-10-30T00:00:00",
          "2019-10-31T00:00:00",
          "2019-11-01T00:00:00",
          "2019-11-02T00:00:00",
          "2019-11-03T00:00:00"
         ],
         "xaxis": "x",
         "y": [
          127,
          212,
          178,
          185,
          202,
          173,
          194,
          238,
          241,
          239,
          187,
          268,
          231,
          223,
          268,
          283,
          278,
          290,
          253,
          317,
          268,
          315,
          370,
          292,
          247,
          216,
          210,
          279
         ],
         "yaxis": "y"
        },
        {
         "alignmentgroup": "True",
         "hovertemplate": "event_name=tips_click<br>date=%{x}<br>event_count=%{y}<extra></extra>",
         "legendgroup": "tips_click",
         "marker": {
          "color": "#B6E880",
          "pattern": {
           "shape": ""
          }
         },
         "name": "tips_click",
         "offsetgroup": "tips_click",
         "orientation": "v",
         "showlegend": true,
         "textposition": "auto",
         "type": "bar",
         "x": [
          "2019-10-07T00:00:00",
          "2019-10-08T00:00:00",
          "2019-10-09T00:00:00",
          "2019-10-10T00:00:00",
          "2019-10-11T00:00:00",
          "2019-10-12T00:00:00",
          "2019-10-13T00:00:00",
          "2019-10-14T00:00:00",
          "2019-10-15T00:00:00",
          "2019-10-16T00:00:00",
          "2019-10-17T00:00:00",
          "2019-10-18T00:00:00",
          "2019-10-19T00:00:00",
          "2019-10-20T00:00:00",
          "2019-10-21T00:00:00",
          "2019-10-22T00:00:00",
          "2019-10-23T00:00:00",
          "2019-10-24T00:00:00",
          "2019-10-25T00:00:00",
          "2019-10-26T00:00:00",
          "2019-10-27T00:00:00",
          "2019-10-28T00:00:00",
          "2019-10-29T00:00:00",
          "2019-10-30T00:00:00",
          "2019-10-31T00:00:00",
          "2019-11-01T00:00:00",
          "2019-11-02T00:00:00",
          "2019-11-03T00:00:00"
         ],
         "xaxis": "x",
         "y": [
          27,
          26,
          17,
          27,
          17,
          17,
          11,
          43,
          25,
          20,
          42,
          37,
          9,
          26,
          29,
          25,
          37,
          28,
          25,
          43,
          53,
          48,
          37,
          37,
          23,
          43,
          14,
          28
         ],
         "yaxis": "y"
        },
        {
         "alignmentgroup": "True",
         "hovertemplate": "event_name=tips_show<br>date=%{x}<br>event_count=%{y}<extra></extra>",
         "legendgroup": "tips_show",
         "marker": {
          "color": "#FF97FF",
          "pattern": {
           "shape": ""
          }
         },
         "name": "tips_show",
         "offsetgroup": "tips_show",
         "orientation": "v",
         "showlegend": true,
         "textposition": "auto",
         "type": "bar",
         "x": [
          "2019-10-07T00:00:00",
          "2019-10-08T00:00:00",
          "2019-10-09T00:00:00",
          "2019-10-10T00:00:00",
          "2019-10-11T00:00:00",
          "2019-10-12T00:00:00",
          "2019-10-13T00:00:00",
          "2019-10-14T00:00:00",
          "2019-10-15T00:00:00",
          "2019-10-16T00:00:00",
          "2019-10-17T00:00:00",
          "2019-10-18T00:00:00",
          "2019-10-19T00:00:00",
          "2019-10-20T00:00:00",
          "2019-10-21T00:00:00",
          "2019-10-22T00:00:00",
          "2019-10-23T00:00:00",
          "2019-10-24T00:00:00",
          "2019-10-25T00:00:00",
          "2019-10-26T00:00:00",
          "2019-10-27T00:00:00",
          "2019-10-28T00:00:00",
          "2019-10-29T00:00:00",
          "2019-10-30T00:00:00",
          "2019-10-31T00:00:00",
          "2019-11-01T00:00:00",
          "2019-11-02T00:00:00",
          "2019-11-03T00:00:00"
         ],
         "xaxis": "x",
         "y": [
          1484,
          1316,
          1182,
          1390,
          1103,
          997,
          1464,
          1803,
          1360,
          1565,
          1362,
          1576,
          1172,
          964,
          1558,
          1448,
          1808,
          1607,
          1396,
          1537,
          1436,
          1711,
          1795,
          1595,
          1619,
          1438,
          987,
          1382
         ],
         "yaxis": "y"
        }
       ],
       "layout": {
        "barmode": "relative",
        "legend": {
         "title": {
          "text": "event_name"
         },
         "tracegroupgap": 0
        },
        "template": {
         "data": {
          "bar": [
           {
            "error_x": {
             "color": "#2a3f5f"
            },
            "error_y": {
             "color": "#2a3f5f"
            },
            "marker": {
             "line": {
              "color": "#E5ECF6",
              "width": 0.5
             },
             "pattern": {
              "fillmode": "overlay",
              "size": 10,
              "solidity": 0.2
             }
            },
            "type": "bar"
           }
          ],
          "barpolar": [
           {
            "marker": {
             "line": {
              "color": "#E5ECF6",
              "width": 0.5
             },
             "pattern": {
              "fillmode": "overlay",
              "size": 10,
              "solidity": 0.2
             }
            },
            "type": "barpolar"
           }
          ],
          "carpet": [
           {
            "aaxis": {
             "endlinecolor": "#2a3f5f",
             "gridcolor": "white",
             "linecolor": "white",
             "minorgridcolor": "white",
             "startlinecolor": "#2a3f5f"
            },
            "baxis": {
             "endlinecolor": "#2a3f5f",
             "gridcolor": "white",
             "linecolor": "white",
             "minorgridcolor": "white",
             "startlinecolor": "#2a3f5f"
            },
            "type": "carpet"
           }
          ],
          "choropleth": [
           {
            "colorbar": {
             "outlinewidth": 0,
             "ticks": ""
            },
            "type": "choropleth"
           }
          ],
          "contour": [
           {
            "colorbar": {
             "outlinewidth": 0,
             "ticks": ""
            },
            "colorscale": [
             [
              0,
              "#0d0887"
             ],
             [
              0.1111111111111111,
              "#46039f"
             ],
             [
              0.2222222222222222,
              "#7201a8"
             ],
             [
              0.3333333333333333,
              "#9c179e"
             ],
             [
              0.4444444444444444,
              "#bd3786"
             ],
             [
              0.5555555555555556,
              "#d8576b"
             ],
             [
              0.6666666666666666,
              "#ed7953"
             ],
             [
              0.7777777777777778,
              "#fb9f3a"
             ],
             [
              0.8888888888888888,
              "#fdca26"
             ],
             [
              1,
              "#f0f921"
             ]
            ],
            "type": "contour"
           }
          ],
          "contourcarpet": [
           {
            "colorbar": {
             "outlinewidth": 0,
             "ticks": ""
            },
            "type": "contourcarpet"
           }
          ],
          "heatmap": [
           {
            "colorbar": {
             "outlinewidth": 0,
             "ticks": ""
            },
            "colorscale": [
             [
              0,
              "#0d0887"
             ],
             [
              0.1111111111111111,
              "#46039f"
             ],
             [
              0.2222222222222222,
              "#7201a8"
             ],
             [
              0.3333333333333333,
              "#9c179e"
             ],
             [
              0.4444444444444444,
              "#bd3786"
             ],
             [
              0.5555555555555556,
              "#d8576b"
             ],
             [
              0.6666666666666666,
              "#ed7953"
             ],
             [
              0.7777777777777778,
              "#fb9f3a"
             ],
             [
              0.8888888888888888,
              "#fdca26"
             ],
             [
              1,
              "#f0f921"
             ]
            ],
            "type": "heatmap"
           }
          ],
          "heatmapgl": [
           {
            "colorbar": {
             "outlinewidth": 0,
             "ticks": ""
            },
            "colorscale": [
             [
              0,
              "#0d0887"
             ],
             [
              0.1111111111111111,
              "#46039f"
             ],
             [
              0.2222222222222222,
              "#7201a8"
             ],
             [
              0.3333333333333333,
              "#9c179e"
             ],
             [
              0.4444444444444444,
              "#bd3786"
             ],
             [
              0.5555555555555556,
              "#d8576b"
             ],
             [
              0.6666666666666666,
              "#ed7953"
             ],
             [
              0.7777777777777778,
              "#fb9f3a"
             ],
             [
              0.8888888888888888,
              "#fdca26"
             ],
             [
              1,
              "#f0f921"
             ]
            ],
            "type": "heatmapgl"
           }
          ],
          "histogram": [
           {
            "marker": {
             "pattern": {
              "fillmode": "overlay",
              "size": 10,
              "solidity": 0.2
             }
            },
            "type": "histogram"
           }
          ],
          "histogram2d": [
           {
            "colorbar": {
             "outlinewidth": 0,
             "ticks": ""
            },
            "colorscale": [
             [
              0,
              "#0d0887"
             ],
             [
              0.1111111111111111,
              "#46039f"
             ],
             [
              0.2222222222222222,
              "#7201a8"
             ],
             [
              0.3333333333333333,
              "#9c179e"
             ],
             [
              0.4444444444444444,
              "#bd3786"
             ],
             [
              0.5555555555555556,
              "#d8576b"
             ],
             [
              0.6666666666666666,
              "#ed7953"
             ],
             [
              0.7777777777777778,
              "#fb9f3a"
             ],
             [
              0.8888888888888888,
              "#fdca26"
             ],
             [
              1,
              "#f0f921"
             ]
            ],
            "type": "histogram2d"
           }
          ],
          "histogram2dcontour": [
           {
            "colorbar": {
             "outlinewidth": 0,
             "ticks": ""
            },
            "colorscale": [
             [
              0,
              "#0d0887"
             ],
             [
              0.1111111111111111,
              "#46039f"
             ],
             [
              0.2222222222222222,
              "#7201a8"
             ],
             [
              0.3333333333333333,
              "#9c179e"
             ],
             [
              0.4444444444444444,
              "#bd3786"
             ],
             [
              0.5555555555555556,
              "#d8576b"
             ],
             [
              0.6666666666666666,
              "#ed7953"
             ],
             [
              0.7777777777777778,
              "#fb9f3a"
             ],
             [
              0.8888888888888888,
              "#fdca26"
             ],
             [
              1,
              "#f0f921"
             ]
            ],
            "type": "histogram2dcontour"
           }
          ],
          "mesh3d": [
           {
            "colorbar": {
             "outlinewidth": 0,
             "ticks": ""
            },
            "type": "mesh3d"
           }
          ],
          "parcoords": [
           {
            "line": {
             "colorbar": {
              "outlinewidth": 0,
              "ticks": ""
             }
            },
            "type": "parcoords"
           }
          ],
          "pie": [
           {
            "automargin": true,
            "type": "pie"
           }
          ],
          "scatter": [
           {
            "fillpattern": {
             "fillmode": "overlay",
             "size": 10,
             "solidity": 0.2
            },
            "type": "scatter"
           }
          ],
          "scatter3d": [
           {
            "line": {
             "colorbar": {
              "outlinewidth": 0,
              "ticks": ""
             }
            },
            "marker": {
             "colorbar": {
              "outlinewidth": 0,
              "ticks": ""
             }
            },
            "type": "scatter3d"
           }
          ],
          "scattercarpet": [
           {
            "marker": {
             "colorbar": {
              "outlinewidth": 0,
              "ticks": ""
             }
            },
            "type": "scattercarpet"
           }
          ],
          "scattergeo": [
           {
            "marker": {
             "colorbar": {
              "outlinewidth": 0,
              "ticks": ""
             }
            },
            "type": "scattergeo"
           }
          ],
          "scattergl": [
           {
            "marker": {
             "colorbar": {
              "outlinewidth": 0,
              "ticks": ""
             }
            },
            "type": "scattergl"
           }
          ],
          "scattermapbox": [
           {
            "marker": {
             "colorbar": {
              "outlinewidth": 0,
              "ticks": ""
             }
            },
            "type": "scattermapbox"
           }
          ],
          "scatterpolar": [
           {
            "marker": {
             "colorbar": {
              "outlinewidth": 0,
              "ticks": ""
             }
            },
            "type": "scatterpolar"
           }
          ],
          "scatterpolargl": [
           {
            "marker": {
             "colorbar": {
              "outlinewidth": 0,
              "ticks": ""
             }
            },
            "type": "scatterpolargl"
           }
          ],
          "scatterternary": [
           {
            "marker": {
             "colorbar": {
              "outlinewidth": 0,
              "ticks": ""
             }
            },
            "type": "scatterternary"
           }
          ],
          "surface": [
           {
            "colorbar": {
             "outlinewidth": 0,
             "ticks": ""
            },
            "colorscale": [
             [
              0,
              "#0d0887"
             ],
             [
              0.1111111111111111,
              "#46039f"
             ],
             [
              0.2222222222222222,
              "#7201a8"
             ],
             [
              0.3333333333333333,
              "#9c179e"
             ],
             [
              0.4444444444444444,
              "#bd3786"
             ],
             [
              0.5555555555555556,
              "#d8576b"
             ],
             [
              0.6666666666666666,
              "#ed7953"
             ],
             [
              0.7777777777777778,
              "#fb9f3a"
             ],
             [
              0.8888888888888888,
              "#fdca26"
             ],
             [
              1,
              "#f0f921"
             ]
            ],
            "type": "surface"
           }
          ],
          "table": [
           {
            "cells": {
             "fill": {
              "color": "#EBF0F8"
             },
             "line": {
              "color": "white"
             }
            },
            "header": {
             "fill": {
              "color": "#C8D4E3"
             },
             "line": {
              "color": "white"
             }
            },
            "type": "table"
           }
          ]
         },
         "layout": {
          "annotationdefaults": {
           "arrowcolor": "#2a3f5f",
           "arrowhead": 0,
           "arrowwidth": 1
          },
          "autotypenumbers": "strict",
          "coloraxis": {
           "colorbar": {
            "outlinewidth": 0,
            "ticks": ""
           }
          },
          "colorscale": {
           "diverging": [
            [
             0,
             "#8e0152"
            ],
            [
             0.1,
             "#c51b7d"
            ],
            [
             0.2,
             "#de77ae"
            ],
            [
             0.3,
             "#f1b6da"
            ],
            [
             0.4,
             "#fde0ef"
            ],
            [
             0.5,
             "#f7f7f7"
            ],
            [
             0.6,
             "#e6f5d0"
            ],
            [
             0.7,
             "#b8e186"
            ],
            [
             0.8,
             "#7fbc41"
            ],
            [
             0.9,
             "#4d9221"
            ],
            [
             1,
             "#276419"
            ]
           ],
           "sequential": [
            [
             0,
             "#0d0887"
            ],
            [
             0.1111111111111111,
             "#46039f"
            ],
            [
             0.2222222222222222,
             "#7201a8"
            ],
            [
             0.3333333333333333,
             "#9c179e"
            ],
            [
             0.4444444444444444,
             "#bd3786"
            ],
            [
             0.5555555555555556,
             "#d8576b"
            ],
            [
             0.6666666666666666,
             "#ed7953"
            ],
            [
             0.7777777777777778,
             "#fb9f3a"
            ],
            [
             0.8888888888888888,
             "#fdca26"
            ],
            [
             1,
             "#f0f921"
            ]
           ],
           "sequentialminus": [
            [
             0,
             "#0d0887"
            ],
            [
             0.1111111111111111,
             "#46039f"
            ],
            [
             0.2222222222222222,
             "#7201a8"
            ],
            [
             0.3333333333333333,
             "#9c179e"
            ],
            [
             0.4444444444444444,
             "#bd3786"
            ],
            [
             0.5555555555555556,
             "#d8576b"
            ],
            [
             0.6666666666666666,
             "#ed7953"
            ],
            [
             0.7777777777777778,
             "#fb9f3a"
            ],
            [
             0.8888888888888888,
             "#fdca26"
            ],
            [
             1,
             "#f0f921"
            ]
           ]
          },
          "colorway": [
           "#636efa",
           "#EF553B",
           "#00cc96",
           "#ab63fa",
           "#FFA15A",
           "#19d3f3",
           "#FF6692",
           "#B6E880",
           "#FF97FF",
           "#FECB52"
          ],
          "font": {
           "color": "#2a3f5f"
          },
          "geo": {
           "bgcolor": "white",
           "lakecolor": "white",
           "landcolor": "#E5ECF6",
           "showlakes": true,
           "showland": true,
           "subunitcolor": "white"
          },
          "hoverlabel": {
           "align": "left"
          },
          "hovermode": "closest",
          "mapbox": {
           "style": "light"
          },
          "paper_bgcolor": "white",
          "plot_bgcolor": "#E5ECF6",
          "polar": {
           "angularaxis": {
            "gridcolor": "white",
            "linecolor": "white",
            "ticks": ""
           },
           "bgcolor": "#E5ECF6",
           "radialaxis": {
            "gridcolor": "white",
            "linecolor": "white",
            "ticks": ""
           }
          },
          "scene": {
           "xaxis": {
            "backgroundcolor": "#E5ECF6",
            "gridcolor": "white",
            "gridwidth": 2,
            "linecolor": "white",
            "showbackground": true,
            "ticks": "",
            "zerolinecolor": "white"
           },
           "yaxis": {
            "backgroundcolor": "#E5ECF6",
            "gridcolor": "white",
            "gridwidth": 2,
            "linecolor": "white",
            "showbackground": true,
            "ticks": "",
            "zerolinecolor": "white"
           },
           "zaxis": {
            "backgroundcolor": "#E5ECF6",
            "gridcolor": "white",
            "gridwidth": 2,
            "linecolor": "white",
            "showbackground": true,
            "ticks": "",
            "zerolinecolor": "white"
           }
          },
          "shapedefaults": {
           "line": {
            "color": "#2a3f5f"
           }
          },
          "ternary": {
           "aaxis": {
            "gridcolor": "white",
            "linecolor": "white",
            "ticks": ""
           },
           "baxis": {
            "gridcolor": "white",
            "linecolor": "white",
            "ticks": ""
           },
           "bgcolor": "#E5ECF6",
           "caxis": {
            "gridcolor": "white",
            "linecolor": "white",
            "ticks": ""
           }
          },
          "title": {
           "x": 0.05
          },
          "xaxis": {
           "automargin": true,
           "gridcolor": "white",
           "linecolor": "white",
           "ticks": "",
           "title": {
            "standoff": 15
           },
           "zerolinecolor": "white",
           "zerolinewidth": 2
          },
          "yaxis": {
           "automargin": true,
           "gridcolor": "white",
           "linecolor": "white",
           "ticks": "",
           "title": {
            "standoff": 15
           },
           "zerolinecolor": "white",
           "zerolinewidth": 2
          }
         }
        },
        "title": {
         "text": "Распределение событий"
        },
        "xaxis": {
         "anchor": "y",
         "domain": [
          0,
          1
         ],
         "title": {
          "text": "Дата"
         }
        },
        "yaxis": {
         "anchor": "x",
         "domain": [
          0,
          1
         ],
         "title": {
          "text": "Количество"
         }
        }
       }
      },
      "text/html": [
       "<div>                            <div id=\"28b6bf57-28ee-4dda-846d-9f098cabfb65\" class=\"plotly-graph-div\" style=\"height:525px; width:100%;\"></div>            <script type=\"text/javascript\">                require([\"plotly\"], function(Plotly) {                    window.PLOTLYENV=window.PLOTLYENV || {};                                    if (document.getElementById(\"28b6bf57-28ee-4dda-846d-9f098cabfb65\")) {                    Plotly.newPlot(                        \"28b6bf57-28ee-4dda-846d-9f098cabfb65\",                        [{\"alignmentgroup\":\"True\",\"hovertemplate\":\"event_name=advert_open<br>date=%{x}<br>event_count=%{y}<extra></extra>\",\"legendgroup\":\"advert_open\",\"marker\":{\"color\":\"#636efa\",\"pattern\":{\"shape\":\"\"}},\"name\":\"advert_open\",\"offsetgroup\":\"advert_open\",\"orientation\":\"v\",\"showlegend\":true,\"textposition\":\"auto\",\"x\":[\"2019-10-07T00:00:00\",\"2019-10-08T00:00:00\",\"2019-10-09T00:00:00\",\"2019-10-10T00:00:00\",\"2019-10-11T00:00:00\",\"2019-10-12T00:00:00\",\"2019-10-13T00:00:00\",\"2019-10-14T00:00:00\",\"2019-10-15T00:00:00\",\"2019-10-16T00:00:00\",\"2019-10-17T00:00:00\",\"2019-10-18T00:00:00\",\"2019-10-19T00:00:00\",\"2019-10-20T00:00:00\",\"2019-10-21T00:00:00\",\"2019-10-22T00:00:00\",\"2019-10-23T00:00:00\",\"2019-10-24T00:00:00\",\"2019-10-25T00:00:00\",\"2019-10-26T00:00:00\",\"2019-10-27T00:00:00\",\"2019-10-28T00:00:00\",\"2019-10-29T00:00:00\",\"2019-10-30T00:00:00\",\"2019-10-31T00:00:00\",\"2019-11-01T00:00:00\",\"2019-11-02T00:00:00\",\"2019-11-03T00:00:00\"],\"xaxis\":\"x\",\"y\":[401,206,130,105,109,141,286,166,297,254,164,186,191,132,249,164,224,244,215,274,287,305,285,237,270,228,88,326],\"yaxis\":\"y\",\"type\":\"bar\"},{\"alignmentgroup\":\"True\",\"hovertemplate\":\"event_name=contacts_call<br>date=%{x}<br>event_count=%{y}<extra></extra>\",\"legendgroup\":\"contacts_call\",\"marker\":{\"color\":\"#EF553B\",\"pattern\":{\"shape\":\"\"}},\"name\":\"contacts_call\",\"offsetgroup\":\"contacts_call\",\"orientation\":\"v\",\"showlegend\":true,\"textposition\":\"auto\",\"x\":[\"2019-10-07T00:00:00\",\"2019-10-08T00:00:00\",\"2019-10-09T00:00:00\",\"2019-10-10T00:00:00\",\"2019-10-11T00:00:00\",\"2019-10-12T00:00:00\",\"2019-10-13T00:00:00\",\"2019-10-14T00:00:00\",\"2019-10-15T00:00:00\",\"2019-10-16T00:00:00\",\"2019-10-17T00:00:00\",\"2019-10-18T00:00:00\",\"2019-10-19T00:00:00\",\"2019-10-20T00:00:00\",\"2019-10-21T00:00:00\",\"2019-10-22T00:00:00\",\"2019-10-23T00:00:00\",\"2019-10-24T00:00:00\",\"2019-10-25T00:00:00\",\"2019-10-26T00:00:00\",\"2019-10-27T00:00:00\",\"2019-10-28T00:00:00\",\"2019-10-29T00:00:00\",\"2019-10-30T00:00:00\",\"2019-10-31T00:00:00\",\"2019-11-01T00:00:00\",\"2019-11-02T00:00:00\",\"2019-11-03T00:00:00\"],\"xaxis\":\"x\",\"y\":[7,23,10,19,6,10,4,20,32,17,35,16,20,30,15,19,22,35,19,19,16,31,12,25,29,12,18,20],\"yaxis\":\"y\",\"type\":\"bar\"},{\"alignmentgroup\":\"True\",\"hovertemplate\":\"event_name=contacts_show<br>date=%{x}<br>event_count=%{y}<extra></extra>\",\"legendgroup\":\"contacts_show\",\"marker\":{\"color\":\"#00cc96\",\"pattern\":{\"shape\":\"\"}},\"name\":\"contacts_show\",\"offsetgroup\":\"contacts_show\",\"orientation\":\"v\",\"showlegend\":true,\"textposition\":\"auto\",\"x\":[\"2019-10-07T00:00:00\",\"2019-10-08T00:00:00\",\"2019-10-09T00:00:00\",\"2019-10-10T00:00:00\",\"2019-10-11T00:00:00\",\"2019-10-12T00:00:00\",\"2019-10-13T00:00:00\",\"2019-10-14T00:00:00\",\"2019-10-15T00:00:00\",\"2019-10-16T00:00:00\",\"2019-10-17T00:00:00\",\"2019-10-18T00:00:00\",\"2019-10-19T00:00:00\",\"2019-10-20T00:00:00\",\"2019-10-21T00:00:00\",\"2019-10-22T00:00:00\",\"2019-10-23T00:00:00\",\"2019-10-24T00:00:00\",\"2019-10-25T00:00:00\",\"2019-10-26T00:00:00\",\"2019-10-27T00:00:00\",\"2019-10-28T00:00:00\",\"2019-10-29T00:00:00\",\"2019-10-30T00:00:00\",\"2019-10-31T00:00:00\",\"2019-11-01T00:00:00\",\"2019-11-02T00:00:00\",\"2019-11-03T00:00:00\"],\"xaxis\":\"x\",\"y\":[61,119,99,106,88,54,107,212,212,187,265,166,90,183,175,215,239,220,188,181,101,198,162,190,234,223,122,132],\"yaxis\":\"y\",\"type\":\"bar\"},{\"alignmentgroup\":\"True\",\"hovertemplate\":\"event_name=favorites_add<br>date=%{x}<br>event_count=%{y}<extra></extra>\",\"legendgroup\":\"favorites_add\",\"marker\":{\"color\":\"#ab63fa\",\"pattern\":{\"shape\":\"\"}},\"name\":\"favorites_add\",\"offsetgroup\":\"favorites_add\",\"orientation\":\"v\",\"showlegend\":true,\"textposition\":\"auto\",\"x\":[\"2019-10-07T00:00:00\",\"2019-10-08T00:00:00\",\"2019-10-09T00:00:00\",\"2019-10-10T00:00:00\",\"2019-10-11T00:00:00\",\"2019-10-12T00:00:00\",\"2019-10-13T00:00:00\",\"2019-10-14T00:00:00\",\"2019-10-15T00:00:00\",\"2019-10-16T00:00:00\",\"2019-10-17T00:00:00\",\"2019-10-18T00:00:00\",\"2019-10-19T00:00:00\",\"2019-10-20T00:00:00\",\"2019-10-21T00:00:00\",\"2019-10-22T00:00:00\",\"2019-10-23T00:00:00\",\"2019-10-24T00:00:00\",\"2019-10-25T00:00:00\",\"2019-10-26T00:00:00\",\"2019-10-27T00:00:00\",\"2019-10-28T00:00:00\",\"2019-10-29T00:00:00\",\"2019-10-30T00:00:00\",\"2019-10-31T00:00:00\",\"2019-11-01T00:00:00\",\"2019-11-02T00:00:00\",\"2019-11-03T00:00:00\"],\"xaxis\":\"x\",\"y\":[40,97,43,30,16,37,44,49,63,21,56,35,42,50,35,67,55,68,51,38,70,18,76,120,37,40,44,75],\"yaxis\":\"y\",\"type\":\"bar\"},{\"alignmentgroup\":\"True\",\"hovertemplate\":\"event_name=map<br>date=%{x}<br>event_count=%{y}<extra></extra>\",\"legendgroup\":\"map\",\"marker\":{\"color\":\"#FFA15A\",\"pattern\":{\"shape\":\"\"}},\"name\":\"map\",\"offsetgroup\":\"map\",\"orientation\":\"v\",\"showlegend\":true,\"textposition\":\"auto\",\"x\":[\"2019-10-07T00:00:00\",\"2019-10-08T00:00:00\",\"2019-10-09T00:00:00\",\"2019-10-10T00:00:00\",\"2019-10-11T00:00:00\",\"2019-10-12T00:00:00\",\"2019-10-13T00:00:00\",\"2019-10-14T00:00:00\",\"2019-10-15T00:00:00\",\"2019-10-16T00:00:00\",\"2019-10-17T00:00:00\",\"2019-10-18T00:00:00\",\"2019-10-19T00:00:00\",\"2019-10-20T00:00:00\",\"2019-10-21T00:00:00\",\"2019-10-22T00:00:00\",\"2019-10-23T00:00:00\",\"2019-10-24T00:00:00\",\"2019-10-25T00:00:00\",\"2019-10-26T00:00:00\",\"2019-10-27T00:00:00\",\"2019-10-28T00:00:00\",\"2019-10-29T00:00:00\",\"2019-10-30T00:00:00\",\"2019-10-31T00:00:00\",\"2019-11-01T00:00:00\",\"2019-11-02T00:00:00\",\"2019-11-03T00:00:00\"],\"xaxis\":\"x\",\"y\":[168,261,133,163,108,112,152,179,148,148,160,127,122,131,263,149,196,163,119,141,123,226,84,68,61,72,39,65],\"yaxis\":\"y\",\"type\":\"bar\"},{\"alignmentgroup\":\"True\",\"hovertemplate\":\"event_name=photos_show<br>date=%{x}<br>event_count=%{y}<extra></extra>\",\"legendgroup\":\"photos_show\",\"marker\":{\"color\":\"#19d3f3\",\"pattern\":{\"shape\":\"\"}},\"name\":\"photos_show\",\"offsetgroup\":\"photos_show\",\"orientation\":\"v\",\"showlegend\":true,\"textposition\":\"auto\",\"x\":[\"2019-10-07T00:00:00\",\"2019-10-08T00:00:00\",\"2019-10-09T00:00:00\",\"2019-10-10T00:00:00\",\"2019-10-11T00:00:00\",\"2019-10-12T00:00:00\",\"2019-10-13T00:00:00\",\"2019-10-14T00:00:00\",\"2019-10-15T00:00:00\",\"2019-10-16T00:00:00\",\"2019-10-17T00:00:00\",\"2019-10-18T00:00:00\",\"2019-10-19T00:00:00\",\"2019-10-20T00:00:00\",\"2019-10-21T00:00:00\",\"2019-10-22T00:00:00\",\"2019-10-23T00:00:00\",\"2019-10-24T00:00:00\",\"2019-10-25T00:00:00\",\"2019-10-26T00:00:00\",\"2019-10-27T00:00:00\",\"2019-10-28T00:00:00\",\"2019-10-29T00:00:00\",\"2019-10-30T00:00:00\",\"2019-10-31T00:00:00\",\"2019-11-01T00:00:00\",\"2019-11-02T00:00:00\",\"2019-11-03T00:00:00\"],\"xaxis\":\"x\",\"y\":[230,239,235,218,381,302,373,324,344,279,347,333,454,405,316,358,502,378,352,577,507,332,375,313,348,305,331,554],\"yaxis\":\"y\",\"type\":\"bar\"},{\"alignmentgroup\":\"True\",\"hovertemplate\":\"event_name=search<br>date=%{x}<br>event_count=%{y}<extra></extra>\",\"legendgroup\":\"search\",\"marker\":{\"color\":\"#FF6692\",\"pattern\":{\"shape\":\"\"}},\"name\":\"search\",\"offsetgroup\":\"search\",\"orientation\":\"v\",\"showlegend\":true,\"textposition\":\"auto\",\"x\":[\"2019-10-07T00:00:00\",\"2019-10-08T00:00:00\",\"2019-10-09T00:00:00\",\"2019-10-10T00:00:00\",\"2019-10-11T00:00:00\",\"2019-10-12T00:00:00\",\"2019-10-13T00:00:00\",\"2019-10-14T00:00:00\",\"2019-10-15T00:00:00\",\"2019-10-16T00:00:00\",\"2019-10-17T00:00:00\",\"2019-10-18T00:00:00\",\"2019-10-19T00:00:00\",\"2019-10-20T00:00:00\",\"2019-10-21T00:00:00\",\"2019-10-22T00:00:00\",\"2019-10-23T00:00:00\",\"2019-10-24T00:00:00\",\"2019-10-25T00:00:00\",\"2019-10-26T00:00:00\",\"2019-10-27T00:00:00\",\"2019-10-28T00:00:00\",\"2019-10-29T00:00:00\",\"2019-10-30T00:00:00\",\"2019-10-31T00:00:00\",\"2019-11-01T00:00:00\",\"2019-11-02T00:00:00\",\"2019-11-03T00:00:00\"],\"xaxis\":\"x\",\"y\":[127,212,178,185,202,173,194,238,241,239,187,268,231,223,268,283,278,290,253,317,268,315,370,292,247,216,210,279],\"yaxis\":\"y\",\"type\":\"bar\"},{\"alignmentgroup\":\"True\",\"hovertemplate\":\"event_name=tips_click<br>date=%{x}<br>event_count=%{y}<extra></extra>\",\"legendgroup\":\"tips_click\",\"marker\":{\"color\":\"#B6E880\",\"pattern\":{\"shape\":\"\"}},\"name\":\"tips_click\",\"offsetgroup\":\"tips_click\",\"orientation\":\"v\",\"showlegend\":true,\"textposition\":\"auto\",\"x\":[\"2019-10-07T00:00:00\",\"2019-10-08T00:00:00\",\"2019-10-09T00:00:00\",\"2019-10-10T00:00:00\",\"2019-10-11T00:00:00\",\"2019-10-12T00:00:00\",\"2019-10-13T00:00:00\",\"2019-10-14T00:00:00\",\"2019-10-15T00:00:00\",\"2019-10-16T00:00:00\",\"2019-10-17T00:00:00\",\"2019-10-18T00:00:00\",\"2019-10-19T00:00:00\",\"2019-10-20T00:00:00\",\"2019-10-21T00:00:00\",\"2019-10-22T00:00:00\",\"2019-10-23T00:00:00\",\"2019-10-24T00:00:00\",\"2019-10-25T00:00:00\",\"2019-10-26T00:00:00\",\"2019-10-27T00:00:00\",\"2019-10-28T00:00:00\",\"2019-10-29T00:00:00\",\"2019-10-30T00:00:00\",\"2019-10-31T00:00:00\",\"2019-11-01T00:00:00\",\"2019-11-02T00:00:00\",\"2019-11-03T00:00:00\"],\"xaxis\":\"x\",\"y\":[27,26,17,27,17,17,11,43,25,20,42,37,9,26,29,25,37,28,25,43,53,48,37,37,23,43,14,28],\"yaxis\":\"y\",\"type\":\"bar\"},{\"alignmentgroup\":\"True\",\"hovertemplate\":\"event_name=tips_show<br>date=%{x}<br>event_count=%{y}<extra></extra>\",\"legendgroup\":\"tips_show\",\"marker\":{\"color\":\"#FF97FF\",\"pattern\":{\"shape\":\"\"}},\"name\":\"tips_show\",\"offsetgroup\":\"tips_show\",\"orientation\":\"v\",\"showlegend\":true,\"textposition\":\"auto\",\"x\":[\"2019-10-07T00:00:00\",\"2019-10-08T00:00:00\",\"2019-10-09T00:00:00\",\"2019-10-10T00:00:00\",\"2019-10-11T00:00:00\",\"2019-10-12T00:00:00\",\"2019-10-13T00:00:00\",\"2019-10-14T00:00:00\",\"2019-10-15T00:00:00\",\"2019-10-16T00:00:00\",\"2019-10-17T00:00:00\",\"2019-10-18T00:00:00\",\"2019-10-19T00:00:00\",\"2019-10-20T00:00:00\",\"2019-10-21T00:00:00\",\"2019-10-22T00:00:00\",\"2019-10-23T00:00:00\",\"2019-10-24T00:00:00\",\"2019-10-25T00:00:00\",\"2019-10-26T00:00:00\",\"2019-10-27T00:00:00\",\"2019-10-28T00:00:00\",\"2019-10-29T00:00:00\",\"2019-10-30T00:00:00\",\"2019-10-31T00:00:00\",\"2019-11-01T00:00:00\",\"2019-11-02T00:00:00\",\"2019-11-03T00:00:00\"],\"xaxis\":\"x\",\"y\":[1484,1316,1182,1390,1103,997,1464,1803,1360,1565,1362,1576,1172,964,1558,1448,1808,1607,1396,1537,1436,1711,1795,1595,1619,1438,987,1382],\"yaxis\":\"y\",\"type\":\"bar\"}],                        {\"template\":{\"data\":{\"histogram2dcontour\":[{\"type\":\"histogram2dcontour\",\"colorbar\":{\"outlinewidth\":0,\"ticks\":\"\"},\"colorscale\":[[0.0,\"#0d0887\"],[0.1111111111111111,\"#46039f\"],[0.2222222222222222,\"#7201a8\"],[0.3333333333333333,\"#9c179e\"],[0.4444444444444444,\"#bd3786\"],[0.5555555555555556,\"#d8576b\"],[0.6666666666666666,\"#ed7953\"],[0.7777777777777778,\"#fb9f3a\"],[0.8888888888888888,\"#fdca26\"],[1.0,\"#f0f921\"]]}],\"choropleth\":[{\"type\":\"choropleth\",\"colorbar\":{\"outlinewidth\":0,\"ticks\":\"\"}}],\"histogram2d\":[{\"type\":\"histogram2d\",\"colorbar\":{\"outlinewidth\":0,\"ticks\":\"\"},\"colorscale\":[[0.0,\"#0d0887\"],[0.1111111111111111,\"#46039f\"],[0.2222222222222222,\"#7201a8\"],[0.3333333333333333,\"#9c179e\"],[0.4444444444444444,\"#bd3786\"],[0.5555555555555556,\"#d8576b\"],[0.6666666666666666,\"#ed7953\"],[0.7777777777777778,\"#fb9f3a\"],[0.8888888888888888,\"#fdca26\"],[1.0,\"#f0f921\"]]}],\"heatmap\":[{\"type\":\"heatmap\",\"colorbar\":{\"outlinewidth\":0,\"ticks\":\"\"},\"colorscale\":[[0.0,\"#0d0887\"],[0.1111111111111111,\"#46039f\"],[0.2222222222222222,\"#7201a8\"],[0.3333333333333333,\"#9c179e\"],[0.4444444444444444,\"#bd3786\"],[0.5555555555555556,\"#d8576b\"],[0.6666666666666666,\"#ed7953\"],[0.7777777777777778,\"#fb9f3a\"],[0.8888888888888888,\"#fdca26\"],[1.0,\"#f0f921\"]]}],\"heatmapgl\":[{\"type\":\"heatmapgl\",\"colorbar\":{\"outlinewidth\":0,\"ticks\":\"\"},\"colorscale\":[[0.0,\"#0d0887\"],[0.1111111111111111,\"#46039f\"],[0.2222222222222222,\"#7201a8\"],[0.3333333333333333,\"#9c179e\"],[0.4444444444444444,\"#bd3786\"],[0.5555555555555556,\"#d8576b\"],[0.6666666666666666,\"#ed7953\"],[0.7777777777777778,\"#fb9f3a\"],[0.8888888888888888,\"#fdca26\"],[1.0,\"#f0f921\"]]}],\"contourcarpet\":[{\"type\":\"contourcarpet\",\"colorbar\":{\"outlinewidth\":0,\"ticks\":\"\"}}],\"contour\":[{\"type\":\"contour\",\"colorbar\":{\"outlinewidth\":0,\"ticks\":\"\"},\"colorscale\":[[0.0,\"#0d0887\"],[0.1111111111111111,\"#46039f\"],[0.2222222222222222,\"#7201a8\"],[0.3333333333333333,\"#9c179e\"],[0.4444444444444444,\"#bd3786\"],[0.5555555555555556,\"#d8576b\"],[0.6666666666666666,\"#ed7953\"],[0.7777777777777778,\"#fb9f3a\"],[0.8888888888888888,\"#fdca26\"],[1.0,\"#f0f921\"]]}],\"surface\":[{\"type\":\"surface\",\"colorbar\":{\"outlinewidth\":0,\"ticks\":\"\"},\"colorscale\":[[0.0,\"#0d0887\"],[0.1111111111111111,\"#46039f\"],[0.2222222222222222,\"#7201a8\"],[0.3333333333333333,\"#9c179e\"],[0.4444444444444444,\"#bd3786\"],[0.5555555555555556,\"#d8576b\"],[0.6666666666666666,\"#ed7953\"],[0.7777777777777778,\"#fb9f3a\"],[0.8888888888888888,\"#fdca26\"],[1.0,\"#f0f921\"]]}],\"mesh3d\":[{\"type\":\"mesh3d\",\"colorbar\":{\"outlinewidth\":0,\"ticks\":\"\"}}],\"scatter\":[{\"fillpattern\":{\"fillmode\":\"overlay\",\"size\":10,\"solidity\":0.2},\"type\":\"scatter\"}],\"parcoords\":[{\"type\":\"parcoords\",\"line\":{\"colorbar\":{\"outlinewidth\":0,\"ticks\":\"\"}}}],\"scatterpolargl\":[{\"type\":\"scatterpolargl\",\"marker\":{\"colorbar\":{\"outlinewidth\":0,\"ticks\":\"\"}}}],\"bar\":[{\"error_x\":{\"color\":\"#2a3f5f\"},\"error_y\":{\"color\":\"#2a3f5f\"},\"marker\":{\"line\":{\"color\":\"#E5ECF6\",\"width\":0.5},\"pattern\":{\"fillmode\":\"overlay\",\"size\":10,\"solidity\":0.2}},\"type\":\"bar\"}],\"scattergeo\":[{\"type\":\"scattergeo\",\"marker\":{\"colorbar\":{\"outlinewidth\":0,\"ticks\":\"\"}}}],\"scatterpolar\":[{\"type\":\"scatterpolar\",\"marker\":{\"colorbar\":{\"outlinewidth\":0,\"ticks\":\"\"}}}],\"histogram\":[{\"marker\":{\"pattern\":{\"fillmode\":\"overlay\",\"size\":10,\"solidity\":0.2}},\"type\":\"histogram\"}],\"scattergl\":[{\"type\":\"scattergl\",\"marker\":{\"colorbar\":{\"outlinewidth\":0,\"ticks\":\"\"}}}],\"scatter3d\":[{\"type\":\"scatter3d\",\"line\":{\"colorbar\":{\"outlinewidth\":0,\"ticks\":\"\"}},\"marker\":{\"colorbar\":{\"outlinewidth\":0,\"ticks\":\"\"}}}],\"scattermapbox\":[{\"type\":\"scattermapbox\",\"marker\":{\"colorbar\":{\"outlinewidth\":0,\"ticks\":\"\"}}}],\"scatterternary\":[{\"type\":\"scatterternary\",\"marker\":{\"colorbar\":{\"outlinewidth\":0,\"ticks\":\"\"}}}],\"scattercarpet\":[{\"type\":\"scattercarpet\",\"marker\":{\"colorbar\":{\"outlinewidth\":0,\"ticks\":\"\"}}}],\"carpet\":[{\"aaxis\":{\"endlinecolor\":\"#2a3f5f\",\"gridcolor\":\"white\",\"linecolor\":\"white\",\"minorgridcolor\":\"white\",\"startlinecolor\":\"#2a3f5f\"},\"baxis\":{\"endlinecolor\":\"#2a3f5f\",\"gridcolor\":\"white\",\"linecolor\":\"white\",\"minorgridcolor\":\"white\",\"startlinecolor\":\"#2a3f5f\"},\"type\":\"carpet\"}],\"table\":[{\"cells\":{\"fill\":{\"color\":\"#EBF0F8\"},\"line\":{\"color\":\"white\"}},\"header\":{\"fill\":{\"color\":\"#C8D4E3\"},\"line\":{\"color\":\"white\"}},\"type\":\"table\"}],\"barpolar\":[{\"marker\":{\"line\":{\"color\":\"#E5ECF6\",\"width\":0.5},\"pattern\":{\"fillmode\":\"overlay\",\"size\":10,\"solidity\":0.2}},\"type\":\"barpolar\"}],\"pie\":[{\"automargin\":true,\"type\":\"pie\"}]},\"layout\":{\"autotypenumbers\":\"strict\",\"colorway\":[\"#636efa\",\"#EF553B\",\"#00cc96\",\"#ab63fa\",\"#FFA15A\",\"#19d3f3\",\"#FF6692\",\"#B6E880\",\"#FF97FF\",\"#FECB52\"],\"font\":{\"color\":\"#2a3f5f\"},\"hovermode\":\"closest\",\"hoverlabel\":{\"align\":\"left\"},\"paper_bgcolor\":\"white\",\"plot_bgcolor\":\"#E5ECF6\",\"polar\":{\"bgcolor\":\"#E5ECF6\",\"angularaxis\":{\"gridcolor\":\"white\",\"linecolor\":\"white\",\"ticks\":\"\"},\"radialaxis\":{\"gridcolor\":\"white\",\"linecolor\":\"white\",\"ticks\":\"\"}},\"ternary\":{\"bgcolor\":\"#E5ECF6\",\"aaxis\":{\"gridcolor\":\"white\",\"linecolor\":\"white\",\"ticks\":\"\"},\"baxis\":{\"gridcolor\":\"white\",\"linecolor\":\"white\",\"ticks\":\"\"},\"caxis\":{\"gridcolor\":\"white\",\"linecolor\":\"white\",\"ticks\":\"\"}},\"coloraxis\":{\"colorbar\":{\"outlinewidth\":0,\"ticks\":\"\"}},\"colorscale\":{\"sequential\":[[0.0,\"#0d0887\"],[0.1111111111111111,\"#46039f\"],[0.2222222222222222,\"#7201a8\"],[0.3333333333333333,\"#9c179e\"],[0.4444444444444444,\"#bd3786\"],[0.5555555555555556,\"#d8576b\"],[0.6666666666666666,\"#ed7953\"],[0.7777777777777778,\"#fb9f3a\"],[0.8888888888888888,\"#fdca26\"],[1.0,\"#f0f921\"]],\"sequentialminus\":[[0.0,\"#0d0887\"],[0.1111111111111111,\"#46039f\"],[0.2222222222222222,\"#7201a8\"],[0.3333333333333333,\"#9c179e\"],[0.4444444444444444,\"#bd3786\"],[0.5555555555555556,\"#d8576b\"],[0.6666666666666666,\"#ed7953\"],[0.7777777777777778,\"#fb9f3a\"],[0.8888888888888888,\"#fdca26\"],[1.0,\"#f0f921\"]],\"diverging\":[[0,\"#8e0152\"],[0.1,\"#c51b7d\"],[0.2,\"#de77ae\"],[0.3,\"#f1b6da\"],[0.4,\"#fde0ef\"],[0.5,\"#f7f7f7\"],[0.6,\"#e6f5d0\"],[0.7,\"#b8e186\"],[0.8,\"#7fbc41\"],[0.9,\"#4d9221\"],[1,\"#276419\"]]},\"xaxis\":{\"gridcolor\":\"white\",\"linecolor\":\"white\",\"ticks\":\"\",\"title\":{\"standoff\":15},\"zerolinecolor\":\"white\",\"automargin\":true,\"zerolinewidth\":2},\"yaxis\":{\"gridcolor\":\"white\",\"linecolor\":\"white\",\"ticks\":\"\",\"title\":{\"standoff\":15},\"zerolinecolor\":\"white\",\"automargin\":true,\"zerolinewidth\":2},\"scene\":{\"xaxis\":{\"backgroundcolor\":\"#E5ECF6\",\"gridcolor\":\"white\",\"linecolor\":\"white\",\"showbackground\":true,\"ticks\":\"\",\"zerolinecolor\":\"white\",\"gridwidth\":2},\"yaxis\":{\"backgroundcolor\":\"#E5ECF6\",\"gridcolor\":\"white\",\"linecolor\":\"white\",\"showbackground\":true,\"ticks\":\"\",\"zerolinecolor\":\"white\",\"gridwidth\":2},\"zaxis\":{\"backgroundcolor\":\"#E5ECF6\",\"gridcolor\":\"white\",\"linecolor\":\"white\",\"showbackground\":true,\"ticks\":\"\",\"zerolinecolor\":\"white\",\"gridwidth\":2}},\"shapedefaults\":{\"line\":{\"color\":\"#2a3f5f\"}},\"annotationdefaults\":{\"arrowcolor\":\"#2a3f5f\",\"arrowhead\":0,\"arrowwidth\":1},\"geo\":{\"bgcolor\":\"white\",\"landcolor\":\"#E5ECF6\",\"subunitcolor\":\"white\",\"showland\":true,\"showlakes\":true,\"lakecolor\":\"white\"},\"title\":{\"x\":0.05},\"mapbox\":{\"style\":\"light\"}}},\"xaxis\":{\"anchor\":\"y\",\"domain\":[0.0,1.0],\"title\":{\"text\":\"\\u0414\\u0430\\u0442\\u0430\"}},\"yaxis\":{\"anchor\":\"x\",\"domain\":[0.0,1.0],\"title\":{\"text\":\"\\u041a\\u043e\\u043b\\u0438\\u0447\\u0435\\u0441\\u0442\\u0432\\u043e\"}},\"legend\":{\"title\":{\"text\":\"event_name\"},\"tracegroupgap\":0},\"title\":{\"text\":\"\\u0420\\u0430\\u0441\\u043f\\u0440\\u0435\\u0434\\u0435\\u043b\\u0435\\u043d\\u0438\\u0435 \\u0441\\u043e\\u0431\\u044b\\u0442\\u0438\\u0439\"},\"barmode\":\"relative\"},                        {\"responsive\": true}                    ).then(function(){\n",
       "                            \n",
       "var gd = document.getElementById('28b6bf57-28ee-4dda-846d-9f098cabfb65');\n",
       "var x = new MutationObserver(function (mutations, observer) {{\n",
       "        var display = window.getComputedStyle(gd).display;\n",
       "        if (!display || display === 'none') {{\n",
       "            console.log([gd, 'removed!']);\n",
       "            Plotly.purge(gd);\n",
       "            observer.disconnect();\n",
       "        }}\n",
       "}});\n",
       "\n",
       "// Listen for the removal of the full notebook cells\n",
       "var notebookContainer = gd.closest('#notebook-container');\n",
       "if (notebookContainer) {{\n",
       "    x.observe(notebookContainer, {childList: true});\n",
       "}}\n",
       "\n",
       "// Listen for the clearing of the current output cell\n",
       "var outputEl = gd.closest('.output');\n",
       "if (outputEl) {{\n",
       "    x.observe(outputEl, {childList: true});\n",
       "}}\n",
       "\n",
       "                        })                };                });            </script>        </div>"
      ]
     },
     "metadata": {},
     "output_type": "display_data"
    }
   ],
   "source": [
    "fig_events = px.bar(events, x='date', y='event_count', color='event_name', \n",
    "                    title='Распределение событий') \n",
    "fig_events.update_xaxes(title_text='Дата')\n",
    "fig_events.update_yaxes(title_text='Количество') \n",
    "fig_events.show()"
   ]
  },
  {
   "cell_type": "markdown",
   "id": "98ecadc3",
   "metadata": {},
   "source": [
    "График наглядно показывает приимущество одного события, стоит посмотреть на распределение без учета рекомендованных объявлений. Cобытие tips_show, это автоматическое событие, котороые не отражает взаимодействие с приложением."
   ]
  },
  {
   "cell_type": "code",
   "execution_count": 106,
   "id": "c3fa2a78",
   "metadata": {
    "scrolled": false
   },
   "outputs": [
    {
     "data": {
      "application/vnd.plotly.v1+json": {
       "config": {
        "plotlyServerURL": "https://plot.ly"
       },
       "data": [
        {
         "alignmentgroup": "True",
         "hovertemplate": "event_name=advert_open<br>date=%{x}<br>event_count=%{y}<extra></extra>",
         "legendgroup": "advert_open",
         "marker": {
          "color": "#636efa",
          "pattern": {
           "shape": ""
          }
         },
         "name": "advert_open",
         "offsetgroup": "advert_open",
         "orientation": "v",
         "showlegend": true,
         "textposition": "auto",
         "type": "bar",
         "x": [
          "2019-10-07T00:00:00",
          "2019-10-08T00:00:00",
          "2019-10-09T00:00:00",
          "2019-10-10T00:00:00",
          "2019-10-11T00:00:00",
          "2019-10-12T00:00:00",
          "2019-10-13T00:00:00",
          "2019-10-14T00:00:00",
          "2019-10-15T00:00:00",
          "2019-10-16T00:00:00",
          "2019-10-17T00:00:00",
          "2019-10-18T00:00:00",
          "2019-10-19T00:00:00",
          "2019-10-20T00:00:00",
          "2019-10-21T00:00:00",
          "2019-10-22T00:00:00",
          "2019-10-23T00:00:00",
          "2019-10-24T00:00:00",
          "2019-10-25T00:00:00",
          "2019-10-26T00:00:00",
          "2019-10-27T00:00:00",
          "2019-10-28T00:00:00",
          "2019-10-29T00:00:00",
          "2019-10-30T00:00:00",
          "2019-10-31T00:00:00",
          "2019-11-01T00:00:00",
          "2019-11-02T00:00:00",
          "2019-11-03T00:00:00"
         ],
         "xaxis": "x",
         "y": [
          401,
          206,
          130,
          105,
          109,
          141,
          286,
          166,
          297,
          254,
          164,
          186,
          191,
          132,
          249,
          164,
          224,
          244,
          215,
          274,
          287,
          305,
          285,
          237,
          270,
          228,
          88,
          326
         ],
         "yaxis": "y"
        },
        {
         "alignmentgroup": "True",
         "hovertemplate": "event_name=contacts_call<br>date=%{x}<br>event_count=%{y}<extra></extra>",
         "legendgroup": "contacts_call",
         "marker": {
          "color": "#EF553B",
          "pattern": {
           "shape": ""
          }
         },
         "name": "contacts_call",
         "offsetgroup": "contacts_call",
         "orientation": "v",
         "showlegend": true,
         "textposition": "auto",
         "type": "bar",
         "x": [
          "2019-10-07T00:00:00",
          "2019-10-08T00:00:00",
          "2019-10-09T00:00:00",
          "2019-10-10T00:00:00",
          "2019-10-11T00:00:00",
          "2019-10-12T00:00:00",
          "2019-10-13T00:00:00",
          "2019-10-14T00:00:00",
          "2019-10-15T00:00:00",
          "2019-10-16T00:00:00",
          "2019-10-17T00:00:00",
          "2019-10-18T00:00:00",
          "2019-10-19T00:00:00",
          "2019-10-20T00:00:00",
          "2019-10-21T00:00:00",
          "2019-10-22T00:00:00",
          "2019-10-23T00:00:00",
          "2019-10-24T00:00:00",
          "2019-10-25T00:00:00",
          "2019-10-26T00:00:00",
          "2019-10-27T00:00:00",
          "2019-10-28T00:00:00",
          "2019-10-29T00:00:00",
          "2019-10-30T00:00:00",
          "2019-10-31T00:00:00",
          "2019-11-01T00:00:00",
          "2019-11-02T00:00:00",
          "2019-11-03T00:00:00"
         ],
         "xaxis": "x",
         "y": [
          7,
          23,
          10,
          19,
          6,
          10,
          4,
          20,
          32,
          17,
          35,
          16,
          20,
          30,
          15,
          19,
          22,
          35,
          19,
          19,
          16,
          31,
          12,
          25,
          29,
          12,
          18,
          20
         ],
         "yaxis": "y"
        },
        {
         "alignmentgroup": "True",
         "hovertemplate": "event_name=contacts_show<br>date=%{x}<br>event_count=%{y}<extra></extra>",
         "legendgroup": "contacts_show",
         "marker": {
          "color": "#00cc96",
          "pattern": {
           "shape": ""
          }
         },
         "name": "contacts_show",
         "offsetgroup": "contacts_show",
         "orientation": "v",
         "showlegend": true,
         "textposition": "auto",
         "type": "bar",
         "x": [
          "2019-10-07T00:00:00",
          "2019-10-08T00:00:00",
          "2019-10-09T00:00:00",
          "2019-10-10T00:00:00",
          "2019-10-11T00:00:00",
          "2019-10-12T00:00:00",
          "2019-10-13T00:00:00",
          "2019-10-14T00:00:00",
          "2019-10-15T00:00:00",
          "2019-10-16T00:00:00",
          "2019-10-17T00:00:00",
          "2019-10-18T00:00:00",
          "2019-10-19T00:00:00",
          "2019-10-20T00:00:00",
          "2019-10-21T00:00:00",
          "2019-10-22T00:00:00",
          "2019-10-23T00:00:00",
          "2019-10-24T00:00:00",
          "2019-10-25T00:00:00",
          "2019-10-26T00:00:00",
          "2019-10-27T00:00:00",
          "2019-10-28T00:00:00",
          "2019-10-29T00:00:00",
          "2019-10-30T00:00:00",
          "2019-10-31T00:00:00",
          "2019-11-01T00:00:00",
          "2019-11-02T00:00:00",
          "2019-11-03T00:00:00"
         ],
         "xaxis": "x",
         "y": [
          61,
          119,
          99,
          106,
          88,
          54,
          107,
          212,
          212,
          187,
          265,
          166,
          90,
          183,
          175,
          215,
          239,
          220,
          188,
          181,
          101,
          198,
          162,
          190,
          234,
          223,
          122,
          132
         ],
         "yaxis": "y"
        },
        {
         "alignmentgroup": "True",
         "hovertemplate": "event_name=favorites_add<br>date=%{x}<br>event_count=%{y}<extra></extra>",
         "legendgroup": "favorites_add",
         "marker": {
          "color": "#ab63fa",
          "pattern": {
           "shape": ""
          }
         },
         "name": "favorites_add",
         "offsetgroup": "favorites_add",
         "orientation": "v",
         "showlegend": true,
         "textposition": "auto",
         "type": "bar",
         "x": [
          "2019-10-07T00:00:00",
          "2019-10-08T00:00:00",
          "2019-10-09T00:00:00",
          "2019-10-10T00:00:00",
          "2019-10-11T00:00:00",
          "2019-10-12T00:00:00",
          "2019-10-13T00:00:00",
          "2019-10-14T00:00:00",
          "2019-10-15T00:00:00",
          "2019-10-16T00:00:00",
          "2019-10-17T00:00:00",
          "2019-10-18T00:00:00",
          "2019-10-19T00:00:00",
          "2019-10-20T00:00:00",
          "2019-10-21T00:00:00",
          "2019-10-22T00:00:00",
          "2019-10-23T00:00:00",
          "2019-10-24T00:00:00",
          "2019-10-25T00:00:00",
          "2019-10-26T00:00:00",
          "2019-10-27T00:00:00",
          "2019-10-28T00:00:00",
          "2019-10-29T00:00:00",
          "2019-10-30T00:00:00",
          "2019-10-31T00:00:00",
          "2019-11-01T00:00:00",
          "2019-11-02T00:00:00",
          "2019-11-03T00:00:00"
         ],
         "xaxis": "x",
         "y": [
          40,
          97,
          43,
          30,
          16,
          37,
          44,
          49,
          63,
          21,
          56,
          35,
          42,
          50,
          35,
          67,
          55,
          68,
          51,
          38,
          70,
          18,
          76,
          120,
          37,
          40,
          44,
          75
         ],
         "yaxis": "y"
        },
        {
         "alignmentgroup": "True",
         "hovertemplate": "event_name=map<br>date=%{x}<br>event_count=%{y}<extra></extra>",
         "legendgroup": "map",
         "marker": {
          "color": "#FFA15A",
          "pattern": {
           "shape": ""
          }
         },
         "name": "map",
         "offsetgroup": "map",
         "orientation": "v",
         "showlegend": true,
         "textposition": "auto",
         "type": "bar",
         "x": [
          "2019-10-07T00:00:00",
          "2019-10-08T00:00:00",
          "2019-10-09T00:00:00",
          "2019-10-10T00:00:00",
          "2019-10-11T00:00:00",
          "2019-10-12T00:00:00",
          "2019-10-13T00:00:00",
          "2019-10-14T00:00:00",
          "2019-10-15T00:00:00",
          "2019-10-16T00:00:00",
          "2019-10-17T00:00:00",
          "2019-10-18T00:00:00",
          "2019-10-19T00:00:00",
          "2019-10-20T00:00:00",
          "2019-10-21T00:00:00",
          "2019-10-22T00:00:00",
          "2019-10-23T00:00:00",
          "2019-10-24T00:00:00",
          "2019-10-25T00:00:00",
          "2019-10-26T00:00:00",
          "2019-10-27T00:00:00",
          "2019-10-28T00:00:00",
          "2019-10-29T00:00:00",
          "2019-10-30T00:00:00",
          "2019-10-31T00:00:00",
          "2019-11-01T00:00:00",
          "2019-11-02T00:00:00",
          "2019-11-03T00:00:00"
         ],
         "xaxis": "x",
         "y": [
          168,
          261,
          133,
          163,
          108,
          112,
          152,
          179,
          148,
          148,
          160,
          127,
          122,
          131,
          263,
          149,
          196,
          163,
          119,
          141,
          123,
          226,
          84,
          68,
          61,
          72,
          39,
          65
         ],
         "yaxis": "y"
        },
        {
         "alignmentgroup": "True",
         "hovertemplate": "event_name=photos_show<br>date=%{x}<br>event_count=%{y}<extra></extra>",
         "legendgroup": "photos_show",
         "marker": {
          "color": "#19d3f3",
          "pattern": {
           "shape": ""
          }
         },
         "name": "photos_show",
         "offsetgroup": "photos_show",
         "orientation": "v",
         "showlegend": true,
         "textposition": "auto",
         "type": "bar",
         "x": [
          "2019-10-07T00:00:00",
          "2019-10-08T00:00:00",
          "2019-10-09T00:00:00",
          "2019-10-10T00:00:00",
          "2019-10-11T00:00:00",
          "2019-10-12T00:00:00",
          "2019-10-13T00:00:00",
          "2019-10-14T00:00:00",
          "2019-10-15T00:00:00",
          "2019-10-16T00:00:00",
          "2019-10-17T00:00:00",
          "2019-10-18T00:00:00",
          "2019-10-19T00:00:00",
          "2019-10-20T00:00:00",
          "2019-10-21T00:00:00",
          "2019-10-22T00:00:00",
          "2019-10-23T00:00:00",
          "2019-10-24T00:00:00",
          "2019-10-25T00:00:00",
          "2019-10-26T00:00:00",
          "2019-10-27T00:00:00",
          "2019-10-28T00:00:00",
          "2019-10-29T00:00:00",
          "2019-10-30T00:00:00",
          "2019-10-31T00:00:00",
          "2019-11-01T00:00:00",
          "2019-11-02T00:00:00",
          "2019-11-03T00:00:00"
         ],
         "xaxis": "x",
         "y": [
          230,
          239,
          235,
          218,
          381,
          302,
          373,
          324,
          344,
          279,
          347,
          333,
          454,
          405,
          316,
          358,
          502,
          378,
          352,
          577,
          507,
          332,
          375,
          313,
          348,
          305,
          331,
          554
         ],
         "yaxis": "y"
        },
        {
         "alignmentgroup": "True",
         "hovertemplate": "event_name=search<br>date=%{x}<br>event_count=%{y}<extra></extra>",
         "legendgroup": "search",
         "marker": {
          "color": "#FF6692",
          "pattern": {
           "shape": ""
          }
         },
         "name": "search",
         "offsetgroup": "search",
         "orientation": "v",
         "showlegend": true,
         "textposition": "auto",
         "type": "bar",
         "x": [
          "2019-10-07T00:00:00",
          "2019-10-08T00:00:00",
          "2019-10-09T00:00:00",
          "2019-10-10T00:00:00",
          "2019-10-11T00:00:00",
          "2019-10-12T00:00:00",
          "2019-10-13T00:00:00",
          "2019-10-14T00:00:00",
          "2019-10-15T00:00:00",
          "2019-10-16T00:00:00",
          "2019-10-17T00:00:00",
          "2019-10-18T00:00:00",
          "2019-10-19T00:00:00",
          "2019-10-20T00:00:00",
          "2019-10-21T00:00:00",
          "2019-10-22T00:00:00",
          "2019-10-23T00:00:00",
          "2019-10-24T00:00:00",
          "2019-10-25T00:00:00",
          "2019-10-26T00:00:00",
          "2019-10-27T00:00:00",
          "2019-10-28T00:00:00",
          "2019-10-29T00:00:00",
          "2019-10-30T00:00:00",
          "2019-10-31T00:00:00",
          "2019-11-01T00:00:00",
          "2019-11-02T00:00:00",
          "2019-11-03T00:00:00"
         ],
         "xaxis": "x",
         "y": [
          127,
          212,
          178,
          185,
          202,
          173,
          194,
          238,
          241,
          239,
          187,
          268,
          231,
          223,
          268,
          283,
          278,
          290,
          253,
          317,
          268,
          315,
          370,
          292,
          247,
          216,
          210,
          279
         ],
         "yaxis": "y"
        },
        {
         "alignmentgroup": "True",
         "hovertemplate": "event_name=tips_click<br>date=%{x}<br>event_count=%{y}<extra></extra>",
         "legendgroup": "tips_click",
         "marker": {
          "color": "#B6E880",
          "pattern": {
           "shape": ""
          }
         },
         "name": "tips_click",
         "offsetgroup": "tips_click",
         "orientation": "v",
         "showlegend": true,
         "textposition": "auto",
         "type": "bar",
         "x": [
          "2019-10-07T00:00:00",
          "2019-10-08T00:00:00",
          "2019-10-09T00:00:00",
          "2019-10-10T00:00:00",
          "2019-10-11T00:00:00",
          "2019-10-12T00:00:00",
          "2019-10-13T00:00:00",
          "2019-10-14T00:00:00",
          "2019-10-15T00:00:00",
          "2019-10-16T00:00:00",
          "2019-10-17T00:00:00",
          "2019-10-18T00:00:00",
          "2019-10-19T00:00:00",
          "2019-10-20T00:00:00",
          "2019-10-21T00:00:00",
          "2019-10-22T00:00:00",
          "2019-10-23T00:00:00",
          "2019-10-24T00:00:00",
          "2019-10-25T00:00:00",
          "2019-10-26T00:00:00",
          "2019-10-27T00:00:00",
          "2019-10-28T00:00:00",
          "2019-10-29T00:00:00",
          "2019-10-30T00:00:00",
          "2019-10-31T00:00:00",
          "2019-11-01T00:00:00",
          "2019-11-02T00:00:00",
          "2019-11-03T00:00:00"
         ],
         "xaxis": "x",
         "y": [
          27,
          26,
          17,
          27,
          17,
          17,
          11,
          43,
          25,
          20,
          42,
          37,
          9,
          26,
          29,
          25,
          37,
          28,
          25,
          43,
          53,
          48,
          37,
          37,
          23,
          43,
          14,
          28
         ],
         "yaxis": "y"
        }
       ],
       "layout": {
        "barmode": "relative",
        "legend": {
         "title": {
          "text": "event_name"
         },
         "tracegroupgap": 0
        },
        "template": {
         "data": {
          "bar": [
           {
            "error_x": {
             "color": "#2a3f5f"
            },
            "error_y": {
             "color": "#2a3f5f"
            },
            "marker": {
             "line": {
              "color": "#E5ECF6",
              "width": 0.5
             },
             "pattern": {
              "fillmode": "overlay",
              "size": 10,
              "solidity": 0.2
             }
            },
            "type": "bar"
           }
          ],
          "barpolar": [
           {
            "marker": {
             "line": {
              "color": "#E5ECF6",
              "width": 0.5
             },
             "pattern": {
              "fillmode": "overlay",
              "size": 10,
              "solidity": 0.2
             }
            },
            "type": "barpolar"
           }
          ],
          "carpet": [
           {
            "aaxis": {
             "endlinecolor": "#2a3f5f",
             "gridcolor": "white",
             "linecolor": "white",
             "minorgridcolor": "white",
             "startlinecolor": "#2a3f5f"
            },
            "baxis": {
             "endlinecolor": "#2a3f5f",
             "gridcolor": "white",
             "linecolor": "white",
             "minorgridcolor": "white",
             "startlinecolor": "#2a3f5f"
            },
            "type": "carpet"
           }
          ],
          "choropleth": [
           {
            "colorbar": {
             "outlinewidth": 0,
             "ticks": ""
            },
            "type": "choropleth"
           }
          ],
          "contour": [
           {
            "colorbar": {
             "outlinewidth": 0,
             "ticks": ""
            },
            "colorscale": [
             [
              0,
              "#0d0887"
             ],
             [
              0.1111111111111111,
              "#46039f"
             ],
             [
              0.2222222222222222,
              "#7201a8"
             ],
             [
              0.3333333333333333,
              "#9c179e"
             ],
             [
              0.4444444444444444,
              "#bd3786"
             ],
             [
              0.5555555555555556,
              "#d8576b"
             ],
             [
              0.6666666666666666,
              "#ed7953"
             ],
             [
              0.7777777777777778,
              "#fb9f3a"
             ],
             [
              0.8888888888888888,
              "#fdca26"
             ],
             [
              1,
              "#f0f921"
             ]
            ],
            "type": "contour"
           }
          ],
          "contourcarpet": [
           {
            "colorbar": {
             "outlinewidth": 0,
             "ticks": ""
            },
            "type": "contourcarpet"
           }
          ],
          "heatmap": [
           {
            "colorbar": {
             "outlinewidth": 0,
             "ticks": ""
            },
            "colorscale": [
             [
              0,
              "#0d0887"
             ],
             [
              0.1111111111111111,
              "#46039f"
             ],
             [
              0.2222222222222222,
              "#7201a8"
             ],
             [
              0.3333333333333333,
              "#9c179e"
             ],
             [
              0.4444444444444444,
              "#bd3786"
             ],
             [
              0.5555555555555556,
              "#d8576b"
             ],
             [
              0.6666666666666666,
              "#ed7953"
             ],
             [
              0.7777777777777778,
              "#fb9f3a"
             ],
             [
              0.8888888888888888,
              "#fdca26"
             ],
             [
              1,
              "#f0f921"
             ]
            ],
            "type": "heatmap"
           }
          ],
          "heatmapgl": [
           {
            "colorbar": {
             "outlinewidth": 0,
             "ticks": ""
            },
            "colorscale": [
             [
              0,
              "#0d0887"
             ],
             [
              0.1111111111111111,
              "#46039f"
             ],
             [
              0.2222222222222222,
              "#7201a8"
             ],
             [
              0.3333333333333333,
              "#9c179e"
             ],
             [
              0.4444444444444444,
              "#bd3786"
             ],
             [
              0.5555555555555556,
              "#d8576b"
             ],
             [
              0.6666666666666666,
              "#ed7953"
             ],
             [
              0.7777777777777778,
              "#fb9f3a"
             ],
             [
              0.8888888888888888,
              "#fdca26"
             ],
             [
              1,
              "#f0f921"
             ]
            ],
            "type": "heatmapgl"
           }
          ],
          "histogram": [
           {
            "marker": {
             "pattern": {
              "fillmode": "overlay",
              "size": 10,
              "solidity": 0.2
             }
            },
            "type": "histogram"
           }
          ],
          "histogram2d": [
           {
            "colorbar": {
             "outlinewidth": 0,
             "ticks": ""
            },
            "colorscale": [
             [
              0,
              "#0d0887"
             ],
             [
              0.1111111111111111,
              "#46039f"
             ],
             [
              0.2222222222222222,
              "#7201a8"
             ],
             [
              0.3333333333333333,
              "#9c179e"
             ],
             [
              0.4444444444444444,
              "#bd3786"
             ],
             [
              0.5555555555555556,
              "#d8576b"
             ],
             [
              0.6666666666666666,
              "#ed7953"
             ],
             [
              0.7777777777777778,
              "#fb9f3a"
             ],
             [
              0.8888888888888888,
              "#fdca26"
             ],
             [
              1,
              "#f0f921"
             ]
            ],
            "type": "histogram2d"
           }
          ],
          "histogram2dcontour": [
           {
            "colorbar": {
             "outlinewidth": 0,
             "ticks": ""
            },
            "colorscale": [
             [
              0,
              "#0d0887"
             ],
             [
              0.1111111111111111,
              "#46039f"
             ],
             [
              0.2222222222222222,
              "#7201a8"
             ],
             [
              0.3333333333333333,
              "#9c179e"
             ],
             [
              0.4444444444444444,
              "#bd3786"
             ],
             [
              0.5555555555555556,
              "#d8576b"
             ],
             [
              0.6666666666666666,
              "#ed7953"
             ],
             [
              0.7777777777777778,
              "#fb9f3a"
             ],
             [
              0.8888888888888888,
              "#fdca26"
             ],
             [
              1,
              "#f0f921"
             ]
            ],
            "type": "histogram2dcontour"
           }
          ],
          "mesh3d": [
           {
            "colorbar": {
             "outlinewidth": 0,
             "ticks": ""
            },
            "type": "mesh3d"
           }
          ],
          "parcoords": [
           {
            "line": {
             "colorbar": {
              "outlinewidth": 0,
              "ticks": ""
             }
            },
            "type": "parcoords"
           }
          ],
          "pie": [
           {
            "automargin": true,
            "type": "pie"
           }
          ],
          "scatter": [
           {
            "fillpattern": {
             "fillmode": "overlay",
             "size": 10,
             "solidity": 0.2
            },
            "type": "scatter"
           }
          ],
          "scatter3d": [
           {
            "line": {
             "colorbar": {
              "outlinewidth": 0,
              "ticks": ""
             }
            },
            "marker": {
             "colorbar": {
              "outlinewidth": 0,
              "ticks": ""
             }
            },
            "type": "scatter3d"
           }
          ],
          "scattercarpet": [
           {
            "marker": {
             "colorbar": {
              "outlinewidth": 0,
              "ticks": ""
             }
            },
            "type": "scattercarpet"
           }
          ],
          "scattergeo": [
           {
            "marker": {
             "colorbar": {
              "outlinewidth": 0,
              "ticks": ""
             }
            },
            "type": "scattergeo"
           }
          ],
          "scattergl": [
           {
            "marker": {
             "colorbar": {
              "outlinewidth": 0,
              "ticks": ""
             }
            },
            "type": "scattergl"
           }
          ],
          "scattermapbox": [
           {
            "marker": {
             "colorbar": {
              "outlinewidth": 0,
              "ticks": ""
             }
            },
            "type": "scattermapbox"
           }
          ],
          "scatterpolar": [
           {
            "marker": {
             "colorbar": {
              "outlinewidth": 0,
              "ticks": ""
             }
            },
            "type": "scatterpolar"
           }
          ],
          "scatterpolargl": [
           {
            "marker": {
             "colorbar": {
              "outlinewidth": 0,
              "ticks": ""
             }
            },
            "type": "scatterpolargl"
           }
          ],
          "scatterternary": [
           {
            "marker": {
             "colorbar": {
              "outlinewidth": 0,
              "ticks": ""
             }
            },
            "type": "scatterternary"
           }
          ],
          "surface": [
           {
            "colorbar": {
             "outlinewidth": 0,
             "ticks": ""
            },
            "colorscale": [
             [
              0,
              "#0d0887"
             ],
             [
              0.1111111111111111,
              "#46039f"
             ],
             [
              0.2222222222222222,
              "#7201a8"
             ],
             [
              0.3333333333333333,
              "#9c179e"
             ],
             [
              0.4444444444444444,
              "#bd3786"
             ],
             [
              0.5555555555555556,
              "#d8576b"
             ],
             [
              0.6666666666666666,
              "#ed7953"
             ],
             [
              0.7777777777777778,
              "#fb9f3a"
             ],
             [
              0.8888888888888888,
              "#fdca26"
             ],
             [
              1,
              "#f0f921"
             ]
            ],
            "type": "surface"
           }
          ],
          "table": [
           {
            "cells": {
             "fill": {
              "color": "#EBF0F8"
             },
             "line": {
              "color": "white"
             }
            },
            "header": {
             "fill": {
              "color": "#C8D4E3"
             },
             "line": {
              "color": "white"
             }
            },
            "type": "table"
           }
          ]
         },
         "layout": {
          "annotationdefaults": {
           "arrowcolor": "#2a3f5f",
           "arrowhead": 0,
           "arrowwidth": 1
          },
          "autotypenumbers": "strict",
          "coloraxis": {
           "colorbar": {
            "outlinewidth": 0,
            "ticks": ""
           }
          },
          "colorscale": {
           "diverging": [
            [
             0,
             "#8e0152"
            ],
            [
             0.1,
             "#c51b7d"
            ],
            [
             0.2,
             "#de77ae"
            ],
            [
             0.3,
             "#f1b6da"
            ],
            [
             0.4,
             "#fde0ef"
            ],
            [
             0.5,
             "#f7f7f7"
            ],
            [
             0.6,
             "#e6f5d0"
            ],
            [
             0.7,
             "#b8e186"
            ],
            [
             0.8,
             "#7fbc41"
            ],
            [
             0.9,
             "#4d9221"
            ],
            [
             1,
             "#276419"
            ]
           ],
           "sequential": [
            [
             0,
             "#0d0887"
            ],
            [
             0.1111111111111111,
             "#46039f"
            ],
            [
             0.2222222222222222,
             "#7201a8"
            ],
            [
             0.3333333333333333,
             "#9c179e"
            ],
            [
             0.4444444444444444,
             "#bd3786"
            ],
            [
             0.5555555555555556,
             "#d8576b"
            ],
            [
             0.6666666666666666,
             "#ed7953"
            ],
            [
             0.7777777777777778,
             "#fb9f3a"
            ],
            [
             0.8888888888888888,
             "#fdca26"
            ],
            [
             1,
             "#f0f921"
            ]
           ],
           "sequentialminus": [
            [
             0,
             "#0d0887"
            ],
            [
             0.1111111111111111,
             "#46039f"
            ],
            [
             0.2222222222222222,
             "#7201a8"
            ],
            [
             0.3333333333333333,
             "#9c179e"
            ],
            [
             0.4444444444444444,
             "#bd3786"
            ],
            [
             0.5555555555555556,
             "#d8576b"
            ],
            [
             0.6666666666666666,
             "#ed7953"
            ],
            [
             0.7777777777777778,
             "#fb9f3a"
            ],
            [
             0.8888888888888888,
             "#fdca26"
            ],
            [
             1,
             "#f0f921"
            ]
           ]
          },
          "colorway": [
           "#636efa",
           "#EF553B",
           "#00cc96",
           "#ab63fa",
           "#FFA15A",
           "#19d3f3",
           "#FF6692",
           "#B6E880",
           "#FF97FF",
           "#FECB52"
          ],
          "font": {
           "color": "#2a3f5f"
          },
          "geo": {
           "bgcolor": "white",
           "lakecolor": "white",
           "landcolor": "#E5ECF6",
           "showlakes": true,
           "showland": true,
           "subunitcolor": "white"
          },
          "hoverlabel": {
           "align": "left"
          },
          "hovermode": "closest",
          "mapbox": {
           "style": "light"
          },
          "paper_bgcolor": "white",
          "plot_bgcolor": "#E5ECF6",
          "polar": {
           "angularaxis": {
            "gridcolor": "white",
            "linecolor": "white",
            "ticks": ""
           },
           "bgcolor": "#E5ECF6",
           "radialaxis": {
            "gridcolor": "white",
            "linecolor": "white",
            "ticks": ""
           }
          },
          "scene": {
           "xaxis": {
            "backgroundcolor": "#E5ECF6",
            "gridcolor": "white",
            "gridwidth": 2,
            "linecolor": "white",
            "showbackground": true,
            "ticks": "",
            "zerolinecolor": "white"
           },
           "yaxis": {
            "backgroundcolor": "#E5ECF6",
            "gridcolor": "white",
            "gridwidth": 2,
            "linecolor": "white",
            "showbackground": true,
            "ticks": "",
            "zerolinecolor": "white"
           },
           "zaxis": {
            "backgroundcolor": "#E5ECF6",
            "gridcolor": "white",
            "gridwidth": 2,
            "linecolor": "white",
            "showbackground": true,
            "ticks": "",
            "zerolinecolor": "white"
           }
          },
          "shapedefaults": {
           "line": {
            "color": "#2a3f5f"
           }
          },
          "ternary": {
           "aaxis": {
            "gridcolor": "white",
            "linecolor": "white",
            "ticks": ""
           },
           "baxis": {
            "gridcolor": "white",
            "linecolor": "white",
            "ticks": ""
           },
           "bgcolor": "#E5ECF6",
           "caxis": {
            "gridcolor": "white",
            "linecolor": "white",
            "ticks": ""
           }
          },
          "title": {
           "x": 0.05
          },
          "xaxis": {
           "automargin": true,
           "gridcolor": "white",
           "linecolor": "white",
           "ticks": "",
           "title": {
            "standoff": 15
           },
           "zerolinecolor": "white",
           "zerolinewidth": 2
          },
          "yaxis": {
           "automargin": true,
           "gridcolor": "white",
           "linecolor": "white",
           "ticks": "",
           "title": {
            "standoff": 15
           },
           "zerolinecolor": "white",
           "zerolinewidth": 2
          }
         }
        },
        "title": {
         "text": "Распределение событий без рекомендаций"
        },
        "xaxis": {
         "anchor": "y",
         "domain": [
          0,
          1
         ],
         "title": {
          "text": "Дата"
         }
        },
        "yaxis": {
         "anchor": "x",
         "domain": [
          0,
          1
         ],
         "title": {
          "text": "Количество"
         }
        }
       }
      },
      "text/html": [
       "<div>                            <div id=\"9730601a-2932-444b-99b8-1dd58217f6e7\" class=\"plotly-graph-div\" style=\"height:525px; width:100%;\"></div>            <script type=\"text/javascript\">                require([\"plotly\"], function(Plotly) {                    window.PLOTLYENV=window.PLOTLYENV || {};                                    if (document.getElementById(\"9730601a-2932-444b-99b8-1dd58217f6e7\")) {                    Plotly.newPlot(                        \"9730601a-2932-444b-99b8-1dd58217f6e7\",                        [{\"alignmentgroup\":\"True\",\"hovertemplate\":\"event_name=advert_open<br>date=%{x}<br>event_count=%{y}<extra></extra>\",\"legendgroup\":\"advert_open\",\"marker\":{\"color\":\"#636efa\",\"pattern\":{\"shape\":\"\"}},\"name\":\"advert_open\",\"offsetgroup\":\"advert_open\",\"orientation\":\"v\",\"showlegend\":true,\"textposition\":\"auto\",\"x\":[\"2019-10-07T00:00:00\",\"2019-10-08T00:00:00\",\"2019-10-09T00:00:00\",\"2019-10-10T00:00:00\",\"2019-10-11T00:00:00\",\"2019-10-12T00:00:00\",\"2019-10-13T00:00:00\",\"2019-10-14T00:00:00\",\"2019-10-15T00:00:00\",\"2019-10-16T00:00:00\",\"2019-10-17T00:00:00\",\"2019-10-18T00:00:00\",\"2019-10-19T00:00:00\",\"2019-10-20T00:00:00\",\"2019-10-21T00:00:00\",\"2019-10-22T00:00:00\",\"2019-10-23T00:00:00\",\"2019-10-24T00:00:00\",\"2019-10-25T00:00:00\",\"2019-10-26T00:00:00\",\"2019-10-27T00:00:00\",\"2019-10-28T00:00:00\",\"2019-10-29T00:00:00\",\"2019-10-30T00:00:00\",\"2019-10-31T00:00:00\",\"2019-11-01T00:00:00\",\"2019-11-02T00:00:00\",\"2019-11-03T00:00:00\"],\"xaxis\":\"x\",\"y\":[401,206,130,105,109,141,286,166,297,254,164,186,191,132,249,164,224,244,215,274,287,305,285,237,270,228,88,326],\"yaxis\":\"y\",\"type\":\"bar\"},{\"alignmentgroup\":\"True\",\"hovertemplate\":\"event_name=contacts_call<br>date=%{x}<br>event_count=%{y}<extra></extra>\",\"legendgroup\":\"contacts_call\",\"marker\":{\"color\":\"#EF553B\",\"pattern\":{\"shape\":\"\"}},\"name\":\"contacts_call\",\"offsetgroup\":\"contacts_call\",\"orientation\":\"v\",\"showlegend\":true,\"textposition\":\"auto\",\"x\":[\"2019-10-07T00:00:00\",\"2019-10-08T00:00:00\",\"2019-10-09T00:00:00\",\"2019-10-10T00:00:00\",\"2019-10-11T00:00:00\",\"2019-10-12T00:00:00\",\"2019-10-13T00:00:00\",\"2019-10-14T00:00:00\",\"2019-10-15T00:00:00\",\"2019-10-16T00:00:00\",\"2019-10-17T00:00:00\",\"2019-10-18T00:00:00\",\"2019-10-19T00:00:00\",\"2019-10-20T00:00:00\",\"2019-10-21T00:00:00\",\"2019-10-22T00:00:00\",\"2019-10-23T00:00:00\",\"2019-10-24T00:00:00\",\"2019-10-25T00:00:00\",\"2019-10-26T00:00:00\",\"2019-10-27T00:00:00\",\"2019-10-28T00:00:00\",\"2019-10-29T00:00:00\",\"2019-10-30T00:00:00\",\"2019-10-31T00:00:00\",\"2019-11-01T00:00:00\",\"2019-11-02T00:00:00\",\"2019-11-03T00:00:00\"],\"xaxis\":\"x\",\"y\":[7,23,10,19,6,10,4,20,32,17,35,16,20,30,15,19,22,35,19,19,16,31,12,25,29,12,18,20],\"yaxis\":\"y\",\"type\":\"bar\"},{\"alignmentgroup\":\"True\",\"hovertemplate\":\"event_name=contacts_show<br>date=%{x}<br>event_count=%{y}<extra></extra>\",\"legendgroup\":\"contacts_show\",\"marker\":{\"color\":\"#00cc96\",\"pattern\":{\"shape\":\"\"}},\"name\":\"contacts_show\",\"offsetgroup\":\"contacts_show\",\"orientation\":\"v\",\"showlegend\":true,\"textposition\":\"auto\",\"x\":[\"2019-10-07T00:00:00\",\"2019-10-08T00:00:00\",\"2019-10-09T00:00:00\",\"2019-10-10T00:00:00\",\"2019-10-11T00:00:00\",\"2019-10-12T00:00:00\",\"2019-10-13T00:00:00\",\"2019-10-14T00:00:00\",\"2019-10-15T00:00:00\",\"2019-10-16T00:00:00\",\"2019-10-17T00:00:00\",\"2019-10-18T00:00:00\",\"2019-10-19T00:00:00\",\"2019-10-20T00:00:00\",\"2019-10-21T00:00:00\",\"2019-10-22T00:00:00\",\"2019-10-23T00:00:00\",\"2019-10-24T00:00:00\",\"2019-10-25T00:00:00\",\"2019-10-26T00:00:00\",\"2019-10-27T00:00:00\",\"2019-10-28T00:00:00\",\"2019-10-29T00:00:00\",\"2019-10-30T00:00:00\",\"2019-10-31T00:00:00\",\"2019-11-01T00:00:00\",\"2019-11-02T00:00:00\",\"2019-11-03T00:00:00\"],\"xaxis\":\"x\",\"y\":[61,119,99,106,88,54,107,212,212,187,265,166,90,183,175,215,239,220,188,181,101,198,162,190,234,223,122,132],\"yaxis\":\"y\",\"type\":\"bar\"},{\"alignmentgroup\":\"True\",\"hovertemplate\":\"event_name=favorites_add<br>date=%{x}<br>event_count=%{y}<extra></extra>\",\"legendgroup\":\"favorites_add\",\"marker\":{\"color\":\"#ab63fa\",\"pattern\":{\"shape\":\"\"}},\"name\":\"favorites_add\",\"offsetgroup\":\"favorites_add\",\"orientation\":\"v\",\"showlegend\":true,\"textposition\":\"auto\",\"x\":[\"2019-10-07T00:00:00\",\"2019-10-08T00:00:00\",\"2019-10-09T00:00:00\",\"2019-10-10T00:00:00\",\"2019-10-11T00:00:00\",\"2019-10-12T00:00:00\",\"2019-10-13T00:00:00\",\"2019-10-14T00:00:00\",\"2019-10-15T00:00:00\",\"2019-10-16T00:00:00\",\"2019-10-17T00:00:00\",\"2019-10-18T00:00:00\",\"2019-10-19T00:00:00\",\"2019-10-20T00:00:00\",\"2019-10-21T00:00:00\",\"2019-10-22T00:00:00\",\"2019-10-23T00:00:00\",\"2019-10-24T00:00:00\",\"2019-10-25T00:00:00\",\"2019-10-26T00:00:00\",\"2019-10-27T00:00:00\",\"2019-10-28T00:00:00\",\"2019-10-29T00:00:00\",\"2019-10-30T00:00:00\",\"2019-10-31T00:00:00\",\"2019-11-01T00:00:00\",\"2019-11-02T00:00:00\",\"2019-11-03T00:00:00\"],\"xaxis\":\"x\",\"y\":[40,97,43,30,16,37,44,49,63,21,56,35,42,50,35,67,55,68,51,38,70,18,76,120,37,40,44,75],\"yaxis\":\"y\",\"type\":\"bar\"},{\"alignmentgroup\":\"True\",\"hovertemplate\":\"event_name=map<br>date=%{x}<br>event_count=%{y}<extra></extra>\",\"legendgroup\":\"map\",\"marker\":{\"color\":\"#FFA15A\",\"pattern\":{\"shape\":\"\"}},\"name\":\"map\",\"offsetgroup\":\"map\",\"orientation\":\"v\",\"showlegend\":true,\"textposition\":\"auto\",\"x\":[\"2019-10-07T00:00:00\",\"2019-10-08T00:00:00\",\"2019-10-09T00:00:00\",\"2019-10-10T00:00:00\",\"2019-10-11T00:00:00\",\"2019-10-12T00:00:00\",\"2019-10-13T00:00:00\",\"2019-10-14T00:00:00\",\"2019-10-15T00:00:00\",\"2019-10-16T00:00:00\",\"2019-10-17T00:00:00\",\"2019-10-18T00:00:00\",\"2019-10-19T00:00:00\",\"2019-10-20T00:00:00\",\"2019-10-21T00:00:00\",\"2019-10-22T00:00:00\",\"2019-10-23T00:00:00\",\"2019-10-24T00:00:00\",\"2019-10-25T00:00:00\",\"2019-10-26T00:00:00\",\"2019-10-27T00:00:00\",\"2019-10-28T00:00:00\",\"2019-10-29T00:00:00\",\"2019-10-30T00:00:00\",\"2019-10-31T00:00:00\",\"2019-11-01T00:00:00\",\"2019-11-02T00:00:00\",\"2019-11-03T00:00:00\"],\"xaxis\":\"x\",\"y\":[168,261,133,163,108,112,152,179,148,148,160,127,122,131,263,149,196,163,119,141,123,226,84,68,61,72,39,65],\"yaxis\":\"y\",\"type\":\"bar\"},{\"alignmentgroup\":\"True\",\"hovertemplate\":\"event_name=photos_show<br>date=%{x}<br>event_count=%{y}<extra></extra>\",\"legendgroup\":\"photos_show\",\"marker\":{\"color\":\"#19d3f3\",\"pattern\":{\"shape\":\"\"}},\"name\":\"photos_show\",\"offsetgroup\":\"photos_show\",\"orientation\":\"v\",\"showlegend\":true,\"textposition\":\"auto\",\"x\":[\"2019-10-07T00:00:00\",\"2019-10-08T00:00:00\",\"2019-10-09T00:00:00\",\"2019-10-10T00:00:00\",\"2019-10-11T00:00:00\",\"2019-10-12T00:00:00\",\"2019-10-13T00:00:00\",\"2019-10-14T00:00:00\",\"2019-10-15T00:00:00\",\"2019-10-16T00:00:00\",\"2019-10-17T00:00:00\",\"2019-10-18T00:00:00\",\"2019-10-19T00:00:00\",\"2019-10-20T00:00:00\",\"2019-10-21T00:00:00\",\"2019-10-22T00:00:00\",\"2019-10-23T00:00:00\",\"2019-10-24T00:00:00\",\"2019-10-25T00:00:00\",\"2019-10-26T00:00:00\",\"2019-10-27T00:00:00\",\"2019-10-28T00:00:00\",\"2019-10-29T00:00:00\",\"2019-10-30T00:00:00\",\"2019-10-31T00:00:00\",\"2019-11-01T00:00:00\",\"2019-11-02T00:00:00\",\"2019-11-03T00:00:00\"],\"xaxis\":\"x\",\"y\":[230,239,235,218,381,302,373,324,344,279,347,333,454,405,316,358,502,378,352,577,507,332,375,313,348,305,331,554],\"yaxis\":\"y\",\"type\":\"bar\"},{\"alignmentgroup\":\"True\",\"hovertemplate\":\"event_name=search<br>date=%{x}<br>event_count=%{y}<extra></extra>\",\"legendgroup\":\"search\",\"marker\":{\"color\":\"#FF6692\",\"pattern\":{\"shape\":\"\"}},\"name\":\"search\",\"offsetgroup\":\"search\",\"orientation\":\"v\",\"showlegend\":true,\"textposition\":\"auto\",\"x\":[\"2019-10-07T00:00:00\",\"2019-10-08T00:00:00\",\"2019-10-09T00:00:00\",\"2019-10-10T00:00:00\",\"2019-10-11T00:00:00\",\"2019-10-12T00:00:00\",\"2019-10-13T00:00:00\",\"2019-10-14T00:00:00\",\"2019-10-15T00:00:00\",\"2019-10-16T00:00:00\",\"2019-10-17T00:00:00\",\"2019-10-18T00:00:00\",\"2019-10-19T00:00:00\",\"2019-10-20T00:00:00\",\"2019-10-21T00:00:00\",\"2019-10-22T00:00:00\",\"2019-10-23T00:00:00\",\"2019-10-24T00:00:00\",\"2019-10-25T00:00:00\",\"2019-10-26T00:00:00\",\"2019-10-27T00:00:00\",\"2019-10-28T00:00:00\",\"2019-10-29T00:00:00\",\"2019-10-30T00:00:00\",\"2019-10-31T00:00:00\",\"2019-11-01T00:00:00\",\"2019-11-02T00:00:00\",\"2019-11-03T00:00:00\"],\"xaxis\":\"x\",\"y\":[127,212,178,185,202,173,194,238,241,239,187,268,231,223,268,283,278,290,253,317,268,315,370,292,247,216,210,279],\"yaxis\":\"y\",\"type\":\"bar\"},{\"alignmentgroup\":\"True\",\"hovertemplate\":\"event_name=tips_click<br>date=%{x}<br>event_count=%{y}<extra></extra>\",\"legendgroup\":\"tips_click\",\"marker\":{\"color\":\"#B6E880\",\"pattern\":{\"shape\":\"\"}},\"name\":\"tips_click\",\"offsetgroup\":\"tips_click\",\"orientation\":\"v\",\"showlegend\":true,\"textposition\":\"auto\",\"x\":[\"2019-10-07T00:00:00\",\"2019-10-08T00:00:00\",\"2019-10-09T00:00:00\",\"2019-10-10T00:00:00\",\"2019-10-11T00:00:00\",\"2019-10-12T00:00:00\",\"2019-10-13T00:00:00\",\"2019-10-14T00:00:00\",\"2019-10-15T00:00:00\",\"2019-10-16T00:00:00\",\"2019-10-17T00:00:00\",\"2019-10-18T00:00:00\",\"2019-10-19T00:00:00\",\"2019-10-20T00:00:00\",\"2019-10-21T00:00:00\",\"2019-10-22T00:00:00\",\"2019-10-23T00:00:00\",\"2019-10-24T00:00:00\",\"2019-10-25T00:00:00\",\"2019-10-26T00:00:00\",\"2019-10-27T00:00:00\",\"2019-10-28T00:00:00\",\"2019-10-29T00:00:00\",\"2019-10-30T00:00:00\",\"2019-10-31T00:00:00\",\"2019-11-01T00:00:00\",\"2019-11-02T00:00:00\",\"2019-11-03T00:00:00\"],\"xaxis\":\"x\",\"y\":[27,26,17,27,17,17,11,43,25,20,42,37,9,26,29,25,37,28,25,43,53,48,37,37,23,43,14,28],\"yaxis\":\"y\",\"type\":\"bar\"}],                        {\"template\":{\"data\":{\"histogram2dcontour\":[{\"type\":\"histogram2dcontour\",\"colorbar\":{\"outlinewidth\":0,\"ticks\":\"\"},\"colorscale\":[[0.0,\"#0d0887\"],[0.1111111111111111,\"#46039f\"],[0.2222222222222222,\"#7201a8\"],[0.3333333333333333,\"#9c179e\"],[0.4444444444444444,\"#bd3786\"],[0.5555555555555556,\"#d8576b\"],[0.6666666666666666,\"#ed7953\"],[0.7777777777777778,\"#fb9f3a\"],[0.8888888888888888,\"#fdca26\"],[1.0,\"#f0f921\"]]}],\"choropleth\":[{\"type\":\"choropleth\",\"colorbar\":{\"outlinewidth\":0,\"ticks\":\"\"}}],\"histogram2d\":[{\"type\":\"histogram2d\",\"colorbar\":{\"outlinewidth\":0,\"ticks\":\"\"},\"colorscale\":[[0.0,\"#0d0887\"],[0.1111111111111111,\"#46039f\"],[0.2222222222222222,\"#7201a8\"],[0.3333333333333333,\"#9c179e\"],[0.4444444444444444,\"#bd3786\"],[0.5555555555555556,\"#d8576b\"],[0.6666666666666666,\"#ed7953\"],[0.7777777777777778,\"#fb9f3a\"],[0.8888888888888888,\"#fdca26\"],[1.0,\"#f0f921\"]]}],\"heatmap\":[{\"type\":\"heatmap\",\"colorbar\":{\"outlinewidth\":0,\"ticks\":\"\"},\"colorscale\":[[0.0,\"#0d0887\"],[0.1111111111111111,\"#46039f\"],[0.2222222222222222,\"#7201a8\"],[0.3333333333333333,\"#9c179e\"],[0.4444444444444444,\"#bd3786\"],[0.5555555555555556,\"#d8576b\"],[0.6666666666666666,\"#ed7953\"],[0.7777777777777778,\"#fb9f3a\"],[0.8888888888888888,\"#fdca26\"],[1.0,\"#f0f921\"]]}],\"heatmapgl\":[{\"type\":\"heatmapgl\",\"colorbar\":{\"outlinewidth\":0,\"ticks\":\"\"},\"colorscale\":[[0.0,\"#0d0887\"],[0.1111111111111111,\"#46039f\"],[0.2222222222222222,\"#7201a8\"],[0.3333333333333333,\"#9c179e\"],[0.4444444444444444,\"#bd3786\"],[0.5555555555555556,\"#d8576b\"],[0.6666666666666666,\"#ed7953\"],[0.7777777777777778,\"#fb9f3a\"],[0.8888888888888888,\"#fdca26\"],[1.0,\"#f0f921\"]]}],\"contourcarpet\":[{\"type\":\"contourcarpet\",\"colorbar\":{\"outlinewidth\":0,\"ticks\":\"\"}}],\"contour\":[{\"type\":\"contour\",\"colorbar\":{\"outlinewidth\":0,\"ticks\":\"\"},\"colorscale\":[[0.0,\"#0d0887\"],[0.1111111111111111,\"#46039f\"],[0.2222222222222222,\"#7201a8\"],[0.3333333333333333,\"#9c179e\"],[0.4444444444444444,\"#bd3786\"],[0.5555555555555556,\"#d8576b\"],[0.6666666666666666,\"#ed7953\"],[0.7777777777777778,\"#fb9f3a\"],[0.8888888888888888,\"#fdca26\"],[1.0,\"#f0f921\"]]}],\"surface\":[{\"type\":\"surface\",\"colorbar\":{\"outlinewidth\":0,\"ticks\":\"\"},\"colorscale\":[[0.0,\"#0d0887\"],[0.1111111111111111,\"#46039f\"],[0.2222222222222222,\"#7201a8\"],[0.3333333333333333,\"#9c179e\"],[0.4444444444444444,\"#bd3786\"],[0.5555555555555556,\"#d8576b\"],[0.6666666666666666,\"#ed7953\"],[0.7777777777777778,\"#fb9f3a\"],[0.8888888888888888,\"#fdca26\"],[1.0,\"#f0f921\"]]}],\"mesh3d\":[{\"type\":\"mesh3d\",\"colorbar\":{\"outlinewidth\":0,\"ticks\":\"\"}}],\"scatter\":[{\"fillpattern\":{\"fillmode\":\"overlay\",\"size\":10,\"solidity\":0.2},\"type\":\"scatter\"}],\"parcoords\":[{\"type\":\"parcoords\",\"line\":{\"colorbar\":{\"outlinewidth\":0,\"ticks\":\"\"}}}],\"scatterpolargl\":[{\"type\":\"scatterpolargl\",\"marker\":{\"colorbar\":{\"outlinewidth\":0,\"ticks\":\"\"}}}],\"bar\":[{\"error_x\":{\"color\":\"#2a3f5f\"},\"error_y\":{\"color\":\"#2a3f5f\"},\"marker\":{\"line\":{\"color\":\"#E5ECF6\",\"width\":0.5},\"pattern\":{\"fillmode\":\"overlay\",\"size\":10,\"solidity\":0.2}},\"type\":\"bar\"}],\"scattergeo\":[{\"type\":\"scattergeo\",\"marker\":{\"colorbar\":{\"outlinewidth\":0,\"ticks\":\"\"}}}],\"scatterpolar\":[{\"type\":\"scatterpolar\",\"marker\":{\"colorbar\":{\"outlinewidth\":0,\"ticks\":\"\"}}}],\"histogram\":[{\"marker\":{\"pattern\":{\"fillmode\":\"overlay\",\"size\":10,\"solidity\":0.2}},\"type\":\"histogram\"}],\"scattergl\":[{\"type\":\"scattergl\",\"marker\":{\"colorbar\":{\"outlinewidth\":0,\"ticks\":\"\"}}}],\"scatter3d\":[{\"type\":\"scatter3d\",\"line\":{\"colorbar\":{\"outlinewidth\":0,\"ticks\":\"\"}},\"marker\":{\"colorbar\":{\"outlinewidth\":0,\"ticks\":\"\"}}}],\"scattermapbox\":[{\"type\":\"scattermapbox\",\"marker\":{\"colorbar\":{\"outlinewidth\":0,\"ticks\":\"\"}}}],\"scatterternary\":[{\"type\":\"scatterternary\",\"marker\":{\"colorbar\":{\"outlinewidth\":0,\"ticks\":\"\"}}}],\"scattercarpet\":[{\"type\":\"scattercarpet\",\"marker\":{\"colorbar\":{\"outlinewidth\":0,\"ticks\":\"\"}}}],\"carpet\":[{\"aaxis\":{\"endlinecolor\":\"#2a3f5f\",\"gridcolor\":\"white\",\"linecolor\":\"white\",\"minorgridcolor\":\"white\",\"startlinecolor\":\"#2a3f5f\"},\"baxis\":{\"endlinecolor\":\"#2a3f5f\",\"gridcolor\":\"white\",\"linecolor\":\"white\",\"minorgridcolor\":\"white\",\"startlinecolor\":\"#2a3f5f\"},\"type\":\"carpet\"}],\"table\":[{\"cells\":{\"fill\":{\"color\":\"#EBF0F8\"},\"line\":{\"color\":\"white\"}},\"header\":{\"fill\":{\"color\":\"#C8D4E3\"},\"line\":{\"color\":\"white\"}},\"type\":\"table\"}],\"barpolar\":[{\"marker\":{\"line\":{\"color\":\"#E5ECF6\",\"width\":0.5},\"pattern\":{\"fillmode\":\"overlay\",\"size\":10,\"solidity\":0.2}},\"type\":\"barpolar\"}],\"pie\":[{\"automargin\":true,\"type\":\"pie\"}]},\"layout\":{\"autotypenumbers\":\"strict\",\"colorway\":[\"#636efa\",\"#EF553B\",\"#00cc96\",\"#ab63fa\",\"#FFA15A\",\"#19d3f3\",\"#FF6692\",\"#B6E880\",\"#FF97FF\",\"#FECB52\"],\"font\":{\"color\":\"#2a3f5f\"},\"hovermode\":\"closest\",\"hoverlabel\":{\"align\":\"left\"},\"paper_bgcolor\":\"white\",\"plot_bgcolor\":\"#E5ECF6\",\"polar\":{\"bgcolor\":\"#E5ECF6\",\"angularaxis\":{\"gridcolor\":\"white\",\"linecolor\":\"white\",\"ticks\":\"\"},\"radialaxis\":{\"gridcolor\":\"white\",\"linecolor\":\"white\",\"ticks\":\"\"}},\"ternary\":{\"bgcolor\":\"#E5ECF6\",\"aaxis\":{\"gridcolor\":\"white\",\"linecolor\":\"white\",\"ticks\":\"\"},\"baxis\":{\"gridcolor\":\"white\",\"linecolor\":\"white\",\"ticks\":\"\"},\"caxis\":{\"gridcolor\":\"white\",\"linecolor\":\"white\",\"ticks\":\"\"}},\"coloraxis\":{\"colorbar\":{\"outlinewidth\":0,\"ticks\":\"\"}},\"colorscale\":{\"sequential\":[[0.0,\"#0d0887\"],[0.1111111111111111,\"#46039f\"],[0.2222222222222222,\"#7201a8\"],[0.3333333333333333,\"#9c179e\"],[0.4444444444444444,\"#bd3786\"],[0.5555555555555556,\"#d8576b\"],[0.6666666666666666,\"#ed7953\"],[0.7777777777777778,\"#fb9f3a\"],[0.8888888888888888,\"#fdca26\"],[1.0,\"#f0f921\"]],\"sequentialminus\":[[0.0,\"#0d0887\"],[0.1111111111111111,\"#46039f\"],[0.2222222222222222,\"#7201a8\"],[0.3333333333333333,\"#9c179e\"],[0.4444444444444444,\"#bd3786\"],[0.5555555555555556,\"#d8576b\"],[0.6666666666666666,\"#ed7953\"],[0.7777777777777778,\"#fb9f3a\"],[0.8888888888888888,\"#fdca26\"],[1.0,\"#f0f921\"]],\"diverging\":[[0,\"#8e0152\"],[0.1,\"#c51b7d\"],[0.2,\"#de77ae\"],[0.3,\"#f1b6da\"],[0.4,\"#fde0ef\"],[0.5,\"#f7f7f7\"],[0.6,\"#e6f5d0\"],[0.7,\"#b8e186\"],[0.8,\"#7fbc41\"],[0.9,\"#4d9221\"],[1,\"#276419\"]]},\"xaxis\":{\"gridcolor\":\"white\",\"linecolor\":\"white\",\"ticks\":\"\",\"title\":{\"standoff\":15},\"zerolinecolor\":\"white\",\"automargin\":true,\"zerolinewidth\":2},\"yaxis\":{\"gridcolor\":\"white\",\"linecolor\":\"white\",\"ticks\":\"\",\"title\":{\"standoff\":15},\"zerolinecolor\":\"white\",\"automargin\":true,\"zerolinewidth\":2},\"scene\":{\"xaxis\":{\"backgroundcolor\":\"#E5ECF6\",\"gridcolor\":\"white\",\"linecolor\":\"white\",\"showbackground\":true,\"ticks\":\"\",\"zerolinecolor\":\"white\",\"gridwidth\":2},\"yaxis\":{\"backgroundcolor\":\"#E5ECF6\",\"gridcolor\":\"white\",\"linecolor\":\"white\",\"showbackground\":true,\"ticks\":\"\",\"zerolinecolor\":\"white\",\"gridwidth\":2},\"zaxis\":{\"backgroundcolor\":\"#E5ECF6\",\"gridcolor\":\"white\",\"linecolor\":\"white\",\"showbackground\":true,\"ticks\":\"\",\"zerolinecolor\":\"white\",\"gridwidth\":2}},\"shapedefaults\":{\"line\":{\"color\":\"#2a3f5f\"}},\"annotationdefaults\":{\"arrowcolor\":\"#2a3f5f\",\"arrowhead\":0,\"arrowwidth\":1},\"geo\":{\"bgcolor\":\"white\",\"landcolor\":\"#E5ECF6\",\"subunitcolor\":\"white\",\"showland\":true,\"showlakes\":true,\"lakecolor\":\"white\"},\"title\":{\"x\":0.05},\"mapbox\":{\"style\":\"light\"}}},\"xaxis\":{\"anchor\":\"y\",\"domain\":[0.0,1.0],\"title\":{\"text\":\"\\u0414\\u0430\\u0442\\u0430\"}},\"yaxis\":{\"anchor\":\"x\",\"domain\":[0.0,1.0],\"title\":{\"text\":\"\\u041a\\u043e\\u043b\\u0438\\u0447\\u0435\\u0441\\u0442\\u0432\\u043e\"}},\"legend\":{\"title\":{\"text\":\"event_name\"},\"tracegroupgap\":0},\"title\":{\"text\":\"\\u0420\\u0430\\u0441\\u043f\\u0440\\u0435\\u0434\\u0435\\u043b\\u0435\\u043d\\u0438\\u0435 \\u0441\\u043e\\u0431\\u044b\\u0442\\u0438\\u0439 \\u0431\\u0435\\u0437 \\u0440\\u0435\\u043a\\u043e\\u043c\\u0435\\u043d\\u0434\\u0430\\u0446\\u0438\\u0439\"},\"barmode\":\"relative\"},                        {\"responsive\": true}                    ).then(function(){\n",
       "                            \n",
       "var gd = document.getElementById('9730601a-2932-444b-99b8-1dd58217f6e7');\n",
       "var x = new MutationObserver(function (mutations, observer) {{\n",
       "        var display = window.getComputedStyle(gd).display;\n",
       "        if (!display || display === 'none') {{\n",
       "            console.log([gd, 'removed!']);\n",
       "            Plotly.purge(gd);\n",
       "            observer.disconnect();\n",
       "        }}\n",
       "}});\n",
       "\n",
       "// Listen for the removal of the full notebook cells\n",
       "var notebookContainer = gd.closest('#notebook-container');\n",
       "if (notebookContainer) {{\n",
       "    x.observe(notebookContainer, {childList: true});\n",
       "}}\n",
       "\n",
       "// Listen for the clearing of the current output cell\n",
       "var outputEl = gd.closest('.output');\n",
       "if (outputEl) {{\n",
       "    x.observe(outputEl, {childList: true});\n",
       "}}\n",
       "\n",
       "                        })                };                });            </script>        </div>"
      ]
     },
     "metadata": {},
     "output_type": "display_data"
    }
   ],
   "source": [
    "fig_events_2 = px.bar(events.query('event_name !=\"tips_show\"'), x='date', y='event_count', color='event_name', \n",
    "                    title='Распределение событий без рекомендаций') \n",
    "fig_events_2.update_xaxes(title_text='Дата')\n",
    "fig_events_2.update_yaxes(title_text='Количество') \n",
    "fig_events_2.show()\n"
   ]
  },
  {
   "cell_type": "markdown",
   "id": "700f00be",
   "metadata": {},
   "source": [
    "**Вывод:**  \n",
    "  \n",
    "* Низкая конверсия перехода от tips_click к tips_show  говорит нам, что пользователи чаще всего пользуются самостоятельным поиском объвлений на сайте.  \n",
    "* Заметно возрастрает карточка события map в дни первой регистрации пользователей, у первой недели максимальное кол-во просмотра размещенных объявлений 8 октября, есть небольшие всплески до прежнего уровня 21октября и 28октября, но динамика заметно падает после 28октября, что логично, так как динамика этого события зависит от количества пришедших новых пользователей.\n",
    "* Пользователи не часто добавяют объявления в избранное, в диапозоне от 16 до 120.\n",
    "* Самый низкий показатель у cоntacts_call, но брать в учет это не стоит, ведь пользователь может просто сохранить номер и позвонить потом, поэтому событие звонков через приложение может быть с низким проникновением.\n"
   ]
  },
  {
   "cell_type": "markdown",
   "id": "9326c3b9",
   "metadata": {},
   "source": [
    "2.3 Посмотрим на частоту событий по числу уникальных пользователей совершивших это событие. А также посчитаем долю от общего числа пользователей."
   ]
  },
  {
   "cell_type": "code",
   "execution_count": 107,
   "id": "39977079",
   "metadata": {},
   "outputs": [],
   "source": [
    "events_by_user = df_mobile.query('event_name !=\"tips_show\"').groupby('event_name')['user_id'].agg(['count', 'nunique']).reset_index()\n",
    "events_by_user.columns =['event_name', 'n_events', 'n_users']\n",
    "events_by_user\n",
    "n_users = {'all': df_mobile['user_id'].nunique()}\n"
   ]
  },
  {
   "cell_type": "code",
   "execution_count": 108,
   "id": "1831b875",
   "metadata": {
    "scrolled": false
   },
   "outputs": [
    {
     "data": {
      "image/png": "[encoded data removed]",
      "text/plain": [
       "<Figure size 1008x504 with 1 Axes>"
      ]
     },
     "metadata": {
      "needs_background": "light"
     },
     "output_type": "display_data"
    }
   ],
   "source": [
    "plt.figure(figsize=(14, 7))\n",
    "order = events_by_user.sort_values('n_events', ascending=False).reset_index(drop=True)['event_name']\n",
    "\n",
    "ax = sns.barplot(y='event_name', x='n_events', order = order,  data=events_by_user, palette='gnuplot')\n",
    "ax.set_title('События по частоте')\n",
    "for i in ax.patches:\n",
    "    if i.get_width() > 10000:\n",
    "        ax.text(i.get_width()-700, i.get_y()+0.5, \n",
    "                str(int(i.get_width())), fontsize=15, color='white')\n",
    "    else:\n",
    "        ax.text(i.get_width()+30, i.get_y()+0.5, \n",
    "                str(int(i.get_width())), fontsize=15, color='grey')\n",
    "plt.xlabel('Количество пользователей')\n",
    "plt.ylabel('Событие')\n",
    "plt.show()"
   ]
  },
  {
   "cell_type": "code",
   "execution_count": 109,
   "id": "86fd7f50",
   "metadata": {},
   "outputs": [
    {
     "data": {
      "image/png": "[encoded data removed]",
      "text/plain": [
       "<Figure size 1008x504 with 1 Axes>"
      ]
     },
     "metadata": {
      "needs_background": "light"
     },
     "output_type": "display_data"
    }
   ],
   "source": [
    "plt.figure(figsize=(14, 7))\n",
    "\n",
    "ax = sns.barplot(y='event_name', x='n_users', order = order,  data=events_by_user, palette='gnuplot')\n",
    "ax.set_title('Доля пользователей, прошедших событие хотя бы раз')\n",
    "for i in ax.patches:\n",
    "    if i.get_width() > 1200:\n",
    "        ax.text(i.get_width()-250, i.get_y()+0.5, \n",
    "            str(int(i.get_width()))+' ({:.1%})'.format(i.get_width() / n_users['all']), fontsize=15, color='white')\n",
    "    else:\n",
    "        ax.text(i.get_width()+10, i.get_y()+0.5, \n",
    "            str(int(i.get_width()))+' ({:.1%})'.format(i.get_width() / n_users['all']), fontsize=15, color='grey')\n",
    "plt.xlabel('Количество пользователей')\n",
    "plt.ylabel('Событие')\n",
    "plt.show()"
   ]
  },
  {
   "cell_type": "markdown",
   "id": "36890132",
   "metadata": {},
   "source": [
    "**Вывод:**   \n",
    "Наше целевое событие происходило 4529 раз, но лишь 22.9% уникальных пользователей кликнули на просмотр контактов.   Однако более половины уникальных пользователей, которые пользовались поиском, конвертировались в целевое событие.     Пользователи, которые используют поиск, конвертируются несомненно активнее.  \n",
    "  \n",
    "Также я бы отметила пользователей, которые смотрели карту объявлений, их достаточно много, но связывать их с невысокой конвертацией в целевое я бы не стала, ведь пользователей может не устраивать дальность дороги за вещью. Однако стоит обратить внимание, что дальность дороги несомненно влияет на сам звонок.   \n",
    "  \n",
    "Пользователи много кликают на фотографии, но в тоже время конвертация уникальных пользователей в разы меньше, я бы обратила внимание, на количество фотографий в объявлении, на просмотр может уходить большое количество времени и они не доходят до целевого события. Возможно стоит поставить ограничение на количество выкладываемых фотографий."
   ]
  },
  {
   "cell_type": "markdown",
   "id": "73b53255",
   "metadata": {},
   "source": [
    "2.4 Делаем сессии из лога событий. Определяем время отведенное на каждое событие."
   ]
  },
  {
   "cell_type": "markdown",
   "id": "6dfcac1e",
   "metadata": {},
   "source": [
    "Для удобства отсортируем события по user_id, тогда события каждого пользователя будут идти последовательно. В колонке ’diff’ для каждого события отдельного пользователя посчитаем разницу между временем посещения страницы и временем посещения предыдущей страницы. "
   ]
  },
  {
   "cell_type": "code",
   "execution_count": 110,
   "id": "83e2ecea",
   "metadata": {},
   "outputs": [
    {
     "data": {
      "text/html": [
       "<div>\n",
       "<style scoped>\n",
       "    .dataframe tbody tr th:only-of-type {\n",
       "        vertical-align: middle;\n",
       "    }\n",
       "\n",
       "    .dataframe tbody tr th {\n",
       "        vertical-align: top;\n",
       "    }\n",
       "\n",
       "    .dataframe thead th {\n",
       "        text-align: right;\n",
       "    }\n",
       "</style>\n",
       "<table border=\"1\" class=\"dataframe\">\n",
       "  <thead>\n",
       "    <tr style=\"text-align: right;\">\n",
       "      <th></th>\n",
       "      <th>date_time</th>\n",
       "      <th>event_name</th>\n",
       "      <th>user_id</th>\n",
       "      <th>source</th>\n",
       "      <th>date</th>\n",
       "      <th>diff</th>\n",
       "      <th>id</th>\n",
       "    </tr>\n",
       "  </thead>\n",
       "  <tbody>\n",
       "    <tr>\n",
       "      <th>805</th>\n",
       "      <td>2019-10-07 13:39:45</td>\n",
       "      <td>tips_show</td>\n",
       "      <td>0001b1d5-b74a-4cbf-aeb0-7df5947bf349</td>\n",
       "      <td>other</td>\n",
       "      <td>2019-10-07</td>\n",
       "      <td>NaT</td>\n",
       "      <td>805</td>\n",
       "    </tr>\n",
       "    <tr>\n",
       "      <th>6565</th>\n",
       "      <td>2019-10-09 18:40:28</td>\n",
       "      <td>tips_show</td>\n",
       "      <td>0001b1d5-b74a-4cbf-aeb0-7df5947bf349</td>\n",
       "      <td>other</td>\n",
       "      <td>2019-10-09</td>\n",
       "      <td>2 days 05:00:43</td>\n",
       "      <td>6565</td>\n",
       "    </tr>\n",
       "    <tr>\n",
       "      <th>6566</th>\n",
       "      <td>2019-10-09 18:42:22</td>\n",
       "      <td>tips_show</td>\n",
       "      <td>0001b1d5-b74a-4cbf-aeb0-7df5947bf349</td>\n",
       "      <td>other</td>\n",
       "      <td>2019-10-09</td>\n",
       "      <td>0 days 00:01:54</td>\n",
       "      <td>6566</td>\n",
       "    </tr>\n",
       "    <tr>\n",
       "      <th>36486</th>\n",
       "      <td>2019-10-21 20:07:30</td>\n",
       "      <td>tips_show</td>\n",
       "      <td>0001b1d5-b74a-4cbf-aeb0-7df5947bf349</td>\n",
       "      <td>other</td>\n",
       "      <td>2019-10-21</td>\n",
       "      <td>12 days 01:25:08</td>\n",
       "      <td>36486</td>\n",
       "    </tr>\n",
       "    <tr>\n",
       "      <th>37607</th>\n",
       "      <td>2019-10-22 11:30:52</td>\n",
       "      <td>tips_show</td>\n",
       "      <td>0001b1d5-b74a-4cbf-aeb0-7df5947bf349</td>\n",
       "      <td>other</td>\n",
       "      <td>2019-10-22</td>\n",
       "      <td>0 days 15:23:22</td>\n",
       "      <td>37607</td>\n",
       "    </tr>\n",
       "  </tbody>\n",
       "</table>\n",
       "</div>"
      ],
      "text/plain": [
       "                date_time event_name                               user_id  \\\n",
       "805   2019-10-07 13:39:45  tips_show  0001b1d5-b74a-4cbf-aeb0-7df5947bf349   \n",
       "6565  2019-10-09 18:40:28  tips_show  0001b1d5-b74a-4cbf-aeb0-7df5947bf349   \n",
       "6566  2019-10-09 18:42:22  tips_show  0001b1d5-b74a-4cbf-aeb0-7df5947bf349   \n",
       "36486 2019-10-21 20:07:30  tips_show  0001b1d5-b74a-4cbf-aeb0-7df5947bf349   \n",
       "37607 2019-10-22 11:30:52  tips_show  0001b1d5-b74a-4cbf-aeb0-7df5947bf349   \n",
       "\n",
       "      source       date             diff     id  \n",
       "805    other 2019-10-07 NaT               805    \n",
       "6565   other 2019-10-09 2 days 05:00:43   6565   \n",
       "6566   other 2019-10-09 0 days 00:01:54   6566   \n",
       "36486  other 2019-10-21 12 days 01:25:08  36486  \n",
       "37607  other 2019-10-22 0 days 15:23:22   37607  "
      ]
     },
     "execution_count": 110,
     "metadata": {},
     "output_type": "execute_result"
    }
   ],
   "source": [
    "df_mobile = df_mobile.sort_values('user_id')\n",
    "df_mobile['diff'] = df_mobile.groupby('user_id')['date_time'].diff()\n",
    "df_mobile['id'] = df_mobile.index\n",
    "df_mobile.head()"
   ]
  },
  {
   "cell_type": "markdown",
   "id": "c8693d13",
   "metadata": {},
   "source": [
    "Из основного датафрейма создадим вспомогательный. Этот датафрейм будет содержать события, которые будут считаться первыми событиями сессий. К таким событиям относятся все события, которые произошли спустя более чем 30 минут после предыдущего, либо события, которые были первыми для пользователя (NaT в колонке ’diff’). Также создадим во вспомогательном датафрейме колонку ’session_id’, которая будет содержать в себе id первого события сессии. Она пригодится, чтобы корректно отобразить идентификатор сессии, когда будем объединять данные из основного и вспомогательного датафреймов."
   ]
  },
  {
   "cell_type": "code",
   "execution_count": 111,
   "id": "aa466e69",
   "metadata": {},
   "outputs": [
    {
     "data": {
      "text/html": [
       "<div>\n",
       "<style scoped>\n",
       "    .dataframe tbody tr th:only-of-type {\n",
       "        vertical-align: middle;\n",
       "    }\n",
       "\n",
       "    .dataframe tbody tr th {\n",
       "        vertical-align: top;\n",
       "    }\n",
       "\n",
       "    .dataframe thead th {\n",
       "        text-align: right;\n",
       "    }\n",
       "</style>\n",
       "<table border=\"1\" class=\"dataframe\">\n",
       "  <thead>\n",
       "    <tr style=\"text-align: right;\">\n",
       "      <th></th>\n",
       "      <th>date_time</th>\n",
       "      <th>event_name</th>\n",
       "      <th>user_id</th>\n",
       "      <th>source</th>\n",
       "      <th>date</th>\n",
       "      <th>diff</th>\n",
       "      <th>id</th>\n",
       "      <th>session_id</th>\n",
       "    </tr>\n",
       "  </thead>\n",
       "  <tbody>\n",
       "    <tr>\n",
       "      <th>805</th>\n",
       "      <td>2019-10-07 13:39:45</td>\n",
       "      <td>tips_show</td>\n",
       "      <td>0001b1d5-b74a-4cbf-aeb0-7df5947bf349</td>\n",
       "      <td>other</td>\n",
       "      <td>2019-10-07</td>\n",
       "      <td>NaT</td>\n",
       "      <td>805</td>\n",
       "      <td>805</td>\n",
       "    </tr>\n",
       "    <tr>\n",
       "      <th>6565</th>\n",
       "      <td>2019-10-09 18:40:28</td>\n",
       "      <td>tips_show</td>\n",
       "      <td>0001b1d5-b74a-4cbf-aeb0-7df5947bf349</td>\n",
       "      <td>other</td>\n",
       "      <td>2019-10-09</td>\n",
       "      <td>2 days 05:00:43</td>\n",
       "      <td>6565</td>\n",
       "      <td>6565</td>\n",
       "    </tr>\n",
       "    <tr>\n",
       "      <th>36486</th>\n",
       "      <td>2019-10-21 20:07:30</td>\n",
       "      <td>tips_show</td>\n",
       "      <td>0001b1d5-b74a-4cbf-aeb0-7df5947bf349</td>\n",
       "      <td>other</td>\n",
       "      <td>2019-10-21</td>\n",
       "      <td>12 days 01:25:08</td>\n",
       "      <td>36486</td>\n",
       "      <td>36486</td>\n",
       "    </tr>\n",
       "    <tr>\n",
       "      <th>37607</th>\n",
       "      <td>2019-10-22 11:30:52</td>\n",
       "      <td>tips_show</td>\n",
       "      <td>0001b1d5-b74a-4cbf-aeb0-7df5947bf349</td>\n",
       "      <td>other</td>\n",
       "      <td>2019-10-22</td>\n",
       "      <td>0 days 15:23:22</td>\n",
       "      <td>37607</td>\n",
       "      <td>37607</td>\n",
       "    </tr>\n",
       "    <tr>\n",
       "      <th>37571</th>\n",
       "      <td>2019-10-22 11:21:30</td>\n",
       "      <td>tips_show</td>\n",
       "      <td>0001b1d5-b74a-4cbf-aeb0-7df5947bf349</td>\n",
       "      <td>other</td>\n",
       "      <td>2019-10-22</td>\n",
       "      <td>14 days 21:40:59</td>\n",
       "      <td>37571</td>\n",
       "      <td>37571</td>\n",
       "    </tr>\n",
       "  </tbody>\n",
       "</table>\n",
       "</div>"
      ],
      "text/plain": [
       "                date_time event_name                               user_id  \\\n",
       "805   2019-10-07 13:39:45  tips_show  0001b1d5-b74a-4cbf-aeb0-7df5947bf349   \n",
       "6565  2019-10-09 18:40:28  tips_show  0001b1d5-b74a-4cbf-aeb0-7df5947bf349   \n",
       "36486 2019-10-21 20:07:30  tips_show  0001b1d5-b74a-4cbf-aeb0-7df5947bf349   \n",
       "37607 2019-10-22 11:30:52  tips_show  0001b1d5-b74a-4cbf-aeb0-7df5947bf349   \n",
       "37571 2019-10-22 11:21:30  tips_show  0001b1d5-b74a-4cbf-aeb0-7df5947bf349   \n",
       "\n",
       "      source       date             diff     id  session_id  \n",
       "805    other 2019-10-07 NaT               805    805         \n",
       "6565   other 2019-10-09 2 days 05:00:43   6565   6565        \n",
       "36486  other 2019-10-21 12 days 01:25:08  36486  36486       \n",
       "37607  other 2019-10-22 0 days 15:23:22   37607  37607       \n",
       "37571  other 2019-10-22 14 days 21:40:59  37571  37571       "
      ]
     },
     "execution_count": 111,
     "metadata": {},
     "output_type": "execute_result"
    }
   ],
   "source": [
    "df_session_start = df_mobile[(df_mobile['diff'].isnull()) | (df_mobile['diff'] > '1800 seconds')]\n",
    "df_session_start['session_id'] = df_session_start.index\n",
    "df_session_start.head()"
   ]
  },
  {
   "cell_type": "markdown",
   "id": "ce3e1fe6",
   "metadata": {},
   "source": [
    "С помощью функции merge_asof объединим между собой данные основного и вспомогательного датафреймов. Эта функция позволяет объединить данные двух датафреймов схожим образом с левым join’ом, но не по точному соответствию ключей, а по ближайшему. "
   ]
  },
  {
   "cell_type": "code",
   "execution_count": 112,
   "id": "4d36be9d",
   "metadata": {
    "scrolled": false
   },
   "outputs": [
    {
     "data": {
      "text/html": [
       "<div>\n",
       "<style scoped>\n",
       "    .dataframe tbody tr th:only-of-type {\n",
       "        vertical-align: middle;\n",
       "    }\n",
       "\n",
       "    .dataframe tbody tr th {\n",
       "        vertical-align: top;\n",
       "    }\n",
       "\n",
       "    .dataframe thead th {\n",
       "        text-align: right;\n",
       "    }\n",
       "</style>\n",
       "<table border=\"1\" class=\"dataframe\">\n",
       "  <thead>\n",
       "    <tr style=\"text-align: right;\">\n",
       "      <th></th>\n",
       "      <th>date_time</th>\n",
       "      <th>event_name</th>\n",
       "      <th>user_id</th>\n",
       "      <th>source</th>\n",
       "      <th>date</th>\n",
       "      <th>diff</th>\n",
       "      <th>id</th>\n",
       "      <th>session_id</th>\n",
       "    </tr>\n",
       "  </thead>\n",
       "  <tbody>\n",
       "    <tr>\n",
       "      <th>0</th>\n",
       "      <td>2019-10-07 00:00:00</td>\n",
       "      <td>advert_open</td>\n",
       "      <td>020292ab-89bc-4156-9acf-68bc2783f894</td>\n",
       "      <td>other</td>\n",
       "      <td>2019-10-07</td>\n",
       "      <td>-1 days +23:59:59</td>\n",
       "      <td>0</td>\n",
       "      <td>NaN</td>\n",
       "    </tr>\n",
       "    <tr>\n",
       "      <th>1</th>\n",
       "      <td>2019-10-07 00:00:01</td>\n",
       "      <td>tips_show</td>\n",
       "      <td>020292ab-89bc-4156-9acf-68bc2783f894</td>\n",
       "      <td>other</td>\n",
       "      <td>2019-10-07</td>\n",
       "      <td>-1 days +23:49:19</td>\n",
       "      <td>1</td>\n",
       "      <td>NaN</td>\n",
       "    </tr>\n",
       "    <tr>\n",
       "      <th>2</th>\n",
       "      <td>2019-10-07 00:00:02</td>\n",
       "      <td>tips_show</td>\n",
       "      <td>cf7eda61-9349-469f-ac27-e5b6f5ec475c</td>\n",
       "      <td>yandex</td>\n",
       "      <td>2019-10-07</td>\n",
       "      <td>-1 days +23:20:14</td>\n",
       "      <td>2</td>\n",
       "      <td>NaN</td>\n",
       "    </tr>\n",
       "    <tr>\n",
       "      <th>3</th>\n",
       "      <td>2019-10-07 00:00:07</td>\n",
       "      <td>tips_show</td>\n",
       "      <td>020292ab-89bc-4156-9acf-68bc2783f894</td>\n",
       "      <td>other</td>\n",
       "      <td>2019-10-07</td>\n",
       "      <td>-1 days +23:58:40</td>\n",
       "      <td>3</td>\n",
       "      <td>NaN</td>\n",
       "    </tr>\n",
       "    <tr>\n",
       "      <th>4</th>\n",
       "      <td>2019-10-07 00:00:56</td>\n",
       "      <td>advert_open</td>\n",
       "      <td>cf7eda61-9349-469f-ac27-e5b6f5ec475c</td>\n",
       "      <td>yandex</td>\n",
       "      <td>2019-10-07</td>\n",
       "      <td>-4 days +03:55:05</td>\n",
       "      <td>4</td>\n",
       "      <td>NaN</td>\n",
       "    </tr>\n",
       "  </tbody>\n",
       "</table>\n",
       "</div>"
      ],
      "text/plain": [
       "            date_time   event_name                               user_id  \\\n",
       "0 2019-10-07 00:00:00  advert_open  020292ab-89bc-4156-9acf-68bc2783f894   \n",
       "1 2019-10-07 00:00:01  tips_show    020292ab-89bc-4156-9acf-68bc2783f894   \n",
       "2 2019-10-07 00:00:02  tips_show    cf7eda61-9349-469f-ac27-e5b6f5ec475c   \n",
       "3 2019-10-07 00:00:07  tips_show    020292ab-89bc-4156-9acf-68bc2783f894   \n",
       "4 2019-10-07 00:00:56  advert_open  cf7eda61-9349-469f-ac27-e5b6f5ec475c   \n",
       "\n",
       "   source       date              diff  id  session_id  \n",
       "0  other  2019-10-07 -1 days +23:59:59  0  NaN          \n",
       "1  other  2019-10-07 -1 days +23:49:19  1  NaN          \n",
       "2  yandex 2019-10-07 -1 days +23:20:14  2  NaN          \n",
       "3  other  2019-10-07 -1 days +23:58:40  3  NaN          \n",
       "4  yandex 2019-10-07 -4 days +03:55:05  4  NaN          "
      ]
     },
     "execution_count": 112,
     "metadata": {},
     "output_type": "execute_result"
    }
   ],
   "source": [
    "df_mobile = df_mobile.sort_values('id')\n",
    "df_session_start = df_session_start.sort_values('id')\n",
    "df_mobile = pd.merge_asof(df_mobile, df_session_start[['id','user_id','session_id']], on='id',by='user_id')\n",
    "df_mobile.head()"
   ]
  },
  {
   "cell_type": "code",
   "execution_count": 113,
   "id": "1e511475",
   "metadata": {},
   "outputs": [],
   "source": [
    "df_mobile = df_mobile.sort_values(['user_id','date_time'])"
   ]
  },
  {
   "cell_type": "markdown",
   "id": "e8353c2f",
   "metadata": {},
   "source": [
    "Найдем события, которые были первыми в сессиях. И вычислим время, проведенное на странице, руководствуясь временем посещения следующей страницы."
   ]
  },
  {
   "cell_type": "code",
   "execution_count": 114,
   "id": "82ec1271",
   "metadata": {},
   "outputs": [
    {
     "data": {
      "text/html": [
       "<div>\n",
       "<style scoped>\n",
       "    .dataframe tbody tr th:only-of-type {\n",
       "        vertical-align: middle;\n",
       "    }\n",
       "\n",
       "    .dataframe tbody tr th {\n",
       "        vertical-align: top;\n",
       "    }\n",
       "\n",
       "    .dataframe thead th {\n",
       "        text-align: right;\n",
       "    }\n",
       "</style>\n",
       "<table border=\"1\" class=\"dataframe\">\n",
       "  <thead>\n",
       "    <tr style=\"text-align: right;\">\n",
       "      <th></th>\n",
       "      <th>date_time</th>\n",
       "      <th>event_name</th>\n",
       "      <th>user_id</th>\n",
       "      <th>source</th>\n",
       "      <th>date</th>\n",
       "      <th>diff</th>\n",
       "      <th>id</th>\n",
       "      <th>session_id</th>\n",
       "      <th>is_first_event_in_session</th>\n",
       "    </tr>\n",
       "  </thead>\n",
       "  <tbody>\n",
       "    <tr>\n",
       "      <th>805</th>\n",
       "      <td>2019-10-07 13:39:45</td>\n",
       "      <td>tips_show</td>\n",
       "      <td>0001b1d5-b74a-4cbf-aeb0-7df5947bf349</td>\n",
       "      <td>other</td>\n",
       "      <td>2019-10-07</td>\n",
       "      <td>NaT</td>\n",
       "      <td>805</td>\n",
       "      <td>805.0</td>\n",
       "      <td>True</td>\n",
       "    </tr>\n",
       "    <tr>\n",
       "      <th>806</th>\n",
       "      <td>2019-10-07 13:40:31</td>\n",
       "      <td>tips_show</td>\n",
       "      <td>0001b1d5-b74a-4cbf-aeb0-7df5947bf349</td>\n",
       "      <td>other</td>\n",
       "      <td>2019-10-07</td>\n",
       "      <td>-15 days +02:14:58</td>\n",
       "      <td>806</td>\n",
       "      <td>805.0</td>\n",
       "      <td>False</td>\n",
       "    </tr>\n",
       "    <tr>\n",
       "      <th>809</th>\n",
       "      <td>2019-10-07 13:41:05</td>\n",
       "      <td>tips_show</td>\n",
       "      <td>0001b1d5-b74a-4cbf-aeb0-7df5947bf349</td>\n",
       "      <td>other</td>\n",
       "      <td>2019-10-07</td>\n",
       "      <td>-15 days +02:22:51</td>\n",
       "      <td>809</td>\n",
       "      <td>805.0</td>\n",
       "      <td>False</td>\n",
       "    </tr>\n",
       "    <tr>\n",
       "      <th>820</th>\n",
       "      <td>2019-10-07 13:43:20</td>\n",
       "      <td>tips_show</td>\n",
       "      <td>0001b1d5-b74a-4cbf-aeb0-7df5947bf349</td>\n",
       "      <td>other</td>\n",
       "      <td>2019-10-07</td>\n",
       "      <td>0 days 00:02:15</td>\n",
       "      <td>820</td>\n",
       "      <td>805.0</td>\n",
       "      <td>False</td>\n",
       "    </tr>\n",
       "    <tr>\n",
       "      <th>830</th>\n",
       "      <td>2019-10-07 13:45:30</td>\n",
       "      <td>tips_show</td>\n",
       "      <td>0001b1d5-b74a-4cbf-aeb0-7df5947bf349</td>\n",
       "      <td>other</td>\n",
       "      <td>2019-10-07</td>\n",
       "      <td>0 days 00:02:10</td>\n",
       "      <td>830</td>\n",
       "      <td>805.0</td>\n",
       "      <td>False</td>\n",
       "    </tr>\n",
       "  </tbody>\n",
       "</table>\n",
       "</div>"
      ],
      "text/plain": [
       "              date_time event_name                               user_id  \\\n",
       "805 2019-10-07 13:39:45  tips_show  0001b1d5-b74a-4cbf-aeb0-7df5947bf349   \n",
       "806 2019-10-07 13:40:31  tips_show  0001b1d5-b74a-4cbf-aeb0-7df5947bf349   \n",
       "809 2019-10-07 13:41:05  tips_show  0001b1d5-b74a-4cbf-aeb0-7df5947bf349   \n",
       "820 2019-10-07 13:43:20  tips_show  0001b1d5-b74a-4cbf-aeb0-7df5947bf349   \n",
       "830 2019-10-07 13:45:30  tips_show  0001b1d5-b74a-4cbf-aeb0-7df5947bf349   \n",
       "\n",
       "    source       date               diff   id  session_id  \\\n",
       "805  other 2019-10-07 NaT                 805  805.0        \n",
       "806  other 2019-10-07 -15 days +02:14:58  806  805.0        \n",
       "809  other 2019-10-07 -15 days +02:22:51  809  805.0        \n",
       "820  other 2019-10-07 0 days 00:02:15     820  805.0        \n",
       "830  other 2019-10-07 0 days 00:02:10     830  805.0        \n",
       "\n",
       "     is_first_event_in_session  \n",
       "805  True                       \n",
       "806  False                      \n",
       "809  False                      \n",
       "820  False                      \n",
       "830  False                      "
      ]
     },
     "execution_count": 114,
     "metadata": {},
     "output_type": "execute_result"
    }
   ],
   "source": [
    "df_mobile['is_first_event_in_session'] = df_mobile['id'] == df_mobile['session_id']\n",
    "df_mobile.head()"
   ]
  },
  {
   "cell_type": "code",
   "execution_count": 115,
   "id": "35132cd4",
   "metadata": {},
   "outputs": [
    {
     "data": {
      "text/html": [
       "<div>\n",
       "<style scoped>\n",
       "    .dataframe tbody tr th:only-of-type {\n",
       "        vertical-align: middle;\n",
       "    }\n",
       "\n",
       "    .dataframe tbody tr th {\n",
       "        vertical-align: top;\n",
       "    }\n",
       "\n",
       "    .dataframe thead th {\n",
       "        text-align: right;\n",
       "    }\n",
       "</style>\n",
       "<table border=\"1\" class=\"dataframe\">\n",
       "  <thead>\n",
       "    <tr style=\"text-align: right;\">\n",
       "      <th></th>\n",
       "      <th>date_time</th>\n",
       "      <th>event_name</th>\n",
       "      <th>user_id</th>\n",
       "      <th>source</th>\n",
       "      <th>date</th>\n",
       "      <th>diff</th>\n",
       "      <th>id</th>\n",
       "      <th>session_id</th>\n",
       "      <th>is_first_event_in_session</th>\n",
       "      <th>time_on_page</th>\n",
       "    </tr>\n",
       "  </thead>\n",
       "  <tbody>\n",
       "    <tr>\n",
       "      <th>805</th>\n",
       "      <td>2019-10-07 13:39:45</td>\n",
       "      <td>tips_show</td>\n",
       "      <td>0001b1d5-b74a-4cbf-aeb0-7df5947bf349</td>\n",
       "      <td>other</td>\n",
       "      <td>2019-10-07</td>\n",
       "      <td>NaT</td>\n",
       "      <td>805</td>\n",
       "      <td>805.0</td>\n",
       "      <td>True</td>\n",
       "      <td>0 days 00:00:46</td>\n",
       "    </tr>\n",
       "    <tr>\n",
       "      <th>806</th>\n",
       "      <td>2019-10-07 13:40:31</td>\n",
       "      <td>tips_show</td>\n",
       "      <td>0001b1d5-b74a-4cbf-aeb0-7df5947bf349</td>\n",
       "      <td>other</td>\n",
       "      <td>2019-10-07</td>\n",
       "      <td>-15 days +02:14:58</td>\n",
       "      <td>806</td>\n",
       "      <td>805.0</td>\n",
       "      <td>False</td>\n",
       "      <td>0 days 00:00:34</td>\n",
       "    </tr>\n",
       "    <tr>\n",
       "      <th>809</th>\n",
       "      <td>2019-10-07 13:41:05</td>\n",
       "      <td>tips_show</td>\n",
       "      <td>0001b1d5-b74a-4cbf-aeb0-7df5947bf349</td>\n",
       "      <td>other</td>\n",
       "      <td>2019-10-07</td>\n",
       "      <td>-15 days +02:22:51</td>\n",
       "      <td>809</td>\n",
       "      <td>805.0</td>\n",
       "      <td>False</td>\n",
       "      <td>0 days 00:02:15</td>\n",
       "    </tr>\n",
       "    <tr>\n",
       "      <th>820</th>\n",
       "      <td>2019-10-07 13:43:20</td>\n",
       "      <td>tips_show</td>\n",
       "      <td>0001b1d5-b74a-4cbf-aeb0-7df5947bf349</td>\n",
       "      <td>other</td>\n",
       "      <td>2019-10-07</td>\n",
       "      <td>0 days 00:02:15</td>\n",
       "      <td>820</td>\n",
       "      <td>805.0</td>\n",
       "      <td>False</td>\n",
       "      <td>0 days 00:02:10</td>\n",
       "    </tr>\n",
       "    <tr>\n",
       "      <th>830</th>\n",
       "      <td>2019-10-07 13:45:30</td>\n",
       "      <td>tips_show</td>\n",
       "      <td>0001b1d5-b74a-4cbf-aeb0-7df5947bf349</td>\n",
       "      <td>other</td>\n",
       "      <td>2019-10-07</td>\n",
       "      <td>0 days 00:02:10</td>\n",
       "      <td>830</td>\n",
       "      <td>805.0</td>\n",
       "      <td>False</td>\n",
       "      <td>0 days 00:00:13</td>\n",
       "    </tr>\n",
       "  </tbody>\n",
       "</table>\n",
       "</div>"
      ],
      "text/plain": [
       "              date_time event_name                               user_id  \\\n",
       "805 2019-10-07 13:39:45  tips_show  0001b1d5-b74a-4cbf-aeb0-7df5947bf349   \n",
       "806 2019-10-07 13:40:31  tips_show  0001b1d5-b74a-4cbf-aeb0-7df5947bf349   \n",
       "809 2019-10-07 13:41:05  tips_show  0001b1d5-b74a-4cbf-aeb0-7df5947bf349   \n",
       "820 2019-10-07 13:43:20  tips_show  0001b1d5-b74a-4cbf-aeb0-7df5947bf349   \n",
       "830 2019-10-07 13:45:30  tips_show  0001b1d5-b74a-4cbf-aeb0-7df5947bf349   \n",
       "\n",
       "    source       date               diff   id  session_id  \\\n",
       "805  other 2019-10-07 NaT                 805  805.0        \n",
       "806  other 2019-10-07 -15 days +02:14:58  806  805.0        \n",
       "809  other 2019-10-07 -15 days +02:22:51  809  805.0        \n",
       "820  other 2019-10-07 0 days 00:02:15     820  805.0        \n",
       "830  other 2019-10-07 0 days 00:02:10     830  805.0        \n",
       "\n",
       "     is_first_event_in_session    time_on_page  \n",
       "805  True                      0 days 00:00:46  \n",
       "806  False                     0 days 00:00:34  \n",
       "809  False                     0 days 00:02:15  \n",
       "820  False                     0 days 00:02:10  \n",
       "830  False                     0 days 00:00:13  "
      ]
     },
     "execution_count": 115,
     "metadata": {},
     "output_type": "execute_result"
    }
   ],
   "source": [
    "df_mobile['time_on_page'] = df_mobile.groupby(['session_id'])['date_time'].diff(1)\n",
    "df_mobile['time_on_page'] = df_mobile.groupby(['session_id'])['time_on_page'].shift(-1)\n",
    "df_mobile.head()"
   ]
  },
  {
   "cell_type": "code",
   "execution_count": 116,
   "id": "7ccb9c55",
   "metadata": {},
   "outputs": [],
   "source": [
    "#df_mobile['diff'] = df_mobile['diff'].astype('timedelta64[m]')"
   ]
  },
  {
   "cell_type": "code",
   "execution_count": 117,
   "id": "93180464",
   "metadata": {},
   "outputs": [
    {
     "data": {
      "text/html": [
       "<div>\n",
       "<style scoped>\n",
       "    .dataframe tbody tr th:only-of-type {\n",
       "        vertical-align: middle;\n",
       "    }\n",
       "\n",
       "    .dataframe tbody tr th {\n",
       "        vertical-align: top;\n",
       "    }\n",
       "\n",
       "    .dataframe thead th {\n",
       "        text-align: right;\n",
       "    }\n",
       "</style>\n",
       "<table border=\"1\" class=\"dataframe\">\n",
       "  <thead>\n",
       "    <tr style=\"text-align: right;\">\n",
       "      <th></th>\n",
       "      <th>date_time</th>\n",
       "      <th>event_name</th>\n",
       "      <th>user_id</th>\n",
       "      <th>source</th>\n",
       "      <th>date</th>\n",
       "      <th>diff</th>\n",
       "      <th>id</th>\n",
       "      <th>session_id</th>\n",
       "      <th>is_first_event_in_session</th>\n",
       "      <th>time_on_page</th>\n",
       "    </tr>\n",
       "  </thead>\n",
       "  <tbody>\n",
       "    <tr>\n",
       "      <th>805</th>\n",
       "      <td>2019-10-07 13:39:45</td>\n",
       "      <td>tips_show</td>\n",
       "      <td>0001b1d5-b74a-4cbf-aeb0-7df5947bf349</td>\n",
       "      <td>other</td>\n",
       "      <td>2019-10-07</td>\n",
       "      <td>NaT</td>\n",
       "      <td>805</td>\n",
       "      <td>805.0</td>\n",
       "      <td>True</td>\n",
       "      <td>46.0</td>\n",
       "    </tr>\n",
       "    <tr>\n",
       "      <th>806</th>\n",
       "      <td>2019-10-07 13:40:31</td>\n",
       "      <td>tips_show</td>\n",
       "      <td>0001b1d5-b74a-4cbf-aeb0-7df5947bf349</td>\n",
       "      <td>other</td>\n",
       "      <td>2019-10-07</td>\n",
       "      <td>-15 days +02:14:58</td>\n",
       "      <td>806</td>\n",
       "      <td>805.0</td>\n",
       "      <td>False</td>\n",
       "      <td>34.0</td>\n",
       "    </tr>\n",
       "    <tr>\n",
       "      <th>809</th>\n",
       "      <td>2019-10-07 13:41:05</td>\n",
       "      <td>tips_show</td>\n",
       "      <td>0001b1d5-b74a-4cbf-aeb0-7df5947bf349</td>\n",
       "      <td>other</td>\n",
       "      <td>2019-10-07</td>\n",
       "      <td>-15 days +02:22:51</td>\n",
       "      <td>809</td>\n",
       "      <td>805.0</td>\n",
       "      <td>False</td>\n",
       "      <td>135.0</td>\n",
       "    </tr>\n",
       "    <tr>\n",
       "      <th>820</th>\n",
       "      <td>2019-10-07 13:43:20</td>\n",
       "      <td>tips_show</td>\n",
       "      <td>0001b1d5-b74a-4cbf-aeb0-7df5947bf349</td>\n",
       "      <td>other</td>\n",
       "      <td>2019-10-07</td>\n",
       "      <td>0 days 00:02:15</td>\n",
       "      <td>820</td>\n",
       "      <td>805.0</td>\n",
       "      <td>False</td>\n",
       "      <td>130.0</td>\n",
       "    </tr>\n",
       "    <tr>\n",
       "      <th>830</th>\n",
       "      <td>2019-10-07 13:45:30</td>\n",
       "      <td>tips_show</td>\n",
       "      <td>0001b1d5-b74a-4cbf-aeb0-7df5947bf349</td>\n",
       "      <td>other</td>\n",
       "      <td>2019-10-07</td>\n",
       "      <td>0 days 00:02:10</td>\n",
       "      <td>830</td>\n",
       "      <td>805.0</td>\n",
       "      <td>False</td>\n",
       "      <td>13.0</td>\n",
       "    </tr>\n",
       "    <tr>\n",
       "      <th>...</th>\n",
       "      <td>...</td>\n",
       "      <td>...</td>\n",
       "      <td>...</td>\n",
       "      <td>...</td>\n",
       "      <td>...</td>\n",
       "      <td>...</td>\n",
       "      <td>...</td>\n",
       "      <td>...</td>\n",
       "      <td>...</td>\n",
       "      <td>...</td>\n",
       "    </tr>\n",
       "    <tr>\n",
       "      <th>72584</th>\n",
       "      <td>2019-11-03 15:51:23</td>\n",
       "      <td>tips_show</td>\n",
       "      <td>fffb9e79-b927-4dbb-9b48-7fd09b23a62b</td>\n",
       "      <td>google</td>\n",
       "      <td>2019-11-03</td>\n",
       "      <td>22 days 14:42:28</td>\n",
       "      <td>72584</td>\n",
       "      <td>72584.0</td>\n",
       "      <td>True</td>\n",
       "      <td>NaN</td>\n",
       "    </tr>\n",
       "    <tr>\n",
       "      <th>72589</th>\n",
       "      <td>2019-11-03 15:51:57</td>\n",
       "      <td>contacts_show</td>\n",
       "      <td>fffb9e79-b927-4dbb-9b48-7fd09b23a62b</td>\n",
       "      <td>google</td>\n",
       "      <td>2019-11-03</td>\n",
       "      <td>22 days 14:43:54</td>\n",
       "      <td>72589</td>\n",
       "      <td>72589.0</td>\n",
       "      <td>True</td>\n",
       "      <td>NaN</td>\n",
       "    </tr>\n",
       "    <tr>\n",
       "      <th>72684</th>\n",
       "      <td>2019-11-03 16:07:40</td>\n",
       "      <td>tips_show</td>\n",
       "      <td>fffb9e79-b927-4dbb-9b48-7fd09b23a62b</td>\n",
       "      <td>google</td>\n",
       "      <td>2019-11-03</td>\n",
       "      <td>16 days 03:44:20</td>\n",
       "      <td>72684</td>\n",
       "      <td>72684.0</td>\n",
       "      <td>True</td>\n",
       "      <td>38.0</td>\n",
       "    </tr>\n",
       "    <tr>\n",
       "      <th>72688</th>\n",
       "      <td>2019-11-03 16:08:18</td>\n",
       "      <td>tips_show</td>\n",
       "      <td>fffb9e79-b927-4dbb-9b48-7fd09b23a62b</td>\n",
       "      <td>google</td>\n",
       "      <td>2019-11-03</td>\n",
       "      <td>0 days 00:00:38</td>\n",
       "      <td>72688</td>\n",
       "      <td>72684.0</td>\n",
       "      <td>False</td>\n",
       "      <td>7.0</td>\n",
       "    </tr>\n",
       "    <tr>\n",
       "      <th>72689</th>\n",
       "      <td>2019-11-03 16:08:25</td>\n",
       "      <td>tips_show</td>\n",
       "      <td>fffb9e79-b927-4dbb-9b48-7fd09b23a62b</td>\n",
       "      <td>google</td>\n",
       "      <td>2019-11-03</td>\n",
       "      <td>0 days 00:00:07</td>\n",
       "      <td>72689</td>\n",
       "      <td>72684.0</td>\n",
       "      <td>False</td>\n",
       "      <td>NaN</td>\n",
       "    </tr>\n",
       "  </tbody>\n",
       "</table>\n",
       "<p>74197 rows × 10 columns</p>\n",
       "</div>"
      ],
      "text/plain": [
       "                date_time     event_name  \\\n",
       "805   2019-10-07 13:39:45  tips_show       \n",
       "806   2019-10-07 13:40:31  tips_show       \n",
       "809   2019-10-07 13:41:05  tips_show       \n",
       "820   2019-10-07 13:43:20  tips_show       \n",
       "830   2019-10-07 13:45:30  tips_show       \n",
       "...                   ...        ...       \n",
       "72584 2019-11-03 15:51:23  tips_show       \n",
       "72589 2019-11-03 15:51:57  contacts_show   \n",
       "72684 2019-11-03 16:07:40  tips_show       \n",
       "72688 2019-11-03 16:08:18  tips_show       \n",
       "72689 2019-11-03 16:08:25  tips_show       \n",
       "\n",
       "                                    user_id  source       date  \\\n",
       "805    0001b1d5-b74a-4cbf-aeb0-7df5947bf349  other  2019-10-07   \n",
       "806    0001b1d5-b74a-4cbf-aeb0-7df5947bf349  other  2019-10-07   \n",
       "809    0001b1d5-b74a-4cbf-aeb0-7df5947bf349  other  2019-10-07   \n",
       "820    0001b1d5-b74a-4cbf-aeb0-7df5947bf349  other  2019-10-07   \n",
       "830    0001b1d5-b74a-4cbf-aeb0-7df5947bf349  other  2019-10-07   \n",
       "...                                     ...    ...         ...   \n",
       "72584  fffb9e79-b927-4dbb-9b48-7fd09b23a62b  google 2019-11-03   \n",
       "72589  fffb9e79-b927-4dbb-9b48-7fd09b23a62b  google 2019-11-03   \n",
       "72684  fffb9e79-b927-4dbb-9b48-7fd09b23a62b  google 2019-11-03   \n",
       "72688  fffb9e79-b927-4dbb-9b48-7fd09b23a62b  google 2019-11-03   \n",
       "72689  fffb9e79-b927-4dbb-9b48-7fd09b23a62b  google 2019-11-03   \n",
       "\n",
       "                    diff     id  session_id  is_first_event_in_session  \\\n",
       "805   NaT                 805    805.0       True                        \n",
       "806   -15 days +02:14:58  806    805.0       False                       \n",
       "809   -15 days +02:22:51  809    805.0       False                       \n",
       "820   0 days 00:02:15     820    805.0       False                       \n",
       "830   0 days 00:02:10     830    805.0       False                       \n",
       "...               ...     ...      ...         ...                       \n",
       "72584 22 days 14:42:28    72584  72584.0     True                        \n",
       "72589 22 days 14:43:54    72589  72589.0     True                        \n",
       "72684 16 days 03:44:20    72684  72684.0     True                        \n",
       "72688 0 days 00:00:38     72688  72684.0     False                       \n",
       "72689 0 days 00:00:07     72689  72684.0     False                       \n",
       "\n",
       "       time_on_page  \n",
       "805    46.0          \n",
       "806    34.0          \n",
       "809    135.0         \n",
       "820    130.0         \n",
       "830    13.0          \n",
       "...     ...          \n",
       "72584 NaN            \n",
       "72589 NaN            \n",
       "72684  38.0          \n",
       "72688  7.0           \n",
       "72689 NaN            \n",
       "\n",
       "[74197 rows x 10 columns]"
      ]
     },
     "execution_count": 117,
     "metadata": {},
     "output_type": "execute_result"
    }
   ],
   "source": [
    "df_mobile['time_on_page'] = df_mobile['time_on_page']/np.timedelta64(1, 's')\n",
    "df_mobile"
   ]
  },
  {
   "cell_type": "code",
   "execution_count": 118,
   "id": "73e83124",
   "metadata": {},
   "outputs": [],
   "source": [
    "#display(df_mobile[df_mobile['diff']==0.0])"
   ]
  },
  {
   "cell_type": "code",
   "execution_count": 119,
   "id": "e0167f9f",
   "metadata": {},
   "outputs": [],
   "source": [
    "#df_mobile = df_mobile.drop(df_mobile[df_mobile['diff']==0.0].index).reset_index()"
   ]
  },
  {
   "cell_type": "code",
   "execution_count": 120,
   "id": "3fbd54be",
   "metadata": {},
   "outputs": [
    {
     "name": "stdout",
     "output_type": "stream",
     "text": [
      "Количество пользователей:  4293\n",
      "Количество сессий:  18481\n",
      "Количество просмотров страниц:  74197\n",
      "Среднее время просмотра страницы:  7322.150315313902\n"
     ]
    }
   ],
   "source": [
    "print('Количество пользователей: ',df_mobile['user_id'].nunique())\n",
    "print('Количество сессий: ', df_mobile['session_id'].nunique())\n",
    "print('Количество просмотров страниц: ', df_mobile['id'].count())\n",
    "print('Среднее время просмотра страницы: ',df_mobile['time_on_page'].mean())"
   ]
  },
  {
   "cell_type": "markdown",
   "id": "6247b0d3",
   "metadata": {},
   "source": [
    "Среднее время просмотра страницы необычно большое, явный показатель присутсвия выбросов, посмотрим поподробнее и избавимся от них."
   ]
  },
  {
   "cell_type": "code",
   "execution_count": 121,
   "id": "1f2b0faf",
   "metadata": {},
   "outputs": [
    {
     "data": {
      "text/plain": [
       "count    3.187300e+04\n",
       "mean     7.322150e+03\n",
       "std      6.427770e+04\n",
       "min      0.000000e+00\n",
       "25%      2.100000e+01\n",
       "50%      6.400000e+01\n",
       "75%      1.510000e+02\n",
       "max      2.253118e+06\n",
       "Name: time_on_page, dtype: float64"
      ]
     },
     "execution_count": 121,
     "metadata": {},
     "output_type": "execute_result"
    }
   ],
   "source": [
    "df_mobile['time_on_page'].describe()"
   ]
  },
  {
   "cell_type": "code",
   "execution_count": 122,
   "id": "e597c750",
   "metadata": {},
   "outputs": [
    {
     "name": "stdout",
     "output_type": "stream",
     "text": [
      "Среднее время = 7322.150315313902 \n",
      "Медианное время = 64.0\n",
      "Максимальное время = 2253118.0\n"
     ]
    }
   ],
   "source": [
    "print(f\"Среднее время = {df_mobile['time_on_page'].mean()} \\nМедианное время = {df_mobile['time_on_page'].median()}\")\n",
    "print(f\"Максимальное время = {df_mobile['time_on_page'].max()}\")\n"
   ]
  },
  {
   "cell_type": "code",
   "execution_count": 123,
   "id": "63288ca6",
   "metadata": {},
   "outputs": [
    {
     "data": {
      "text/html": [
       "<div>\n",
       "<style scoped>\n",
       "    .dataframe tbody tr th:only-of-type {\n",
       "        vertical-align: middle;\n",
       "    }\n",
       "\n",
       "    .dataframe tbody tr th {\n",
       "        vertical-align: top;\n",
       "    }\n",
       "\n",
       "    .dataframe thead th {\n",
       "        text-align: right;\n",
       "    }\n",
       "</style>\n",
       "<table border=\"1\" class=\"dataframe\">\n",
       "  <thead>\n",
       "    <tr style=\"text-align: right;\">\n",
       "      <th></th>\n",
       "      <th>date_time</th>\n",
       "      <th>event_name</th>\n",
       "      <th>user_id</th>\n",
       "      <th>source</th>\n",
       "      <th>date</th>\n",
       "      <th>diff</th>\n",
       "      <th>id</th>\n",
       "      <th>session_id</th>\n",
       "      <th>is_first_event_in_session</th>\n",
       "      <th>time_on_page</th>\n",
       "    </tr>\n",
       "  </thead>\n",
       "  <tbody>\n",
       "    <tr>\n",
       "      <th>22270</th>\n",
       "      <td>2019-10-16 11:40:35</td>\n",
       "      <td>photos_show</td>\n",
       "      <td>a7fa4378-20cc-4bde-a9f4-aa54405c8322</td>\n",
       "      <td>other</td>\n",
       "      <td>2019-10-16</td>\n",
       "      <td>0 days 15:03:10</td>\n",
       "      <td>22270</td>\n",
       "      <td>22270.0</td>\n",
       "      <td>True</td>\n",
       "      <td>1133008.0</td>\n",
       "    </tr>\n",
       "    <tr>\n",
       "      <th>12071</th>\n",
       "      <td>2019-10-12 16:07:02</td>\n",
       "      <td>tips_show</td>\n",
       "      <td>95e6817d-7b08-4943-b363-133f86e1840e</td>\n",
       "      <td>other</td>\n",
       "      <td>2019-10-12</td>\n",
       "      <td>0 days 00:00:24</td>\n",
       "      <td>12071</td>\n",
       "      <td>12067.0</td>\n",
       "      <td>False</td>\n",
       "      <td>1145001.0</td>\n",
       "    </tr>\n",
       "    <tr>\n",
       "      <th>22474</th>\n",
       "      <td>2019-10-16 12:32:30</td>\n",
       "      <td>tips_show</td>\n",
       "      <td>cfa52a1d-f9e7-4a1c-807e-799e525e6250</td>\n",
       "      <td>yandex</td>\n",
       "      <td>2019-10-16</td>\n",
       "      <td>-15 days +23:58:30</td>\n",
       "      <td>22474</td>\n",
       "      <td>22421.0</td>\n",
       "      <td>False</td>\n",
       "      <td>1204601.0</td>\n",
       "    </tr>\n",
       "    <tr>\n",
       "      <th>13107</th>\n",
       "      <td>2019-10-12 22:50:33</td>\n",
       "      <td>photos_show</td>\n",
       "      <td>4fef9c5d-9bb0-4df4-a476-54e92c44a4b0</td>\n",
       "      <td>google</td>\n",
       "      <td>2019-10-12</td>\n",
       "      <td>0 days 22:07:51</td>\n",
       "      <td>13107</td>\n",
       "      <td>13107.0</td>\n",
       "      <td>True</td>\n",
       "      <td>1253148.0</td>\n",
       "    </tr>\n",
       "    <tr>\n",
       "      <th>21212</th>\n",
       "      <td>2019-10-15 21:39:21</td>\n",
       "      <td>tips_show</td>\n",
       "      <td>64821486-e7f8-4204-933b-96f8388ab177</td>\n",
       "      <td>google</td>\n",
       "      <td>2019-10-15</td>\n",
       "      <td>NaT</td>\n",
       "      <td>21212</td>\n",
       "      <td>21212.0</td>\n",
       "      <td>True</td>\n",
       "      <td>1300215.0</td>\n",
       "    </tr>\n",
       "    <tr>\n",
       "      <th>22003</th>\n",
       "      <td>2019-10-16 09:58:39</td>\n",
       "      <td>tips_show</td>\n",
       "      <td>5c288f90-c2fa-4403-9823-4bd0efaefc46</td>\n",
       "      <td>other</td>\n",
       "      <td>2019-10-16</td>\n",
       "      <td>0 days 00:02:21</td>\n",
       "      <td>22003</td>\n",
       "      <td>21946.0</td>\n",
       "      <td>False</td>\n",
       "      <td>1303533.0</td>\n",
       "    </tr>\n",
       "    <tr>\n",
       "      <th>10135</th>\n",
       "      <td>2019-10-11 14:11:00</td>\n",
       "      <td>tips_show</td>\n",
       "      <td>dd281955-685d-40ff-9f09-8d159b01818f</td>\n",
       "      <td>yandex</td>\n",
       "      <td>2019-10-11</td>\n",
       "      <td>-16 days +02:05:12</td>\n",
       "      <td>10135</td>\n",
       "      <td>10128.0</td>\n",
       "      <td>False</td>\n",
       "      <td>1374888.0</td>\n",
       "    </tr>\n",
       "    <tr>\n",
       "      <th>18249</th>\n",
       "      <td>2019-10-14 20:34:17</td>\n",
       "      <td>tips_show</td>\n",
       "      <td>4d85f388-8bd9-4f18-b23f-6f2d5602eb3c</td>\n",
       "      <td>google</td>\n",
       "      <td>2019-10-14</td>\n",
       "      <td>-16 days +00:26:39</td>\n",
       "      <td>18249</td>\n",
       "      <td>18235.0</td>\n",
       "      <td>False</td>\n",
       "      <td>1380801.0</td>\n",
       "    </tr>\n",
       "    <tr>\n",
       "      <th>16740</th>\n",
       "      <td>2019-10-14 12:44:16</td>\n",
       "      <td>tips_click</td>\n",
       "      <td>e01cf554-2f0e-473b-9933-bed623a19782</td>\n",
       "      <td>yandex</td>\n",
       "      <td>2019-10-14</td>\n",
       "      <td>NaT</td>\n",
       "      <td>16740</td>\n",
       "      <td>16740.0</td>\n",
       "      <td>True</td>\n",
       "      <td>1392707.0</td>\n",
       "    </tr>\n",
       "    <tr>\n",
       "      <th>10449</th>\n",
       "      <td>2019-10-11 15:49:41</td>\n",
       "      <td>photos_show</td>\n",
       "      <td>6263c230-0378-4989-9db2-b02b3ff5e8be</td>\n",
       "      <td>yandex</td>\n",
       "      <td>2019-10-11</td>\n",
       "      <td>NaT</td>\n",
       "      <td>10449</td>\n",
       "      <td>10449.0</td>\n",
       "      <td>True</td>\n",
       "      <td>1394773.0</td>\n",
       "    </tr>\n",
       "    <tr>\n",
       "      <th>9629</th>\n",
       "      <td>2019-10-11 10:56:22</td>\n",
       "      <td>search</td>\n",
       "      <td>fbcc37df-bb78-4adc-858f-5fe0047ea247</td>\n",
       "      <td>yandex</td>\n",
       "      <td>2019-10-11</td>\n",
       "      <td>-17 days +20:12:52</td>\n",
       "      <td>9629</td>\n",
       "      <td>9624.0</td>\n",
       "      <td>False</td>\n",
       "      <td>1396028.0</td>\n",
       "    </tr>\n",
       "    <tr>\n",
       "      <th>16813</th>\n",
       "      <td>2019-10-14 13:05:05</td>\n",
       "      <td>tips_show</td>\n",
       "      <td>8605f190-9838-4506-a314-7ba827acdea7</td>\n",
       "      <td>yandex</td>\n",
       "      <td>2019-10-14</td>\n",
       "      <td>6 days 23:36:40</td>\n",
       "      <td>16813</td>\n",
       "      <td>16813.0</td>\n",
       "      <td>True</td>\n",
       "      <td>1468093.0</td>\n",
       "    </tr>\n",
       "    <tr>\n",
       "      <th>7200</th>\n",
       "      <td>2019-10-10 07:42:23</td>\n",
       "      <td>search</td>\n",
       "      <td>6b2821b9-6203-4ddb-80a2-d4fca856b9c1</td>\n",
       "      <td>yandex</td>\n",
       "      <td>2019-10-10</td>\n",
       "      <td>NaT</td>\n",
       "      <td>7200</td>\n",
       "      <td>7200.0</td>\n",
       "      <td>True</td>\n",
       "      <td>1570109.0</td>\n",
       "    </tr>\n",
       "    <tr>\n",
       "      <th>20467</th>\n",
       "      <td>2019-10-15 16:39:57</td>\n",
       "      <td>photos_show</td>\n",
       "      <td>f82065ff-e9fc-4873-b4c2-e219d2079f83</td>\n",
       "      <td>yandex</td>\n",
       "      <td>2019-10-15</td>\n",
       "      <td>0 days 00:02:03</td>\n",
       "      <td>20467</td>\n",
       "      <td>20464.0</td>\n",
       "      <td>False</td>\n",
       "      <td>1578492.0</td>\n",
       "    </tr>\n",
       "    <tr>\n",
       "      <th>1982</th>\n",
       "      <td>2019-10-07 20:49:22</td>\n",
       "      <td>tips_show</td>\n",
       "      <td>25d83ec9-ab85-4557-b1da-98f8d2d5c312</td>\n",
       "      <td>yandex</td>\n",
       "      <td>2019-10-07</td>\n",
       "      <td>-19 days +08:03:06</td>\n",
       "      <td>1982</td>\n",
       "      <td>1970.0</td>\n",
       "      <td>False</td>\n",
       "      <td>1611595.0</td>\n",
       "    </tr>\n",
       "    <tr>\n",
       "      <th>4813</th>\n",
       "      <td>2019-10-08 20:51:24</td>\n",
       "      <td>tips_show</td>\n",
       "      <td>7f0fd671-f10d-4009-8a58-d36a9aa5f186</td>\n",
       "      <td>yandex</td>\n",
       "      <td>2019-10-08</td>\n",
       "      <td>NaT</td>\n",
       "      <td>4813</td>\n",
       "      <td>4813.0</td>\n",
       "      <td>True</td>\n",
       "      <td>1643838.0</td>\n",
       "    </tr>\n",
       "    <tr>\n",
       "      <th>8389</th>\n",
       "      <td>2019-10-10 15:40:21</td>\n",
       "      <td>tips_show</td>\n",
       "      <td>5d37a69f-fbfd-4565-8370-c1a72d9d13c1</td>\n",
       "      <td>yandex</td>\n",
       "      <td>2019-10-10</td>\n",
       "      <td>-20 days +15:52:18</td>\n",
       "      <td>8389</td>\n",
       "      <td>8373.0</td>\n",
       "      <td>False</td>\n",
       "      <td>1670453.0</td>\n",
       "    </tr>\n",
       "    <tr>\n",
       "      <th>5106</th>\n",
       "      <td>2019-10-09 03:02:39</td>\n",
       "      <td>advert_open</td>\n",
       "      <td>9939a5f7-0d7b-4191-a596-69c7bb9c9b38</td>\n",
       "      <td>yandex</td>\n",
       "      <td>2019-10-09</td>\n",
       "      <td>0 days 01:18:02</td>\n",
       "      <td>5106</td>\n",
       "      <td>5106.0</td>\n",
       "      <td>True</td>\n",
       "      <td>1810081.0</td>\n",
       "    </tr>\n",
       "    <tr>\n",
       "      <th>6596</th>\n",
       "      <td>2019-10-09 18:55:51</td>\n",
       "      <td>photos_show</td>\n",
       "      <td>d02f8f81-72f4-4f6b-ad5b-c021cf92b862</td>\n",
       "      <td>yandex</td>\n",
       "      <td>2019-10-09</td>\n",
       "      <td>0 days 00:01:28</td>\n",
       "      <td>6596</td>\n",
       "      <td>3276.0</td>\n",
       "      <td>False</td>\n",
       "      <td>2169652.0</td>\n",
       "    </tr>\n",
       "    <tr>\n",
       "      <th>259</th>\n",
       "      <td>2019-10-07 09:39:17</td>\n",
       "      <td>search</td>\n",
       "      <td>2b39c650-c582-4195-ba16-ade26ee0a72f</td>\n",
       "      <td>google</td>\n",
       "      <td>2019-10-07</td>\n",
       "      <td>NaT</td>\n",
       "      <td>259</td>\n",
       "      <td>259.0</td>\n",
       "      <td>True</td>\n",
       "      <td>2253118.0</td>\n",
       "    </tr>\n",
       "  </tbody>\n",
       "</table>\n",
       "</div>"
      ],
      "text/plain": [
       "                date_time   event_name                               user_id  \\\n",
       "22270 2019-10-16 11:40:35  photos_show  a7fa4378-20cc-4bde-a9f4-aa54405c8322   \n",
       "12071 2019-10-12 16:07:02  tips_show    95e6817d-7b08-4943-b363-133f86e1840e   \n",
       "22474 2019-10-16 12:32:30  tips_show    cfa52a1d-f9e7-4a1c-807e-799e525e6250   \n",
       "13107 2019-10-12 22:50:33  photos_show  4fef9c5d-9bb0-4df4-a476-54e92c44a4b0   \n",
       "21212 2019-10-15 21:39:21  tips_show    64821486-e7f8-4204-933b-96f8388ab177   \n",
       "22003 2019-10-16 09:58:39  tips_show    5c288f90-c2fa-4403-9823-4bd0efaefc46   \n",
       "10135 2019-10-11 14:11:00  tips_show    dd281955-685d-40ff-9f09-8d159b01818f   \n",
       "18249 2019-10-14 20:34:17  tips_show    4d85f388-8bd9-4f18-b23f-6f2d5602eb3c   \n",
       "16740 2019-10-14 12:44:16  tips_click   e01cf554-2f0e-473b-9933-bed623a19782   \n",
       "10449 2019-10-11 15:49:41  photos_show  6263c230-0378-4989-9db2-b02b3ff5e8be   \n",
       "9629  2019-10-11 10:56:22  search       fbcc37df-bb78-4adc-858f-5fe0047ea247   \n",
       "16813 2019-10-14 13:05:05  tips_show    8605f190-9838-4506-a314-7ba827acdea7   \n",
       "7200  2019-10-10 07:42:23  search       6b2821b9-6203-4ddb-80a2-d4fca856b9c1   \n",
       "20467 2019-10-15 16:39:57  photos_show  f82065ff-e9fc-4873-b4c2-e219d2079f83   \n",
       "1982  2019-10-07 20:49:22  tips_show    25d83ec9-ab85-4557-b1da-98f8d2d5c312   \n",
       "4813  2019-10-08 20:51:24  tips_show    7f0fd671-f10d-4009-8a58-d36a9aa5f186   \n",
       "8389  2019-10-10 15:40:21  tips_show    5d37a69f-fbfd-4565-8370-c1a72d9d13c1   \n",
       "5106  2019-10-09 03:02:39  advert_open  9939a5f7-0d7b-4191-a596-69c7bb9c9b38   \n",
       "6596  2019-10-09 18:55:51  photos_show  d02f8f81-72f4-4f6b-ad5b-c021cf92b862   \n",
       "259   2019-10-07 09:39:17  search       2b39c650-c582-4195-ba16-ade26ee0a72f   \n",
       "\n",
       "       source       date               diff     id  session_id  \\\n",
       "22270  other  2019-10-16 0 days 15:03:10     22270  22270.0      \n",
       "12071  other  2019-10-12 0 days 00:00:24     12071  12067.0      \n",
       "22474  yandex 2019-10-16 -15 days +23:58:30  22474  22421.0      \n",
       "13107  google 2019-10-12 0 days 22:07:51     13107  13107.0      \n",
       "21212  google 2019-10-15 NaT                 21212  21212.0      \n",
       "22003  other  2019-10-16 0 days 00:02:21     22003  21946.0      \n",
       "10135  yandex 2019-10-11 -16 days +02:05:12  10135  10128.0      \n",
       "18249  google 2019-10-14 -16 days +00:26:39  18249  18235.0      \n",
       "16740  yandex 2019-10-14 NaT                 16740  16740.0      \n",
       "10449  yandex 2019-10-11 NaT                 10449  10449.0      \n",
       "9629   yandex 2019-10-11 -17 days +20:12:52  9629   9624.0       \n",
       "16813  yandex 2019-10-14 6 days 23:36:40     16813  16813.0      \n",
       "7200   yandex 2019-10-10 NaT                 7200   7200.0       \n",
       "20467  yandex 2019-10-15 0 days 00:02:03     20467  20464.0      \n",
       "1982   yandex 2019-10-07 -19 days +08:03:06  1982   1970.0       \n",
       "4813   yandex 2019-10-08 NaT                 4813   4813.0       \n",
       "8389   yandex 2019-10-10 -20 days +15:52:18  8389   8373.0       \n",
       "5106   yandex 2019-10-09 0 days 01:18:02     5106   5106.0       \n",
       "6596   yandex 2019-10-09 0 days 00:01:28     6596   3276.0       \n",
       "259    google 2019-10-07 NaT                 259    259.0        \n",
       "\n",
       "       is_first_event_in_session  time_on_page  \n",
       "22270  True                       1133008.0     \n",
       "12071  False                      1145001.0     \n",
       "22474  False                      1204601.0     \n",
       "13107  True                       1253148.0     \n",
       "21212  True                       1300215.0     \n",
       "22003  False                      1303533.0     \n",
       "10135  False                      1374888.0     \n",
       "18249  False                      1380801.0     \n",
       "16740  True                       1392707.0     \n",
       "10449  True                       1394773.0     \n",
       "9629   False                      1396028.0     \n",
       "16813  True                       1468093.0     \n",
       "7200   True                       1570109.0     \n",
       "20467  False                      1578492.0     \n",
       "1982   False                      1611595.0     \n",
       "4813   True                       1643838.0     \n",
       "8389   False                      1670453.0     \n",
       "5106   True                       1810081.0     \n",
       "6596   False                      2169652.0     \n",
       "259    True                       2253118.0     "
      ]
     },
     "execution_count": 123,
     "metadata": {},
     "output_type": "execute_result"
    }
   ],
   "source": [
    "df_mobile[df_mobile['time_on_page'] > 1800].sort_values('time_on_page').tail(20)"
   ]
  },
  {
   "cell_type": "code",
   "execution_count": 124,
   "id": "c2c37a90",
   "metadata": {},
   "outputs": [
    {
     "data": {
      "image/png": "[encoded data removed]",
      "text/plain": [
       "<Figure size 936x576 with 1 Axes>"
      ]
     },
     "metadata": {
      "needs_background": "light"
     },
     "output_type": "display_data"
    }
   ],
   "source": [
    "plt.figure(figsize=(13,8))\n",
    "sns.boxplot(data=df_mobile, x='event_name', y='time_on_page')\n",
    "plt.title('Диаграма размаха')\n",
    "plt.xlabel('События')\n",
    "plt.ylabel('Время сессии')\n",
    "plt.ylim(0, 2000)\n",
    "plt.show()"
   ]
  },
  {
   "cell_type": "markdown",
   "id": "9876c6a6",
   "metadata": {},
   "source": [
    "Учитывая разницу среднего и медианного значений, максимальное время просмотра, а также boxplot  - конкретное значение усредненно так как время довольно \"плавно\" возрастает от нескольких секунд до 26 дней.   \n",
    "В датасете присутсвуют выбросы с показателями в 2253118.0 млн секунд - 26 дней. Boxplot наглядно показывает, что выбросы начинаются от 370-400 секунд, выделяется лишь contacts_call, но данное событие не является целевым, поэтому стоит убрать выбросы.     \n",
    "Хорошей статистикой для суммирования выборки негауссовых распределений данных является Interquartile Range, или IQR для краткости.  \n",
    "  \n",
    "IQR рассчитывается как разница между 75-м и 25-м процентилями данных и определяет прямоугольник на графике прямоугольника и вискера.  "
   ]
  },
  {
   "cell_type": "code",
   "execution_count": 125,
   "id": "d14c6166",
   "metadata": {},
   "outputs": [],
   "source": [
    "column = ['time_on_page']\n",
    "\n",
    "Q1 = df_mobile[column].quantile(0.25)\n",
    "Q3 = df_mobile[column].quantile(0.75)\n",
    "IQR = Q3 - Q1\n",
    "\n",
    "df_mobile = df_mobile[~((df_mobile[column] < (Q1 - 1.5 * IQR)) |(df_mobile[column] > (Q3 + 1.5 * IQR))).any(axis=1)]"
   ]
  },
  {
   "cell_type": "code",
   "execution_count": 126,
   "id": "dc356538",
   "metadata": {},
   "outputs": [
    {
     "data": {
      "image/png": "[encoded data removed]",
      "text/plain": [
       "<Figure size 936x576 with 1 Axes>"
      ]
     },
     "metadata": {
      "needs_background": "light"
     },
     "output_type": "display_data"
    }
   ],
   "source": [
    "plt.figure(figsize=(13,8))\n",
    "sns.boxplot(data=df_mobile, x='event_name', y='time_on_page')\n",
    "plt.title('Диаграма размаха')\n",
    "plt.xlabel('События')\n",
    "plt.ylabel('Время сессии')\n",
    "plt.ylim(0, 600)\n",
    "plt.show()"
   ]
  },
  {
   "cell_type": "code",
   "execution_count": 127,
   "id": "0ffc61f1",
   "metadata": {
    "scrolled": true
   },
   "outputs": [
    {
     "name": "stdout",
     "output_type": "stream",
     "text": [
      "Количество пользователей:  4293\n",
      "Количество сессий:  18481\n",
      "Количество просмотров страниц:  70452\n",
      "Среднее время просмотра страницы:  75.3377417519909\n",
      "Медианное время просмотра страницы:  52.0\n",
      "Максимальное время просмотра страницы:  346.0\n"
     ]
    }
   ],
   "source": [
    "print('Количество пользователей: ',df_mobile['user_id'].nunique())\n",
    "print('Количество сессий: ', df_mobile['session_id'].nunique())\n",
    "print('Количество просмотров страниц: ', df_mobile['id'].count())\n",
    "print('Среднее время просмотра страницы: ',df_mobile['time_on_page'].mean())\n",
    "print('Медианное время просмотра страницы: ',df_mobile['time_on_page'].median())\n",
    "print('Максимальное время просмотра страницы: ',df_mobile['time_on_page'].max())"
   ]
  },
  {
   "cell_type": "markdown",
   "id": "16845249",
   "metadata": {},
   "source": [
    "Другое дело, разница среднего, максимального и медианы уже не пугающая. Можно анализировать дальше."
   ]
  },
  {
   "cell_type": "markdown",
   "id": "1e4dd825",
   "metadata": {},
   "source": [
    "Рассчитаем среднее времени от первого действия до Целевого(показ контактов). Добавим столбец с названием первого события."
   ]
  },
  {
   "cell_type": "code",
   "execution_count": 128,
   "id": "dfcb5b93",
   "metadata": {},
   "outputs": [],
   "source": [
    "df_mobile_show = df_mobile.query('event_name == \"contacts_show\"').groupby('user_id')['date_time'].min().reset_index()\n",
    "df_mobile_show.columns = ['user_id', 'time_first_contacts_show']\n",
    "user_first_event = df_mobile.groupby('user_id')['date_time'].min().reset_index()"
   ]
  },
  {
   "cell_type": "code",
   "execution_count": 129,
   "id": "21f6a223",
   "metadata": {},
   "outputs": [
    {
     "data": {
      "text/html": [
       "<div>\n",
       "<style scoped>\n",
       "    .dataframe tbody tr th:only-of-type {\n",
       "        vertical-align: middle;\n",
       "    }\n",
       "\n",
       "    .dataframe tbody tr th {\n",
       "        vertical-align: top;\n",
       "    }\n",
       "\n",
       "    .dataframe thead th {\n",
       "        text-align: right;\n",
       "    }\n",
       "</style>\n",
       "<table border=\"1\" class=\"dataframe\">\n",
       "  <thead>\n",
       "    <tr style=\"text-align: right;\">\n",
       "      <th></th>\n",
       "      <th>user_id</th>\n",
       "      <th>date_time</th>\n",
       "      <th>first_event</th>\n",
       "    </tr>\n",
       "  </thead>\n",
       "  <tbody>\n",
       "    <tr>\n",
       "      <th>0</th>\n",
       "      <td>0001b1d5-b74a-4cbf-aeb0-7df5947bf349</td>\n",
       "      <td>2019-10-07 13:39:45</td>\n",
       "      <td>tips_show</td>\n",
       "    </tr>\n",
       "    <tr>\n",
       "      <th>1</th>\n",
       "      <td>00157779-810c-4498-9e05-a1e9e3cedf93</td>\n",
       "      <td>2019-10-19 21:34:33</td>\n",
       "      <td>search</td>\n",
       "    </tr>\n",
       "    <tr>\n",
       "      <th>2</th>\n",
       "      <td>00463033-5717-4bf1-91b4-09183923b9df</td>\n",
       "      <td>2019-11-01 13:54:35</td>\n",
       "      <td>photos_show</td>\n",
       "    </tr>\n",
       "    <tr>\n",
       "      <th>3</th>\n",
       "      <td>004690c3-5a84-4bb7-a8af-e0c8f8fca64e</td>\n",
       "      <td>2019-10-18 22:14:05</td>\n",
       "      <td>search</td>\n",
       "    </tr>\n",
       "    <tr>\n",
       "      <th>4</th>\n",
       "      <td>00551e79-152e-4441-9cf7-565d7eb04090</td>\n",
       "      <td>2019-10-25 16:44:41</td>\n",
       "      <td>contacts_show</td>\n",
       "    </tr>\n",
       "    <tr>\n",
       "      <th>...</th>\n",
       "      <td>...</td>\n",
       "      <td>...</td>\n",
       "      <td>...</td>\n",
       "    </tr>\n",
       "    <tr>\n",
       "      <th>4288</th>\n",
       "      <td>ffab8d8a-30bb-424a-a3ab-0b63ebbf7b07</td>\n",
       "      <td>2019-10-13 16:11:27</td>\n",
       "      <td>map</td>\n",
       "    </tr>\n",
       "    <tr>\n",
       "      <th>4289</th>\n",
       "      <td>ffc01466-fdb1-4460-ae94-e800f52eb136</td>\n",
       "      <td>2019-10-07 20:32:49</td>\n",
       "      <td>photos_show</td>\n",
       "    </tr>\n",
       "    <tr>\n",
       "      <th>4290</th>\n",
       "      <td>ffcf50d9-293c-4254-8243-4890b030b238</td>\n",
       "      <td>2019-10-23 11:51:35</td>\n",
       "      <td>tips_show</td>\n",
       "    </tr>\n",
       "    <tr>\n",
       "      <th>4291</th>\n",
       "      <td>ffe68f10-e48e-470e-be9b-eeb93128ff1a</td>\n",
       "      <td>2019-10-21 16:39:33</td>\n",
       "      <td>search</td>\n",
       "    </tr>\n",
       "    <tr>\n",
       "      <th>4292</th>\n",
       "      <td>fffb9e79-b927-4dbb-9b48-7fd09b23a62b</td>\n",
       "      <td>2019-10-12 00:57:21</td>\n",
       "      <td>tips_show</td>\n",
       "    </tr>\n",
       "  </tbody>\n",
       "</table>\n",
       "<p>4293 rows × 3 columns</p>\n",
       "</div>"
      ],
      "text/plain": [
       "                                   user_id           date_time    first_event\n",
       "0     0001b1d5-b74a-4cbf-aeb0-7df5947bf349 2019-10-07 13:39:45  tips_show    \n",
       "1     00157779-810c-4498-9e05-a1e9e3cedf93 2019-10-19 21:34:33  search       \n",
       "2     00463033-5717-4bf1-91b4-09183923b9df 2019-11-01 13:54:35  photos_show  \n",
       "3     004690c3-5a84-4bb7-a8af-e0c8f8fca64e 2019-10-18 22:14:05  search       \n",
       "4     00551e79-152e-4441-9cf7-565d7eb04090 2019-10-25 16:44:41  contacts_show\n",
       "...                                    ...                 ...            ...\n",
       "4288  ffab8d8a-30bb-424a-a3ab-0b63ebbf7b07 2019-10-13 16:11:27  map          \n",
       "4289  ffc01466-fdb1-4460-ae94-e800f52eb136 2019-10-07 20:32:49  photos_show  \n",
       "4290  ffcf50d9-293c-4254-8243-4890b030b238 2019-10-23 11:51:35  tips_show    \n",
       "4291  ffe68f10-e48e-470e-be9b-eeb93128ff1a 2019-10-21 16:39:33  search       \n",
       "4292  fffb9e79-b927-4dbb-9b48-7fd09b23a62b 2019-10-12 00:57:21  tips_show    \n",
       "\n",
       "[4293 rows x 3 columns]"
      ]
     },
     "execution_count": 129,
     "metadata": {},
     "output_type": "execute_result"
    }
   ],
   "source": [
    "def event_min(row):\n",
    "    l = (df_mobile.loc[(df_mobile['user_id']==row['user_id']) & (df_mobile['date_time']==row['date_time']),'event_name']).values\n",
    "    return l[0]\n",
    "    \n",
    "user_first_event['first_event'] = user_first_event.apply(event_min, axis=1)\n",
    "user_first_event"
   ]
  },
  {
   "cell_type": "markdown",
   "id": "57bda6a3",
   "metadata": {},
   "source": [
    "Присоеденим вторую таблицу к первой и найдём разницу во времени"
   ]
  },
  {
   "cell_type": "code",
   "execution_count": 130,
   "id": "6e1b46ce",
   "metadata": {},
   "outputs": [
    {
     "data": {
      "text/html": [
       "<div>\n",
       "<style scoped>\n",
       "    .dataframe tbody tr th:only-of-type {\n",
       "        vertical-align: middle;\n",
       "    }\n",
       "\n",
       "    .dataframe tbody tr th {\n",
       "        vertical-align: top;\n",
       "    }\n",
       "\n",
       "    .dataframe thead th {\n",
       "        text-align: right;\n",
       "    }\n",
       "</style>\n",
       "<table border=\"1\" class=\"dataframe\">\n",
       "  <thead>\n",
       "    <tr style=\"text-align: right;\">\n",
       "      <th></th>\n",
       "      <th>user_id</th>\n",
       "      <th>time_first_contacts_show</th>\n",
       "      <th>time_first_event</th>\n",
       "      <th>first_event</th>\n",
       "      <th>delta_time</th>\n",
       "    </tr>\n",
       "  </thead>\n",
       "  <tbody>\n",
       "    <tr>\n",
       "      <th>0</th>\n",
       "      <td>00157779-810c-4498-9e05-a1e9e3cedf93</td>\n",
       "      <td>2019-10-20 19:17:18</td>\n",
       "      <td>2019-10-19 21:34:33</td>\n",
       "      <td>search</td>\n",
       "      <td>0 days 21:42:45</td>\n",
       "    </tr>\n",
       "    <tr>\n",
       "      <th>1</th>\n",
       "      <td>00551e79-152e-4441-9cf7-565d7eb04090</td>\n",
       "      <td>2019-10-25 16:44:41</td>\n",
       "      <td>2019-10-25 16:44:41</td>\n",
       "      <td>contacts_show</td>\n",
       "      <td>0 days 00:00:00</td>\n",
       "    </tr>\n",
       "    <tr>\n",
       "      <th>2</th>\n",
       "      <td>005fbea5-2678-406f-88a6-fbe9787e2268</td>\n",
       "      <td>2019-10-11 11:22:54</td>\n",
       "      <td>2019-10-11 11:22:54</td>\n",
       "      <td>contacts_show</td>\n",
       "      <td>0 days 00:00:00</td>\n",
       "    </tr>\n",
       "    <tr>\n",
       "      <th>3</th>\n",
       "      <td>007d031d-5018-4e02-b7ee-72a30609173f</td>\n",
       "      <td>2019-10-22 13:08:09</td>\n",
       "      <td>2019-10-22 13:02:26</td>\n",
       "      <td>map</td>\n",
       "      <td>0 days 00:05:43</td>\n",
       "    </tr>\n",
       "    <tr>\n",
       "      <th>4</th>\n",
       "      <td>00a93a72-3bbc-4ee7-8a81-7134f45ae009</td>\n",
       "      <td>2019-10-11 15:38:12</td>\n",
       "      <td>2019-10-11 15:38:12</td>\n",
       "      <td>contacts_show</td>\n",
       "      <td>0 days 00:00:00</td>\n",
       "    </tr>\n",
       "    <tr>\n",
       "      <th>...</th>\n",
       "      <td>...</td>\n",
       "      <td>...</td>\n",
       "      <td>...</td>\n",
       "      <td>...</td>\n",
       "      <td>...</td>\n",
       "    </tr>\n",
       "    <tr>\n",
       "      <th>947</th>\n",
       "      <td>fee3ba1c-16f4-46f7-bf56-4bf80cc4e2f5</td>\n",
       "      <td>2019-10-26 12:13:19</td>\n",
       "      <td>2019-10-26 11:43:11</td>\n",
       "      <td>search</td>\n",
       "      <td>0 days 00:30:08</td>\n",
       "    </tr>\n",
       "    <tr>\n",
       "      <th>948</th>\n",
       "      <td>ff1554b5-919e-40b1-90bb-ee1f7f6d5846</td>\n",
       "      <td>2019-10-21 10:59:23</td>\n",
       "      <td>2019-10-21 08:28:33</td>\n",
       "      <td>photos_show</td>\n",
       "      <td>0 days 02:30:50</td>\n",
       "    </tr>\n",
       "    <tr>\n",
       "      <th>949</th>\n",
       "      <td>ffc01466-fdb1-4460-ae94-e800f52eb136</td>\n",
       "      <td>2019-10-07 20:33:42</td>\n",
       "      <td>2019-10-07 20:32:49</td>\n",
       "      <td>photos_show</td>\n",
       "      <td>0 days 00:00:53</td>\n",
       "    </tr>\n",
       "    <tr>\n",
       "      <th>950</th>\n",
       "      <td>ffe68f10-e48e-470e-be9b-eeb93128ff1a</td>\n",
       "      <td>2019-10-22 16:07:17</td>\n",
       "      <td>2019-10-21 16:39:33</td>\n",
       "      <td>search</td>\n",
       "      <td>0 days 23:27:44</td>\n",
       "    </tr>\n",
       "    <tr>\n",
       "      <th>951</th>\n",
       "      <td>fffb9e79-b927-4dbb-9b48-7fd09b23a62b</td>\n",
       "      <td>2019-10-16 13:28:56</td>\n",
       "      <td>2019-10-12 00:57:21</td>\n",
       "      <td>tips_show</td>\n",
       "      <td>4 days 12:31:35</td>\n",
       "    </tr>\n",
       "  </tbody>\n",
       "</table>\n",
       "<p>952 rows × 5 columns</p>\n",
       "</div>"
      ],
      "text/plain": [
       "                                  user_id time_first_contacts_show  \\\n",
       "0    00157779-810c-4498-9e05-a1e9e3cedf93 2019-10-20 19:17:18        \n",
       "1    00551e79-152e-4441-9cf7-565d7eb04090 2019-10-25 16:44:41        \n",
       "2    005fbea5-2678-406f-88a6-fbe9787e2268 2019-10-11 11:22:54        \n",
       "3    007d031d-5018-4e02-b7ee-72a30609173f 2019-10-22 13:08:09        \n",
       "4    00a93a72-3bbc-4ee7-8a81-7134f45ae009 2019-10-11 15:38:12        \n",
       "..                                    ...                 ...        \n",
       "947  fee3ba1c-16f4-46f7-bf56-4bf80cc4e2f5 2019-10-26 12:13:19        \n",
       "948  ff1554b5-919e-40b1-90bb-ee1f7f6d5846 2019-10-21 10:59:23        \n",
       "949  ffc01466-fdb1-4460-ae94-e800f52eb136 2019-10-07 20:33:42        \n",
       "950  ffe68f10-e48e-470e-be9b-eeb93128ff1a 2019-10-22 16:07:17        \n",
       "951  fffb9e79-b927-4dbb-9b48-7fd09b23a62b 2019-10-16 13:28:56        \n",
       "\n",
       "       time_first_event    first_event      delta_time  \n",
       "0   2019-10-19 21:34:33  search        0 days 21:42:45  \n",
       "1   2019-10-25 16:44:41  contacts_show 0 days 00:00:00  \n",
       "2   2019-10-11 11:22:54  contacts_show 0 days 00:00:00  \n",
       "3   2019-10-22 13:02:26  map           0 days 00:05:43  \n",
       "4   2019-10-11 15:38:12  contacts_show 0 days 00:00:00  \n",
       "..                  ...            ...             ...  \n",
       "947 2019-10-26 11:43:11  search        0 days 00:30:08  \n",
       "948 2019-10-21 08:28:33  photos_show   0 days 02:30:50  \n",
       "949 2019-10-07 20:32:49  photos_show   0 days 00:00:53  \n",
       "950 2019-10-21 16:39:33  search        0 days 23:27:44  \n",
       "951 2019-10-12 00:57:21  tips_show     4 days 12:31:35  \n",
       "\n",
       "[952 rows x 5 columns]"
      ]
     },
     "execution_count": 130,
     "metadata": {},
     "output_type": "execute_result"
    }
   ],
   "source": [
    "df_mobile_show = df_mobile_show.merge(user_first_event, on='user_id', how='left')\n",
    "df_mobile_show.columns = ['user_id', 'time_first_contacts_show', 'time_first_event', 'first_event']\n",
    "df_mobile_show['delta_time'] = df_mobile_show['time_first_contacts_show'] - df_mobile_show['time_first_event']\n",
    "df_mobile_show"
   ]
  },
  {
   "cell_type": "markdown",
   "id": "7a7e5c03",
   "metadata": {},
   "source": [
    "Проверим все ли события явдяются \"contacts_show\" там где \"delta_time\" = \"0 days 00:00:00\""
   ]
  },
  {
   "cell_type": "code",
   "execution_count": 131,
   "id": "a6dd4fe7",
   "metadata": {},
   "outputs": [
    {
     "data": {
      "text/plain": [
       "contacts_show    183\n",
       "Name: first_event, dtype: int64"
      ]
     },
     "execution_count": 131,
     "metadata": {},
     "output_type": "execute_result"
    }
   ],
   "source": [
    "df_mobile_show.sort_values(by='delta_time')\n",
    "df_mobile_show.query('delta_time ==\"0 days 00:00:00\"')['first_event'].value_counts()"
   ]
  },
  {
   "cell_type": "markdown",
   "id": "b6d13216",
   "metadata": {},
   "source": [
    "Да, все верно, мы видим наше целевое событие.  \n",
    "  \n",
    "Из таблицы и проверки видно, что есть пользователи у которых \"delta_time\" равно 0. Это значит первым событием было \"contacts_show\". Возможно это произошло из-за того, что у нас срез данных и первое своё действие (когда и какое мы не узнаем) пользователь совершил за пределами (раньше) предоставленной нам информации (чтобы дойти до целевого события пользователь должен совершить перед ним хотя бы еще одно действие. Поэтому, чтобы не искажать средний результат надо этих пользователей отбросить."
   ]
  },
  {
   "cell_type": "code",
   "execution_count": 132,
   "id": "46e3865a",
   "metadata": {},
   "outputs": [
    {
     "data": {
      "text/html": [
       "<div>\n",
       "<style scoped>\n",
       "    .dataframe tbody tr th:only-of-type {\n",
       "        vertical-align: middle;\n",
       "    }\n",
       "\n",
       "    .dataframe tbody tr th {\n",
       "        vertical-align: top;\n",
       "    }\n",
       "\n",
       "    .dataframe thead th {\n",
       "        text-align: right;\n",
       "    }\n",
       "</style>\n",
       "<table border=\"1\" class=\"dataframe\">\n",
       "  <thead>\n",
       "    <tr style=\"text-align: right;\">\n",
       "      <th></th>\n",
       "      <th>user_id</th>\n",
       "      <th>time_first_contacts_show</th>\n",
       "      <th>time_first_event</th>\n",
       "      <th>first_event</th>\n",
       "      <th>delta_time</th>\n",
       "    </tr>\n",
       "  </thead>\n",
       "  <tbody>\n",
       "    <tr>\n",
       "      <th>0</th>\n",
       "      <td>00157779-810c-4498-9e05-a1e9e3cedf93</td>\n",
       "      <td>2019-10-20 19:17:18</td>\n",
       "      <td>2019-10-19 21:34:33</td>\n",
       "      <td>search</td>\n",
       "      <td>0 days 21:42:45</td>\n",
       "    </tr>\n",
       "    <tr>\n",
       "      <th>1</th>\n",
       "      <td>007d031d-5018-4e02-b7ee-72a30609173f</td>\n",
       "      <td>2019-10-22 13:08:09</td>\n",
       "      <td>2019-10-22 13:02:26</td>\n",
       "      <td>map</td>\n",
       "      <td>0 days 00:05:43</td>\n",
       "    </tr>\n",
       "    <tr>\n",
       "      <th>2</th>\n",
       "      <td>01556e76-d389-43bd-9fc7-1a3ba9802f49</td>\n",
       "      <td>2019-10-10 16:09:38</td>\n",
       "      <td>2019-10-10 16:09:12</td>\n",
       "      <td>photos_show</td>\n",
       "      <td>0 days 00:00:26</td>\n",
       "    </tr>\n",
       "    <tr>\n",
       "      <th>3</th>\n",
       "      <td>01585246-7d9b-4e03-a465-095d5b891b0a</td>\n",
       "      <td>2019-10-17 16:21:56</td>\n",
       "      <td>2019-10-17 16:20:58</td>\n",
       "      <td>search</td>\n",
       "      <td>0 days 00:00:58</td>\n",
       "    </tr>\n",
       "    <tr>\n",
       "      <th>4</th>\n",
       "      <td>035ae717-a6ae-4569-b952-16be9447832b</td>\n",
       "      <td>2019-10-27 16:58:12</td>\n",
       "      <td>2019-10-27 16:52:54</td>\n",
       "      <td>tips_show</td>\n",
       "      <td>0 days 00:05:18</td>\n",
       "    </tr>\n",
       "  </tbody>\n",
       "</table>\n",
       "</div>"
      ],
      "text/plain": [
       "                                user_id time_first_contacts_show  \\\n",
       "0  00157779-810c-4498-9e05-a1e9e3cedf93 2019-10-20 19:17:18        \n",
       "1  007d031d-5018-4e02-b7ee-72a30609173f 2019-10-22 13:08:09        \n",
       "2  01556e76-d389-43bd-9fc7-1a3ba9802f49 2019-10-10 16:09:38        \n",
       "3  01585246-7d9b-4e03-a465-095d5b891b0a 2019-10-17 16:21:56        \n",
       "4  035ae717-a6ae-4569-b952-16be9447832b 2019-10-27 16:58:12        \n",
       "\n",
       "     time_first_event  first_event      delta_time  \n",
       "0 2019-10-19 21:34:33  search      0 days 21:42:45  \n",
       "1 2019-10-22 13:02:26  map         0 days 00:05:43  \n",
       "2 2019-10-10 16:09:12  photos_show 0 days 00:00:26  \n",
       "3 2019-10-17 16:20:58  search      0 days 00:00:58  \n",
       "4 2019-10-27 16:52:54  tips_show   0 days 00:05:18  "
      ]
     },
     "execution_count": 132,
     "metadata": {},
     "output_type": "execute_result"
    }
   ],
   "source": [
    "df_mobile_show = df_mobile_show.query('delta_time !=\"0 days 00:00:00\"').reset_index(drop=True)\n",
    "df_mobile_show.head()"
   ]
  },
  {
   "cell_type": "code",
   "execution_count": 133,
   "id": "dbcd4ee0",
   "metadata": {},
   "outputs": [
    {
     "name": "stdout",
     "output_type": "stream",
     "text": [
      "Среднее время = 1 days 12:31:53.239271781 \n",
      "Медианное время = 0 days 00:22:20\n"
     ]
    }
   ],
   "source": [
    "print(f\"Среднее время = {df_mobile_show['delta_time'].mean()} \\nМедианное время = {df_mobile_show['delta_time'].median()}\")\n"
   ]
  },
  {
   "cell_type": "markdown",
   "id": "f11a8ccb",
   "metadata": {},
   "source": [
    "Слишком большая разница между средним и медианой. Посмотрим распределение времени на гистограмме.  \n",
    "\n",
    "Чтобы построить гистограмму переведем время в секунды и разделим на 60 (будет время в минутах)."
   ]
  },
  {
   "cell_type": "code",
   "execution_count": 134,
   "id": "0be8367c",
   "metadata": {},
   "outputs": [
    {
     "data": {
      "text/plain": [
       "count    769                      \n",
       "mean     1 days 12:31:53.239271781\n",
       "std      3 days 12:25:52.016625543\n",
       "min      0 days 00:00:07          \n",
       "25%      0 days 00:04:40          \n",
       "50%      0 days 00:22:20          \n",
       "75%      0 days 22:05:06          \n",
       "max      23 days 04:20:38         \n",
       "Name: delta_time, dtype: object"
      ]
     },
     "execution_count": 134,
     "metadata": {},
     "output_type": "execute_result"
    }
   ],
   "source": [
    "df_mobile_show['delta_time'].describe()"
   ]
  },
  {
   "cell_type": "code",
   "execution_count": 135,
   "id": "8d0aee39",
   "metadata": {},
   "outputs": [
    {
     "data": {
      "text/plain": [
       "0      1302.8\n",
       "1      5.7   \n",
       "2      0.4   \n",
       "3      1.0   \n",
       "4      5.3   \n",
       "      ...    \n",
       "764    30.1  \n",
       "765    150.8 \n",
       "766    0.9   \n",
       "767    1407.7\n",
       "768    6511.6\n",
       "Name: delta_time, Length: 769, dtype: float64"
      ]
     },
     "execution_count": 135,
     "metadata": {},
     "output_type": "execute_result"
    }
   ],
   "source": [
    "delta_minutes = round(df_mobile_show['delta_time'].dt.total_seconds()/60, 1)\n",
    "delta_minutes"
   ]
  },
  {
   "cell_type": "code",
   "execution_count": 136,
   "id": "92038f12",
   "metadata": {
    "scrolled": false
   },
   "outputs": [
    {
     "data": {
      "image/png": "[encoded data removed]",
      "text/plain": [
       "<Figure size 792x216 with 1 Axes>"
      ]
     },
     "metadata": {
      "needs_background": "light"
     },
     "output_type": "display_data"
    },
    {
     "data": {
      "image/png": "[encoded data removed]",
      "text/plain": [
       "<Figure size 216x576 with 1 Axes>"
      ]
     },
     "metadata": {
      "needs_background": "light"
     },
     "output_type": "display_data"
    }
   ],
   "source": [
    "delta_minutes.hist(figsize=(11,3),bins=60, range=(0,500));\n",
    "plt.title('Распределение времени по кол-ву пользователей')\n",
    "plt.ylabel('Кол-во пользователей')\n",
    "plt.xlabel('Время, мин');\n",
    "plt.show()\n",
    "\n",
    "plt.figure(figsize=(3,8))\n",
    "plt.title('Распределение и выбросы')\n",
    "plt.ylabel('Время, мин');\n",
    "plt.boxplot(delta_minutes)\n",
    "plt.ylim(0,5000);"
   ]
  },
  {
   "cell_type": "code",
   "execution_count": 137,
   "id": "6075c7a1",
   "metadata": {},
   "outputs": [
    {
     "name": "stdout",
     "output_type": "stream",
     "text": [
      "5-й процентиль = 0.7 минут\n",
      "10-й процентиль = 1.2 минут\n",
      "15-й процентиль = 2.0 минут\n",
      "20-й процентиль = 3.2 минут\n",
      "25-й процентиль = 4.7 минут\n",
      "30-й процентиль = 6.1 минут\n",
      "35-й процентиль = 8.6 минут\n",
      "40-й процентиль = 11.2 минут\n",
      "45-й процентиль = 15.3 минут\n",
      "50-й процентиль = 22.3 минут\n",
      "55-й процентиль = 34.7 минут\n",
      "60-й процентиль = 60.5 минут\n",
      "65-й процентиль = 162.5 минут\n",
      "70-й процентиль = 579.0 минут\n",
      "75-й процентиль = 1325.1 минут\n",
      "80-й процентиль = 2703.5 минут\n",
      "85-й процентиль = 4577.4 минут\n",
      "90-й процентиль = 7785.6 минут\n",
      "95-й процентиль = 13295.6 минут\n"
     ]
    }
   ],
   "source": [
    "for perc in range(5,100,5):\n",
    "    print(f\"{perc}-й процентиль = {round(np.percentile(delta_minutes, perc),1)} минут\")\n"
   ]
  },
  {
   "cell_type": "markdown",
   "id": "9b1d8ff5",
   "metadata": {},
   "source": [
    "На лицо присуствие выбросов  \n",
    "Среднее время = 1 день 12:31:53   \n",
    "Медианное время = 0 дней 00:22:20  "
   ]
  },
  {
   "cell_type": "markdown",
   "id": "26bd7f56",
   "metadata": {},
   "source": [
    "Напишем функцию которая поможет создать новый датафрейм с колонками : пользователь / событие перед целевым / время (в принципе поля время и пользователь необязательны, но вдруг понадобятся.). Событие перед целевым - не может быть целевым (\"contacts_show\", в таблице попадаются случаи когда идут 2 целевых подряд, поэтому мы берем первое) и не \"contacts_call\"(так как воронка идет : событие -> \"contacts_show\" -> \"contacts_call)"
   ]
  },
  {
   "cell_type": "code",
   "execution_count": 138,
   "id": "b1a44ef4",
   "metadata": {},
   "outputs": [
    {
     "data": {
      "text/html": [
       "<div>\n",
       "<style scoped>\n",
       "    .dataframe tbody tr th:only-of-type {\n",
       "        vertical-align: middle;\n",
       "    }\n",
       "\n",
       "    .dataframe tbody tr th {\n",
       "        vertical-align: top;\n",
       "    }\n",
       "\n",
       "    .dataframe thead th {\n",
       "        text-align: right;\n",
       "    }\n",
       "</style>\n",
       "<table border=\"1\" class=\"dataframe\">\n",
       "  <thead>\n",
       "    <tr style=\"text-align: right;\">\n",
       "      <th></th>\n",
       "      <th>user_id</th>\n",
       "      <th>date_time</th>\n",
       "      <th>event_name</th>\n",
       "      <th>time_cont_show</th>\n",
       "    </tr>\n",
       "  </thead>\n",
       "  <tbody>\n",
       "    <tr>\n",
       "      <th>12</th>\n",
       "      <td>79a7b52a-8949-4e58-8cb4-8727181a6ddd</td>\n",
       "      <td>2019-10-10 13:55:01</td>\n",
       "      <td>tips_show</td>\n",
       "      <td>2019-10-10 13:55:42</td>\n",
       "    </tr>\n",
       "    <tr>\n",
       "      <th>48</th>\n",
       "      <td>9a8f5b68-87a6-4468-93e1-2130d5de0e63</td>\n",
       "      <td>2019-10-31 08:21:32</td>\n",
       "      <td>tips_show</td>\n",
       "      <td>2019-10-31 08:21:34</td>\n",
       "    </tr>\n",
       "    <tr>\n",
       "      <th>118</th>\n",
       "      <td>955bd7b0-8da8-49df-adee-546b59347634</td>\n",
       "      <td>2019-10-14 15:01:38</td>\n",
       "      <td>tips_show</td>\n",
       "      <td>2019-10-14 15:01:42</td>\n",
       "    </tr>\n",
       "    <tr>\n",
       "      <th>17</th>\n",
       "      <td>f5bc9d6e-5ea1-4576-b360-4e93872e7ef3</td>\n",
       "      <td>2019-10-08 09:10:22</td>\n",
       "      <td>tips_show</td>\n",
       "      <td>2019-10-08 09:10:36</td>\n",
       "    </tr>\n",
       "    <tr>\n",
       "      <th>5</th>\n",
       "      <td>2aefc667-34b3-43f1-bd19-da65c4435bf1</td>\n",
       "      <td>2019-10-09 10:22:31</td>\n",
       "      <td>tips_show</td>\n",
       "      <td>2019-10-09 10:22:49</td>\n",
       "    </tr>\n",
       "  </tbody>\n",
       "</table>\n",
       "</div>"
      ],
      "text/plain": [
       "                                  user_id           date_time event_name  \\\n",
       "12   79a7b52a-8949-4e58-8cb4-8727181a6ddd 2019-10-10 13:55:01  tips_show   \n",
       "48   9a8f5b68-87a6-4468-93e1-2130d5de0e63 2019-10-31 08:21:32  tips_show   \n",
       "118  955bd7b0-8da8-49df-adee-546b59347634 2019-10-14 15:01:38  tips_show   \n",
       "17   f5bc9d6e-5ea1-4576-b360-4e93872e7ef3 2019-10-08 09:10:22  tips_show   \n",
       "5    2aefc667-34b3-43f1-bd19-da65c4435bf1 2019-10-09 10:22:31  tips_show   \n",
       "\n",
       "         time_cont_show  \n",
       "12  2019-10-10 13:55:42  \n",
       "48  2019-10-31 08:21:34  \n",
       "118 2019-10-14 15:01:42  \n",
       "17  2019-10-08 09:10:36  \n",
       "5   2019-10-09 10:22:49  "
      ]
     },
     "execution_count": 138,
     "metadata": {},
     "output_type": "execute_result"
    }
   ],
   "source": [
    "def events_before(id):\n",
    "    \n",
    "    one_user = df_mobile[df_mobile['user_id']==id].sort_values(by='date_time').reset_index() \n",
    "\n",
    "    global prev_cs\n",
    "    event = ''\n",
    "    prev_index = 0\n",
    "    \n",
    "    for index in one_user.index:\n",
    "\n",
    "        if (one_user.loc[index,'event_name']=='contacts_show' and event!='' and event!='contacts_call' and one_user.loc[prev_index,'event_name']!='contacts_show'):\n",
    "            one_user['time_cont_show'] = one_user.loc[index,'date_time']\n",
    "            prev_cs = prev_cs.append(one_user.loc[prev_index,['user_id', 'date_time', 'event_name', 'time_cont_show']]) #, ignore_index=True)\n",
    "\n",
    "        event = one_user.loc[index,'event_name']\n",
    "        prev_index = index\n",
    "    \n",
    "prev_cs = pd.DataFrame()\n",
    "\n",
    "df_mobile_show['user_id'].apply(events_before)\n",
    "\n",
    "prev_cs.sample(5)"
   ]
  },
  {
   "cell_type": "markdown",
   "id": "d5fc562f",
   "metadata": {},
   "source": [
    "Создадим еще 2 столбца: \"delta_time\" - время между событием и ЦС, \"delta_time_sec\" - тоже но в секундах."
   ]
  },
  {
   "cell_type": "code",
   "execution_count": 139,
   "id": "02fb36f3",
   "metadata": {},
   "outputs": [
    {
     "data": {
      "text/html": [
       "<div>\n",
       "<style scoped>\n",
       "    .dataframe tbody tr th:only-of-type {\n",
       "        vertical-align: middle;\n",
       "    }\n",
       "\n",
       "    .dataframe tbody tr th {\n",
       "        vertical-align: top;\n",
       "    }\n",
       "\n",
       "    .dataframe thead th {\n",
       "        text-align: right;\n",
       "    }\n",
       "</style>\n",
       "<table border=\"1\" class=\"dataframe\">\n",
       "  <thead>\n",
       "    <tr style=\"text-align: right;\">\n",
       "      <th></th>\n",
       "      <th>user_id</th>\n",
       "      <th>date_time</th>\n",
       "      <th>event_name</th>\n",
       "      <th>time_cont_show</th>\n",
       "      <th>delta_time</th>\n",
       "      <th>delta_time_sec</th>\n",
       "    </tr>\n",
       "  </thead>\n",
       "  <tbody>\n",
       "    <tr>\n",
       "      <th>5</th>\n",
       "      <td>b4f5ac30-e3cd-46fc-afd6-b03a4aaca117</td>\n",
       "      <td>2019-10-30 10:18:11</td>\n",
       "      <td>tips_show</td>\n",
       "      <td>2019-10-30 10:23:59</td>\n",
       "      <td>0 days 00:05:48</td>\n",
       "      <td>348.0</td>\n",
       "    </tr>\n",
       "    <tr>\n",
       "      <th>16</th>\n",
       "      <td>b5ef76f6-d1fc-4721-b8cc-72ac8a9a795b</td>\n",
       "      <td>2019-10-27 16:25:56</td>\n",
       "      <td>photos_show</td>\n",
       "      <td>2019-10-27 16:26:32</td>\n",
       "      <td>0 days 00:00:36</td>\n",
       "      <td>36.0</td>\n",
       "    </tr>\n",
       "    <tr>\n",
       "      <th>34</th>\n",
       "      <td>e0d5e097-f7c3-4a93-8488-e5b6f1a61d15</td>\n",
       "      <td>2019-10-21 17:18:22</td>\n",
       "      <td>tips_show</td>\n",
       "      <td>2019-10-21 17:19:35</td>\n",
       "      <td>0 days 00:01:13</td>\n",
       "      <td>73.0</td>\n",
       "    </tr>\n",
       "    <tr>\n",
       "      <th>55</th>\n",
       "      <td>30e902a0-0e4c-444e-822b-3a7254ee89d8</td>\n",
       "      <td>2019-10-20 15:09:16</td>\n",
       "      <td>tips_show</td>\n",
       "      <td>2019-10-20 15:11:35</td>\n",
       "      <td>0 days 00:02:19</td>\n",
       "      <td>139.0</td>\n",
       "    </tr>\n",
       "  </tbody>\n",
       "</table>\n",
       "</div>"
      ],
      "text/plain": [
       "                                 user_id           date_time   event_name  \\\n",
       "5   b4f5ac30-e3cd-46fc-afd6-b03a4aaca117 2019-10-30 10:18:11  tips_show     \n",
       "16  b5ef76f6-d1fc-4721-b8cc-72ac8a9a795b 2019-10-27 16:25:56  photos_show   \n",
       "34  e0d5e097-f7c3-4a93-8488-e5b6f1a61d15 2019-10-21 17:18:22  tips_show     \n",
       "55  30e902a0-0e4c-444e-822b-3a7254ee89d8 2019-10-20 15:09:16  tips_show     \n",
       "\n",
       "        time_cont_show      delta_time  delta_time_sec  \n",
       "5  2019-10-30 10:23:59 0 days 00:05:48  348.0           \n",
       "16 2019-10-27 16:26:32 0 days 00:00:36  36.0            \n",
       "34 2019-10-21 17:19:35 0 days 00:01:13  73.0            \n",
       "55 2019-10-20 15:11:35 0 days 00:02:19  139.0           "
      ]
     },
     "metadata": {},
     "output_type": "display_data"
    }
   ],
   "source": [
    "prev_cs['delta_time'] = prev_cs['time_cont_show'] - prev_cs['date_time']\n",
    "prev_cs['delta_time_sec'] = prev_cs['delta_time'].dt.total_seconds()\n",
    "display(prev_cs.sample(4))"
   ]
  },
  {
   "cell_type": "code",
   "execution_count": 140,
   "id": "6ef9f505",
   "metadata": {},
   "outputs": [
    {
     "name": "stdout",
     "output_type": "stream",
     "text": [
      "Сколько времени (в секундах) проходит между ЦС и предыдущим \n",
      "\n",
      "event_name\n",
      "advert_open      42.0  \n",
      "map              58.0  \n",
      "favorites_add    64.0  \n",
      "tips_show        64.0  \n",
      "photos_show      110.0 \n",
      "search           125.0 \n",
      "tips_click       1803.0\n",
      "Name: delta_time_sec, dtype: float64\n"
     ]
    }
   ],
   "source": [
    "print('Сколько времени (в секундах) проходит между ЦС и предыдущим \\n')\n",
    "print(prev_cs.groupby('event_name')['delta_time_sec'].median().sort_values().round())\n"
   ]
  },
  {
   "cell_type": "markdown",
   "id": "c4ca9635",
   "metadata": {},
   "source": [
    "Если усреднить, то между ЦС и предыдущим проходит от 0,7 до 30 минут. Самым \"быстрым\" событием, в плане конверсии в ЦС, является \"advert_open\" - 42 секунды, а сымым медленным \"tips_click\" - 1803 секунды."
   ]
  },
  {
   "cell_type": "markdown",
   "id": "a9d98d57",
   "metadata": {},
   "source": [
    "2.5 Сравнить конверсию воронки взаимодействия, с основными карточками, с помощью search до целевого действия (contacts_show)"
   ]
  },
  {
   "cell_type": "code",
   "execution_count": 141,
   "id": "f1a2c702",
   "metadata": {},
   "outputs": [
    {
     "data": {
      "application/vnd.plotly.v1+json": {
       "config": {
        "plotlyServerURL": "https://plot.ly"
       },
       "data": [
        {
         "marker": {
          "color": [
           "darkgoldenrod",
           "gold",
           "khaki",
           "beige",
           "ivory"
          ]
         },
         "opacity": 0.7,
         "textfont": {
          "color": "black",
          "size": 13
         },
         "textinfo": "value+percent initial+percent previous",
         "textposition": "auto",
         "type": "funnel",
         "x": [
          6047,
          2853,
          1203,
          757,
          227
         ],
         "y": [
          "search",
          "advert_open",
          "contacts_show",
          "favorites_add",
          "contacts_call"
         ]
        }
       ],
       "layout": {
        "template": {
         "data": {
          "bar": [
           {
            "error_x": {
             "color": "#2a3f5f"
            },
            "error_y": {
             "color": "#2a3f5f"
            },
            "marker": {
             "line": {
              "color": "#E5ECF6",
              "width": 0.5
             },
             "pattern": {
              "fillmode": "overlay",
              "size": 10,
              "solidity": 0.2
             }
            },
            "type": "bar"
           }
          ],
          "barpolar": [
           {
            "marker": {
             "line": {
              "color": "#E5ECF6",
              "width": 0.5
             },
             "pattern": {
              "fillmode": "overlay",
              "size": 10,
              "solidity": 0.2
             }
            },
            "type": "barpolar"
           }
          ],
          "carpet": [
           {
            "aaxis": {
             "endlinecolor": "#2a3f5f",
             "gridcolor": "white",
             "linecolor": "white",
             "minorgridcolor": "white",
             "startlinecolor": "#2a3f5f"
            },
            "baxis": {
             "endlinecolor": "#2a3f5f",
             "gridcolor": "white",
             "linecolor": "white",
             "minorgridcolor": "white",
             "startlinecolor": "#2a3f5f"
            },
            "type": "carpet"
           }
          ],
          "choropleth": [
           {
            "colorbar": {
             "outlinewidth": 0,
             "ticks": ""
            },
            "type": "choropleth"
           }
          ],
          "contour": [
           {
            "colorbar": {
             "outlinewidth": 0,
             "ticks": ""
            },
            "colorscale": [
             [
              0,
              "#0d0887"
             ],
             [
              0.1111111111111111,
              "#46039f"
             ],
             [
              0.2222222222222222,
              "#7201a8"
             ],
             [
              0.3333333333333333,
              "#9c179e"
             ],
             [
              0.4444444444444444,
              "#bd3786"
             ],
             [
              0.5555555555555556,
              "#d8576b"
             ],
             [
              0.6666666666666666,
              "#ed7953"
             ],
             [
              0.7777777777777778,
              "#fb9f3a"
             ],
             [
              0.8888888888888888,
              "#fdca26"
             ],
             [
              1,
              "#f0f921"
             ]
            ],
            "type": "contour"
           }
          ],
          "contourcarpet": [
           {
            "colorbar": {
             "outlinewidth": 0,
             "ticks": ""
            },
            "type": "contourcarpet"
           }
          ],
          "heatmap": [
           {
            "colorbar": {
             "outlinewidth": 0,
             "ticks": ""
            },
            "colorscale": [
             [
              0,
              "#0d0887"
             ],
             [
              0.1111111111111111,
              "#46039f"
             ],
             [
              0.2222222222222222,
              "#7201a8"
             ],
             [
              0.3333333333333333,
              "#9c179e"
             ],
             [
              0.4444444444444444,
              "#bd3786"
             ],
             [
              0.5555555555555556,
              "#d8576b"
             ],
             [
              0.6666666666666666,
              "#ed7953"
             ],
             [
              0.7777777777777778,
              "#fb9f3a"
             ],
             [
              0.8888888888888888,
              "#fdca26"
             ],
             [
              1,
              "#f0f921"
             ]
            ],
            "type": "heatmap"
           }
          ],
          "heatmapgl": [
           {
            "colorbar": {
             "outlinewidth": 0,
             "ticks": ""
            },
            "colorscale": [
             [
              0,
              "#0d0887"
             ],
             [
              0.1111111111111111,
              "#46039f"
             ],
             [
              0.2222222222222222,
              "#7201a8"
             ],
             [
              0.3333333333333333,
              "#9c179e"
             ],
             [
              0.4444444444444444,
              "#bd3786"
             ],
             [
              0.5555555555555556,
              "#d8576b"
             ],
             [
              0.6666666666666666,
              "#ed7953"
             ],
             [
              0.7777777777777778,
              "#fb9f3a"
             ],
             [
              0.8888888888888888,
              "#fdca26"
             ],
             [
              1,
              "#f0f921"
             ]
            ],
            "type": "heatmapgl"
           }
          ],
          "histogram": [
           {
            "marker": {
             "pattern": {
              "fillmode": "overlay",
              "size": 10,
              "solidity": 0.2
             }
            },
            "type": "histogram"
           }
          ],
          "histogram2d": [
           {
            "colorbar": {
             "outlinewidth": 0,
             "ticks": ""
            },
            "colorscale": [
             [
              0,
              "#0d0887"
             ],
             [
              0.1111111111111111,
              "#46039f"
             ],
             [
              0.2222222222222222,
              "#7201a8"
             ],
             [
              0.3333333333333333,
              "#9c179e"
             ],
             [
              0.4444444444444444,
              "#bd3786"
             ],
             [
              0.5555555555555556,
              "#d8576b"
             ],
             [
              0.6666666666666666,
              "#ed7953"
             ],
             [
              0.7777777777777778,
              "#fb9f3a"
             ],
             [
              0.8888888888888888,
              "#fdca26"
             ],
             [
              1,
              "#f0f921"
             ]
            ],
            "type": "histogram2d"
           }
          ],
          "histogram2dcontour": [
           {
            "colorbar": {
             "outlinewidth": 0,
             "ticks": ""
            },
            "colorscale": [
             [
              0,
              "#0d0887"
             ],
             [
              0.1111111111111111,
              "#46039f"
             ],
             [
              0.2222222222222222,
              "#7201a8"
             ],
             [
              0.3333333333333333,
              "#9c179e"
             ],
             [
              0.4444444444444444,
              "#bd3786"
             ],
             [
              0.5555555555555556,
              "#d8576b"
             ],
             [
              0.6666666666666666,
              "#ed7953"
             ],
             [
              0.7777777777777778,
              "#fb9f3a"
             ],
             [
              0.8888888888888888,
              "#fdca26"
             ],
             [
              1,
              "#f0f921"
             ]
            ],
            "type": "histogram2dcontour"
           }
          ],
          "mesh3d": [
           {
            "colorbar": {
             "outlinewidth": 0,
             "ticks": ""
            },
            "type": "mesh3d"
           }
          ],
          "parcoords": [
           {
            "line": {
             "colorbar": {
              "outlinewidth": 0,
              "ticks": ""
             }
            },
            "type": "parcoords"
           }
          ],
          "pie": [
           {
            "automargin": true,
            "type": "pie"
           }
          ],
          "scatter": [
           {
            "fillpattern": {
             "fillmode": "overlay",
             "size": 10,
             "solidity": 0.2
            },
            "type": "scatter"
           }
          ],
          "scatter3d": [
           {
            "line": {
             "colorbar": {
              "outlinewidth": 0,
              "ticks": ""
             }
            },
            "marker": {
             "colorbar": {
              "outlinewidth": 0,
              "ticks": ""
             }
            },
            "type": "scatter3d"
           }
          ],
          "scattercarpet": [
           {
            "marker": {
             "colorbar": {
              "outlinewidth": 0,
              "ticks": ""
             }
            },
            "type": "scattercarpet"
           }
          ],
          "scattergeo": [
           {
            "marker": {
             "colorbar": {
              "outlinewidth": 0,
              "ticks": ""
             }
            },
            "type": "scattergeo"
           }
          ],
          "scattergl": [
           {
            "marker": {
             "colorbar": {
              "outlinewidth": 0,
              "ticks": ""
             }
            },
            "type": "scattergl"
           }
          ],
          "scattermapbox": [
           {
            "marker": {
             "colorbar": {
              "outlinewidth": 0,
              "ticks": ""
             }
            },
            "type": "scattermapbox"
           }
          ],
          "scatterpolar": [
           {
            "marker": {
             "colorbar": {
              "outlinewidth": 0,
              "ticks": ""
             }
            },
            "type": "scatterpolar"
           }
          ],
          "scatterpolargl": [
           {
            "marker": {
             "colorbar": {
              "outlinewidth": 0,
              "ticks": ""
             }
            },
            "type": "scatterpolargl"
           }
          ],
          "scatterternary": [
           {
            "marker": {
             "colorbar": {
              "outlinewidth": 0,
              "ticks": ""
             }
            },
            "type": "scatterternary"
           }
          ],
          "surface": [
           {
            "colorbar": {
             "outlinewidth": 0,
             "ticks": ""
            },
            "colorscale": [
             [
              0,
              "#0d0887"
             ],
             [
              0.1111111111111111,
              "#46039f"
             ],
             [
              0.2222222222222222,
              "#7201a8"
             ],
             [
              0.3333333333333333,
              "#9c179e"
             ],
             [
              0.4444444444444444,
              "#bd3786"
             ],
             [
              0.5555555555555556,
              "#d8576b"
             ],
             [
              0.6666666666666666,
              "#ed7953"
             ],
             [
              0.7777777777777778,
              "#fb9f3a"
             ],
             [
              0.8888888888888888,
              "#fdca26"
             ],
             [
              1,
              "#f0f921"
             ]
            ],
            "type": "surface"
           }
          ],
          "table": [
           {
            "cells": {
             "fill": {
              "color": "#EBF0F8"
             },
             "line": {
              "color": "white"
             }
            },
            "header": {
             "fill": {
              "color": "#C8D4E3"
             },
             "line": {
              "color": "white"
             }
            },
            "type": "table"
           }
          ]
         },
         "layout": {
          "annotationdefaults": {
           "arrowcolor": "#2a3f5f",
           "arrowhead": 0,
           "arrowwidth": 1
          },
          "autotypenumbers": "strict",
          "coloraxis": {
           "colorbar": {
            "outlinewidth": 0,
            "ticks": ""
           }
          },
          "colorscale": {
           "diverging": [
            [
             0,
             "#8e0152"
            ],
            [
             0.1,
             "#c51b7d"
            ],
            [
             0.2,
             "#de77ae"
            ],
            [
             0.3,
             "#f1b6da"
            ],
            [
             0.4,
             "#fde0ef"
            ],
            [
             0.5,
             "#f7f7f7"
            ],
            [
             0.6,
             "#e6f5d0"
            ],
            [
             0.7,
             "#b8e186"
            ],
            [
             0.8,
             "#7fbc41"
            ],
            [
             0.9,
             "#4d9221"
            ],
            [
             1,
             "#276419"
            ]
           ],
           "sequential": [
            [
             0,
             "#0d0887"
            ],
            [
             0.1111111111111111,
             "#46039f"
            ],
            [
             0.2222222222222222,
             "#7201a8"
            ],
            [
             0.3333333333333333,
             "#9c179e"
            ],
            [
             0.4444444444444444,
             "#bd3786"
            ],
            [
             0.5555555555555556,
             "#d8576b"
            ],
            [
             0.6666666666666666,
             "#ed7953"
            ],
            [
             0.7777777777777778,
             "#fb9f3a"
            ],
            [
             0.8888888888888888,
             "#fdca26"
            ],
            [
             1,
             "#f0f921"
            ]
           ],
           "sequentialminus": [
            [
             0,
             "#0d0887"
            ],
            [
             0.1111111111111111,
             "#46039f"
            ],
            [
             0.2222222222222222,
             "#7201a8"
            ],
            [
             0.3333333333333333,
             "#9c179e"
            ],
            [
             0.4444444444444444,
             "#bd3786"
            ],
            [
             0.5555555555555556,
             "#d8576b"
            ],
            [
             0.6666666666666666,
             "#ed7953"
            ],
            [
             0.7777777777777778,
             "#fb9f3a"
            ],
            [
             0.8888888888888888,
             "#fdca26"
            ],
            [
             1,
             "#f0f921"
            ]
           ]
          },
          "colorway": [
           "#636efa",
           "#EF553B",
           "#00cc96",
           "#ab63fa",
           "#FFA15A",
           "#19d3f3",
           "#FF6692",
           "#B6E880",
           "#FF97FF",
           "#FECB52"
          ],
          "font": {
           "color": "#2a3f5f"
          },
          "geo": {
           "bgcolor": "white",
           "lakecolor": "white",
           "landcolor": "#E5ECF6",
           "showlakes": true,
           "showland": true,
           "subunitcolor": "white"
          },
          "hoverlabel": {
           "align": "left"
          },
          "hovermode": "closest",
          "mapbox": {
           "style": "light"
          },
          "paper_bgcolor": "white",
          "plot_bgcolor": "#E5ECF6",
          "polar": {
           "angularaxis": {
            "gridcolor": "white",
            "linecolor": "white",
            "ticks": ""
           },
           "bgcolor": "#E5ECF6",
           "radialaxis": {
            "gridcolor": "white",
            "linecolor": "white",
            "ticks": ""
           }
          },
          "scene": {
           "xaxis": {
            "backgroundcolor": "#E5ECF6",
            "gridcolor": "white",
            "gridwidth": 2,
            "linecolor": "white",
            "showbackground": true,
            "ticks": "",
            "zerolinecolor": "white"
           },
           "yaxis": {
            "backgroundcolor": "#E5ECF6",
            "gridcolor": "white",
            "gridwidth": 2,
            "linecolor": "white",
            "showbackground": true,
            "ticks": "",
            "zerolinecolor": "white"
           },
           "zaxis": {
            "backgroundcolor": "#E5ECF6",
            "gridcolor": "white",
            "gridwidth": 2,
            "linecolor": "white",
            "showbackground": true,
            "ticks": "",
            "zerolinecolor": "white"
           }
          },
          "shapedefaults": {
           "line": {
            "color": "#2a3f5f"
           }
          },
          "ternary": {
           "aaxis": {
            "gridcolor": "white",
            "linecolor": "white",
            "ticks": ""
           },
           "baxis": {
            "gridcolor": "white",
            "linecolor": "white",
            "ticks": ""
           },
           "bgcolor": "#E5ECF6",
           "caxis": {
            "gridcolor": "white",
            "linecolor": "white",
            "ticks": ""
           }
          },
          "title": {
           "x": 0.05
          },
          "xaxis": {
           "automargin": true,
           "gridcolor": "white",
           "linecolor": "white",
           "ticks": "",
           "title": {
            "standoff": 15
           },
           "zerolinecolor": "white",
           "zerolinewidth": 2
          },
          "yaxis": {
           "automargin": true,
           "gridcolor": "white",
           "linecolor": "white",
           "ticks": "",
           "title": {
            "standoff": 15
           },
           "zerolinecolor": "white",
           "zerolinewidth": 2
          }
         }
        },
        "title": {
         "text": "Воронка взаимодействий пользователей посредством поиска"
        }
       }
      },
      "text/html": [
       "<div>                            <div id=\"ba437954-535b-426d-9998-13b7254918e2\" class=\"plotly-graph-div\" style=\"height:525px; width:100%;\"></div>            <script type=\"text/javascript\">                require([\"plotly\"], function(Plotly) {                    window.PLOTLYENV=window.PLOTLYENV || {};                                    if (document.getElementById(\"ba437954-535b-426d-9998-13b7254918e2\")) {                    Plotly.newPlot(                        \"ba437954-535b-426d-9998-13b7254918e2\",                        [{\"marker\":{\"color\":[\"darkgoldenrod\",\"gold\",\"khaki\",\"beige\",\"ivory\"]},\"opacity\":0.7,\"textfont\":{\"color\":\"black\",\"size\":13},\"textinfo\":\"value+percent initial+percent previous\",\"textposition\":\"auto\",\"x\":[6047,2853,1203,757,227],\"y\":[\"search\",\"advert_open\",\"contacts_show\",\"favorites_add\",\"contacts_call\"],\"type\":\"funnel\"}],                        {\"template\":{\"data\":{\"histogram2dcontour\":[{\"type\":\"histogram2dcontour\",\"colorbar\":{\"outlinewidth\":0,\"ticks\":\"\"},\"colorscale\":[[0.0,\"#0d0887\"],[0.1111111111111111,\"#46039f\"],[0.2222222222222222,\"#7201a8\"],[0.3333333333333333,\"#9c179e\"],[0.4444444444444444,\"#bd3786\"],[0.5555555555555556,\"#d8576b\"],[0.6666666666666666,\"#ed7953\"],[0.7777777777777778,\"#fb9f3a\"],[0.8888888888888888,\"#fdca26\"],[1.0,\"#f0f921\"]]}],\"choropleth\":[{\"type\":\"choropleth\",\"colorbar\":{\"outlinewidth\":0,\"ticks\":\"\"}}],\"histogram2d\":[{\"type\":\"histogram2d\",\"colorbar\":{\"outlinewidth\":0,\"ticks\":\"\"},\"colorscale\":[[0.0,\"#0d0887\"],[0.1111111111111111,\"#46039f\"],[0.2222222222222222,\"#7201a8\"],[0.3333333333333333,\"#9c179e\"],[0.4444444444444444,\"#bd3786\"],[0.5555555555555556,\"#d8576b\"],[0.6666666666666666,\"#ed7953\"],[0.7777777777777778,\"#fb9f3a\"],[0.8888888888888888,\"#fdca26\"],[1.0,\"#f0f921\"]]}],\"heatmap\":[{\"type\":\"heatmap\",\"colorbar\":{\"outlinewidth\":0,\"ticks\":\"\"},\"colorscale\":[[0.0,\"#0d0887\"],[0.1111111111111111,\"#46039f\"],[0.2222222222222222,\"#7201a8\"],[0.3333333333333333,\"#9c179e\"],[0.4444444444444444,\"#bd3786\"],[0.5555555555555556,\"#d8576b\"],[0.6666666666666666,\"#ed7953\"],[0.7777777777777778,\"#fb9f3a\"],[0.8888888888888888,\"#fdca26\"],[1.0,\"#f0f921\"]]}],\"heatmapgl\":[{\"type\":\"heatmapgl\",\"colorbar\":{\"outlinewidth\":0,\"ticks\":\"\"},\"colorscale\":[[0.0,\"#0d0887\"],[0.1111111111111111,\"#46039f\"],[0.2222222222222222,\"#7201a8\"],[0.3333333333333333,\"#9c179e\"],[0.4444444444444444,\"#bd3786\"],[0.5555555555555556,\"#d8576b\"],[0.6666666666666666,\"#ed7953\"],[0.7777777777777778,\"#fb9f3a\"],[0.8888888888888888,\"#fdca26\"],[1.0,\"#f0f921\"]]}],\"contourcarpet\":[{\"type\":\"contourcarpet\",\"colorbar\":{\"outlinewidth\":0,\"ticks\":\"\"}}],\"contour\":[{\"type\":\"contour\",\"colorbar\":{\"outlinewidth\":0,\"ticks\":\"\"},\"colorscale\":[[0.0,\"#0d0887\"],[0.1111111111111111,\"#46039f\"],[0.2222222222222222,\"#7201a8\"],[0.3333333333333333,\"#9c179e\"],[0.4444444444444444,\"#bd3786\"],[0.5555555555555556,\"#d8576b\"],[0.6666666666666666,\"#ed7953\"],[0.7777777777777778,\"#fb9f3a\"],[0.8888888888888888,\"#fdca26\"],[1.0,\"#f0f921\"]]}],\"surface\":[{\"type\":\"surface\",\"colorbar\":{\"outlinewidth\":0,\"ticks\":\"\"},\"colorscale\":[[0.0,\"#0d0887\"],[0.1111111111111111,\"#46039f\"],[0.2222222222222222,\"#7201a8\"],[0.3333333333333333,\"#9c179e\"],[0.4444444444444444,\"#bd3786\"],[0.5555555555555556,\"#d8576b\"],[0.6666666666666666,\"#ed7953\"],[0.7777777777777778,\"#fb9f3a\"],[0.8888888888888888,\"#fdca26\"],[1.0,\"#f0f921\"]]}],\"mesh3d\":[{\"type\":\"mesh3d\",\"colorbar\":{\"outlinewidth\":0,\"ticks\":\"\"}}],\"scatter\":[{\"fillpattern\":{\"fillmode\":\"overlay\",\"size\":10,\"solidity\":0.2},\"type\":\"scatter\"}],\"parcoords\":[{\"type\":\"parcoords\",\"line\":{\"colorbar\":{\"outlinewidth\":0,\"ticks\":\"\"}}}],\"scatterpolargl\":[{\"type\":\"scatterpolargl\",\"marker\":{\"colorbar\":{\"outlinewidth\":0,\"ticks\":\"\"}}}],\"bar\":[{\"error_x\":{\"color\":\"#2a3f5f\"},\"error_y\":{\"color\":\"#2a3f5f\"},\"marker\":{\"line\":{\"color\":\"#E5ECF6\",\"width\":0.5},\"pattern\":{\"fillmode\":\"overlay\",\"size\":10,\"solidity\":0.2}},\"type\":\"bar\"}],\"scattergeo\":[{\"type\":\"scattergeo\",\"marker\":{\"colorbar\":{\"outlinewidth\":0,\"ticks\":\"\"}}}],\"scatterpolar\":[{\"type\":\"scatterpolar\",\"marker\":{\"colorbar\":{\"outlinewidth\":0,\"ticks\":\"\"}}}],\"histogram\":[{\"marker\":{\"pattern\":{\"fillmode\":\"overlay\",\"size\":10,\"solidity\":0.2}},\"type\":\"histogram\"}],\"scattergl\":[{\"type\":\"scattergl\",\"marker\":{\"colorbar\":{\"outlinewidth\":0,\"ticks\":\"\"}}}],\"scatter3d\":[{\"type\":\"scatter3d\",\"line\":{\"colorbar\":{\"outlinewidth\":0,\"ticks\":\"\"}},\"marker\":{\"colorbar\":{\"outlinewidth\":0,\"ticks\":\"\"}}}],\"scattermapbox\":[{\"type\":\"scattermapbox\",\"marker\":{\"colorbar\":{\"outlinewidth\":0,\"ticks\":\"\"}}}],\"scatterternary\":[{\"type\":\"scatterternary\",\"marker\":{\"colorbar\":{\"outlinewidth\":0,\"ticks\":\"\"}}}],\"scattercarpet\":[{\"type\":\"scattercarpet\",\"marker\":{\"colorbar\":{\"outlinewidth\":0,\"ticks\":\"\"}}}],\"carpet\":[{\"aaxis\":{\"endlinecolor\":\"#2a3f5f\",\"gridcolor\":\"white\",\"linecolor\":\"white\",\"minorgridcolor\":\"white\",\"startlinecolor\":\"#2a3f5f\"},\"baxis\":{\"endlinecolor\":\"#2a3f5f\",\"gridcolor\":\"white\",\"linecolor\":\"white\",\"minorgridcolor\":\"white\",\"startlinecolor\":\"#2a3f5f\"},\"type\":\"carpet\"}],\"table\":[{\"cells\":{\"fill\":{\"color\":\"#EBF0F8\"},\"line\":{\"color\":\"white\"}},\"header\":{\"fill\":{\"color\":\"#C8D4E3\"},\"line\":{\"color\":\"white\"}},\"type\":\"table\"}],\"barpolar\":[{\"marker\":{\"line\":{\"color\":\"#E5ECF6\",\"width\":0.5},\"pattern\":{\"fillmode\":\"overlay\",\"size\":10,\"solidity\":0.2}},\"type\":\"barpolar\"}],\"pie\":[{\"automargin\":true,\"type\":\"pie\"}]},\"layout\":{\"autotypenumbers\":\"strict\",\"colorway\":[\"#636efa\",\"#EF553B\",\"#00cc96\",\"#ab63fa\",\"#FFA15A\",\"#19d3f3\",\"#FF6692\",\"#B6E880\",\"#FF97FF\",\"#FECB52\"],\"font\":{\"color\":\"#2a3f5f\"},\"hovermode\":\"closest\",\"hoverlabel\":{\"align\":\"left\"},\"paper_bgcolor\":\"white\",\"plot_bgcolor\":\"#E5ECF6\",\"polar\":{\"bgcolor\":\"#E5ECF6\",\"angularaxis\":{\"gridcolor\":\"white\",\"linecolor\":\"white\",\"ticks\":\"\"},\"radialaxis\":{\"gridcolor\":\"white\",\"linecolor\":\"white\",\"ticks\":\"\"}},\"ternary\":{\"bgcolor\":\"#E5ECF6\",\"aaxis\":{\"gridcolor\":\"white\",\"linecolor\":\"white\",\"ticks\":\"\"},\"baxis\":{\"gridcolor\":\"white\",\"linecolor\":\"white\",\"ticks\":\"\"},\"caxis\":{\"gridcolor\":\"white\",\"linecolor\":\"white\",\"ticks\":\"\"}},\"coloraxis\":{\"colorbar\":{\"outlinewidth\":0,\"ticks\":\"\"}},\"colorscale\":{\"sequential\":[[0.0,\"#0d0887\"],[0.1111111111111111,\"#46039f\"],[0.2222222222222222,\"#7201a8\"],[0.3333333333333333,\"#9c179e\"],[0.4444444444444444,\"#bd3786\"],[0.5555555555555556,\"#d8576b\"],[0.6666666666666666,\"#ed7953\"],[0.7777777777777778,\"#fb9f3a\"],[0.8888888888888888,\"#fdca26\"],[1.0,\"#f0f921\"]],\"sequentialminus\":[[0.0,\"#0d0887\"],[0.1111111111111111,\"#46039f\"],[0.2222222222222222,\"#7201a8\"],[0.3333333333333333,\"#9c179e\"],[0.4444444444444444,\"#bd3786\"],[0.5555555555555556,\"#d8576b\"],[0.6666666666666666,\"#ed7953\"],[0.7777777777777778,\"#fb9f3a\"],[0.8888888888888888,\"#fdca26\"],[1.0,\"#f0f921\"]],\"diverging\":[[0,\"#8e0152\"],[0.1,\"#c51b7d\"],[0.2,\"#de77ae\"],[0.3,\"#f1b6da\"],[0.4,\"#fde0ef\"],[0.5,\"#f7f7f7\"],[0.6,\"#e6f5d0\"],[0.7,\"#b8e186\"],[0.8,\"#7fbc41\"],[0.9,\"#4d9221\"],[1,\"#276419\"]]},\"xaxis\":{\"gridcolor\":\"white\",\"linecolor\":\"white\",\"ticks\":\"\",\"title\":{\"standoff\":15},\"zerolinecolor\":\"white\",\"automargin\":true,\"zerolinewidth\":2},\"yaxis\":{\"gridcolor\":\"white\",\"linecolor\":\"white\",\"ticks\":\"\",\"title\":{\"standoff\":15},\"zerolinecolor\":\"white\",\"automargin\":true,\"zerolinewidth\":2},\"scene\":{\"xaxis\":{\"backgroundcolor\":\"#E5ECF6\",\"gridcolor\":\"white\",\"linecolor\":\"white\",\"showbackground\":true,\"ticks\":\"\",\"zerolinecolor\":\"white\",\"gridwidth\":2},\"yaxis\":{\"backgroundcolor\":\"#E5ECF6\",\"gridcolor\":\"white\",\"linecolor\":\"white\",\"showbackground\":true,\"ticks\":\"\",\"zerolinecolor\":\"white\",\"gridwidth\":2},\"zaxis\":{\"backgroundcolor\":\"#E5ECF6\",\"gridcolor\":\"white\",\"linecolor\":\"white\",\"showbackground\":true,\"ticks\":\"\",\"zerolinecolor\":\"white\",\"gridwidth\":2}},\"shapedefaults\":{\"line\":{\"color\":\"#2a3f5f\"}},\"annotationdefaults\":{\"arrowcolor\":\"#2a3f5f\",\"arrowhead\":0,\"arrowwidth\":1},\"geo\":{\"bgcolor\":\"white\",\"landcolor\":\"#E5ECF6\",\"subunitcolor\":\"white\",\"showland\":true,\"showlakes\":true,\"lakecolor\":\"white\"},\"title\":{\"x\":0.05},\"mapbox\":{\"style\":\"light\"}}},\"title\":{\"text\":\"\\u0412\\u043e\\u0440\\u043e\\u043d\\u043a\\u0430 \\u0432\\u0437\\u0430\\u0438\\u043c\\u043e\\u0434\\u0435\\u0439\\u0441\\u0442\\u0432\\u0438\\u0439 \\u043f\\u043e\\u043b\\u044c\\u0437\\u043e\\u0432\\u0430\\u0442\\u0435\\u043b\\u0435\\u0439 \\u043f\\u043e\\u0441\\u0440\\u0435\\u0434\\u0441\\u0442\\u0432\\u043e\\u043c \\u043f\\u043e\\u0438\\u0441\\u043a\\u0430\"}},                        {\"responsive\": true}                    ).then(function(){\n",
       "                            \n",
       "var gd = document.getElementById('ba437954-535b-426d-9998-13b7254918e2');\n",
       "var x = new MutationObserver(function (mutations, observer) {{\n",
       "        var display = window.getComputedStyle(gd).display;\n",
       "        if (!display || display === 'none') {{\n",
       "            console.log([gd, 'removed!']);\n",
       "            Plotly.purge(gd);\n",
       "            observer.disconnect();\n",
       "        }}\n",
       "}});\n",
       "\n",
       "// Listen for the removal of the full notebook cells\n",
       "var notebookContainer = gd.closest('#notebook-container');\n",
       "if (notebookContainer) {{\n",
       "    x.observe(notebookContainer, {childList: true});\n",
       "}}\n",
       "\n",
       "// Listen for the clearing of the current output cell\n",
       "var outputEl = gd.closest('.output');\n",
       "if (outputEl) {{\n",
       "    x.observe(outputEl, {childList: true});\n",
       "}}\n",
       "\n",
       "                        })                };                });            </script>        </div>"
      ]
     },
     "metadata": {},
     "output_type": "display_data"
    }
   ],
   "source": [
    "tips_click = df_mobile.query('event_name == \"tips_click\"')\n",
    "tips_click_user_list = tips_click['user_id'].unique().tolist()\n",
    "search = df_mobile.query('event_name == \"search\"')\n",
    "search_user_list = search['user_id'].unique().tolist()\n",
    "\n",
    "search_funnel = df_mobile.query('user_id not in @tips_click_user_list')\n",
    "search_funnel = search_funnel.query('user_id in @search_user_list')\n",
    "search_funnel =  search_funnel.query('event_name == \"advert_open\" or event_name == \"contacts_call\" or event_name == \"contacts_show\" or event_name == \"favorites_add\" or event_name == \"search\"')\n",
    "search_funnel_count = search_funnel['event_name'].value_counts().to_frame().reset_index()['event_name'].to_list()\n",
    "search_funnel_name = search_funnel['event_name'].value_counts().to_frame().reset_index()['index'].to_list()\n",
    "\n",
    "fig_search = go.Figure()\n",
    "fig_search.add_trace(go.Funnel(\n",
    "    y = search_funnel_name,\n",
    "    x = search_funnel_count,\n",
    "    textposition = \"auto\",\n",
    "    textinfo = \"value+percent initial+percent previous\",\n",
    "    opacity = 0.70, marker = {\"color\": [\"darkgoldenrod\", \"gold\", \"khaki\", \"beige\", \"ivory\"]},\n",
    "    textfont = {\"size\": 13, \"color\": \"black\"}\n",
    "))\n",
    "fig_search.update_layout(title='Воронка взаимодействий пользователей посредством поиска')\n",
    "fig_search.show()"
   ]
  },
  {
   "cell_type": "markdown",
   "id": "974159db",
   "metadata": {},
   "source": [
    "**Вывод:**  \n",
    "* После поиска по сайту 47% пользователей открывают карточку объявления,\n",
    "** А после открытия карточки объявления 42% пользователей просматривают контакты и 20% от общего количества поисковых действий.   \n",
    "* После открытия карточки объявления 63% пользователей добавляют объявление в избранное и 13% от общего количества поисковых действий.  \n",
    "* Пользователи, которые звонять по номеру телефона, составляют 30% от количества добавленных объявлений в избранное, то есть 1/3 пользователей возвращаются к объявлениям добавленным в избранное. И всего 4% пользователей звонят по номеру телефона от общего количества поисковых действий.  "
   ]
  },
  {
   "cell_type": "markdown",
   "id": "ec769778",
   "metadata": {},
   "source": [
    "2.6 Сравнить конверсию воронки, с основными карточками, с помощью tips_click до целевого действия (contacts_show)  \n",
    "Oтследим конверсию в целевое contacts_show, а так же contacts_call и favorites_add."
   ]
  },
  {
   "cell_type": "code",
   "execution_count": 142,
   "id": "6f70eedb",
   "metadata": {
    "scrolled": false
   },
   "outputs": [
    {
     "data": {
      "application/vnd.plotly.v1+json": {
       "config": {
        "plotlyServerURL": "https://plot.ly"
       },
       "data": [
        {
         "marker": {
          "color": [
           "teal",
           "lightseagreen",
           "turquoise",
           "paleturquoise"
          ]
         },
         "opacity": 0.7,
         "textfont": {
          "color": "black",
          "size": 13
         },
         "textinfo": "value+percent initial+percent previous",
         "textposition": "auto",
         "type": "funnel",
         "x": [
          5641,
          650,
          480,
          121
         ],
         "y": [
          "tips_show",
          "tips_click",
          "contacts_show",
          "favorites_add"
         ]
        }
       ],
       "layout": {
        "template": {
         "data": {
          "bar": [
           {
            "error_x": {
             "color": "#2a3f5f"
            },
            "error_y": {
             "color": "#2a3f5f"
            },
            "marker": {
             "line": {
              "color": "#E5ECF6",
              "width": 0.5
             },
             "pattern": {
              "fillmode": "overlay",
              "size": 10,
              "solidity": 0.2
             }
            },
            "type": "bar"
           }
          ],
          "barpolar": [
           {
            "marker": {
             "line": {
              "color": "#E5ECF6",
              "width": 0.5
             },
             "pattern": {
              "fillmode": "overlay",
              "size": 10,
              "solidity": 0.2
             }
            },
            "type": "barpolar"
           }
          ],
          "carpet": [
           {
            "aaxis": {
             "endlinecolor": "#2a3f5f",
             "gridcolor": "white",
             "linecolor": "white",
             "minorgridcolor": "white",
             "startlinecolor": "#2a3f5f"
            },
            "baxis": {
             "endlinecolor": "#2a3f5f",
             "gridcolor": "white",
             "linecolor": "white",
             "minorgridcolor": "white",
             "startlinecolor": "#2a3f5f"
            },
            "type": "carpet"
           }
          ],
          "choropleth": [
           {
            "colorbar": {
             "outlinewidth": 0,
             "ticks": ""
            },
            "type": "choropleth"
           }
          ],
          "contour": [
           {
            "colorbar": {
             "outlinewidth": 0,
             "ticks": ""
            },
            "colorscale": [
             [
              0,
              "#0d0887"
             ],
             [
              0.1111111111111111,
              "#46039f"
             ],
             [
              0.2222222222222222,
              "#7201a8"
             ],
             [
              0.3333333333333333,
              "#9c179e"
             ],
             [
              0.4444444444444444,
              "#bd3786"
             ],
             [
              0.5555555555555556,
              "#d8576b"
             ],
             [
              0.6666666666666666,
              "#ed7953"
             ],
             [
              0.7777777777777778,
              "#fb9f3a"
             ],
             [
              0.8888888888888888,
              "#fdca26"
             ],
             [
              1,
              "#f0f921"
             ]
            ],
            "type": "contour"
           }
          ],
          "contourcarpet": [
           {
            "colorbar": {
             "outlinewidth": 0,
             "ticks": ""
            },
            "type": "contourcarpet"
           }
          ],
          "heatmap": [
           {
            "colorbar": {
             "outlinewidth": 0,
             "ticks": ""
            },
            "colorscale": [
             [
              0,
              "#0d0887"
             ],
             [
              0.1111111111111111,
              "#46039f"
             ],
             [
              0.2222222222222222,
              "#7201a8"
             ],
             [
              0.3333333333333333,
              "#9c179e"
             ],
             [
              0.4444444444444444,
              "#bd3786"
             ],
             [
              0.5555555555555556,
              "#d8576b"
             ],
             [
              0.6666666666666666,
              "#ed7953"
             ],
             [
              0.7777777777777778,
              "#fb9f3a"
             ],
             [
              0.8888888888888888,
              "#fdca26"
             ],
             [
              1,
              "#f0f921"
             ]
            ],
            "type": "heatmap"
           }
          ],
          "heatmapgl": [
           {
            "colorbar": {
             "outlinewidth": 0,
             "ticks": ""
            },
            "colorscale": [
             [
              0,
              "#0d0887"
             ],
             [
              0.1111111111111111,
              "#46039f"
             ],
             [
              0.2222222222222222,
              "#7201a8"
             ],
             [
              0.3333333333333333,
              "#9c179e"
             ],
             [
              0.4444444444444444,
              "#bd3786"
             ],
             [
              0.5555555555555556,
              "#d8576b"
             ],
             [
              0.6666666666666666,
              "#ed7953"
             ],
             [
              0.7777777777777778,
              "#fb9f3a"
             ],
             [
              0.8888888888888888,
              "#fdca26"
             ],
             [
              1,
              "#f0f921"
             ]
            ],
            "type": "heatmapgl"
           }
          ],
          "histogram": [
           {
            "marker": {
             "pattern": {
              "fillmode": "overlay",
              "size": 10,
              "solidity": 0.2
             }
            },
            "type": "histogram"
           }
          ],
          "histogram2d": [
           {
            "colorbar": {
             "outlinewidth": 0,
             "ticks": ""
            },
            "colorscale": [
             [
              0,
              "#0d0887"
             ],
             [
              0.1111111111111111,
              "#46039f"
             ],
             [
              0.2222222222222222,
              "#7201a8"
             ],
             [
              0.3333333333333333,
              "#9c179e"
             ],
             [
              0.4444444444444444,
              "#bd3786"
             ],
             [
              0.5555555555555556,
              "#d8576b"
             ],
             [
              0.6666666666666666,
              "#ed7953"
             ],
             [
              0.7777777777777778,
              "#fb9f3a"
             ],
             [
              0.8888888888888888,
              "#fdca26"
             ],
             [
              1,
              "#f0f921"
             ]
            ],
            "type": "histogram2d"
           }
          ],
          "histogram2dcontour": [
           {
            "colorbar": {
             "outlinewidth": 0,
             "ticks": ""
            },
            "colorscale": [
             [
              0,
              "#0d0887"
             ],
             [
              0.1111111111111111,
              "#46039f"
             ],
             [
              0.2222222222222222,
              "#7201a8"
             ],
             [
              0.3333333333333333,
              "#9c179e"
             ],
             [
              0.4444444444444444,
              "#bd3786"
             ],
             [
              0.5555555555555556,
              "#d8576b"
             ],
             [
              0.6666666666666666,
              "#ed7953"
             ],
             [
              0.7777777777777778,
              "#fb9f3a"
             ],
             [
              0.8888888888888888,
              "#fdca26"
             ],
             [
              1,
              "#f0f921"
             ]
            ],
            "type": "histogram2dcontour"
           }
          ],
          "mesh3d": [
           {
            "colorbar": {
             "outlinewidth": 0,
             "ticks": ""
            },
            "type": "mesh3d"
           }
          ],
          "parcoords": [
           {
            "line": {
             "colorbar": {
              "outlinewidth": 0,
              "ticks": ""
             }
            },
            "type": "parcoords"
           }
          ],
          "pie": [
           {
            "automargin": true,
            "type": "pie"
           }
          ],
          "scatter": [
           {
            "fillpattern": {
             "fillmode": "overlay",
             "size": 10,
             "solidity": 0.2
            },
            "type": "scatter"
           }
          ],
          "scatter3d": [
           {
            "line": {
             "colorbar": {
              "outlinewidth": 0,
              "ticks": ""
             }
            },
            "marker": {
             "colorbar": {
              "outlinewidth": 0,
              "ticks": ""
             }
            },
            "type": "scatter3d"
           }
          ],
          "scattercarpet": [
           {
            "marker": {
             "colorbar": {
              "outlinewidth": 0,
              "ticks": ""
             }
            },
            "type": "scattercarpet"
           }
          ],
          "scattergeo": [
           {
            "marker": {
             "colorbar": {
              "outlinewidth": 0,
              "ticks": ""
             }
            },
            "type": "scattergeo"
           }
          ],
          "scattergl": [
           {
            "marker": {
             "colorbar": {
              "outlinewidth": 0,
              "ticks": ""
             }
            },
            "type": "scattergl"
           }
          ],
          "scattermapbox": [
           {
            "marker": {
             "colorbar": {
              "outlinewidth": 0,
              "ticks": ""
             }
            },
            "type": "scattermapbox"
           }
          ],
          "scatterpolar": [
           {
            "marker": {
             "colorbar": {
              "outlinewidth": 0,
              "ticks": ""
             }
            },
            "type": "scatterpolar"
           }
          ],
          "scatterpolargl": [
           {
            "marker": {
             "colorbar": {
              "outlinewidth": 0,
              "ticks": ""
             }
            },
            "type": "scatterpolargl"
           }
          ],
          "scatterternary": [
           {
            "marker": {
             "colorbar": {
              "outlinewidth": 0,
              "ticks": ""
             }
            },
            "type": "scatterternary"
           }
          ],
          "surface": [
           {
            "colorbar": {
             "outlinewidth": 0,
             "ticks": ""
            },
            "colorscale": [
             [
              0,
              "#0d0887"
             ],
             [
              0.1111111111111111,
              "#46039f"
             ],
             [
              0.2222222222222222,
              "#7201a8"
             ],
             [
              0.3333333333333333,
              "#9c179e"
             ],
             [
              0.4444444444444444,
              "#bd3786"
             ],
             [
              0.5555555555555556,
              "#d8576b"
             ],
             [
              0.6666666666666666,
              "#ed7953"
             ],
             [
              0.7777777777777778,
              "#fb9f3a"
             ],
             [
              0.8888888888888888,
              "#fdca26"
             ],
             [
              1,
              "#f0f921"
             ]
            ],
            "type": "surface"
           }
          ],
          "table": [
           {
            "cells": {
             "fill": {
              "color": "#EBF0F8"
             },
             "line": {
              "color": "white"
             }
            },
            "header": {
             "fill": {
              "color": "#C8D4E3"
             },
             "line": {
              "color": "white"
             }
            },
            "type": "table"
           }
          ]
         },
         "layout": {
          "annotationdefaults": {
           "arrowcolor": "#2a3f5f",
           "arrowhead": 0,
           "arrowwidth": 1
          },
          "autotypenumbers": "strict",
          "coloraxis": {
           "colorbar": {
            "outlinewidth": 0,
            "ticks": ""
           }
          },
          "colorscale": {
           "diverging": [
            [
             0,
             "#8e0152"
            ],
            [
             0.1,
             "#c51b7d"
            ],
            [
             0.2,
             "#de77ae"
            ],
            [
             0.3,
             "#f1b6da"
            ],
            [
             0.4,
             "#fde0ef"
            ],
            [
             0.5,
             "#f7f7f7"
            ],
            [
             0.6,
             "#e6f5d0"
            ],
            [
             0.7,
             "#b8e186"
            ],
            [
             0.8,
             "#7fbc41"
            ],
            [
             0.9,
             "#4d9221"
            ],
            [
             1,
             "#276419"
            ]
           ],
           "sequential": [
            [
             0,
             "#0d0887"
            ],
            [
             0.1111111111111111,
             "#46039f"
            ],
            [
             0.2222222222222222,
             "#7201a8"
            ],
            [
             0.3333333333333333,
             "#9c179e"
            ],
            [
             0.4444444444444444,
             "#bd3786"
            ],
            [
             0.5555555555555556,
             "#d8576b"
            ],
            [
             0.6666666666666666,
             "#ed7953"
            ],
            [
             0.7777777777777778,
             "#fb9f3a"
            ],
            [
             0.8888888888888888,
             "#fdca26"
            ],
            [
             1,
             "#f0f921"
            ]
           ],
           "sequentialminus": [
            [
             0,
             "#0d0887"
            ],
            [
             0.1111111111111111,
             "#46039f"
            ],
            [
             0.2222222222222222,
             "#7201a8"
            ],
            [
             0.3333333333333333,
             "#9c179e"
            ],
            [
             0.4444444444444444,
             "#bd3786"
            ],
            [
             0.5555555555555556,
             "#d8576b"
            ],
            [
             0.6666666666666666,
             "#ed7953"
            ],
            [
             0.7777777777777778,
             "#fb9f3a"
            ],
            [
             0.8888888888888888,
             "#fdca26"
            ],
            [
             1,
             "#f0f921"
            ]
           ]
          },
          "colorway": [
           "#636efa",
           "#EF553B",
           "#00cc96",
           "#ab63fa",
           "#FFA15A",
           "#19d3f3",
           "#FF6692",
           "#B6E880",
           "#FF97FF",
           "#FECB52"
          ],
          "font": {
           "color": "#2a3f5f"
          },
          "geo": {
           "bgcolor": "white",
           "lakecolor": "white",
           "landcolor": "#E5ECF6",
           "showlakes": true,
           "showland": true,
           "subunitcolor": "white"
          },
          "hoverlabel": {
           "align": "left"
          },
          "hovermode": "closest",
          "mapbox": {
           "style": "light"
          },
          "paper_bgcolor": "white",
          "plot_bgcolor": "#E5ECF6",
          "polar": {
           "angularaxis": {
            "gridcolor": "white",
            "linecolor": "white",
            "ticks": ""
           },
           "bgcolor": "#E5ECF6",
           "radialaxis": {
            "gridcolor": "white",
            "linecolor": "white",
            "ticks": ""
           }
          },
          "scene": {
           "xaxis": {
            "backgroundcolor": "#E5ECF6",
            "gridcolor": "white",
            "gridwidth": 2,
            "linecolor": "white",
            "showbackground": true,
            "ticks": "",
            "zerolinecolor": "white"
           },
           "yaxis": {
            "backgroundcolor": "#E5ECF6",
            "gridcolor": "white",
            "gridwidth": 2,
            "linecolor": "white",
            "showbackground": true,
            "ticks": "",
            "zerolinecolor": "white"
           },
           "zaxis": {
            "backgroundcolor": "#E5ECF6",
            "gridcolor": "white",
            "gridwidth": 2,
            "linecolor": "white",
            "showbackground": true,
            "ticks": "",
            "zerolinecolor": "white"
           }
          },
          "shapedefaults": {
           "line": {
            "color": "#2a3f5f"
           }
          },
          "ternary": {
           "aaxis": {
            "gridcolor": "white",
            "linecolor": "white",
            "ticks": ""
           },
           "baxis": {
            "gridcolor": "white",
            "linecolor": "white",
            "ticks": ""
           },
           "bgcolor": "#E5ECF6",
           "caxis": {
            "gridcolor": "white",
            "linecolor": "white",
            "ticks": ""
           }
          },
          "title": {
           "x": 0.05
          },
          "xaxis": {
           "automargin": true,
           "gridcolor": "white",
           "linecolor": "white",
           "ticks": "",
           "title": {
            "standoff": 15
           },
           "zerolinecolor": "white",
           "zerolinewidth": 2
          },
          "yaxis": {
           "automargin": true,
           "gridcolor": "white",
           "linecolor": "white",
           "ticks": "",
           "title": {
            "standoff": 15
           },
           "zerolinecolor": "white",
           "zerolinewidth": 2
          }
         }
        },
        "title": {
         "text": "Воронка взаимодействий пользователей посредством рекомендации"
        }
       }
      },
      "text/html": [
       "<div>                            <div id=\"c1deca6b-7fc5-43e0-9ea4-c39d8b68d43b\" class=\"plotly-graph-div\" style=\"height:525px; width:100%;\"></div>            <script type=\"text/javascript\">                require([\"plotly\"], function(Plotly) {                    window.PLOTLYENV=window.PLOTLYENV || {};                                    if (document.getElementById(\"c1deca6b-7fc5-43e0-9ea4-c39d8b68d43b\")) {                    Plotly.newPlot(                        \"c1deca6b-7fc5-43e0-9ea4-c39d8b68d43b\",                        [{\"marker\":{\"color\":[\"teal\",\"lightseagreen\",\"turquoise\",\"paleturquoise\"]},\"opacity\":0.7,\"textfont\":{\"color\":\"black\",\"size\":13},\"textinfo\":\"value+percent initial+percent previous\",\"textposition\":\"auto\",\"x\":[5641,650,480,121],\"y\":[\"tips_show\",\"tips_click\",\"contacts_show\",\"favorites_add\"],\"type\":\"funnel\"}],                        {\"template\":{\"data\":{\"histogram2dcontour\":[{\"type\":\"histogram2dcontour\",\"colorbar\":{\"outlinewidth\":0,\"ticks\":\"\"},\"colorscale\":[[0.0,\"#0d0887\"],[0.1111111111111111,\"#46039f\"],[0.2222222222222222,\"#7201a8\"],[0.3333333333333333,\"#9c179e\"],[0.4444444444444444,\"#bd3786\"],[0.5555555555555556,\"#d8576b\"],[0.6666666666666666,\"#ed7953\"],[0.7777777777777778,\"#fb9f3a\"],[0.8888888888888888,\"#fdca26\"],[1.0,\"#f0f921\"]]}],\"choropleth\":[{\"type\":\"choropleth\",\"colorbar\":{\"outlinewidth\":0,\"ticks\":\"\"}}],\"histogram2d\":[{\"type\":\"histogram2d\",\"colorbar\":{\"outlinewidth\":0,\"ticks\":\"\"},\"colorscale\":[[0.0,\"#0d0887\"],[0.1111111111111111,\"#46039f\"],[0.2222222222222222,\"#7201a8\"],[0.3333333333333333,\"#9c179e\"],[0.4444444444444444,\"#bd3786\"],[0.5555555555555556,\"#d8576b\"],[0.6666666666666666,\"#ed7953\"],[0.7777777777777778,\"#fb9f3a\"],[0.8888888888888888,\"#fdca26\"],[1.0,\"#f0f921\"]]}],\"heatmap\":[{\"type\":\"heatmap\",\"colorbar\":{\"outlinewidth\":0,\"ticks\":\"\"},\"colorscale\":[[0.0,\"#0d0887\"],[0.1111111111111111,\"#46039f\"],[0.2222222222222222,\"#7201a8\"],[0.3333333333333333,\"#9c179e\"],[0.4444444444444444,\"#bd3786\"],[0.5555555555555556,\"#d8576b\"],[0.6666666666666666,\"#ed7953\"],[0.7777777777777778,\"#fb9f3a\"],[0.8888888888888888,\"#fdca26\"],[1.0,\"#f0f921\"]]}],\"heatmapgl\":[{\"type\":\"heatmapgl\",\"colorbar\":{\"outlinewidth\":0,\"ticks\":\"\"},\"colorscale\":[[0.0,\"#0d0887\"],[0.1111111111111111,\"#46039f\"],[0.2222222222222222,\"#7201a8\"],[0.3333333333333333,\"#9c179e\"],[0.4444444444444444,\"#bd3786\"],[0.5555555555555556,\"#d8576b\"],[0.6666666666666666,\"#ed7953\"],[0.7777777777777778,\"#fb9f3a\"],[0.8888888888888888,\"#fdca26\"],[1.0,\"#f0f921\"]]}],\"contourcarpet\":[{\"type\":\"contourcarpet\",\"colorbar\":{\"outlinewidth\":0,\"ticks\":\"\"}}],\"contour\":[{\"type\":\"contour\",\"colorbar\":{\"outlinewidth\":0,\"ticks\":\"\"},\"colorscale\":[[0.0,\"#0d0887\"],[0.1111111111111111,\"#46039f\"],[0.2222222222222222,\"#7201a8\"],[0.3333333333333333,\"#9c179e\"],[0.4444444444444444,\"#bd3786\"],[0.5555555555555556,\"#d8576b\"],[0.6666666666666666,\"#ed7953\"],[0.7777777777777778,\"#fb9f3a\"],[0.8888888888888888,\"#fdca26\"],[1.0,\"#f0f921\"]]}],\"surface\":[{\"type\":\"surface\",\"colorbar\":{\"outlinewidth\":0,\"ticks\":\"\"},\"colorscale\":[[0.0,\"#0d0887\"],[0.1111111111111111,\"#46039f\"],[0.2222222222222222,\"#7201a8\"],[0.3333333333333333,\"#9c179e\"],[0.4444444444444444,\"#bd3786\"],[0.5555555555555556,\"#d8576b\"],[0.6666666666666666,\"#ed7953\"],[0.7777777777777778,\"#fb9f3a\"],[0.8888888888888888,\"#fdca26\"],[1.0,\"#f0f921\"]]}],\"mesh3d\":[{\"type\":\"mesh3d\",\"colorbar\":{\"outlinewidth\":0,\"ticks\":\"\"}}],\"scatter\":[{\"fillpattern\":{\"fillmode\":\"overlay\",\"size\":10,\"solidity\":0.2},\"type\":\"scatter\"}],\"parcoords\":[{\"type\":\"parcoords\",\"line\":{\"colorbar\":{\"outlinewidth\":0,\"ticks\":\"\"}}}],\"scatterpolargl\":[{\"type\":\"scatterpolargl\",\"marker\":{\"colorbar\":{\"outlinewidth\":0,\"ticks\":\"\"}}}],\"bar\":[{\"error_x\":{\"color\":\"#2a3f5f\"},\"error_y\":{\"color\":\"#2a3f5f\"},\"marker\":{\"line\":{\"color\":\"#E5ECF6\",\"width\":0.5},\"pattern\":{\"fillmode\":\"overlay\",\"size\":10,\"solidity\":0.2}},\"type\":\"bar\"}],\"scattergeo\":[{\"type\":\"scattergeo\",\"marker\":{\"colorbar\":{\"outlinewidth\":0,\"ticks\":\"\"}}}],\"scatterpolar\":[{\"type\":\"scatterpolar\",\"marker\":{\"colorbar\":{\"outlinewidth\":0,\"ticks\":\"\"}}}],\"histogram\":[{\"marker\":{\"pattern\":{\"fillmode\":\"overlay\",\"size\":10,\"solidity\":0.2}},\"type\":\"histogram\"}],\"scattergl\":[{\"type\":\"scattergl\",\"marker\":{\"colorbar\":{\"outlinewidth\":0,\"ticks\":\"\"}}}],\"scatter3d\":[{\"type\":\"scatter3d\",\"line\":{\"colorbar\":{\"outlinewidth\":0,\"ticks\":\"\"}},\"marker\":{\"colorbar\":{\"outlinewidth\":0,\"ticks\":\"\"}}}],\"scattermapbox\":[{\"type\":\"scattermapbox\",\"marker\":{\"colorbar\":{\"outlinewidth\":0,\"ticks\":\"\"}}}],\"scatterternary\":[{\"type\":\"scatterternary\",\"marker\":{\"colorbar\":{\"outlinewidth\":0,\"ticks\":\"\"}}}],\"scattercarpet\":[{\"type\":\"scattercarpet\",\"marker\":{\"colorbar\":{\"outlinewidth\":0,\"ticks\":\"\"}}}],\"carpet\":[{\"aaxis\":{\"endlinecolor\":\"#2a3f5f\",\"gridcolor\":\"white\",\"linecolor\":\"white\",\"minorgridcolor\":\"white\",\"startlinecolor\":\"#2a3f5f\"},\"baxis\":{\"endlinecolor\":\"#2a3f5f\",\"gridcolor\":\"white\",\"linecolor\":\"white\",\"minorgridcolor\":\"white\",\"startlinecolor\":\"#2a3f5f\"},\"type\":\"carpet\"}],\"table\":[{\"cells\":{\"fill\":{\"color\":\"#EBF0F8\"},\"line\":{\"color\":\"white\"}},\"header\":{\"fill\":{\"color\":\"#C8D4E3\"},\"line\":{\"color\":\"white\"}},\"type\":\"table\"}],\"barpolar\":[{\"marker\":{\"line\":{\"color\":\"#E5ECF6\",\"width\":0.5},\"pattern\":{\"fillmode\":\"overlay\",\"size\":10,\"solidity\":0.2}},\"type\":\"barpolar\"}],\"pie\":[{\"automargin\":true,\"type\":\"pie\"}]},\"layout\":{\"autotypenumbers\":\"strict\",\"colorway\":[\"#636efa\",\"#EF553B\",\"#00cc96\",\"#ab63fa\",\"#FFA15A\",\"#19d3f3\",\"#FF6692\",\"#B6E880\",\"#FF97FF\",\"#FECB52\"],\"font\":{\"color\":\"#2a3f5f\"},\"hovermode\":\"closest\",\"hoverlabel\":{\"align\":\"left\"},\"paper_bgcolor\":\"white\",\"plot_bgcolor\":\"#E5ECF6\",\"polar\":{\"bgcolor\":\"#E5ECF6\",\"angularaxis\":{\"gridcolor\":\"white\",\"linecolor\":\"white\",\"ticks\":\"\"},\"radialaxis\":{\"gridcolor\":\"white\",\"linecolor\":\"white\",\"ticks\":\"\"}},\"ternary\":{\"bgcolor\":\"#E5ECF6\",\"aaxis\":{\"gridcolor\":\"white\",\"linecolor\":\"white\",\"ticks\":\"\"},\"baxis\":{\"gridcolor\":\"white\",\"linecolor\":\"white\",\"ticks\":\"\"},\"caxis\":{\"gridcolor\":\"white\",\"linecolor\":\"white\",\"ticks\":\"\"}},\"coloraxis\":{\"colorbar\":{\"outlinewidth\":0,\"ticks\":\"\"}},\"colorscale\":{\"sequential\":[[0.0,\"#0d0887\"],[0.1111111111111111,\"#46039f\"],[0.2222222222222222,\"#7201a8\"],[0.3333333333333333,\"#9c179e\"],[0.4444444444444444,\"#bd3786\"],[0.5555555555555556,\"#d8576b\"],[0.6666666666666666,\"#ed7953\"],[0.7777777777777778,\"#fb9f3a\"],[0.8888888888888888,\"#fdca26\"],[1.0,\"#f0f921\"]],\"sequentialminus\":[[0.0,\"#0d0887\"],[0.1111111111111111,\"#46039f\"],[0.2222222222222222,\"#7201a8\"],[0.3333333333333333,\"#9c179e\"],[0.4444444444444444,\"#bd3786\"],[0.5555555555555556,\"#d8576b\"],[0.6666666666666666,\"#ed7953\"],[0.7777777777777778,\"#fb9f3a\"],[0.8888888888888888,\"#fdca26\"],[1.0,\"#f0f921\"]],\"diverging\":[[0,\"#8e0152\"],[0.1,\"#c51b7d\"],[0.2,\"#de77ae\"],[0.3,\"#f1b6da\"],[0.4,\"#fde0ef\"],[0.5,\"#f7f7f7\"],[0.6,\"#e6f5d0\"],[0.7,\"#b8e186\"],[0.8,\"#7fbc41\"],[0.9,\"#4d9221\"],[1,\"#276419\"]]},\"xaxis\":{\"gridcolor\":\"white\",\"linecolor\":\"white\",\"ticks\":\"\",\"title\":{\"standoff\":15},\"zerolinecolor\":\"white\",\"automargin\":true,\"zerolinewidth\":2},\"yaxis\":{\"gridcolor\":\"white\",\"linecolor\":\"white\",\"ticks\":\"\",\"title\":{\"standoff\":15},\"zerolinecolor\":\"white\",\"automargin\":true,\"zerolinewidth\":2},\"scene\":{\"xaxis\":{\"backgroundcolor\":\"#E5ECF6\",\"gridcolor\":\"white\",\"linecolor\":\"white\",\"showbackground\":true,\"ticks\":\"\",\"zerolinecolor\":\"white\",\"gridwidth\":2},\"yaxis\":{\"backgroundcolor\":\"#E5ECF6\",\"gridcolor\":\"white\",\"linecolor\":\"white\",\"showbackground\":true,\"ticks\":\"\",\"zerolinecolor\":\"white\",\"gridwidth\":2},\"zaxis\":{\"backgroundcolor\":\"#E5ECF6\",\"gridcolor\":\"white\",\"linecolor\":\"white\",\"showbackground\":true,\"ticks\":\"\",\"zerolinecolor\":\"white\",\"gridwidth\":2}},\"shapedefaults\":{\"line\":{\"color\":\"#2a3f5f\"}},\"annotationdefaults\":{\"arrowcolor\":\"#2a3f5f\",\"arrowhead\":0,\"arrowwidth\":1},\"geo\":{\"bgcolor\":\"white\",\"landcolor\":\"#E5ECF6\",\"subunitcolor\":\"white\",\"showland\":true,\"showlakes\":true,\"lakecolor\":\"white\"},\"title\":{\"x\":0.05},\"mapbox\":{\"style\":\"light\"}}},\"title\":{\"text\":\"\\u0412\\u043e\\u0440\\u043e\\u043d\\u043a\\u0430 \\u0432\\u0437\\u0430\\u0438\\u043c\\u043e\\u0434\\u0435\\u0439\\u0441\\u0442\\u0432\\u0438\\u0439 \\u043f\\u043e\\u043b\\u044c\\u0437\\u043e\\u0432\\u0430\\u0442\\u0435\\u043b\\u0435\\u0439 \\u043f\\u043e\\u0441\\u0440\\u0435\\u0434\\u0441\\u0442\\u0432\\u043e\\u043c \\u0440\\u0435\\u043a\\u043e\\u043c\\u0435\\u043d\\u0434\\u0430\\u0446\\u0438\\u0438\"}},                        {\"responsive\": true}                    ).then(function(){\n",
       "                            \n",
       "var gd = document.getElementById('c1deca6b-7fc5-43e0-9ea4-c39d8b68d43b');\n",
       "var x = new MutationObserver(function (mutations, observer) {{\n",
       "        var display = window.getComputedStyle(gd).display;\n",
       "        if (!display || display === 'none') {{\n",
       "            console.log([gd, 'removed!']);\n",
       "            Plotly.purge(gd);\n",
       "            observer.disconnect();\n",
       "        }}\n",
       "}});\n",
       "\n",
       "// Listen for the removal of the full notebook cells\n",
       "var notebookContainer = gd.closest('#notebook-container');\n",
       "if (notebookContainer) {{\n",
       "    x.observe(notebookContainer, {childList: true});\n",
       "}}\n",
       "\n",
       "// Listen for the clearing of the current output cell\n",
       "var outputEl = gd.closest('.output');\n",
       "if (outputEl) {{\n",
       "    x.observe(outputEl, {childList: true});\n",
       "}}\n",
       "\n",
       "                        })                };                });            </script>        </div>"
      ]
     },
     "metadata": {},
     "output_type": "display_data"
    }
   ],
   "source": [
    "tips_click_funnel = df_mobile.query('user_id not in @search_user_list')\n",
    "tips_click_funnel = tips_click_funnel.query('user_id in @tips_click_user_list')\n",
    "tips_click_funnel = tips_click_funnel.query('event_name ==\"tips_click\" or event_name == \"contacts_show\" or event_name ==\"contacts_call\" or event_name ==\"favorites_add\" or event_name ==\"tips_show\"')\n",
    "tips_click_funnel_count = tips_click_funnel['event_name'].value_counts().to_frame().reset_index()['event_name'].to_list()\n",
    "tips_click_funnel_name = tips_click_funnel['event_name'].value_counts().to_frame().reset_index()['index'].to_list()\n",
    "\n",
    "fig = go.Figure()\n",
    "fig.add_trace(go.Funnel(\n",
    "    y = tips_click_funnel_name,\n",
    "    x = tips_click_funnel_count,\n",
    "    textposition = \"auto\",\n",
    "    textinfo = \"value+percent initial+percent previous\",\n",
    "    opacity = 0.70, marker = {\"color\": [\"teal\", \"lightseagreen\", \"turquoise\", \"paleturquoise\"]},\n",
    "    textfont = {\"size\": 13, \"color\": \"black\"}\n",
    "))\n",
    "fig.update_layout(title='Воронка взаимодействий пользователей посредством рекомендации')\n",
    "fig.show()"
   ]
  },
  {
   "cell_type": "markdown",
   "id": "f229ad3a",
   "metadata": {},
   "source": [
    "**Вывод:**  \n",
    "* Конечно если смотреть на показатели в целом конверсия перехода пользователей с рекомендации до открытия рекомендованного оставляет желать лучшего: из 5641 пользователей только 650 кликнуло по объявлению.  \n",
    "** Выявили интересную закономерность, те пользователи, которые пользовались рекомендациями не взаимодействовали в дальнейшем с карточкой contacts_call.  \n",
    "* Всего лишь 12% пользователей увидивших карточку tips_show перешли на карточку tips_click.  \n",
    "* Из 650 пользователей перешедших на рекомендованное объявление 480(74%) посмотрели контакт - это отличный показатель, по этому пути не отвалилось большого количества пользователей. Возможно стоит это учесть, и повысить качество показанных рекомендаций, чтобы увеличить данную конверсию перехода изначально.  \n",
    "* Так же 25% пользователей добавили объявление в избранное - это 2% от показанного объявления. "
   ]
  },
  {
   "cell_type": "markdown",
   "id": "fec93eb3",
   "metadata": {},
   "source": [
    "2.7 Изучить динамику количества взаимодействий в приложении по дням и неделям."
   ]
  },
  {
   "cell_type": "code",
   "execution_count": 143,
   "id": "47e79826",
   "metadata": {},
   "outputs": [],
   "source": [
    "first_activity_date = df_mobile.groupby(['user_id'])['date'].min()\n",
    "first_activity_date.name = 'first_activity_date'\n",
    "user_activity = df_mobile.join(first_activity_date,on='user_id')"
   ]
  },
  {
   "cell_type": "code",
   "execution_count": 144,
   "id": "33f5fc4b",
   "metadata": {},
   "outputs": [],
   "source": [
    "user_activity['activity_week'] = pd.to_datetime(user_activity['date'], \n",
    "                                                unit='d') - pd.to_timedelta(user_activity['date'].dt.dayofweek, unit='d')\n",
    "user_activity['first_activity_week'] = pd.to_datetime(user_activity['first_activity_date'],\n",
    "                                                      unit='d') - pd.to_timedelta(user_activity['first_activity_date'].dt.dayofweek, unit='d')"
   ]
  },
  {
   "cell_type": "code",
   "execution_count": 145,
   "id": "6cbd003a",
   "metadata": {},
   "outputs": [
    {
     "data": {
      "application/vnd.plotly.v1+json": {
       "config": {
        "plotlyServerURL": "https://plot.ly"
       },
       "data": [
        {
         "text": [
          "2464",
          "2383",
          "1947",
          "2122",
          "1932",
          "1770",
          "2544",
          "2866",
          "2588",
          "2569",
          "2463",
          "2588",
          "2193",
          "2034",
          "2731",
          "2561",
          "3179",
          "2904",
          "2465",
          "2977",
          "2729",
          "3000",
          "2989",
          "2726",
          "2734",
          "2491",
          "1763",
          "2740"
         ],
         "textposition": "auto",
         "type": "bar",
         "x": [
          "2019-10-07T00:00:00",
          "2019-10-08T00:00:00",
          "2019-10-09T00:00:00",
          "2019-10-10T00:00:00",
          "2019-10-11T00:00:00",
          "2019-10-12T00:00:00",
          "2019-10-13T00:00:00",
          "2019-10-14T00:00:00",
          "2019-10-15T00:00:00",
          "2019-10-16T00:00:00",
          "2019-10-17T00:00:00",
          "2019-10-18T00:00:00",
          "2019-10-19T00:00:00",
          "2019-10-20T00:00:00",
          "2019-10-21T00:00:00",
          "2019-10-22T00:00:00",
          "2019-10-23T00:00:00",
          "2019-10-24T00:00:00",
          "2019-10-25T00:00:00",
          "2019-10-26T00:00:00",
          "2019-10-27T00:00:00",
          "2019-10-28T00:00:00",
          "2019-10-29T00:00:00",
          "2019-10-30T00:00:00",
          "2019-10-31T00:00:00",
          "2019-11-01T00:00:00",
          "2019-11-02T00:00:00",
          "2019-11-03T00:00:00"
         ],
         "y": [
          2464,
          2383,
          1947,
          2122,
          1932,
          1770,
          2544,
          2866,
          2588,
          2569,
          2463,
          2588,
          2193,
          2034,
          2731,
          2561,
          3179,
          2904,
          2465,
          2977,
          2729,
          3000,
          2989,
          2726,
          2734,
          2491,
          1763,
          2740
         ]
        }
       ],
       "layout": {
        "template": {
         "data": {
          "bar": [
           {
            "error_x": {
             "color": "#2a3f5f"
            },
            "error_y": {
             "color": "#2a3f5f"
            },
            "marker": {
             "line": {
              "color": "#E5ECF6",
              "width": 0.5
             },
             "pattern": {
              "fillmode": "overlay",
              "size": 10,
              "solidity": 0.2
             }
            },
            "type": "bar"
           }
          ],
          "barpolar": [
           {
            "marker": {
             "line": {
              "color": "#E5ECF6",
              "width": 0.5
             },
             "pattern": {
              "fillmode": "overlay",
              "size": 10,
              "solidity": 0.2
             }
            },
            "type": "barpolar"
           }
          ],
          "carpet": [
           {
            "aaxis": {
             "endlinecolor": "#2a3f5f",
             "gridcolor": "white",
             "linecolor": "white",
             "minorgridcolor": "white",
             "startlinecolor": "#2a3f5f"
            },
            "baxis": {
             "endlinecolor": "#2a3f5f",
             "gridcolor": "white",
             "linecolor": "white",
             "minorgridcolor": "white",
             "startlinecolor": "#2a3f5f"
            },
            "type": "carpet"
           }
          ],
          "choropleth": [
           {
            "colorbar": {
             "outlinewidth": 0,
             "ticks": ""
            },
            "type": "choropleth"
           }
          ],
          "contour": [
           {
            "colorbar": {
             "outlinewidth": 0,
             "ticks": ""
            },
            "colorscale": [
             [
              0,
              "#0d0887"
             ],
             [
              0.1111111111111111,
              "#46039f"
             ],
             [
              0.2222222222222222,
              "#7201a8"
             ],
             [
              0.3333333333333333,
              "#9c179e"
             ],
             [
              0.4444444444444444,
              "#bd3786"
             ],
             [
              0.5555555555555556,
              "#d8576b"
             ],
             [
              0.6666666666666666,
              "#ed7953"
             ],
             [
              0.7777777777777778,
              "#fb9f3a"
             ],
             [
              0.8888888888888888,
              "#fdca26"
             ],
             [
              1,
              "#f0f921"
             ]
            ],
            "type": "contour"
           }
          ],
          "contourcarpet": [
           {
            "colorbar": {
             "outlinewidth": 0,
             "ticks": ""
            },
            "type": "contourcarpet"
           }
          ],
          "heatmap": [
           {
            "colorbar": {
             "outlinewidth": 0,
             "ticks": ""
            },
            "colorscale": [
             [
              0,
              "#0d0887"
             ],
             [
              0.1111111111111111,
              "#46039f"
             ],
             [
              0.2222222222222222,
              "#7201a8"
             ],
             [
              0.3333333333333333,
              "#9c179e"
             ],
             [
              0.4444444444444444,
              "#bd3786"
             ],
             [
              0.5555555555555556,
              "#d8576b"
             ],
             [
              0.6666666666666666,
              "#ed7953"
             ],
             [
              0.7777777777777778,
              "#fb9f3a"
             ],
             [
              0.8888888888888888,
              "#fdca26"
             ],
             [
              1,
              "#f0f921"
             ]
            ],
            "type": "heatmap"
           }
          ],
          "heatmapgl": [
           {
            "colorbar": {
             "outlinewidth": 0,
             "ticks": ""
            },
            "colorscale": [
             [
              0,
              "#0d0887"
             ],
             [
              0.1111111111111111,
              "#46039f"
             ],
             [
              0.2222222222222222,
              "#7201a8"
             ],
             [
              0.3333333333333333,
              "#9c179e"
             ],
             [
              0.4444444444444444,
              "#bd3786"
             ],
             [
              0.5555555555555556,
              "#d8576b"
             ],
             [
              0.6666666666666666,
              "#ed7953"
             ],
             [
              0.7777777777777778,
              "#fb9f3a"
             ],
             [
              0.8888888888888888,
              "#fdca26"
             ],
             [
              1,
              "#f0f921"
             ]
            ],
            "type": "heatmapgl"
           }
          ],
          "histogram": [
           {
            "marker": {
             "pattern": {
              "fillmode": "overlay",
              "size": 10,
              "solidity": 0.2
             }
            },
            "type": "histogram"
           }
          ],
          "histogram2d": [
           {
            "colorbar": {
             "outlinewidth": 0,
             "ticks": ""
            },
            "colorscale": [
             [
              0,
              "#0d0887"
             ],
             [
              0.1111111111111111,
              "#46039f"
             ],
             [
              0.2222222222222222,
              "#7201a8"
             ],
             [
              0.3333333333333333,
              "#9c179e"
             ],
             [
              0.4444444444444444,
              "#bd3786"
             ],
             [
              0.5555555555555556,
              "#d8576b"
             ],
             [
              0.6666666666666666,
              "#ed7953"
             ],
             [
              0.7777777777777778,
              "#fb9f3a"
             ],
             [
              0.8888888888888888,
              "#fdca26"
             ],
             [
              1,
              "#f0f921"
             ]
            ],
            "type": "histogram2d"
           }
          ],
          "histogram2dcontour": [
           {
            "colorbar": {
             "outlinewidth": 0,
             "ticks": ""
            },
            "colorscale": [
             [
              0,
              "#0d0887"
             ],
             [
              0.1111111111111111,
              "#46039f"
             ],
             [
              0.2222222222222222,
              "#7201a8"
             ],
             [
              0.3333333333333333,
              "#9c179e"
             ],
             [
              0.4444444444444444,
              "#bd3786"
             ],
             [
              0.5555555555555556,
              "#d8576b"
             ],
             [
              0.6666666666666666,
              "#ed7953"
             ],
             [
              0.7777777777777778,
              "#fb9f3a"
             ],
             [
              0.8888888888888888,
              "#fdca26"
             ],
             [
              1,
              "#f0f921"
             ]
            ],
            "type": "histogram2dcontour"
           }
          ],
          "mesh3d": [
           {
            "colorbar": {
             "outlinewidth": 0,
             "ticks": ""
            },
            "type": "mesh3d"
           }
          ],
          "parcoords": [
           {
            "line": {
             "colorbar": {
              "outlinewidth": 0,
              "ticks": ""
             }
            },
            "type": "parcoords"
           }
          ],
          "pie": [
           {
            "automargin": true,
            "type": "pie"
           }
          ],
          "scatter": [
           {
            "fillpattern": {
             "fillmode": "overlay",
             "size": 10,
             "solidity": 0.2
            },
            "type": "scatter"
           }
          ],
          "scatter3d": [
           {
            "line": {
             "colorbar": {
              "outlinewidth": 0,
              "ticks": ""
             }
            },
            "marker": {
             "colorbar": {
              "outlinewidth": 0,
              "ticks": ""
             }
            },
            "type": "scatter3d"
           }
          ],
          "scattercarpet": [
           {
            "marker": {
             "colorbar": {
              "outlinewidth": 0,
              "ticks": ""
             }
            },
            "type": "scattercarpet"
           }
          ],
          "scattergeo": [
           {
            "marker": {
             "colorbar": {
              "outlinewidth": 0,
              "ticks": ""
             }
            },
            "type": "scattergeo"
           }
          ],
          "scattergl": [
           {
            "marker": {
             "colorbar": {
              "outlinewidth": 0,
              "ticks": ""
             }
            },
            "type": "scattergl"
           }
          ],
          "scattermapbox": [
           {
            "marker": {
             "colorbar": {
              "outlinewidth": 0,
              "ticks": ""
             }
            },
            "type": "scattermapbox"
           }
          ],
          "scatterpolar": [
           {
            "marker": {
             "colorbar": {
              "outlinewidth": 0,
              "ticks": ""
             }
            },
            "type": "scatterpolar"
           }
          ],
          "scatterpolargl": [
           {
            "marker": {
             "colorbar": {
              "outlinewidth": 0,
              "ticks": ""
             }
            },
            "type": "scatterpolargl"
           }
          ],
          "scatterternary": [
           {
            "marker": {
             "colorbar": {
              "outlinewidth": 0,
              "ticks": ""
             }
            },
            "type": "scatterternary"
           }
          ],
          "surface": [
           {
            "colorbar": {
             "outlinewidth": 0,
             "ticks": ""
            },
            "colorscale": [
             [
              0,
              "#0d0887"
             ],
             [
              0.1111111111111111,
              "#46039f"
             ],
             [
              0.2222222222222222,
              "#7201a8"
             ],
             [
              0.3333333333333333,
              "#9c179e"
             ],
             [
              0.4444444444444444,
              "#bd3786"
             ],
             [
              0.5555555555555556,
              "#d8576b"
             ],
             [
              0.6666666666666666,
              "#ed7953"
             ],
             [
              0.7777777777777778,
              "#fb9f3a"
             ],
             [
              0.8888888888888888,
              "#fdca26"
             ],
             [
              1,
              "#f0f921"
             ]
            ],
            "type": "surface"
           }
          ],
          "table": [
           {
            "cells": {
             "fill": {
              "color": "#EBF0F8"
             },
             "line": {
              "color": "white"
             }
            },
            "header": {
             "fill": {
              "color": "#C8D4E3"
             },
             "line": {
              "color": "white"
             }
            },
            "type": "table"
           }
          ]
         },
         "layout": {
          "annotationdefaults": {
           "arrowcolor": "#2a3f5f",
           "arrowhead": 0,
           "arrowwidth": 1
          },
          "autotypenumbers": "strict",
          "coloraxis": {
           "colorbar": {
            "outlinewidth": 0,
            "ticks": ""
           }
          },
          "colorscale": {
           "diverging": [
            [
             0,
             "#8e0152"
            ],
            [
             0.1,
             "#c51b7d"
            ],
            [
             0.2,
             "#de77ae"
            ],
            [
             0.3,
             "#f1b6da"
            ],
            [
             0.4,
             "#fde0ef"
            ],
            [
             0.5,
             "#f7f7f7"
            ],
            [
             0.6,
             "#e6f5d0"
            ],
            [
             0.7,
             "#b8e186"
            ],
            [
             0.8,
             "#7fbc41"
            ],
            [
             0.9,
             "#4d9221"
            ],
            [
             1,
             "#276419"
            ]
           ],
           "sequential": [
            [
             0,
             "#0d0887"
            ],
            [
             0.1111111111111111,
             "#46039f"
            ],
            [
             0.2222222222222222,
             "#7201a8"
            ],
            [
             0.3333333333333333,
             "#9c179e"
            ],
            [
             0.4444444444444444,
             "#bd3786"
            ],
            [
             0.5555555555555556,
             "#d8576b"
            ],
            [
             0.6666666666666666,
             "#ed7953"
            ],
            [
             0.7777777777777778,
             "#fb9f3a"
            ],
            [
             0.8888888888888888,
             "#fdca26"
            ],
            [
             1,
             "#f0f921"
            ]
           ],
           "sequentialminus": [
            [
             0,
             "#0d0887"
            ],
            [
             0.1111111111111111,
             "#46039f"
            ],
            [
             0.2222222222222222,
             "#7201a8"
            ],
            [
             0.3333333333333333,
             "#9c179e"
            ],
            [
             0.4444444444444444,
             "#bd3786"
            ],
            [
             0.5555555555555556,
             "#d8576b"
            ],
            [
             0.6666666666666666,
             "#ed7953"
            ],
            [
             0.7777777777777778,
             "#fb9f3a"
            ],
            [
             0.8888888888888888,
             "#fdca26"
            ],
            [
             1,
             "#f0f921"
            ]
           ]
          },
          "colorway": [
           "#636efa",
           "#EF553B",
           "#00cc96",
           "#ab63fa",
           "#FFA15A",
           "#19d3f3",
           "#FF6692",
           "#B6E880",
           "#FF97FF",
           "#FECB52"
          ],
          "font": {
           "color": "#2a3f5f"
          },
          "geo": {
           "bgcolor": "white",
           "lakecolor": "white",
           "landcolor": "#E5ECF6",
           "showlakes": true,
           "showland": true,
           "subunitcolor": "white"
          },
          "hoverlabel": {
           "align": "left"
          },
          "hovermode": "closest",
          "mapbox": {
           "style": "light"
          },
          "paper_bgcolor": "white",
          "plot_bgcolor": "#E5ECF6",
          "polar": {
           "angularaxis": {
            "gridcolor": "white",
            "linecolor": "white",
            "ticks": ""
           },
           "bgcolor": "#E5ECF6",
           "radialaxis": {
            "gridcolor": "white",
            "linecolor": "white",
            "ticks": ""
           }
          },
          "scene": {
           "xaxis": {
            "backgroundcolor": "#E5ECF6",
            "gridcolor": "white",
            "gridwidth": 2,
            "linecolor": "white",
            "showbackground": true,
            "ticks": "",
            "zerolinecolor": "white"
           },
           "yaxis": {
            "backgroundcolor": "#E5ECF6",
            "gridcolor": "white",
            "gridwidth": 2,
            "linecolor": "white",
            "showbackground": true,
            "ticks": "",
            "zerolinecolor": "white"
           },
           "zaxis": {
            "backgroundcolor": "#E5ECF6",
            "gridcolor": "white",
            "gridwidth": 2,
            "linecolor": "white",
            "showbackground": true,
            "ticks": "",
            "zerolinecolor": "white"
           }
          },
          "shapedefaults": {
           "line": {
            "color": "#2a3f5f"
           }
          },
          "ternary": {
           "aaxis": {
            "gridcolor": "white",
            "linecolor": "white",
            "ticks": ""
           },
           "baxis": {
            "gridcolor": "white",
            "linecolor": "white",
            "ticks": ""
           },
           "bgcolor": "#E5ECF6",
           "caxis": {
            "gridcolor": "white",
            "linecolor": "white",
            "ticks": ""
           }
          },
          "title": {
           "x": 0.05
          },
          "xaxis": {
           "automargin": true,
           "gridcolor": "white",
           "linecolor": "white",
           "ticks": "",
           "title": {
            "standoff": 15
           },
           "zerolinecolor": "white",
           "zerolinewidth": 2
          },
          "yaxis": {
           "automargin": true,
           "gridcolor": "white",
           "linecolor": "white",
           "ticks": "",
           "title": {
            "standoff": 15
           },
           "zerolinecolor": "white",
           "zerolinewidth": 2
          }
         }
        },
        "title": {
         "text": "График количества взаимодействий пользователей по дням"
        }
       }
      },
      "text/html": [
       "<div>                            <div id=\"411fa5bb-03bc-4eed-a235-0fb48f198ebd\" class=\"plotly-graph-div\" style=\"height:525px; width:100%;\"></div>            <script type=\"text/javascript\">                require([\"plotly\"], function(Plotly) {                    window.PLOTLYENV=window.PLOTLYENV || {};                                    if (document.getElementById(\"411fa5bb-03bc-4eed-a235-0fb48f198ebd\")) {                    Plotly.newPlot(                        \"411fa5bb-03bc-4eed-a235-0fb48f198ebd\",                        [{\"text\":[\"2464\",\"2383\",\"1947\",\"2122\",\"1932\",\"1770\",\"2544\",\"2866\",\"2588\",\"2569\",\"2463\",\"2588\",\"2193\",\"2034\",\"2731\",\"2561\",\"3179\",\"2904\",\"2465\",\"2977\",\"2729\",\"3000\",\"2989\",\"2726\",\"2734\",\"2491\",\"1763\",\"2740\"],\"textposition\":\"auto\",\"x\":[\"2019-10-07T00:00:00\",\"2019-10-08T00:00:00\",\"2019-10-09T00:00:00\",\"2019-10-10T00:00:00\",\"2019-10-11T00:00:00\",\"2019-10-12T00:00:00\",\"2019-10-13T00:00:00\",\"2019-10-14T00:00:00\",\"2019-10-15T00:00:00\",\"2019-10-16T00:00:00\",\"2019-10-17T00:00:00\",\"2019-10-18T00:00:00\",\"2019-10-19T00:00:00\",\"2019-10-20T00:00:00\",\"2019-10-21T00:00:00\",\"2019-10-22T00:00:00\",\"2019-10-23T00:00:00\",\"2019-10-24T00:00:00\",\"2019-10-25T00:00:00\",\"2019-10-26T00:00:00\",\"2019-10-27T00:00:00\",\"2019-10-28T00:00:00\",\"2019-10-29T00:00:00\",\"2019-10-30T00:00:00\",\"2019-10-31T00:00:00\",\"2019-11-01T00:00:00\",\"2019-11-02T00:00:00\",\"2019-11-03T00:00:00\"],\"y\":[2464,2383,1947,2122,1932,1770,2544,2866,2588,2569,2463,2588,2193,2034,2731,2561,3179,2904,2465,2977,2729,3000,2989,2726,2734,2491,1763,2740],\"type\":\"bar\"}],                        {\"template\":{\"data\":{\"histogram2dcontour\":[{\"type\":\"histogram2dcontour\",\"colorbar\":{\"outlinewidth\":0,\"ticks\":\"\"},\"colorscale\":[[0.0,\"#0d0887\"],[0.1111111111111111,\"#46039f\"],[0.2222222222222222,\"#7201a8\"],[0.3333333333333333,\"#9c179e\"],[0.4444444444444444,\"#bd3786\"],[0.5555555555555556,\"#d8576b\"],[0.6666666666666666,\"#ed7953\"],[0.7777777777777778,\"#fb9f3a\"],[0.8888888888888888,\"#fdca26\"],[1.0,\"#f0f921\"]]}],\"choropleth\":[{\"type\":\"choropleth\",\"colorbar\":{\"outlinewidth\":0,\"ticks\":\"\"}}],\"histogram2d\":[{\"type\":\"histogram2d\",\"colorbar\":{\"outlinewidth\":0,\"ticks\":\"\"},\"colorscale\":[[0.0,\"#0d0887\"],[0.1111111111111111,\"#46039f\"],[0.2222222222222222,\"#7201a8\"],[0.3333333333333333,\"#9c179e\"],[0.4444444444444444,\"#bd3786\"],[0.5555555555555556,\"#d8576b\"],[0.6666666666666666,\"#ed7953\"],[0.7777777777777778,\"#fb9f3a\"],[0.8888888888888888,\"#fdca26\"],[1.0,\"#f0f921\"]]}],\"heatmap\":[{\"type\":\"heatmap\",\"colorbar\":{\"outlinewidth\":0,\"ticks\":\"\"},\"colorscale\":[[0.0,\"#0d0887\"],[0.1111111111111111,\"#46039f\"],[0.2222222222222222,\"#7201a8\"],[0.3333333333333333,\"#9c179e\"],[0.4444444444444444,\"#bd3786\"],[0.5555555555555556,\"#d8576b\"],[0.6666666666666666,\"#ed7953\"],[0.7777777777777778,\"#fb9f3a\"],[0.8888888888888888,\"#fdca26\"],[1.0,\"#f0f921\"]]}],\"heatmapgl\":[{\"type\":\"heatmapgl\",\"colorbar\":{\"outlinewidth\":0,\"ticks\":\"\"},\"colorscale\":[[0.0,\"#0d0887\"],[0.1111111111111111,\"#46039f\"],[0.2222222222222222,\"#7201a8\"],[0.3333333333333333,\"#9c179e\"],[0.4444444444444444,\"#bd3786\"],[0.5555555555555556,\"#d8576b\"],[0.6666666666666666,\"#ed7953\"],[0.7777777777777778,\"#fb9f3a\"],[0.8888888888888888,\"#fdca26\"],[1.0,\"#f0f921\"]]}],\"contourcarpet\":[{\"type\":\"contourcarpet\",\"colorbar\":{\"outlinewidth\":0,\"ticks\":\"\"}}],\"contour\":[{\"type\":\"contour\",\"colorbar\":{\"outlinewidth\":0,\"ticks\":\"\"},\"colorscale\":[[0.0,\"#0d0887\"],[0.1111111111111111,\"#46039f\"],[0.2222222222222222,\"#7201a8\"],[0.3333333333333333,\"#9c179e\"],[0.4444444444444444,\"#bd3786\"],[0.5555555555555556,\"#d8576b\"],[0.6666666666666666,\"#ed7953\"],[0.7777777777777778,\"#fb9f3a\"],[0.8888888888888888,\"#fdca26\"],[1.0,\"#f0f921\"]]}],\"surface\":[{\"type\":\"surface\",\"colorbar\":{\"outlinewidth\":0,\"ticks\":\"\"},\"colorscale\":[[0.0,\"#0d0887\"],[0.1111111111111111,\"#46039f\"],[0.2222222222222222,\"#7201a8\"],[0.3333333333333333,\"#9c179e\"],[0.4444444444444444,\"#bd3786\"],[0.5555555555555556,\"#d8576b\"],[0.6666666666666666,\"#ed7953\"],[0.7777777777777778,\"#fb9f3a\"],[0.8888888888888888,\"#fdca26\"],[1.0,\"#f0f921\"]]}],\"mesh3d\":[{\"type\":\"mesh3d\",\"colorbar\":{\"outlinewidth\":0,\"ticks\":\"\"}}],\"scatter\":[{\"fillpattern\":{\"fillmode\":\"overlay\",\"size\":10,\"solidity\":0.2},\"type\":\"scatter\"}],\"parcoords\":[{\"type\":\"parcoords\",\"line\":{\"colorbar\":{\"outlinewidth\":0,\"ticks\":\"\"}}}],\"scatterpolargl\":[{\"type\":\"scatterpolargl\",\"marker\":{\"colorbar\":{\"outlinewidth\":0,\"ticks\":\"\"}}}],\"bar\":[{\"error_x\":{\"color\":\"#2a3f5f\"},\"error_y\":{\"color\":\"#2a3f5f\"},\"marker\":{\"line\":{\"color\":\"#E5ECF6\",\"width\":0.5},\"pattern\":{\"fillmode\":\"overlay\",\"size\":10,\"solidity\":0.2}},\"type\":\"bar\"}],\"scattergeo\":[{\"type\":\"scattergeo\",\"marker\":{\"colorbar\":{\"outlinewidth\":0,\"ticks\":\"\"}}}],\"scatterpolar\":[{\"type\":\"scatterpolar\",\"marker\":{\"colorbar\":{\"outlinewidth\":0,\"ticks\":\"\"}}}],\"histogram\":[{\"marker\":{\"pattern\":{\"fillmode\":\"overlay\",\"size\":10,\"solidity\":0.2}},\"type\":\"histogram\"}],\"scattergl\":[{\"type\":\"scattergl\",\"marker\":{\"colorbar\":{\"outlinewidth\":0,\"ticks\":\"\"}}}],\"scatter3d\":[{\"type\":\"scatter3d\",\"line\":{\"colorbar\":{\"outlinewidth\":0,\"ticks\":\"\"}},\"marker\":{\"colorbar\":{\"outlinewidth\":0,\"ticks\":\"\"}}}],\"scattermapbox\":[{\"type\":\"scattermapbox\",\"marker\":{\"colorbar\":{\"outlinewidth\":0,\"ticks\":\"\"}}}],\"scatterternary\":[{\"type\":\"scatterternary\",\"marker\":{\"colorbar\":{\"outlinewidth\":0,\"ticks\":\"\"}}}],\"scattercarpet\":[{\"type\":\"scattercarpet\",\"marker\":{\"colorbar\":{\"outlinewidth\":0,\"ticks\":\"\"}}}],\"carpet\":[{\"aaxis\":{\"endlinecolor\":\"#2a3f5f\",\"gridcolor\":\"white\",\"linecolor\":\"white\",\"minorgridcolor\":\"white\",\"startlinecolor\":\"#2a3f5f\"},\"baxis\":{\"endlinecolor\":\"#2a3f5f\",\"gridcolor\":\"white\",\"linecolor\":\"white\",\"minorgridcolor\":\"white\",\"startlinecolor\":\"#2a3f5f\"},\"type\":\"carpet\"}],\"table\":[{\"cells\":{\"fill\":{\"color\":\"#EBF0F8\"},\"line\":{\"color\":\"white\"}},\"header\":{\"fill\":{\"color\":\"#C8D4E3\"},\"line\":{\"color\":\"white\"}},\"type\":\"table\"}],\"barpolar\":[{\"marker\":{\"line\":{\"color\":\"#E5ECF6\",\"width\":0.5},\"pattern\":{\"fillmode\":\"overlay\",\"size\":10,\"solidity\":0.2}},\"type\":\"barpolar\"}],\"pie\":[{\"automargin\":true,\"type\":\"pie\"}]},\"layout\":{\"autotypenumbers\":\"strict\",\"colorway\":[\"#636efa\",\"#EF553B\",\"#00cc96\",\"#ab63fa\",\"#FFA15A\",\"#19d3f3\",\"#FF6692\",\"#B6E880\",\"#FF97FF\",\"#FECB52\"],\"font\":{\"color\":\"#2a3f5f\"},\"hovermode\":\"closest\",\"hoverlabel\":{\"align\":\"left\"},\"paper_bgcolor\":\"white\",\"plot_bgcolor\":\"#E5ECF6\",\"polar\":{\"bgcolor\":\"#E5ECF6\",\"angularaxis\":{\"gridcolor\":\"white\",\"linecolor\":\"white\",\"ticks\":\"\"},\"radialaxis\":{\"gridcolor\":\"white\",\"linecolor\":\"white\",\"ticks\":\"\"}},\"ternary\":{\"bgcolor\":\"#E5ECF6\",\"aaxis\":{\"gridcolor\":\"white\",\"linecolor\":\"white\",\"ticks\":\"\"},\"baxis\":{\"gridcolor\":\"white\",\"linecolor\":\"white\",\"ticks\":\"\"},\"caxis\":{\"gridcolor\":\"white\",\"linecolor\":\"white\",\"ticks\":\"\"}},\"coloraxis\":{\"colorbar\":{\"outlinewidth\":0,\"ticks\":\"\"}},\"colorscale\":{\"sequential\":[[0.0,\"#0d0887\"],[0.1111111111111111,\"#46039f\"],[0.2222222222222222,\"#7201a8\"],[0.3333333333333333,\"#9c179e\"],[0.4444444444444444,\"#bd3786\"],[0.5555555555555556,\"#d8576b\"],[0.6666666666666666,\"#ed7953\"],[0.7777777777777778,\"#fb9f3a\"],[0.8888888888888888,\"#fdca26\"],[1.0,\"#f0f921\"]],\"sequentialminus\":[[0.0,\"#0d0887\"],[0.1111111111111111,\"#46039f\"],[0.2222222222222222,\"#7201a8\"],[0.3333333333333333,\"#9c179e\"],[0.4444444444444444,\"#bd3786\"],[0.5555555555555556,\"#d8576b\"],[0.6666666666666666,\"#ed7953\"],[0.7777777777777778,\"#fb9f3a\"],[0.8888888888888888,\"#fdca26\"],[1.0,\"#f0f921\"]],\"diverging\":[[0,\"#8e0152\"],[0.1,\"#c51b7d\"],[0.2,\"#de77ae\"],[0.3,\"#f1b6da\"],[0.4,\"#fde0ef\"],[0.5,\"#f7f7f7\"],[0.6,\"#e6f5d0\"],[0.7,\"#b8e186\"],[0.8,\"#7fbc41\"],[0.9,\"#4d9221\"],[1,\"#276419\"]]},\"xaxis\":{\"gridcolor\":\"white\",\"linecolor\":\"white\",\"ticks\":\"\",\"title\":{\"standoff\":15},\"zerolinecolor\":\"white\",\"automargin\":true,\"zerolinewidth\":2},\"yaxis\":{\"gridcolor\":\"white\",\"linecolor\":\"white\",\"ticks\":\"\",\"title\":{\"standoff\":15},\"zerolinecolor\":\"white\",\"automargin\":true,\"zerolinewidth\":2},\"scene\":{\"xaxis\":{\"backgroundcolor\":\"#E5ECF6\",\"gridcolor\":\"white\",\"linecolor\":\"white\",\"showbackground\":true,\"ticks\":\"\",\"zerolinecolor\":\"white\",\"gridwidth\":2},\"yaxis\":{\"backgroundcolor\":\"#E5ECF6\",\"gridcolor\":\"white\",\"linecolor\":\"white\",\"showbackground\":true,\"ticks\":\"\",\"zerolinecolor\":\"white\",\"gridwidth\":2},\"zaxis\":{\"backgroundcolor\":\"#E5ECF6\",\"gridcolor\":\"white\",\"linecolor\":\"white\",\"showbackground\":true,\"ticks\":\"\",\"zerolinecolor\":\"white\",\"gridwidth\":2}},\"shapedefaults\":{\"line\":{\"color\":\"#2a3f5f\"}},\"annotationdefaults\":{\"arrowcolor\":\"#2a3f5f\",\"arrowhead\":0,\"arrowwidth\":1},\"geo\":{\"bgcolor\":\"white\",\"landcolor\":\"#E5ECF6\",\"subunitcolor\":\"white\",\"showland\":true,\"showlakes\":true,\"lakecolor\":\"white\"},\"title\":{\"x\":0.05},\"mapbox\":{\"style\":\"light\"}}},\"title\":{\"text\":\"\\u0413\\u0440\\u0430\\u0444\\u0438\\u043a \\u043a\\u043e\\u043b\\u0438\\u0447\\u0435\\u0441\\u0442\\u0432\\u0430 \\u0432\\u0437\\u0430\\u0438\\u043c\\u043e\\u0434\\u0435\\u0439\\u0441\\u0442\\u0432\\u0438\\u0439 \\u043f\\u043e\\u043b\\u044c\\u0437\\u043e\\u0432\\u0430\\u0442\\u0435\\u043b\\u0435\\u0439 \\u043f\\u043e \\u0434\\u043d\\u044f\\u043c\"}},                        {\"responsive\": true}                    ).then(function(){\n",
       "                            \n",
       "var gd = document.getElementById('411fa5bb-03bc-4eed-a235-0fb48f198ebd');\n",
       "var x = new MutationObserver(function (mutations, observer) {{\n",
       "        var display = window.getComputedStyle(gd).display;\n",
       "        if (!display || display === 'none') {{\n",
       "            console.log([gd, 'removed!']);\n",
       "            Plotly.purge(gd);\n",
       "            observer.disconnect();\n",
       "        }}\n",
       "}});\n",
       "\n",
       "// Listen for the removal of the full notebook cells\n",
       "var notebookContainer = gd.closest('#notebook-container');\n",
       "if (notebookContainer) {{\n",
       "    x.observe(notebookContainer, {childList: true});\n",
       "}}\n",
       "\n",
       "// Listen for the clearing of the current output cell\n",
       "var outputEl = gd.closest('.output');\n",
       "if (outputEl) {{\n",
       "    x.observe(outputEl, {childList: true});\n",
       "}}\n",
       "\n",
       "                        })                };                });            </script>        </div>"
      ]
     },
     "metadata": {},
     "output_type": "display_data"
    }
   ],
   "source": [
    "count_users_by_day = user_activity.groupby('date').agg({'user_id':'count'}).reset_index()\n",
    "count_users_by_week = user_activity.groupby('activity_week').agg({'user_id':'count'}).reset_index()\n",
    "\n",
    "fig = go.Figure(data=[\n",
    "    go.Bar(x=count_users_by_day['date'].to_list(),\n",
    "           y=count_users_by_day['user_id'].to_list(),\n",
    "           text=count_users_by_day['user_id'].to_list(),\n",
    "           textposition='auto')])\n",
    "fig.update_layout(title='График количества взаимодействий пользователей по дням')\n",
    "fig.show()\n"
   ]
  },
  {
   "cell_type": "code",
   "execution_count": 146,
   "id": "226912a3",
   "metadata": {},
   "outputs": [
    {
     "data": {
      "application/vnd.plotly.v1+json": {
       "config": {
        "plotlyServerURL": "https://plot.ly"
       },
       "data": [
        {
         "text": [
          "15162",
          "17301",
          "19546",
          "18443"
         ],
         "textposition": "auto",
         "type": "bar",
         "x": [
          "2019-10-07T00:00:00",
          "2019-10-14T00:00:00",
          "2019-10-21T00:00:00",
          "2019-10-28T00:00:00"
         ],
         "y": [
          15162,
          17301,
          19546,
          18443
         ]
        }
       ],
       "layout": {
        "template": {
         "data": {
          "bar": [
           {
            "error_x": {
             "color": "#2a3f5f"
            },
            "error_y": {
             "color": "#2a3f5f"
            },
            "marker": {
             "line": {
              "color": "#E5ECF6",
              "width": 0.5
             },
             "pattern": {
              "fillmode": "overlay",
              "size": 10,
              "solidity": 0.2
             }
            },
            "type": "bar"
           }
          ],
          "barpolar": [
           {
            "marker": {
             "line": {
              "color": "#E5ECF6",
              "width": 0.5
             },
             "pattern": {
              "fillmode": "overlay",
              "size": 10,
              "solidity": 0.2
             }
            },
            "type": "barpolar"
           }
          ],
          "carpet": [
           {
            "aaxis": {
             "endlinecolor": "#2a3f5f",
             "gridcolor": "white",
             "linecolor": "white",
             "minorgridcolor": "white",
             "startlinecolor": "#2a3f5f"
            },
            "baxis": {
             "endlinecolor": "#2a3f5f",
             "gridcolor": "white",
             "linecolor": "white",
             "minorgridcolor": "white",
             "startlinecolor": "#2a3f5f"
            },
            "type": "carpet"
           }
          ],
          "choropleth": [
           {
            "colorbar": {
             "outlinewidth": 0,
             "ticks": ""
            },
            "type": "choropleth"
           }
          ],
          "contour": [
           {
            "colorbar": {
             "outlinewidth": 0,
             "ticks": ""
            },
            "colorscale": [
             [
              0,
              "#0d0887"
             ],
             [
              0.1111111111111111,
              "#46039f"
             ],
             [
              0.2222222222222222,
              "#7201a8"
             ],
             [
              0.3333333333333333,
              "#9c179e"
             ],
             [
              0.4444444444444444,
              "#bd3786"
             ],
             [
              0.5555555555555556,
              "#d8576b"
             ],
             [
              0.6666666666666666,
              "#ed7953"
             ],
             [
              0.7777777777777778,
              "#fb9f3a"
             ],
             [
              0.8888888888888888,
              "#fdca26"
             ],
             [
              1,
              "#f0f921"
             ]
            ],
            "type": "contour"
           }
          ],
          "contourcarpet": [
           {
            "colorbar": {
             "outlinewidth": 0,
             "ticks": ""
            },
            "type": "contourcarpet"
           }
          ],
          "heatmap": [
           {
            "colorbar": {
             "outlinewidth": 0,
             "ticks": ""
            },
            "colorscale": [
             [
              0,
              "#0d0887"
             ],
             [
              0.1111111111111111,
              "#46039f"
             ],
             [
              0.2222222222222222,
              "#7201a8"
             ],
             [
              0.3333333333333333,
              "#9c179e"
             ],
             [
              0.4444444444444444,
              "#bd3786"
             ],
             [
              0.5555555555555556,
              "#d8576b"
             ],
             [
              0.6666666666666666,
              "#ed7953"
             ],
             [
              0.7777777777777778,
              "#fb9f3a"
             ],
             [
              0.8888888888888888,
              "#fdca26"
             ],
             [
              1,
              "#f0f921"
             ]
            ],
            "type": "heatmap"
           }
          ],
          "heatmapgl": [
           {
            "colorbar": {
             "outlinewidth": 0,
             "ticks": ""
            },
            "colorscale": [
             [
              0,
              "#0d0887"
             ],
             [
              0.1111111111111111,
              "#46039f"
             ],
             [
              0.2222222222222222,
              "#7201a8"
             ],
             [
              0.3333333333333333,
              "#9c179e"
             ],
             [
              0.4444444444444444,
              "#bd3786"
             ],
             [
              0.5555555555555556,
              "#d8576b"
             ],
             [
              0.6666666666666666,
              "#ed7953"
             ],
             [
              0.7777777777777778,
              "#fb9f3a"
             ],
             [
              0.8888888888888888,
              "#fdca26"
             ],
             [
              1,
              "#f0f921"
             ]
            ],
            "type": "heatmapgl"
           }
          ],
          "histogram": [
           {
            "marker": {
             "pattern": {
              "fillmode": "overlay",
              "size": 10,
              "solidity": 0.2
             }
            },
            "type": "histogram"
           }
          ],
          "histogram2d": [
           {
            "colorbar": {
             "outlinewidth": 0,
             "ticks": ""
            },
            "colorscale": [
             [
              0,
              "#0d0887"
             ],
             [
              0.1111111111111111,
              "#46039f"
             ],
             [
              0.2222222222222222,
              "#7201a8"
             ],
             [
              0.3333333333333333,
              "#9c179e"
             ],
             [
              0.4444444444444444,
              "#bd3786"
             ],
             [
              0.5555555555555556,
              "#d8576b"
             ],
             [
              0.6666666666666666,
              "#ed7953"
             ],
             [
              0.7777777777777778,
              "#fb9f3a"
             ],
             [
              0.8888888888888888,
              "#fdca26"
             ],
             [
              1,
              "#f0f921"
             ]
            ],
            "type": "histogram2d"
           }
          ],
          "histogram2dcontour": [
           {
            "colorbar": {
             "outlinewidth": 0,
             "ticks": ""
            },
            "colorscale": [
             [
              0,
              "#0d0887"
             ],
             [
              0.1111111111111111,
              "#46039f"
             ],
             [
              0.2222222222222222,
              "#7201a8"
             ],
             [
              0.3333333333333333,
              "#9c179e"
             ],
             [
              0.4444444444444444,
              "#bd3786"
             ],
             [
              0.5555555555555556,
              "#d8576b"
             ],
             [
              0.6666666666666666,
              "#ed7953"
             ],
             [
              0.7777777777777778,
              "#fb9f3a"
             ],
             [
              0.8888888888888888,
              "#fdca26"
             ],
             [
              1,
              "#f0f921"
             ]
            ],
            "type": "histogram2dcontour"
           }
          ],
          "mesh3d": [
           {
            "colorbar": {
             "outlinewidth": 0,
             "ticks": ""
            },
            "type": "mesh3d"
           }
          ],
          "parcoords": [
           {
            "line": {
             "colorbar": {
              "outlinewidth": 0,
              "ticks": ""
             }
            },
            "type": "parcoords"
           }
          ],
          "pie": [
           {
            "automargin": true,
            "type": "pie"
           }
          ],
          "scatter": [
           {
            "fillpattern": {
             "fillmode": "overlay",
             "size": 10,
             "solidity": 0.2
            },
            "type": "scatter"
           }
          ],
          "scatter3d": [
           {
            "line": {
             "colorbar": {
              "outlinewidth": 0,
              "ticks": ""
             }
            },
            "marker": {
             "colorbar": {
              "outlinewidth": 0,
              "ticks": ""
             }
            },
            "type": "scatter3d"
           }
          ],
          "scattercarpet": [
           {
            "marker": {
             "colorbar": {
              "outlinewidth": 0,
              "ticks": ""
             }
            },
            "type": "scattercarpet"
           }
          ],
          "scattergeo": [
           {
            "marker": {
             "colorbar": {
              "outlinewidth": 0,
              "ticks": ""
             }
            },
            "type": "scattergeo"
           }
          ],
          "scattergl": [
           {
            "marker": {
             "colorbar": {
              "outlinewidth": 0,
              "ticks": ""
             }
            },
            "type": "scattergl"
           }
          ],
          "scattermapbox": [
           {
            "marker": {
             "colorbar": {
              "outlinewidth": 0,
              "ticks": ""
             }
            },
            "type": "scattermapbox"
           }
          ],
          "scatterpolar": [
           {
            "marker": {
             "colorbar": {
              "outlinewidth": 0,
              "ticks": ""
             }
            },
            "type": "scatterpolar"
           }
          ],
          "scatterpolargl": [
           {
            "marker": {
             "colorbar": {
              "outlinewidth": 0,
              "ticks": ""
             }
            },
            "type": "scatterpolargl"
           }
          ],
          "scatterternary": [
           {
            "marker": {
             "colorbar": {
              "outlinewidth": 0,
              "ticks": ""
             }
            },
            "type": "scatterternary"
           }
          ],
          "surface": [
           {
            "colorbar": {
             "outlinewidth": 0,
             "ticks": ""
            },
            "colorscale": [
             [
              0,
              "#0d0887"
             ],
             [
              0.1111111111111111,
              "#46039f"
             ],
             [
              0.2222222222222222,
              "#7201a8"
             ],
             [
              0.3333333333333333,
              "#9c179e"
             ],
             [
              0.4444444444444444,
              "#bd3786"
             ],
             [
              0.5555555555555556,
              "#d8576b"
             ],
             [
              0.6666666666666666,
              "#ed7953"
             ],
             [
              0.7777777777777778,
              "#fb9f3a"
             ],
             [
              0.8888888888888888,
              "#fdca26"
             ],
             [
              1,
              "#f0f921"
             ]
            ],
            "type": "surface"
           }
          ],
          "table": [
           {
            "cells": {
             "fill": {
              "color": "#EBF0F8"
             },
             "line": {
              "color": "white"
             }
            },
            "header": {
             "fill": {
              "color": "#C8D4E3"
             },
             "line": {
              "color": "white"
             }
            },
            "type": "table"
           }
          ]
         },
         "layout": {
          "annotationdefaults": {
           "arrowcolor": "#2a3f5f",
           "arrowhead": 0,
           "arrowwidth": 1
          },
          "autotypenumbers": "strict",
          "coloraxis": {
           "colorbar": {
            "outlinewidth": 0,
            "ticks": ""
           }
          },
          "colorscale": {
           "diverging": [
            [
             0,
             "#8e0152"
            ],
            [
             0.1,
             "#c51b7d"
            ],
            [
             0.2,
             "#de77ae"
            ],
            [
             0.3,
             "#f1b6da"
            ],
            [
             0.4,
             "#fde0ef"
            ],
            [
             0.5,
             "#f7f7f7"
            ],
            [
             0.6,
             "#e6f5d0"
            ],
            [
             0.7,
             "#b8e186"
            ],
            [
             0.8,
             "#7fbc41"
            ],
            [
             0.9,
             "#4d9221"
            ],
            [
             1,
             "#276419"
            ]
           ],
           "sequential": [
            [
             0,
             "#0d0887"
            ],
            [
             0.1111111111111111,
             "#46039f"
            ],
            [
             0.2222222222222222,
             "#7201a8"
            ],
            [
             0.3333333333333333,
             "#9c179e"
            ],
            [
             0.4444444444444444,
             "#bd3786"
            ],
            [
             0.5555555555555556,
             "#d8576b"
            ],
            [
             0.6666666666666666,
             "#ed7953"
            ],
            [
             0.7777777777777778,
             "#fb9f3a"
            ],
            [
             0.8888888888888888,
             "#fdca26"
            ],
            [
             1,
             "#f0f921"
            ]
           ],
           "sequentialminus": [
            [
             0,
             "#0d0887"
            ],
            [
             0.1111111111111111,
             "#46039f"
            ],
            [
             0.2222222222222222,
             "#7201a8"
            ],
            [
             0.3333333333333333,
             "#9c179e"
            ],
            [
             0.4444444444444444,
             "#bd3786"
            ],
            [
             0.5555555555555556,
             "#d8576b"
            ],
            [
             0.6666666666666666,
             "#ed7953"
            ],
            [
             0.7777777777777778,
             "#fb9f3a"
            ],
            [
             0.8888888888888888,
             "#fdca26"
            ],
            [
             1,
             "#f0f921"
            ]
           ]
          },
          "colorway": [
           "#636efa",
           "#EF553B",
           "#00cc96",
           "#ab63fa",
           "#FFA15A",
           "#19d3f3",
           "#FF6692",
           "#B6E880",
           "#FF97FF",
           "#FECB52"
          ],
          "font": {
           "color": "#2a3f5f"
          },
          "geo": {
           "bgcolor": "white",
           "lakecolor": "white",
           "landcolor": "#E5ECF6",
           "showlakes": true,
           "showland": true,
           "subunitcolor": "white"
          },
          "hoverlabel": {
           "align": "left"
          },
          "hovermode": "closest",
          "mapbox": {
           "style": "light"
          },
          "paper_bgcolor": "white",
          "plot_bgcolor": "#E5ECF6",
          "polar": {
           "angularaxis": {
            "gridcolor": "white",
            "linecolor": "white",
            "ticks": ""
           },
           "bgcolor": "#E5ECF6",
           "radialaxis": {
            "gridcolor": "white",
            "linecolor": "white",
            "ticks": ""
           }
          },
          "scene": {
           "xaxis": {
            "backgroundcolor": "#E5ECF6",
            "gridcolor": "white",
            "gridwidth": 2,
            "linecolor": "white",
            "showbackground": true,
            "ticks": "",
            "zerolinecolor": "white"
           },
           "yaxis": {
            "backgroundcolor": "#E5ECF6",
            "gridcolor": "white",
            "gridwidth": 2,
            "linecolor": "white",
            "showbackground": true,
            "ticks": "",
            "zerolinecolor": "white"
           },
           "zaxis": {
            "backgroundcolor": "#E5ECF6",
            "gridcolor": "white",
            "gridwidth": 2,
            "linecolor": "white",
            "showbackground": true,
            "ticks": "",
            "zerolinecolor": "white"
           }
          },
          "shapedefaults": {
           "line": {
            "color": "#2a3f5f"
           }
          },
          "ternary": {
           "aaxis": {
            "gridcolor": "white",
            "linecolor": "white",
            "ticks": ""
           },
           "baxis": {
            "gridcolor": "white",
            "linecolor": "white",
            "ticks": ""
           },
           "bgcolor": "#E5ECF6",
           "caxis": {
            "gridcolor": "white",
            "linecolor": "white",
            "ticks": ""
           }
          },
          "title": {
           "x": 0.05
          },
          "xaxis": {
           "automargin": true,
           "gridcolor": "white",
           "linecolor": "white",
           "ticks": "",
           "title": {
            "standoff": 15
           },
           "zerolinecolor": "white",
           "zerolinewidth": 2
          },
          "yaxis": {
           "automargin": true,
           "gridcolor": "white",
           "linecolor": "white",
           "ticks": "",
           "title": {
            "standoff": 15
           },
           "zerolinecolor": "white",
           "zerolinewidth": 2
          }
         }
        },
        "title": {
         "text": "График количества взаимодействий пользователей по неделям"
        }
       }
      },
      "text/html": [
       "<div>                            <div id=\"0b993c5a-b622-4ac1-9548-78a073196e38\" class=\"plotly-graph-div\" style=\"height:525px; width:100%;\"></div>            <script type=\"text/javascript\">                require([\"plotly\"], function(Plotly) {                    window.PLOTLYENV=window.PLOTLYENV || {};                                    if (document.getElementById(\"0b993c5a-b622-4ac1-9548-78a073196e38\")) {                    Plotly.newPlot(                        \"0b993c5a-b622-4ac1-9548-78a073196e38\",                        [{\"text\":[\"15162\",\"17301\",\"19546\",\"18443\"],\"textposition\":\"auto\",\"x\":[\"2019-10-07T00:00:00\",\"2019-10-14T00:00:00\",\"2019-10-21T00:00:00\",\"2019-10-28T00:00:00\"],\"y\":[15162,17301,19546,18443],\"type\":\"bar\"}],                        {\"template\":{\"data\":{\"histogram2dcontour\":[{\"type\":\"histogram2dcontour\",\"colorbar\":{\"outlinewidth\":0,\"ticks\":\"\"},\"colorscale\":[[0.0,\"#0d0887\"],[0.1111111111111111,\"#46039f\"],[0.2222222222222222,\"#7201a8\"],[0.3333333333333333,\"#9c179e\"],[0.4444444444444444,\"#bd3786\"],[0.5555555555555556,\"#d8576b\"],[0.6666666666666666,\"#ed7953\"],[0.7777777777777778,\"#fb9f3a\"],[0.8888888888888888,\"#fdca26\"],[1.0,\"#f0f921\"]]}],\"choropleth\":[{\"type\":\"choropleth\",\"colorbar\":{\"outlinewidth\":0,\"ticks\":\"\"}}],\"histogram2d\":[{\"type\":\"histogram2d\",\"colorbar\":{\"outlinewidth\":0,\"ticks\":\"\"},\"colorscale\":[[0.0,\"#0d0887\"],[0.1111111111111111,\"#46039f\"],[0.2222222222222222,\"#7201a8\"],[0.3333333333333333,\"#9c179e\"],[0.4444444444444444,\"#bd3786\"],[0.5555555555555556,\"#d8576b\"],[0.6666666666666666,\"#ed7953\"],[0.7777777777777778,\"#fb9f3a\"],[0.8888888888888888,\"#fdca26\"],[1.0,\"#f0f921\"]]}],\"heatmap\":[{\"type\":\"heatmap\",\"colorbar\":{\"outlinewidth\":0,\"ticks\":\"\"},\"colorscale\":[[0.0,\"#0d0887\"],[0.1111111111111111,\"#46039f\"],[0.2222222222222222,\"#7201a8\"],[0.3333333333333333,\"#9c179e\"],[0.4444444444444444,\"#bd3786\"],[0.5555555555555556,\"#d8576b\"],[0.6666666666666666,\"#ed7953\"],[0.7777777777777778,\"#fb9f3a\"],[0.8888888888888888,\"#fdca26\"],[1.0,\"#f0f921\"]]}],\"heatmapgl\":[{\"type\":\"heatmapgl\",\"colorbar\":{\"outlinewidth\":0,\"ticks\":\"\"},\"colorscale\":[[0.0,\"#0d0887\"],[0.1111111111111111,\"#46039f\"],[0.2222222222222222,\"#7201a8\"],[0.3333333333333333,\"#9c179e\"],[0.4444444444444444,\"#bd3786\"],[0.5555555555555556,\"#d8576b\"],[0.6666666666666666,\"#ed7953\"],[0.7777777777777778,\"#fb9f3a\"],[0.8888888888888888,\"#fdca26\"],[1.0,\"#f0f921\"]]}],\"contourcarpet\":[{\"type\":\"contourcarpet\",\"colorbar\":{\"outlinewidth\":0,\"ticks\":\"\"}}],\"contour\":[{\"type\":\"contour\",\"colorbar\":{\"outlinewidth\":0,\"ticks\":\"\"},\"colorscale\":[[0.0,\"#0d0887\"],[0.1111111111111111,\"#46039f\"],[0.2222222222222222,\"#7201a8\"],[0.3333333333333333,\"#9c179e\"],[0.4444444444444444,\"#bd3786\"],[0.5555555555555556,\"#d8576b\"],[0.6666666666666666,\"#ed7953\"],[0.7777777777777778,\"#fb9f3a\"],[0.8888888888888888,\"#fdca26\"],[1.0,\"#f0f921\"]]}],\"surface\":[{\"type\":\"surface\",\"colorbar\":{\"outlinewidth\":0,\"ticks\":\"\"},\"colorscale\":[[0.0,\"#0d0887\"],[0.1111111111111111,\"#46039f\"],[0.2222222222222222,\"#7201a8\"],[0.3333333333333333,\"#9c179e\"],[0.4444444444444444,\"#bd3786\"],[0.5555555555555556,\"#d8576b\"],[0.6666666666666666,\"#ed7953\"],[0.7777777777777778,\"#fb9f3a\"],[0.8888888888888888,\"#fdca26\"],[1.0,\"#f0f921\"]]}],\"mesh3d\":[{\"type\":\"mesh3d\",\"colorbar\":{\"outlinewidth\":0,\"ticks\":\"\"}}],\"scatter\":[{\"fillpattern\":{\"fillmode\":\"overlay\",\"size\":10,\"solidity\":0.2},\"type\":\"scatter\"}],\"parcoords\":[{\"type\":\"parcoords\",\"line\":{\"colorbar\":{\"outlinewidth\":0,\"ticks\":\"\"}}}],\"scatterpolargl\":[{\"type\":\"scatterpolargl\",\"marker\":{\"colorbar\":{\"outlinewidth\":0,\"ticks\":\"\"}}}],\"bar\":[{\"error_x\":{\"color\":\"#2a3f5f\"},\"error_y\":{\"color\":\"#2a3f5f\"},\"marker\":{\"line\":{\"color\":\"#E5ECF6\",\"width\":0.5},\"pattern\":{\"fillmode\":\"overlay\",\"size\":10,\"solidity\":0.2}},\"type\":\"bar\"}],\"scattergeo\":[{\"type\":\"scattergeo\",\"marker\":{\"colorbar\":{\"outlinewidth\":0,\"ticks\":\"\"}}}],\"scatterpolar\":[{\"type\":\"scatterpolar\",\"marker\":{\"colorbar\":{\"outlinewidth\":0,\"ticks\":\"\"}}}],\"histogram\":[{\"marker\":{\"pattern\":{\"fillmode\":\"overlay\",\"size\":10,\"solidity\":0.2}},\"type\":\"histogram\"}],\"scattergl\":[{\"type\":\"scattergl\",\"marker\":{\"colorbar\":{\"outlinewidth\":0,\"ticks\":\"\"}}}],\"scatter3d\":[{\"type\":\"scatter3d\",\"line\":{\"colorbar\":{\"outlinewidth\":0,\"ticks\":\"\"}},\"marker\":{\"colorbar\":{\"outlinewidth\":0,\"ticks\":\"\"}}}],\"scattermapbox\":[{\"type\":\"scattermapbox\",\"marker\":{\"colorbar\":{\"outlinewidth\":0,\"ticks\":\"\"}}}],\"scatterternary\":[{\"type\":\"scatterternary\",\"marker\":{\"colorbar\":{\"outlinewidth\":0,\"ticks\":\"\"}}}],\"scattercarpet\":[{\"type\":\"scattercarpet\",\"marker\":{\"colorbar\":{\"outlinewidth\":0,\"ticks\":\"\"}}}],\"carpet\":[{\"aaxis\":{\"endlinecolor\":\"#2a3f5f\",\"gridcolor\":\"white\",\"linecolor\":\"white\",\"minorgridcolor\":\"white\",\"startlinecolor\":\"#2a3f5f\"},\"baxis\":{\"endlinecolor\":\"#2a3f5f\",\"gridcolor\":\"white\",\"linecolor\":\"white\",\"minorgridcolor\":\"white\",\"startlinecolor\":\"#2a3f5f\"},\"type\":\"carpet\"}],\"table\":[{\"cells\":{\"fill\":{\"color\":\"#EBF0F8\"},\"line\":{\"color\":\"white\"}},\"header\":{\"fill\":{\"color\":\"#C8D4E3\"},\"line\":{\"color\":\"white\"}},\"type\":\"table\"}],\"barpolar\":[{\"marker\":{\"line\":{\"color\":\"#E5ECF6\",\"width\":0.5},\"pattern\":{\"fillmode\":\"overlay\",\"size\":10,\"solidity\":0.2}},\"type\":\"barpolar\"}],\"pie\":[{\"automargin\":true,\"type\":\"pie\"}]},\"layout\":{\"autotypenumbers\":\"strict\",\"colorway\":[\"#636efa\",\"#EF553B\",\"#00cc96\",\"#ab63fa\",\"#FFA15A\",\"#19d3f3\",\"#FF6692\",\"#B6E880\",\"#FF97FF\",\"#FECB52\"],\"font\":{\"color\":\"#2a3f5f\"},\"hovermode\":\"closest\",\"hoverlabel\":{\"align\":\"left\"},\"paper_bgcolor\":\"white\",\"plot_bgcolor\":\"#E5ECF6\",\"polar\":{\"bgcolor\":\"#E5ECF6\",\"angularaxis\":{\"gridcolor\":\"white\",\"linecolor\":\"white\",\"ticks\":\"\"},\"radialaxis\":{\"gridcolor\":\"white\",\"linecolor\":\"white\",\"ticks\":\"\"}},\"ternary\":{\"bgcolor\":\"#E5ECF6\",\"aaxis\":{\"gridcolor\":\"white\",\"linecolor\":\"white\",\"ticks\":\"\"},\"baxis\":{\"gridcolor\":\"white\",\"linecolor\":\"white\",\"ticks\":\"\"},\"caxis\":{\"gridcolor\":\"white\",\"linecolor\":\"white\",\"ticks\":\"\"}},\"coloraxis\":{\"colorbar\":{\"outlinewidth\":0,\"ticks\":\"\"}},\"colorscale\":{\"sequential\":[[0.0,\"#0d0887\"],[0.1111111111111111,\"#46039f\"],[0.2222222222222222,\"#7201a8\"],[0.3333333333333333,\"#9c179e\"],[0.4444444444444444,\"#bd3786\"],[0.5555555555555556,\"#d8576b\"],[0.6666666666666666,\"#ed7953\"],[0.7777777777777778,\"#fb9f3a\"],[0.8888888888888888,\"#fdca26\"],[1.0,\"#f0f921\"]],\"sequentialminus\":[[0.0,\"#0d0887\"],[0.1111111111111111,\"#46039f\"],[0.2222222222222222,\"#7201a8\"],[0.3333333333333333,\"#9c179e\"],[0.4444444444444444,\"#bd3786\"],[0.5555555555555556,\"#d8576b\"],[0.6666666666666666,\"#ed7953\"],[0.7777777777777778,\"#fb9f3a\"],[0.8888888888888888,\"#fdca26\"],[1.0,\"#f0f921\"]],\"diverging\":[[0,\"#8e0152\"],[0.1,\"#c51b7d\"],[0.2,\"#de77ae\"],[0.3,\"#f1b6da\"],[0.4,\"#fde0ef\"],[0.5,\"#f7f7f7\"],[0.6,\"#e6f5d0\"],[0.7,\"#b8e186\"],[0.8,\"#7fbc41\"],[0.9,\"#4d9221\"],[1,\"#276419\"]]},\"xaxis\":{\"gridcolor\":\"white\",\"linecolor\":\"white\",\"ticks\":\"\",\"title\":{\"standoff\":15},\"zerolinecolor\":\"white\",\"automargin\":true,\"zerolinewidth\":2},\"yaxis\":{\"gridcolor\":\"white\",\"linecolor\":\"white\",\"ticks\":\"\",\"title\":{\"standoff\":15},\"zerolinecolor\":\"white\",\"automargin\":true,\"zerolinewidth\":2},\"scene\":{\"xaxis\":{\"backgroundcolor\":\"#E5ECF6\",\"gridcolor\":\"white\",\"linecolor\":\"white\",\"showbackground\":true,\"ticks\":\"\",\"zerolinecolor\":\"white\",\"gridwidth\":2},\"yaxis\":{\"backgroundcolor\":\"#E5ECF6\",\"gridcolor\":\"white\",\"linecolor\":\"white\",\"showbackground\":true,\"ticks\":\"\",\"zerolinecolor\":\"white\",\"gridwidth\":2},\"zaxis\":{\"backgroundcolor\":\"#E5ECF6\",\"gridcolor\":\"white\",\"linecolor\":\"white\",\"showbackground\":true,\"ticks\":\"\",\"zerolinecolor\":\"white\",\"gridwidth\":2}},\"shapedefaults\":{\"line\":{\"color\":\"#2a3f5f\"}},\"annotationdefaults\":{\"arrowcolor\":\"#2a3f5f\",\"arrowhead\":0,\"arrowwidth\":1},\"geo\":{\"bgcolor\":\"white\",\"landcolor\":\"#E5ECF6\",\"subunitcolor\":\"white\",\"showland\":true,\"showlakes\":true,\"lakecolor\":\"white\"},\"title\":{\"x\":0.05},\"mapbox\":{\"style\":\"light\"}}},\"title\":{\"text\":\"\\u0413\\u0440\\u0430\\u0444\\u0438\\u043a \\u043a\\u043e\\u043b\\u0438\\u0447\\u0435\\u0441\\u0442\\u0432\\u0430 \\u0432\\u0437\\u0430\\u0438\\u043c\\u043e\\u0434\\u0435\\u0439\\u0441\\u0442\\u0432\\u0438\\u0439 \\u043f\\u043e\\u043b\\u044c\\u0437\\u043e\\u0432\\u0430\\u0442\\u0435\\u043b\\u0435\\u0439 \\u043f\\u043e \\u043d\\u0435\\u0434\\u0435\\u043b\\u044f\\u043c\"}},                        {\"responsive\": true}                    ).then(function(){\n",
       "                            \n",
       "var gd = document.getElementById('0b993c5a-b622-4ac1-9548-78a073196e38');\n",
       "var x = new MutationObserver(function (mutations, observer) {{\n",
       "        var display = window.getComputedStyle(gd).display;\n",
       "        if (!display || display === 'none') {{\n",
       "            console.log([gd, 'removed!']);\n",
       "            Plotly.purge(gd);\n",
       "            observer.disconnect();\n",
       "        }}\n",
       "}});\n",
       "\n",
       "// Listen for the removal of the full notebook cells\n",
       "var notebookContainer = gd.closest('#notebook-container');\n",
       "if (notebookContainer) {{\n",
       "    x.observe(notebookContainer, {childList: true});\n",
       "}}\n",
       "\n",
       "// Listen for the clearing of the current output cell\n",
       "var outputEl = gd.closest('.output');\n",
       "if (outputEl) {{\n",
       "    x.observe(outputEl, {childList: true});\n",
       "}}\n",
       "\n",
       "                        })                };                });            </script>        </div>"
      ]
     },
     "metadata": {},
     "output_type": "display_data"
    }
   ],
   "source": [
    "fig = go.Figure(data=[\n",
    "    go.Bar(x=count_users_by_week['activity_week'].to_list(),\n",
    "           y=count_users_by_week['user_id'].to_list(),\n",
    "           text=count_users_by_week['user_id'].to_list(),\n",
    "           textposition='auto')])\n",
    "fig.update_layout(title='График количества взаимодействий пользователей по неделям')\n",
    "fig.show()"
   ]
  },
  {
   "cell_type": "markdown",
   "id": "ec933d48",
   "metadata": {},
   "source": [
    "**Вывод:**  \n",
    "* Воронка по дням показывает, что в целом динамика взаимодействий по дням приимущественно на одном уровне, есть не значительные спады с 9-13 октября, 19-20 числа также виден небольшой спад. Резкое падение активности 2 ноября, но давайте не будем забывать, что могли сказаться приближающиеся ноябрьские праздники.  \n",
    "* По графику количества взаимодействий по неделям видно, что интерес пользователей растет к третьей неделе, и начинает падать с 25 октября, интересно было бы посмотреть на будущие данные, чтобы понять динамику.\n"
   ]
  },
  {
   "cell_type": "markdown",
   "id": "923ea3a6",
   "metadata": {},
   "source": [
    "# Проверка статистических гипотез\n"
   ]
  },
  {
   "cell_type": "markdown",
   "id": "46a3a64d",
   "metadata": {},
   "source": [
    "3.1 Одни пользователи совершают действия tips_show и tips_click, другие — только tips_show.\n",
    "Проверить гипотезу: конверсия в contacts_show различается у этих двух групп.\n"
   ]
  },
  {
   "cell_type": "code",
   "execution_count": 147,
   "id": "e2b30f76",
   "metadata": {},
   "outputs": [
    {
     "name": "stdout",
     "output_type": "stream",
     "text": [
      "Кол-во пользователей все \"tips_show\" = 2796\n",
      "Кол-во пользователей \"tips_show\"+\"tips_click\" = 297\n",
      "Кол-во пользователей только \"tips_show\" = 2499\n"
     ]
    }
   ],
   "source": [
    "tips_show_users = df_mobile.query('event_name ==\"tips_show\"')['user_id'].unique().tolist()\n",
    "print('Кол-во пользователей все \"tips_show\" =', len(tips_show_users))\n",
    "\n",
    "tips_show_click_users = df_mobile.query('event_name ==\"tips_click\" and user_id==@tips_show_users')['user_id'].unique().tolist()\n",
    "print('Кол-во пользователей \"tips_show\"+\"tips_click\" =', len(tips_show_click_users))\n",
    "\n",
    "only_tips_show_users = list(set(tips_show_users) - set(tips_show_click_users))\n",
    "print('Кол-во пользователей только \"tips_show\" =', len(only_tips_show_users))"
   ]
  },
  {
   "cell_type": "code",
   "execution_count": 148,
   "id": "5d9cc4c5",
   "metadata": {},
   "outputs": [
    {
     "data": {
      "text/html": [
       "<div>\n",
       "<style scoped>\n",
       "    .dataframe tbody tr th:only-of-type {\n",
       "        vertical-align: middle;\n",
       "    }\n",
       "\n",
       "    .dataframe tbody tr th {\n",
       "        vertical-align: top;\n",
       "    }\n",
       "\n",
       "    .dataframe thead th {\n",
       "        text-align: right;\n",
       "    }\n",
       "</style>\n",
       "<table border=\"1\" class=\"dataframe\">\n",
       "  <thead>\n",
       "    <tr style=\"text-align: right;\">\n",
       "      <th></th>\n",
       "      <th>user_id</th>\n",
       "      <th>event_name</th>\n",
       "    </tr>\n",
       "  </thead>\n",
       "  <tbody>\n",
       "    <tr>\n",
       "      <th>52896</th>\n",
       "      <td>fbec9791-f909-4b30-b28c-b014e3aae66a</td>\n",
       "      <td>tips_show</td>\n",
       "    </tr>\n",
       "    <tr>\n",
       "      <th>55681</th>\n",
       "      <td>2ce6c413-30d2-4d26-8b83-0bd21bc66546</td>\n",
       "      <td>tips_show</td>\n",
       "    </tr>\n",
       "    <tr>\n",
       "      <th>26882</th>\n",
       "      <td>136b7b37-2bd4-4718-b14a-e38bc3d6d112</td>\n",
       "      <td>contacts_show</td>\n",
       "    </tr>\n",
       "    <tr>\n",
       "      <th>36266</th>\n",
       "      <td>c02d8368-0646-41ae-ad6a-e8de2f857f95</td>\n",
       "      <td>map</td>\n",
       "    </tr>\n",
       "  </tbody>\n",
       "</table>\n",
       "</div>"
      ],
      "text/plain": [
       "                                    user_id     event_name\n",
       "52896  fbec9791-f909-4b30-b28c-b014e3aae66a  tips_show    \n",
       "55681  2ce6c413-30d2-4d26-8b83-0bd21bc66546  tips_show    \n",
       "26882  136b7b37-2bd4-4718-b14a-e38bc3d6d112  contacts_show\n",
       "36266  c02d8368-0646-41ae-ad6a-e8de2f857f95  map          "
      ]
     },
     "metadata": {},
     "output_type": "display_data"
    },
    {
     "name": "stdout",
     "output_type": "stream",
     "text": [
      "Кол-во всего событий у tips_show+click пользователей = 11491\n",
      "Кол-во ЦС у tips_show+click пользователей = 742\n",
      "Конверсия в ЦС tips_show+click пользователей = 6.46%\n"
     ]
    }
   ],
   "source": [
    "show_click_events = df_mobile.query('user_id==@tips_show_click_users')[['user_id', 'event_name']]\n",
    "display(show_click_events.sample(4))\n",
    "print('Кол-во всего событий у tips_show+click пользователей =', len(show_click_events))\n",
    "print('Кол-во ЦС у tips_show+click пользователей =', show_click_events[show_click_events['event_name']==\"contacts_show\"]['event_name'].count())\n",
    "show_click_convertion = 742 / 11491\n",
    "print(f'Конверсия в ЦС tips_show+click пользователей = {round(show_click_convertion*100, 2)}%')\n"
   ]
  },
  {
   "cell_type": "code",
   "execution_count": 149,
   "id": "5f9ca34a",
   "metadata": {},
   "outputs": [
    {
     "data": {
      "text/html": [
       "<div>\n",
       "<style scoped>\n",
       "    .dataframe tbody tr th:only-of-type {\n",
       "        vertical-align: middle;\n",
       "    }\n",
       "\n",
       "    .dataframe tbody tr th {\n",
       "        vertical-align: top;\n",
       "    }\n",
       "\n",
       "    .dataframe thead th {\n",
       "        text-align: right;\n",
       "    }\n",
       "</style>\n",
       "<table border=\"1\" class=\"dataframe\">\n",
       "  <thead>\n",
       "    <tr style=\"text-align: right;\">\n",
       "      <th></th>\n",
       "      <th>user_id</th>\n",
       "      <th>event_name</th>\n",
       "    </tr>\n",
       "  </thead>\n",
       "  <tbody>\n",
       "    <tr>\n",
       "      <th>9871</th>\n",
       "      <td>e3af5a6f-6029-43ff-a393-5cc96831f999</td>\n",
       "      <td>tips_show</td>\n",
       "    </tr>\n",
       "    <tr>\n",
       "      <th>9933</th>\n",
       "      <td>9a29c55a-53a3-4945-b18d-f596bda80826</td>\n",
       "      <td>tips_show</td>\n",
       "    </tr>\n",
       "    <tr>\n",
       "      <th>16815</th>\n",
       "      <td>e4cbc118-5c2a-47fd-b97e-a9d1f3a544b6</td>\n",
       "      <td>tips_show</td>\n",
       "    </tr>\n",
       "    <tr>\n",
       "      <th>70206</th>\n",
       "      <td>a6bea8cc-9dfc-447b-ab9f-1e162ad2cb74</td>\n",
       "      <td>tips_show</td>\n",
       "    </tr>\n",
       "  </tbody>\n",
       "</table>\n",
       "</div>"
      ],
      "text/plain": [
       "                                    user_id event_name\n",
       "9871   e3af5a6f-6029-43ff-a393-5cc96831f999  tips_show\n",
       "9933   9a29c55a-53a3-4945-b18d-f596bda80826  tips_show\n",
       "16815  e4cbc118-5c2a-47fd-b97e-a9d1f3a544b6  tips_show\n",
       "70206  a6bea8cc-9dfc-447b-ab9f-1e162ad2cb74  tips_show"
      ]
     },
     "metadata": {},
     "output_type": "display_data"
    },
    {
     "name": "stdout",
     "output_type": "stream",
     "text": [
      "Кол-во всего событий у только tips_show пользователей = 42189\n",
      "Кол-во ЦС у только tips_show пользователей = 1837\n",
      "Конверсия в ЦС у только tips_show пользователей = 4.35%\n"
     ]
    }
   ],
   "source": [
    "only_show_events = df_mobile.query('user_id==@only_tips_show_users')[['user_id', 'event_name']]\n",
    "display(only_show_events.sample(4))\n",
    "print('Кол-во всего событий у только tips_show пользователей =', len(only_show_events))\n",
    "print('Кол-во ЦС у только tips_show пользователей =', only_show_events[only_show_events['event_name']==\"contacts_show\"]['event_name'].count())\n",
    "only_show_convertion = 1837 / 42189\n",
    "print(f'Конверсия в ЦС у только tips_show пользователей = {round(only_show_convertion*100, 2)}%')\n"
   ]
  },
  {
   "cell_type": "markdown",
   "id": "bbeffdca",
   "metadata": {},
   "source": [
    "Для проверки гипотезы нам подходит метод - проверка гипотезы о равенстве долей  \n",
    "  \n",
    "Соберем данные для теста:  \n",
    "  \n",
    "Кол-во всего событий у tips_show+click пользователей = 11491  \n",
    "Кол-во ЦС у tips_show+click пользователей = 742  \n",
    "\n",
    "Кол-во всего событий у только tips_show пользователей = 42189  \n",
    "Кол-во ЦС у только tips_show пользователей = 1837  \n",
    "  \n",
    "Теперь подставим в тест и сравним доли клиентов, совершивших ЦС (Нулевая гипотеза - между долями значимая разница отсутствует. Алтернативная - разница есть; критический уровень статистической значимости возьмем стандартный равный 5%, так как высокая точность нам не нужна)  "
   ]
  },
  {
   "cell_type": "code",
   "execution_count": 150,
   "id": "41d01cc6",
   "metadata": {},
   "outputs": [
    {
     "name": "stdout",
     "output_type": "stream",
     "text": [
      "p-значение:  0.0\n",
      "Отвергаем нулевую гипотезу: между долями есть значимая разница\n"
     ]
    }
   ],
   "source": [
    "def stat_test(successes, trials, alpha):\n",
    "\n",
    "    alpha = alpha\n",
    "    successes = successes\n",
    "    trials = trials\n",
    "\n",
    "    p1 = successes[0]/trials[0]\n",
    "\n",
    "    p2 = successes[1]/trials[1]\n",
    "\n",
    "    p_combined = (successes[0] + successes[1]) / (trials[0] + trials[1])\n",
    "\n",
    "    difference = p1 - p2\n",
    "\n",
    "    z_value = difference / mth.sqrt(p_combined * (1 - p_combined) * (1/trials[0] + 1/trials[1]))\n",
    "\n",
    "    distr = stats.norm(0, 1) \n",
    "\n",
    "    z_value = difference / mth.sqrt(\n",
    "        p_combined * (1 - p_combined) * (1 / trials[0] + 1 / trials[1])\n",
    "    )\n",
    "\n",
    "    distr = stats.norm(0, 1)\n",
    "\n",
    "    p_value = (1 - distr.cdf(abs(z_value))) * 2\n",
    "\n",
    "    print('p-значение: ', p_value)\n",
    "\n",
    "    if p_value < alpha:\n",
    "        print('Отвергаем нулевую гипотезу: между долями есть значимая разница')\n",
    "    else:\n",
    "        print(\n",
    "            'Не получилось отвергнуть нулевую гипотезу, нет оснований считать доли разными'\n",
    "        )\n",
    "\n",
    "    \n",
    "alpha = .05\n",
    "successes = [742, 1837]\n",
    "trials = [11491, 42189]\n",
    "\n",
    "stat_test(successes, trials, alpha)   "
   ]
  },
  {
   "cell_type": "markdown",
   "id": "b2866e26",
   "metadata": {},
   "source": [
    "**Вывод:**  \n",
    "Конверсия в просмотры контактов у двух групп пользователей (в первой совершают действия tips_show и tips_click, во второй — только tips_show) - различается! Клик по рекомендациям чаще приводит к просмотру контактов!"
   ]
  },
  {
   "cell_type": "markdown",
   "id": "b8d8dc2e",
   "metadata": {},
   "source": [
    "3.2 Проверьте гипотезу: конверсия в contacts_show между теми пользователями, которые совершили установку приложения, исходя из источника(yandex или google) различается.\n",
    "\n"
   ]
  },
  {
   "cell_type": "code",
   "execution_count": 151,
   "id": "17985514",
   "metadata": {},
   "outputs": [],
   "source": [
    "yandex = df_mobile.query('source ==\"yandex\" and event_name == \"contacts_show\"')\n",
    "google = df_mobile.query('source ==\"google\" and event_name == \"contacts_show\"')"
   ]
  },
  {
   "cell_type": "code",
   "execution_count": 152,
   "id": "0d3dc19a",
   "metadata": {},
   "outputs": [
    {
     "data": {
      "text/plain": [
       "source\n",
       "google    1129\n",
       "yandex    1934\n",
       "Name: user_id, dtype: int64"
      ]
     },
     "execution_count": 152,
     "metadata": {},
     "output_type": "execute_result"
    }
   ],
   "source": [
    "users_count_by_source = df_mobile.query('source !=\"other\"').groupby('source')['user_id'].nunique()\n",
    "users_count_by_source"
   ]
  },
  {
   "cell_type": "code",
   "execution_count": 153,
   "id": "f861bec5",
   "metadata": {},
   "outputs": [
    {
     "data": {
      "text/html": [
       "<div>\n",
       "<style scoped>\n",
       "    .dataframe tbody tr th:only-of-type {\n",
       "        vertical-align: middle;\n",
       "    }\n",
       "\n",
       "    .dataframe tbody tr th {\n",
       "        vertical-align: top;\n",
       "    }\n",
       "\n",
       "    .dataframe thead th {\n",
       "        text-align: right;\n",
       "    }\n",
       "</style>\n",
       "<table border=\"1\" class=\"dataframe\">\n",
       "  <thead>\n",
       "    <tr style=\"text-align: right;\">\n",
       "      <th></th>\n",
       "      <th>contacts_show</th>\n",
       "      <th>user_count</th>\n",
       "    </tr>\n",
       "    <tr>\n",
       "      <th>source</th>\n",
       "      <th></th>\n",
       "      <th></th>\n",
       "    </tr>\n",
       "  </thead>\n",
       "  <tbody>\n",
       "    <tr>\n",
       "      <th>google</th>\n",
       "      <td>268</td>\n",
       "      <td>1129</td>\n",
       "    </tr>\n",
       "    <tr>\n",
       "      <th>yandex</th>\n",
       "      <td>467</td>\n",
       "      <td>1934</td>\n",
       "    </tr>\n",
       "  </tbody>\n",
       "</table>\n",
       "</div>"
      ],
      "text/plain": [
       "        contacts_show  user_count\n",
       "source                           \n",
       "google  268            1129      \n",
       "yandex  467            1934      "
      ]
     },
     "execution_count": 153,
     "metadata": {},
     "output_type": "execute_result"
    }
   ],
   "source": [
    "users_by_events = df_mobile.query('event_name == \"contacts_show\" and source !=\"other\"').pivot_table(index='source',columns='event_name', values='user_id', aggfunc='nunique').reset_index()\n",
    "users_by_events['user_count'] = users_by_events['source'].apply(lambda x: users_count_by_source.loc[x])\n",
    "users_by_events = users_by_events.set_index('source')\n",
    "users_by_events.columns = ['contacts_show', 'user_count']\n",
    "users_by_events\n"
   ]
  },
  {
   "cell_type": "code",
   "execution_count": 154,
   "id": "f97a7d17",
   "metadata": {},
   "outputs": [
    {
     "name": "stdout",
     "output_type": "stream",
     "text": [
      "Конверсия в ЦС у источника google пользователей = 23.74%\n",
      "Конверсия в ЦС у источника yandex пользователей = 23.63%\n"
     ]
    }
   ],
   "source": [
    "users_by_events = users_by_events.reset_index()\n",
    "users_by_events['google'] = (users_by_events['contacts_show'] / users_by_events['user_count'] * 100).round(1)\n",
    "users_by_events['yandex'] = (users_by_events['contacts_show'] / users_by_events['user_count'] * 100).round(1)\n",
    "users_by_events\n",
    "google_convertion = 268 / 1129\n",
    "yandex_convertion = 457 / 1934\n",
    "print(f'Конверсия в ЦС у источника google пользователей = {round(google_convertion*100, 2)}%')\n",
    "print(f'Конверсия в ЦС у источника yandex пользователей = {round(yandex_convertion*100, 2)}%')\n"
   ]
  },
  {
   "cell_type": "code",
   "execution_count": 155,
   "id": "93fa1512",
   "metadata": {
    "scrolled": true
   },
   "outputs": [
    {
     "name": "stdout",
     "output_type": "stream",
     "text": [
      "p-значение:  0.7981677197762098\n",
      "Не получилось отвергнуть нулевую гипотезу, нет оснований считать доли разными\n"
     ]
    }
   ],
   "source": [
    "alpha = .05\n",
    "successes = [268, 467]\n",
    "trials = [1129, 1934]\n",
    "\n",
    "stat_test(successes, trials, alpha)   "
   ]
  },
  {
   "cell_type": "markdown",
   "id": "4fd9f131",
   "metadata": {},
   "source": [
    "**Вывод:**  \n",
    "Статистической разницы конверсии в contacts_show между пользователями зарегистрировавшимся с yandex и google - нет;  \n",
    "  \n",
    "Источник никак не влияет на просмоторы целевого события.  "
   ]
  },
  {
   "cell_type": "markdown",
   "id": "185096b1",
   "metadata": {},
   "source": [
    "<div class=\"alert alert-info\">   \n",
    "    \n",
    "**ОБЩИЙ ВЫВОД**\n",
    "    \n",
    "* Выявили интересную закономерность, те пользователи, которые пользовались рекомендациями не взаимодействовали в дальнейшем с карточкой contacts_call.  \n",
    "\n",
    "* Низкая конверсия перехода от tips_click к tips_show говорит нам, что пользователи чаще всего пользуются самостоятельным поиском объвлений на сайте.  \n",
    "Самый низкий показатель у cоntacts_call, но брать в учет это не стоит, ведь пользователь может просто сохранить номер и позвонить потом, поэтому событие звонков через приложение может быть с низким проникновением.  \n",
    "    \n",
    "* Воронка по дням показывает, что в целом динамика взаимодействий по дням приимущественно на одном уровне, есть не значительные спады с 9-13 октября, 19-20 числа также виден небольшой спад. Резкое падение активности 2 ноября, но давайте не будем забывать, что могли сказаться приближающиеся ноябрьские праздники.    \n",
    "* По графику количества взаимодействий по неделям видно, что интерес пользователей растет к третьей неделе, и начинает падать с 25 октября, интересно было бы посмотреть на будущие данные, чтобы понять динамику.  \n",
    "\n",
    " ** Наше целевое событие происходило 4529 раз, но лишь 22.9% уникальных пользователей кликнули на просмотр контактов. Однако более половины уникальных пользователей, которые пользовались поиском, конвертировались в целевое событие. Пользователи, которые используют поиск, конвертируются несомненно активнее.   \n",
    "\n",
    " ** Также я бы отметила пользователей, которые смотрели карту объявлений, их достаточно много, но связывать их с невысокой конвертацией в целевое я бы не стала, ведь пользователей может не устраивать дальность дороги за вещью. Однако стоит обратить внимание, что дальность дороги несомненно влияет на сам звонок.  \n",
    "  \n",
    " ** Пользователи много кликают на фотографии, но в тоже время конвертация уникальных пользователей в разы меньше, я бы обратила внимание, на количество фотографий в объявлении, на просмотр может уходить большое количество времени и они не доходят до целевого события. Возможно стоит поставить ограничение на количество выкладываемых фотографий.  \n",
    "\n",
    "     \n",
    "* Конечно если смотреть на показатели в целом конверсия перехода пользователей с рекомендации до открытия рекомендованного оставляет желать лучшего: из 5641 пользователей только 650 кликнуло по объявлению. Возможно стоит обратить внимание на данное событие для увеличесния конверсии.    \n",
    "Из 650 пользователей перешедших на рекомендованное объявление 480(74%) посмотрели контакт - это отличный показатель, по этому пути не отвалилось большого количества пользователей. Стоит это учесть, и повысить качество показанных рекомендаций, чтобы увеличить данную конверсию перехода изначально. Надо и дальше поддерживать и улучшать события-лидеры. Если усреднить, то между ЦС и предыдущим событием проходит от 0,7 до 30 минут. Самым \"быстрым\" событием, в плане конверсии в ЦС, является \"advert_open\" - 42 секунды, а сымым медленным \"tips_click\" - 1803 секунды.     \n",
    " \n",
    "Воронка показывает, что в целом динамика взаимодействий по дням и неделям растет, лишь на четвертую неделю идет спад активности на 6% от предыдущей недели. Отличный показатель, необходимо удержать.    \n",
    "    \n",
    "**Рекомендации:**  \n",
    "* Выявили интересную закономерность, те пользователи, которые пользовались рекомендациями не взаимодействовали в дальнейшем с карточкой contacts_call. Стоит повысит конвертацию в просмотры контактов через рекомендации, повысить качество показанных рекомендаций, чтобы увеличить данную конверсию перехода изначально. Это можно сделать, если показывать рекомендации исходя из геолокации пользователя и выводить первые подходящие рекомендации под запрос от параметра «местонахождение».   \n",
    "* Также я бы рекомендовала ставить упор на поисковую систему, так как данное событие чаще всего используется пользователями. Надо и дальше поддерживать и улучшать события-лидеры. Внедрение фильтра геолокации при регистрации пользователя также может увеличить конвертацию в целевое событие.  \n",
    "* Может воспользоваться внедрением кнопки звонок сразу в объявлении и без просмотра телефона, чтобы пользователи не откладывали звонок на потом. Это поможет повысить конвертацию звонка.  \n",
    "* В целом динамика взаимодействий по дням и неделям растет, лишь на четвертую неделю идет спад активности на 6% от предыдущей недели. Отличный показатель, необходимо удержать.  \n",
    "* Напоследок ввести ограничение на количество и качество фото объявлений, чтобы пользователи не тратили основное время только на просмотр фотографий.  "
   ]
  },
  {
   "cell_type": "markdown",
   "id": "3680ae9a",
   "metadata": {},
   "source": [
    "# Материалы:  \n"
   ]
  },
  {
   "cell_type": "markdown",
   "id": "5a3c783f",
   "metadata": {},
   "source": [
    "Ссылка на презентацию: https://disk.yandex.ru/i/7MOnCeFVkycORQ"
   ]
  },
  {
   "cell_type": "markdown",
   "id": "f2db159e",
   "metadata": {},
   "source": [
    "# Дашборд  \n",
    "**ссылка:** https://public.tableau.com/views/_16709946761600/Dashboard2?:language=en-US&:display_count=n&:origin=viz_share_link    \n",
    "Характер данных:  \n",
    "  \n",
    "* Постройте диаграмму распределения количества событий по типу события.  \n",
    "* Добавьте индикатор количества пользователей.  \n",
    "* Добавьте фильтр дашборда по дате совершения события.  \n",
    "* Постройте диаграмму, отображающую количество событий по дням.  \n",
    "* Постройте гистограмму, отображающую количество пользователей, пришедших из разных источников.  \n",
    "* Добавьте фильтр дашборда по типу события.  "
   ]
  },
  {
   "cell_type": "code",
   "execution_count": 156,
   "id": "ac8be404",
   "metadata": {},
   "outputs": [
    {
     "data": {
      "text/html": [
       "<div>\n",
       "<style scoped>\n",
       "    .dataframe tbody tr th:only-of-type {\n",
       "        vertical-align: middle;\n",
       "    }\n",
       "\n",
       "    .dataframe tbody tr th {\n",
       "        vertical-align: top;\n",
       "    }\n",
       "\n",
       "    .dataframe thead th {\n",
       "        text-align: right;\n",
       "    }\n",
       "</style>\n",
       "<table border=\"1\" class=\"dataframe\">\n",
       "  <thead>\n",
       "    <tr style=\"text-align: right;\">\n",
       "      <th></th>\n",
       "      <th>date_time</th>\n",
       "      <th>event_name</th>\n",
       "      <th>user_id</th>\n",
       "      <th>source</th>\n",
       "      <th>date</th>\n",
       "      <th>diff</th>\n",
       "      <th>id</th>\n",
       "      <th>session_id</th>\n",
       "      <th>is_first_event_in_session</th>\n",
       "      <th>time_on_page</th>\n",
       "    </tr>\n",
       "  </thead>\n",
       "  <tbody>\n",
       "    <tr>\n",
       "      <th>805</th>\n",
       "      <td>2019-10-07 13:39:45</td>\n",
       "      <td>tips_show</td>\n",
       "      <td>0001b1d5-b74a-4cbf-aeb0-7df5947bf349</td>\n",
       "      <td>other</td>\n",
       "      <td>2019-10-07</td>\n",
       "      <td>NaT</td>\n",
       "      <td>805</td>\n",
       "      <td>805.0</td>\n",
       "      <td>True</td>\n",
       "      <td>46.0</td>\n",
       "    </tr>\n",
       "    <tr>\n",
       "      <th>806</th>\n",
       "      <td>2019-10-07 13:40:31</td>\n",
       "      <td>tips_show</td>\n",
       "      <td>0001b1d5-b74a-4cbf-aeb0-7df5947bf349</td>\n",
       "      <td>other</td>\n",
       "      <td>2019-10-07</td>\n",
       "      <td>-15 days +02:14:58</td>\n",
       "      <td>806</td>\n",
       "      <td>805.0</td>\n",
       "      <td>False</td>\n",
       "      <td>34.0</td>\n",
       "    </tr>\n",
       "    <tr>\n",
       "      <th>809</th>\n",
       "      <td>2019-10-07 13:41:05</td>\n",
       "      <td>tips_show</td>\n",
       "      <td>0001b1d5-b74a-4cbf-aeb0-7df5947bf349</td>\n",
       "      <td>other</td>\n",
       "      <td>2019-10-07</td>\n",
       "      <td>-15 days +02:22:51</td>\n",
       "      <td>809</td>\n",
       "      <td>805.0</td>\n",
       "      <td>False</td>\n",
       "      <td>135.0</td>\n",
       "    </tr>\n",
       "    <tr>\n",
       "      <th>820</th>\n",
       "      <td>2019-10-07 13:43:20</td>\n",
       "      <td>tips_show</td>\n",
       "      <td>0001b1d5-b74a-4cbf-aeb0-7df5947bf349</td>\n",
       "      <td>other</td>\n",
       "      <td>2019-10-07</td>\n",
       "      <td>0 days 00:02:15</td>\n",
       "      <td>820</td>\n",
       "      <td>805.0</td>\n",
       "      <td>False</td>\n",
       "      <td>130.0</td>\n",
       "    </tr>\n",
       "    <tr>\n",
       "      <th>830</th>\n",
       "      <td>2019-10-07 13:45:30</td>\n",
       "      <td>tips_show</td>\n",
       "      <td>0001b1d5-b74a-4cbf-aeb0-7df5947bf349</td>\n",
       "      <td>other</td>\n",
       "      <td>2019-10-07</td>\n",
       "      <td>0 days 00:02:10</td>\n",
       "      <td>830</td>\n",
       "      <td>805.0</td>\n",
       "      <td>False</td>\n",
       "      <td>13.0</td>\n",
       "    </tr>\n",
       "    <tr>\n",
       "      <th>...</th>\n",
       "      <td>...</td>\n",
       "      <td>...</td>\n",
       "      <td>...</td>\n",
       "      <td>...</td>\n",
       "      <td>...</td>\n",
       "      <td>...</td>\n",
       "      <td>...</td>\n",
       "      <td>...</td>\n",
       "      <td>...</td>\n",
       "      <td>...</td>\n",
       "    </tr>\n",
       "    <tr>\n",
       "      <th>72584</th>\n",
       "      <td>2019-11-03 15:51:23</td>\n",
       "      <td>tips_show</td>\n",
       "      <td>fffb9e79-b927-4dbb-9b48-7fd09b23a62b</td>\n",
       "      <td>google</td>\n",
       "      <td>2019-11-03</td>\n",
       "      <td>22 days 14:42:28</td>\n",
       "      <td>72584</td>\n",
       "      <td>72584.0</td>\n",
       "      <td>True</td>\n",
       "      <td>NaN</td>\n",
       "    </tr>\n",
       "    <tr>\n",
       "      <th>72589</th>\n",
       "      <td>2019-11-03 15:51:57</td>\n",
       "      <td>contacts_show</td>\n",
       "      <td>fffb9e79-b927-4dbb-9b48-7fd09b23a62b</td>\n",
       "      <td>google</td>\n",
       "      <td>2019-11-03</td>\n",
       "      <td>22 days 14:43:54</td>\n",
       "      <td>72589</td>\n",
       "      <td>72589.0</td>\n",
       "      <td>True</td>\n",
       "      <td>NaN</td>\n",
       "    </tr>\n",
       "    <tr>\n",
       "      <th>72684</th>\n",
       "      <td>2019-11-03 16:07:40</td>\n",
       "      <td>tips_show</td>\n",
       "      <td>fffb9e79-b927-4dbb-9b48-7fd09b23a62b</td>\n",
       "      <td>google</td>\n",
       "      <td>2019-11-03</td>\n",
       "      <td>16 days 03:44:20</td>\n",
       "      <td>72684</td>\n",
       "      <td>72684.0</td>\n",
       "      <td>True</td>\n",
       "      <td>38.0</td>\n",
       "    </tr>\n",
       "    <tr>\n",
       "      <th>72688</th>\n",
       "      <td>2019-11-03 16:08:18</td>\n",
       "      <td>tips_show</td>\n",
       "      <td>fffb9e79-b927-4dbb-9b48-7fd09b23a62b</td>\n",
       "      <td>google</td>\n",
       "      <td>2019-11-03</td>\n",
       "      <td>0 days 00:00:38</td>\n",
       "      <td>72688</td>\n",
       "      <td>72684.0</td>\n",
       "      <td>False</td>\n",
       "      <td>7.0</td>\n",
       "    </tr>\n",
       "    <tr>\n",
       "      <th>72689</th>\n",
       "      <td>2019-11-03 16:08:25</td>\n",
       "      <td>tips_show</td>\n",
       "      <td>fffb9e79-b927-4dbb-9b48-7fd09b23a62b</td>\n",
       "      <td>google</td>\n",
       "      <td>2019-11-03</td>\n",
       "      <td>0 days 00:00:07</td>\n",
       "      <td>72689</td>\n",
       "      <td>72684.0</td>\n",
       "      <td>False</td>\n",
       "      <td>NaN</td>\n",
       "    </tr>\n",
       "  </tbody>\n",
       "</table>\n",
       "<p>70452 rows × 10 columns</p>\n",
       "</div>"
      ],
      "text/plain": [
       "                date_time     event_name  \\\n",
       "805   2019-10-07 13:39:45  tips_show       \n",
       "806   2019-10-07 13:40:31  tips_show       \n",
       "809   2019-10-07 13:41:05  tips_show       \n",
       "820   2019-10-07 13:43:20  tips_show       \n",
       "830   2019-10-07 13:45:30  tips_show       \n",
       "...                   ...        ...       \n",
       "72584 2019-11-03 15:51:23  tips_show       \n",
       "72589 2019-11-03 15:51:57  contacts_show   \n",
       "72684 2019-11-03 16:07:40  tips_show       \n",
       "72688 2019-11-03 16:08:18  tips_show       \n",
       "72689 2019-11-03 16:08:25  tips_show       \n",
       "\n",
       "                                    user_id  source       date  \\\n",
       "805    0001b1d5-b74a-4cbf-aeb0-7df5947bf349  other  2019-10-07   \n",
       "806    0001b1d5-b74a-4cbf-aeb0-7df5947bf349  other  2019-10-07   \n",
       "809    0001b1d5-b74a-4cbf-aeb0-7df5947bf349  other  2019-10-07   \n",
       "820    0001b1d5-b74a-4cbf-aeb0-7df5947bf349  other  2019-10-07   \n",
       "830    0001b1d5-b74a-4cbf-aeb0-7df5947bf349  other  2019-10-07   \n",
       "...                                     ...    ...         ...   \n",
       "72584  fffb9e79-b927-4dbb-9b48-7fd09b23a62b  google 2019-11-03   \n",
       "72589  fffb9e79-b927-4dbb-9b48-7fd09b23a62b  google 2019-11-03   \n",
       "72684  fffb9e79-b927-4dbb-9b48-7fd09b23a62b  google 2019-11-03   \n",
       "72688  fffb9e79-b927-4dbb-9b48-7fd09b23a62b  google 2019-11-03   \n",
       "72689  fffb9e79-b927-4dbb-9b48-7fd09b23a62b  google 2019-11-03   \n",
       "\n",
       "                    diff     id  session_id  is_first_event_in_session  \\\n",
       "805   NaT                 805    805.0       True                        \n",
       "806   -15 days +02:14:58  806    805.0       False                       \n",
       "809   -15 days +02:22:51  809    805.0       False                       \n",
       "820   0 days 00:02:15     820    805.0       False                       \n",
       "830   0 days 00:02:10     830    805.0       False                       \n",
       "...               ...     ...      ...         ...                       \n",
       "72584 22 days 14:42:28    72584  72584.0     True                        \n",
       "72589 22 days 14:43:54    72589  72589.0     True                        \n",
       "72684 16 days 03:44:20    72684  72684.0     True                        \n",
       "72688 0 days 00:00:38     72688  72684.0     False                       \n",
       "72689 0 days 00:00:07     72689  72684.0     False                       \n",
       "\n",
       "       time_on_page  \n",
       "805    46.0          \n",
       "806    34.0          \n",
       "809    135.0         \n",
       "820    130.0         \n",
       "830    13.0          \n",
       "...     ...          \n",
       "72584 NaN            \n",
       "72589 NaN            \n",
       "72684  38.0          \n",
       "72688  7.0           \n",
       "72689 NaN            \n",
       "\n",
       "[70452 rows x 10 columns]"
      ]
     },
     "execution_count": 156,
     "metadata": {},
     "output_type": "execute_result"
    }
   ],
   "source": [
    "df_mobile"
   ]
  },
  {
   "cell_type": "code",
   "execution_count": 157,
   "id": "ebd74cd3",
   "metadata": {},
   "outputs": [],
   "source": [
    "df_mobile[['date', 'event_name', 'user_id', 'source']].to_csv('final_tableau_new.csv', index = False)"
   ]
  },
  {
   "cell_type": "code",
   "execution_count": 158,
   "id": "38ac6ef0",
   "metadata": {},
   "outputs": [
    {
     "data": {
      "text/html": [
       "<div>\n",
       "<style scoped>\n",
       "    .dataframe tbody tr th:only-of-type {\n",
       "        vertical-align: middle;\n",
       "    }\n",
       "\n",
       "    .dataframe tbody tr th {\n",
       "        vertical-align: top;\n",
       "    }\n",
       "\n",
       "    .dataframe thead th {\n",
       "        text-align: right;\n",
       "    }\n",
       "</style>\n",
       "<table border=\"1\" class=\"dataframe\">\n",
       "  <thead>\n",
       "    <tr style=\"text-align: right;\">\n",
       "      <th></th>\n",
       "      <th>date</th>\n",
       "      <th>event_name</th>\n",
       "      <th>user_id</th>\n",
       "      <th>source</th>\n",
       "    </tr>\n",
       "  </thead>\n",
       "  <tbody>\n",
       "    <tr>\n",
       "      <th>0</th>\n",
       "      <td>2019-10-07</td>\n",
       "      <td>tips_show</td>\n",
       "      <td>0001b1d5-b74a-4cbf-aeb0-7df5947bf349</td>\n",
       "      <td>other</td>\n",
       "    </tr>\n",
       "    <tr>\n",
       "      <th>1</th>\n",
       "      <td>2019-10-07</td>\n",
       "      <td>tips_show</td>\n",
       "      <td>0001b1d5-b74a-4cbf-aeb0-7df5947bf349</td>\n",
       "      <td>other</td>\n",
       "    </tr>\n",
       "    <tr>\n",
       "      <th>2</th>\n",
       "      <td>2019-10-07</td>\n",
       "      <td>tips_show</td>\n",
       "      <td>0001b1d5-b74a-4cbf-aeb0-7df5947bf349</td>\n",
       "      <td>other</td>\n",
       "    </tr>\n",
       "    <tr>\n",
       "      <th>3</th>\n",
       "      <td>2019-10-07</td>\n",
       "      <td>tips_show</td>\n",
       "      <td>0001b1d5-b74a-4cbf-aeb0-7df5947bf349</td>\n",
       "      <td>other</td>\n",
       "    </tr>\n",
       "    <tr>\n",
       "      <th>4</th>\n",
       "      <td>2019-10-07</td>\n",
       "      <td>tips_show</td>\n",
       "      <td>0001b1d5-b74a-4cbf-aeb0-7df5947bf349</td>\n",
       "      <td>other</td>\n",
       "    </tr>\n",
       "    <tr>\n",
       "      <th>...</th>\n",
       "      <td>...</td>\n",
       "      <td>...</td>\n",
       "      <td>...</td>\n",
       "      <td>...</td>\n",
       "    </tr>\n",
       "    <tr>\n",
       "      <th>70447</th>\n",
       "      <td>2019-11-03</td>\n",
       "      <td>tips_show</td>\n",
       "      <td>fffb9e79-b927-4dbb-9b48-7fd09b23a62b</td>\n",
       "      <td>google</td>\n",
       "    </tr>\n",
       "    <tr>\n",
       "      <th>70448</th>\n",
       "      <td>2019-11-03</td>\n",
       "      <td>contacts_show</td>\n",
       "      <td>fffb9e79-b927-4dbb-9b48-7fd09b23a62b</td>\n",
       "      <td>google</td>\n",
       "    </tr>\n",
       "    <tr>\n",
       "      <th>70449</th>\n",
       "      <td>2019-11-03</td>\n",
       "      <td>tips_show</td>\n",
       "      <td>fffb9e79-b927-4dbb-9b48-7fd09b23a62b</td>\n",
       "      <td>google</td>\n",
       "    </tr>\n",
       "    <tr>\n",
       "      <th>70450</th>\n",
       "      <td>2019-11-03</td>\n",
       "      <td>tips_show</td>\n",
       "      <td>fffb9e79-b927-4dbb-9b48-7fd09b23a62b</td>\n",
       "      <td>google</td>\n",
       "    </tr>\n",
       "    <tr>\n",
       "      <th>70451</th>\n",
       "      <td>2019-11-03</td>\n",
       "      <td>tips_show</td>\n",
       "      <td>fffb9e79-b927-4dbb-9b48-7fd09b23a62b</td>\n",
       "      <td>google</td>\n",
       "    </tr>\n",
       "  </tbody>\n",
       "</table>\n",
       "<p>70452 rows × 4 columns</p>\n",
       "</div>"
      ],
      "text/plain": [
       "             date     event_name                               user_id  source\n",
       "0      2019-10-07  tips_show      0001b1d5-b74a-4cbf-aeb0-7df5947bf349  other \n",
       "1      2019-10-07  tips_show      0001b1d5-b74a-4cbf-aeb0-7df5947bf349  other \n",
       "2      2019-10-07  tips_show      0001b1d5-b74a-4cbf-aeb0-7df5947bf349  other \n",
       "3      2019-10-07  tips_show      0001b1d5-b74a-4cbf-aeb0-7df5947bf349  other \n",
       "4      2019-10-07  tips_show      0001b1d5-b74a-4cbf-aeb0-7df5947bf349  other \n",
       "...           ...        ...                                       ...    ... \n",
       "70447  2019-11-03  tips_show      fffb9e79-b927-4dbb-9b48-7fd09b23a62b  google\n",
       "70448  2019-11-03  contacts_show  fffb9e79-b927-4dbb-9b48-7fd09b23a62b  google\n",
       "70449  2019-11-03  tips_show      fffb9e79-b927-4dbb-9b48-7fd09b23a62b  google\n",
       "70450  2019-11-03  tips_show      fffb9e79-b927-4dbb-9b48-7fd09b23a62b  google\n",
       "70451  2019-11-03  tips_show      fffb9e79-b927-4dbb-9b48-7fd09b23a62b  google\n",
       "\n",
       "[70452 rows x 4 columns]"
      ]
     },
     "execution_count": 158,
     "metadata": {},
     "output_type": "execute_result"
    }
   ],
   "source": [
    "pd.read_csv('final_tableau_new.csv')"
   ]
  },
  {
   "cell_type": "code",
   "execution_count": null,
   "id": "54c7b77e",
   "metadata": {},
   "outputs": [],
   "source": []
  }
 ],
 "metadata": {
  "ExecuteTimeLog": [
   {
    "duration": 1615,
    "start_time": "2022-12-14T11:53:39.857Z"
   },
   {
    "duration": 301,
    "start_time": "2022-12-14T11:53:41.474Z"
   },
   {
    "duration": 0,
    "start_time": "2022-12-14T11:53:41.778Z"
   },
   {
    "duration": 0,
    "start_time": "2022-12-14T11:53:41.779Z"
   },
   {
    "duration": 0,
    "start_time": "2022-12-14T11:53:41.780Z"
   },
   {
    "duration": 0,
    "start_time": "2022-12-14T11:53:41.781Z"
   },
   {
    "duration": 0,
    "start_time": "2022-12-14T11:53:41.782Z"
   },
   {
    "duration": 0,
    "start_time": "2022-12-14T11:53:41.783Z"
   },
   {
    "duration": 0,
    "start_time": "2022-12-14T11:53:41.784Z"
   },
   {
    "duration": 0,
    "start_time": "2022-12-14T11:53:41.785Z"
   },
   {
    "duration": 0,
    "start_time": "2022-12-14T11:53:41.786Z"
   },
   {
    "duration": 0,
    "start_time": "2022-12-14T11:53:41.787Z"
   },
   {
    "duration": 0,
    "start_time": "2022-12-14T11:53:41.788Z"
   },
   {
    "duration": 0,
    "start_time": "2022-12-14T11:53:41.788Z"
   },
   {
    "duration": 0,
    "start_time": "2022-12-14T11:53:41.789Z"
   },
   {
    "duration": 0,
    "start_time": "2022-12-14T11:53:41.791Z"
   },
   {
    "duration": 0,
    "start_time": "2022-12-14T11:53:41.792Z"
   },
   {
    "duration": 0,
    "start_time": "2022-12-14T11:53:41.793Z"
   },
   {
    "duration": 0,
    "start_time": "2022-12-14T11:53:41.794Z"
   },
   {
    "duration": 0,
    "start_time": "2022-12-14T11:53:41.795Z"
   },
   {
    "duration": 0,
    "start_time": "2022-12-14T11:53:41.796Z"
   },
   {
    "duration": 0,
    "start_time": "2022-12-14T11:53:41.797Z"
   },
   {
    "duration": 0,
    "start_time": "2022-12-14T11:53:41.798Z"
   },
   {
    "duration": 0,
    "start_time": "2022-12-14T11:53:41.799Z"
   },
   {
    "duration": 0,
    "start_time": "2022-12-14T11:53:41.801Z"
   },
   {
    "duration": 0,
    "start_time": "2022-12-14T11:53:41.802Z"
   },
   {
    "duration": 0,
    "start_time": "2022-12-14T11:53:41.802Z"
   },
   {
    "duration": 0,
    "start_time": "2022-12-14T11:53:41.803Z"
   },
   {
    "duration": 0,
    "start_time": "2022-12-14T11:53:41.804Z"
   },
   {
    "duration": 0,
    "start_time": "2022-12-14T11:53:41.805Z"
   },
   {
    "duration": 0,
    "start_time": "2022-12-14T11:53:41.806Z"
   },
   {
    "duration": 0,
    "start_time": "2022-12-14T11:53:41.807Z"
   },
   {
    "duration": 0,
    "start_time": "2022-12-14T11:53:41.808Z"
   },
   {
    "duration": 0,
    "start_time": "2022-12-14T11:53:41.808Z"
   },
   {
    "duration": 0,
    "start_time": "2022-12-14T11:53:41.809Z"
   },
   {
    "duration": 0,
    "start_time": "2022-12-14T11:53:41.810Z"
   },
   {
    "duration": 0,
    "start_time": "2022-12-14T11:53:41.811Z"
   },
   {
    "duration": 0,
    "start_time": "2022-12-14T11:53:41.812Z"
   },
   {
    "duration": 0,
    "start_time": "2022-12-14T11:53:41.813Z"
   },
   {
    "duration": 0,
    "start_time": "2022-12-14T11:53:41.814Z"
   },
   {
    "duration": 0,
    "start_time": "2022-12-14T11:53:41.878Z"
   },
   {
    "duration": 0,
    "start_time": "2022-12-14T11:53:41.880Z"
   },
   {
    "duration": 0,
    "start_time": "2022-12-14T11:53:41.881Z"
   },
   {
    "duration": 0,
    "start_time": "2022-12-14T11:53:41.882Z"
   },
   {
    "duration": 0,
    "start_time": "2022-12-14T11:53:41.883Z"
   },
   {
    "duration": 0,
    "start_time": "2022-12-14T11:53:41.884Z"
   },
   {
    "duration": 0,
    "start_time": "2022-12-14T11:53:41.885Z"
   },
   {
    "duration": 0,
    "start_time": "2022-12-14T11:53:41.886Z"
   },
   {
    "duration": 0,
    "start_time": "2022-12-14T11:53:41.887Z"
   },
   {
    "duration": 0,
    "start_time": "2022-12-14T11:53:41.888Z"
   },
   {
    "duration": 0,
    "start_time": "2022-12-14T11:53:41.889Z"
   },
   {
    "duration": 0,
    "start_time": "2022-12-14T11:53:41.890Z"
   },
   {
    "duration": 0,
    "start_time": "2022-12-14T11:53:41.891Z"
   },
   {
    "duration": 0,
    "start_time": "2022-12-14T11:53:41.892Z"
   },
   {
    "duration": 0,
    "start_time": "2022-12-14T11:53:41.893Z"
   },
   {
    "duration": 0,
    "start_time": "2022-12-14T11:53:41.894Z"
   },
   {
    "duration": 0,
    "start_time": "2022-12-14T11:53:41.894Z"
   },
   {
    "duration": 0,
    "start_time": "2022-12-14T11:53:41.895Z"
   },
   {
    "duration": 0,
    "start_time": "2022-12-14T11:53:41.896Z"
   },
   {
    "duration": 0,
    "start_time": "2022-12-14T11:53:41.897Z"
   },
   {
    "duration": 0,
    "start_time": "2022-12-14T11:53:41.898Z"
   },
   {
    "duration": 0,
    "start_time": "2022-12-14T11:53:41.899Z"
   },
   {
    "duration": 0,
    "start_time": "2022-12-14T11:53:41.900Z"
   },
   {
    "duration": 0,
    "start_time": "2022-12-14T11:53:41.901Z"
   },
   {
    "duration": 1209,
    "start_time": "2022-12-14T11:54:01.933Z"
   },
   {
    "duration": 162,
    "start_time": "2022-12-14T11:54:03.144Z"
   },
   {
    "duration": 12,
    "start_time": "2022-12-14T11:54:03.308Z"
   },
   {
    "duration": 7,
    "start_time": "2022-12-14T11:54:03.322Z"
   },
   {
    "duration": 35,
    "start_time": "2022-12-14T11:54:03.331Z"
   },
   {
    "duration": 4,
    "start_time": "2022-12-14T11:54:03.367Z"
   },
   {
    "duration": 13,
    "start_time": "2022-12-14T11:54:03.372Z"
   },
   {
    "duration": 42,
    "start_time": "2022-12-14T11:54:03.387Z"
   },
   {
    "duration": 599,
    "start_time": "2022-12-14T11:54:03.431Z"
   },
   {
    "duration": 16,
    "start_time": "2022-12-14T11:54:04.034Z"
   },
   {
    "duration": 27,
    "start_time": "2022-12-14T11:54:04.052Z"
   },
   {
    "duration": 37,
    "start_time": "2022-12-14T11:54:04.081Z"
   },
   {
    "duration": 5,
    "start_time": "2022-12-14T11:54:04.119Z"
   },
   {
    "duration": 23,
    "start_time": "2022-12-14T11:54:04.125Z"
   },
   {
    "duration": 38,
    "start_time": "2022-12-14T11:54:04.149Z"
   },
   {
    "duration": 425,
    "start_time": "2022-12-14T11:54:04.188Z"
   },
   {
    "duration": 182,
    "start_time": "2022-12-14T11:54:04.615Z"
   },
   {
    "duration": 34,
    "start_time": "2022-12-14T11:54:04.798Z"
   },
   {
    "duration": 208,
    "start_time": "2022-12-14T11:54:04.833Z"
   },
   {
    "duration": 217,
    "start_time": "2022-12-14T11:54:05.043Z"
   },
   {
    "duration": 756,
    "start_time": "2022-12-14T11:54:05.261Z"
   },
   {
    "duration": 13,
    "start_time": "2022-12-14T11:54:06.018Z"
   },
   {
    "duration": 68,
    "start_time": "2022-12-14T11:54:06.032Z"
   },
   {
    "duration": 37,
    "start_time": "2022-12-14T11:54:06.101Z"
   },
   {
    "duration": 14,
    "start_time": "2022-12-14T11:54:06.140Z"
   },
   {
    "duration": 2839,
    "start_time": "2022-12-14T11:54:06.155Z"
   },
   {
    "duration": 3,
    "start_time": "2022-12-14T11:54:08.995Z"
   },
   {
    "duration": 28,
    "start_time": "2022-12-14T11:54:09.002Z"
   },
   {
    "duration": 3,
    "start_time": "2022-12-14T11:54:09.032Z"
   },
   {
    "duration": 7,
    "start_time": "2022-12-14T11:54:09.037Z"
   },
   {
    "duration": 34,
    "start_time": "2022-12-14T11:54:09.046Z"
   },
   {
    "duration": 12,
    "start_time": "2022-12-14T11:54:09.081Z"
   },
   {
    "duration": 19,
    "start_time": "2022-12-14T11:54:09.095Z"
   },
   {
    "duration": 283,
    "start_time": "2022-12-14T11:54:09.116Z"
   },
   {
    "duration": 17,
    "start_time": "2022-12-14T11:54:09.400Z"
   },
   {
    "duration": 3,
    "start_time": "2022-12-14T11:54:09.418Z"
   },
   {
    "duration": 6,
    "start_time": "2022-12-14T11:54:09.422Z"
   },
   {
    "duration": 273,
    "start_time": "2022-12-14T11:54:09.430Z"
   },
   {
    "duration": 20,
    "start_time": "2022-12-14T11:54:09.704Z"
   },
   {
    "duration": 19,
    "start_time": "2022-12-14T11:54:09.726Z"
   },
   {
    "duration": 17285,
    "start_time": "2022-12-14T11:54:09.747Z"
   },
   {
    "duration": 18,
    "start_time": "2022-12-14T11:54:27.034Z"
   },
   {
    "duration": 27,
    "start_time": "2022-12-14T11:54:27.053Z"
   },
   {
    "duration": 11,
    "start_time": "2022-12-14T11:54:27.082Z"
   },
   {
    "duration": 16,
    "start_time": "2022-12-14T11:54:27.094Z"
   },
   {
    "duration": 45,
    "start_time": "2022-12-14T11:54:27.112Z"
   },
   {
    "duration": 215,
    "start_time": "2022-12-14T11:54:27.158Z"
   },
   {
    "duration": 13828,
    "start_time": "2022-12-14T11:54:27.377Z"
   },
   {
    "duration": 11,
    "start_time": "2022-12-14T11:54:41.207Z"
   },
   {
    "duration": 5,
    "start_time": "2022-12-14T11:54:41.220Z"
   },
   {
    "duration": 80,
    "start_time": "2022-12-14T11:54:41.226Z"
   },
   {
    "duration": 30,
    "start_time": "2022-12-14T11:54:41.307Z"
   },
   {
    "duration": 24,
    "start_time": "2022-12-14T11:54:41.339Z"
   },
   {
    "duration": 45,
    "start_time": "2022-12-14T11:54:41.365Z"
   },
   {
    "duration": 27,
    "start_time": "2022-12-14T11:54:41.411Z"
   },
   {
    "duration": 39,
    "start_time": "2022-12-14T11:54:41.439Z"
   },
   {
    "duration": 18,
    "start_time": "2022-12-14T11:54:41.480Z"
   },
   {
    "duration": 21,
    "start_time": "2022-12-14T11:54:41.500Z"
   },
   {
    "duration": 7,
    "start_time": "2022-12-14T11:54:41.522Z"
   },
   {
    "duration": 22,
    "start_time": "2022-12-14T11:54:41.531Z"
   },
   {
    "duration": 39,
    "start_time": "2022-12-14T11:54:41.555Z"
   },
   {
    "duration": 25,
    "start_time": "2022-12-14T11:54:41.595Z"
   },
   {
    "duration": 4,
    "start_time": "2022-12-14T11:54:41.621Z"
   },
   {
    "duration": 19,
    "start_time": "2022-12-14T11:54:41.626Z"
   },
   {
    "duration": 100,
    "start_time": "2022-12-14T12:07:46.561Z"
   },
   {
    "duration": 51,
    "start_time": "2022-12-14T17:09:15.218Z"
   },
   {
    "duration": 1638,
    "start_time": "2022-12-14T17:09:22.584Z"
   },
   {
    "duration": 546,
    "start_time": "2022-12-14T17:09:24.225Z"
   },
   {
    "duration": 16,
    "start_time": "2022-12-14T17:09:24.773Z"
   },
   {
    "duration": 11,
    "start_time": "2022-12-14T17:09:24.790Z"
   },
   {
    "duration": 50,
    "start_time": "2022-12-14T17:09:24.803Z"
   },
   {
    "duration": 3,
    "start_time": "2022-12-14T17:09:24.855Z"
   },
   {
    "duration": 34,
    "start_time": "2022-12-14T17:09:24.859Z"
   },
   {
    "duration": 54,
    "start_time": "2022-12-14T17:09:24.895Z"
   },
   {
    "duration": 656,
    "start_time": "2022-12-14T17:09:24.950Z"
   },
   {
    "duration": 13,
    "start_time": "2022-12-14T17:09:25.608Z"
   },
   {
    "duration": 18,
    "start_time": "2022-12-14T17:09:25.634Z"
   },
   {
    "duration": 58,
    "start_time": "2022-12-14T17:09:25.654Z"
   },
   {
    "duration": 53,
    "start_time": "2022-12-14T17:09:25.714Z"
   },
   {
    "duration": 7,
    "start_time": "2022-12-14T17:09:25.770Z"
   },
   {
    "duration": 52,
    "start_time": "2022-12-14T17:09:25.778Z"
   },
   {
    "duration": 30,
    "start_time": "2022-12-14T17:09:25.831Z"
   },
   {
    "duration": 428,
    "start_time": "2022-12-14T17:09:25.863Z"
   },
   {
    "duration": 248,
    "start_time": "2022-12-14T17:09:26.293Z"
   },
   {
    "duration": 40,
    "start_time": "2022-12-14T17:09:26.543Z"
   },
   {
    "duration": 306,
    "start_time": "2022-12-14T17:09:26.585Z"
   },
   {
    "duration": 237,
    "start_time": "2022-12-14T17:09:26.893Z"
   },
   {
    "duration": 839,
    "start_time": "2022-12-14T17:09:27.131Z"
   },
   {
    "duration": 15,
    "start_time": "2022-12-14T17:09:27.971Z"
   },
   {
    "duration": 82,
    "start_time": "2022-12-14T17:09:27.988Z"
   },
   {
    "duration": 39,
    "start_time": "2022-12-14T17:09:28.072Z"
   },
   {
    "duration": 26,
    "start_time": "2022-12-14T17:09:28.113Z"
   },
   {
    "duration": 3270,
    "start_time": "2022-12-14T17:09:28.140Z"
   },
   {
    "duration": 2,
    "start_time": "2022-12-14T17:09:31.412Z"
   },
   {
    "duration": 64,
    "start_time": "2022-12-14T17:09:31.416Z"
   },
   {
    "duration": 51,
    "start_time": "2022-12-14T17:09:31.482Z"
   },
   {
    "duration": 67,
    "start_time": "2022-12-14T17:09:31.535Z"
   },
   {
    "duration": 32,
    "start_time": "2022-12-14T17:09:31.604Z"
   },
   {
    "duration": 12,
    "start_time": "2022-12-14T17:09:31.637Z"
   },
   {
    "duration": 47,
    "start_time": "2022-12-14T17:09:31.651Z"
   },
   {
    "duration": 300,
    "start_time": "2022-12-14T17:09:31.700Z"
   },
   {
    "duration": 29,
    "start_time": "2022-12-14T17:09:32.002Z"
   },
   {
    "duration": 21,
    "start_time": "2022-12-14T17:09:32.035Z"
   },
   {
    "duration": 29,
    "start_time": "2022-12-14T17:09:32.058Z"
   },
   {
    "duration": 328,
    "start_time": "2022-12-14T17:09:32.089Z"
   },
   {
    "duration": 33,
    "start_time": "2022-12-14T17:09:32.419Z"
   },
   {
    "duration": 93,
    "start_time": "2022-12-14T17:09:32.458Z"
   },
   {
    "duration": 19716,
    "start_time": "2022-12-14T17:09:32.554Z"
   },
   {
    "duration": 23,
    "start_time": "2022-12-14T17:09:52.272Z"
   },
   {
    "duration": 20,
    "start_time": "2022-12-14T17:09:52.296Z"
   },
   {
    "duration": 39,
    "start_time": "2022-12-14T17:09:52.318Z"
   },
   {
    "duration": 34,
    "start_time": "2022-12-14T17:09:52.359Z"
   },
   {
    "duration": 49,
    "start_time": "2022-12-14T17:09:52.396Z"
   },
   {
    "duration": 306,
    "start_time": "2022-12-14T17:09:52.447Z"
   },
   {
    "duration": 16220,
    "start_time": "2022-12-14T17:09:52.755Z"
   },
   {
    "duration": 14,
    "start_time": "2022-12-14T17:10:08.977Z"
   },
   {
    "duration": 34,
    "start_time": "2022-12-14T17:10:08.992Z"
   },
   {
    "duration": 62,
    "start_time": "2022-12-14T17:10:09.028Z"
   },
   {
    "duration": 34,
    "start_time": "2022-12-14T17:10:09.092Z"
   },
   {
    "duration": 45,
    "start_time": "2022-12-14T17:10:09.128Z"
   },
   {
    "duration": 40,
    "start_time": "2022-12-14T17:10:09.175Z"
   },
   {
    "duration": 41,
    "start_time": "2022-12-14T17:10:09.217Z"
   },
   {
    "duration": 36,
    "start_time": "2022-12-14T17:10:09.260Z"
   },
   {
    "duration": 21,
    "start_time": "2022-12-14T17:10:09.297Z"
   },
   {
    "duration": 40,
    "start_time": "2022-12-14T17:10:09.320Z"
   },
   {
    "duration": 11,
    "start_time": "2022-12-14T17:10:09.362Z"
   },
   {
    "duration": 31,
    "start_time": "2022-12-14T17:10:09.375Z"
   },
   {
    "duration": 21,
    "start_time": "2022-12-14T17:10:09.408Z"
   },
   {
    "duration": 25,
    "start_time": "2022-12-14T17:10:09.431Z"
   },
   {
    "duration": 12,
    "start_time": "2022-12-14T17:10:09.458Z"
   },
   {
    "duration": 53,
    "start_time": "2022-12-14T17:10:09.472Z"
   },
   {
    "duration": 30,
    "start_time": "2022-12-14T17:10:09.528Z"
   },
   {
    "duration": 4,
    "start_time": "2022-12-14T17:10:56.920Z"
   },
   {
    "duration": 145,
    "start_time": "2022-12-14T17:10:56.926Z"
   },
   {
    "duration": 11,
    "start_time": "2022-12-14T17:10:57.072Z"
   },
   {
    "duration": 28,
    "start_time": "2022-12-14T17:10:57.085Z"
   },
   {
    "duration": 55,
    "start_time": "2022-12-14T17:10:57.116Z"
   },
   {
    "duration": 5,
    "start_time": "2022-12-14T17:10:57.173Z"
   },
   {
    "duration": 29,
    "start_time": "2022-12-14T17:10:57.180Z"
   },
   {
    "duration": 47,
    "start_time": "2022-12-14T17:10:57.211Z"
   },
   {
    "duration": 694,
    "start_time": "2022-12-14T17:10:57.259Z"
   },
   {
    "duration": 14,
    "start_time": "2022-12-14T17:10:57.955Z"
   },
   {
    "duration": 27,
    "start_time": "2022-12-14T17:10:57.971Z"
   },
   {
    "duration": 46,
    "start_time": "2022-12-14T17:10:57.999Z"
   },
   {
    "duration": 30,
    "start_time": "2022-12-14T17:16:47.861Z"
   },
   {
    "duration": 28,
    "start_time": "2022-12-14T17:16:53.528Z"
   },
   {
    "duration": 40,
    "start_time": "2022-12-14T17:16:59.971Z"
   },
   {
    "duration": 38,
    "start_time": "2022-12-14T17:17:08.098Z"
   },
   {
    "duration": 13,
    "start_time": "2022-12-14T17:17:33.786Z"
   },
   {
    "duration": 12,
    "start_time": "2022-12-14T17:17:38.335Z"
   },
   {
    "duration": 5,
    "start_time": "2022-12-14T17:17:52.163Z"
   },
   {
    "duration": 139,
    "start_time": "2022-12-14T17:17:52.170Z"
   },
   {
    "duration": 10,
    "start_time": "2022-12-14T17:17:52.311Z"
   },
   {
    "duration": 18,
    "start_time": "2022-12-14T17:17:52.323Z"
   },
   {
    "duration": 58,
    "start_time": "2022-12-14T17:17:52.343Z"
   },
   {
    "duration": 4,
    "start_time": "2022-12-14T17:17:52.403Z"
   },
   {
    "duration": 23,
    "start_time": "2022-12-14T17:17:52.409Z"
   },
   {
    "duration": 57,
    "start_time": "2022-12-14T17:17:52.434Z"
   },
   {
    "duration": 792,
    "start_time": "2022-12-14T17:17:52.493Z"
   },
   {
    "duration": 15,
    "start_time": "2022-12-14T17:17:53.286Z"
   },
   {
    "duration": 23,
    "start_time": "2022-12-14T17:17:53.303Z"
   },
   {
    "duration": 12,
    "start_time": "2022-12-14T17:21:06.113Z"
   },
   {
    "duration": 37,
    "start_time": "2022-12-14T17:21:11.882Z"
   },
   {
    "duration": 12,
    "start_time": "2022-12-14T17:21:12.699Z"
   },
   {
    "duration": 5,
    "start_time": "2022-12-14T17:21:19.266Z"
   },
   {
    "duration": 142,
    "start_time": "2022-12-14T17:21:19.275Z"
   },
   {
    "duration": 11,
    "start_time": "2022-12-14T17:21:19.419Z"
   },
   {
    "duration": 23,
    "start_time": "2022-12-14T17:21:19.435Z"
   },
   {
    "duration": 53,
    "start_time": "2022-12-14T17:21:19.459Z"
   },
   {
    "duration": 9,
    "start_time": "2022-12-14T17:21:19.515Z"
   },
   {
    "duration": 19,
    "start_time": "2022-12-14T17:21:19.526Z"
   },
   {
    "duration": 52,
    "start_time": "2022-12-14T17:21:19.547Z"
   },
   {
    "duration": 705,
    "start_time": "2022-12-14T17:21:19.600Z"
   },
   {
    "duration": 15,
    "start_time": "2022-12-14T17:21:20.306Z"
   },
   {
    "duration": 70,
    "start_time": "2022-12-14T17:21:20.322Z"
   },
   {
    "duration": 59,
    "start_time": "2022-12-14T17:21:20.394Z"
   },
   {
    "duration": 11,
    "start_time": "2022-12-14T17:21:20.454Z"
   },
   {
    "duration": 41,
    "start_time": "2022-12-14T17:21:20.467Z"
   },
   {
    "duration": 10,
    "start_time": "2022-12-14T17:21:20.511Z"
   },
   {
    "duration": 34,
    "start_time": "2022-12-14T17:21:20.522Z"
   },
   {
    "duration": 23,
    "start_time": "2022-12-14T17:21:20.557Z"
   },
   {
    "duration": 91,
    "start_time": "2022-12-14T17:21:20.582Z"
   },
   {
    "duration": 102,
    "start_time": "2022-12-14T17:21:20.675Z"
   },
   {
    "duration": 36,
    "start_time": "2022-12-14T17:21:20.779Z"
   },
   {
    "duration": 231,
    "start_time": "2022-12-14T17:21:20.816Z"
   },
   {
    "duration": 249,
    "start_time": "2022-12-14T17:21:21.049Z"
   },
   {
    "duration": 906,
    "start_time": "2022-12-14T17:21:21.300Z"
   },
   {
    "duration": 16,
    "start_time": "2022-12-14T17:21:22.208Z"
   },
   {
    "duration": 58,
    "start_time": "2022-12-14T17:21:22.236Z"
   },
   {
    "duration": 55,
    "start_time": "2022-12-14T17:21:22.296Z"
   },
   {
    "duration": 15,
    "start_time": "2022-12-14T17:21:22.352Z"
   },
   {
    "duration": 3593,
    "start_time": "2022-12-14T17:21:22.369Z"
   },
   {
    "duration": 2,
    "start_time": "2022-12-14T17:21:25.964Z"
   },
   {
    "duration": 31,
    "start_time": "2022-12-14T17:21:25.968Z"
   },
   {
    "duration": 2,
    "start_time": "2022-12-14T17:21:26.001Z"
   },
   {
    "duration": 19,
    "start_time": "2022-12-14T17:21:26.005Z"
   },
   {
    "duration": 31,
    "start_time": "2022-12-14T17:21:26.026Z"
   },
   {
    "duration": 19,
    "start_time": "2022-12-14T17:21:26.059Z"
   },
   {
    "duration": 21,
    "start_time": "2022-12-14T17:21:26.080Z"
   },
   {
    "duration": 331,
    "start_time": "2022-12-14T17:21:26.102Z"
   },
   {
    "duration": 24,
    "start_time": "2022-12-14T17:21:26.436Z"
   },
   {
    "duration": 12,
    "start_time": "2022-12-14T17:21:26.462Z"
   },
   {
    "duration": 9,
    "start_time": "2022-12-14T17:21:26.476Z"
   },
   {
    "duration": 327,
    "start_time": "2022-12-14T17:21:26.486Z"
   },
   {
    "duration": 25,
    "start_time": "2022-12-14T17:21:26.815Z"
   },
   {
    "duration": 22,
    "start_time": "2022-12-14T17:21:26.844Z"
   },
   {
    "duration": 18962,
    "start_time": "2022-12-14T17:21:26.868Z"
   },
   {
    "duration": 19,
    "start_time": "2022-12-14T17:21:45.835Z"
   },
   {
    "duration": 15,
    "start_time": "2022-12-14T17:21:45.856Z"
   },
   {
    "duration": 9,
    "start_time": "2022-12-14T17:21:45.874Z"
   },
   {
    "duration": 23,
    "start_time": "2022-12-14T17:21:45.885Z"
   },
   {
    "duration": 31,
    "start_time": "2022-12-14T17:21:45.911Z"
   },
   {
    "duration": 257,
    "start_time": "2022-12-14T17:21:45.944Z"
   },
   {
    "duration": 15650,
    "start_time": "2022-12-14T17:21:46.203Z"
   },
   {
    "duration": 19,
    "start_time": "2022-12-14T17:22:01.855Z"
   },
   {
    "duration": 66,
    "start_time": "2022-12-14T17:22:01.876Z"
   },
   {
    "duration": 101,
    "start_time": "2022-12-14T17:22:01.944Z"
   },
   {
    "duration": 33,
    "start_time": "2022-12-14T17:22:02.047Z"
   },
   {
    "duration": 35,
    "start_time": "2022-12-14T17:22:02.082Z"
   },
   {
    "duration": 154,
    "start_time": "2022-12-14T17:22:02.119Z"
   },
   {
    "duration": 34,
    "start_time": "2022-12-14T17:22:02.274Z"
   },
   {
    "duration": 44,
    "start_time": "2022-12-14T17:22:02.309Z"
   },
   {
    "duration": 17,
    "start_time": "2022-12-14T17:22:02.355Z"
   },
   {
    "duration": 38,
    "start_time": "2022-12-14T17:22:02.373Z"
   },
   {
    "duration": 29,
    "start_time": "2022-12-14T17:22:02.413Z"
   },
   {
    "duration": 50,
    "start_time": "2022-12-14T17:22:02.445Z"
   },
   {
    "duration": 63,
    "start_time": "2022-12-14T17:22:02.497Z"
   },
   {
    "duration": 33,
    "start_time": "2022-12-14T17:22:02.561Z"
   },
   {
    "duration": 5,
    "start_time": "2022-12-14T17:22:02.596Z"
   },
   {
    "duration": 43,
    "start_time": "2022-12-14T17:22:02.604Z"
   },
   {
    "duration": 42,
    "start_time": "2022-12-14T17:23:34.349Z"
   },
   {
    "duration": 11,
    "start_time": "2022-12-14T17:23:41.821Z"
   },
   {
    "duration": 4,
    "start_time": "2022-12-14T17:23:49.496Z"
   },
   {
    "duration": 137,
    "start_time": "2022-12-14T17:23:49.503Z"
   },
   {
    "duration": 9,
    "start_time": "2022-12-14T17:23:49.642Z"
   },
   {
    "duration": 15,
    "start_time": "2022-12-14T17:23:49.652Z"
   },
   {
    "duration": 35,
    "start_time": "2022-12-14T17:23:49.669Z"
   },
   {
    "duration": 3,
    "start_time": "2022-12-14T17:23:49.706Z"
   },
   {
    "duration": 29,
    "start_time": "2022-12-14T17:23:49.710Z"
   },
   {
    "duration": 45,
    "start_time": "2022-12-14T17:23:49.741Z"
   },
   {
    "duration": 637,
    "start_time": "2022-12-14T17:23:49.788Z"
   },
   {
    "duration": 18,
    "start_time": "2022-12-14T17:23:50.427Z"
   },
   {
    "duration": 12,
    "start_time": "2022-12-14T17:23:50.447Z"
   },
   {
    "duration": 41,
    "start_time": "2022-12-14T17:23:50.460Z"
   },
   {
    "duration": 32,
    "start_time": "2022-12-14T17:23:50.503Z"
   },
   {
    "duration": 4,
    "start_time": "2022-12-14T17:24:08.822Z"
   },
   {
    "duration": 142,
    "start_time": "2022-12-14T17:24:08.829Z"
   },
   {
    "duration": 10,
    "start_time": "2022-12-14T17:24:08.974Z"
   },
   {
    "duration": 22,
    "start_time": "2022-12-14T17:24:08.986Z"
   },
   {
    "duration": 38,
    "start_time": "2022-12-14T17:24:09.010Z"
   },
   {
    "duration": 3,
    "start_time": "2022-12-14T17:24:09.050Z"
   },
   {
    "duration": 32,
    "start_time": "2022-12-14T17:24:09.054Z"
   },
   {
    "duration": 52,
    "start_time": "2022-12-14T17:24:09.088Z"
   },
   {
    "duration": 696,
    "start_time": "2022-12-14T17:24:09.142Z"
   },
   {
    "duration": 15,
    "start_time": "2022-12-14T17:24:09.840Z"
   },
   {
    "duration": 21,
    "start_time": "2022-12-14T17:24:09.857Z"
   },
   {
    "duration": 56,
    "start_time": "2022-12-14T17:24:09.880Z"
   },
   {
    "duration": 12,
    "start_time": "2022-12-14T17:24:09.938Z"
   },
   {
    "duration": 16,
    "start_time": "2022-12-14T17:24:09.952Z"
   },
   {
    "duration": 23,
    "start_time": "2022-12-14T17:24:09.972Z"
   },
   {
    "duration": 43,
    "start_time": "2022-12-14T17:24:09.996Z"
   },
   {
    "duration": 95,
    "start_time": "2022-12-14T17:24:10.041Z"
   },
   {
    "duration": 81,
    "start_time": "2022-12-14T17:24:10.138Z"
   },
   {
    "duration": 46,
    "start_time": "2022-12-14T17:24:10.221Z"
   },
   {
    "duration": 224,
    "start_time": "2022-12-14T17:24:10.268Z"
   },
   {
    "duration": 229,
    "start_time": "2022-12-14T17:24:10.494Z"
   },
   {
    "duration": 825,
    "start_time": "2022-12-14T17:24:10.725Z"
   },
   {
    "duration": 16,
    "start_time": "2022-12-14T17:24:11.551Z"
   },
   {
    "duration": 68,
    "start_time": "2022-12-14T17:24:11.568Z"
   },
   {
    "duration": 38,
    "start_time": "2022-12-14T17:24:11.638Z"
   },
   {
    "duration": 15,
    "start_time": "2022-12-14T17:24:11.678Z"
   },
   {
    "duration": 3369,
    "start_time": "2022-12-14T17:24:11.695Z"
   },
   {
    "duration": 3,
    "start_time": "2022-12-14T17:24:15.065Z"
   },
   {
    "duration": 29,
    "start_time": "2022-12-14T17:24:15.069Z"
   },
   {
    "duration": 3,
    "start_time": "2022-12-14T17:24:15.099Z"
   },
   {
    "duration": 5,
    "start_time": "2022-12-14T17:24:15.104Z"
   },
   {
    "duration": 44,
    "start_time": "2022-12-14T17:24:15.110Z"
   },
   {
    "duration": 27,
    "start_time": "2022-12-14T17:24:15.156Z"
   },
   {
    "duration": 21,
    "start_time": "2022-12-14T17:24:15.185Z"
   },
   {
    "duration": 409,
    "start_time": "2022-12-14T17:24:15.207Z"
   },
   {
    "duration": 31,
    "start_time": "2022-12-14T17:24:15.617Z"
   },
   {
    "duration": 2,
    "start_time": "2022-12-14T17:24:15.650Z"
   },
   {
    "duration": 9,
    "start_time": "2022-12-14T17:24:15.654Z"
   },
   {
    "duration": 342,
    "start_time": "2022-12-14T17:24:15.665Z"
   },
   {
    "duration": 39,
    "start_time": "2022-12-14T17:24:16.009Z"
   },
   {
    "duration": 30,
    "start_time": "2022-12-14T17:24:16.051Z"
   },
   {
    "duration": 19460,
    "start_time": "2022-12-14T17:24:16.085Z"
   },
   {
    "duration": 20,
    "start_time": "2022-12-14T17:24:35.547Z"
   },
   {
    "duration": 17,
    "start_time": "2022-12-14T17:24:35.568Z"
   },
   {
    "duration": 5,
    "start_time": "2022-12-14T17:24:35.586Z"
   },
   {
    "duration": 9,
    "start_time": "2022-12-14T17:24:35.592Z"
   },
   {
    "duration": 35,
    "start_time": "2022-12-14T17:24:35.603Z"
   },
   {
    "duration": 209,
    "start_time": "2022-12-14T17:24:35.640Z"
   },
   {
    "duration": 14983,
    "start_time": "2022-12-14T17:24:35.850Z"
   },
   {
    "duration": 14,
    "start_time": "2022-12-14T17:24:50.835Z"
   },
   {
    "duration": 27,
    "start_time": "2022-12-14T17:24:50.850Z"
   },
   {
    "duration": 51,
    "start_time": "2022-12-14T17:24:50.879Z"
   },
   {
    "duration": 31,
    "start_time": "2022-12-14T17:24:50.932Z"
   },
   {
    "duration": 23,
    "start_time": "2022-12-14T17:24:50.965Z"
   },
   {
    "duration": 62,
    "start_time": "2022-12-14T17:24:50.990Z"
   },
   {
    "duration": 34,
    "start_time": "2022-12-14T17:24:51.054Z"
   },
   {
    "duration": 45,
    "start_time": "2022-12-14T17:24:51.090Z"
   },
   {
    "duration": 19,
    "start_time": "2022-12-14T17:24:51.137Z"
   },
   {
    "duration": 55,
    "start_time": "2022-12-14T17:24:51.158Z"
   },
   {
    "duration": 11,
    "start_time": "2022-12-14T17:24:51.215Z"
   },
   {
    "duration": 28,
    "start_time": "2022-12-14T17:24:51.228Z"
   },
   {
    "duration": 31,
    "start_time": "2022-12-14T17:24:51.258Z"
   },
   {
    "duration": 28,
    "start_time": "2022-12-14T17:24:51.292Z"
   },
   {
    "duration": 5,
    "start_time": "2022-12-14T17:24:51.322Z"
   },
   {
    "duration": 47,
    "start_time": "2022-12-14T17:24:51.328Z"
   },
   {
    "duration": 3,
    "start_time": "2022-12-14T18:40:01.682Z"
   },
   {
    "duration": 26,
    "start_time": "2022-12-14T18:40:22.677Z"
   },
   {
    "duration": 6,
    "start_time": "2022-12-14T18:41:40.956Z"
   },
   {
    "duration": 1256,
    "start_time": "2022-12-14T18:41:56.283Z"
   },
   {
    "duration": 126,
    "start_time": "2022-12-14T18:41:57.542Z"
   },
   {
    "duration": 12,
    "start_time": "2022-12-14T18:41:57.670Z"
   },
   {
    "duration": 20,
    "start_time": "2022-12-14T18:41:57.684Z"
   },
   {
    "duration": 39,
    "start_time": "2022-12-14T18:41:57.706Z"
   },
   {
    "duration": 3,
    "start_time": "2022-12-14T18:41:57.747Z"
   },
   {
    "duration": 14,
    "start_time": "2022-12-14T18:41:57.752Z"
   },
   {
    "duration": 49,
    "start_time": "2022-12-14T18:41:57.768Z"
   },
   {
    "duration": 625,
    "start_time": "2022-12-14T18:41:57.819Z"
   },
   {
    "duration": 14,
    "start_time": "2022-12-14T18:41:58.446Z"
   },
   {
    "duration": 16,
    "start_time": "2022-12-14T18:41:58.462Z"
   },
   {
    "duration": 53,
    "start_time": "2022-12-14T18:41:58.479Z"
   },
   {
    "duration": 5,
    "start_time": "2022-12-14T18:41:58.535Z"
   },
   {
    "duration": 52,
    "start_time": "2022-12-14T18:41:58.543Z"
   },
   {
    "duration": 33,
    "start_time": "2022-12-14T18:41:58.597Z"
   },
   {
    "duration": 385,
    "start_time": "2022-12-14T18:41:58.632Z"
   },
   {
    "duration": 225,
    "start_time": "2022-12-14T18:41:59.019Z"
   },
   {
    "duration": 39,
    "start_time": "2022-12-14T18:41:59.246Z"
   },
   {
    "duration": 224,
    "start_time": "2022-12-14T18:41:59.287Z"
   },
   {
    "duration": 232,
    "start_time": "2022-12-14T18:41:59.513Z"
   },
   {
    "duration": 818,
    "start_time": "2022-12-14T18:41:59.746Z"
   },
   {
    "duration": 15,
    "start_time": "2022-12-14T18:42:00.565Z"
   },
   {
    "duration": 65,
    "start_time": "2022-12-14T18:42:00.581Z"
   },
   {
    "duration": 38,
    "start_time": "2022-12-14T18:42:00.647Z"
   },
   {
    "duration": 14,
    "start_time": "2022-12-14T18:42:00.686Z"
   },
   {
    "duration": 3437,
    "start_time": "2022-12-14T18:42:00.701Z"
   },
   {
    "duration": 3,
    "start_time": "2022-12-14T18:42:04.139Z"
   },
   {
    "duration": 36,
    "start_time": "2022-12-14T18:42:04.143Z"
   },
   {
    "duration": 2,
    "start_time": "2022-12-14T18:42:04.181Z"
   },
   {
    "duration": 13,
    "start_time": "2022-12-14T18:42:04.185Z"
   },
   {
    "duration": 45,
    "start_time": "2022-12-14T18:42:04.200Z"
   },
   {
    "duration": 32,
    "start_time": "2022-12-14T18:42:04.247Z"
   },
   {
    "duration": 33,
    "start_time": "2022-12-14T18:42:04.281Z"
   },
   {
    "duration": 35,
    "start_time": "2022-12-14T18:42:04.316Z"
   },
   {
    "duration": 308,
    "start_time": "2022-12-14T18:42:04.353Z"
   },
   {
    "duration": 19,
    "start_time": "2022-12-14T18:42:04.663Z"
   },
   {
    "duration": 9,
    "start_time": "2022-12-14T18:42:04.684Z"
   },
   {
    "duration": 24,
    "start_time": "2022-12-14T18:42:04.695Z"
   },
   {
    "duration": 300,
    "start_time": "2022-12-14T18:42:04.721Z"
   },
   {
    "duration": 27,
    "start_time": "2022-12-14T18:42:05.023Z"
   },
   {
    "duration": 22,
    "start_time": "2022-12-14T18:42:05.055Z"
   },
   {
    "duration": 19513,
    "start_time": "2022-12-14T18:42:05.079Z"
   },
   {
    "duration": 19,
    "start_time": "2022-12-14T18:42:24.594Z"
   },
   {
    "duration": 31,
    "start_time": "2022-12-14T18:42:24.615Z"
   },
   {
    "duration": 11,
    "start_time": "2022-12-14T18:42:24.647Z"
   },
   {
    "duration": 25,
    "start_time": "2022-12-14T18:42:24.659Z"
   },
   {
    "duration": 12,
    "start_time": "2022-12-14T18:42:24.686Z"
   },
   {
    "duration": 221,
    "start_time": "2022-12-14T18:42:24.700Z"
   },
   {
    "duration": 15674,
    "start_time": "2022-12-14T18:42:24.922Z"
   },
   {
    "duration": 14,
    "start_time": "2022-12-14T18:42:40.598Z"
   },
   {
    "duration": 22,
    "start_time": "2022-12-14T18:42:40.614Z"
   },
   {
    "duration": 60,
    "start_time": "2022-12-14T18:42:40.638Z"
   },
   {
    "duration": 49,
    "start_time": "2022-12-14T18:42:40.700Z"
   },
   {
    "duration": 26,
    "start_time": "2022-12-14T18:42:40.751Z"
   },
   {
    "duration": 60,
    "start_time": "2022-12-14T18:42:40.778Z"
   },
   {
    "duration": 34,
    "start_time": "2022-12-14T18:42:40.840Z"
   },
   {
    "duration": 26,
    "start_time": "2022-12-14T18:42:40.876Z"
   },
   {
    "duration": 47,
    "start_time": "2022-12-14T18:42:40.904Z"
   },
   {
    "duration": 24,
    "start_time": "2022-12-14T18:42:40.953Z"
   },
   {
    "duration": 10,
    "start_time": "2022-12-14T18:42:40.979Z"
   },
   {
    "duration": 44,
    "start_time": "2022-12-14T18:42:40.991Z"
   },
   {
    "duration": 25,
    "start_time": "2022-12-14T18:42:41.037Z"
   },
   {
    "duration": 26,
    "start_time": "2022-12-14T18:42:41.064Z"
   },
   {
    "duration": 4,
    "start_time": "2022-12-14T18:42:41.092Z"
   },
   {
    "duration": 48,
    "start_time": "2022-12-14T18:42:41.097Z"
   },
   {
    "duration": 28,
    "start_time": "2022-12-14T18:49:11.530Z"
   },
   {
    "duration": 28,
    "start_time": "2022-12-14T18:50:11.541Z"
   },
   {
    "duration": 29,
    "start_time": "2022-12-14T18:50:23.584Z"
   },
   {
    "duration": 8,
    "start_time": "2022-12-14T18:50:29.353Z"
   },
   {
    "duration": 7,
    "start_time": "2022-12-14T18:50:44.746Z"
   },
   {
    "duration": 3,
    "start_time": "2022-12-14T18:51:04.346Z"
   },
   {
    "duration": 6,
    "start_time": "2022-12-14T18:51:14.036Z"
   },
   {
    "duration": 5,
    "start_time": "2022-12-14T18:51:24.526Z"
   },
   {
    "duration": 4,
    "start_time": "2022-12-14T18:51:34.377Z"
   },
   {
    "duration": 127,
    "start_time": "2022-12-14T18:51:34.409Z"
   },
   {
    "duration": 10,
    "start_time": "2022-12-14T18:51:34.538Z"
   },
   {
    "duration": 18,
    "start_time": "2022-12-14T18:51:34.550Z"
   },
   {
    "duration": 45,
    "start_time": "2022-12-14T18:51:34.570Z"
   },
   {
    "duration": 3,
    "start_time": "2022-12-14T18:51:34.617Z"
   },
   {
    "duration": 21,
    "start_time": "2022-12-14T18:51:34.622Z"
   },
   {
    "duration": 51,
    "start_time": "2022-12-14T18:51:34.645Z"
   },
   {
    "duration": 637,
    "start_time": "2022-12-14T18:51:34.698Z"
   },
   {
    "duration": 14,
    "start_time": "2022-12-14T18:51:35.336Z"
   },
   {
    "duration": 38,
    "start_time": "2022-12-14T18:51:35.352Z"
   },
   {
    "duration": 51,
    "start_time": "2022-12-14T18:51:35.392Z"
   },
   {
    "duration": 5,
    "start_time": "2022-12-14T18:51:35.444Z"
   },
   {
    "duration": 28,
    "start_time": "2022-12-14T18:51:35.451Z"
   },
   {
    "duration": 25,
    "start_time": "2022-12-14T18:51:35.482Z"
   },
   {
    "duration": 191,
    "start_time": "2022-12-14T18:51:35.509Z"
   },
   {
    "duration": 89,
    "start_time": "2022-12-14T18:51:35.702Z"
   },
   {
    "duration": 49,
    "start_time": "2022-12-14T18:51:35.793Z"
   },
   {
    "duration": 241,
    "start_time": "2022-12-14T18:51:35.844Z"
   },
   {
    "duration": 239,
    "start_time": "2022-12-14T18:51:36.088Z"
   },
   {
    "duration": 889,
    "start_time": "2022-12-14T18:51:36.335Z"
   },
   {
    "duration": 21,
    "start_time": "2022-12-14T18:51:37.226Z"
   },
   {
    "duration": 59,
    "start_time": "2022-12-14T18:51:37.249Z"
   },
   {
    "duration": 59,
    "start_time": "2022-12-14T18:51:37.310Z"
   },
   {
    "duration": 14,
    "start_time": "2022-12-14T18:51:37.371Z"
   },
   {
    "duration": 3274,
    "start_time": "2022-12-14T18:51:37.387Z"
   },
   {
    "duration": 2,
    "start_time": "2022-12-14T18:51:40.663Z"
   },
   {
    "duration": 30,
    "start_time": "2022-12-14T18:51:40.666Z"
   },
   {
    "duration": 10,
    "start_time": "2022-12-14T18:51:40.698Z"
   },
   {
    "duration": 15,
    "start_time": "2022-12-14T18:51:40.709Z"
   },
   {
    "duration": 31,
    "start_time": "2022-12-14T18:51:40.725Z"
   },
   {
    "duration": 15,
    "start_time": "2022-12-14T18:51:40.757Z"
   },
   {
    "duration": 8,
    "start_time": "2022-12-14T18:51:40.774Z"
   },
   {
    "duration": 15,
    "start_time": "2022-12-14T18:51:40.783Z"
   },
   {
    "duration": 4,
    "start_time": "2022-12-14T18:52:04.308Z"
   },
   {
    "duration": 138,
    "start_time": "2022-12-14T18:52:04.314Z"
   },
   {
    "duration": 10,
    "start_time": "2022-12-14T18:52:04.454Z"
   },
   {
    "duration": 19,
    "start_time": "2022-12-14T18:52:04.466Z"
   },
   {
    "duration": 46,
    "start_time": "2022-12-14T18:52:04.487Z"
   },
   {
    "duration": 3,
    "start_time": "2022-12-14T18:52:04.535Z"
   },
   {
    "duration": 21,
    "start_time": "2022-12-14T18:52:04.540Z"
   },
   {
    "duration": 56,
    "start_time": "2022-12-14T18:52:04.563Z"
   },
   {
    "duration": 625,
    "start_time": "2022-12-14T18:52:04.622Z"
   },
   {
    "duration": 14,
    "start_time": "2022-12-14T18:52:05.248Z"
   },
   {
    "duration": 26,
    "start_time": "2022-12-14T18:52:05.264Z"
   },
   {
    "duration": 49,
    "start_time": "2022-12-14T18:52:05.292Z"
   },
   {
    "duration": 5,
    "start_time": "2022-12-14T18:52:05.343Z"
   },
   {
    "duration": 36,
    "start_time": "2022-12-14T18:52:05.350Z"
   },
   {
    "duration": 22,
    "start_time": "2022-12-14T18:52:05.387Z"
   },
   {
    "duration": 94,
    "start_time": "2022-12-14T18:52:05.411Z"
   },
   {
    "duration": 98,
    "start_time": "2022-12-14T18:52:05.506Z"
   },
   {
    "duration": 50,
    "start_time": "2022-12-14T18:52:05.606Z"
   },
   {
    "duration": 218,
    "start_time": "2022-12-14T18:52:05.658Z"
   },
   {
    "duration": 241,
    "start_time": "2022-12-14T18:52:05.878Z"
   },
   {
    "duration": 904,
    "start_time": "2022-12-14T18:52:06.122Z"
   },
   {
    "duration": 19,
    "start_time": "2022-12-14T18:52:07.028Z"
   },
   {
    "duration": 93,
    "start_time": "2022-12-14T18:52:07.048Z"
   },
   {
    "duration": 38,
    "start_time": "2022-12-14T18:52:07.144Z"
   },
   {
    "duration": 19,
    "start_time": "2022-12-14T18:52:07.184Z"
   },
   {
    "duration": 3275,
    "start_time": "2022-12-14T18:52:07.205Z"
   },
   {
    "duration": 3,
    "start_time": "2022-12-14T18:52:10.481Z"
   },
   {
    "duration": 34,
    "start_time": "2022-12-14T18:52:10.486Z"
   },
   {
    "duration": 2,
    "start_time": "2022-12-14T18:52:10.521Z"
   },
   {
    "duration": 2,
    "start_time": "2022-12-14T18:52:10.535Z"
   },
   {
    "duration": 24,
    "start_time": "2022-12-14T18:52:10.538Z"
   },
   {
    "duration": 11,
    "start_time": "2022-12-14T18:52:10.564Z"
   },
   {
    "duration": 7,
    "start_time": "2022-12-14T18:52:10.577Z"
   },
   {
    "duration": 4,
    "start_time": "2022-12-14T18:52:20.499Z"
   },
   {
    "duration": 143,
    "start_time": "2022-12-14T18:52:20.505Z"
   },
   {
    "duration": 9,
    "start_time": "2022-12-14T18:52:20.650Z"
   },
   {
    "duration": 39,
    "start_time": "2022-12-14T18:52:20.661Z"
   },
   {
    "duration": 71,
    "start_time": "2022-12-14T18:52:20.702Z"
   },
   {
    "duration": 6,
    "start_time": "2022-12-14T18:52:20.775Z"
   },
   {
    "duration": 37,
    "start_time": "2022-12-14T18:52:20.782Z"
   },
   {
    "duration": 48,
    "start_time": "2022-12-14T18:52:20.820Z"
   },
   {
    "duration": 662,
    "start_time": "2022-12-14T18:52:20.870Z"
   },
   {
    "duration": 16,
    "start_time": "2022-12-14T18:52:21.535Z"
   },
   {
    "duration": 16,
    "start_time": "2022-12-14T18:52:21.553Z"
   },
   {
    "duration": 56,
    "start_time": "2022-12-14T18:52:21.571Z"
   },
   {
    "duration": 5,
    "start_time": "2022-12-14T18:52:21.635Z"
   },
   {
    "duration": 25,
    "start_time": "2022-12-14T18:52:21.644Z"
   },
   {
    "duration": 26,
    "start_time": "2022-12-14T18:52:21.670Z"
   },
   {
    "duration": 105,
    "start_time": "2022-12-14T18:52:21.698Z"
   },
   {
    "duration": 102,
    "start_time": "2022-12-14T18:52:21.805Z"
   },
   {
    "duration": 48,
    "start_time": "2022-12-14T18:52:21.909Z"
   },
   {
    "duration": 237,
    "start_time": "2022-12-14T18:52:21.958Z"
   },
   {
    "duration": 244,
    "start_time": "2022-12-14T18:52:22.197Z"
   },
   {
    "duration": 883,
    "start_time": "2022-12-14T18:52:22.443Z"
   },
   {
    "duration": 20,
    "start_time": "2022-12-14T18:52:23.328Z"
   },
   {
    "duration": 57,
    "start_time": "2022-12-14T18:52:23.350Z"
   },
   {
    "duration": 56,
    "start_time": "2022-12-14T18:52:23.409Z"
   },
   {
    "duration": 13,
    "start_time": "2022-12-14T18:52:23.468Z"
   },
   {
    "duration": 3543,
    "start_time": "2022-12-14T18:52:23.483Z"
   },
   {
    "duration": 2,
    "start_time": "2022-12-14T18:52:27.028Z"
   },
   {
    "duration": 35,
    "start_time": "2022-12-14T18:52:27.035Z"
   },
   {
    "duration": 2,
    "start_time": "2022-12-14T18:52:27.072Z"
   },
   {
    "duration": 7,
    "start_time": "2022-12-14T18:52:27.076Z"
   },
   {
    "duration": 34,
    "start_time": "2022-12-14T18:52:27.084Z"
   },
   {
    "duration": 16,
    "start_time": "2022-12-14T18:52:27.119Z"
   },
   {
    "duration": 15,
    "start_time": "2022-12-14T18:52:27.137Z"
   },
   {
    "duration": 26,
    "start_time": "2022-12-14T18:52:27.153Z"
   },
   {
    "duration": 14,
    "start_time": "2022-12-14T18:53:33.577Z"
   },
   {
    "duration": 25,
    "start_time": "2022-12-14T18:55:17.810Z"
   },
   {
    "duration": 7,
    "start_time": "2022-12-14T19:04:23.650Z"
   },
   {
    "duration": 40,
    "start_time": "2022-12-14T19:14:03.196Z"
   },
   {
    "duration": 64,
    "start_time": "2022-12-14T19:14:52.309Z"
   },
   {
    "duration": 24,
    "start_time": "2022-12-14T19:14:56.480Z"
   },
   {
    "duration": 4,
    "start_time": "2022-12-14T19:15:01.592Z"
   },
   {
    "duration": 150,
    "start_time": "2022-12-14T19:15:01.598Z"
   },
   {
    "duration": 10,
    "start_time": "2022-12-14T19:15:01.749Z"
   },
   {
    "duration": 27,
    "start_time": "2022-12-14T19:15:01.761Z"
   },
   {
    "duration": 58,
    "start_time": "2022-12-14T19:15:01.790Z"
   },
   {
    "duration": 3,
    "start_time": "2022-12-14T19:15:01.850Z"
   },
   {
    "duration": 29,
    "start_time": "2022-12-14T19:15:01.855Z"
   },
   {
    "duration": 52,
    "start_time": "2022-12-14T19:15:01.886Z"
   },
   {
    "duration": 652,
    "start_time": "2022-12-14T19:15:01.942Z"
   },
   {
    "duration": 22,
    "start_time": "2022-12-14T19:15:02.596Z"
   },
   {
    "duration": 31,
    "start_time": "2022-12-14T19:15:02.619Z"
   },
   {
    "duration": 76,
    "start_time": "2022-12-14T19:15:02.652Z"
   },
   {
    "duration": 6,
    "start_time": "2022-12-14T19:15:02.730Z"
   },
   {
    "duration": 40,
    "start_time": "2022-12-14T19:15:02.738Z"
   },
   {
    "duration": 25,
    "start_time": "2022-12-14T19:15:02.780Z"
   },
   {
    "duration": 110,
    "start_time": "2022-12-14T19:15:02.807Z"
   },
   {
    "duration": 85,
    "start_time": "2022-12-14T19:15:02.919Z"
   },
   {
    "duration": 49,
    "start_time": "2022-12-14T19:15:03.006Z"
   },
   {
    "duration": 206,
    "start_time": "2022-12-14T19:15:03.057Z"
   },
   {
    "duration": 240,
    "start_time": "2022-12-14T19:15:03.265Z"
   },
   {
    "duration": 807,
    "start_time": "2022-12-14T19:15:03.506Z"
   },
   {
    "duration": 22,
    "start_time": "2022-12-14T19:15:04.314Z"
   },
   {
    "duration": 53,
    "start_time": "2022-12-14T19:15:04.338Z"
   },
   {
    "duration": 57,
    "start_time": "2022-12-14T19:15:04.394Z"
   },
   {
    "duration": 14,
    "start_time": "2022-12-14T19:15:04.453Z"
   },
   {
    "duration": 3320,
    "start_time": "2022-12-14T19:15:04.469Z"
   },
   {
    "duration": 3,
    "start_time": "2022-12-14T19:15:07.792Z"
   },
   {
    "duration": 54,
    "start_time": "2022-12-14T19:15:07.797Z"
   },
   {
    "duration": 14,
    "start_time": "2022-12-14T19:15:07.852Z"
   },
   {
    "duration": 32,
    "start_time": "2022-12-14T19:15:07.867Z"
   },
   {
    "duration": 44,
    "start_time": "2022-12-14T19:15:07.901Z"
   },
   {
    "duration": 17,
    "start_time": "2022-12-14T19:15:07.947Z"
   },
   {
    "duration": 7,
    "start_time": "2022-12-14T19:15:07.966Z"
   },
   {
    "duration": 43,
    "start_time": "2022-12-14T19:15:07.975Z"
   },
   {
    "duration": 339,
    "start_time": "2022-12-14T19:15:08.020Z"
   },
   {
    "duration": 18,
    "start_time": "2022-12-14T19:15:08.361Z"
   },
   {
    "duration": 3,
    "start_time": "2022-12-14T19:15:08.380Z"
   },
   {
    "duration": 17,
    "start_time": "2022-12-14T19:15:08.384Z"
   },
   {
    "duration": 403,
    "start_time": "2022-12-14T19:15:08.403Z"
   },
   {
    "duration": 33,
    "start_time": "2022-12-14T19:15:08.808Z"
   },
   {
    "duration": 16,
    "start_time": "2022-12-14T19:21:49.076Z"
   },
   {
    "duration": 16,
    "start_time": "2022-12-14T19:21:51.284Z"
   },
   {
    "duration": 5,
    "start_time": "2022-12-14T19:22:05.982Z"
   },
   {
    "duration": 141,
    "start_time": "2022-12-14T19:22:05.989Z"
   },
   {
    "duration": 11,
    "start_time": "2022-12-14T19:22:06.132Z"
   },
   {
    "duration": 15,
    "start_time": "2022-12-14T19:22:06.147Z"
   },
   {
    "duration": 39,
    "start_time": "2022-12-14T19:22:06.164Z"
   },
   {
    "duration": 3,
    "start_time": "2022-12-14T19:22:06.204Z"
   },
   {
    "duration": 39,
    "start_time": "2022-12-14T19:22:06.209Z"
   },
   {
    "duration": 45,
    "start_time": "2022-12-14T19:22:06.251Z"
   },
   {
    "duration": 663,
    "start_time": "2022-12-14T19:22:06.297Z"
   },
   {
    "duration": 25,
    "start_time": "2022-12-14T19:22:06.962Z"
   },
   {
    "duration": 20,
    "start_time": "2022-12-14T19:22:06.989Z"
   },
   {
    "duration": 72,
    "start_time": "2022-12-14T19:22:07.011Z"
   },
   {
    "duration": 5,
    "start_time": "2022-12-14T19:22:07.085Z"
   },
   {
    "duration": 27,
    "start_time": "2022-12-14T19:22:07.092Z"
   },
   {
    "duration": 23,
    "start_time": "2022-12-14T19:22:07.136Z"
   },
   {
    "duration": 97,
    "start_time": "2022-12-14T19:22:07.161Z"
   },
   {
    "duration": 109,
    "start_time": "2022-12-14T19:22:07.262Z"
   },
   {
    "duration": 46,
    "start_time": "2022-12-14T19:22:07.373Z"
   },
   {
    "duration": 235,
    "start_time": "2022-12-14T19:22:07.420Z"
   },
   {
    "duration": 240,
    "start_time": "2022-12-14T19:22:07.657Z"
   },
   {
    "duration": 878,
    "start_time": "2022-12-14T19:22:07.898Z"
   },
   {
    "duration": 16,
    "start_time": "2022-12-14T19:22:08.778Z"
   },
   {
    "duration": 70,
    "start_time": "2022-12-14T19:22:08.796Z"
   },
   {
    "duration": 41,
    "start_time": "2022-12-14T19:22:08.868Z"
   },
   {
    "duration": 31,
    "start_time": "2022-12-14T19:22:08.910Z"
   },
   {
    "duration": 3341,
    "start_time": "2022-12-14T19:22:08.943Z"
   },
   {
    "duration": 3,
    "start_time": "2022-12-14T19:22:12.286Z"
   },
   {
    "duration": 54,
    "start_time": "2022-12-14T19:22:12.290Z"
   },
   {
    "duration": 3,
    "start_time": "2022-12-14T19:22:12.345Z"
   },
   {
    "duration": 10,
    "start_time": "2022-12-14T19:22:12.349Z"
   },
   {
    "duration": 24,
    "start_time": "2022-12-14T19:22:12.361Z"
   },
   {
    "duration": 24,
    "start_time": "2022-12-14T19:22:12.387Z"
   },
   {
    "duration": 19,
    "start_time": "2022-12-14T19:22:12.413Z"
   },
   {
    "duration": 40,
    "start_time": "2022-12-14T19:22:12.435Z"
   },
   {
    "duration": 374,
    "start_time": "2022-12-14T19:22:12.478Z"
   },
   {
    "duration": 19,
    "start_time": "2022-12-14T19:22:12.854Z"
   },
   {
    "duration": 3,
    "start_time": "2022-12-14T19:22:12.875Z"
   },
   {
    "duration": 13,
    "start_time": "2022-12-14T19:22:12.879Z"
   },
   {
    "duration": 305,
    "start_time": "2022-12-14T19:22:12.893Z"
   },
   {
    "duration": 35,
    "start_time": "2022-12-14T19:22:13.201Z"
   },
   {
    "duration": 23,
    "start_time": "2022-12-14T19:22:13.238Z"
   },
   {
    "duration": 19529,
    "start_time": "2022-12-14T19:22:13.263Z"
   },
   {
    "duration": 21,
    "start_time": "2022-12-14T19:22:32.793Z"
   },
   {
    "duration": 24,
    "start_time": "2022-12-14T19:22:32.818Z"
   },
   {
    "duration": 6,
    "start_time": "2022-12-14T19:27:58.453Z"
   },
   {
    "duration": 156,
    "start_time": "2022-12-14T19:27:58.461Z"
   },
   {
    "duration": 10,
    "start_time": "2022-12-14T19:27:58.619Z"
   },
   {
    "duration": 21,
    "start_time": "2022-12-14T19:27:58.630Z"
   },
   {
    "duration": 38,
    "start_time": "2022-12-14T19:27:58.653Z"
   },
   {
    "duration": 3,
    "start_time": "2022-12-14T19:27:58.693Z"
   },
   {
    "duration": 15,
    "start_time": "2022-12-14T19:27:58.698Z"
   },
   {
    "duration": 57,
    "start_time": "2022-12-14T19:27:58.715Z"
   },
   {
    "duration": 675,
    "start_time": "2022-12-14T19:27:58.773Z"
   },
   {
    "duration": 15,
    "start_time": "2022-12-14T19:27:59.450Z"
   },
   {
    "duration": 15,
    "start_time": "2022-12-14T19:27:59.466Z"
   },
   {
    "duration": 52,
    "start_time": "2022-12-14T19:27:59.483Z"
   },
   {
    "duration": 6,
    "start_time": "2022-12-14T19:27:59.537Z"
   },
   {
    "duration": 50,
    "start_time": "2022-12-14T19:27:59.546Z"
   },
   {
    "duration": 20,
    "start_time": "2022-12-14T19:27:59.598Z"
   },
   {
    "duration": 86,
    "start_time": "2022-12-14T19:27:59.620Z"
   },
   {
    "duration": 96,
    "start_time": "2022-12-14T19:27:59.708Z"
   },
   {
    "duration": 51,
    "start_time": "2022-12-14T19:27:59.806Z"
   },
   {
    "duration": 221,
    "start_time": "2022-12-14T19:27:59.859Z"
   },
   {
    "duration": 345,
    "start_time": "2022-12-14T19:28:00.082Z"
   },
   {
    "duration": 751,
    "start_time": "2022-12-14T19:28:00.429Z"
   },
   {
    "duration": 15,
    "start_time": "2022-12-14T19:28:01.182Z"
   },
   {
    "duration": 135,
    "start_time": "2022-12-14T19:28:01.198Z"
   },
   {
    "duration": 44,
    "start_time": "2022-12-14T19:28:01.335Z"
   },
   {
    "duration": 47,
    "start_time": "2022-12-14T19:28:01.384Z"
   },
   {
    "duration": 3781,
    "start_time": "2022-12-14T19:28:01.433Z"
   },
   {
    "duration": 4,
    "start_time": "2022-12-14T19:28:05.216Z"
   },
   {
    "duration": 58,
    "start_time": "2022-12-14T19:28:05.222Z"
   },
   {
    "duration": 4,
    "start_time": "2022-12-14T19:28:05.283Z"
   },
   {
    "duration": 14,
    "start_time": "2022-12-14T19:28:05.288Z"
   },
   {
    "duration": 31,
    "start_time": "2022-12-14T19:28:05.304Z"
   },
   {
    "duration": 15,
    "start_time": "2022-12-14T19:28:05.336Z"
   },
   {
    "duration": 8,
    "start_time": "2022-12-14T19:28:05.353Z"
   },
   {
    "duration": 30,
    "start_time": "2022-12-14T19:28:05.363Z"
   },
   {
    "duration": 334,
    "start_time": "2022-12-14T19:28:05.395Z"
   },
   {
    "duration": 19,
    "start_time": "2022-12-14T19:28:05.734Z"
   },
   {
    "duration": 4,
    "start_time": "2022-12-14T19:28:05.756Z"
   },
   {
    "duration": 11,
    "start_time": "2022-12-14T19:28:05.761Z"
   },
   {
    "duration": 297,
    "start_time": "2022-12-14T19:28:05.775Z"
   },
   {
    "duration": 24,
    "start_time": "2022-12-14T19:28:06.074Z"
   },
   {
    "duration": 40,
    "start_time": "2022-12-14T19:28:06.102Z"
   },
   {
    "duration": 19364,
    "start_time": "2022-12-14T19:28:06.144Z"
   },
   {
    "duration": 27,
    "start_time": "2022-12-14T19:28:25.509Z"
   },
   {
    "duration": 9,
    "start_time": "2022-12-14T19:28:25.537Z"
   },
   {
    "duration": 13,
    "start_time": "2022-12-14T19:28:25.547Z"
   },
   {
    "duration": 9,
    "start_time": "2022-12-14T19:28:25.561Z"
   },
   {
    "duration": 10,
    "start_time": "2022-12-14T19:28:25.571Z"
   },
   {
    "duration": 6,
    "start_time": "2022-12-14T19:28:25.584Z"
   },
   {
    "duration": 230,
    "start_time": "2022-12-14T19:30:12.921Z"
   },
   {
    "duration": 42,
    "start_time": "2022-12-14T19:30:20.427Z"
   },
   {
    "duration": 201,
    "start_time": "2022-12-14T19:30:28.916Z"
   },
   {
    "duration": 5,
    "start_time": "2022-12-14T19:30:46.255Z"
   },
   {
    "duration": 134,
    "start_time": "2022-12-14T19:30:46.262Z"
   },
   {
    "duration": 11,
    "start_time": "2022-12-14T19:30:46.399Z"
   },
   {
    "duration": 21,
    "start_time": "2022-12-14T19:30:46.412Z"
   },
   {
    "duration": 41,
    "start_time": "2022-12-14T19:30:46.435Z"
   },
   {
    "duration": 4,
    "start_time": "2022-12-14T19:30:46.478Z"
   },
   {
    "duration": 22,
    "start_time": "2022-12-14T19:30:46.483Z"
   },
   {
    "duration": 57,
    "start_time": "2022-12-14T19:30:46.507Z"
   },
   {
    "duration": 692,
    "start_time": "2022-12-14T19:30:46.566Z"
   },
   {
    "duration": 15,
    "start_time": "2022-12-14T19:30:47.259Z"
   },
   {
    "duration": 29,
    "start_time": "2022-12-14T19:30:47.277Z"
   },
   {
    "duration": 43,
    "start_time": "2022-12-14T19:30:47.310Z"
   },
   {
    "duration": 4,
    "start_time": "2022-12-14T19:30:47.356Z"
   },
   {
    "duration": 38,
    "start_time": "2022-12-14T19:30:47.362Z"
   },
   {
    "duration": 23,
    "start_time": "2022-12-14T19:30:47.401Z"
   },
   {
    "duration": 109,
    "start_time": "2022-12-14T19:30:47.426Z"
   },
   {
    "duration": 81,
    "start_time": "2022-12-14T19:30:47.537Z"
   },
   {
    "duration": 40,
    "start_time": "2022-12-14T19:30:47.635Z"
   },
   {
    "duration": 233,
    "start_time": "2022-12-14T19:30:47.677Z"
   },
   {
    "duration": 318,
    "start_time": "2022-12-14T19:30:47.912Z"
   },
   {
    "duration": 1073,
    "start_time": "2022-12-14T19:30:48.236Z"
   },
   {
    "duration": 16,
    "start_time": "2022-12-14T19:30:49.311Z"
   },
   {
    "duration": 58,
    "start_time": "2022-12-14T19:30:49.336Z"
   },
   {
    "duration": 51,
    "start_time": "2022-12-14T19:30:49.396Z"
   },
   {
    "duration": 17,
    "start_time": "2022-12-14T19:30:49.449Z"
   },
   {
    "duration": 3597,
    "start_time": "2022-12-14T19:30:49.467Z"
   },
   {
    "duration": 3,
    "start_time": "2022-12-14T19:30:53.066Z"
   },
   {
    "duration": 27,
    "start_time": "2022-12-14T19:30:53.070Z"
   },
   {
    "duration": 2,
    "start_time": "2022-12-14T19:30:53.101Z"
   },
   {
    "duration": 24,
    "start_time": "2022-12-14T19:30:53.105Z"
   },
   {
    "duration": 43,
    "start_time": "2022-12-14T19:30:53.131Z"
   },
   {
    "duration": 11,
    "start_time": "2022-12-14T19:30:53.176Z"
   },
   {
    "duration": 6,
    "start_time": "2022-12-14T19:30:53.189Z"
   },
   {
    "duration": 23,
    "start_time": "2022-12-14T19:30:53.197Z"
   },
   {
    "duration": 288,
    "start_time": "2022-12-14T19:30:53.222Z"
   },
   {
    "duration": 23,
    "start_time": "2022-12-14T19:30:53.513Z"
   },
   {
    "duration": 3,
    "start_time": "2022-12-14T19:30:53.537Z"
   },
   {
    "duration": 11,
    "start_time": "2022-12-14T19:30:53.542Z"
   },
   {
    "duration": 283,
    "start_time": "2022-12-14T19:30:53.554Z"
   },
   {
    "duration": 21,
    "start_time": "2022-12-14T19:30:53.839Z"
   },
   {
    "duration": 22,
    "start_time": "2022-12-14T19:30:53.862Z"
   },
   {
    "duration": 19454,
    "start_time": "2022-12-14T19:30:53.886Z"
   },
   {
    "duration": 21,
    "start_time": "2022-12-14T19:31:13.342Z"
   },
   {
    "duration": 9,
    "start_time": "2022-12-14T19:31:13.365Z"
   },
   {
    "duration": 23,
    "start_time": "2022-12-14T19:31:13.375Z"
   },
   {
    "duration": 5,
    "start_time": "2022-12-14T19:31:13.400Z"
   },
   {
    "duration": 34,
    "start_time": "2022-12-14T19:31:13.406Z"
   },
   {
    "duration": 27,
    "start_time": "2022-12-14T19:31:13.442Z"
   },
   {
    "duration": 225,
    "start_time": "2022-12-14T19:31:13.471Z"
   },
   {
    "duration": 318,
    "start_time": "2022-12-14T19:31:16.829Z"
   },
   {
    "duration": 12,
    "start_time": "2022-12-14T19:32:14.294Z"
   },
   {
    "duration": 4,
    "start_time": "2022-12-14T19:32:48.454Z"
   },
   {
    "duration": 135,
    "start_time": "2022-12-14T19:32:48.461Z"
   },
   {
    "duration": 11,
    "start_time": "2022-12-14T19:32:48.597Z"
   },
   {
    "duration": 15,
    "start_time": "2022-12-14T19:32:48.610Z"
   },
   {
    "duration": 47,
    "start_time": "2022-12-14T19:32:48.628Z"
   },
   {
    "duration": 4,
    "start_time": "2022-12-14T19:32:48.677Z"
   },
   {
    "duration": 13,
    "start_time": "2022-12-14T19:32:48.683Z"
   },
   {
    "duration": 51,
    "start_time": "2022-12-14T19:32:48.698Z"
   },
   {
    "duration": 704,
    "start_time": "2022-12-14T19:32:48.751Z"
   },
   {
    "duration": 14,
    "start_time": "2022-12-14T19:32:49.457Z"
   },
   {
    "duration": 20,
    "start_time": "2022-12-14T19:32:49.473Z"
   },
   {
    "duration": 50,
    "start_time": "2022-12-14T19:32:49.495Z"
   },
   {
    "duration": 10,
    "start_time": "2022-12-14T19:32:49.547Z"
   },
   {
    "duration": 27,
    "start_time": "2022-12-14T19:32:49.560Z"
   },
   {
    "duration": 21,
    "start_time": "2022-12-14T19:32:49.589Z"
   },
   {
    "duration": 106,
    "start_time": "2022-12-14T19:32:49.612Z"
   },
   {
    "duration": 93,
    "start_time": "2022-12-14T19:32:49.719Z"
   },
   {
    "duration": 49,
    "start_time": "2022-12-14T19:32:49.814Z"
   },
   {
    "duration": 229,
    "start_time": "2022-12-14T19:32:49.865Z"
   },
   {
    "duration": 239,
    "start_time": "2022-12-14T19:32:50.096Z"
   },
   {
    "duration": 879,
    "start_time": "2022-12-14T19:32:50.337Z"
   },
   {
    "duration": 21,
    "start_time": "2022-12-14T19:32:51.217Z"
   },
   {
    "duration": 57,
    "start_time": "2022-12-14T19:32:51.240Z"
   },
   {
    "duration": 55,
    "start_time": "2022-12-14T19:32:51.298Z"
   },
   {
    "duration": 14,
    "start_time": "2022-12-14T19:32:51.355Z"
   },
   {
    "duration": 3399,
    "start_time": "2022-12-14T19:32:51.371Z"
   },
   {
    "duration": 2,
    "start_time": "2022-12-14T19:32:54.772Z"
   },
   {
    "duration": 35,
    "start_time": "2022-12-14T19:32:54.776Z"
   },
   {
    "duration": 2,
    "start_time": "2022-12-14T19:32:54.813Z"
   },
   {
    "duration": 21,
    "start_time": "2022-12-14T19:32:54.817Z"
   },
   {
    "duration": 34,
    "start_time": "2022-12-14T19:32:54.840Z"
   },
   {
    "duration": 20,
    "start_time": "2022-12-14T19:32:54.876Z"
   },
   {
    "duration": 11,
    "start_time": "2022-12-14T19:32:54.897Z"
   },
   {
    "duration": 29,
    "start_time": "2022-12-14T19:32:54.909Z"
   },
   {
    "duration": 329,
    "start_time": "2022-12-14T19:32:54.940Z"
   },
   {
    "duration": 19,
    "start_time": "2022-12-14T19:32:55.271Z"
   },
   {
    "duration": 3,
    "start_time": "2022-12-14T19:32:55.291Z"
   },
   {
    "duration": 15,
    "start_time": "2022-12-14T19:32:55.296Z"
   },
   {
    "duration": 309,
    "start_time": "2022-12-14T19:32:55.313Z"
   },
   {
    "duration": 27,
    "start_time": "2022-12-14T19:32:55.624Z"
   },
   {
    "duration": 21,
    "start_time": "2022-12-14T19:32:55.655Z"
   },
   {
    "duration": 19201,
    "start_time": "2022-12-14T19:32:55.677Z"
   },
   {
    "duration": 19,
    "start_time": "2022-12-14T19:33:14.880Z"
   },
   {
    "duration": 10,
    "start_time": "2022-12-14T19:33:14.901Z"
   },
   {
    "duration": 34,
    "start_time": "2022-12-14T19:33:14.912Z"
   },
   {
    "duration": 6,
    "start_time": "2022-12-14T19:33:14.948Z"
   },
   {
    "duration": 24,
    "start_time": "2022-12-14T19:33:14.956Z"
   },
   {
    "duration": 21,
    "start_time": "2022-12-14T19:33:14.982Z"
   },
   {
    "duration": 344,
    "start_time": "2022-12-14T19:33:15.004Z"
   },
   {
    "duration": 12,
    "start_time": "2022-12-14T19:33:15.350Z"
   },
   {
    "duration": 62,
    "start_time": "2022-12-14T19:36:37.291Z"
   },
   {
    "duration": 4,
    "start_time": "2022-12-14T19:40:21.450Z"
   },
   {
    "duration": 126,
    "start_time": "2022-12-14T19:40:21.482Z"
   },
   {
    "duration": 11,
    "start_time": "2022-12-14T19:40:21.610Z"
   },
   {
    "duration": 14,
    "start_time": "2022-12-14T19:40:21.623Z"
   },
   {
    "duration": 51,
    "start_time": "2022-12-14T19:40:21.639Z"
   },
   {
    "duration": 3,
    "start_time": "2022-12-14T19:40:21.694Z"
   },
   {
    "duration": 25,
    "start_time": "2022-12-14T19:40:21.699Z"
   },
   {
    "duration": 53,
    "start_time": "2022-12-14T19:40:21.726Z"
   },
   {
    "duration": 693,
    "start_time": "2022-12-14T19:40:21.781Z"
   },
   {
    "duration": 22,
    "start_time": "2022-12-14T19:40:22.476Z"
   },
   {
    "duration": 18,
    "start_time": "2022-12-14T19:40:22.500Z"
   },
   {
    "duration": 60,
    "start_time": "2022-12-14T19:40:22.536Z"
   },
   {
    "duration": 7,
    "start_time": "2022-12-14T19:40:22.598Z"
   },
   {
    "duration": 48,
    "start_time": "2022-12-14T19:40:22.606Z"
   },
   {
    "duration": 26,
    "start_time": "2022-12-14T19:40:22.658Z"
   },
   {
    "duration": 100,
    "start_time": "2022-12-14T19:40:22.686Z"
   },
   {
    "duration": 91,
    "start_time": "2022-12-14T19:40:22.787Z"
   },
   {
    "duration": 36,
    "start_time": "2022-12-14T19:40:22.879Z"
   },
   {
    "duration": 218,
    "start_time": "2022-12-14T19:40:22.917Z"
   },
   {
    "duration": 225,
    "start_time": "2022-12-14T19:40:23.137Z"
   },
   {
    "duration": 859,
    "start_time": "2022-12-14T19:40:23.364Z"
   },
   {
    "duration": 17,
    "start_time": "2022-12-14T19:40:24.225Z"
   },
   {
    "duration": 49,
    "start_time": "2022-12-14T19:40:24.244Z"
   },
   {
    "duration": 56,
    "start_time": "2022-12-14T19:40:24.295Z"
   },
   {
    "duration": 14,
    "start_time": "2022-12-14T19:40:24.353Z"
   },
   {
    "duration": 3763,
    "start_time": "2022-12-14T19:40:24.369Z"
   },
   {
    "duration": 2,
    "start_time": "2022-12-14T19:40:28.134Z"
   },
   {
    "duration": 41,
    "start_time": "2022-12-14T19:40:28.138Z"
   },
   {
    "duration": 2,
    "start_time": "2022-12-14T19:40:28.181Z"
   },
   {
    "duration": 9,
    "start_time": "2022-12-14T19:40:28.185Z"
   },
   {
    "duration": 38,
    "start_time": "2022-12-14T19:40:28.195Z"
   },
   {
    "duration": 23,
    "start_time": "2022-12-14T19:40:28.235Z"
   },
   {
    "duration": 25,
    "start_time": "2022-12-14T19:40:28.260Z"
   },
   {
    "duration": 23,
    "start_time": "2022-12-14T19:40:28.286Z"
   },
   {
    "duration": 315,
    "start_time": "2022-12-14T19:40:28.311Z"
   },
   {
    "duration": 22,
    "start_time": "2022-12-14T19:40:28.628Z"
   },
   {
    "duration": 12,
    "start_time": "2022-12-14T19:40:28.652Z"
   },
   {
    "duration": 18,
    "start_time": "2022-12-14T19:40:28.666Z"
   },
   {
    "duration": 302,
    "start_time": "2022-12-14T19:40:28.686Z"
   },
   {
    "duration": 24,
    "start_time": "2022-12-14T19:40:28.990Z"
   },
   {
    "duration": 41,
    "start_time": "2022-12-14T19:40:29.016Z"
   },
   {
    "duration": 19422,
    "start_time": "2022-12-14T19:40:29.062Z"
   },
   {
    "duration": 20,
    "start_time": "2022-12-14T19:40:48.486Z"
   },
   {
    "duration": 34,
    "start_time": "2022-12-14T19:40:48.508Z"
   },
   {
    "duration": 13,
    "start_time": "2022-12-14T19:40:48.543Z"
   },
   {
    "duration": 9,
    "start_time": "2022-12-14T19:40:48.557Z"
   },
   {
    "duration": 17,
    "start_time": "2022-12-14T19:40:48.568Z"
   },
   {
    "duration": 8,
    "start_time": "2022-12-14T19:40:48.587Z"
   },
   {
    "duration": 317,
    "start_time": "2022-12-14T19:40:48.597Z"
   },
   {
    "duration": 21,
    "start_time": "2022-12-14T19:40:48.916Z"
   },
   {
    "duration": 16156,
    "start_time": "2022-12-14T19:40:48.939Z"
   },
   {
    "duration": 13,
    "start_time": "2022-12-14T19:41:05.097Z"
   },
   {
    "duration": 7,
    "start_time": "2022-12-14T19:41:05.111Z"
   },
   {
    "duration": 26,
    "start_time": "2022-12-14T19:42:45.226Z"
   },
   {
    "duration": 5,
    "start_time": "2022-12-14T19:47:10.786Z"
   },
   {
    "duration": 151,
    "start_time": "2022-12-14T19:47:10.793Z"
   },
   {
    "duration": 10,
    "start_time": "2022-12-14T19:47:11.036Z"
   },
   {
    "duration": 34,
    "start_time": "2022-12-14T19:47:11.048Z"
   },
   {
    "duration": 51,
    "start_time": "2022-12-14T19:47:11.084Z"
   },
   {
    "duration": 3,
    "start_time": "2022-12-14T19:47:12.060Z"
   },
   {
    "duration": 35,
    "start_time": "2022-12-14T19:47:12.065Z"
   },
   {
    "duration": 42,
    "start_time": "2022-12-14T19:47:12.102Z"
   },
   {
    "duration": 747,
    "start_time": "2022-12-14T19:47:12.145Z"
   },
   {
    "duration": 14,
    "start_time": "2022-12-14T19:47:12.894Z"
   },
   {
    "duration": 25,
    "start_time": "2022-12-14T19:47:12.910Z"
   },
   {
    "duration": 42,
    "start_time": "2022-12-14T19:47:12.937Z"
   },
   {
    "duration": 5,
    "start_time": "2022-12-14T19:47:12.981Z"
   },
   {
    "duration": 27,
    "start_time": "2022-12-14T19:47:12.988Z"
   },
   {
    "duration": 36,
    "start_time": "2022-12-14T19:47:13.017Z"
   },
   {
    "duration": 101,
    "start_time": "2022-12-14T19:47:13.055Z"
   },
   {
    "duration": 93,
    "start_time": "2022-12-14T19:47:13.158Z"
   },
   {
    "duration": 37,
    "start_time": "2022-12-14T19:47:13.253Z"
   },
   {
    "duration": 236,
    "start_time": "2022-12-14T19:47:13.294Z"
   },
   {
    "duration": 244,
    "start_time": "2022-12-14T19:47:13.531Z"
   },
   {
    "duration": 794,
    "start_time": "2022-12-14T19:47:13.778Z"
   },
   {
    "duration": 20,
    "start_time": "2022-12-14T19:47:14.574Z"
   },
   {
    "duration": 72,
    "start_time": "2022-12-14T19:47:14.596Z"
   },
   {
    "duration": 40,
    "start_time": "2022-12-14T19:47:14.670Z"
   },
   {
    "duration": 26,
    "start_time": "2022-12-14T19:47:14.712Z"
   },
   {
    "duration": 3752,
    "start_time": "2022-12-14T19:47:14.740Z"
   },
   {
    "duration": 2,
    "start_time": "2022-12-14T19:47:18.494Z"
   },
   {
    "duration": 28,
    "start_time": "2022-12-14T19:47:18.498Z"
   },
   {
    "duration": 7,
    "start_time": "2022-12-14T19:47:18.528Z"
   },
   {
    "duration": 13,
    "start_time": "2022-12-14T19:47:18.537Z"
   },
   {
    "duration": 26,
    "start_time": "2022-12-14T19:47:18.551Z"
   },
   {
    "duration": 17,
    "start_time": "2022-12-14T19:47:18.579Z"
   },
   {
    "duration": 7,
    "start_time": "2022-12-14T19:47:18.598Z"
   },
   {
    "duration": 43,
    "start_time": "2022-12-14T19:47:18.607Z"
   },
   {
    "duration": 318,
    "start_time": "2022-12-14T19:47:18.652Z"
   },
   {
    "duration": 19,
    "start_time": "2022-12-14T19:47:18.972Z"
   },
   {
    "duration": 6,
    "start_time": "2022-12-14T19:47:18.993Z"
   },
   {
    "duration": 10,
    "start_time": "2022-12-14T19:47:19.001Z"
   },
   {
    "duration": 340,
    "start_time": "2022-12-14T19:47:19.013Z"
   },
   {
    "duration": 30,
    "start_time": "2022-12-14T19:47:19.356Z"
   },
   {
    "duration": 25,
    "start_time": "2022-12-14T19:47:19.388Z"
   },
   {
    "duration": 19967,
    "start_time": "2022-12-14T19:47:19.435Z"
   },
   {
    "duration": 31,
    "start_time": "2022-12-14T19:47:39.404Z"
   },
   {
    "duration": 10,
    "start_time": "2022-12-14T19:47:39.437Z"
   },
   {
    "duration": 18,
    "start_time": "2022-12-14T19:47:39.448Z"
   },
   {
    "duration": 19,
    "start_time": "2022-12-14T19:47:39.471Z"
   },
   {
    "duration": 24,
    "start_time": "2022-12-14T19:47:39.492Z"
   },
   {
    "duration": 13,
    "start_time": "2022-12-14T19:47:39.518Z"
   },
   {
    "duration": 320,
    "start_time": "2022-12-14T19:47:39.533Z"
   },
   {
    "duration": 12,
    "start_time": "2022-12-14T19:47:39.855Z"
   },
   {
    "duration": 16497,
    "start_time": "2022-12-14T19:47:39.869Z"
   },
   {
    "duration": 15,
    "start_time": "2022-12-14T19:47:56.368Z"
   },
   {
    "duration": 11,
    "start_time": "2022-12-14T19:47:56.385Z"
   },
   {
    "duration": 79,
    "start_time": "2022-12-14T19:47:56.398Z"
   },
   {
    "duration": 35,
    "start_time": "2022-12-14T19:47:56.479Z"
   },
   {
    "duration": 39,
    "start_time": "2022-12-14T19:47:56.516Z"
   },
   {
    "duration": 37,
    "start_time": "2022-12-14T19:47:56.557Z"
   },
   {
    "duration": 44,
    "start_time": "2022-12-14T19:47:56.595Z"
   },
   {
    "duration": 25,
    "start_time": "2022-12-14T19:47:56.641Z"
   },
   {
    "duration": 21,
    "start_time": "2022-12-14T19:47:56.668Z"
   },
   {
    "duration": 53,
    "start_time": "2022-12-14T19:47:56.691Z"
   },
   {
    "duration": 10,
    "start_time": "2022-12-14T19:47:56.747Z"
   },
   {
    "duration": 22,
    "start_time": "2022-12-14T19:47:56.758Z"
   },
   {
    "duration": 30,
    "start_time": "2022-12-14T19:47:56.782Z"
   },
   {
    "duration": 45,
    "start_time": "2022-12-14T19:47:56.814Z"
   },
   {
    "duration": 3,
    "start_time": "2022-12-14T19:47:56.861Z"
   },
   {
    "duration": 22,
    "start_time": "2022-12-14T19:47:56.866Z"
   },
   {
    "duration": 265,
    "start_time": "2022-12-14T19:58:07.982Z"
   },
   {
    "duration": 203,
    "start_time": "2022-12-14T19:58:32.496Z"
   },
   {
    "duration": 238,
    "start_time": "2022-12-14T19:58:38.912Z"
   },
   {
    "duration": 249,
    "start_time": "2022-12-14T19:58:49.109Z"
   },
   {
    "duration": 225,
    "start_time": "2022-12-14T19:58:58.046Z"
   },
   {
    "duration": 6,
    "start_time": "2022-12-14T19:59:06.126Z"
   },
   {
    "duration": 238,
    "start_time": "2022-12-14T19:59:20.850Z"
   },
   {
    "duration": 227,
    "start_time": "2022-12-14T19:59:27.250Z"
   },
   {
    "duration": 259,
    "start_time": "2022-12-14T19:59:32.282Z"
   },
   {
    "duration": 1526,
    "start_time": "2022-12-15T05:24:44.961Z"
   },
   {
    "duration": 238,
    "start_time": "2022-12-15T05:24:46.489Z"
   },
   {
    "duration": 14,
    "start_time": "2022-12-15T05:24:46.728Z"
   },
   {
    "duration": 8,
    "start_time": "2022-12-15T05:24:46.744Z"
   },
   {
    "duration": 36,
    "start_time": "2022-12-15T05:24:46.754Z"
   },
   {
    "duration": 3,
    "start_time": "2022-12-15T05:24:46.791Z"
   },
   {
    "duration": 11,
    "start_time": "2022-12-15T05:24:46.795Z"
   },
   {
    "duration": 33,
    "start_time": "2022-12-15T05:24:46.808Z"
   },
   {
    "duration": 589,
    "start_time": "2022-12-15T05:24:46.842Z"
   },
   {
    "duration": 11,
    "start_time": "2022-12-15T05:24:47.432Z"
   },
   {
    "duration": 10,
    "start_time": "2022-12-15T05:24:47.445Z"
   },
   {
    "duration": 46,
    "start_time": "2022-12-15T05:24:47.456Z"
   },
   {
    "duration": 4,
    "start_time": "2022-12-15T05:24:47.504Z"
   },
   {
    "duration": 20,
    "start_time": "2022-12-15T05:24:47.510Z"
   },
   {
    "duration": 21,
    "start_time": "2022-12-15T05:24:47.531Z"
   },
   {
    "duration": 367,
    "start_time": "2022-12-15T05:24:47.554Z"
   },
   {
    "duration": 211,
    "start_time": "2022-12-15T05:24:47.923Z"
   },
   {
    "duration": 32,
    "start_time": "2022-12-15T05:24:48.136Z"
   },
   {
    "duration": 192,
    "start_time": "2022-12-15T05:24:48.178Z"
   },
   {
    "duration": 218,
    "start_time": "2022-12-15T05:24:48.371Z"
   },
   {
    "duration": 736,
    "start_time": "2022-12-15T05:24:48.591Z"
   },
   {
    "duration": 13,
    "start_time": "2022-12-15T05:24:49.328Z"
   },
   {
    "duration": 79,
    "start_time": "2022-12-15T05:24:49.342Z"
   },
   {
    "duration": 34,
    "start_time": "2022-12-15T05:24:49.423Z"
   },
   {
    "duration": 20,
    "start_time": "2022-12-15T05:24:49.459Z"
   },
   {
    "duration": 2975,
    "start_time": "2022-12-15T05:24:49.481Z"
   },
   {
    "duration": 2,
    "start_time": "2022-12-15T05:24:52.457Z"
   },
   {
    "duration": 36,
    "start_time": "2022-12-15T05:24:52.460Z"
   },
   {
    "duration": 2,
    "start_time": "2022-12-15T05:24:52.498Z"
   },
   {
    "duration": 15,
    "start_time": "2022-12-15T05:24:52.501Z"
   },
   {
    "duration": 22,
    "start_time": "2022-12-15T05:24:52.517Z"
   },
   {
    "duration": 12,
    "start_time": "2022-12-15T05:24:52.540Z"
   },
   {
    "duration": 13,
    "start_time": "2022-12-15T05:24:52.553Z"
   },
   {
    "duration": 27,
    "start_time": "2022-12-15T05:24:52.568Z"
   },
   {
    "duration": 269,
    "start_time": "2022-12-15T05:24:52.597Z"
   },
   {
    "duration": 20,
    "start_time": "2022-12-15T05:24:52.868Z"
   },
   {
    "duration": 2,
    "start_time": "2022-12-15T05:24:52.889Z"
   },
   {
    "duration": 7,
    "start_time": "2022-12-15T05:24:52.893Z"
   },
   {
    "duration": 254,
    "start_time": "2022-12-15T05:24:52.902Z"
   },
   {
    "duration": 27,
    "start_time": "2022-12-15T05:24:53.158Z"
   },
   {
    "duration": 19,
    "start_time": "2022-12-15T05:24:53.188Z"
   },
   {
    "duration": 15988,
    "start_time": "2022-12-15T05:24:53.209Z"
   },
   {
    "duration": 19,
    "start_time": "2022-12-15T05:25:09.198Z"
   },
   {
    "duration": 8,
    "start_time": "2022-12-15T05:25:09.218Z"
   },
   {
    "duration": 12,
    "start_time": "2022-12-15T05:25:09.227Z"
   },
   {
    "duration": 6,
    "start_time": "2022-12-15T05:25:09.240Z"
   },
   {
    "duration": 35,
    "start_time": "2022-12-15T05:25:09.247Z"
   },
   {
    "duration": 6,
    "start_time": "2022-12-15T05:25:09.283Z"
   },
   {
    "duration": 292,
    "start_time": "2022-12-15T05:25:09.291Z"
   },
   {
    "duration": 9,
    "start_time": "2022-12-15T05:25:09.585Z"
   },
   {
    "duration": 14114,
    "start_time": "2022-12-15T05:25:09.595Z"
   },
   {
    "duration": 14,
    "start_time": "2022-12-15T05:25:23.710Z"
   },
   {
    "duration": 6,
    "start_time": "2022-12-15T05:25:23.726Z"
   },
   {
    "duration": 95,
    "start_time": "2022-12-15T05:25:23.733Z"
   },
   {
    "duration": 29,
    "start_time": "2022-12-15T05:25:23.829Z"
   },
   {
    "duration": 21,
    "start_time": "2022-12-15T05:25:23.859Z"
   },
   {
    "duration": 44,
    "start_time": "2022-12-15T05:25:23.882Z"
   },
   {
    "duration": 31,
    "start_time": "2022-12-15T05:25:23.928Z"
   },
   {
    "duration": 34,
    "start_time": "2022-12-15T05:25:23.961Z"
   },
   {
    "duration": 17,
    "start_time": "2022-12-15T05:25:23.997Z"
   },
   {
    "duration": 20,
    "start_time": "2022-12-15T05:25:24.015Z"
   },
   {
    "duration": 8,
    "start_time": "2022-12-15T05:25:24.036Z"
   },
   {
    "duration": 43,
    "start_time": "2022-12-15T05:25:24.045Z"
   },
   {
    "duration": 21,
    "start_time": "2022-12-15T05:25:24.089Z"
   },
   {
    "duration": 22,
    "start_time": "2022-12-15T05:25:24.112Z"
   },
   {
    "duration": 3,
    "start_time": "2022-12-15T05:25:24.136Z"
   },
   {
    "duration": 41,
    "start_time": "2022-12-15T05:25:24.141Z"
   },
   {
    "duration": 299,
    "start_time": "2022-12-15T05:31:44.890Z"
   },
   {
    "duration": 165,
    "start_time": "2022-12-15T05:34:28.667Z"
   },
   {
    "duration": 12,
    "start_time": "2022-12-15T05:36:25.497Z"
   },
   {
    "duration": 24,
    "start_time": "2022-12-15T05:36:30.870Z"
   },
   {
    "duration": 5,
    "start_time": "2022-12-15T05:36:34.885Z"
   },
   {
    "duration": 141,
    "start_time": "2022-12-15T05:36:34.892Z"
   },
   {
    "duration": 12,
    "start_time": "2022-12-15T05:36:35.036Z"
   },
   {
    "duration": 13,
    "start_time": "2022-12-15T05:36:35.049Z"
   },
   {
    "duration": 51,
    "start_time": "2022-12-15T05:36:35.065Z"
   },
   {
    "duration": 3,
    "start_time": "2022-12-15T05:36:35.118Z"
   },
   {
    "duration": 15,
    "start_time": "2022-12-15T05:36:35.124Z"
   },
   {
    "duration": 57,
    "start_time": "2022-12-15T05:36:35.141Z"
   },
   {
    "duration": 687,
    "start_time": "2022-12-15T05:36:35.200Z"
   },
   {
    "duration": 13,
    "start_time": "2022-12-15T05:36:35.888Z"
   },
   {
    "duration": 13,
    "start_time": "2022-12-15T05:36:35.903Z"
   },
   {
    "duration": 41,
    "start_time": "2022-12-15T05:36:35.918Z"
   },
   {
    "duration": 6,
    "start_time": "2022-12-15T05:36:35.978Z"
   },
   {
    "duration": 25,
    "start_time": "2022-12-15T05:36:35.987Z"
   },
   {
    "duration": 23,
    "start_time": "2022-12-15T05:36:36.014Z"
   },
   {
    "duration": 108,
    "start_time": "2022-12-15T05:36:36.039Z"
   },
   {
    "duration": 90,
    "start_time": "2022-12-15T05:36:36.148Z"
   },
   {
    "duration": 47,
    "start_time": "2022-12-15T05:36:36.240Z"
   },
   {
    "duration": 209,
    "start_time": "2022-12-15T05:36:36.289Z"
   },
   {
    "duration": 307,
    "start_time": "2022-12-15T05:36:36.499Z"
   },
   {
    "duration": 649,
    "start_time": "2022-12-15T05:36:36.807Z"
   },
   {
    "duration": 22,
    "start_time": "2022-12-15T05:36:37.458Z"
   },
   {
    "duration": 72,
    "start_time": "2022-12-15T05:36:37.481Z"
   },
   {
    "duration": 36,
    "start_time": "2022-12-15T05:36:37.554Z"
   },
   {
    "duration": 17,
    "start_time": "2022-12-15T05:36:37.592Z"
   },
   {
    "duration": 3034,
    "start_time": "2022-12-15T05:36:37.611Z"
   },
   {
    "duration": 3,
    "start_time": "2022-12-15T05:36:40.646Z"
   },
   {
    "duration": 55,
    "start_time": "2022-12-15T05:36:40.651Z"
   },
   {
    "duration": 2,
    "start_time": "2022-12-15T05:36:40.710Z"
   },
   {
    "duration": 24,
    "start_time": "2022-12-15T05:36:40.713Z"
   },
   {
    "duration": 32,
    "start_time": "2022-12-15T05:36:40.739Z"
   },
   {
    "duration": 33,
    "start_time": "2022-12-15T05:36:40.772Z"
   },
   {
    "duration": 31,
    "start_time": "2022-12-15T05:36:40.807Z"
   },
   {
    "duration": 24,
    "start_time": "2022-12-15T05:36:40.839Z"
   },
   {
    "duration": 294,
    "start_time": "2022-12-15T05:36:40.864Z"
   },
   {
    "duration": 25,
    "start_time": "2022-12-15T05:36:41.160Z"
   },
   {
    "duration": 3,
    "start_time": "2022-12-15T05:36:41.186Z"
   },
   {
    "duration": 7,
    "start_time": "2022-12-15T05:36:41.190Z"
   },
   {
    "duration": 284,
    "start_time": "2022-12-15T05:36:41.199Z"
   },
   {
    "duration": 22,
    "start_time": "2022-12-15T05:36:41.484Z"
   },
   {
    "duration": 21,
    "start_time": "2022-12-15T05:36:41.507Z"
   },
   {
    "duration": 17341,
    "start_time": "2022-12-15T05:36:41.529Z"
   },
   {
    "duration": 23,
    "start_time": "2022-12-15T05:36:58.871Z"
   },
   {
    "duration": 9,
    "start_time": "2022-12-15T05:36:58.896Z"
   },
   {
    "duration": 12,
    "start_time": "2022-12-15T05:36:58.907Z"
   },
   {
    "duration": 7,
    "start_time": "2022-12-15T05:36:58.920Z"
   },
   {
    "duration": 16,
    "start_time": "2022-12-15T05:36:58.929Z"
   },
   {
    "duration": 36,
    "start_time": "2022-12-15T05:36:58.947Z"
   },
   {
    "duration": 299,
    "start_time": "2022-12-15T05:36:58.984Z"
   },
   {
    "duration": 10,
    "start_time": "2022-12-15T05:36:59.285Z"
   },
   {
    "duration": 16244,
    "start_time": "2022-12-15T05:36:59.297Z"
   },
   {
    "duration": 13,
    "start_time": "2022-12-15T05:37:15.543Z"
   },
   {
    "duration": 23,
    "start_time": "2022-12-15T05:37:15.558Z"
   },
   {
    "duration": 48,
    "start_time": "2022-12-15T05:37:15.582Z"
   },
   {
    "duration": 53,
    "start_time": "2022-12-15T05:37:15.631Z"
   },
   {
    "duration": 24,
    "start_time": "2022-12-15T05:37:15.685Z"
   },
   {
    "duration": 43,
    "start_time": "2022-12-15T05:37:15.712Z"
   },
   {
    "duration": 23,
    "start_time": "2022-12-15T05:37:15.804Z"
   },
   {
    "duration": 1227,
    "start_time": "2022-12-15T05:39:13.332Z"
   },
   {
    "duration": 10,
    "start_time": "2022-12-15T05:39:29.496Z"
   },
   {
    "duration": 5,
    "start_time": "2022-12-15T05:51:22.385Z"
   },
   {
    "duration": 80,
    "start_time": "2022-12-15T05:51:31.058Z"
   },
   {
    "duration": 5,
    "start_time": "2022-12-15T05:51:32.349Z"
   },
   {
    "duration": 14,
    "start_time": "2022-12-15T05:51:55.940Z"
   },
   {
    "duration": 21,
    "start_time": "2022-12-15T05:51:56.399Z"
   },
   {
    "duration": 24,
    "start_time": "2022-12-15T05:51:57.840Z"
   },
   {
    "duration": 3,
    "start_time": "2022-12-15T05:52:02.166Z"
   },
   {
    "duration": 5,
    "start_time": "2022-12-15T05:52:03.214Z"
   },
   {
    "duration": 3,
    "start_time": "2022-12-15T05:53:04.947Z"
   },
   {
    "duration": 7,
    "start_time": "2022-12-15T05:57:29.626Z"
   },
   {
    "duration": 7,
    "start_time": "2022-12-15T06:11:44.057Z"
   },
   {
    "duration": 5,
    "start_time": "2022-12-15T06:32:18.549Z"
   },
   {
    "duration": 91,
    "start_time": "2022-12-15T06:45:50.539Z"
   },
   {
    "duration": 1312,
    "start_time": "2022-12-15T07:17:57.055Z"
   },
   {
    "duration": 121,
    "start_time": "2022-12-15T07:17:58.369Z"
   },
   {
    "duration": 15,
    "start_time": "2022-12-15T07:17:58.492Z"
   },
   {
    "duration": 12,
    "start_time": "2022-12-15T07:17:58.509Z"
   },
   {
    "duration": 44,
    "start_time": "2022-12-15T07:17:58.524Z"
   },
   {
    "duration": 3,
    "start_time": "2022-12-15T07:17:58.579Z"
   },
   {
    "duration": 17,
    "start_time": "2022-12-15T07:17:58.584Z"
   },
   {
    "duration": 49,
    "start_time": "2022-12-15T07:17:58.603Z"
   },
   {
    "duration": 642,
    "start_time": "2022-12-15T07:17:58.654Z"
   },
   {
    "duration": 12,
    "start_time": "2022-12-15T07:17:59.298Z"
   },
   {
    "duration": 49,
    "start_time": "2022-12-15T07:17:59.312Z"
   },
   {
    "duration": 56,
    "start_time": "2022-12-15T07:17:59.363Z"
   },
   {
    "duration": 11,
    "start_time": "2022-12-15T07:17:59.421Z"
   },
   {
    "duration": 59,
    "start_time": "2022-12-15T07:17:59.434Z"
   },
   {
    "duration": 29,
    "start_time": "2022-12-15T07:17:59.495Z"
   },
   {
    "duration": 434,
    "start_time": "2022-12-15T07:17:59.526Z"
   },
   {
    "duration": 244,
    "start_time": "2022-12-15T07:17:59.962Z"
   },
   {
    "duration": 42,
    "start_time": "2022-12-15T07:18:00.208Z"
   },
   {
    "duration": 241,
    "start_time": "2022-12-15T07:18:00.253Z"
   },
   {
    "duration": 285,
    "start_time": "2022-12-15T07:18:00.496Z"
   },
   {
    "duration": 995,
    "start_time": "2022-12-15T07:18:00.783Z"
   },
   {
    "duration": 17,
    "start_time": "2022-12-15T07:18:01.779Z"
   },
   {
    "duration": 95,
    "start_time": "2022-12-15T07:18:01.798Z"
   },
   {
    "duration": 43,
    "start_time": "2022-12-15T07:18:01.895Z"
   },
   {
    "duration": 16,
    "start_time": "2022-12-15T07:18:01.940Z"
   },
   {
    "duration": 3354,
    "start_time": "2022-12-15T07:18:01.958Z"
   },
   {
    "duration": 3,
    "start_time": "2022-12-15T07:18:05.314Z"
   },
   {
    "duration": 104,
    "start_time": "2022-12-15T07:18:05.318Z"
   },
   {
    "duration": 42,
    "start_time": "2022-12-15T07:18:05.424Z"
   },
   {
    "duration": 29,
    "start_time": "2022-12-15T07:18:05.468Z"
   },
   {
    "duration": 79,
    "start_time": "2022-12-15T07:18:05.499Z"
   },
   {
    "duration": 66,
    "start_time": "2022-12-15T07:18:05.580Z"
   },
   {
    "duration": 51,
    "start_time": "2022-12-15T07:18:05.647Z"
   },
   {
    "duration": 69,
    "start_time": "2022-12-15T07:18:05.700Z"
   },
   {
    "duration": 435,
    "start_time": "2022-12-15T07:18:05.771Z"
   },
   {
    "duration": 76,
    "start_time": "2022-12-15T07:18:06.209Z"
   },
   {
    "duration": 2,
    "start_time": "2022-12-15T07:18:06.287Z"
   },
   {
    "duration": 45,
    "start_time": "2022-12-15T07:18:06.292Z"
   },
   {
    "duration": 358,
    "start_time": "2022-12-15T07:18:06.339Z"
   },
   {
    "duration": 24,
    "start_time": "2022-12-15T07:18:06.699Z"
   },
   {
    "duration": 74,
    "start_time": "2022-12-15T07:18:06.727Z"
   },
   {
    "duration": 17261,
    "start_time": "2022-12-15T07:18:06.803Z"
   },
   {
    "duration": 35,
    "start_time": "2022-12-15T07:18:24.067Z"
   },
   {
    "duration": 12,
    "start_time": "2022-12-15T07:18:24.104Z"
   },
   {
    "duration": 16,
    "start_time": "2022-12-15T07:18:24.118Z"
   },
   {
    "duration": 18,
    "start_time": "2022-12-15T07:18:24.136Z"
   },
   {
    "duration": 31,
    "start_time": "2022-12-15T07:18:24.156Z"
   },
   {
    "duration": 20,
    "start_time": "2022-12-15T07:18:24.189Z"
   },
   {
    "duration": 295,
    "start_time": "2022-12-15T07:18:24.211Z"
   },
   {
    "duration": 11,
    "start_time": "2022-12-15T07:18:24.507Z"
   },
   {
    "duration": 1243,
    "start_time": "2022-12-15T07:18:38.513Z"
   },
   {
    "duration": 119,
    "start_time": "2022-12-15T07:18:39.758Z"
   },
   {
    "duration": 13,
    "start_time": "2022-12-15T07:18:39.879Z"
   },
   {
    "duration": 8,
    "start_time": "2022-12-15T07:18:39.894Z"
   },
   {
    "duration": 37,
    "start_time": "2022-12-15T07:18:39.904Z"
   },
   {
    "duration": 4,
    "start_time": "2022-12-15T07:18:39.942Z"
   },
   {
    "duration": 39,
    "start_time": "2022-12-15T07:18:39.947Z"
   },
   {
    "duration": 36,
    "start_time": "2022-12-15T07:18:39.987Z"
   },
   {
    "duration": 612,
    "start_time": "2022-12-15T07:18:40.025Z"
   },
   {
    "duration": 11,
    "start_time": "2022-12-15T07:18:40.639Z"
   },
   {
    "duration": 12,
    "start_time": "2022-12-15T07:18:40.651Z"
   },
   {
    "duration": 34,
    "start_time": "2022-12-15T07:18:40.678Z"
   },
   {
    "duration": 4,
    "start_time": "2022-12-15T07:18:40.714Z"
   },
   {
    "duration": 22,
    "start_time": "2022-12-15T07:18:40.721Z"
   },
   {
    "duration": 53,
    "start_time": "2022-12-15T07:18:40.744Z"
   },
   {
    "duration": 372,
    "start_time": "2022-12-15T07:18:40.799Z"
   },
   {
    "duration": 233,
    "start_time": "2022-12-15T07:18:41.173Z"
   },
   {
    "duration": 37,
    "start_time": "2022-12-15T07:18:41.408Z"
   },
   {
    "duration": 234,
    "start_time": "2022-12-15T07:18:41.447Z"
   },
   {
    "duration": 255,
    "start_time": "2022-12-15T07:18:41.683Z"
   },
   {
    "duration": 851,
    "start_time": "2022-12-15T07:18:41.940Z"
   },
   {
    "duration": 14,
    "start_time": "2022-12-15T07:18:42.793Z"
   },
   {
    "duration": 72,
    "start_time": "2022-12-15T07:18:42.809Z"
   },
   {
    "duration": 41,
    "start_time": "2022-12-15T07:18:42.883Z"
   },
   {
    "duration": 16,
    "start_time": "2022-12-15T07:18:42.926Z"
   },
   {
    "duration": 3112,
    "start_time": "2022-12-15T07:18:42.944Z"
   },
   {
    "duration": 2,
    "start_time": "2022-12-15T07:18:46.058Z"
   },
   {
    "duration": 34,
    "start_time": "2022-12-15T07:18:46.062Z"
   },
   {
    "duration": 2,
    "start_time": "2022-12-15T07:18:46.097Z"
   },
   {
    "duration": 9,
    "start_time": "2022-12-15T07:18:46.101Z"
   },
   {
    "duration": 21,
    "start_time": "2022-12-15T07:18:46.112Z"
   },
   {
    "duration": 15,
    "start_time": "2022-12-15T07:18:46.135Z"
   },
   {
    "duration": 8,
    "start_time": "2022-12-15T07:18:46.152Z"
   },
   {
    "duration": 23,
    "start_time": "2022-12-15T07:18:46.179Z"
   },
   {
    "duration": 305,
    "start_time": "2022-12-15T07:18:46.203Z"
   },
   {
    "duration": 18,
    "start_time": "2022-12-15T07:18:46.509Z"
   },
   {
    "duration": 2,
    "start_time": "2022-12-15T07:18:46.529Z"
   },
   {
    "duration": 9,
    "start_time": "2022-12-15T07:18:46.533Z"
   },
   {
    "duration": 286,
    "start_time": "2022-12-15T07:18:46.544Z"
   },
   {
    "duration": 22,
    "start_time": "2022-12-15T07:18:46.832Z"
   },
   {
    "duration": 39,
    "start_time": "2022-12-15T07:18:46.857Z"
   },
   {
    "duration": 18240,
    "start_time": "2022-12-15T07:18:46.898Z"
   },
   {
    "duration": 24,
    "start_time": "2022-12-15T07:19:05.141Z"
   },
   {
    "duration": 19,
    "start_time": "2022-12-15T07:19:05.166Z"
   },
   {
    "duration": 13,
    "start_time": "2022-12-15T07:19:05.187Z"
   },
   {
    "duration": 4,
    "start_time": "2022-12-15T07:19:05.202Z"
   },
   {
    "duration": 12,
    "start_time": "2022-12-15T07:19:05.208Z"
   },
   {
    "duration": 14,
    "start_time": "2022-12-15T07:19:05.222Z"
   },
   {
    "duration": 352,
    "start_time": "2022-12-15T07:19:05.239Z"
   },
   {
    "duration": 13,
    "start_time": "2022-12-15T07:19:05.593Z"
   },
   {
    "duration": 16111,
    "start_time": "2022-12-15T07:19:05.609Z"
   },
   {
    "duration": 13,
    "start_time": "2022-12-15T07:19:21.722Z"
   },
   {
    "duration": 7,
    "start_time": "2022-12-15T07:19:21.737Z"
   },
   {
    "duration": 74,
    "start_time": "2022-12-15T07:19:21.745Z"
   },
   {
    "duration": 32,
    "start_time": "2022-12-15T07:19:21.821Z"
   },
   {
    "duration": 36,
    "start_time": "2022-12-15T07:19:21.855Z"
   },
   {
    "duration": 38,
    "start_time": "2022-12-15T07:19:21.893Z"
   },
   {
    "duration": 26,
    "start_time": "2022-12-15T07:19:21.932Z"
   },
   {
    "duration": 10,
    "start_time": "2022-12-15T07:19:21.977Z"
   },
   {
    "duration": 24,
    "start_time": "2022-12-15T07:19:21.988Z"
   },
   {
    "duration": 17,
    "start_time": "2022-12-15T07:19:22.014Z"
   },
   {
    "duration": 63,
    "start_time": "2022-12-15T07:19:22.033Z"
   },
   {
    "duration": 10,
    "start_time": "2022-12-15T07:19:22.097Z"
   },
   {
    "duration": 21,
    "start_time": "2022-12-15T07:19:22.109Z"
   },
   {
    "duration": 22,
    "start_time": "2022-12-15T07:19:22.131Z"
   },
   {
    "duration": 46,
    "start_time": "2022-12-15T07:19:22.154Z"
   },
   {
    "duration": 11,
    "start_time": "2022-12-15T07:19:22.202Z"
   },
   {
    "duration": 15,
    "start_time": "2022-12-15T07:19:22.215Z"
   },
   {
    "duration": 1543,
    "start_time": "2022-12-15T10:35:48.002Z"
   },
   {
    "duration": 237,
    "start_time": "2022-12-15T10:35:49.547Z"
   },
   {
    "duration": 15,
    "start_time": "2022-12-15T10:35:49.786Z"
   },
   {
    "duration": 9,
    "start_time": "2022-12-15T10:35:49.803Z"
   },
   {
    "duration": 53,
    "start_time": "2022-12-15T10:35:49.814Z"
   },
   {
    "duration": 3,
    "start_time": "2022-12-15T10:35:49.869Z"
   },
   {
    "duration": 20,
    "start_time": "2022-12-15T10:35:49.874Z"
   },
   {
    "duration": 51,
    "start_time": "2022-12-15T10:35:49.896Z"
   },
   {
    "duration": 803,
    "start_time": "2022-12-15T10:35:49.950Z"
   },
   {
    "duration": 15,
    "start_time": "2022-12-15T10:35:50.755Z"
   },
   {
    "duration": 62,
    "start_time": "2022-12-15T10:35:50.773Z"
   },
   {
    "duration": 74,
    "start_time": "2022-12-15T10:35:50.837Z"
   },
   {
    "duration": 55,
    "start_time": "2022-12-15T10:35:50.913Z"
   },
   {
    "duration": 42,
    "start_time": "2022-12-15T10:35:50.970Z"
   },
   {
    "duration": 44,
    "start_time": "2022-12-15T10:35:51.014Z"
   },
   {
    "duration": 418,
    "start_time": "2022-12-15T10:35:51.059Z"
   },
   {
    "duration": 226,
    "start_time": "2022-12-15T10:35:51.479Z"
   },
   {
    "duration": 52,
    "start_time": "2022-12-15T10:35:51.707Z"
   },
   {
    "duration": 232,
    "start_time": "2022-12-15T10:35:51.761Z"
   },
   {
    "duration": 229,
    "start_time": "2022-12-15T10:35:51.994Z"
   },
   {
    "duration": 798,
    "start_time": "2022-12-15T10:35:52.225Z"
   },
   {
    "duration": 18,
    "start_time": "2022-12-15T10:35:53.025Z"
   },
   {
    "duration": 64,
    "start_time": "2022-12-15T10:35:53.044Z"
   },
   {
    "duration": 52,
    "start_time": "2022-12-15T10:35:53.109Z"
   },
   {
    "duration": 16,
    "start_time": "2022-12-15T10:35:53.163Z"
   },
   {
    "duration": 3139,
    "start_time": "2022-12-15T10:35:53.181Z"
   },
   {
    "duration": 3,
    "start_time": "2022-12-15T10:35:56.321Z"
   },
   {
    "duration": 20,
    "start_time": "2022-12-15T10:35:56.337Z"
   },
   {
    "duration": 2,
    "start_time": "2022-12-15T10:35:56.359Z"
   },
   {
    "duration": 6,
    "start_time": "2022-12-15T10:35:56.363Z"
   },
   {
    "duration": 21,
    "start_time": "2022-12-15T10:35:56.370Z"
   },
   {
    "duration": 14,
    "start_time": "2022-12-15T10:35:56.393Z"
   },
   {
    "duration": 34,
    "start_time": "2022-12-15T10:35:56.410Z"
   },
   {
    "duration": 29,
    "start_time": "2022-12-15T10:35:56.446Z"
   },
   {
    "duration": 315,
    "start_time": "2022-12-15T10:35:56.477Z"
   },
   {
    "duration": 18,
    "start_time": "2022-12-15T10:35:56.794Z"
   },
   {
    "duration": 8,
    "start_time": "2022-12-15T10:35:56.814Z"
   },
   {
    "duration": 21,
    "start_time": "2022-12-15T10:35:56.824Z"
   },
   {
    "duration": 292,
    "start_time": "2022-12-15T10:35:56.847Z"
   },
   {
    "duration": 25,
    "start_time": "2022-12-15T10:35:57.141Z"
   },
   {
    "duration": 22,
    "start_time": "2022-12-15T10:35:57.168Z"
   },
   {
    "duration": 18721,
    "start_time": "2022-12-15T10:35:57.192Z"
   },
   {
    "duration": 30,
    "start_time": "2022-12-15T10:36:15.914Z"
   },
   {
    "duration": 8,
    "start_time": "2022-12-15T10:36:15.946Z"
   },
   {
    "duration": 11,
    "start_time": "2022-12-15T10:36:15.956Z"
   },
   {
    "duration": 6,
    "start_time": "2022-12-15T10:36:15.969Z"
   },
   {
    "duration": 14,
    "start_time": "2022-12-15T10:36:15.976Z"
   },
   {
    "duration": 10,
    "start_time": "2022-12-15T10:36:15.991Z"
   },
   {
    "duration": 328,
    "start_time": "2022-12-15T10:36:16.003Z"
   },
   {
    "duration": 13,
    "start_time": "2022-12-15T10:36:16.337Z"
   },
   {
    "duration": 15587,
    "start_time": "2022-12-15T10:36:16.352Z"
   },
   {
    "duration": 14,
    "start_time": "2022-12-15T10:36:31.940Z"
   },
   {
    "duration": 18,
    "start_time": "2022-12-15T10:36:31.956Z"
   },
   {
    "duration": 69,
    "start_time": "2022-12-15T10:36:31.976Z"
   },
   {
    "duration": 30,
    "start_time": "2022-12-15T10:36:32.046Z"
   },
   {
    "duration": 24,
    "start_time": "2022-12-15T10:36:32.078Z"
   },
   {
    "duration": 57,
    "start_time": "2022-12-15T10:36:32.104Z"
   },
   {
    "duration": 25,
    "start_time": "2022-12-15T10:36:32.163Z"
   },
   {
    "duration": 24,
    "start_time": "2022-12-15T10:36:32.189Z"
   },
   {
    "duration": 45,
    "start_time": "2022-12-15T10:36:32.214Z"
   },
   {
    "duration": 23,
    "start_time": "2022-12-15T10:36:32.261Z"
   },
   {
    "duration": 20,
    "start_time": "2022-12-15T10:36:32.286Z"
   },
   {
    "duration": 8,
    "start_time": "2022-12-15T10:36:32.308Z"
   },
   {
    "duration": 31,
    "start_time": "2022-12-15T10:36:32.318Z"
   },
   {
    "duration": 21,
    "start_time": "2022-12-15T10:36:32.351Z"
   },
   {
    "duration": 23,
    "start_time": "2022-12-15T10:36:32.373Z"
   },
   {
    "duration": 11,
    "start_time": "2022-12-15T10:36:32.397Z"
   },
   {
    "duration": 31,
    "start_time": "2022-12-15T10:36:32.410Z"
   },
   {
    "duration": 1269,
    "start_time": "2022-12-15T10:41:37.588Z"
   },
   {
    "duration": 24,
    "start_time": "2022-12-15T10:50:09.227Z"
   },
   {
    "duration": 21,
    "start_time": "2022-12-15T10:50:37.601Z"
   },
   {
    "duration": 20,
    "start_time": "2022-12-15T10:50:51.014Z"
   },
   {
    "duration": 31,
    "start_time": "2022-12-15T10:51:04.862Z"
   },
   {
    "duration": 34,
    "start_time": "2022-12-15T10:51:23.820Z"
   },
   {
    "duration": 36,
    "start_time": "2022-12-15T10:51:29.172Z"
   },
   {
    "duration": 9,
    "start_time": "2022-12-15T10:53:53.982Z"
   },
   {
    "duration": 8,
    "start_time": "2022-12-15T10:56:04.747Z"
   },
   {
    "duration": 17,
    "start_time": "2022-12-15T10:56:40.566Z"
   },
   {
    "duration": 28,
    "start_time": "2022-12-15T10:56:54.344Z"
   },
   {
    "duration": 9,
    "start_time": "2022-12-15T10:56:54.853Z"
   },
   {
    "duration": 20,
    "start_time": "2022-12-15T11:53:25.114Z"
   },
   {
    "duration": 755,
    "start_time": "2022-12-15T11:53:47.030Z"
   },
   {
    "duration": 12,
    "start_time": "2022-12-15T17:01:44.765Z"
   },
   {
    "duration": 1575,
    "start_time": "2022-12-15T18:53:52.419Z"
   },
   {
    "duration": 260,
    "start_time": "2022-12-15T18:53:53.996Z"
   },
   {
    "duration": 17,
    "start_time": "2022-12-15T18:53:54.258Z"
   },
   {
    "duration": 39,
    "start_time": "2022-12-15T18:53:54.277Z"
   },
   {
    "duration": 63,
    "start_time": "2022-12-15T18:53:54.318Z"
   },
   {
    "duration": 3,
    "start_time": "2022-12-15T18:53:54.383Z"
   },
   {
    "duration": 30,
    "start_time": "2022-12-15T18:53:54.389Z"
   },
   {
    "duration": 38,
    "start_time": "2022-12-15T18:53:54.421Z"
   },
   {
    "duration": 637,
    "start_time": "2022-12-15T18:53:54.461Z"
   },
   {
    "duration": 14,
    "start_time": "2022-12-15T18:53:55.101Z"
   },
   {
    "duration": 15,
    "start_time": "2022-12-15T18:53:55.116Z"
   },
   {
    "duration": 36,
    "start_time": "2022-12-15T18:53:55.133Z"
   },
   {
    "duration": 35,
    "start_time": "2022-12-15T18:53:55.171Z"
   },
   {
    "duration": 22,
    "start_time": "2022-12-15T18:53:55.208Z"
   },
   {
    "duration": 21,
    "start_time": "2022-12-15T18:53:55.232Z"
   },
   {
    "duration": 450,
    "start_time": "2022-12-15T18:53:55.255Z"
   },
   {
    "duration": 286,
    "start_time": "2022-12-15T18:53:55.707Z"
   },
   {
    "duration": 41,
    "start_time": "2022-12-15T18:53:55.995Z"
   },
   {
    "duration": 249,
    "start_time": "2022-12-15T18:53:56.038Z"
   },
   {
    "duration": 249,
    "start_time": "2022-12-15T18:53:56.290Z"
   },
   {
    "duration": 778,
    "start_time": "2022-12-15T18:53:56.541Z"
   },
   {
    "duration": 14,
    "start_time": "2022-12-15T18:53:57.321Z"
   },
   {
    "duration": 68,
    "start_time": "2022-12-15T18:53:57.337Z"
   },
   {
    "duration": 35,
    "start_time": "2022-12-15T18:53:57.407Z"
   },
   {
    "duration": 14,
    "start_time": "2022-12-15T18:53:57.444Z"
   },
   {
    "duration": 3285,
    "start_time": "2022-12-15T18:53:57.459Z"
   },
   {
    "duration": 3,
    "start_time": "2022-12-15T18:54:00.745Z"
   },
   {
    "duration": 52,
    "start_time": "2022-12-15T18:54:00.752Z"
   },
   {
    "duration": 17,
    "start_time": "2022-12-15T18:54:00.805Z"
   },
   {
    "duration": 32,
    "start_time": "2022-12-15T18:54:00.823Z"
   },
   {
    "duration": 45,
    "start_time": "2022-12-15T18:54:00.857Z"
   },
   {
    "duration": 40,
    "start_time": "2022-12-15T18:54:00.904Z"
   },
   {
    "duration": 19,
    "start_time": "2022-12-15T18:54:00.945Z"
   },
   {
    "duration": 41,
    "start_time": "2022-12-15T18:54:00.966Z"
   },
   {
    "duration": 351,
    "start_time": "2022-12-15T18:54:01.008Z"
   },
   {
    "duration": 18,
    "start_time": "2022-12-15T18:54:01.361Z"
   },
   {
    "duration": 2,
    "start_time": "2022-12-15T18:54:01.381Z"
   },
   {
    "duration": 13,
    "start_time": "2022-12-15T18:54:01.404Z"
   },
   {
    "duration": 288,
    "start_time": "2022-12-15T18:54:01.419Z"
   },
   {
    "duration": 24,
    "start_time": "2022-12-15T18:54:01.708Z"
   },
   {
    "duration": 21,
    "start_time": "2022-12-15T18:54:01.733Z"
   },
   {
    "duration": 18694,
    "start_time": "2022-12-15T18:54:01.756Z"
   },
   {
    "duration": 24,
    "start_time": "2022-12-15T18:54:20.452Z"
   },
   {
    "duration": 30,
    "start_time": "2022-12-15T18:54:20.478Z"
   },
   {
    "duration": 14,
    "start_time": "2022-12-15T18:54:20.510Z"
   },
   {
    "duration": 15,
    "start_time": "2022-12-15T18:54:20.526Z"
   },
   {
    "duration": 34,
    "start_time": "2022-12-15T18:54:20.543Z"
   },
   {
    "duration": 40,
    "start_time": "2022-12-15T18:54:20.579Z"
   },
   {
    "duration": 351,
    "start_time": "2022-12-15T18:54:20.621Z"
   },
   {
    "duration": 10,
    "start_time": "2022-12-15T18:54:20.974Z"
   },
   {
    "duration": 15821,
    "start_time": "2022-12-15T18:54:20.985Z"
   },
   {
    "duration": 14,
    "start_time": "2022-12-15T18:54:36.807Z"
   },
   {
    "duration": 9,
    "start_time": "2022-12-15T18:54:36.823Z"
   },
   {
    "duration": 109,
    "start_time": "2022-12-15T18:54:36.835Z"
   },
   {
    "duration": 31,
    "start_time": "2022-12-15T18:54:36.946Z"
   },
   {
    "duration": 40,
    "start_time": "2022-12-15T18:54:36.979Z"
   },
   {
    "duration": 39,
    "start_time": "2022-12-15T18:54:37.021Z"
   },
   {
    "duration": 46,
    "start_time": "2022-12-15T18:54:37.061Z"
   },
   {
    "duration": 9,
    "start_time": "2022-12-15T18:54:37.109Z"
   },
   {
    "duration": 23,
    "start_time": "2022-12-15T18:54:37.120Z"
   },
   {
    "duration": 27,
    "start_time": "2022-12-15T18:54:37.145Z"
   },
   {
    "duration": 54,
    "start_time": "2022-12-15T18:54:37.174Z"
   },
   {
    "duration": 8,
    "start_time": "2022-12-15T18:54:37.230Z"
   },
   {
    "duration": 22,
    "start_time": "2022-12-15T18:54:37.240Z"
   },
   {
    "duration": 47,
    "start_time": "2022-12-15T18:54:37.264Z"
   },
   {
    "duration": 27,
    "start_time": "2022-12-15T18:54:37.313Z"
   },
   {
    "duration": 7,
    "start_time": "2022-12-15T18:54:37.342Z"
   },
   {
    "duration": 10,
    "start_time": "2022-12-15T18:54:37.350Z"
   },
   {
    "duration": 47,
    "start_time": "2022-12-15T18:54:37.361Z"
   },
   {
    "duration": 849,
    "start_time": "2022-12-15T18:54:37.410Z"
   },
   {
    "duration": 108,
    "start_time": "2022-12-15T18:55:54.836Z"
   },
   {
    "duration": 1564,
    "start_time": "2022-12-16T05:48:35.198Z"
   },
   {
    "duration": 587,
    "start_time": "2022-12-16T05:48:36.765Z"
   },
   {
    "duration": 14,
    "start_time": "2022-12-16T05:48:37.353Z"
   },
   {
    "duration": 35,
    "start_time": "2022-12-16T05:48:37.369Z"
   },
   {
    "duration": 70,
    "start_time": "2022-12-16T05:48:37.405Z"
   },
   {
    "duration": 3,
    "start_time": "2022-12-16T05:48:37.477Z"
   },
   {
    "duration": 48,
    "start_time": "2022-12-16T05:48:37.481Z"
   },
   {
    "duration": 48,
    "start_time": "2022-12-16T05:48:37.531Z"
   },
   {
    "duration": 682,
    "start_time": "2022-12-16T05:48:37.581Z"
   },
   {
    "duration": 11,
    "start_time": "2022-12-16T05:48:38.266Z"
   },
   {
    "duration": 15,
    "start_time": "2022-12-16T05:48:38.279Z"
   },
   {
    "duration": 56,
    "start_time": "2022-12-16T05:48:38.296Z"
   },
   {
    "duration": 5,
    "start_time": "2022-12-16T05:48:38.353Z"
   },
   {
    "duration": 27,
    "start_time": "2022-12-16T05:48:38.359Z"
   },
   {
    "duration": 39,
    "start_time": "2022-12-16T05:48:38.387Z"
   },
   {
    "duration": 391,
    "start_time": "2022-12-16T05:48:38.428Z"
   },
   {
    "duration": 245,
    "start_time": "2022-12-16T05:48:38.822Z"
   },
   {
    "duration": 55,
    "start_time": "2022-12-16T05:48:39.069Z"
   },
   {
    "duration": 234,
    "start_time": "2022-12-16T05:48:39.126Z"
   },
   {
    "duration": 230,
    "start_time": "2022-12-16T05:48:39.362Z"
   },
   {
    "duration": 849,
    "start_time": "2022-12-16T05:48:39.594Z"
   },
   {
    "duration": 15,
    "start_time": "2022-12-16T05:48:40.444Z"
   },
   {
    "duration": 76,
    "start_time": "2022-12-16T05:48:40.461Z"
   },
   {
    "duration": 37,
    "start_time": "2022-12-16T05:48:40.539Z"
   },
   {
    "duration": 15,
    "start_time": "2022-12-16T05:48:40.578Z"
   },
   {
    "duration": 3406,
    "start_time": "2022-12-16T05:48:40.612Z"
   },
   {
    "duration": 3,
    "start_time": "2022-12-16T05:48:44.024Z"
   },
   {
    "duration": 33,
    "start_time": "2022-12-16T05:48:44.031Z"
   },
   {
    "duration": 3,
    "start_time": "2022-12-16T05:48:44.065Z"
   },
   {
    "duration": 33,
    "start_time": "2022-12-16T05:48:44.069Z"
   },
   {
    "duration": 34,
    "start_time": "2022-12-16T05:48:44.104Z"
   },
   {
    "duration": 15,
    "start_time": "2022-12-16T05:48:44.140Z"
   },
   {
    "duration": 9,
    "start_time": "2022-12-16T05:48:44.157Z"
   },
   {
    "duration": 49,
    "start_time": "2022-12-16T05:48:44.179Z"
   },
   {
    "duration": 349,
    "start_time": "2022-12-16T05:48:44.231Z"
   },
   {
    "duration": 18,
    "start_time": "2022-12-16T05:48:44.581Z"
   },
   {
    "duration": 7,
    "start_time": "2022-12-16T05:48:44.600Z"
   },
   {
    "duration": 31,
    "start_time": "2022-12-16T05:48:44.609Z"
   },
   {
    "duration": 313,
    "start_time": "2022-12-16T05:48:44.641Z"
   },
   {
    "duration": 20,
    "start_time": "2022-12-16T05:48:44.956Z"
   },
   {
    "duration": 21,
    "start_time": "2022-12-16T05:48:44.977Z"
   },
   {
    "duration": 19709,
    "start_time": "2022-12-16T05:48:45.000Z"
   },
   {
    "duration": 27,
    "start_time": "2022-12-16T05:49:04.710Z"
   },
   {
    "duration": 20,
    "start_time": "2022-12-16T05:49:04.739Z"
   },
   {
    "duration": 17,
    "start_time": "2022-12-16T05:49:04.761Z"
   },
   {
    "duration": 10,
    "start_time": "2022-12-16T05:49:04.780Z"
   },
   {
    "duration": 23,
    "start_time": "2022-12-16T05:49:04.792Z"
   },
   {
    "duration": 29,
    "start_time": "2022-12-16T05:49:04.817Z"
   },
   {
    "duration": 365,
    "start_time": "2022-12-16T05:49:04.848Z"
   },
   {
    "duration": 16,
    "start_time": "2022-12-16T05:49:05.219Z"
   },
   {
    "duration": 16665,
    "start_time": "2022-12-16T05:49:05.237Z"
   },
   {
    "duration": 25,
    "start_time": "2022-12-16T05:49:21.904Z"
   },
   {
    "duration": 26,
    "start_time": "2022-12-16T05:49:21.931Z"
   },
   {
    "duration": 72,
    "start_time": "2022-12-16T05:49:21.959Z"
   },
   {
    "duration": 34,
    "start_time": "2022-12-16T05:49:22.033Z"
   },
   {
    "duration": 70,
    "start_time": "2022-12-16T05:49:22.068Z"
   },
   {
    "duration": 64,
    "start_time": "2022-12-16T05:49:22.140Z"
   },
   {
    "duration": 30,
    "start_time": "2022-12-16T05:49:22.205Z"
   },
   {
    "duration": 19,
    "start_time": "2022-12-16T05:49:22.237Z"
   },
   {
    "duration": 32,
    "start_time": "2022-12-16T05:49:22.258Z"
   },
   {
    "duration": 40,
    "start_time": "2022-12-16T05:49:22.293Z"
   },
   {
    "duration": 24,
    "start_time": "2022-12-16T05:49:22.334Z"
   },
   {
    "duration": 8,
    "start_time": "2022-12-16T05:49:22.360Z"
   },
   {
    "duration": 22,
    "start_time": "2022-12-16T05:49:22.370Z"
   },
   {
    "duration": 45,
    "start_time": "2022-12-16T05:49:22.394Z"
   },
   {
    "duration": 25,
    "start_time": "2022-12-16T05:49:22.441Z"
   },
   {
    "duration": 11,
    "start_time": "2022-12-16T05:49:22.468Z"
   },
   {
    "duration": 22,
    "start_time": "2022-12-16T05:49:22.481Z"
   },
   {
    "duration": 37,
    "start_time": "2022-12-16T05:49:22.505Z"
   },
   {
    "duration": 611,
    "start_time": "2022-12-16T05:49:22.543Z"
   },
   {
    "duration": 780,
    "start_time": "2022-12-16T06:03:48.344Z"
   },
   {
    "duration": 706,
    "start_time": "2022-12-16T06:04:48.467Z"
   },
   {
    "duration": 143,
    "start_time": "2022-12-16T06:04:49.175Z"
   },
   {
    "duration": 188,
    "start_time": "2022-12-16T06:05:10.313Z"
   },
   {
    "duration": 688,
    "start_time": "2022-12-16T06:05:24.662Z"
   },
   {
    "duration": 117,
    "start_time": "2022-12-16T06:05:25.352Z"
   },
   {
    "duration": 1391,
    "start_time": "2022-12-16T06:06:19.046Z"
   },
   {
    "duration": 123,
    "start_time": "2022-12-16T06:06:20.439Z"
   },
   {
    "duration": 14,
    "start_time": "2022-12-16T06:06:20.564Z"
   },
   {
    "duration": 9,
    "start_time": "2022-12-16T06:06:20.580Z"
   },
   {
    "duration": 52,
    "start_time": "2022-12-16T06:06:20.590Z"
   },
   {
    "duration": 4,
    "start_time": "2022-12-16T06:06:20.644Z"
   },
   {
    "duration": 13,
    "start_time": "2022-12-16T06:06:20.650Z"
   },
   {
    "duration": 60,
    "start_time": "2022-12-16T06:06:20.665Z"
   },
   {
    "duration": 717,
    "start_time": "2022-12-16T06:06:20.727Z"
   },
   {
    "duration": 12,
    "start_time": "2022-12-16T06:06:21.446Z"
   },
   {
    "duration": 10,
    "start_time": "2022-12-16T06:06:21.459Z"
   },
   {
    "duration": 61,
    "start_time": "2022-12-16T06:06:21.471Z"
   },
   {
    "duration": 5,
    "start_time": "2022-12-16T06:06:21.534Z"
   },
   {
    "duration": 22,
    "start_time": "2022-12-16T06:06:21.541Z"
   },
   {
    "duration": 57,
    "start_time": "2022-12-16T06:06:21.565Z"
   },
   {
    "duration": 433,
    "start_time": "2022-12-16T06:06:21.624Z"
   },
   {
    "duration": 268,
    "start_time": "2022-12-16T06:06:22.059Z"
   },
   {
    "duration": 46,
    "start_time": "2022-12-16T06:06:22.329Z"
   },
   {
    "duration": 254,
    "start_time": "2022-12-16T06:06:22.377Z"
   },
   {
    "duration": 242,
    "start_time": "2022-12-16T06:06:22.633Z"
   },
   {
    "duration": 959,
    "start_time": "2022-12-16T06:06:22.877Z"
   },
   {
    "duration": 16,
    "start_time": "2022-12-16T06:06:23.837Z"
   },
   {
    "duration": 72,
    "start_time": "2022-12-16T06:06:23.855Z"
   },
   {
    "duration": 41,
    "start_time": "2022-12-16T06:06:23.928Z"
   },
   {
    "duration": 15,
    "start_time": "2022-12-16T06:06:23.971Z"
   },
   {
    "duration": 3883,
    "start_time": "2022-12-16T06:06:24.013Z"
   },
   {
    "duration": 2,
    "start_time": "2022-12-16T06:06:27.898Z"
   },
   {
    "duration": 35,
    "start_time": "2022-12-16T06:06:27.911Z"
   },
   {
    "duration": 2,
    "start_time": "2022-12-16T06:06:27.948Z"
   },
   {
    "duration": 6,
    "start_time": "2022-12-16T06:06:27.952Z"
   },
   {
    "duration": 19,
    "start_time": "2022-12-16T06:06:27.959Z"
   },
   {
    "duration": 12,
    "start_time": "2022-12-16T06:06:27.980Z"
   },
   {
    "duration": 29,
    "start_time": "2022-12-16T06:06:27.993Z"
   },
   {
    "duration": 29,
    "start_time": "2022-12-16T06:06:28.023Z"
   },
   {
    "duration": 314,
    "start_time": "2022-12-16T06:06:28.053Z"
   },
   {
    "duration": 20,
    "start_time": "2022-12-16T06:06:28.369Z"
   },
   {
    "duration": 2,
    "start_time": "2022-12-16T06:06:28.391Z"
   },
   {
    "duration": 28,
    "start_time": "2022-12-16T06:06:28.395Z"
   },
   {
    "duration": 316,
    "start_time": "2022-12-16T06:06:28.425Z"
   },
   {
    "duration": 22,
    "start_time": "2022-12-16T06:06:28.743Z"
   },
   {
    "duration": 22,
    "start_time": "2022-12-16T06:06:28.766Z"
   },
   {
    "duration": 19301,
    "start_time": "2022-12-16T06:06:28.790Z"
   },
   {
    "duration": 36,
    "start_time": "2022-12-16T06:06:48.093Z"
   },
   {
    "duration": 10,
    "start_time": "2022-12-16T06:06:48.131Z"
   },
   {
    "duration": 11,
    "start_time": "2022-12-16T06:06:48.143Z"
   },
   {
    "duration": 4,
    "start_time": "2022-12-16T06:06:48.156Z"
   },
   {
    "duration": 15,
    "start_time": "2022-12-16T06:06:48.162Z"
   },
   {
    "duration": 9,
    "start_time": "2022-12-16T06:06:48.179Z"
   },
   {
    "duration": 368,
    "start_time": "2022-12-16T06:06:48.191Z"
   },
   {
    "duration": 14,
    "start_time": "2022-12-16T06:06:48.561Z"
   },
   {
    "duration": 16180,
    "start_time": "2022-12-16T06:06:48.576Z"
   },
   {
    "duration": 12,
    "start_time": "2022-12-16T06:07:04.758Z"
   },
   {
    "duration": 9,
    "start_time": "2022-12-16T06:07:04.772Z"
   },
   {
    "duration": 69,
    "start_time": "2022-12-16T06:07:04.783Z"
   },
   {
    "duration": 33,
    "start_time": "2022-12-16T06:07:04.853Z"
   },
   {
    "duration": 45,
    "start_time": "2022-12-16T06:07:04.888Z"
   },
   {
    "duration": 37,
    "start_time": "2022-12-16T06:07:04.935Z"
   },
   {
    "duration": 21,
    "start_time": "2022-12-16T06:07:04.974Z"
   },
   {
    "duration": 35,
    "start_time": "2022-12-16T06:07:04.996Z"
   },
   {
    "duration": 23,
    "start_time": "2022-12-16T06:07:05.032Z"
   },
   {
    "duration": 16,
    "start_time": "2022-12-16T06:07:05.057Z"
   },
   {
    "duration": 43,
    "start_time": "2022-12-16T06:07:05.075Z"
   },
   {
    "duration": 9,
    "start_time": "2022-12-16T06:07:05.124Z"
   },
   {
    "duration": 17,
    "start_time": "2022-12-16T06:07:05.135Z"
   },
   {
    "duration": 23,
    "start_time": "2022-12-16T06:07:05.153Z"
   },
   {
    "duration": 49,
    "start_time": "2022-12-16T06:07:05.178Z"
   },
   {
    "duration": 8,
    "start_time": "2022-12-16T06:07:05.229Z"
   },
   {
    "duration": 12,
    "start_time": "2022-12-16T06:07:05.238Z"
   },
   {
    "duration": 23,
    "start_time": "2022-12-16T06:07:05.251Z"
   },
   {
    "duration": 683,
    "start_time": "2022-12-16T06:07:05.276Z"
   },
   {
    "duration": 222,
    "start_time": "2022-12-16T06:07:05.961Z"
   },
   {
    "duration": 1590,
    "start_time": "2022-12-18T09:24:37.486Z"
   },
   {
    "duration": 549,
    "start_time": "2022-12-18T09:24:39.078Z"
   },
   {
    "duration": 16,
    "start_time": "2022-12-18T09:24:39.629Z"
   },
   {
    "duration": 8,
    "start_time": "2022-12-18T09:24:39.647Z"
   },
   {
    "duration": 36,
    "start_time": "2022-12-18T09:24:39.657Z"
   },
   {
    "duration": 3,
    "start_time": "2022-12-18T09:24:39.695Z"
   },
   {
    "duration": 18,
    "start_time": "2022-12-18T09:24:39.700Z"
   },
   {
    "duration": 36,
    "start_time": "2022-12-18T09:24:39.720Z"
   },
   {
    "duration": 732,
    "start_time": "2022-12-18T09:24:39.757Z"
   },
   {
    "duration": 21,
    "start_time": "2022-12-18T09:24:40.492Z"
   },
   {
    "duration": 11,
    "start_time": "2022-12-18T09:24:40.514Z"
   },
   {
    "duration": 46,
    "start_time": "2022-12-18T09:24:40.527Z"
   },
   {
    "duration": 5,
    "start_time": "2022-12-18T09:24:40.574Z"
   },
   {
    "duration": 45,
    "start_time": "2022-12-18T09:24:40.581Z"
   },
   {
    "duration": 24,
    "start_time": "2022-12-18T09:24:40.628Z"
   },
   {
    "duration": 473,
    "start_time": "2022-12-18T09:24:40.654Z"
   },
   {
    "duration": 253,
    "start_time": "2022-12-18T09:24:41.129Z"
   },
   {
    "duration": 49,
    "start_time": "2022-12-18T09:24:41.384Z"
   },
   {
    "duration": 215,
    "start_time": "2022-12-18T09:24:41.435Z"
   },
   {
    "duration": 280,
    "start_time": "2022-12-18T09:24:41.652Z"
   },
   {
    "duration": 972,
    "start_time": "2022-12-18T09:24:41.934Z"
   },
   {
    "duration": 16,
    "start_time": "2022-12-18T09:24:42.908Z"
   },
   {
    "duration": 63,
    "start_time": "2022-12-18T09:24:42.925Z"
   },
   {
    "duration": 56,
    "start_time": "2022-12-18T09:24:42.989Z"
   },
   {
    "duration": 16,
    "start_time": "2022-12-18T09:24:43.047Z"
   },
   {
    "duration": 3315,
    "start_time": "2022-12-18T09:24:43.065Z"
   },
   {
    "duration": 2,
    "start_time": "2022-12-18T09:24:46.382Z"
   },
   {
    "duration": 31,
    "start_time": "2022-12-18T09:24:46.388Z"
   },
   {
    "duration": 3,
    "start_time": "2022-12-18T09:24:46.420Z"
   },
   {
    "duration": 7,
    "start_time": "2022-12-18T09:24:46.424Z"
   },
   {
    "duration": 19,
    "start_time": "2022-12-18T09:24:46.432Z"
   },
   {
    "duration": 12,
    "start_time": "2022-12-18T09:24:46.453Z"
   },
   {
    "duration": 7,
    "start_time": "2022-12-18T09:24:46.467Z"
   },
   {
    "duration": 57,
    "start_time": "2022-12-18T09:24:46.475Z"
   },
   {
    "duration": 395,
    "start_time": "2022-12-18T09:24:46.534Z"
   },
   {
    "duration": 18,
    "start_time": "2022-12-18T09:24:46.931Z"
   },
   {
    "duration": 2,
    "start_time": "2022-12-18T09:24:46.951Z"
   },
   {
    "duration": 9,
    "start_time": "2022-12-18T09:24:46.955Z"
   },
   {
    "duration": 297,
    "start_time": "2022-12-18T09:24:46.966Z"
   },
   {
    "duration": 22,
    "start_time": "2022-12-18T09:24:47.265Z"
   },
   {
    "duration": 35,
    "start_time": "2022-12-18T09:24:47.289Z"
   },
   {
    "duration": 17840,
    "start_time": "2022-12-18T09:24:47.326Z"
   },
   {
    "duration": 22,
    "start_time": "2022-12-18T09:25:05.168Z"
   },
   {
    "duration": 24,
    "start_time": "2022-12-18T09:25:05.191Z"
   },
   {
    "duration": 14,
    "start_time": "2022-12-18T09:25:05.217Z"
   },
   {
    "duration": 5,
    "start_time": "2022-12-18T09:25:05.233Z"
   },
   {
    "duration": 13,
    "start_time": "2022-12-18T09:25:05.240Z"
   },
   {
    "duration": 8,
    "start_time": "2022-12-18T09:25:05.255Z"
   },
   {
    "duration": 364,
    "start_time": "2022-12-18T09:25:05.265Z"
   },
   {
    "duration": 12,
    "start_time": "2022-12-18T09:25:05.631Z"
   },
   {
    "duration": 16783,
    "start_time": "2022-12-18T09:25:05.646Z"
   },
   {
    "duration": 14,
    "start_time": "2022-12-18T09:25:22.431Z"
   },
   {
    "duration": 9,
    "start_time": "2022-12-18T09:25:22.448Z"
   },
   {
    "duration": 83,
    "start_time": "2022-12-18T09:25:22.459Z"
   },
   {
    "duration": 40,
    "start_time": "2022-12-18T09:25:22.544Z"
   },
   {
    "duration": 47,
    "start_time": "2022-12-18T09:25:22.585Z"
   },
   {
    "duration": 44,
    "start_time": "2022-12-18T09:25:22.634Z"
   },
   {
    "duration": 46,
    "start_time": "2022-12-18T09:25:22.680Z"
   },
   {
    "duration": 11,
    "start_time": "2022-12-18T09:25:22.728Z"
   },
   {
    "duration": 41,
    "start_time": "2022-12-18T09:25:22.741Z"
   },
   {
    "duration": 34,
    "start_time": "2022-12-18T09:25:22.783Z"
   },
   {
    "duration": 25,
    "start_time": "2022-12-18T09:25:22.819Z"
   },
   {
    "duration": 10,
    "start_time": "2022-12-18T09:25:22.846Z"
   },
   {
    "duration": 45,
    "start_time": "2022-12-18T09:25:22.858Z"
   },
   {
    "duration": 29,
    "start_time": "2022-12-18T09:25:22.905Z"
   },
   {
    "duration": 28,
    "start_time": "2022-12-18T09:25:22.936Z"
   },
   {
    "duration": 9,
    "start_time": "2022-12-18T09:25:22.966Z"
   },
   {
    "duration": 35,
    "start_time": "2022-12-18T09:25:22.977Z"
   },
   {
    "duration": 25,
    "start_time": "2022-12-18T09:25:23.015Z"
   },
   {
    "duration": 713,
    "start_time": "2022-12-18T09:25:23.042Z"
   },
   {
    "duration": 122,
    "start_time": "2022-12-18T09:25:23.757Z"
   },
   {
    "duration": 1533,
    "start_time": "2022-12-19T18:29:25.398Z"
   },
   {
    "duration": 647,
    "start_time": "2022-12-19T18:29:26.933Z"
   },
   {
    "duration": 17,
    "start_time": "2022-12-19T18:29:27.582Z"
   },
   {
    "duration": 10,
    "start_time": "2022-12-19T18:29:27.602Z"
   },
   {
    "duration": 56,
    "start_time": "2022-12-19T18:29:27.614Z"
   },
   {
    "duration": 4,
    "start_time": "2022-12-19T18:29:27.672Z"
   },
   {
    "duration": 30,
    "start_time": "2022-12-19T18:29:27.677Z"
   },
   {
    "duration": 56,
    "start_time": "2022-12-19T18:29:27.709Z"
   },
   {
    "duration": 641,
    "start_time": "2022-12-19T18:29:27.771Z"
   },
   {
    "duration": 14,
    "start_time": "2022-12-19T18:29:28.416Z"
   },
   {
    "duration": 28,
    "start_time": "2022-12-19T18:29:28.432Z"
   },
   {
    "duration": 42,
    "start_time": "2022-12-19T18:29:28.462Z"
   },
   {
    "duration": 5,
    "start_time": "2022-12-19T18:29:28.506Z"
   },
   {
    "duration": 55,
    "start_time": "2022-12-19T18:29:28.512Z"
   },
   {
    "duration": 37,
    "start_time": "2022-12-19T18:29:28.569Z"
   },
   {
    "duration": 419,
    "start_time": "2022-12-19T18:29:28.608Z"
   },
   {
    "duration": 258,
    "start_time": "2022-12-19T18:29:29.029Z"
   },
   {
    "duration": 53,
    "start_time": "2022-12-19T18:29:29.289Z"
   },
   {
    "duration": 242,
    "start_time": "2022-12-19T18:29:29.356Z"
   },
   {
    "duration": 241,
    "start_time": "2022-12-19T18:29:29.600Z"
   },
   {
    "duration": 849,
    "start_time": "2022-12-19T18:29:29.843Z"
   },
   {
    "duration": 16,
    "start_time": "2022-12-19T18:29:30.694Z"
   },
   {
    "duration": 91,
    "start_time": "2022-12-19T18:29:30.712Z"
   },
   {
    "duration": 38,
    "start_time": "2022-12-19T18:29:30.805Z"
   },
   {
    "duration": 28,
    "start_time": "2022-12-19T18:29:30.845Z"
   },
   {
    "duration": 3277,
    "start_time": "2022-12-19T18:29:30.876Z"
   },
   {
    "duration": 18,
    "start_time": "2022-12-19T18:29:34.155Z"
   },
   {
    "duration": 22,
    "start_time": "2022-12-19T18:29:34.177Z"
   },
   {
    "duration": 2,
    "start_time": "2022-12-19T18:29:34.202Z"
   },
   {
    "duration": 5,
    "start_time": "2022-12-19T18:29:34.206Z"
   },
   {
    "duration": 23,
    "start_time": "2022-12-19T18:29:34.213Z"
   },
   {
    "duration": 34,
    "start_time": "2022-12-19T18:29:34.237Z"
   },
   {
    "duration": 8,
    "start_time": "2022-12-19T18:29:34.273Z"
   },
   {
    "duration": 23,
    "start_time": "2022-12-19T18:29:34.282Z"
   },
   {
    "duration": 413,
    "start_time": "2022-12-19T18:29:34.307Z"
   },
   {
    "duration": 46,
    "start_time": "2022-12-19T18:29:34.723Z"
   },
   {
    "duration": 11,
    "start_time": "2022-12-19T18:29:34.777Z"
   },
   {
    "duration": 3,
    "start_time": "2022-12-19T18:29:34.793Z"
   },
   {
    "duration": 381,
    "start_time": "2022-12-19T18:29:34.798Z"
   },
   {
    "duration": 22,
    "start_time": "2022-12-19T18:29:35.181Z"
   },
   {
    "duration": 23,
    "start_time": "2022-12-19T18:29:35.205Z"
   },
   {
    "duration": 20964,
    "start_time": "2022-12-19T18:29:35.230Z"
   },
   {
    "duration": 22,
    "start_time": "2022-12-19T18:29:56.196Z"
   },
   {
    "duration": 10,
    "start_time": "2022-12-19T18:29:56.219Z"
   },
   {
    "duration": 52,
    "start_time": "2022-12-19T18:29:56.231Z"
   },
   {
    "duration": 10,
    "start_time": "2022-12-19T18:29:56.285Z"
   },
   {
    "duration": 13,
    "start_time": "2022-12-19T18:29:56.297Z"
   },
   {
    "duration": 24,
    "start_time": "2022-12-19T18:29:56.312Z"
   },
   {
    "duration": 343,
    "start_time": "2022-12-19T18:29:56.339Z"
   },
   {
    "duration": 14,
    "start_time": "2022-12-19T18:29:56.683Z"
   },
   {
    "duration": 16641,
    "start_time": "2022-12-19T18:29:56.699Z"
   },
   {
    "duration": 28,
    "start_time": "2022-12-19T18:30:13.342Z"
   },
   {
    "duration": 7,
    "start_time": "2022-12-19T18:30:13.373Z"
   },
   {
    "duration": 54,
    "start_time": "2022-12-19T18:30:13.381Z"
   },
   {
    "duration": 52,
    "start_time": "2022-12-19T18:30:13.437Z"
   },
   {
    "duration": 23,
    "start_time": "2022-12-19T18:30:13.491Z"
   },
   {
    "duration": 65,
    "start_time": "2022-12-19T18:30:13.516Z"
   },
   {
    "duration": 25,
    "start_time": "2022-12-19T18:30:13.583Z"
   },
   {
    "duration": 11,
    "start_time": "2022-12-19T18:30:13.610Z"
   },
   {
    "duration": 57,
    "start_time": "2022-12-19T18:30:13.623Z"
   },
   {
    "duration": 22,
    "start_time": "2022-12-19T18:30:13.682Z"
   },
   {
    "duration": 60,
    "start_time": "2022-12-19T18:30:13.707Z"
   },
   {
    "duration": 12,
    "start_time": "2022-12-19T18:30:13.772Z"
   },
   {
    "duration": 22,
    "start_time": "2022-12-19T18:30:13.786Z"
   },
   {
    "duration": 24,
    "start_time": "2022-12-19T18:30:13.810Z"
   },
   {
    "duration": 48,
    "start_time": "2022-12-19T18:30:13.836Z"
   },
   {
    "duration": 14,
    "start_time": "2022-12-19T18:30:13.886Z"
   },
   {
    "duration": 23,
    "start_time": "2022-12-19T18:30:13.902Z"
   },
   {
    "duration": 42,
    "start_time": "2022-12-19T18:30:13.927Z"
   },
   {
    "duration": 814,
    "start_time": "2022-12-19T18:30:13.970Z"
   },
   {
    "duration": 241,
    "start_time": "2022-12-19T18:30:14.788Z"
   }
  ],
  "kernelspec": {
   "display_name": "Python 3 (ipykernel)",
   "language": "python",
   "name": "python3"
  },
  "language_info": {
   "codemirror_mode": {
    "name": "ipython",
    "version": 3
   },
   "file_extension": ".py",
   "mimetype": "text/x-python",
   "name": "python",
   "nbconvert_exporter": "python",
   "pygments_lexer": "ipython3",
   "version": "3.9.12"
  },
  "toc": {
   "base_numbering": 1,
   "nav_menu": {},
   "number_sections": true,
   "sideBar": true,
   "skip_h1_title": true,
   "title_cell": "Table of Contents",
   "title_sidebar": "Contents",
   "toc_cell": false,
   "toc_position": {},
   "toc_section_display": true,
   "toc_window_display": false
  }
 },
 "nbformat": 4,
 "nbformat_minor": 5
}
