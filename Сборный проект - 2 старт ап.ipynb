{
 "cells": [
  {
   "cell_type": "markdown",
   "metadata": {},
   "source": [
    "# Сборный проект - 2"
   ]
  },
  {
   "cell_type": "markdown",
   "metadata": {},
   "source": [
    "# Описание проекта\n",
    "  \n",
    "Вы работаете в стартапе, который продаёт продукты питания. Нужно разобраться, как ведут себя пользователи вашего мобильного приложения.  \n",
    "Изучите воронку продаж. Узнайте, как пользователи доходят до покупки. Сколько пользователей доходит до покупки, а сколько — «застревает» на предыдущих шагах? На каких именно?  \n",
    "После этого исследуйте результаты A/A/B-эксперимента. Дизайнеры захотели поменять шрифты во всём приложении, а менеджеры испугались, что пользователям будет непривычно. Договорились принять решение по результатам A/A/B-теста. Пользователей разбили на 3 группы: 2 контрольные со старыми шрифтами и одну экспериментальную — с новыми. Выясните, какой шрифт лучше.  \n",
    "Создание двух групп A вместо одной имеет определённые преимущества. Если две контрольные группы окажутся равны, вы можете быть уверены в точности проведенного тестирования. Если же между значениями A и A будут существенные различия, это поможет обнаружить факторы, которые привели к искажению результатов. Сравнение контрольных групп также помогает понять, сколько времени и данных потребуется для дальнейших тестов.  \n",
    "В случае общей аналитики и A/A/B-эксперимента работайте с одними и теми же данными. В реальных проектах всегда идут эксперименты. Аналитики исследуют качество работы приложения по общим данным, не учитывая принадлежность пользователей к экспериментам.  \n",
    "\n",
    "# Описание данных  \n",
    "Каждая запись в логе — это действие пользователя, или событие.  \n",
    "  \n",
    "*EventName* — название события;  \n",
    "*DeviceIDHash* — уникальный идентификатор пользователя;  \n",
    "*EventTimestamp* — время события;  \n",
    "*ExpId* — номер эксперимента: 246 и 247 — контрольные группы, а 248 — экспериментальная. \n",
    "\n",
    " __*Инструкция по выполнению проекта:*__  \n",
    "# Шаг 1. Откройте файл с данными и изучите общую информацию  \n",
    "Путь к файлу: /datasets/logs_exp.csv. Скачать датасет  \n",
    "# Шаг 2. Подготовьте данные  \n",
    "* Замените названия столбцов на удобные для вас;  \n",
    "* Проверьте пропуски и типы данных. Откорректируйте, если нужно;  \n",
    "* Добавьте столбец даты и времени, а также отдельный столбец дат;  \n",
    " \n",
    "# Шаг 3. Изучите и проверьте данные  \n",
    "* Сколько всего событий в логе?  \n",
    "* Сколько всего пользователей в логе?  \n",
    "* Сколько в среднем событий приходится на пользователя?  \n",
    "* Данными за какой период вы располагаете? Найдите максимальную и минимальную дату. Постройте гистограмму по дате и времени. Можно ли быть уверенным, что у вас одинаково полные данные за весь период? Технически в логи новых дней по некоторым пользователям могут «доезжать» события из прошлого — это может «перекашивать данные». Определите, с какого момента данные полные и отбросьте более старые. Данными за какой период времени вы располагаете на самом деле?  \n",
    "* Много ли событий и пользователей вы потеряли, отбросив старые данные?  \n",
    "* Проверьте, что у вас есть пользователи из всех трёх экспериментальных групп. \n",
    "  \n",
    "# Шаг 4. Изучите воронку событий  \n",
    "* Посмотрите, какие события есть в логах, как часто они встречаются. Отсортируйте события по частоте.  \n",
    "* Посчитайте, сколько пользователей совершали каждое из этих событий. Отсортируйте события по числу пользователей.   \n",
    "* Посчитайте долю пользователей, которые хоть раз совершали событие.  \n",
    "* Предположите, в каком порядке происходят события. Все ли они выстраиваются в последовательную цепочку? Их не нужно учитывать при расчёте воронки.  \n",
    "* По воронке событий посчитайте, какая доля пользователей проходит на следующий шаг воронки (от числа пользователей на предыдущем). То есть для последовательности событий A → B → C посчитайте отношение числа пользователей с событием B к количеству пользователей с событием A, а также отношение числа пользователей с событием C к количеству пользователей с событием B.  \n",
    "* На каком шаге теряете больше всего пользователей?  \n",
    "* Какая доля пользователей доходит от первого события до оплаты?  \n",
    "  \n",
    "# Шаг 5. Изучите результаты эксперимента  \n",
    "* Сколько пользователей в каждой экспериментальной группе?  \n",
    "* Есть 2 контрольные группы для А/А-эксперимента, чтобы проверить корректность всех механизмов и расчётов. Проверьте, находят ли статистические критерии разницу между выборками 246 и 247.  \n",
    "* Выберите самое популярное событие. Посчитайте число пользователей, совершивших это событие в каждой из контрольных групп. Посчитайте долю пользователей, совершивших это событие. Проверьте, будет ли отличие между группами статистически достоверным. Проделайте то же самое для всех других событий (удобно обернуть проверку в отдельную функцию). Можно ли сказать, что разбиение на группы работает корректно?  \n",
    "* Аналогично поступите с группой с изменённым шрифтом. Сравните результаты с каждой из контрольных групп в отдельности по каждому событию. Сравните результаты с объединённой контрольной группой. Какие выводы из эксперимента можно сделать?  \n",
    "* Какой уровень значимости вы выбрали при проверке статистических гипотез выше? Посчитайте, сколько проверок статистических гипотез вы сделали. При уровне значимости 0.1 каждый десятый раз можно получать ложный результат. Какой уровень значимости стоит применить? Если вы хотите изменить его, проделайте предыдущие пункты и проверьте свои выводы. "
   ]
  },
  {
   "cell_type": "markdown",
   "metadata": {},
   "source": [
    "## Шаг 1. Откроем файл с данными и изучим общую информацию\n"
   ]
  },
  {
   "cell_type": "code",
   "execution_count": 2,
   "metadata": {},
   "outputs": [],
   "source": [
    "import pandas as pd\n",
    "import seaborn as sns\n",
    "import numpy as np\n",
    "from scipy import stats as st \n",
    "import matplotlib.pyplot as plt\n",
    "from matplotlib.pyplot import figure\n",
    "import plotly.express as px\n",
    "from plotly import graph_objects as go\n",
    "import math as mth"
   ]
  },
  {
   "cell_type": "code",
   "execution_count": 3,
   "metadata": {},
   "outputs": [
    {
     "data": {
      "text/html": [
       "<div>\n",
       "<style scoped>\n",
       "    .dataframe tbody tr th:only-of-type {\n",
       "        vertical-align: middle;\n",
       "    }\n",
       "\n",
       "    .dataframe tbody tr th {\n",
       "        vertical-align: top;\n",
       "    }\n",
       "\n",
       "    .dataframe thead th {\n",
       "        text-align: right;\n",
       "    }\n",
       "</style>\n",
       "<table border=\"1\" class=\"dataframe\">\n",
       "  <thead>\n",
       "    <tr style=\"text-align: right;\">\n",
       "      <th></th>\n",
       "      <th>EventName</th>\n",
       "      <th>DeviceIDHash</th>\n",
       "      <th>EventTimestamp</th>\n",
       "      <th>ExpId</th>\n",
       "    </tr>\n",
       "  </thead>\n",
       "  <tbody>\n",
       "    <tr>\n",
       "      <th>0</th>\n",
       "      <td>MainScreenAppear</td>\n",
       "      <td>4575588528974610257</td>\n",
       "      <td>1564029816</td>\n",
       "      <td>246</td>\n",
       "    </tr>\n",
       "    <tr>\n",
       "      <th>1</th>\n",
       "      <td>MainScreenAppear</td>\n",
       "      <td>7416695313311560658</td>\n",
       "      <td>1564053102</td>\n",
       "      <td>246</td>\n",
       "    </tr>\n",
       "    <tr>\n",
       "      <th>2</th>\n",
       "      <td>PaymentScreenSuccessful</td>\n",
       "      <td>3518123091307005509</td>\n",
       "      <td>1564054127</td>\n",
       "      <td>248</td>\n",
       "    </tr>\n",
       "    <tr>\n",
       "      <th>3</th>\n",
       "      <td>CartScreenAppear</td>\n",
       "      <td>3518123091307005509</td>\n",
       "      <td>1564054127</td>\n",
       "      <td>248</td>\n",
       "    </tr>\n",
       "    <tr>\n",
       "      <th>4</th>\n",
       "      <td>PaymentScreenSuccessful</td>\n",
       "      <td>6217807653094995999</td>\n",
       "      <td>1564055322</td>\n",
       "      <td>248</td>\n",
       "    </tr>\n",
       "    <tr>\n",
       "      <th>5</th>\n",
       "      <td>CartScreenAppear</td>\n",
       "      <td>6217807653094995999</td>\n",
       "      <td>1564055323</td>\n",
       "      <td>248</td>\n",
       "    </tr>\n",
       "    <tr>\n",
       "      <th>6</th>\n",
       "      <td>OffersScreenAppear</td>\n",
       "      <td>8351860793733343758</td>\n",
       "      <td>1564066242</td>\n",
       "      <td>246</td>\n",
       "    </tr>\n",
       "    <tr>\n",
       "      <th>7</th>\n",
       "      <td>MainScreenAppear</td>\n",
       "      <td>5682100281902512875</td>\n",
       "      <td>1564085677</td>\n",
       "      <td>246</td>\n",
       "    </tr>\n",
       "    <tr>\n",
       "      <th>8</th>\n",
       "      <td>MainScreenAppear</td>\n",
       "      <td>1850981295691852772</td>\n",
       "      <td>1564086702</td>\n",
       "      <td>247</td>\n",
       "    </tr>\n",
       "    <tr>\n",
       "      <th>9</th>\n",
       "      <td>MainScreenAppear</td>\n",
       "      <td>5407636962369102641</td>\n",
       "      <td>1564112112</td>\n",
       "      <td>246</td>\n",
       "    </tr>\n",
       "  </tbody>\n",
       "</table>\n",
       "</div>"
      ],
      "text/plain": [
       "                 EventName         DeviceIDHash  EventTimestamp  ExpId\n",
       "0         MainScreenAppear  4575588528974610257      1564029816    246\n",
       "1         MainScreenAppear  7416695313311560658      1564053102    246\n",
       "2  PaymentScreenSuccessful  3518123091307005509      1564054127    248\n",
       "3         CartScreenAppear  3518123091307005509      1564054127    248\n",
       "4  PaymentScreenSuccessful  6217807653094995999      1564055322    248\n",
       "5         CartScreenAppear  6217807653094995999      1564055323    248\n",
       "6       OffersScreenAppear  8351860793733343758      1564066242    246\n",
       "7         MainScreenAppear  5682100281902512875      1564085677    246\n",
       "8         MainScreenAppear  1850981295691852772      1564086702    247\n",
       "9         MainScreenAppear  5407636962369102641      1564112112    246"
      ]
     },
     "metadata": {},
     "output_type": "display_data"
    }
   ],
   "source": [
    "logs = pd.read_csv('/datasets/logs_exp.csv', sep='\\t')\n",
    "display(logs.head(10))"
   ]
  },
  {
   "cell_type": "markdown",
   "metadata": {},
   "source": [
    "## Шаг 2. Подготовим данные"
   ]
  },
  {
   "cell_type": "code",
   "execution_count": 4,
   "metadata": {},
   "outputs": [
    {
     "name": "stdout",
     "output_type": "stream",
     "text": [
      "<class 'pandas.core.frame.DataFrame'>\n",
      "RangeIndex: 244126 entries, 0 to 244125\n",
      "Data columns (total 4 columns):\n",
      " #   Column          Non-Null Count   Dtype \n",
      "---  ------          --------------   ----- \n",
      " 0   EventName       244126 non-null  object\n",
      " 1   DeviceIDHash    244126 non-null  int64 \n",
      " 2   EventTimestamp  244126 non-null  int64 \n",
      " 3   ExpId           244126 non-null  int64 \n",
      "dtypes: int64(3), object(1)\n",
      "memory usage: 7.5+ MB\n"
     ]
    }
   ],
   "source": [
    "#посмотрим общую информацию по таблице, проанализируем типы столбцов\n",
    "logs.info()"
   ]
  },
  {
   "cell_type": "code",
   "execution_count": 5,
   "metadata": {},
   "outputs": [
    {
     "data": {
      "text/html": [
       "<div>\n",
       "<style scoped>\n",
       "    .dataframe tbody tr th:only-of-type {\n",
       "        vertical-align: middle;\n",
       "    }\n",
       "\n",
       "    .dataframe tbody tr th {\n",
       "        vertical-align: top;\n",
       "    }\n",
       "\n",
       "    .dataframe thead th {\n",
       "        text-align: right;\n",
       "    }\n",
       "</style>\n",
       "<table border=\"1\" class=\"dataframe\">\n",
       "  <thead>\n",
       "    <tr style=\"text-align: right;\">\n",
       "      <th></th>\n",
       "      <th>event_name</th>\n",
       "      <th>user_id</th>\n",
       "      <th>date_time</th>\n",
       "      <th>exp_id</th>\n",
       "    </tr>\n",
       "  </thead>\n",
       "  <tbody>\n",
       "    <tr>\n",
       "      <th>0</th>\n",
       "      <td>MainScreenAppear</td>\n",
       "      <td>4575588528974610257</td>\n",
       "      <td>1564029816</td>\n",
       "      <td>246</td>\n",
       "    </tr>\n",
       "    <tr>\n",
       "      <th>1</th>\n",
       "      <td>MainScreenAppear</td>\n",
       "      <td>7416695313311560658</td>\n",
       "      <td>1564053102</td>\n",
       "      <td>246</td>\n",
       "    </tr>\n",
       "    <tr>\n",
       "      <th>2</th>\n",
       "      <td>PaymentScreenSuccessful</td>\n",
       "      <td>3518123091307005509</td>\n",
       "      <td>1564054127</td>\n",
       "      <td>248</td>\n",
       "    </tr>\n",
       "    <tr>\n",
       "      <th>3</th>\n",
       "      <td>CartScreenAppear</td>\n",
       "      <td>3518123091307005509</td>\n",
       "      <td>1564054127</td>\n",
       "      <td>248</td>\n",
       "    </tr>\n",
       "    <tr>\n",
       "      <th>4</th>\n",
       "      <td>PaymentScreenSuccessful</td>\n",
       "      <td>6217807653094995999</td>\n",
       "      <td>1564055322</td>\n",
       "      <td>248</td>\n",
       "    </tr>\n",
       "  </tbody>\n",
       "</table>\n",
       "</div>"
      ],
      "text/plain": [
       "                event_name              user_id   date_time  exp_id\n",
       "0         MainScreenAppear  4575588528974610257  1564029816     246\n",
       "1         MainScreenAppear  7416695313311560658  1564053102     246\n",
       "2  PaymentScreenSuccessful  3518123091307005509  1564054127     248\n",
       "3         CartScreenAppear  3518123091307005509  1564054127     248\n",
       "4  PaymentScreenSuccessful  6217807653094995999  1564055322     248"
      ]
     },
     "metadata": {},
     "output_type": "display_data"
    }
   ],
   "source": [
    "#переименуем столбцы для удобства и чистого кода\n",
    "logs = logs.rename(columns={'EventName': 'event_name', 'DeviceIDHash': 'user_id', 'EventTimestamp': 'date_time', 'ExpId': 'exp_id'})\n",
    "display(logs.head())"
   ]
  },
  {
   "cell_type": "code",
   "execution_count": 6,
   "metadata": {},
   "outputs": [
    {
     "data": {
      "text/html": [
       "<div>\n",
       "<style scoped>\n",
       "    .dataframe tbody tr th:only-of-type {\n",
       "        vertical-align: middle;\n",
       "    }\n",
       "\n",
       "    .dataframe tbody tr th {\n",
       "        vertical-align: top;\n",
       "    }\n",
       "\n",
       "    .dataframe thead th {\n",
       "        text-align: right;\n",
       "    }\n",
       "</style>\n",
       "<table border=\"1\" class=\"dataframe\">\n",
       "  <thead>\n",
       "    <tr style=\"text-align: right;\">\n",
       "      <th></th>\n",
       "      <th>event_name</th>\n",
       "      <th>user_id</th>\n",
       "      <th>date_time</th>\n",
       "      <th>exp_id</th>\n",
       "      <th>date</th>\n",
       "    </tr>\n",
       "  </thead>\n",
       "  <tbody>\n",
       "    <tr>\n",
       "      <th>0</th>\n",
       "      <td>MainScreenAppear</td>\n",
       "      <td>4575588528974610257</td>\n",
       "      <td>2019-07-25 04:43:36</td>\n",
       "      <td>246</td>\n",
       "      <td>2019-07-25</td>\n",
       "    </tr>\n",
       "    <tr>\n",
       "      <th>1</th>\n",
       "      <td>MainScreenAppear</td>\n",
       "      <td>7416695313311560658</td>\n",
       "      <td>2019-07-25 11:11:42</td>\n",
       "      <td>246</td>\n",
       "      <td>2019-07-25</td>\n",
       "    </tr>\n",
       "    <tr>\n",
       "      <th>2</th>\n",
       "      <td>PaymentScreenSuccessful</td>\n",
       "      <td>3518123091307005509</td>\n",
       "      <td>2019-07-25 11:28:47</td>\n",
       "      <td>248</td>\n",
       "      <td>2019-07-25</td>\n",
       "    </tr>\n",
       "    <tr>\n",
       "      <th>3</th>\n",
       "      <td>CartScreenAppear</td>\n",
       "      <td>3518123091307005509</td>\n",
       "      <td>2019-07-25 11:28:47</td>\n",
       "      <td>248</td>\n",
       "      <td>2019-07-25</td>\n",
       "    </tr>\n",
       "    <tr>\n",
       "      <th>4</th>\n",
       "      <td>PaymentScreenSuccessful</td>\n",
       "      <td>6217807653094995999</td>\n",
       "      <td>2019-07-25 11:48:42</td>\n",
       "      <td>248</td>\n",
       "      <td>2019-07-25</td>\n",
       "    </tr>\n",
       "  </tbody>\n",
       "</table>\n",
       "</div>"
      ],
      "text/plain": [
       "                event_name              user_id           date_time  exp_id  \\\n",
       "0         MainScreenAppear  4575588528974610257 2019-07-25 04:43:36     246   \n",
       "1         MainScreenAppear  7416695313311560658 2019-07-25 11:11:42     246   \n",
       "2  PaymentScreenSuccessful  3518123091307005509 2019-07-25 11:28:47     248   \n",
       "3         CartScreenAppear  3518123091307005509 2019-07-25 11:28:47     248   \n",
       "4  PaymentScreenSuccessful  6217807653094995999 2019-07-25 11:48:42     248   \n",
       "\n",
       "        date  \n",
       "0 2019-07-25  \n",
       "1 2019-07-25  \n",
       "2 2019-07-25  \n",
       "3 2019-07-25  \n",
       "4 2019-07-25  "
      ]
     },
     "metadata": {},
     "output_type": "display_data"
    }
   ],
   "source": [
    "#переведем столбец date_time к типу datetime, создадим отдельный столбец с датой\n",
    "logs['date_time'] = pd.to_datetime(logs['date_time'], unit='s')\n",
    "logs['date'] = logs['date_time'].dt.floor('1D')\n",
    "display(logs.head())"
   ]
  },
  {
   "cell_type": "code",
   "execution_count": 7,
   "metadata": {},
   "outputs": [
    {
     "data": {
      "text/plain": [
       "event_name    0\n",
       "user_id       0\n",
       "date_time     0\n",
       "exp_id        0\n",
       "date          0\n",
       "dtype: int64"
      ]
     },
     "execution_count": 7,
     "metadata": {},
     "output_type": "execute_result"
    }
   ],
   "source": [
    "#посчитаем пропуски\n",
    "logs.isna().sum()"
   ]
  },
  {
   "cell_type": "code",
   "execution_count": 8,
   "metadata": {},
   "outputs": [
    {
     "data": {
      "text/plain": [
       "413"
      ]
     },
     "execution_count": 8,
     "metadata": {},
     "output_type": "execute_result"
    }
   ],
   "source": [
    "logs.duplicated().sum()"
   ]
  },
  {
   "cell_type": "code",
   "execution_count": 9,
   "metadata": {},
   "outputs": [
    {
     "data": {
      "text/plain": [
       "0"
      ]
     },
     "execution_count": 9,
     "metadata": {},
     "output_type": "execute_result"
    }
   ],
   "source": [
    "logs = logs.drop_duplicates().reset_index()\n",
    "logs.duplicated().sum()"
   ]
  },
  {
   "cell_type": "markdown",
   "metadata": {},
   "source": [
    "<div class=\"alert alert-block alert-info\"> \n",
    "    \n",
    "Данные обработаны и готовы к дальнейшему анализу.  \n",
    "Отсутствуют пропуски, удалили дубликаты, столбцы приведены к нижнему регистру и по правилам чистого кода, добавлены столбцы с датой и временем и датой.  "
   ]
  },
  {
   "cell_type": "markdown",
   "metadata": {},
   "source": [
    "## Шаг 3. Изучим и проверим данные"
   ]
  },
  {
   "cell_type": "code",
   "execution_count": 10,
   "metadata": {},
   "outputs": [
    {
     "name": "stdout",
     "output_type": "stream",
     "text": [
      "Количество событий в логе: 243713\n",
      "Уникальные события в логе: ['MainScreenAppear' 'PaymentScreenSuccessful' 'CartScreenAppear'\n",
      " 'OffersScreenAppear' 'Tutorial']\n"
     ]
    }
   ],
   "source": [
    "#посчитаем сколько событий в логе\n",
    "print('Количество событий в логе:',logs['event_name'].count())\n",
    "print('Уникальные события в логе:',logs['event_name'].unique())"
   ]
  },
  {
   "cell_type": "code",
   "execution_count": 11,
   "metadata": {},
   "outputs": [
    {
     "name": "stdout",
     "output_type": "stream",
     "text": [
      "Количество пользователей в логе: 7551\n"
     ]
    }
   ],
   "source": [
    "#посчитаем сколько всего пользователей в логе\n",
    "print('Количество пользователей в логе:', logs['user_id'].nunique())"
   ]
  },
  {
   "cell_type": "code",
   "execution_count": 12,
   "metadata": {},
   "outputs": [
    {
     "name": "stdout",
     "output_type": "stream",
     "text": [
      "Среднее количество событий на одного пользователя: 32.27559263673685\n"
     ]
    }
   ],
   "source": [
    "#посчитаем сколько в среднем событий приходится на пользователя\n",
    "print('Среднее количество событий на одного пользователя:', logs.groupby('user_id')['event_name'].agg('count').mean())"
   ]
  },
  {
   "cell_type": "code",
   "execution_count": 13,
   "metadata": {},
   "outputs": [
    {
     "name": "stdout",
     "output_type": "stream",
     "text": [
      "Минимальная дата события: 2019-07-25 04:43:36\n",
      "Максимальная дата события: 2019-08-07 21:15:17\n"
     ]
    }
   ],
   "source": [
    "#найдем максимальную и минимальную дату\n",
    "print('Минимальная дата события:', logs['date_time'].min())\n",
    "print('Максимальная дата события:', logs['date_time'].max())"
   ]
  },
  {
   "cell_type": "code",
   "execution_count": 14,
   "metadata": {},
   "outputs": [
    {
     "data": {
      "image/png": "[encoded data removed]",
      "text/plain": [
       "<Figure size 1296x504 with 1 Axes>"
      ]
     },
     "metadata": {
      "needs_background": "light"
     },
     "output_type": "display_data"
    }
   ],
   "source": [
    "#построем гистограмму по дате и времени \n",
    "logs['date_time'].hist(bins=100, figsize=(18, 7))\n",
    "plt.title('Гистограмма по дате и времени')\n",
    "plt.xlabel('Дата');"
   ]
  },
  {
   "cell_type": "markdown",
   "metadata": {},
   "source": [
    "* Перед нами логи за период с 2019-07-25 по 2019-08-07.   \n",
    "* Всего событий в логе 244126. Всего пользователей в логе 7551.   \n",
    "* В среднем на пользователя приходится 32 события.  \n",
    "\n",
    "По гистограмме мы видим, что до 31.07.2019 пользователи не особо активно пользовались приложением. Уменьшим даты для анализа, возьмем срок с 31 июля по 7 августа и посмотрим насколько это повлияет на исследование."
   ]
  },
  {
   "cell_type": "code",
   "execution_count": 15,
   "metadata": {},
   "outputs": [
    {
     "data": {
      "text/plain": [
       "date\n",
       "2019-07-25        9\n",
       "2019-07-26       31\n",
       "2019-07-27       55\n",
       "2019-07-28      105\n",
       "2019-07-29      184\n",
       "2019-07-30      412\n",
       "2019-07-31     2030\n",
       "2019-08-01    36141\n",
       "2019-08-02    35554\n",
       "2019-08-03    33282\n",
       "2019-08-04    32968\n",
       "2019-08-05    36058\n",
       "2019-08-06    35788\n",
       "2019-08-07    31096\n",
       "Name: event_name, dtype: int64"
      ]
     },
     "execution_count": 15,
     "metadata": {},
     "output_type": "execute_result"
    }
   ],
   "source": [
    "#проверим данные за полный период и определим период для дальнейшего анализа\n",
    "period = logs.groupby('date')['event_name'].agg('count')\n",
    "period"
   ]
  },
  {
   "cell_type": "markdown",
   "metadata": {},
   "source": [
    "<div class=\"alert alert-block alert-info\">\n",
    "\n",
    "Мы видим, что полные данные есть с **01.08**, нет смысла использовать в анализе даты ранее, чем 1 августа."
   ]
  },
  {
   "cell_type": "code",
   "execution_count": 16,
   "metadata": {},
   "outputs": [
    {
     "name": "stdout",
     "output_type": "stream",
     "text": [
      "Количество событий в логе: 243713\n",
      "Количество пользователей в логе: 7551\n",
      "Среднее количество событий на одного пользователя: 32.27559263673685\n"
     ]
    }
   ],
   "source": [
    "#проверим много ли событий и пользователей мы потеряем, отбросив старые данные\n",
    "all_events = logs['event_name'].count()\n",
    "print('Количество событий в логе:', all_events)\n",
    "users_unique = logs['user_id'].nunique()\n",
    "print('Количество пользователей в логе:', users_unique)\n",
    "print('Среднее количество событий на одного пользователя:', logs.groupby('user_id')['event_name'].agg('count').mean())"
   ]
  },
  {
   "cell_type": "code",
   "execution_count": 17,
   "metadata": {},
   "outputs": [
    {
     "name": "stdout",
     "output_type": "stream",
     "text": [
      "Дальнейший анализ будет проводиться для данных в период с 2019-08-01 00:07:28 по 2019-08-07 21:15:17.\n"
     ]
    }
   ],
   "source": [
    "#отбросим старые данные\n",
    "logs = logs['2019-08-01' <= logs['date_time']]\n",
    "print('Дальнейший анализ будет проводиться для данных в период с {} по {}.'.format(logs['date_time'].min(), logs['date_time'].max()))"
   ]
  },
  {
   "cell_type": "code",
   "execution_count": 18,
   "metadata": {},
   "outputs": [
    {
     "name": "stdout",
     "output_type": "stream",
     "text": [
      "Количество событий в логе: 240887\n",
      "Количество пользователей в логе: 7534\n",
      "Среднее количество событий на одного пользователя: 31.97332094504911\n",
      "Процент потерянных данных о пользователях: 0.9977486425638988 %\n",
      "Процент потерянных данных о событиях: 0.988404393692581 %\n"
     ]
    }
   ],
   "source": [
    "#проверим много ли событий и пользователей мы потеряем, отбросив старые данные\n",
    "del_events = logs['event_name'].count()\n",
    "print('Количество событий в логе:', del_events)\n",
    "del_users = logs['user_id'].nunique()\n",
    "print('Количество пользователей в логе:', del_users)\n",
    "print('Среднее количество событий на одного пользователя:', logs.groupby('user_id')['event_name'].agg('count').mean())\n",
    "\n",
    "del_users = del_users/users_unique\n",
    "print('Процент потерянных данных о пользователях:', del_users, '%')\n",
    "del_events = del_events/all_events\n",
    "print('Процент потерянных данных о событиях:', del_events, '%')"
   ]
  },
  {
   "cell_type": "code",
   "execution_count": 19,
   "metadata": {},
   "outputs": [
    {
     "name": "stdout",
     "output_type": "stream",
     "text": [
      "Экспериментальные группы: [246 247 248]\n"
     ]
    }
   ],
   "source": [
    "#проверим, что есть все пользователи из всех трёх экспериментальных групп\n",
    "print('Экспериментальные группы:', logs['exp_id'].unique())"
   ]
  },
  {
   "cell_type": "markdown",
   "metadata": {},
   "source": [
    "<div class=\"alert alert-block alert-info\">\n",
    "    \n",
    "* **Количество событий в логе:** 243329  \n",
    "* **Количество пользователей в логе:** 7542  \n",
    "* **Среднее количество событий на одного пользователя:** 32  \n",
    "    \n",
    "Мы потеряли всего лишь **1%** событий и пользователей отбросив старые данные.\n",
    "Все три эксперементальные группы вошли в новую выборку."
   ]
  },
  {
   "cell_type": "markdown",
   "metadata": {},
   "source": [
    "## Шаг 4. Изучим воронку событий"
   ]
  },
  {
   "cell_type": "code",
   "execution_count": 20,
   "metadata": {},
   "outputs": [
    {
     "data": {
      "text/html": [
       "<div>\n",
       "<style scoped>\n",
       "    .dataframe tbody tr th:only-of-type {\n",
       "        vertical-align: middle;\n",
       "    }\n",
       "\n",
       "    .dataframe tbody tr th {\n",
       "        vertical-align: top;\n",
       "    }\n",
       "\n",
       "    .dataframe thead th {\n",
       "        text-align: right;\n",
       "    }\n",
       "</style>\n",
       "<table border=\"1\" class=\"dataframe\">\n",
       "  <thead>\n",
       "    <tr style=\"text-align: right;\">\n",
       "      <th></th>\n",
       "      <th>event_name</th>\n",
       "      <th>cnt_events</th>\n",
       "      <th>cnt_users</th>\n",
       "      <th>percent</th>\n",
       "    </tr>\n",
       "  </thead>\n",
       "  <tbody>\n",
       "    <tr>\n",
       "      <th>0</th>\n",
       "      <td>MainScreenAppear</td>\n",
       "      <td>117328</td>\n",
       "      <td>7419</td>\n",
       "      <td>98.5</td>\n",
       "    </tr>\n",
       "    <tr>\n",
       "      <th>1</th>\n",
       "      <td>OffersScreenAppear</td>\n",
       "      <td>46333</td>\n",
       "      <td>4593</td>\n",
       "      <td>61.0</td>\n",
       "    </tr>\n",
       "    <tr>\n",
       "      <th>2</th>\n",
       "      <td>CartScreenAppear</td>\n",
       "      <td>42303</td>\n",
       "      <td>3734</td>\n",
       "      <td>49.6</td>\n",
       "    </tr>\n",
       "    <tr>\n",
       "      <th>3</th>\n",
       "      <td>PaymentScreenSuccessful</td>\n",
       "      <td>33918</td>\n",
       "      <td>3539</td>\n",
       "      <td>47.0</td>\n",
       "    </tr>\n",
       "    <tr>\n",
       "      <th>4</th>\n",
       "      <td>Tutorial</td>\n",
       "      <td>1005</td>\n",
       "      <td>840</td>\n",
       "      <td>11.1</td>\n",
       "    </tr>\n",
       "  </tbody>\n",
       "</table>\n",
       "</div>"
      ],
      "text/plain": [
       "                event_name  cnt_events  cnt_users  percent\n",
       "0         MainScreenAppear      117328       7419     98.5\n",
       "1       OffersScreenAppear       46333       4593     61.0\n",
       "2         CartScreenAppear       42303       3734     49.6\n",
       "3  PaymentScreenSuccessful       33918       3539     47.0\n",
       "4                 Tutorial        1005        840     11.1"
      ]
     },
     "metadata": {},
     "output_type": "display_data"
    }
   ],
   "source": [
    "#Посмотрим какие события есть в логах, как часто они встречаются, число уникальных пользователей совершивших это событие. \n",
    "#Отсортируем события по частоте и по числу поьзователей. А также посчитаем долю от общего числа пользователей.\n",
    "events = logs.groupby('event_name')['user_id'].agg(['count', 'nunique']).sort_values(by=['count', 'nunique'], ascending=False).reset_index()\n",
    "events.columns = ['event_name', 'cnt_events', 'cnt_users']\n",
    "all_users = logs['user_id'].nunique()\n",
    "events['percent'] = (events['cnt_users'] / all_users * 100).round(1) \n",
    "display(events)"
   ]
  },
  {
   "cell_type": "code",
   "execution_count": 21,
   "metadata": {},
   "outputs": [
    {
     "data": {
      "text/plain": [
       "Text(0, 0.5, 'Количество свершений')"
      ]
     },
     "execution_count": 21,
     "metadata": {},
     "output_type": "execute_result"
    },
    {
     "data": {
      "image/png": "[encoded data removed]",
      "text/plain": [
       "<Figure size 1080x360 with 1 Axes>"
      ]
     },
     "metadata": {
      "needs_background": "light"
     },
     "output_type": "display_data"
    }
   ],
   "source": [
    "#посмотрим наглядно на графике разницу в количестве событий\n",
    "plt.figure(figsize = (15,5))\n",
    "sns.barplot(x = events['event_name'], y = events['cnt_events'], palette='spring')\n",
    "plt.title('События')\n",
    "plt.xlabel('Названия событий')\n",
    "plt.ylabel('Количество свершений')"
   ]
  },
  {
   "cell_type": "code",
   "execution_count": 22,
   "metadata": {},
   "outputs": [
    {
     "data": {
      "text/plain": [
       "Text(0, 0.5, 'Количество пользователей')"
      ]
     },
     "execution_count": 22,
     "metadata": {},
     "output_type": "execute_result"
    },
    {
     "data": {
      "image/png": "[encoded data removed]",
      "text/plain": [
       "<Figure size 1080x360 with 1 Axes>"
      ]
     },
     "metadata": {
      "needs_background": "light"
     },
     "output_type": "display_data"
    }
   ],
   "source": [
    "#посмотрим наглядно на графике разницу в количестве пользователей совершивших событие\n",
    "plt.figure(figsize = (15,5))\n",
    "sns.barplot(x = events['event_name'], y = events['cnt_users'], palette='spring_r')\n",
    "plt.title('Уникальные пользователи')\n",
    "plt.xlabel('Названия событий')\n",
    "plt.ylabel('Количество пользователей')"
   ]
  },
  {
   "cell_type": "markdown",
   "metadata": {},
   "source": [
    "* На первом месте событие: открытие главного экрана произошло 118681 раз, его совершило 7429 пользователей. Что составляет  98,5%. \n",
    "* Далее окно с предложениями (OffersScreenAppear) - 46724 раз, его совершило 4606 пользователей - 61,1%.  \n",
    "* Окно с корзиной - 42623 раз, его совершило 3742 пользователей-49,6%.\n",
    "* Успешная оплата - 34253 раз, его совершило 3542 пользователей-47%.\n",
    "* И на пятом месте открытие окна с руководством пользователя - 1048 раз, его совершило 845 пользователей-11,2%."
   ]
  },
  {
   "cell_type": "code",
   "execution_count": 23,
   "metadata": {},
   "outputs": [
    {
     "data": {
      "text/html": [
       "<div>\n",
       "<style scoped>\n",
       "    .dataframe tbody tr th:only-of-type {\n",
       "        vertical-align: middle;\n",
       "    }\n",
       "\n",
       "    .dataframe tbody tr th {\n",
       "        vertical-align: top;\n",
       "    }\n",
       "\n",
       "    .dataframe thead th {\n",
       "        text-align: right;\n",
       "    }\n",
       "</style>\n",
       "<table border=\"1\" class=\"dataframe\">\n",
       "  <thead>\n",
       "    <tr style=\"text-align: right;\">\n",
       "      <th></th>\n",
       "      <th>event_name</th>\n",
       "      <th>exp_id</th>\n",
       "      <th>n_events</th>\n",
       "      <th>users</th>\n",
       "      <th>user_per_event</th>\n",
       "    </tr>\n",
       "  </thead>\n",
       "  <tbody>\n",
       "    <tr>\n",
       "      <th>0</th>\n",
       "      <td>MainScreenAppear</td>\n",
       "      <td>248</td>\n",
       "      <td>40562</td>\n",
       "      <td>2493</td>\n",
       "      <td>98.3</td>\n",
       "    </tr>\n",
       "    <tr>\n",
       "      <th>1</th>\n",
       "      <td>OffersScreenAppear</td>\n",
       "      <td>248</td>\n",
       "      <td>16387</td>\n",
       "      <td>1531</td>\n",
       "      <td>60.3</td>\n",
       "    </tr>\n",
       "    <tr>\n",
       "      <th>2</th>\n",
       "      <td>CartScreenAppear</td>\n",
       "      <td>248</td>\n",
       "      <td>15179</td>\n",
       "      <td>1230</td>\n",
       "      <td>48.5</td>\n",
       "    </tr>\n",
       "    <tr>\n",
       "      <th>3</th>\n",
       "      <td>PaymentScreenSuccessful</td>\n",
       "      <td>248</td>\n",
       "      <td>12085</td>\n",
       "      <td>1181</td>\n",
       "      <td>46.6</td>\n",
       "    </tr>\n",
       "    <tr>\n",
       "      <th>4</th>\n",
       "      <td>Tutorial</td>\n",
       "      <td>248</td>\n",
       "      <td>350</td>\n",
       "      <td>279</td>\n",
       "      <td>11.0</td>\n",
       "    </tr>\n",
       "    <tr>\n",
       "      <th>5</th>\n",
       "      <td>MainScreenAppear</td>\n",
       "      <td>247</td>\n",
       "      <td>39090</td>\n",
       "      <td>2476</td>\n",
       "      <td>98.5</td>\n",
       "    </tr>\n",
       "    <tr>\n",
       "      <th>6</th>\n",
       "      <td>OffersScreenAppear</td>\n",
       "      <td>247</td>\n",
       "      <td>15179</td>\n",
       "      <td>1520</td>\n",
       "      <td>60.5</td>\n",
       "    </tr>\n",
       "    <tr>\n",
       "      <th>7</th>\n",
       "      <td>CartScreenAppear</td>\n",
       "      <td>247</td>\n",
       "      <td>12434</td>\n",
       "      <td>1238</td>\n",
       "      <td>49.3</td>\n",
       "    </tr>\n",
       "    <tr>\n",
       "      <th>8</th>\n",
       "      <td>PaymentScreenSuccessful</td>\n",
       "      <td>247</td>\n",
       "      <td>9981</td>\n",
       "      <td>1158</td>\n",
       "      <td>46.1</td>\n",
       "    </tr>\n",
       "    <tr>\n",
       "      <th>9</th>\n",
       "      <td>Tutorial</td>\n",
       "      <td>247</td>\n",
       "      <td>338</td>\n",
       "      <td>283</td>\n",
       "      <td>11.3</td>\n",
       "    </tr>\n",
       "    <tr>\n",
       "      <th>10</th>\n",
       "      <td>MainScreenAppear</td>\n",
       "      <td>246</td>\n",
       "      <td>37676</td>\n",
       "      <td>2450</td>\n",
       "      <td>98.6</td>\n",
       "    </tr>\n",
       "    <tr>\n",
       "      <th>11</th>\n",
       "      <td>OffersScreenAppear</td>\n",
       "      <td>246</td>\n",
       "      <td>14767</td>\n",
       "      <td>1542</td>\n",
       "      <td>62.1</td>\n",
       "    </tr>\n",
       "    <tr>\n",
       "      <th>12</th>\n",
       "      <td>CartScreenAppear</td>\n",
       "      <td>246</td>\n",
       "      <td>14690</td>\n",
       "      <td>1266</td>\n",
       "      <td>51.0</td>\n",
       "    </tr>\n",
       "    <tr>\n",
       "      <th>13</th>\n",
       "      <td>PaymentScreenSuccessful</td>\n",
       "      <td>246</td>\n",
       "      <td>11852</td>\n",
       "      <td>1200</td>\n",
       "      <td>48.3</td>\n",
       "    </tr>\n",
       "    <tr>\n",
       "      <th>14</th>\n",
       "      <td>Tutorial</td>\n",
       "      <td>246</td>\n",
       "      <td>317</td>\n",
       "      <td>278</td>\n",
       "      <td>11.2</td>\n",
       "    </tr>\n",
       "  </tbody>\n",
       "</table>\n",
       "</div>"
      ],
      "text/plain": [
       "                 event_name  exp_id  n_events  users  user_per_event\n",
       "0          MainScreenAppear     248     40562   2493            98.3\n",
       "1        OffersScreenAppear     248     16387   1531            60.3\n",
       "2          CartScreenAppear     248     15179   1230            48.5\n",
       "3   PaymentScreenSuccessful     248     12085   1181            46.6\n",
       "4                  Tutorial     248       350    279            11.0\n",
       "5          MainScreenAppear     247     39090   2476            98.5\n",
       "6        OffersScreenAppear     247     15179   1520            60.5\n",
       "7          CartScreenAppear     247     12434   1238            49.3\n",
       "8   PaymentScreenSuccessful     247      9981   1158            46.1\n",
       "9                  Tutorial     247       338    283            11.3\n",
       "10         MainScreenAppear     246     37676   2450            98.6\n",
       "11       OffersScreenAppear     246     14767   1542            62.1\n",
       "12         CartScreenAppear     246     14690   1266            51.0\n",
       "13  PaymentScreenSuccessful     246     11852   1200            48.3\n",
       "14                 Tutorial     246       317    278            11.2"
      ]
     },
     "execution_count": 23,
     "metadata": {},
     "output_type": "execute_result"
    }
   ],
   "source": [
    "#проверим все ли события выстраиваются в последовательную цепочку и все ли нужно учитывать. \n",
    "#посмотрим распределение по группам\n",
    "event_user_bygroup = logs.groupby(['event_name','exp_id']).agg({'event_name':'count', 'user_id':'nunique'})\n",
    "event_user_bygroup.columns = ['n_events', 'users']\n",
    "event_user_bygroup = event_user_bygroup.reset_index()\n",
    "\n",
    "a1_users = logs[logs['exp_id']==246]['user_id'].nunique()\n",
    "a2_users = logs[logs['exp_id']==247]['user_id'].nunique()\n",
    "b_users = logs[logs['exp_id']==248]['user_id'].nunique()\n",
    "\n",
    "def user_part_group(row):\n",
    "    if row['exp_id']==246:\n",
    "        return (row['users'] / a1_users * 100)\n",
    "    elif row['exp_id']==247:\n",
    "        return (row['users'] / a2_users * 100)\n",
    "    elif row['exp_id']==248:\n",
    "        return (row['users'] / b_users * 100)\n",
    "\n",
    "event_user_bygroup['user_per_event'] = event_user_bygroup.apply(user_part_group, axis=1)\n",
    "event_user_bygroup['user_per_event']= event_user_bygroup['user_per_event'].round(1)\n",
    "event_user_bygroup.sort_values(by=['exp_id','users'], ascending=False).reset_index(drop=True)"
   ]
  },
  {
   "cell_type": "code",
   "execution_count": 24,
   "metadata": {},
   "outputs": [
    {
     "data": {
      "text/plain": [
       "Text(0.5, 1.0, 'Доли пользователей, совершивших хотя бы одно событие, от всех пользователей (по группам)')"
      ]
     },
     "execution_count": 24,
     "metadata": {},
     "output_type": "execute_result"
    },
    {
     "data": {
      "image/png": "[encoded data removed]",
      "text/plain": [
       "<Figure size 919x432 with 1 Axes>"
      ]
     },
     "metadata": {
      "needs_background": "light"
     },
     "output_type": "display_data"
    }
   ],
   "source": [
    "#посмотрим наглядно на графике долю пользователей по группам совершивших каждое событие\n",
    "all_events = events['event_name']\n",
    "\n",
    "sns.catplot(y='event_name', x='user_per_event',\n",
    "                hue='exp_id', order=all_events, \n",
    "                data=event_user_bygroup, kind='bar',\n",
    "                height=6, aspect=2.0)\n",
    "plt.ylabel('СОБЫТИЕ')\n",
    "plt.xlabel('ДОЛЯ, %')\n",
    "plt.title('Доли пользователей, совершивших хотя бы одно событие, от всех пользователей (по группам)')\n"
   ]
  },
  {
   "cell_type": "markdown",
   "metadata": {},
   "source": [
    "* События выстраиваются в чёткую послежовательную цепочку:  \n",
    " -открытие главной страницы (___MainScreenAppear___);→  \n",
    " -переход на страницу с предложениями (___OffersScreenAppear___);→    \n",
    " -переход в Корзину с покупками (___CartScreenAppear___);→   \n",
    " -переход на страницу \"Оплата прошла успешно\" (___PaymentScreenSuccessful___).  \n",
    "  \n",
    "    \n",
    "* Из системы полностью выбивается столбец **Tutorials**: в нём не только мало значений, но и переход на эту страницу не связан напрямую с процессом покупки. Не будем учитывать его из дальнейшего анализа. "
   ]
  },
  {
   "cell_type": "code",
   "execution_count": 25,
   "metadata": {},
   "outputs": [
    {
     "data": {
      "text/html": [
       "<div>\n",
       "<style scoped>\n",
       "    .dataframe tbody tr th:only-of-type {\n",
       "        vertical-align: middle;\n",
       "    }\n",
       "\n",
       "    .dataframe tbody tr th {\n",
       "        vertical-align: top;\n",
       "    }\n",
       "\n",
       "    .dataframe thead th {\n",
       "        text-align: right;\n",
       "    }\n",
       "</style>\n",
       "<table border=\"1\" class=\"dataframe\">\n",
       "  <thead>\n",
       "    <tr style=\"text-align: right;\">\n",
       "      <th></th>\n",
       "      <th>event_name</th>\n",
       "      <th>cnt_events</th>\n",
       "      <th>cnt_users</th>\n",
       "    </tr>\n",
       "  </thead>\n",
       "  <tbody>\n",
       "    <tr>\n",
       "      <th>0</th>\n",
       "      <td>MainScreenAppear</td>\n",
       "      <td>117328</td>\n",
       "      <td>7419</td>\n",
       "    </tr>\n",
       "    <tr>\n",
       "      <th>1</th>\n",
       "      <td>OffersScreenAppear</td>\n",
       "      <td>46333</td>\n",
       "      <td>4593</td>\n",
       "    </tr>\n",
       "    <tr>\n",
       "      <th>2</th>\n",
       "      <td>CartScreenAppear</td>\n",
       "      <td>42303</td>\n",
       "      <td>3734</td>\n",
       "    </tr>\n",
       "    <tr>\n",
       "      <th>3</th>\n",
       "      <td>PaymentScreenSuccessful</td>\n",
       "      <td>33918</td>\n",
       "      <td>3539</td>\n",
       "    </tr>\n",
       "    <tr>\n",
       "      <th>4</th>\n",
       "      <td>Tutorial</td>\n",
       "      <td>1005</td>\n",
       "      <td>840</td>\n",
       "    </tr>\n",
       "  </tbody>\n",
       "</table>\n",
       "</div>"
      ],
      "text/plain": [
       "                event_name  cnt_events  cnt_users\n",
       "0         MainScreenAppear      117328       7419\n",
       "1       OffersScreenAppear       46333       4593\n",
       "2         CartScreenAppear       42303       3734\n",
       "3  PaymentScreenSuccessful       33918       3539\n",
       "4                 Tutorial        1005        840"
      ]
     },
     "metadata": {},
     "output_type": "display_data"
    }
   ],
   "source": [
    "#посчитаем, какая доля пользователей проходит на следующий шаг воронки (от числа пользователей на предыдущем). \n",
    "#для последовательности событий A → B → C посчитаем отношение числа пользователей с событием B к количеству пользователей с событием A, а также отношение числа пользователей с событием C к количеству пользователей с событием B.\n",
    "users_funnel = logs.groupby('event_name')['user_id'].agg(['count', 'nunique']).sort_values(by='count', ascending=False).reset_index()\n",
    "users_funnel.columns = ['event_name', 'cnt_events', 'cnt_users']\n",
    "display(users_funnel)"
   ]
  },
  {
   "cell_type": "code",
   "execution_count": 26,
   "metadata": {},
   "outputs": [
    {
     "data": {
      "text/html": [
       "<div>\n",
       "<style scoped>\n",
       "    .dataframe tbody tr th:only-of-type {\n",
       "        vertical-align: middle;\n",
       "    }\n",
       "\n",
       "    .dataframe tbody tr th {\n",
       "        vertical-align: top;\n",
       "    }\n",
       "\n",
       "    .dataframe thead th {\n",
       "        text-align: right;\n",
       "    }\n",
       "</style>\n",
       "<table border=\"1\" class=\"dataframe\">\n",
       "  <thead>\n",
       "    <tr style=\"text-align: right;\">\n",
       "      <th></th>\n",
       "      <th>event_name</th>\n",
       "      <th>cnt_events</th>\n",
       "      <th>cnt_users</th>\n",
       "      <th>per_user_last</th>\n",
       "    </tr>\n",
       "  </thead>\n",
       "  <tbody>\n",
       "    <tr>\n",
       "      <th>0</th>\n",
       "      <td>MainScreenAppear</td>\n",
       "      <td>117328</td>\n",
       "      <td>7419</td>\n",
       "      <td>NaN</td>\n",
       "    </tr>\n",
       "    <tr>\n",
       "      <th>1</th>\n",
       "      <td>OffersScreenAppear</td>\n",
       "      <td>46333</td>\n",
       "      <td>4593</td>\n",
       "      <td>61.9</td>\n",
       "    </tr>\n",
       "    <tr>\n",
       "      <th>2</th>\n",
       "      <td>CartScreenAppear</td>\n",
       "      <td>42303</td>\n",
       "      <td>3734</td>\n",
       "      <td>81.3</td>\n",
       "    </tr>\n",
       "    <tr>\n",
       "      <th>3</th>\n",
       "      <td>PaymentScreenSuccessful</td>\n",
       "      <td>33918</td>\n",
       "      <td>3539</td>\n",
       "      <td>94.8</td>\n",
       "    </tr>\n",
       "  </tbody>\n",
       "</table>\n",
       "</div>"
      ],
      "text/plain": [
       "                event_name  cnt_events  cnt_users  per_user_last\n",
       "0         MainScreenAppear      117328       7419            NaN\n",
       "1       OffersScreenAppear       46333       4593           61.9\n",
       "2         CartScreenAppear       42303       3734           81.3\n",
       "3  PaymentScreenSuccessful       33918       3539           94.8"
      ]
     },
     "metadata": {},
     "output_type": "display_data"
    }
   ],
   "source": [
    "#удалим событие Tutorials и найдем долю от предыдущего события\n",
    "users_funnel = users_funnel.iloc[:4]\n",
    "users_funnel['per_user_last'] = ((users_funnel['cnt_users'] / users_funnel['cnt_users'].shift())*100).round(1)\n",
    "display(users_funnel)"
   ]
  },
  {
   "cell_type": "markdown",
   "metadata": {},
   "source": [
    " * Можно сделать вывод, что 94,7% пользователей добравшихся до корзины совершают заказ. Не плохой показатель... "
   ]
  },
  {
   "cell_type": "markdown",
   "metadata": {},
   "source": [
    "* Теперь посмотрим на воронку с учётом предполагаемой последовательности событий:\n",
    "\n",
    "сначала открывает главную страницу приложения(MainScreenAppear) →\n",
    "потом в каталоге выбирает товары(OffersScreenAppear) →\n",
    "кладёт их в корзину(CartScreenAppear) →\n",
    "и оплачивает(PaymentScreenSuccessful)."
   ]
  },
  {
   "cell_type": "code",
   "execution_count": 27,
   "metadata": {},
   "outputs": [
    {
     "data": {
      "text/html": [
       "<div>\n",
       "<style scoped>\n",
       "    .dataframe tbody tr th:only-of-type {\n",
       "        vertical-align: middle;\n",
       "    }\n",
       "\n",
       "    .dataframe tbody tr th {\n",
       "        vertical-align: top;\n",
       "    }\n",
       "\n",
       "    .dataframe thead th {\n",
       "        text-align: right;\n",
       "    }\n",
       "</style>\n",
       "<table border=\"1\" class=\"dataframe\">\n",
       "  <thead>\n",
       "    <tr style=\"text-align: right;\">\n",
       "      <th></th>\n",
       "      <th>event_name</th>\n",
       "      <th>cnt_events</th>\n",
       "      <th>cnt_users</th>\n",
       "      <th>per_user_last</th>\n",
       "      <th>per_user_inorder</th>\n",
       "    </tr>\n",
       "  </thead>\n",
       "  <tbody>\n",
       "    <tr>\n",
       "      <th>0</th>\n",
       "      <td>MainScreenAppear</td>\n",
       "      <td>117328</td>\n",
       "      <td>7419</td>\n",
       "      <td>NaN</td>\n",
       "      <td>100.0</td>\n",
       "    </tr>\n",
       "    <tr>\n",
       "      <th>1</th>\n",
       "      <td>OffersScreenAppear</td>\n",
       "      <td>46333</td>\n",
       "      <td>4593</td>\n",
       "      <td>61.9</td>\n",
       "      <td>61.9</td>\n",
       "    </tr>\n",
       "    <tr>\n",
       "      <th>2</th>\n",
       "      <td>CartScreenAppear</td>\n",
       "      <td>42303</td>\n",
       "      <td>3734</td>\n",
       "      <td>81.3</td>\n",
       "      <td>50.3</td>\n",
       "    </tr>\n",
       "    <tr>\n",
       "      <th>3</th>\n",
       "      <td>PaymentScreenSuccessful</td>\n",
       "      <td>33918</td>\n",
       "      <td>3539</td>\n",
       "      <td>94.8</td>\n",
       "      <td>47.7</td>\n",
       "    </tr>\n",
       "  </tbody>\n",
       "</table>\n",
       "</div>"
      ],
      "text/plain": [
       "                event_name  cnt_events  cnt_users  per_user_last  \\\n",
       "0         MainScreenAppear      117328       7419            NaN   \n",
       "1       OffersScreenAppear       46333       4593           61.9   \n",
       "2         CartScreenAppear       42303       3734           81.3   \n",
       "3  PaymentScreenSuccessful       33918       3539           94.8   \n",
       "\n",
       "   per_user_inorder  \n",
       "0             100.0  \n",
       "1              61.9  \n",
       "2              50.3  \n",
       "3              47.7  "
      ]
     },
     "metadata": {},
     "output_type": "display_data"
    }
   ],
   "source": [
    "#найдем долю c учетом последовательности\n",
    "users_funnel['per_user_inorder'] = ((users_funnel['cnt_users'] / users_funnel.iloc[0, 2])*100).round(1)\n",
    "display(users_funnel)"
   ]
  },
  {
   "cell_type": "markdown",
   "metadata": {},
   "source": [
    "* Посчитав долю пользователей следуя по воронке событий видно, что до успешной оплаты дошло лишь 47.7% пользователей, то есть те кто становиться покупателями. Получается по пути было потеряно 50% пользователей.   \n",
    "   \n",
    "   \n",
    "* На второй этап воронки попадает 62% пользователей, а 38% \"теряются по дороге\". Необходимо веб-аналитикам выянить почему так происходит, наверняка есть возможность исправить ситуацию.    "
   ]
  },
  {
   "cell_type": "markdown",
   "metadata": {},
   "source": [
    "# Шаг 5. Изучите результаты эксперимента"
   ]
  },
  {
   "cell_type": "markdown",
   "metadata": {},
   "source": [
    "Сколько пользователей в каждой экспериментальной группе?  \n",
    "  \n",
    "Есть 2 контрольные группы для А/А-эксперимента, чтобы проверить корректность всех механизмов и расчётов. \n",
    "Проверьте, находят ли статистические критерии разницу между выборками 246 и 247.\n",
    "  \n",
    "Выберите самое популярное событие. Посчитайте число пользователей, совершивших это событие в каждой из контрольных групп. \n",
    "Посчитайте долю пользователей, совершивших это событие. \n",
    "Проверьте, будет ли отличие между группами статистически достоверным. Проделайте то же самое для всех других событий (удобно обернуть проверку в отдельную функцию). Можно ли сказать, что разбиение на группы работает корректно?\n",
    "  \n",
    "Аналогично поступите с группой с изменённым шрифтом. \n",
    "Сравните результаты с каждой из контрольных групп в отдельности по каждому событию. \n",
    "Сравните результаты с объединённой контрольной группой. Какие выводы из эксперимента можно сделать?\n",
    "  \n",
    "Какой уровень значимости вы выбрали при проверке статистических гипотез выше? \n",
    "Посчитайте, сколько проверок статистических гипотез вы сделали. При уровне значимости 0.1 каждый десятый раз можно получать ложный результат. Какой уровень значимости стоит применить? Если вы хотите изменить его, проделайте предыдущие пункты и проверьте свои выводы.\n"
   ]
  },
  {
   "cell_type": "code",
   "execution_count": 28,
   "metadata": {},
   "outputs": [
    {
     "data": {
      "text/plain": [
       "user_id\n",
       "6888746892508752       1\n",
       "6204944347213293942    1\n",
       "6215559225876063378    1\n",
       "6215162890135937308    1\n",
       "6213626876710715478    1\n",
       "                      ..\n",
       "3171454373076660766    1\n",
       "3170212200647575044    1\n",
       "3167974726645136146    1\n",
       "3167390091686880227    1\n",
       "9222603179720523844    1\n",
       "Name: exp_id, Length: 7534, dtype: int64"
      ]
     },
     "execution_count": 28,
     "metadata": {},
     "output_type": "execute_result"
    }
   ],
   "source": [
    "#проверим, что у нас нет пользователей, которые участвовали в двух или более группах одновременно.\n",
    "test_group = logs.groupby('user_id')['exp_id'].agg('nunique').sort_values(ascending=False)\n",
    "test_group"
   ]
  },
  {
   "cell_type": "markdown",
   "metadata": {},
   "source": [
    "<div class=\"alert alert-block alert-info\">  \n",
    "\n",
    "Проверка показала, что каждый пользователь участоввал только в одной группе"
   ]
  },
  {
   "cell_type": "code",
   "execution_count": 29,
   "metadata": {},
   "outputs": [
    {
     "name": "stdout",
     "output_type": "stream",
     "text": [
      "В группе '246' - 2484 пользователей\n",
      "В группе '247' - 2513 пользователей\n",
      "В группе '248' - 2537 пользователей\n"
     ]
    }
   ],
   "source": [
    "#посмотрим сколько пользователей в каждой экспериментальной группе\n",
    "groups = [246, 247, 248]\n",
    "for g in groups:\n",
    "    print(f\"В группе '{g}' - {logs[logs['exp_id']==g]['user_id'].nunique()} пользователей\")"
   ]
  },
  {
   "cell_type": "code",
   "execution_count": 30,
   "metadata": {},
   "outputs": [
    {
     "data": {
      "text/plain": [
       "exp_id\n",
       "246        2484\n",
       "247        2513\n",
       "248        2537\n",
       "246+247    4997\n",
       "Name: user_id, dtype: int64"
      ]
     },
     "metadata": {},
     "output_type": "display_data"
    }
   ],
   "source": [
    "#Проверим находят ли статистические критерии разницу между выборками 246 и 247.\n",
    "#сохраним в переменной пользователей по группам\n",
    "users_by_group = logs.groupby('exp_id')['user_id'].nunique()\n",
    "users_by_group['246+247'] = users_by_group[246] + users_by_group[247]\n",
    "display(users_by_group)"
   ]
  },
  {
   "cell_type": "markdown",
   "metadata": {},
   "source": [
    "Разбивка на группы достаточно равномерная, конечно есть разница в 32 человека между грппами 246 и 247, но можно считать её корректной.\n",
    "\n"
   ]
  },
  {
   "cell_type": "code",
   "execution_count": 31,
   "metadata": {},
   "outputs": [
    {
     "data": {
      "text/html": [
       "<div>\n",
       "<style scoped>\n",
       "    .dataframe tbody tr th:only-of-type {\n",
       "        vertical-align: middle;\n",
       "    }\n",
       "\n",
       "    .dataframe tbody tr th {\n",
       "        vertical-align: top;\n",
       "    }\n",
       "\n",
       "    .dataframe thead th {\n",
       "        text-align: right;\n",
       "    }\n",
       "</style>\n",
       "<table border=\"1\" class=\"dataframe\">\n",
       "  <thead>\n",
       "    <tr style=\"text-align: right;\">\n",
       "      <th>exp_id</th>\n",
       "      <th>246</th>\n",
       "      <th>247</th>\n",
       "      <th>248</th>\n",
       "      <th>246+247</th>\n",
       "    </tr>\n",
       "    <tr>\n",
       "      <th>event_name</th>\n",
       "      <th></th>\n",
       "      <th></th>\n",
       "      <th></th>\n",
       "      <th></th>\n",
       "    </tr>\n",
       "  </thead>\n",
       "  <tbody>\n",
       "    <tr>\n",
       "      <th>MainScreenAppear</th>\n",
       "      <td>2450</td>\n",
       "      <td>2476</td>\n",
       "      <td>2493</td>\n",
       "      <td>4926</td>\n",
       "    </tr>\n",
       "    <tr>\n",
       "      <th>OffersScreenAppear</th>\n",
       "      <td>1542</td>\n",
       "      <td>1520</td>\n",
       "      <td>1531</td>\n",
       "      <td>3062</td>\n",
       "    </tr>\n",
       "    <tr>\n",
       "      <th>CartScreenAppear</th>\n",
       "      <td>1266</td>\n",
       "      <td>1238</td>\n",
       "      <td>1230</td>\n",
       "      <td>2504</td>\n",
       "    </tr>\n",
       "    <tr>\n",
       "      <th>PaymentScreenSuccessful</th>\n",
       "      <td>1200</td>\n",
       "      <td>1158</td>\n",
       "      <td>1181</td>\n",
       "      <td>2358</td>\n",
       "    </tr>\n",
       "  </tbody>\n",
       "</table>\n",
       "</div>"
      ],
      "text/plain": [
       "exp_id                    246   247   248  246+247\n",
       "event_name                                        \n",
       "MainScreenAppear         2450  2476  2493     4926\n",
       "OffersScreenAppear       1542  1520  1531     3062\n",
       "CartScreenAppear         1266  1238  1230     2504\n",
       "PaymentScreenSuccessful  1200  1158  1181     2358"
      ]
     },
     "execution_count": 31,
     "metadata": {},
     "output_type": "execute_result"
    }
   ],
   "source": [
    "#сохраним в переменной пользователей по группам\n",
    "users_by_group_exp = logs[logs['event_name']!='Tutorial'].pivot_table(\n",
    "    index='event_name', \n",
    "    columns='exp_id', \n",
    "    values='user_id',\n",
    "    aggfunc='nunique').sort_values(by=246, ascending=False)\n",
    "users_by_group_exp['246+247'] = users_by_group_exp[246] + users_by_group_exp[247]\n",
    "users_by_group_exp"
   ]
  },
  {
   "cell_type": "code",
   "execution_count": 32,
   "metadata": {},
   "outputs": [
    {
     "data": {
      "text/html": [
       "<div>\n",
       "<style scoped>\n",
       "    .dataframe tbody tr th:only-of-type {\n",
       "        vertical-align: middle;\n",
       "    }\n",
       "\n",
       "    .dataframe tbody tr th {\n",
       "        vertical-align: top;\n",
       "    }\n",
       "\n",
       "    .dataframe thead th {\n",
       "        text-align: right;\n",
       "    }\n",
       "</style>\n",
       "<table border=\"1\" class=\"dataframe\">\n",
       "  <thead>\n",
       "    <tr style=\"text-align: right;\">\n",
       "      <th>exp_id</th>\n",
       "      <th>event_name</th>\n",
       "      <th>246</th>\n",
       "      <th>247</th>\n",
       "      <th>248</th>\n",
       "      <th>246+247</th>\n",
       "      <th>per_246</th>\n",
       "      <th>per_247</th>\n",
       "      <th>per_248</th>\n",
       "      <th>per_246+247</th>\n",
       "    </tr>\n",
       "  </thead>\n",
       "  <tbody>\n",
       "    <tr>\n",
       "      <th>0</th>\n",
       "      <td>MainScreenAppear</td>\n",
       "      <td>2450</td>\n",
       "      <td>2476</td>\n",
       "      <td>2493</td>\n",
       "      <td>4926</td>\n",
       "      <td>98.6</td>\n",
       "      <td>98.5</td>\n",
       "      <td>98.3</td>\n",
       "      <td>98.6</td>\n",
       "    </tr>\n",
       "    <tr>\n",
       "      <th>1</th>\n",
       "      <td>OffersScreenAppear</td>\n",
       "      <td>1542</td>\n",
       "      <td>1520</td>\n",
       "      <td>1531</td>\n",
       "      <td>3062</td>\n",
       "      <td>62.1</td>\n",
       "      <td>60.5</td>\n",
       "      <td>60.3</td>\n",
       "      <td>61.3</td>\n",
       "    </tr>\n",
       "    <tr>\n",
       "      <th>2</th>\n",
       "      <td>CartScreenAppear</td>\n",
       "      <td>1266</td>\n",
       "      <td>1238</td>\n",
       "      <td>1230</td>\n",
       "      <td>2504</td>\n",
       "      <td>51.0</td>\n",
       "      <td>49.3</td>\n",
       "      <td>48.5</td>\n",
       "      <td>50.1</td>\n",
       "    </tr>\n",
       "    <tr>\n",
       "      <th>3</th>\n",
       "      <td>PaymentScreenSuccessful</td>\n",
       "      <td>1200</td>\n",
       "      <td>1158</td>\n",
       "      <td>1181</td>\n",
       "      <td>2358</td>\n",
       "      <td>48.3</td>\n",
       "      <td>46.1</td>\n",
       "      <td>46.6</td>\n",
       "      <td>47.2</td>\n",
       "    </tr>\n",
       "  </tbody>\n",
       "</table>\n",
       "</div>"
      ],
      "text/plain": [
       "exp_id               event_name   246   247   248  246+247  per_246  per_247  \\\n",
       "0              MainScreenAppear  2450  2476  2493     4926     98.6     98.5   \n",
       "1            OffersScreenAppear  1542  1520  1531     3062     62.1     60.5   \n",
       "2              CartScreenAppear  1266  1238  1230     2504     51.0     49.3   \n",
       "3       PaymentScreenSuccessful  1200  1158  1181     2358     48.3     46.1   \n",
       "\n",
       "exp_id  per_248  per_246+247  \n",
       "0          98.3         98.6  \n",
       "1          60.3         61.3  \n",
       "2          48.5         50.1  \n",
       "3          46.6         47.2  "
      ]
     },
     "execution_count": 32,
     "metadata": {},
     "output_type": "execute_result"
    }
   ],
   "source": [
    "users_by_group_exp = users_by_group_exp.reset_index()\n",
    "users_by_group_exp['per_246'] = (users_by_group_exp[246] / users_by_group[246] * 100).round(1)\n",
    "users_by_group_exp['per_247'] = (users_by_group_exp[247] / users_by_group[247] * 100).round(1)\n",
    "users_by_group_exp['per_248'] = (users_by_group_exp[248] / users_by_group[248] * 100).round(1)\n",
    "users_by_group_exp['per_246+247'] = ((users_by_group_exp[246] + users_by_group_exp[247]) / \\\n",
    "                                  (users_by_group[246] + users_by_group[247]) * 100).round(1)\n",
    "users_by_group_exp"
   ]
  },
  {
   "cell_type": "markdown",
   "metadata": {},
   "source": [
    "Самое популяпное событие - это \"MainScreenAppear\" среди всех групп.  \n",
    "  \n",
    "* Число пользователей совершивших самое популярное событие \"MainScreenAppear\", в разрезе групп:  \n",
    "\n",
    "246 - 2452  \n",
    "247 - 2479  \n",
    "248 - 2498  \n",
    "  \n",
    "* Доли пользователей совершивших самое популярное событие \"MainScreenAppear\", в разрезе групп:  \n",
    "  \n",
    "246 - 98,7%  \n",
    "247 - 98,5%  \n",
    "248 - 98,3%  "
   ]
  },
  {
   "cell_type": "markdown",
   "metadata": {},
   "source": [
    "- Напишем функцию для проведения тестов, выберем проверку гипотез о равенстве долей, на вход подаются 3 параметра: группа1, группа2, alpha(уровень статистической значимости).  \n",
    "Так как группы 246 и 247 должны быть одинаковыми, то над ними и контроль жестче. Поэтому для проведения первого тестирования возьмем уровень статистической значимости равный 1%.  \n",
    "  \n",
    "<div class=\"alert alert-block alert-info\">  \n",
    "    \n",
    "**Нулевая гипотеза:** между долями не значимой разницы  \n",
    "    \n",
    "**Альтернативная гипотеза:** между долями есть разница "
   ]
  },
  {
   "cell_type": "code",
   "execution_count": 33,
   "metadata": {},
   "outputs": [
    {
     "name": "stdout",
     "output_type": "stream",
     "text": [
      "MainScreenAppear p-значение: 0.7570597232046099\n",
      "Не получилось отвергнуть нулевую гипотезу, нет оснований считать доли разными\n",
      "\n",
      "OffersScreenAppear p-значение: 0.2480954578522181\n",
      "Не получилось отвергнуть нулевую гипотезу, нет оснований считать доли разными\n",
      "\n",
      "CartScreenAppear p-значение: 0.22883372237997213\n",
      "Не получилось отвергнуть нулевую гипотезу, нет оснований считать доли разными\n",
      "\n",
      "PaymentScreenSuccessful p-значение: 0.11456679313141849\n",
      "Не получилось отвергнуть нулевую гипотезу, нет оснований считать доли разными\n",
      "\n"
     ]
    }
   ],
   "source": [
    "#Напишем функцию для проведения тестов\n",
    "\n",
    "def exp (group, group2, alpha):\n",
    "    for i in users_by_group_exp.index:\n",
    "        p1 = users_by_group_exp[group][i] / users_by_group[group]\n",
    "        # пропорция успехов во второй группе:\n",
    "        p2 = users_by_group_exp[group2][i] / users_by_group[group2]\n",
    "        # пропорция успехов в комбинированном датасете:\n",
    "        p_combined = ((users_by_group_exp[group][i] + users_by_group_exp[group2][i]) / \n",
    "                      (users_by_group[group] + users_by_group[group2]))\n",
    "        # разница пропорций в датасетах\n",
    "        difference = p1 - p2\n",
    "        # считаем статистику в ст.отклонениях стандартного нормального распределения\n",
    "        exp_value = difference / mth.sqrt(p_combined * (1 - p_combined) * \n",
    "                                        (1/users_by_group[group] + 1/users_by_group[group2]))\n",
    "        # задаем стандартное нормальное распределение (среднее 0, ст.отклонение 1)\n",
    "        distr = st.norm(0, 1) \n",
    "        p_value = (1 - distr.cdf(abs(exp_value))) * 2\n",
    "        print('{} p-значение: {}'.format(users_by_group_exp['event_name'][i], p_value))\n",
    "        if (p_value < alpha):\n",
    "            print(\"Отвергаем нулевую гипотезу: между долями есть значимая разница\")\n",
    "        else:\n",
    "            print(\"Не получилось отвергнуть нулевую гипотезу, нет оснований считать доли разными\")\n",
    "        print('')\n",
    "        \n",
    "exp(246, 247, 0.01)"
   ]
  },
  {
   "cell_type": "markdown",
   "metadata": {},
   "source": [
    "<div class=\"alert alert-block alert-info\">  \n",
    "\n",
    "Можем сделать вывод, что разбиение по группам работает корректно. Ведь контрольные группы показали, что нет оснований считать доли разными."
   ]
  },
  {
   "cell_type": "code",
   "execution_count": 34,
   "metadata": {},
   "outputs": [
    {
     "name": "stdout",
     "output_type": "stream",
     "text": [
      "MainScreenAppear p-значение: 0.2949721933554552\n",
      "Не получилось отвергнуть нулевую гипотезу, нет оснований считать доли разными\n",
      "\n",
      "OffersScreenAppear p-значение: 0.20836205402738917\n",
      "Не получилось отвергнуть нулевую гипотезу, нет оснований считать доли разными\n",
      "\n",
      "CartScreenAppear p-значение: 0.07842923237520116\n",
      "Не получилось отвергнуть нулевую гипотезу, нет оснований считать доли разными\n",
      "\n",
      "PaymentScreenSuccessful p-значение: 0.2122553275697796\n",
      "Не получилось отвергнуть нулевую гипотезу, нет оснований считать доли разными\n",
      "\n"
     ]
    }
   ],
   "source": [
    "#246/248 - эксперимент, возьмем уровень статистической значимости 0,05:\n",
    "exp(246, 248, 0.05)"
   ]
  },
  {
   "cell_type": "code",
   "execution_count": 35,
   "metadata": {},
   "outputs": [
    {
     "name": "stdout",
     "output_type": "stream",
     "text": [
      "MainScreenAppear p-значение: 0.4587053616621515\n",
      "Не получилось отвергнуть нулевую гипотезу, нет оснований считать доли разными\n",
      "\n",
      "OffersScreenAppear p-значение: 0.9197817830592261\n",
      "Не получилось отвергнуть нулевую гипотезу, нет оснований считать доли разными\n",
      "\n",
      "CartScreenAppear p-значение: 0.5786197879539783\n",
      "Не получилось отвергнуть нулевую гипотезу, нет оснований считать доли разными\n",
      "\n",
      "PaymentScreenSuccessful p-значение: 0.7373415053803964\n",
      "Не получилось отвергнуть нулевую гипотезу, нет оснований считать доли разными\n",
      "\n"
     ]
    }
   ],
   "source": [
    "#247/248 - эксперимент, возьмем уровень статистической значимости 0,05:\n",
    "exp(247, 248, 0.05)"
   ]
  },
  {
   "cell_type": "code",
   "execution_count": 36,
   "metadata": {},
   "outputs": [
    {
     "name": "stdout",
     "output_type": "stream",
     "text": [
      "MainScreenAppear p-значение: 0.29424526837179577\n",
      "Не получилось отвергнуть нулевую гипотезу, нет оснований считать доли разными\n",
      "\n",
      "OffersScreenAppear p-значение: 0.43425549655188256\n",
      "Не получилось отвергнуть нулевую гипотезу, нет оснований считать доли разными\n",
      "\n",
      "CartScreenAppear p-значение: 0.18175875284404386\n",
      "Не получилось отвергнуть нулевую гипотезу, нет оснований считать доли разными\n",
      "\n",
      "PaymentScreenSuccessful p-значение: 0.6004294282308704\n",
      "Не получилось отвергнуть нулевую гипотезу, нет оснований считать доли разными\n",
      "\n"
     ]
    }
   ],
   "source": [
    "#247+246 - эксперимент, возьмем уровень статистической значимости 0,05:\n",
    "exp('246+247', 248, 0.05)"
   ]
  },
  {
   "cell_type": "markdown",
   "metadata": {},
   "source": [
    "<div class=\"alert alert-block alert-info\">\n",
    "\n",
    "Разницы между группами во всех тестах не выявлено.  \n",
    "Можем сделать вывод, что разбиение по группам работает корректно.  \n",
    "Мы провели 16 тестов 246/247, 246+247/248, 246/248, 247/248"
   ]
  },
  {
   "cell_type": "markdown",
   "metadata": {},
   "source": [
    "# ВЫВОД:  \n",
    "  \n",
    "  \n",
    "В ходе анализа и эксперементов было сделано:  \n",
    "\n",
    "* _Изучение данных:_\n",
    "\n",
    "В ходе проверки данных выяснилось, что данные предоставлены с 25 ююля по 7 августа. Кол-во событий, происходивших в июле незначительны и редки, основные события начинаются в августе. Поэтому июльские данные было принято исключить из анализа и оставить только период с 2019-07-31. В ходе исключения было отрезано 1% пользователей и 1% событий - что вполне допустимо, и существенно не должно повлиять на дальнейший анализ.  \n",
    "Среднее кол-во событий пользователя равно 32.  \n",
    "Кол-во пользователей в каждой группе осталось примерно 2,5 тысячи.    \n",
    "\n",
    "* _Воронка продаж:_  \n",
    "  \n",
    "Идет по следующему порядку:  \n",
    "\n",
    "**MainScreenAppear** - Появление Главного экрана - это самое популярное событие (118 тыс раз). Число пользователей совершивших самое популярное событие \"MainScreenAppear\" - 7429, примерно по 2,5 тысячи на группу. Доли пользователей совершивших самое популярное событие \"MainScreenAppear\" - 98%. По-скольку из данных мы удалили событие руководство пользователя, то вполне может быть, что есть пользователи не совершившие первое событие (но совершившие другие). Также эти пользователи могли совершить его и еще раньще - до начала сбора данных.\n",
    "  \n",
    "**OffersScreenAppear** - Появление Экрана Предложений   \n",
    "**CartScreenAppear** - Добавили в корзину  \n",
    "**PaymentScreenSuccessful** - Успешно оплатили    \n",
    "**Tutorial** - Руководство пользователя    \n",
    "  \n",
    "На второй этап воронки попадает 62% пользователей, а 38% \"теряются по дороге\". Это большая цифра и здесь необходимо веб-аналитикам выянить почему так происходит, наверняка есть возможность исправить ситуацию;  \n",
    "  \n",
    "Пройдя по воронке, до экрана \"PaymentScreenSuccessful\" доходят 47% пользователей, то есть те кто становиться покупателями.   \n",
    "  \n",
    "  \n",
    "* _246/247/248 - эксперименты:_  \n",
    "  \n",
    "В ходе тестирования были проведены эксперименты:  \n",
    "246/247 - уровень статистической значимости - 1%  \n",
    "246/248 - уровень статистической значимости - 5%  \n",
    "247/248 - уровень статистической значимости - 5%  \n",
    "  \n",
    "  \n",
    "- Так как группы 246/247 должны быть одинаковыми, то над ними и контроль жестче. Поэтому для проведения первого тестирования был взят уровень статистической значимости равный 1%. По результатам первого тестирования для всех событий разница не оказалось значимой, поэтому эти группы считаем контрольными.   \n",
    "  \n",
    "В результате всех эксперементов значимой разницы между группами не выявлено. Поэтому можно утверждать, что на поведение пользователей изменение шрифта значимого эффекта не оказало. Тестирование можно назвать успешным - изменение шрифта не повлияло на поведение пользователей.  "
   ]
  }
 ],
 "metadata": {
  "ExecuteTimeLog": [
   {
    "duration": 1243,
    "start_time": "2022-10-19T07:34:31.203Z"
   },
   {
    "duration": 842,
    "start_time": "2022-10-19T07:36:19.650Z"
   },
   {
    "duration": 264,
    "start_time": "2022-10-19T07:36:27.170Z"
   },
   {
    "duration": 263,
    "start_time": "2022-10-19T07:36:32.843Z"
   },
   {
    "duration": 149,
    "start_time": "2022-10-19T07:37:05.560Z"
   },
   {
    "duration": 17,
    "start_time": "2022-10-19T07:37:20.610Z"
   },
   {
    "duration": 25,
    "start_time": "2022-10-19T07:38:10.890Z"
   },
   {
    "duration": 11,
    "start_time": "2022-10-19T07:42:05.164Z"
   },
   {
    "duration": 13,
    "start_time": "2022-10-19T07:42:53.919Z"
   },
   {
    "duration": 55,
    "start_time": "2022-10-19T07:56:59.843Z"
   },
   {
    "duration": 11,
    "start_time": "2022-10-19T08:02:07.544Z"
   },
   {
    "duration": 17,
    "start_time": "2022-10-19T08:02:22.914Z"
   },
   {
    "duration": 1113,
    "start_time": "2022-10-19T08:03:28.257Z"
   },
   {
    "duration": 148,
    "start_time": "2022-10-19T08:03:29.372Z"
   },
   {
    "duration": 17,
    "start_time": "2022-10-19T08:03:29.522Z"
   },
   {
    "duration": 10,
    "start_time": "2022-10-19T08:03:29.541Z"
   },
   {
    "duration": 39,
    "start_time": "2022-10-19T08:03:29.553Z"
   },
   {
    "duration": 13,
    "start_time": "2022-10-19T08:03:29.593Z"
   },
   {
    "duration": 17,
    "start_time": "2022-10-19T08:06:48.215Z"
   },
   {
    "duration": 16,
    "start_time": "2022-10-19T08:07:08.778Z"
   },
   {
    "duration": 11,
    "start_time": "2022-10-19T08:07:23.567Z"
   },
   {
    "duration": 24,
    "start_time": "2022-10-19T08:09:07.079Z"
   },
   {
    "duration": 23,
    "start_time": "2022-10-19T08:09:24.002Z"
   },
   {
    "duration": 4,
    "start_time": "2022-10-19T08:10:38.392Z"
   },
   {
    "duration": 7,
    "start_time": "2022-10-19T08:10:57.148Z"
   },
   {
    "duration": 4,
    "start_time": "2022-10-19T08:11:22.776Z"
   },
   {
    "duration": 3,
    "start_time": "2022-10-19T08:12:04.345Z"
   },
   {
    "duration": 15,
    "start_time": "2022-10-19T08:23:15.484Z"
   },
   {
    "duration": 20,
    "start_time": "2022-10-19T08:23:38.834Z"
   },
   {
    "duration": 3,
    "start_time": "2022-10-19T08:23:46.657Z"
   },
   {
    "duration": 147,
    "start_time": "2022-10-19T08:23:47.151Z"
   },
   {
    "duration": 17,
    "start_time": "2022-10-19T08:23:48.147Z"
   },
   {
    "duration": 12,
    "start_time": "2022-10-19T08:23:51.787Z"
   },
   {
    "duration": 1193,
    "start_time": "2022-10-19T08:23:55.285Z"
   },
   {
    "duration": 26,
    "start_time": "2022-10-19T08:24:08.372Z"
   },
   {
    "duration": 22,
    "start_time": "2022-10-19T08:24:13.564Z"
   },
   {
    "duration": 13,
    "start_time": "2022-10-19T08:24:25.636Z"
   },
   {
    "duration": 14,
    "start_time": "2022-10-19T08:24:34.141Z"
   },
   {
    "duration": 14,
    "start_time": "2022-10-19T08:25:10.871Z"
   },
   {
    "duration": 20,
    "start_time": "2022-10-19T08:25:54.802Z"
   },
   {
    "duration": 13,
    "start_time": "2022-10-19T08:25:59.393Z"
   },
   {
    "duration": 22,
    "start_time": "2022-10-19T08:25:59.762Z"
   },
   {
    "duration": 17,
    "start_time": "2022-10-19T08:26:10.696Z"
   },
   {
    "duration": 14,
    "start_time": "2022-10-19T08:26:11.246Z"
   },
   {
    "duration": 4,
    "start_time": "2022-10-19T08:26:18.053Z"
   },
   {
    "duration": 140,
    "start_time": "2022-10-19T08:26:18.635Z"
   },
   {
    "duration": 17,
    "start_time": "2022-10-19T08:26:19.279Z"
   },
   {
    "duration": 9,
    "start_time": "2022-10-19T08:26:20.239Z"
   },
   {
    "duration": 17,
    "start_time": "2022-10-19T08:26:22.545Z"
   },
   {
    "duration": 20,
    "start_time": "2022-10-19T08:26:52.155Z"
   },
   {
    "duration": 14,
    "start_time": "2022-10-19T08:26:55.575Z"
   },
   {
    "duration": 23,
    "start_time": "2022-10-19T08:26:57.697Z"
   },
   {
    "duration": 1185,
    "start_time": "2022-10-19T08:27:03.477Z"
   },
   {
    "duration": 3,
    "start_time": "2022-10-19T08:27:14.537Z"
   },
   {
    "duration": 18,
    "start_time": "2022-10-19T08:27:18.140Z"
   },
   {
    "duration": 15,
    "start_time": "2022-10-19T08:28:23.379Z"
   },
   {
    "duration": 15,
    "start_time": "2022-10-19T08:28:32.068Z"
   },
   {
    "duration": 5,
    "start_time": "2022-10-19T08:29:13.346Z"
   },
   {
    "duration": 23,
    "start_time": "2022-10-19T08:29:37.877Z"
   },
   {
    "duration": 27,
    "start_time": "2022-10-19T08:29:51.885Z"
   },
   {
    "duration": 5,
    "start_time": "2022-10-19T08:31:24.753Z"
   },
   {
    "duration": 5,
    "start_time": "2022-10-19T08:31:44.488Z"
   },
   {
    "duration": 6,
    "start_time": "2022-10-19T08:32:55.777Z"
   },
   {
    "duration": 15,
    "start_time": "2022-10-19T08:34:15.140Z"
   },
   {
    "duration": 17,
    "start_time": "2022-10-19T08:35:07.793Z"
   },
   {
    "duration": 17,
    "start_time": "2022-10-19T08:36:35.841Z"
   },
   {
    "duration": 254,
    "start_time": "2022-10-19T08:44:32.587Z"
   },
   {
    "duration": 147,
    "start_time": "2022-10-19T08:44:40.701Z"
   },
   {
    "duration": 169,
    "start_time": "2022-10-19T08:44:45.535Z"
   },
   {
    "duration": 325,
    "start_time": "2022-10-19T08:44:51.839Z"
   },
   {
    "duration": 112,
    "start_time": "2022-10-19T08:46:06.931Z"
   },
   {
    "duration": 3,
    "start_time": "2022-10-19T08:46:15.423Z"
   },
   {
    "duration": 4,
    "start_time": "2022-10-19T08:46:39.468Z"
   },
   {
    "duration": 69,
    "start_time": "2022-10-19T08:47:40.833Z"
   },
   {
    "duration": 291,
    "start_time": "2022-10-19T08:47:52.544Z"
   },
   {
    "duration": 296,
    "start_time": "2022-10-19T08:48:01.391Z"
   },
   {
    "duration": 304,
    "start_time": "2022-10-19T08:48:39.940Z"
   },
   {
    "duration": 289,
    "start_time": "2022-10-19T08:48:45.639Z"
   },
   {
    "duration": 301,
    "start_time": "2022-10-19T08:48:57.738Z"
   },
   {
    "duration": 402,
    "start_time": "2022-10-19T08:49:04.421Z"
   },
   {
    "duration": 271,
    "start_time": "2022-10-19T08:49:12.439Z"
   },
   {
    "duration": 289,
    "start_time": "2022-10-19T08:49:20.391Z"
   },
   {
    "duration": 112,
    "start_time": "2022-10-19T08:55:36.848Z"
   },
   {
    "duration": 8,
    "start_time": "2022-10-19T08:55:45.145Z"
   },
   {
    "duration": 16,
    "start_time": "2022-10-19T08:58:22.138Z"
   },
   {
    "duration": 17,
    "start_time": "2022-10-19T09:56:15.848Z"
   },
   {
    "duration": 29,
    "start_time": "2022-10-19T09:57:54.897Z"
   },
   {
    "duration": 7,
    "start_time": "2022-10-19T09:59:50.190Z"
   },
   {
    "duration": 70,
    "start_time": "2022-10-19T10:08:15.860Z"
   },
   {
    "duration": 75,
    "start_time": "2022-10-19T10:11:24.202Z"
   },
   {
    "duration": 84,
    "start_time": "2022-10-19T10:11:34.138Z"
   },
   {
    "duration": 6,
    "start_time": "2022-10-19T10:11:42.843Z"
   },
   {
    "duration": 7,
    "start_time": "2022-10-19T10:11:50.850Z"
   },
   {
    "duration": 4,
    "start_time": "2022-10-19T10:18:32.031Z"
   },
   {
    "duration": 1055,
    "start_time": "2022-10-19T11:51:15.234Z"
   },
   {
    "duration": 155,
    "start_time": "2022-10-19T11:51:16.291Z"
   },
   {
    "duration": 25,
    "start_time": "2022-10-19T11:51:16.448Z"
   },
   {
    "duration": 18,
    "start_time": "2022-10-19T11:51:16.475Z"
   },
   {
    "duration": 23,
    "start_time": "2022-10-19T11:51:16.495Z"
   },
   {
    "duration": 13,
    "start_time": "2022-10-19T11:51:16.519Z"
   },
   {
    "duration": 24,
    "start_time": "2022-10-19T11:51:16.534Z"
   },
   {
    "duration": 12,
    "start_time": "2022-10-19T11:51:16.585Z"
   },
   {
    "duration": 26,
    "start_time": "2022-10-19T11:51:16.599Z"
   },
   {
    "duration": 6,
    "start_time": "2022-10-19T11:51:16.628Z"
   },
   {
    "duration": 472,
    "start_time": "2022-10-19T11:51:16.636Z"
   },
   {
    "duration": 20,
    "start_time": "2022-10-19T11:51:17.110Z"
   },
   {
    "duration": 45,
    "start_time": "2022-10-19T11:51:17.132Z"
   },
   {
    "duration": 16,
    "start_time": "2022-10-19T11:51:17.178Z"
   },
   {
    "duration": 77,
    "start_time": "2022-10-19T11:51:17.195Z"
   },
   {
    "duration": 74,
    "start_time": "2022-10-19T12:00:45.386Z"
   },
   {
    "duration": 63,
    "start_time": "2022-10-19T12:00:51.285Z"
   },
   {
    "duration": 24,
    "start_time": "2022-10-19T12:05:00.955Z"
   },
   {
    "duration": 47,
    "start_time": "2022-10-19T12:05:09.983Z"
   },
   {
    "duration": 35,
    "start_time": "2022-10-19T12:05:42.240Z"
   },
   {
    "duration": 49,
    "start_time": "2022-10-19T12:05:52.004Z"
   },
   {
    "duration": 161,
    "start_time": "2022-10-19T12:09:06.399Z"
   },
   {
    "duration": 161,
    "start_time": "2022-10-19T12:11:16.577Z"
   },
   {
    "duration": 162,
    "start_time": "2022-10-19T12:11:36.555Z"
   },
   {
    "duration": 159,
    "start_time": "2022-10-19T12:11:41.958Z"
   },
   {
    "duration": 121,
    "start_time": "2022-10-19T12:12:47.069Z"
   },
   {
    "duration": 151,
    "start_time": "2022-10-19T12:12:53.499Z"
   },
   {
    "duration": 206,
    "start_time": "2022-10-19T12:13:09.405Z"
   },
   {
    "duration": 157,
    "start_time": "2022-10-19T12:13:49.572Z"
   },
   {
    "duration": 142,
    "start_time": "2022-10-19T12:13:57.978Z"
   },
   {
    "duration": 136,
    "start_time": "2022-10-19T12:14:21.470Z"
   },
   {
    "duration": 164,
    "start_time": "2022-10-19T12:15:01.597Z"
   },
   {
    "duration": 16,
    "start_time": "2022-10-19T12:15:16.015Z"
   },
   {
    "duration": 14,
    "start_time": "2022-10-19T12:15:20.494Z"
   },
   {
    "duration": 12,
    "start_time": "2022-10-19T12:15:28.074Z"
   },
   {
    "duration": 84,
    "start_time": "2022-10-19T12:15:44.934Z"
   },
   {
    "duration": 140,
    "start_time": "2022-10-19T12:15:49.728Z"
   },
   {
    "duration": 157,
    "start_time": "2022-10-19T12:15:53.897Z"
   },
   {
    "duration": 96,
    "start_time": "2022-10-19T12:17:22.408Z"
   },
   {
    "duration": 71,
    "start_time": "2022-10-19T12:17:30.340Z"
   },
   {
    "duration": 92,
    "start_time": "2022-10-19T12:17:37.807Z"
   },
   {
    "duration": 69,
    "start_time": "2022-10-19T12:17:44.459Z"
   },
   {
    "duration": 55,
    "start_time": "2022-10-19T12:17:49.106Z"
   },
   {
    "duration": 59,
    "start_time": "2022-10-19T12:17:59.105Z"
   },
   {
    "duration": 63,
    "start_time": "2022-10-19T12:20:14.388Z"
   },
   {
    "duration": 68,
    "start_time": "2022-10-19T12:22:11.147Z"
   },
   {
    "duration": 51,
    "start_time": "2022-10-19T12:22:23.013Z"
   },
   {
    "duration": 53,
    "start_time": "2022-10-19T12:23:41.195Z"
   },
   {
    "duration": 52,
    "start_time": "2022-10-19T12:24:14.445Z"
   },
   {
    "duration": 66,
    "start_time": "2022-10-19T12:24:29.493Z"
   },
   {
    "duration": 60,
    "start_time": "2022-10-19T12:24:36.911Z"
   },
   {
    "duration": 53,
    "start_time": "2022-10-19T12:24:48.922Z"
   },
   {
    "duration": 1205,
    "start_time": "2022-10-19T12:25:05.358Z"
   },
   {
    "duration": 1133,
    "start_time": "2022-10-19T12:25:55.920Z"
   },
   {
    "duration": 1148,
    "start_time": "2022-10-19T12:26:08.072Z"
   },
   {
    "duration": 149,
    "start_time": "2022-10-19T12:26:09.222Z"
   },
   {
    "duration": 26,
    "start_time": "2022-10-19T12:26:09.372Z"
   },
   {
    "duration": 13,
    "start_time": "2022-10-19T12:26:09.400Z"
   },
   {
    "duration": 26,
    "start_time": "2022-10-19T12:26:09.415Z"
   },
   {
    "duration": 13,
    "start_time": "2022-10-19T12:26:09.443Z"
   },
   {
    "duration": 61,
    "start_time": "2022-10-19T12:26:09.457Z"
   },
   {
    "duration": 10,
    "start_time": "2022-10-19T12:26:09.520Z"
   },
   {
    "duration": 15,
    "start_time": "2022-10-19T12:26:09.532Z"
   },
   {
    "duration": 14,
    "start_time": "2022-10-19T12:26:09.549Z"
   },
   {
    "duration": 413,
    "start_time": "2022-10-19T12:26:09.564Z"
   },
   {
    "duration": 21,
    "start_time": "2022-10-19T12:26:09.979Z"
   },
   {
    "duration": 26,
    "start_time": "2022-10-19T12:26:10.002Z"
   },
   {
    "duration": 5,
    "start_time": "2022-10-19T12:26:10.029Z"
   },
   {
    "duration": 87,
    "start_time": "2022-10-19T12:26:10.035Z"
   },
   {
    "duration": 1385,
    "start_time": "2022-10-19T12:26:10.123Z"
   },
   {
    "duration": 51,
    "start_time": "2022-10-19T12:26:42.278Z"
   },
   {
    "duration": 145,
    "start_time": "2022-10-19T12:26:47.409Z"
   },
   {
    "duration": 76,
    "start_time": "2022-10-19T12:37:22.497Z"
   },
   {
    "duration": 474,
    "start_time": "2022-10-19T12:38:44.925Z"
   },
   {
    "duration": 60,
    "start_time": "2022-10-19T12:43:51.953Z"
   },
   {
    "duration": 60,
    "start_time": "2022-10-19T12:43:55.743Z"
   },
   {
    "duration": 146,
    "start_time": "2022-10-19T12:43:58.029Z"
   },
   {
    "duration": 431,
    "start_time": "2022-10-19T12:50:21.415Z"
   },
   {
    "duration": 419,
    "start_time": "2022-10-19T12:51:16.121Z"
   },
   {
    "duration": 66,
    "start_time": "2022-10-19T12:51:26.833Z"
   },
   {
    "duration": 63,
    "start_time": "2022-10-19T12:51:34.097Z"
   },
   {
    "duration": 452,
    "start_time": "2022-10-19T12:51:39.524Z"
   },
   {
    "duration": 22,
    "start_time": "2022-10-19T12:52:01.623Z"
   },
   {
    "duration": 24,
    "start_time": "2022-10-19T12:52:33.323Z"
   },
   {
    "duration": 45,
    "start_time": "2022-10-19T12:53:17.092Z"
   },
   {
    "duration": 50,
    "start_time": "2022-10-19T12:53:22.240Z"
   },
   {
    "duration": 37,
    "start_time": "2022-10-19T12:53:35.600Z"
   },
   {
    "duration": 33,
    "start_time": "2022-10-19T12:53:50.162Z"
   },
   {
    "duration": 38,
    "start_time": "2022-10-19T12:53:59.176Z"
   },
   {
    "duration": 65,
    "start_time": "2022-10-19T12:55:03.632Z"
   },
   {
    "duration": 49,
    "start_time": "2022-10-19T12:55:42.312Z"
   },
   {
    "duration": 50,
    "start_time": "2022-10-19T12:56:01.974Z"
   },
   {
    "duration": 99,
    "start_time": "2022-10-19T12:56:43.836Z"
   },
   {
    "duration": 52,
    "start_time": "2022-10-19T12:56:47.959Z"
   },
   {
    "duration": 1195,
    "start_time": "2022-10-19T12:56:52.717Z"
   },
   {
    "duration": 141,
    "start_time": "2022-10-19T12:57:12.556Z"
   },
   {
    "duration": 32,
    "start_time": "2022-10-19T12:59:41.414Z"
   },
   {
    "duration": 36,
    "start_time": "2022-10-19T12:59:46.918Z"
   },
   {
    "duration": 30,
    "start_time": "2022-10-19T12:59:57.617Z"
   },
   {
    "duration": 41,
    "start_time": "2022-10-19T13:00:07.568Z"
   },
   {
    "duration": 30,
    "start_time": "2022-10-19T13:00:21.192Z"
   },
   {
    "duration": 27,
    "start_time": "2022-10-19T13:07:16.015Z"
   },
   {
    "duration": 401,
    "start_time": "2022-10-19T13:07:42.088Z"
   },
   {
    "duration": 54,
    "start_time": "2022-10-19T13:08:21.950Z"
   },
   {
    "duration": 57,
    "start_time": "2022-10-19T13:08:50.725Z"
   },
   {
    "duration": 50,
    "start_time": "2022-10-19T13:09:05.899Z"
   },
   {
    "duration": 55,
    "start_time": "2022-10-19T13:10:40.536Z"
   },
   {
    "duration": 143,
    "start_time": "2022-10-19T13:10:45.233Z"
   },
   {
    "duration": 216,
    "start_time": "2022-10-19T13:12:34.135Z"
   },
   {
    "duration": 147,
    "start_time": "2022-10-19T13:12:55.260Z"
   },
   {
    "duration": 145,
    "start_time": "2022-10-19T13:12:59.535Z"
   },
   {
    "duration": 53,
    "start_time": "2022-10-19T13:41:02.810Z"
   },
   {
    "duration": 11,
    "start_time": "2022-10-19T13:41:42.823Z"
   },
   {
    "duration": 48,
    "start_time": "2022-10-19T13:42:00.008Z"
   },
   {
    "duration": 132,
    "start_time": "2022-10-19T14:10:49.513Z"
   },
   {
    "duration": 12,
    "start_time": "2022-10-19T14:10:55.431Z"
   },
   {
    "duration": 11,
    "start_time": "2022-10-19T14:11:46.745Z"
   },
   {
    "duration": 52,
    "start_time": "2022-10-19T14:12:23.679Z"
   },
   {
    "duration": 11,
    "start_time": "2022-10-19T14:12:45.964Z"
   },
   {
    "duration": 13,
    "start_time": "2022-10-19T14:13:00.622Z"
   },
   {
    "duration": 11,
    "start_time": "2022-10-19T14:13:02.452Z"
   },
   {
    "duration": 11,
    "start_time": "2022-10-19T14:14:00.990Z"
   },
   {
    "duration": 11,
    "start_time": "2022-10-19T14:14:15.956Z"
   },
   {
    "duration": 14,
    "start_time": "2022-10-19T14:14:24.975Z"
   },
   {
    "duration": 1287,
    "start_time": "2022-10-20T05:33:52.250Z"
   },
   {
    "duration": 530,
    "start_time": "2022-10-20T05:33:53.539Z"
   },
   {
    "duration": 21,
    "start_time": "2022-10-20T05:33:54.071Z"
   },
   {
    "duration": 11,
    "start_time": "2022-10-20T05:33:54.093Z"
   },
   {
    "duration": 32,
    "start_time": "2022-10-20T05:33:54.105Z"
   },
   {
    "duration": 15,
    "start_time": "2022-10-20T05:33:54.139Z"
   },
   {
    "duration": 28,
    "start_time": "2022-10-20T05:33:54.155Z"
   },
   {
    "duration": 10,
    "start_time": "2022-10-20T05:33:54.184Z"
   },
   {
    "duration": 17,
    "start_time": "2022-10-20T05:33:54.222Z"
   },
   {
    "duration": 5,
    "start_time": "2022-10-20T05:33:54.241Z"
   },
   {
    "duration": 392,
    "start_time": "2022-10-20T05:33:54.248Z"
   },
   {
    "duration": 18,
    "start_time": "2022-10-20T05:33:54.642Z"
   },
   {
    "duration": 30,
    "start_time": "2022-10-20T05:33:54.662Z"
   },
   {
    "duration": 28,
    "start_time": "2022-10-20T05:33:54.694Z"
   },
   {
    "duration": 2,
    "start_time": "2022-10-20T05:33:54.724Z"
   },
   {
    "duration": 114,
    "start_time": "2022-10-20T05:33:54.728Z"
   },
   {
    "duration": 0,
    "start_time": "2022-10-20T05:33:54.843Z"
   },
   {
    "duration": 0,
    "start_time": "2022-10-20T05:33:54.844Z"
   },
   {
    "duration": 7,
    "start_time": "2022-10-20T05:34:28.853Z"
   },
   {
    "duration": 11,
    "start_time": "2022-10-20T05:34:33.504Z"
   },
   {
    "duration": 10,
    "start_time": "2022-10-20T05:34:46.498Z"
   },
   {
    "duration": 11,
    "start_time": "2022-10-20T05:35:18.007Z"
   },
   {
    "duration": 14,
    "start_time": "2022-10-20T05:35:46.390Z"
   },
   {
    "duration": 307,
    "start_time": "2022-10-20T05:36:18.841Z"
   },
   {
    "duration": 60,
    "start_time": "2022-10-20T05:37:09.289Z"
   },
   {
    "duration": 968,
    "start_time": "2022-10-20T05:38:33.041Z"
   },
   {
    "duration": 70,
    "start_time": "2022-10-20T05:38:44.306Z"
   },
   {
    "duration": 58,
    "start_time": "2022-10-20T05:40:21.532Z"
   },
   {
    "duration": 1030,
    "start_time": "2022-10-20T05:40:28.886Z"
   },
   {
    "duration": 147,
    "start_time": "2022-10-20T05:40:29.918Z"
   },
   {
    "duration": 18,
    "start_time": "2022-10-20T05:40:30.067Z"
   },
   {
    "duration": 13,
    "start_time": "2022-10-20T05:40:30.087Z"
   },
   {
    "duration": 31,
    "start_time": "2022-10-20T05:40:30.101Z"
   },
   {
    "duration": 15,
    "start_time": "2022-10-20T05:40:30.133Z"
   },
   {
    "duration": 39,
    "start_time": "2022-10-20T05:40:30.149Z"
   },
   {
    "duration": 8,
    "start_time": "2022-10-20T05:40:30.190Z"
   },
   {
    "duration": 32,
    "start_time": "2022-10-20T05:40:30.200Z"
   },
   {
    "duration": 7,
    "start_time": "2022-10-20T05:40:30.234Z"
   },
   {
    "duration": 373,
    "start_time": "2022-10-20T05:40:30.242Z"
   },
   {
    "duration": 16,
    "start_time": "2022-10-20T05:40:30.621Z"
   },
   {
    "duration": 48,
    "start_time": "2022-10-20T05:40:30.639Z"
   },
   {
    "duration": 4,
    "start_time": "2022-10-20T05:40:30.688Z"
   },
   {
    "duration": 99,
    "start_time": "2022-10-20T05:40:30.694Z"
   },
   {
    "duration": 1000,
    "start_time": "2022-10-20T05:40:30.794Z"
   },
   {
    "duration": 0,
    "start_time": "2022-10-20T05:40:31.795Z"
   },
   {
    "duration": 147,
    "start_time": "2022-10-20T05:41:03.722Z"
   },
   {
    "duration": 143,
    "start_time": "2022-10-20T05:41:20.734Z"
   },
   {
    "duration": 1071,
    "start_time": "2022-10-20T06:11:42.651Z"
   },
   {
    "duration": 147,
    "start_time": "2022-10-20T06:11:43.724Z"
   },
   {
    "duration": 20,
    "start_time": "2022-10-20T06:11:43.872Z"
   },
   {
    "duration": 10,
    "start_time": "2022-10-20T06:11:43.894Z"
   },
   {
    "duration": 31,
    "start_time": "2022-10-20T06:11:43.906Z"
   },
   {
    "duration": 14,
    "start_time": "2022-10-20T06:11:43.938Z"
   },
   {
    "duration": 35,
    "start_time": "2022-10-20T06:11:43.953Z"
   },
   {
    "duration": 9,
    "start_time": "2022-10-20T06:11:43.989Z"
   },
   {
    "duration": 37,
    "start_time": "2022-10-20T06:11:43.999Z"
   },
   {
    "duration": 5,
    "start_time": "2022-10-20T06:11:44.038Z"
   },
   {
    "duration": 385,
    "start_time": "2022-10-20T06:11:44.044Z"
   },
   {
    "duration": 18,
    "start_time": "2022-10-20T06:11:44.430Z"
   },
   {
    "duration": 29,
    "start_time": "2022-10-20T06:11:44.449Z"
   },
   {
    "duration": 4,
    "start_time": "2022-10-20T06:11:44.480Z"
   },
   {
    "duration": 95,
    "start_time": "2022-10-20T06:11:44.486Z"
   },
   {
    "duration": 159,
    "start_time": "2022-10-20T06:11:44.583Z"
   },
   {
    "duration": 156,
    "start_time": "2022-10-20T06:11:44.744Z"
   },
   {
    "duration": 51,
    "start_time": "2022-10-20T06:11:44.901Z"
   },
   {
    "duration": 150,
    "start_time": "2022-10-20T06:12:11.200Z"
   },
   {
    "duration": 92,
    "start_time": "2022-10-20T06:14:17.134Z"
   },
   {
    "duration": 21,
    "start_time": "2022-10-20T06:14:22.670Z"
   },
   {
    "duration": 12,
    "start_time": "2022-10-20T06:14:53.412Z"
   },
   {
    "duration": 11,
    "start_time": "2022-10-20T06:15:52.769Z"
   },
   {
    "duration": 218,
    "start_time": "2022-10-20T06:15:56.186Z"
   },
   {
    "duration": 151,
    "start_time": "2022-10-20T06:16:08.099Z"
   },
   {
    "duration": 334,
    "start_time": "2022-10-20T06:28:59.319Z"
   },
   {
    "duration": 310,
    "start_time": "2022-10-20T06:30:52.232Z"
   },
   {
    "duration": 302,
    "start_time": "2022-10-20T06:30:59.137Z"
   },
   {
    "duration": 316,
    "start_time": "2022-10-20T06:31:17.344Z"
   },
   {
    "duration": 398,
    "start_time": "2022-10-20T06:31:51.089Z"
   },
   {
    "duration": 320,
    "start_time": "2022-10-20T06:31:55.475Z"
   },
   {
    "duration": 62,
    "start_time": "2022-10-20T06:34:31.134Z"
   },
   {
    "duration": 308,
    "start_time": "2022-10-20T06:40:26.763Z"
   },
   {
    "duration": 317,
    "start_time": "2022-10-20T06:40:33.143Z"
   },
   {
    "duration": 4,
    "start_time": "2022-10-20T06:41:27.260Z"
   },
   {
    "duration": 197,
    "start_time": "2022-10-20T06:41:27.266Z"
   },
   {
    "duration": 28,
    "start_time": "2022-10-20T06:41:27.465Z"
   },
   {
    "duration": 33,
    "start_time": "2022-10-20T06:41:27.495Z"
   },
   {
    "duration": 57,
    "start_time": "2022-10-20T06:41:27.530Z"
   },
   {
    "duration": 31,
    "start_time": "2022-10-20T06:41:27.589Z"
   },
   {
    "duration": 43,
    "start_time": "2022-10-20T06:41:27.622Z"
   },
   {
    "duration": 23,
    "start_time": "2022-10-20T06:41:27.667Z"
   },
   {
    "duration": 55,
    "start_time": "2022-10-20T06:41:27.692Z"
   },
   {
    "duration": 45,
    "start_time": "2022-10-20T06:41:27.749Z"
   },
   {
    "duration": 347,
    "start_time": "2022-10-20T06:41:27.796Z"
   },
   {
    "duration": 17,
    "start_time": "2022-10-20T06:41:28.145Z"
   },
   {
    "duration": 31,
    "start_time": "2022-10-20T06:41:28.165Z"
   },
   {
    "duration": 30,
    "start_time": "2022-10-20T06:41:28.198Z"
   },
   {
    "duration": 92,
    "start_time": "2022-10-20T06:41:28.230Z"
   },
   {
    "duration": 198,
    "start_time": "2022-10-20T06:41:28.324Z"
   },
   {
    "duration": 167,
    "start_time": "2022-10-20T06:41:28.525Z"
   },
   {
    "duration": 53,
    "start_time": "2022-10-20T06:41:28.694Z"
   },
   {
    "duration": 315,
    "start_time": "2022-10-20T06:41:47.986Z"
   },
   {
    "duration": 26,
    "start_time": "2022-10-20T06:42:05.481Z"
   },
   {
    "duration": 31,
    "start_time": "2022-10-20T06:42:17.245Z"
   },
   {
    "duration": 152,
    "start_time": "2022-10-20T06:42:21.679Z"
   },
   {
    "duration": 19,
    "start_time": "2022-10-20T06:42:45.361Z"
   },
   {
    "duration": 193,
    "start_time": "2022-10-20T06:42:50.692Z"
   },
   {
    "duration": 25,
    "start_time": "2022-10-20T06:45:13.062Z"
   },
   {
    "duration": 169,
    "start_time": "2022-10-20T06:45:16.730Z"
   },
   {
    "duration": 60,
    "start_time": "2022-10-20T06:54:53.068Z"
   },
   {
    "duration": 150,
    "start_time": "2022-10-20T07:00:36.965Z"
   },
   {
    "duration": 153,
    "start_time": "2022-10-20T07:01:01.839Z"
   },
   {
    "duration": 153,
    "start_time": "2022-10-20T07:01:42.034Z"
   },
   {
    "duration": 21,
    "start_time": "2022-10-20T07:01:52.794Z"
   },
   {
    "duration": 145,
    "start_time": "2022-10-20T07:02:05.338Z"
   },
   {
    "duration": 845,
    "start_time": "2022-10-20T07:19:54.910Z"
   },
   {
    "duration": 1397,
    "start_time": "2022-10-20T07:20:17.634Z"
   },
   {
    "duration": 89,
    "start_time": "2022-10-20T07:21:37.759Z"
   },
   {
    "duration": 75,
    "start_time": "2022-10-20T07:27:24.545Z"
   },
   {
    "duration": 79,
    "start_time": "2022-10-20T07:31:07.337Z"
   },
   {
    "duration": 84,
    "start_time": "2022-10-20T07:31:17.997Z"
   },
   {
    "duration": 86,
    "start_time": "2022-10-20T07:31:35.495Z"
   },
   {
    "duration": 88,
    "start_time": "2022-10-20T07:31:40.393Z"
   },
   {
    "duration": 84,
    "start_time": "2022-10-20T07:31:43.747Z"
   },
   {
    "duration": 80,
    "start_time": "2022-10-20T07:32:03.141Z"
   },
   {
    "duration": 79,
    "start_time": "2022-10-20T07:32:32.644Z"
   },
   {
    "duration": 79,
    "start_time": "2022-10-20T07:32:49.821Z"
   },
   {
    "duration": 78,
    "start_time": "2022-10-20T07:33:26.300Z"
   },
   {
    "duration": 75,
    "start_time": "2022-10-20T07:39:32.327Z"
   },
   {
    "duration": 865,
    "start_time": "2022-10-20T07:44:22.429Z"
   },
   {
    "duration": 76,
    "start_time": "2022-10-20T07:44:36.589Z"
   },
   {
    "duration": 76,
    "start_time": "2022-10-20T07:46:11.169Z"
   },
   {
    "duration": 75,
    "start_time": "2022-10-20T07:47:19.321Z"
   },
   {
    "duration": 1090,
    "start_time": "2022-10-20T07:48:51.725Z"
   },
   {
    "duration": 147,
    "start_time": "2022-10-20T07:48:52.817Z"
   },
   {
    "duration": 17,
    "start_time": "2022-10-20T07:48:52.966Z"
   },
   {
    "duration": 11,
    "start_time": "2022-10-20T07:48:52.985Z"
   },
   {
    "duration": 35,
    "start_time": "2022-10-20T07:48:52.998Z"
   },
   {
    "duration": 14,
    "start_time": "2022-10-20T07:48:53.035Z"
   },
   {
    "duration": 35,
    "start_time": "2022-10-20T07:48:53.050Z"
   },
   {
    "duration": 10,
    "start_time": "2022-10-20T07:48:53.087Z"
   },
   {
    "duration": 32,
    "start_time": "2022-10-20T07:48:53.098Z"
   },
   {
    "duration": 5,
    "start_time": "2022-10-20T07:48:53.131Z"
   },
   {
    "duration": 377,
    "start_time": "2022-10-20T07:48:53.138Z"
   },
   {
    "duration": 19,
    "start_time": "2022-10-20T07:48:53.517Z"
   },
   {
    "duration": 29,
    "start_time": "2022-10-20T07:48:53.537Z"
   },
   {
    "duration": 4,
    "start_time": "2022-10-20T07:48:53.568Z"
   },
   {
    "duration": 92,
    "start_time": "2022-10-20T07:48:53.573Z"
   },
   {
    "duration": 151,
    "start_time": "2022-10-20T07:48:53.667Z"
   },
   {
    "duration": 147,
    "start_time": "2022-10-20T07:48:53.821Z"
   },
   {
    "duration": 89,
    "start_time": "2022-10-20T07:48:53.970Z"
   },
   {
    "duration": 3,
    "start_time": "2022-10-20T07:48:54.060Z"
   },
   {
    "duration": 798,
    "start_time": "2022-10-20T07:59:56.440Z"
   },
   {
    "duration": 1101,
    "start_time": "2022-10-20T08:00:21.522Z"
   },
   {
    "duration": 9,
    "start_time": "2022-10-20T08:04:37.869Z"
   },
   {
    "duration": 78,
    "start_time": "2022-10-20T08:05:58.353Z"
   },
   {
    "duration": 1204,
    "start_time": "2022-10-20T08:06:04.301Z"
   },
   {
    "duration": 150,
    "start_time": "2022-10-20T08:06:05.507Z"
   },
   {
    "duration": 23,
    "start_time": "2022-10-20T08:06:05.658Z"
   },
   {
    "duration": 11,
    "start_time": "2022-10-20T08:06:05.682Z"
   },
   {
    "duration": 42,
    "start_time": "2022-10-20T08:06:05.694Z"
   },
   {
    "duration": 15,
    "start_time": "2022-10-20T08:06:05.737Z"
   },
   {
    "duration": 26,
    "start_time": "2022-10-20T08:06:05.753Z"
   },
   {
    "duration": 10,
    "start_time": "2022-10-20T08:06:05.781Z"
   },
   {
    "duration": 35,
    "start_time": "2022-10-20T08:06:05.792Z"
   },
   {
    "duration": 6,
    "start_time": "2022-10-20T08:06:05.829Z"
   },
   {
    "duration": 386,
    "start_time": "2022-10-20T08:06:05.836Z"
   },
   {
    "duration": 17,
    "start_time": "2022-10-20T08:06:06.224Z"
   },
   {
    "duration": 29,
    "start_time": "2022-10-20T08:06:06.243Z"
   },
   {
    "duration": 4,
    "start_time": "2022-10-20T08:06:06.274Z"
   },
   {
    "duration": 91,
    "start_time": "2022-10-20T08:06:06.280Z"
   },
   {
    "duration": 153,
    "start_time": "2022-10-20T08:06:06.373Z"
   },
   {
    "duration": 164,
    "start_time": "2022-10-20T08:06:06.528Z"
   },
   {
    "duration": 90,
    "start_time": "2022-10-20T08:06:06.693Z"
   },
   {
    "duration": 144,
    "start_time": "2022-10-20T08:06:06.785Z"
   },
   {
    "duration": 2,
    "start_time": "2022-10-20T08:06:06.931Z"
   },
   {
    "duration": 12,
    "start_time": "2022-10-20T08:09:14.951Z"
   },
   {
    "duration": 10,
    "start_time": "2022-10-20T08:09:23.622Z"
   },
   {
    "duration": 103,
    "start_time": "2022-10-20T08:11:01.401Z"
   },
   {
    "duration": 400,
    "start_time": "2022-10-20T08:13:33.435Z"
   },
   {
    "duration": 144,
    "start_time": "2022-10-20T08:15:09.547Z"
   },
   {
    "duration": 78,
    "start_time": "2022-10-20T08:15:58.604Z"
   },
   {
    "duration": 73,
    "start_time": "2022-10-20T08:16:18.042Z"
   },
   {
    "duration": 79,
    "start_time": "2022-10-20T08:18:26.642Z"
   },
   {
    "duration": 75,
    "start_time": "2022-10-20T08:18:41.718Z"
   },
   {
    "duration": 84,
    "start_time": "2022-10-20T08:19:06.762Z"
   },
   {
    "duration": 75,
    "start_time": "2022-10-20T08:19:20.534Z"
   },
   {
    "duration": 76,
    "start_time": "2022-10-20T08:19:49.560Z"
   },
   {
    "duration": 80,
    "start_time": "2022-10-20T08:29:40.457Z"
   },
   {
    "duration": 79,
    "start_time": "2022-10-20T08:30:55.896Z"
   },
   {
    "duration": 84,
    "start_time": "2022-10-20T08:31:17.556Z"
   },
   {
    "duration": 77,
    "start_time": "2022-10-20T08:31:39.415Z"
   },
   {
    "duration": 461,
    "start_time": "2022-10-20T08:32:05.365Z"
   },
   {
    "duration": 81,
    "start_time": "2022-10-20T08:32:11.465Z"
   },
   {
    "duration": 440,
    "start_time": "2022-10-20T08:32:12.435Z"
   },
   {
    "duration": 110,
    "start_time": "2022-10-20T09:03:31.049Z"
   },
   {
    "duration": 105,
    "start_time": "2022-10-20T09:03:36.964Z"
   },
   {
    "duration": 430,
    "start_time": "2022-10-20T09:03:44.825Z"
   },
   {
    "duration": 475,
    "start_time": "2022-10-20T09:04:28.208Z"
   },
   {
    "duration": 459,
    "start_time": "2022-10-20T09:04:35.885Z"
   },
   {
    "duration": 70,
    "start_time": "2022-10-20T09:46:51.861Z"
   },
   {
    "duration": 78,
    "start_time": "2022-10-20T09:47:03.790Z"
   },
   {
    "duration": 57,
    "start_time": "2022-10-20T09:47:56.394Z"
   },
   {
    "duration": 5,
    "start_time": "2022-10-20T10:04:14.556Z"
   },
   {
    "duration": 83,
    "start_time": "2022-10-20T10:06:04.331Z"
   },
   {
    "duration": 89,
    "start_time": "2022-10-20T10:06:16.358Z"
   },
   {
    "duration": 92,
    "start_time": "2022-10-20T10:07:19.094Z"
   },
   {
    "duration": 93,
    "start_time": "2022-10-20T10:07:22.262Z"
   },
   {
    "duration": 95,
    "start_time": "2022-10-20T10:07:28.034Z"
   },
   {
    "duration": 114,
    "start_time": "2022-10-20T10:16:40.318Z"
   },
   {
    "duration": 1616,
    "start_time": "2022-10-20T10:21:36.358Z"
   },
   {
    "duration": 113,
    "start_time": "2022-10-20T10:25:59.509Z"
   },
   {
    "duration": 50,
    "start_time": "2022-10-20T10:26:25.473Z"
   },
   {
    "duration": 50,
    "start_time": "2022-10-20T10:28:30.999Z"
   },
   {
    "duration": 67,
    "start_time": "2022-10-20T10:28:41.339Z"
   },
   {
    "duration": 54,
    "start_time": "2022-10-20T10:29:21.527Z"
   },
   {
    "duration": 63,
    "start_time": "2022-10-20T10:30:46.713Z"
   },
   {
    "duration": 14,
    "start_time": "2022-10-20T10:31:03.812Z"
   },
   {
    "duration": 12,
    "start_time": "2022-10-20T10:33:32.296Z"
   },
   {
    "duration": 19,
    "start_time": "2022-10-20T10:34:13.012Z"
   },
   {
    "duration": 23,
    "start_time": "2022-10-20T10:34:23.302Z"
   },
   {
    "duration": 2,
    "start_time": "2022-10-20T10:34:41.773Z"
   },
   {
    "duration": 72,
    "start_time": "2022-10-20T10:37:36.901Z"
   },
   {
    "duration": 89,
    "start_time": "2022-10-20T10:37:51.106Z"
   },
   {
    "duration": 83,
    "start_time": "2022-10-20T10:39:32.421Z"
   },
   {
    "duration": 14,
    "start_time": "2022-10-20T10:44:43.367Z"
   },
   {
    "duration": 7,
    "start_time": "2022-10-20T10:46:37.068Z"
   },
   {
    "duration": 73,
    "start_time": "2022-10-20T10:49:19.964Z"
   },
   {
    "duration": 75,
    "start_time": "2022-10-20T10:54:19.883Z"
   },
   {
    "duration": 58,
    "start_time": "2022-10-20T10:56:38.439Z"
   },
   {
    "duration": 64,
    "start_time": "2022-10-20T10:56:51.634Z"
   },
   {
    "duration": 54,
    "start_time": "2022-10-20T10:57:19.483Z"
   },
   {
    "duration": 53,
    "start_time": "2022-10-20T10:57:41.791Z"
   },
   {
    "duration": 54,
    "start_time": "2022-10-20T10:58:09.043Z"
   },
   {
    "duration": 51,
    "start_time": "2022-10-20T10:58:18.727Z"
   },
   {
    "duration": 54,
    "start_time": "2022-10-20T10:58:51.609Z"
   },
   {
    "duration": 797,
    "start_time": "2022-10-20T11:23:27.414Z"
   },
   {
    "duration": 78,
    "start_time": "2022-10-20T11:23:38.526Z"
   },
   {
    "duration": 80,
    "start_time": "2022-10-20T11:23:53.928Z"
   },
   {
    "duration": 3,
    "start_time": "2022-10-20T11:24:23.983Z"
   },
   {
    "duration": 10,
    "start_time": "2022-10-20T11:25:09.121Z"
   },
   {
    "duration": 9,
    "start_time": "2022-10-20T12:18:16.089Z"
   },
   {
    "duration": 3,
    "start_time": "2022-10-20T12:18:22.592Z"
   },
   {
    "duration": 161,
    "start_time": "2022-10-20T12:18:22.597Z"
   },
   {
    "duration": 17,
    "start_time": "2022-10-20T12:18:22.760Z"
   },
   {
    "duration": 19,
    "start_time": "2022-10-20T12:18:22.778Z"
   },
   {
    "duration": 23,
    "start_time": "2022-10-20T12:18:22.798Z"
   },
   {
    "duration": 18,
    "start_time": "2022-10-20T12:18:22.822Z"
   },
   {
    "duration": 34,
    "start_time": "2022-10-20T12:18:22.841Z"
   },
   {
    "duration": 7,
    "start_time": "2022-10-20T12:18:22.876Z"
   },
   {
    "duration": 33,
    "start_time": "2022-10-20T12:18:22.884Z"
   },
   {
    "duration": 16,
    "start_time": "2022-10-20T12:18:22.918Z"
   },
   {
    "duration": 330,
    "start_time": "2022-10-20T12:18:22.937Z"
   },
   {
    "duration": 15,
    "start_time": "2022-10-20T12:18:23.269Z"
   },
   {
    "duration": 40,
    "start_time": "2022-10-20T12:18:23.286Z"
   },
   {
    "duration": 4,
    "start_time": "2022-10-20T12:18:23.328Z"
   },
   {
    "duration": 102,
    "start_time": "2022-10-20T12:18:23.333Z"
   },
   {
    "duration": 156,
    "start_time": "2022-10-20T12:18:23.436Z"
   },
   {
    "duration": 163,
    "start_time": "2022-10-20T12:18:23.593Z"
   },
   {
    "duration": 105,
    "start_time": "2022-10-20T12:18:23.757Z"
   },
   {
    "duration": 427,
    "start_time": "2022-10-20T12:18:23.863Z"
   },
   {
    "duration": 2,
    "start_time": "2022-10-20T12:18:24.291Z"
   },
   {
    "duration": 187,
    "start_time": "2022-10-20T12:18:24.295Z"
   },
   {
    "duration": 9,
    "start_time": "2022-10-20T12:18:24.484Z"
   },
   {
    "duration": 3,
    "start_time": "2022-10-20T12:25:33.580Z"
   },
   {
    "duration": 7,
    "start_time": "2022-10-20T12:25:46.055Z"
   },
   {
    "duration": 8,
    "start_time": "2022-10-20T12:26:06.087Z"
   },
   {
    "duration": 14,
    "start_time": "2022-10-20T12:26:12.584Z"
   },
   {
    "duration": 7,
    "start_time": "2022-10-20T12:26:15.867Z"
   },
   {
    "duration": 9,
    "start_time": "2022-10-20T12:26:25.871Z"
   },
   {
    "duration": 7,
    "start_time": "2022-10-20T12:26:29.919Z"
   },
   {
    "duration": 6,
    "start_time": "2022-10-20T12:26:36.355Z"
   },
   {
    "duration": 6,
    "start_time": "2022-10-20T12:26:39.963Z"
   },
   {
    "duration": 8,
    "start_time": "2022-10-20T12:26:43.928Z"
   },
   {
    "duration": 15,
    "start_time": "2022-10-20T12:29:32.544Z"
   },
   {
    "duration": 4,
    "start_time": "2022-10-20T12:29:41.703Z"
   },
   {
    "duration": 7,
    "start_time": "2022-10-20T12:29:51.344Z"
   },
   {
    "duration": 263,
    "start_time": "2022-10-20T12:30:36.894Z"
   },
   {
    "duration": 264,
    "start_time": "2022-10-20T12:30:39.052Z"
   },
   {
    "duration": 341,
    "start_time": "2022-10-20T12:32:09.759Z"
   },
   {
    "duration": 54,
    "start_time": "2022-10-20T12:32:34.611Z"
   },
   {
    "duration": 7,
    "start_time": "2022-10-20T12:32:38.820Z"
   },
   {
    "duration": 68,
    "start_time": "2022-10-20T12:32:41.765Z"
   },
   {
    "duration": 8,
    "start_time": "2022-10-20T12:32:44.034Z"
   },
   {
    "duration": 8,
    "start_time": "2022-10-20T12:39:25.951Z"
   },
   {
    "duration": 13,
    "start_time": "2022-10-20T12:42:05.222Z"
   },
   {
    "duration": 12,
    "start_time": "2022-10-20T12:42:14.200Z"
   },
   {
    "duration": 137,
    "start_time": "2022-10-20T12:42:30.861Z"
   },
   {
    "duration": 14,
    "start_time": "2022-10-20T12:42:42.004Z"
   },
   {
    "duration": 13,
    "start_time": "2022-10-20T12:42:47.651Z"
   },
   {
    "duration": 6,
    "start_time": "2022-10-20T12:43:46.092Z"
   },
   {
    "duration": 7,
    "start_time": "2022-10-20T12:43:52.190Z"
   },
   {
    "duration": 5,
    "start_time": "2022-10-20T12:44:13.723Z"
   },
   {
    "duration": 6,
    "start_time": "2022-10-20T12:44:33.809Z"
   },
   {
    "duration": 7,
    "start_time": "2022-10-20T12:44:44.852Z"
   },
   {
    "duration": 6,
    "start_time": "2022-10-20T12:44:59.031Z"
   },
   {
    "duration": 6,
    "start_time": "2022-10-20T12:45:05.585Z"
   },
   {
    "duration": 7,
    "start_time": "2022-10-20T12:45:08.010Z"
   },
   {
    "duration": 7,
    "start_time": "2022-10-20T12:45:10.993Z"
   },
   {
    "duration": 6,
    "start_time": "2022-10-20T12:46:57.236Z"
   },
   {
    "duration": 6,
    "start_time": "2022-10-20T12:47:07.223Z"
   },
   {
    "duration": 7,
    "start_time": "2022-10-20T12:47:11.757Z"
   },
   {
    "duration": 11,
    "start_time": "2022-10-20T12:47:16.923Z"
   },
   {
    "duration": 6,
    "start_time": "2022-10-20T12:47:23.767Z"
   },
   {
    "duration": 6,
    "start_time": "2022-10-20T12:47:53.457Z"
   },
   {
    "duration": 6,
    "start_time": "2022-10-20T12:48:57.931Z"
   },
   {
    "duration": 6,
    "start_time": "2022-10-20T12:49:23.825Z"
   },
   {
    "duration": 6,
    "start_time": "2022-10-20T12:49:26.964Z"
   },
   {
    "duration": 9,
    "start_time": "2022-10-20T12:49:30.593Z"
   },
   {
    "duration": 5,
    "start_time": "2022-10-20T12:49:35.608Z"
   },
   {
    "duration": 54,
    "start_time": "2022-10-20T12:49:43.879Z"
   },
   {
    "duration": 7,
    "start_time": "2022-10-20T12:49:45.902Z"
   },
   {
    "duration": 7,
    "start_time": "2022-10-20T12:50:12.158Z"
   },
   {
    "duration": 7,
    "start_time": "2022-10-20T12:51:59.426Z"
   },
   {
    "duration": 21,
    "start_time": "2022-10-20T12:52:07.056Z"
   },
   {
    "duration": 28,
    "start_time": "2022-10-20T12:52:09.472Z"
   },
   {
    "duration": 961,
    "start_time": "2022-10-20T12:53:21.447Z"
   },
   {
    "duration": 10,
    "start_time": "2022-10-20T12:53:29.657Z"
   },
   {
    "duration": 10,
    "start_time": "2022-10-20T12:56:22.882Z"
   },
   {
    "duration": 48,
    "start_time": "2022-10-20T12:56:32.934Z"
   },
   {
    "duration": 10,
    "start_time": "2022-10-20T12:57:12.441Z"
   },
   {
    "duration": 13,
    "start_time": "2022-10-20T12:59:35.803Z"
   },
   {
    "duration": 11,
    "start_time": "2022-10-20T12:59:50.750Z"
   },
   {
    "duration": 10,
    "start_time": "2022-10-20T12:59:59.345Z"
   },
   {
    "duration": 9,
    "start_time": "2022-10-20T13:14:36.492Z"
   },
   {
    "duration": 18,
    "start_time": "2022-10-20T13:14:40.755Z"
   },
   {
    "duration": 10,
    "start_time": "2022-10-20T13:14:50.993Z"
   },
   {
    "duration": 285,
    "start_time": "2022-10-20T13:28:55.901Z"
   },
   {
    "duration": 294,
    "start_time": "2022-10-20T13:43:02.283Z"
   },
   {
    "duration": 272,
    "start_time": "2022-10-20T13:43:04.697Z"
   },
   {
    "duration": 1210,
    "start_time": "2022-10-20T13:43:11.097Z"
   },
   {
    "duration": 164,
    "start_time": "2022-10-20T13:43:12.309Z"
   },
   {
    "duration": 21,
    "start_time": "2022-10-20T13:43:12.474Z"
   },
   {
    "duration": 28,
    "start_time": "2022-10-20T13:43:12.497Z"
   },
   {
    "duration": 24,
    "start_time": "2022-10-20T13:43:12.527Z"
   },
   {
    "duration": 16,
    "start_time": "2022-10-20T13:43:12.553Z"
   },
   {
    "duration": 51,
    "start_time": "2022-10-20T13:43:12.571Z"
   },
   {
    "duration": 10,
    "start_time": "2022-10-20T13:43:12.624Z"
   },
   {
    "duration": 20,
    "start_time": "2022-10-20T13:43:12.636Z"
   },
   {
    "duration": 5,
    "start_time": "2022-10-20T13:43:12.659Z"
   },
   {
    "duration": 408,
    "start_time": "2022-10-20T13:43:12.666Z"
   },
   {
    "duration": 19,
    "start_time": "2022-10-20T13:43:13.076Z"
   },
   {
    "duration": 40,
    "start_time": "2022-10-20T13:43:13.097Z"
   },
   {
    "duration": 4,
    "start_time": "2022-10-20T13:43:13.138Z"
   },
   {
    "duration": 85,
    "start_time": "2022-10-20T13:43:13.143Z"
   },
   {
    "duration": 157,
    "start_time": "2022-10-20T13:43:13.229Z"
   },
   {
    "duration": 163,
    "start_time": "2022-10-20T13:43:13.387Z"
   },
   {
    "duration": 111,
    "start_time": "2022-10-20T13:43:13.551Z"
   },
   {
    "duration": 427,
    "start_time": "2022-10-20T13:43:13.663Z"
   },
   {
    "duration": 58,
    "start_time": "2022-10-20T13:43:14.093Z"
   },
   {
    "duration": 9,
    "start_time": "2022-10-20T13:43:14.152Z"
   },
   {
    "duration": 106,
    "start_time": "2022-10-20T13:44:25.047Z"
   },
   {
    "duration": 10,
    "start_time": "2022-10-20T13:44:35.680Z"
   },
   {
    "duration": 11,
    "start_time": "2022-10-20T13:45:02.510Z"
   },
   {
    "duration": 11,
    "start_time": "2022-10-20T13:45:14.646Z"
   },
   {
    "duration": 55,
    "start_time": "2022-10-20T13:48:11.575Z"
   },
   {
    "duration": 9,
    "start_time": "2022-10-20T13:48:17.031Z"
   },
   {
    "duration": 72,
    "start_time": "2022-10-20T13:56:50.619Z"
   },
   {
    "duration": 961,
    "start_time": "2022-10-20T13:57:23.367Z"
   },
   {
    "duration": 869,
    "start_time": "2022-10-20T13:57:58.730Z"
   },
   {
    "duration": 10,
    "start_time": "2022-10-20T14:01:12.148Z"
   },
   {
    "duration": 10,
    "start_time": "2022-10-20T14:01:30.364Z"
   },
   {
    "duration": 10,
    "start_time": "2022-10-20T14:02:06.978Z"
   },
   {
    "duration": 20,
    "start_time": "2022-10-20T14:04:51.147Z"
   },
   {
    "duration": 12,
    "start_time": "2022-10-20T14:04:56.215Z"
   },
   {
    "duration": 12,
    "start_time": "2022-10-20T14:05:00.804Z"
   },
   {
    "duration": 14,
    "start_time": "2022-10-20T14:05:12.328Z"
   },
   {
    "duration": 13,
    "start_time": "2022-10-20T14:05:17.114Z"
   },
   {
    "duration": 12,
    "start_time": "2022-10-20T14:05:24.257Z"
   },
   {
    "duration": 13,
    "start_time": "2022-10-20T14:05:27.847Z"
   },
   {
    "duration": 12,
    "start_time": "2022-10-20T14:05:31.357Z"
   },
   {
    "duration": 14,
    "start_time": "2022-10-20T14:07:27.475Z"
   },
   {
    "duration": 11,
    "start_time": "2022-10-20T14:07:35.239Z"
   },
   {
    "duration": 14,
    "start_time": "2022-10-20T14:07:40.492Z"
   },
   {
    "duration": 14,
    "start_time": "2022-10-20T14:07:54.531Z"
   },
   {
    "duration": 11,
    "start_time": "2022-10-20T14:07:59.270Z"
   },
   {
    "duration": 12,
    "start_time": "2022-10-20T14:08:04.555Z"
   },
   {
    "duration": 11,
    "start_time": "2022-10-20T14:08:09.423Z"
   },
   {
    "duration": 13,
    "start_time": "2022-10-20T14:08:20.993Z"
   },
   {
    "duration": 1459,
    "start_time": "2022-10-21T07:17:21.565Z"
   },
   {
    "duration": 825,
    "start_time": "2022-10-21T07:17:23.026Z"
   },
   {
    "duration": 26,
    "start_time": "2022-10-21T07:17:23.853Z"
   },
   {
    "duration": 36,
    "start_time": "2022-10-21T07:17:23.882Z"
   },
   {
    "duration": 29,
    "start_time": "2022-10-21T07:17:23.920Z"
   },
   {
    "duration": 16,
    "start_time": "2022-10-21T07:17:23.951Z"
   },
   {
    "duration": 33,
    "start_time": "2022-10-21T07:17:23.969Z"
   },
   {
    "duration": 11,
    "start_time": "2022-10-21T07:17:24.006Z"
   },
   {
    "duration": 19,
    "start_time": "2022-10-21T07:17:24.019Z"
   },
   {
    "duration": 13,
    "start_time": "2022-10-21T07:17:24.042Z"
   },
   {
    "duration": 416,
    "start_time": "2022-10-21T07:17:24.056Z"
   },
   {
    "duration": 32,
    "start_time": "2022-10-21T07:17:24.474Z"
   },
   {
    "duration": 28,
    "start_time": "2022-10-21T07:17:24.508Z"
   },
   {
    "duration": 5,
    "start_time": "2022-10-21T07:17:24.539Z"
   },
   {
    "duration": 104,
    "start_time": "2022-10-21T07:17:24.546Z"
   },
   {
    "duration": 165,
    "start_time": "2022-10-21T07:17:24.652Z"
   },
   {
    "duration": 187,
    "start_time": "2022-10-21T07:17:24.818Z"
   },
   {
    "duration": 120,
    "start_time": "2022-10-21T07:17:25.007Z"
   },
   {
    "duration": 524,
    "start_time": "2022-10-21T07:17:25.129Z"
   },
   {
    "duration": 63,
    "start_time": "2022-10-21T07:17:25.655Z"
   },
   {
    "duration": 14,
    "start_time": "2022-10-21T07:17:25.720Z"
   },
   {
    "duration": 115,
    "start_time": "2022-10-21T07:32:34.754Z"
   },
   {
    "duration": 10,
    "start_time": "2022-10-21T07:32:40.557Z"
   },
   {
    "duration": 10,
    "start_time": "2022-10-21T07:32:48.059Z"
   },
   {
    "duration": 12,
    "start_time": "2022-10-21T07:32:56.996Z"
   },
   {
    "duration": 13,
    "start_time": "2022-10-21T07:33:00.927Z"
   },
   {
    "duration": 12,
    "start_time": "2022-10-21T07:33:03.622Z"
   },
   {
    "duration": 10,
    "start_time": "2022-10-21T07:33:09.003Z"
   },
   {
    "duration": 9,
    "start_time": "2022-10-21T07:33:18.255Z"
   },
   {
    "duration": 17,
    "start_time": "2022-10-21T07:33:26.760Z"
   },
   {
    "duration": 9,
    "start_time": "2022-10-21T07:33:30.704Z"
   },
   {
    "duration": 9,
    "start_time": "2022-10-21T07:33:35.547Z"
   },
   {
    "duration": 21,
    "start_time": "2022-10-21T07:34:43.468Z"
   },
   {
    "duration": 10,
    "start_time": "2022-10-21T07:34:57.356Z"
   },
   {
    "duration": 10,
    "start_time": "2022-10-21T07:35:06.703Z"
   },
   {
    "duration": 11,
    "start_time": "2022-10-21T07:37:11.922Z"
   },
   {
    "duration": 10,
    "start_time": "2022-10-21T07:37:31.967Z"
   },
   {
    "duration": 11,
    "start_time": "2022-10-21T07:37:42.029Z"
   },
   {
    "duration": 11,
    "start_time": "2022-10-21T07:37:45.504Z"
   },
   {
    "duration": 14,
    "start_time": "2022-10-21T07:37:49.684Z"
   },
   {
    "duration": 15,
    "start_time": "2022-10-21T07:37:55.578Z"
   },
   {
    "duration": 9,
    "start_time": "2022-10-21T07:38:01.843Z"
   },
   {
    "duration": 9,
    "start_time": "2022-10-21T07:38:38.568Z"
   },
   {
    "duration": 14,
    "start_time": "2022-10-21T07:38:46.919Z"
   },
   {
    "duration": 9,
    "start_time": "2022-10-21T07:38:55.465Z"
   },
   {
    "duration": 9,
    "start_time": "2022-10-21T07:39:00.456Z"
   },
   {
    "duration": 9,
    "start_time": "2022-10-21T07:39:04.315Z"
   },
   {
    "duration": 11,
    "start_time": "2022-10-21T07:39:10.734Z"
   },
   {
    "duration": 16,
    "start_time": "2022-10-21T07:39:15.482Z"
   },
   {
    "duration": 9,
    "start_time": "2022-10-21T07:39:19.554Z"
   },
   {
    "duration": 103,
    "start_time": "2022-10-21T07:39:36.775Z"
   },
   {
    "duration": 78,
    "start_time": "2022-10-21T07:39:40.642Z"
   },
   {
    "duration": 9,
    "start_time": "2022-10-21T07:39:45.948Z"
   },
   {
    "duration": 10,
    "start_time": "2022-10-21T07:39:52.202Z"
   },
   {
    "duration": 8,
    "start_time": "2022-10-21T07:40:05.303Z"
   },
   {
    "duration": 15,
    "start_time": "2022-10-21T07:40:11.074Z"
   },
   {
    "duration": 9,
    "start_time": "2022-10-21T07:40:49.426Z"
   },
   {
    "duration": 14,
    "start_time": "2022-10-21T07:43:29.480Z"
   },
   {
    "duration": 15,
    "start_time": "2022-10-21T07:43:33.786Z"
   },
   {
    "duration": 18,
    "start_time": "2022-10-21T07:43:37.983Z"
   },
   {
    "duration": 83,
    "start_time": "2022-10-21T07:43:43.658Z"
   },
   {
    "duration": 14,
    "start_time": "2022-10-21T07:43:48.250Z"
   },
   {
    "duration": 8,
    "start_time": "2022-10-21T07:43:57.621Z"
   },
   {
    "duration": 9,
    "start_time": "2022-10-21T07:44:17.557Z"
   },
   {
    "duration": 11,
    "start_time": "2022-10-21T07:44:23.754Z"
   },
   {
    "duration": 15,
    "start_time": "2022-10-21T07:44:27.085Z"
   },
   {
    "duration": 8,
    "start_time": "2022-10-21T07:44:31.716Z"
   },
   {
    "duration": 13,
    "start_time": "2022-10-21T07:44:36.666Z"
   },
   {
    "duration": 9,
    "start_time": "2022-10-21T07:44:42.329Z"
   },
   {
    "duration": 12,
    "start_time": "2022-10-21T07:44:46.508Z"
   },
   {
    "duration": 1230,
    "start_time": "2022-10-21T08:41:23.594Z"
   },
   {
    "duration": 174,
    "start_time": "2022-10-21T08:41:24.826Z"
   },
   {
    "duration": 25,
    "start_time": "2022-10-21T08:41:25.004Z"
   },
   {
    "duration": 13,
    "start_time": "2022-10-21T08:41:25.031Z"
   },
   {
    "duration": 21,
    "start_time": "2022-10-21T08:41:25.046Z"
   },
   {
    "duration": 40,
    "start_time": "2022-10-21T08:41:25.069Z"
   },
   {
    "duration": 34,
    "start_time": "2022-10-21T08:41:25.110Z"
   },
   {
    "duration": 8,
    "start_time": "2022-10-21T08:41:25.145Z"
   },
   {
    "duration": 16,
    "start_time": "2022-10-21T08:41:25.154Z"
   },
   {
    "duration": 25,
    "start_time": "2022-10-21T08:41:25.172Z"
   },
   {
    "duration": 439,
    "start_time": "2022-10-21T08:41:25.198Z"
   },
   {
    "duration": 18,
    "start_time": "2022-10-21T08:41:25.639Z"
   },
   {
    "duration": 45,
    "start_time": "2022-10-21T08:41:25.659Z"
   },
   {
    "duration": 7,
    "start_time": "2022-10-21T08:41:25.709Z"
   },
   {
    "duration": 97,
    "start_time": "2022-10-21T08:41:25.717Z"
   },
   {
    "duration": 162,
    "start_time": "2022-10-21T08:41:25.816Z"
   },
   {
    "duration": 184,
    "start_time": "2022-10-21T08:41:25.980Z"
   },
   {
    "duration": 109,
    "start_time": "2022-10-21T08:41:26.165Z"
   },
   {
    "duration": 538,
    "start_time": "2022-10-21T08:41:26.276Z"
   },
   {
    "duration": 60,
    "start_time": "2022-10-21T08:41:26.816Z"
   },
   {
    "duration": 27,
    "start_time": "2022-10-21T08:41:26.878Z"
   },
   {
    "duration": 37,
    "start_time": "2022-10-21T08:41:26.906Z"
   },
   {
    "duration": 9,
    "start_time": "2022-10-21T08:41:35.020Z"
   },
   {
    "duration": 10,
    "start_time": "2022-10-21T08:41:38.331Z"
   },
   {
    "duration": 9,
    "start_time": "2022-10-21T08:41:50.512Z"
   },
   {
    "duration": 8,
    "start_time": "2022-10-21T08:41:54.141Z"
   },
   {
    "duration": 105,
    "start_time": "2022-10-21T08:45:22.543Z"
   },
   {
    "duration": 2,
    "start_time": "2022-10-21T08:45:47.914Z"
   },
   {
    "duration": 1182,
    "start_time": "2022-10-21T09:59:22.847Z"
   },
   {
    "duration": 176,
    "start_time": "2022-10-21T09:59:24.031Z"
   },
   {
    "duration": 18,
    "start_time": "2022-10-21T09:59:24.208Z"
   },
   {
    "duration": 12,
    "start_time": "2022-10-21T09:59:24.228Z"
   },
   {
    "duration": 34,
    "start_time": "2022-10-21T09:59:24.242Z"
   },
   {
    "duration": 27,
    "start_time": "2022-10-21T09:59:24.278Z"
   },
   {
    "duration": 24,
    "start_time": "2022-10-21T09:59:24.307Z"
   },
   {
    "duration": 9,
    "start_time": "2022-10-21T09:59:24.332Z"
   },
   {
    "duration": 22,
    "start_time": "2022-10-21T09:59:24.342Z"
   },
   {
    "duration": 9,
    "start_time": "2022-10-21T09:59:24.386Z"
   },
   {
    "duration": 408,
    "start_time": "2022-10-21T09:59:24.397Z"
   },
   {
    "duration": 17,
    "start_time": "2022-10-21T09:59:24.807Z"
   },
   {
    "duration": 26,
    "start_time": "2022-10-21T09:59:24.826Z"
   },
   {
    "duration": 5,
    "start_time": "2022-10-21T09:59:24.854Z"
   },
   {
    "duration": 73,
    "start_time": "2022-10-21T09:59:24.885Z"
   },
   {
    "duration": 179,
    "start_time": "2022-10-21T09:59:24.959Z"
   },
   {
    "duration": 176,
    "start_time": "2022-10-21T09:59:25.139Z"
   },
   {
    "duration": 107,
    "start_time": "2022-10-21T09:59:25.316Z"
   },
   {
    "duration": 454,
    "start_time": "2022-10-21T09:59:25.424Z"
   },
   {
    "duration": 62,
    "start_time": "2022-10-21T09:59:25.880Z"
   },
   {
    "duration": 8,
    "start_time": "2022-10-21T09:59:25.943Z"
   },
   {
    "duration": 11,
    "start_time": "2022-10-21T09:59:25.953Z"
   },
   {
    "duration": 128,
    "start_time": "2022-10-21T09:59:25.965Z"
   },
   {
    "duration": 10,
    "start_time": "2022-10-21T10:02:38.672Z"
   },
   {
    "duration": 11,
    "start_time": "2022-10-21T10:03:15.954Z"
   },
   {
    "duration": 19,
    "start_time": "2022-10-21T10:04:21.980Z"
   },
   {
    "duration": 14,
    "start_time": "2022-10-21T10:04:35.518Z"
   },
   {
    "duration": 1732,
    "start_time": "2022-10-21T10:05:29.913Z"
   },
   {
    "duration": 23,
    "start_time": "2022-10-21T10:05:37.570Z"
   },
   {
    "duration": 1004,
    "start_time": "2022-10-21T10:50:15.710Z"
   },
   {
    "duration": 980,
    "start_time": "2022-10-21T10:50:30.448Z"
   },
   {
    "duration": 49,
    "start_time": "2022-10-21T10:50:34.004Z"
   },
   {
    "duration": 42,
    "start_time": "2022-10-21T10:51:13.416Z"
   },
   {
    "duration": 44,
    "start_time": "2022-10-21T10:58:17.193Z"
   },
   {
    "duration": 34,
    "start_time": "2022-10-21T10:59:25.599Z"
   },
   {
    "duration": 33,
    "start_time": "2022-10-21T10:59:34.107Z"
   },
   {
    "duration": 42,
    "start_time": "2022-10-21T10:59:39.297Z"
   },
   {
    "duration": 51,
    "start_time": "2022-10-21T11:00:27.212Z"
   },
   {
    "duration": 49,
    "start_time": "2022-10-21T11:01:38.973Z"
   },
   {
    "duration": 36,
    "start_time": "2022-10-21T11:02:15.702Z"
   },
   {
    "duration": 38,
    "start_time": "2022-10-21T11:02:21.417Z"
   },
   {
    "duration": 35,
    "start_time": "2022-10-21T11:02:24.807Z"
   },
   {
    "duration": 66,
    "start_time": "2022-10-21T11:23:31.697Z"
   },
   {
    "duration": 81,
    "start_time": "2022-10-21T11:23:41.370Z"
   },
   {
    "duration": 1236,
    "start_time": "2022-10-21T11:23:53.197Z"
   },
   {
    "duration": 175,
    "start_time": "2022-10-21T11:23:54.435Z"
   },
   {
    "duration": 20,
    "start_time": "2022-10-21T11:23:54.612Z"
   },
   {
    "duration": 13,
    "start_time": "2022-10-21T11:23:54.635Z"
   },
   {
    "duration": 47,
    "start_time": "2022-10-21T11:23:54.650Z"
   },
   {
    "duration": 21,
    "start_time": "2022-10-21T11:23:54.698Z"
   },
   {
    "duration": 36,
    "start_time": "2022-10-21T11:23:54.721Z"
   },
   {
    "duration": 12,
    "start_time": "2022-10-21T11:23:54.759Z"
   },
   {
    "duration": 24,
    "start_time": "2022-10-21T11:23:54.786Z"
   },
   {
    "duration": 7,
    "start_time": "2022-10-21T11:23:54.813Z"
   },
   {
    "duration": 440,
    "start_time": "2022-10-21T11:23:54.822Z"
   },
   {
    "duration": 30,
    "start_time": "2022-10-21T11:23:55.264Z"
   },
   {
    "duration": 31,
    "start_time": "2022-10-21T11:23:55.296Z"
   },
   {
    "duration": 5,
    "start_time": "2022-10-21T11:23:55.329Z"
   },
   {
    "duration": 111,
    "start_time": "2022-10-21T11:23:55.336Z"
   },
   {
    "duration": 183,
    "start_time": "2022-10-21T11:23:55.449Z"
   },
   {
    "duration": 199,
    "start_time": "2022-10-21T11:23:55.634Z"
   },
   {
    "duration": 117,
    "start_time": "2022-10-21T11:23:55.835Z"
   },
   {
    "duration": 498,
    "start_time": "2022-10-21T11:23:55.954Z"
   },
   {
    "duration": 70,
    "start_time": "2022-10-21T11:23:56.454Z"
   },
   {
    "duration": 22,
    "start_time": "2022-10-21T11:23:56.526Z"
   },
   {
    "duration": 18,
    "start_time": "2022-10-21T11:23:56.551Z"
   },
   {
    "duration": 71,
    "start_time": "2022-10-21T11:23:56.571Z"
   },
   {
    "duration": 0,
    "start_time": "2022-10-21T11:23:56.644Z"
   },
   {
    "duration": 76,
    "start_time": "2022-10-21T11:24:19.105Z"
   },
   {
    "duration": 115,
    "start_time": "2022-10-21T11:25:05.364Z"
   },
   {
    "duration": 27,
    "start_time": "2022-10-21T11:25:23.411Z"
   },
   {
    "duration": 40,
    "start_time": "2022-10-21T11:27:49.084Z"
   },
   {
    "duration": 18,
    "start_time": "2022-10-21T12:20:58.110Z"
   },
   {
    "duration": 5,
    "start_time": "2022-10-21T12:26:32.927Z"
   },
   {
    "duration": 46,
    "start_time": "2022-10-21T12:27:08.621Z"
   },
   {
    "duration": 54,
    "start_time": "2022-10-21T12:27:17.155Z"
   },
   {
    "duration": 3,
    "start_time": "2022-10-21T12:27:29.943Z"
   },
   {
    "duration": 13,
    "start_time": "2022-10-21T12:27:46.349Z"
   },
   {
    "duration": 143,
    "start_time": "2022-10-21T12:29:19.755Z"
   },
   {
    "duration": 95,
    "start_time": "2022-10-21T12:29:46.706Z"
   },
   {
    "duration": 31,
    "start_time": "2022-10-21T12:32:08.286Z"
   },
   {
    "duration": 103,
    "start_time": "2022-10-21T12:37:52.611Z"
   },
   {
    "duration": 84,
    "start_time": "2022-10-21T12:39:02.047Z"
   },
   {
    "duration": 21,
    "start_time": "2022-10-21T12:43:49.098Z"
   },
   {
    "duration": 18,
    "start_time": "2022-10-21T12:43:53.009Z"
   },
   {
    "duration": 10,
    "start_time": "2022-10-21T12:44:18.319Z"
   },
   {
    "duration": 3,
    "start_time": "2022-10-21T12:44:23.019Z"
   },
   {
    "duration": 9,
    "start_time": "2022-10-21T12:44:41.191Z"
   },
   {
    "duration": 5,
    "start_time": "2022-10-21T12:45:25.328Z"
   },
   {
    "duration": 9,
    "start_time": "2022-10-21T12:45:34.534Z"
   },
   {
    "duration": 12,
    "start_time": "2022-10-21T12:46:50.989Z"
   },
   {
    "duration": 13,
    "start_time": "2022-10-21T12:47:50.428Z"
   },
   {
    "duration": 9,
    "start_time": "2022-10-21T12:48:36.677Z"
   },
   {
    "duration": 10,
    "start_time": "2022-10-21T12:57:06.875Z"
   },
   {
    "duration": 10,
    "start_time": "2022-10-21T12:57:10.493Z"
   },
   {
    "duration": 10,
    "start_time": "2022-10-21T12:57:17.556Z"
   },
   {
    "duration": 4,
    "start_time": "2022-10-21T12:57:28.922Z"
   },
   {
    "duration": 1135,
    "start_time": "2022-10-21T12:57:50.948Z"
   },
   {
    "duration": 151,
    "start_time": "2022-10-21T12:57:52.085Z"
   },
   {
    "duration": 18,
    "start_time": "2022-10-21T12:57:52.237Z"
   },
   {
    "duration": 31,
    "start_time": "2022-10-21T12:57:52.257Z"
   },
   {
    "duration": 29,
    "start_time": "2022-10-21T12:57:52.289Z"
   },
   {
    "duration": 14,
    "start_time": "2022-10-21T12:57:52.320Z"
   },
   {
    "duration": 50,
    "start_time": "2022-10-21T12:57:52.335Z"
   },
   {
    "duration": 13,
    "start_time": "2022-10-21T12:57:52.386Z"
   },
   {
    "duration": 18,
    "start_time": "2022-10-21T12:57:52.401Z"
   },
   {
    "duration": 27,
    "start_time": "2022-10-21T12:57:52.422Z"
   },
   {
    "duration": 421,
    "start_time": "2022-10-21T12:57:52.451Z"
   },
   {
    "duration": 29,
    "start_time": "2022-10-21T12:57:52.874Z"
   },
   {
    "duration": 30,
    "start_time": "2022-10-21T12:57:52.904Z"
   },
   {
    "duration": 10,
    "start_time": "2022-10-21T12:57:52.936Z"
   },
   {
    "duration": 109,
    "start_time": "2022-10-21T12:57:52.947Z"
   },
   {
    "duration": 159,
    "start_time": "2022-10-21T12:57:53.057Z"
   },
   {
    "duration": 170,
    "start_time": "2022-10-21T12:57:53.217Z"
   },
   {
    "duration": 107,
    "start_time": "2022-10-21T12:57:53.388Z"
   },
   {
    "duration": 525,
    "start_time": "2022-10-21T12:57:53.497Z"
   },
   {
    "duration": 69,
    "start_time": "2022-10-21T12:57:54.023Z"
   },
   {
    "duration": 10,
    "start_time": "2022-10-21T12:57:54.094Z"
   },
   {
    "duration": 40,
    "start_time": "2022-10-21T12:57:54.105Z"
   },
   {
    "duration": 58,
    "start_time": "2022-10-21T12:57:54.147Z"
   },
   {
    "duration": 53,
    "start_time": "2022-10-21T12:57:54.207Z"
   },
   {
    "duration": 185,
    "start_time": "2022-10-21T12:57:54.261Z"
   },
   {
    "duration": 3,
    "start_time": "2022-10-21T12:58:04.138Z"
   },
   {
    "duration": 12,
    "start_time": "2022-10-21T12:58:10.887Z"
   },
   {
    "duration": 9,
    "start_time": "2022-10-21T12:58:21.280Z"
   },
   {
    "duration": 11,
    "start_time": "2022-10-21T12:58:39.027Z"
   },
   {
    "duration": 13,
    "start_time": "2022-10-21T12:58:41.421Z"
   },
   {
    "duration": 11,
    "start_time": "2022-10-21T12:58:42.854Z"
   },
   {
    "duration": 1142,
    "start_time": "2022-10-21T12:59:20.230Z"
   },
   {
    "duration": 1376,
    "start_time": "2022-10-21T12:59:25.194Z"
   },
   {
    "duration": 1094,
    "start_time": "2022-10-21T12:59:51.754Z"
   },
   {
    "duration": 1293,
    "start_time": "2022-10-21T13:00:07.454Z"
   },
   {
    "duration": 10,
    "start_time": "2022-10-21T13:01:20.872Z"
   },
   {
    "duration": 10,
    "start_time": "2022-10-21T13:02:34.512Z"
   },
   {
    "duration": 18,
    "start_time": "2022-10-21T13:07:56.577Z"
   },
   {
    "duration": 19,
    "start_time": "2022-10-21T13:08:07.074Z"
   },
   {
    "duration": 10,
    "start_time": "2022-10-21T13:08:09.011Z"
   },
   {
    "duration": 1268,
    "start_time": "2022-10-21T13:08:15.670Z"
   },
   {
    "duration": 163,
    "start_time": "2022-10-21T13:08:16.940Z"
   },
   {
    "duration": 18,
    "start_time": "2022-10-21T13:08:17.104Z"
   },
   {
    "duration": 11,
    "start_time": "2022-10-21T13:08:17.124Z"
   },
   {
    "duration": 41,
    "start_time": "2022-10-21T13:08:17.137Z"
   },
   {
    "duration": 50,
    "start_time": "2022-10-21T13:08:17.180Z"
   },
   {
    "duration": 54,
    "start_time": "2022-10-21T13:08:17.232Z"
   },
   {
    "duration": 28,
    "start_time": "2022-10-21T13:08:17.287Z"
   },
   {
    "duration": 48,
    "start_time": "2022-10-21T13:08:17.317Z"
   },
   {
    "duration": 8,
    "start_time": "2022-10-21T13:08:17.369Z"
   },
   {
    "duration": 489,
    "start_time": "2022-10-21T13:08:17.379Z"
   },
   {
    "duration": 32,
    "start_time": "2022-10-21T13:08:17.870Z"
   },
   {
    "duration": 77,
    "start_time": "2022-10-21T13:08:17.906Z"
   },
   {
    "duration": 39,
    "start_time": "2022-10-21T13:08:17.989Z"
   },
   {
    "duration": 119,
    "start_time": "2022-10-21T13:08:18.030Z"
   },
   {
    "duration": 181,
    "start_time": "2022-10-21T13:08:18.151Z"
   },
   {
    "duration": 207,
    "start_time": "2022-10-21T13:08:18.334Z"
   },
   {
    "duration": 115,
    "start_time": "2022-10-21T13:08:18.543Z"
   },
   {
    "duration": 520,
    "start_time": "2022-10-21T13:08:18.660Z"
   },
   {
    "duration": 60,
    "start_time": "2022-10-21T13:08:19.182Z"
   },
   {
    "duration": 9,
    "start_time": "2022-10-21T13:08:19.243Z"
   },
   {
    "duration": 12,
    "start_time": "2022-10-21T13:08:19.253Z"
   },
   {
    "duration": 37,
    "start_time": "2022-10-21T13:08:19.267Z"
   },
   {
    "duration": 32,
    "start_time": "2022-10-21T13:08:19.306Z"
   },
   {
    "duration": 192,
    "start_time": "2022-10-21T13:08:19.339Z"
   },
   {
    "duration": 84,
    "start_time": "2022-10-21T13:52:26.898Z"
   },
   {
    "duration": 81,
    "start_time": "2022-10-21T13:52:41.229Z"
   },
   {
    "duration": 76,
    "start_time": "2022-10-21T13:52:52.277Z"
   },
   {
    "duration": 39,
    "start_time": "2022-10-21T13:53:14.508Z"
   },
   {
    "duration": 34,
    "start_time": "2022-10-21T13:53:32.771Z"
   },
   {
    "duration": 129,
    "start_time": "2022-10-21T13:53:56.875Z"
   },
   {
    "duration": 120,
    "start_time": "2022-10-21T13:55:41.047Z"
   },
   {
    "duration": 6,
    "start_time": "2022-10-21T13:57:02.213Z"
   },
   {
    "duration": 1662,
    "start_time": "2022-10-21T13:58:08.770Z"
   },
   {
    "duration": 116,
    "start_time": "2022-10-21T13:58:22.731Z"
   },
   {
    "duration": 110,
    "start_time": "2022-10-21T13:58:28.803Z"
   },
   {
    "duration": 123,
    "start_time": "2022-10-21T13:58:33.950Z"
   },
   {
    "duration": 134,
    "start_time": "2022-10-21T13:59:05.836Z"
   },
   {
    "duration": 115,
    "start_time": "2022-10-21T14:02:13.008Z"
   },
   {
    "duration": 111,
    "start_time": "2022-10-21T14:02:23.014Z"
   },
   {
    "duration": 113,
    "start_time": "2022-10-21T14:02:28.151Z"
   },
   {
    "duration": 111,
    "start_time": "2022-10-21T14:02:45.744Z"
   },
   {
    "duration": 84,
    "start_time": "2022-10-21T14:02:54.541Z"
   },
   {
    "duration": 111,
    "start_time": "2022-10-21T14:03:03.799Z"
   },
   {
    "duration": 114,
    "start_time": "2022-10-21T14:08:35.019Z"
   },
   {
    "duration": 14,
    "start_time": "2022-10-21T14:14:41.159Z"
   },
   {
    "duration": 9,
    "start_time": "2022-10-21T14:15:06.393Z"
   },
   {
    "duration": 7,
    "start_time": "2022-10-21T14:15:19.723Z"
   },
   {
    "duration": 52,
    "start_time": "2022-10-23T11:25:59.732Z"
   },
   {
    "duration": 7,
    "start_time": "2022-10-23T11:26:04.300Z"
   },
   {
    "duration": 8,
    "start_time": "2022-10-23T11:26:14.947Z"
   },
   {
    "duration": 8,
    "start_time": "2022-10-23T11:26:15.440Z"
   },
   {
    "duration": 1473,
    "start_time": "2022-10-23T11:26:22.630Z"
   },
   {
    "duration": 484,
    "start_time": "2022-10-23T11:26:24.105Z"
   },
   {
    "duration": 22,
    "start_time": "2022-10-23T11:26:24.591Z"
   },
   {
    "duration": 16,
    "start_time": "2022-10-23T11:26:24.615Z"
   },
   {
    "duration": 50,
    "start_time": "2022-10-23T11:26:24.632Z"
   },
   {
    "duration": 18,
    "start_time": "2022-10-23T11:26:24.684Z"
   },
   {
    "duration": 58,
    "start_time": "2022-10-23T11:26:24.704Z"
   },
   {
    "duration": 10,
    "start_time": "2022-10-23T11:26:24.764Z"
   },
   {
    "duration": 27,
    "start_time": "2022-10-23T11:26:24.776Z"
   },
   {
    "duration": 6,
    "start_time": "2022-10-23T11:26:24.806Z"
   },
   {
    "duration": 447,
    "start_time": "2022-10-23T11:26:24.814Z"
   },
   {
    "duration": 22,
    "start_time": "2022-10-23T11:26:25.263Z"
   },
   {
    "duration": 29,
    "start_time": "2022-10-23T11:26:25.287Z"
   },
   {
    "duration": 4,
    "start_time": "2022-10-23T11:26:25.318Z"
   },
   {
    "duration": 106,
    "start_time": "2022-10-23T11:26:25.324Z"
   },
   {
    "duration": 208,
    "start_time": "2022-10-23T11:26:25.432Z"
   },
   {
    "duration": 187,
    "start_time": "2022-10-23T11:26:25.641Z"
   },
   {
    "duration": 113,
    "start_time": "2022-10-23T11:26:25.830Z"
   },
   {
    "duration": 527,
    "start_time": "2022-10-23T11:26:25.945Z"
   },
   {
    "duration": 60,
    "start_time": "2022-10-23T11:26:26.473Z"
   },
   {
    "duration": 21,
    "start_time": "2022-10-23T11:26:26.534Z"
   },
   {
    "duration": 25,
    "start_time": "2022-10-23T11:26:26.557Z"
   },
   {
    "duration": 31,
    "start_time": "2022-10-23T11:26:26.584Z"
   },
   {
    "duration": 45,
    "start_time": "2022-10-23T11:26:26.618Z"
   },
   {
    "duration": 115,
    "start_time": "2022-10-23T11:26:26.665Z"
   },
   {
    "duration": 612,
    "start_time": "2022-10-23T11:26:26.782Z"
   },
   {
    "duration": 9,
    "start_time": "2022-10-23T11:26:40.487Z"
   },
   {
    "duration": 12,
    "start_time": "2022-10-23T11:26:50.029Z"
   },
   {
    "duration": 104,
    "start_time": "2022-10-23T11:27:27.295Z"
   },
   {
    "duration": 16,
    "start_time": "2022-10-23T11:27:28.550Z"
   },
   {
    "duration": 35,
    "start_time": "2022-10-23T11:30:22.184Z"
   },
   {
    "duration": 32,
    "start_time": "2022-10-23T11:30:32.361Z"
   },
   {
    "duration": 102,
    "start_time": "2022-10-23T11:30:43.121Z"
   },
   {
    "duration": 696,
    "start_time": "2022-10-23T11:34:18.896Z"
   },
   {
    "duration": 12,
    "start_time": "2022-10-23T11:34:36.522Z"
   },
   {
    "duration": 13,
    "start_time": "2022-10-23T11:34:52.981Z"
   },
   {
    "duration": 14,
    "start_time": "2022-10-23T11:35:06.299Z"
   },
   {
    "duration": 14,
    "start_time": "2022-10-23T11:35:48.779Z"
   },
   {
    "duration": 17,
    "start_time": "2022-10-23T11:37:33.706Z"
   },
   {
    "duration": 16,
    "start_time": "2022-10-23T11:37:37.001Z"
   },
   {
    "duration": 15,
    "start_time": "2022-10-23T11:37:43.618Z"
   },
   {
    "duration": 16,
    "start_time": "2022-10-23T11:37:59.304Z"
   },
   {
    "duration": 6,
    "start_time": "2022-10-23T11:38:08.261Z"
   },
   {
    "duration": 19,
    "start_time": "2022-10-23T11:38:14.301Z"
   },
   {
    "duration": 12,
    "start_time": "2022-10-23T11:38:32.752Z"
   },
   {
    "duration": 15,
    "start_time": "2022-10-23T11:38:39.994Z"
   },
   {
    "duration": 16,
    "start_time": "2022-10-23T11:38:43.268Z"
   },
   {
    "duration": 17,
    "start_time": "2022-10-23T11:39:46.551Z"
   },
   {
    "duration": 18,
    "start_time": "2022-10-23T11:39:55.822Z"
   },
   {
    "duration": 15,
    "start_time": "2022-10-23T11:40:07.572Z"
   },
   {
    "duration": 13,
    "start_time": "2022-10-23T11:42:57.853Z"
   },
   {
    "duration": 4,
    "start_time": "2022-10-23T12:02:34.593Z"
   },
   {
    "duration": 162,
    "start_time": "2022-10-23T12:02:34.599Z"
   },
   {
    "duration": 20,
    "start_time": "2022-10-23T12:02:34.763Z"
   },
   {
    "duration": 11,
    "start_time": "2022-10-23T12:02:34.785Z"
   },
   {
    "duration": 19,
    "start_time": "2022-10-23T12:02:34.799Z"
   },
   {
    "duration": 41,
    "start_time": "2022-10-23T12:02:34.820Z"
   },
   {
    "duration": 30,
    "start_time": "2022-10-23T12:02:34.863Z"
   },
   {
    "duration": 9,
    "start_time": "2022-10-23T12:02:34.895Z"
   },
   {
    "duration": 28,
    "start_time": "2022-10-23T12:02:34.906Z"
   },
   {
    "duration": 7,
    "start_time": "2022-10-23T12:02:34.954Z"
   },
   {
    "duration": 442,
    "start_time": "2022-10-23T12:02:34.962Z"
   },
   {
    "duration": 16,
    "start_time": "2022-10-23T12:02:35.406Z"
   },
   {
    "duration": 43,
    "start_time": "2022-10-23T12:02:35.424Z"
   },
   {
    "duration": 5,
    "start_time": "2022-10-23T12:02:35.470Z"
   },
   {
    "duration": 94,
    "start_time": "2022-10-23T12:02:35.476Z"
   },
   {
    "duration": 196,
    "start_time": "2022-10-23T12:02:35.571Z"
   },
   {
    "duration": 175,
    "start_time": "2022-10-23T12:02:35.769Z"
   },
   {
    "duration": 115,
    "start_time": "2022-10-23T12:02:35.945Z"
   },
   {
    "duration": 459,
    "start_time": "2022-10-23T12:02:36.062Z"
   },
   {
    "duration": 70,
    "start_time": "2022-10-23T12:02:36.523Z"
   },
   {
    "duration": 11,
    "start_time": "2022-10-23T12:02:36.594Z"
   },
   {
    "duration": 15,
    "start_time": "2022-10-23T12:02:36.606Z"
   },
   {
    "duration": 42,
    "start_time": "2022-10-23T12:02:36.622Z"
   },
   {
    "duration": 40,
    "start_time": "2022-10-23T12:02:36.667Z"
   },
   {
    "duration": 120,
    "start_time": "2022-10-23T12:02:36.710Z"
   },
   {
    "duration": 16,
    "start_time": "2022-10-23T12:02:36.832Z"
   },
   {
    "duration": 682,
    "start_time": "2022-10-23T12:56:26.822Z"
   },
   {
    "duration": 16,
    "start_time": "2022-10-23T12:56:40.898Z"
   },
   {
    "duration": 16,
    "start_time": "2022-10-23T12:56:50.539Z"
   },
   {
    "duration": 4,
    "start_time": "2022-10-23T12:58:17.955Z"
   },
   {
    "duration": 4,
    "start_time": "2022-10-23T12:58:20.592Z"
   },
   {
    "duration": 171,
    "start_time": "2022-10-23T12:58:20.600Z"
   },
   {
    "duration": 20,
    "start_time": "2022-10-23T12:58:20.773Z"
   },
   {
    "duration": 26,
    "start_time": "2022-10-23T12:58:20.796Z"
   },
   {
    "duration": 36,
    "start_time": "2022-10-23T12:58:20.827Z"
   },
   {
    "duration": 17,
    "start_time": "2022-10-23T12:58:20.865Z"
   },
   {
    "duration": 25,
    "start_time": "2022-10-23T12:58:20.884Z"
   },
   {
    "duration": 7,
    "start_time": "2022-10-23T12:58:20.911Z"
   },
   {
    "duration": 46,
    "start_time": "2022-10-23T12:58:20.920Z"
   },
   {
    "duration": 5,
    "start_time": "2022-10-23T12:58:20.968Z"
   },
   {
    "duration": 341,
    "start_time": "2022-10-23T12:58:20.976Z"
   },
   {
    "duration": 16,
    "start_time": "2022-10-23T12:58:21.318Z"
   },
   {
    "duration": 39,
    "start_time": "2022-10-23T12:58:21.336Z"
   },
   {
    "duration": 5,
    "start_time": "2022-10-23T12:58:21.377Z"
   },
   {
    "duration": 109,
    "start_time": "2022-10-23T12:58:21.383Z"
   },
   {
    "duration": 223,
    "start_time": "2022-10-23T12:58:21.494Z"
   },
   {
    "duration": 200,
    "start_time": "2022-10-23T12:58:21.718Z"
   },
   {
    "duration": 116,
    "start_time": "2022-10-23T12:58:21.921Z"
   },
   {
    "duration": 512,
    "start_time": "2022-10-23T12:58:22.039Z"
   },
   {
    "duration": 64,
    "start_time": "2022-10-23T12:58:22.554Z"
   },
   {
    "duration": 10,
    "start_time": "2022-10-23T12:58:22.620Z"
   },
   {
    "duration": 29,
    "start_time": "2022-10-23T12:58:22.631Z"
   },
   {
    "duration": 31,
    "start_time": "2022-10-23T12:58:22.662Z"
   },
   {
    "duration": 42,
    "start_time": "2022-10-23T12:58:22.696Z"
   },
   {
    "duration": 112,
    "start_time": "2022-10-23T12:58:22.753Z"
   },
   {
    "duration": 18,
    "start_time": "2022-10-23T12:58:22.867Z"
   },
   {
    "duration": 36,
    "start_time": "2022-10-23T12:58:22.886Z"
   },
   {
    "duration": 12,
    "start_time": "2022-10-23T12:59:58.024Z"
   },
   {
    "duration": 3,
    "start_time": "2022-10-23T13:34:04.539Z"
   },
   {
    "duration": 168,
    "start_time": "2022-10-23T13:34:04.544Z"
   },
   {
    "duration": 19,
    "start_time": "2022-10-23T13:34:04.714Z"
   },
   {
    "duration": 29,
    "start_time": "2022-10-23T13:34:04.735Z"
   },
   {
    "duration": 22,
    "start_time": "2022-10-23T13:34:04.766Z"
   },
   {
    "duration": 16,
    "start_time": "2022-10-23T13:34:04.790Z"
   },
   {
    "duration": 55,
    "start_time": "2022-10-23T13:34:04.808Z"
   },
   {
    "duration": 8,
    "start_time": "2022-10-23T13:34:04.865Z"
   },
   {
    "duration": 19,
    "start_time": "2022-10-23T13:34:04.874Z"
   },
   {
    "duration": 7,
    "start_time": "2022-10-23T13:34:04.895Z"
   },
   {
    "duration": 392,
    "start_time": "2022-10-23T13:34:04.905Z"
   },
   {
    "duration": 19,
    "start_time": "2022-10-23T13:34:05.299Z"
   },
   {
    "duration": 51,
    "start_time": "2022-10-23T13:34:05.319Z"
   },
   {
    "duration": 6,
    "start_time": "2022-10-23T13:34:05.372Z"
   },
   {
    "duration": 97,
    "start_time": "2022-10-23T13:34:05.380Z"
   },
   {
    "duration": 310,
    "start_time": "2022-10-23T13:34:05.479Z"
   },
   {
    "duration": 185,
    "start_time": "2022-10-23T13:34:05.791Z"
   },
   {
    "duration": 106,
    "start_time": "2022-10-23T13:34:05.978Z"
   },
   {
    "duration": 468,
    "start_time": "2022-10-23T13:34:06.086Z"
   },
   {
    "duration": 59,
    "start_time": "2022-10-23T13:34:06.555Z"
   },
   {
    "duration": 9,
    "start_time": "2022-10-23T13:34:06.616Z"
   },
   {
    "duration": 27,
    "start_time": "2022-10-23T13:34:06.627Z"
   },
   {
    "duration": 25,
    "start_time": "2022-10-23T13:34:06.656Z"
   },
   {
    "duration": 31,
    "start_time": "2022-10-23T13:34:06.683Z"
   },
   {
    "duration": 119,
    "start_time": "2022-10-23T13:34:06.716Z"
   },
   {
    "duration": 20,
    "start_time": "2022-10-23T13:34:06.837Z"
   },
   {
    "duration": 14,
    "start_time": "2022-10-23T13:34:06.859Z"
   },
   {
    "duration": 14,
    "start_time": "2022-10-23T13:37:12.933Z"
   },
   {
    "duration": 13,
    "start_time": "2022-10-23T13:39:39.876Z"
   },
   {
    "duration": 9,
    "start_time": "2022-10-23T13:41:28.448Z"
   },
   {
    "duration": 9,
    "start_time": "2022-10-23T13:42:17.905Z"
   },
   {
    "duration": 4,
    "start_time": "2022-10-23T13:45:18.908Z"
   },
   {
    "duration": 164,
    "start_time": "2022-10-23T13:45:18.915Z"
   },
   {
    "duration": 19,
    "start_time": "2022-10-23T13:45:19.081Z"
   },
   {
    "duration": 11,
    "start_time": "2022-10-23T13:45:19.103Z"
   },
   {
    "duration": 48,
    "start_time": "2022-10-23T13:45:19.116Z"
   },
   {
    "duration": 15,
    "start_time": "2022-10-23T13:45:19.166Z"
   },
   {
    "duration": 25,
    "start_time": "2022-10-23T13:45:19.183Z"
   },
   {
    "duration": 8,
    "start_time": "2022-10-23T13:45:19.210Z"
   },
   {
    "duration": 54,
    "start_time": "2022-10-23T13:45:19.221Z"
   },
   {
    "duration": 5,
    "start_time": "2022-10-23T13:45:19.277Z"
   },
   {
    "duration": 328,
    "start_time": "2022-10-23T13:45:19.284Z"
   },
   {
    "duration": 18,
    "start_time": "2022-10-23T13:45:19.614Z"
   },
   {
    "duration": 37,
    "start_time": "2022-10-23T13:45:19.634Z"
   },
   {
    "duration": 5,
    "start_time": "2022-10-23T13:45:19.673Z"
   },
   {
    "duration": 89,
    "start_time": "2022-10-23T13:45:19.680Z"
   },
   {
    "duration": 169,
    "start_time": "2022-10-23T13:45:19.772Z"
   },
   {
    "duration": 171,
    "start_time": "2022-10-23T13:45:19.943Z"
   },
   {
    "duration": 115,
    "start_time": "2022-10-23T13:45:20.116Z"
   },
   {
    "duration": 494,
    "start_time": "2022-10-23T13:45:20.233Z"
   },
   {
    "duration": 69,
    "start_time": "2022-10-23T13:45:20.729Z"
   },
   {
    "duration": 10,
    "start_time": "2022-10-23T13:45:20.800Z"
   },
   {
    "duration": 17,
    "start_time": "2022-10-23T13:45:20.811Z"
   },
   {
    "duration": 37,
    "start_time": "2022-10-23T13:45:20.829Z"
   },
   {
    "duration": 33,
    "start_time": "2022-10-23T13:45:20.868Z"
   },
   {
    "duration": 124,
    "start_time": "2022-10-23T13:45:20.903Z"
   },
   {
    "duration": 15,
    "start_time": "2022-10-23T13:45:21.029Z"
   },
   {
    "duration": 13,
    "start_time": "2022-10-23T13:45:21.053Z"
   },
   {
    "duration": 14,
    "start_time": "2022-10-23T13:45:21.067Z"
   },
   {
    "duration": 12,
    "start_time": "2022-10-23T13:45:21.083Z"
   },
   {
    "duration": 1355,
    "start_time": "2022-10-24T06:12:39.072Z"
   },
   {
    "duration": 513,
    "start_time": "2022-10-24T06:12:40.429Z"
   },
   {
    "duration": 21,
    "start_time": "2022-10-24T06:12:40.944Z"
   },
   {
    "duration": 12,
    "start_time": "2022-10-24T06:12:40.966Z"
   },
   {
    "duration": 36,
    "start_time": "2022-10-24T06:12:40.979Z"
   },
   {
    "duration": 17,
    "start_time": "2022-10-24T06:12:41.017Z"
   },
   {
    "duration": 28,
    "start_time": "2022-10-24T06:12:41.035Z"
   },
   {
    "duration": 9,
    "start_time": "2022-10-24T06:12:41.064Z"
   },
   {
    "duration": 46,
    "start_time": "2022-10-24T06:12:41.075Z"
   },
   {
    "duration": 5,
    "start_time": "2022-10-24T06:12:41.125Z"
   },
   {
    "duration": 427,
    "start_time": "2022-10-24T06:12:41.131Z"
   },
   {
    "duration": 21,
    "start_time": "2022-10-24T06:12:41.559Z"
   },
   {
    "duration": 47,
    "start_time": "2022-10-24T06:12:41.582Z"
   },
   {
    "duration": 7,
    "start_time": "2022-10-24T06:12:41.631Z"
   },
   {
    "duration": 104,
    "start_time": "2022-10-24T06:12:41.640Z"
   },
   {
    "duration": 183,
    "start_time": "2022-10-24T06:12:41.746Z"
   },
   {
    "duration": 168,
    "start_time": "2022-10-24T06:12:41.930Z"
   },
   {
    "duration": 119,
    "start_time": "2022-10-24T06:12:42.099Z"
   },
   {
    "duration": 507,
    "start_time": "2022-10-24T06:12:42.219Z"
   },
   {
    "duration": 55,
    "start_time": "2022-10-24T06:12:42.727Z"
   },
   {
    "duration": 9,
    "start_time": "2022-10-24T06:12:42.783Z"
   },
   {
    "duration": 25,
    "start_time": "2022-10-24T06:12:42.793Z"
   },
   {
    "duration": 32,
    "start_time": "2022-10-24T06:12:42.820Z"
   },
   {
    "duration": 39,
    "start_time": "2022-10-24T06:12:42.854Z"
   },
   {
    "duration": 173,
    "start_time": "2022-10-24T06:12:42.908Z"
   },
   {
    "duration": 13,
    "start_time": "2022-10-24T06:12:43.083Z"
   },
   {
    "duration": 15,
    "start_time": "2022-10-24T06:12:43.108Z"
   },
   {
    "duration": 14,
    "start_time": "2022-10-24T06:12:43.126Z"
   },
   {
    "duration": 23,
    "start_time": "2022-10-24T06:12:43.142Z"
   },
   {
    "duration": 9,
    "start_time": "2022-10-24T07:24:16.830Z"
   },
   {
    "duration": 1197,
    "start_time": "2022-10-24T07:30:57.731Z"
   },
   {
    "duration": 145,
    "start_time": "2022-10-24T07:30:58.930Z"
   },
   {
    "duration": 19,
    "start_time": "2022-10-24T07:30:59.076Z"
   },
   {
    "duration": 18,
    "start_time": "2022-10-24T07:30:59.098Z"
   },
   {
    "duration": 28,
    "start_time": "2022-10-24T07:30:59.118Z"
   },
   {
    "duration": 15,
    "start_time": "2022-10-24T07:30:59.148Z"
   },
   {
    "duration": 44,
    "start_time": "2022-10-24T07:30:59.164Z"
   },
   {
    "duration": 17,
    "start_time": "2022-10-24T07:30:59.210Z"
   },
   {
    "duration": 44,
    "start_time": "2022-10-24T07:30:59.229Z"
   },
   {
    "duration": 6,
    "start_time": "2022-10-24T07:30:59.277Z"
   },
   {
    "duration": 374,
    "start_time": "2022-10-24T07:30:59.284Z"
   },
   {
    "duration": 16,
    "start_time": "2022-10-24T07:30:59.659Z"
   },
   {
    "duration": 44,
    "start_time": "2022-10-24T07:30:59.676Z"
   },
   {
    "duration": 6,
    "start_time": "2022-10-24T07:30:59.722Z"
   },
   {
    "duration": 83,
    "start_time": "2022-10-24T07:30:59.730Z"
   },
   {
    "duration": 168,
    "start_time": "2022-10-24T07:30:59.815Z"
   },
   {
    "duration": 175,
    "start_time": "2022-10-24T07:30:59.985Z"
   },
   {
    "duration": 110,
    "start_time": "2022-10-24T07:31:00.162Z"
   },
   {
    "duration": 468,
    "start_time": "2022-10-24T07:31:00.274Z"
   },
   {
    "duration": 58,
    "start_time": "2022-10-24T07:31:00.744Z"
   },
   {
    "duration": 10,
    "start_time": "2022-10-24T07:31:00.809Z"
   },
   {
    "duration": 26,
    "start_time": "2022-10-24T07:31:00.820Z"
   },
   {
    "duration": 40,
    "start_time": "2022-10-24T07:31:00.848Z"
   },
   {
    "duration": 53,
    "start_time": "2022-10-24T07:31:00.890Z"
   },
   {
    "duration": 109,
    "start_time": "2022-10-24T07:31:00.945Z"
   },
   {
    "duration": 14,
    "start_time": "2022-10-24T07:31:01.056Z"
   },
   {
    "duration": 33,
    "start_time": "2022-10-24T07:31:01.072Z"
   },
   {
    "duration": 20,
    "start_time": "2022-10-24T07:31:01.110Z"
   },
   {
    "duration": 21,
    "start_time": "2022-10-24T07:31:01.132Z"
   },
   {
    "duration": 8,
    "start_time": "2022-10-24T07:31:36.133Z"
   },
   {
    "duration": 12,
    "start_time": "2022-10-24T07:33:02.496Z"
   },
   {
    "duration": 1191,
    "start_time": "2022-10-24T07:34:38.444Z"
   },
   {
    "duration": 156,
    "start_time": "2022-10-24T07:34:39.636Z"
   },
   {
    "duration": 21,
    "start_time": "2022-10-24T07:34:39.794Z"
   },
   {
    "duration": 11,
    "start_time": "2022-10-24T07:34:39.817Z"
   },
   {
    "duration": 19,
    "start_time": "2022-10-24T07:34:39.829Z"
   },
   {
    "duration": 15,
    "start_time": "2022-10-24T07:34:39.850Z"
   },
   {
    "duration": 55,
    "start_time": "2022-10-24T07:34:39.866Z"
   },
   {
    "duration": 10,
    "start_time": "2022-10-24T07:34:39.923Z"
   },
   {
    "duration": 19,
    "start_time": "2022-10-24T07:34:39.935Z"
   },
   {
    "duration": 5,
    "start_time": "2022-10-24T07:34:39.957Z"
   },
   {
    "duration": 397,
    "start_time": "2022-10-24T07:34:39.963Z"
   },
   {
    "duration": 18,
    "start_time": "2022-10-24T07:34:40.362Z"
   },
   {
    "duration": 41,
    "start_time": "2022-10-24T07:34:40.382Z"
   },
   {
    "duration": 4,
    "start_time": "2022-10-24T07:34:40.425Z"
   },
   {
    "duration": 89,
    "start_time": "2022-10-24T07:34:40.430Z"
   },
   {
    "duration": 161,
    "start_time": "2022-10-24T07:34:40.521Z"
   },
   {
    "duration": 175,
    "start_time": "2022-10-24T07:34:40.684Z"
   },
   {
    "duration": 110,
    "start_time": "2022-10-24T07:34:40.861Z"
   },
   {
    "duration": 467,
    "start_time": "2022-10-24T07:34:40.973Z"
   },
   {
    "duration": 55,
    "start_time": "2022-10-24T07:34:41.442Z"
   },
   {
    "duration": 9,
    "start_time": "2022-10-24T07:34:41.509Z"
   },
   {
    "duration": 14,
    "start_time": "2022-10-24T07:34:41.519Z"
   },
   {
    "duration": 27,
    "start_time": "2022-10-24T07:34:41.534Z"
   },
   {
    "duration": 50,
    "start_time": "2022-10-24T07:34:41.562Z"
   },
   {
    "duration": 113,
    "start_time": "2022-10-24T07:34:41.614Z"
   },
   {
    "duration": 14,
    "start_time": "2022-10-24T07:34:41.728Z"
   },
   {
    "duration": 11,
    "start_time": "2022-10-24T07:34:41.744Z"
   },
   {
    "duration": 39,
    "start_time": "2022-10-24T07:34:41.757Z"
   },
   {
    "duration": 11,
    "start_time": "2022-10-24T07:34:41.797Z"
   },
   {
    "duration": 1311,
    "start_time": "2022-10-24T08:27:10.664Z"
   },
   {
    "duration": 711,
    "start_time": "2022-10-24T08:27:11.977Z"
   },
   {
    "duration": 18,
    "start_time": "2022-10-24T08:27:12.689Z"
   },
   {
    "duration": 12,
    "start_time": "2022-10-24T08:27:12.708Z"
   },
   {
    "duration": 20,
    "start_time": "2022-10-24T08:27:12.721Z"
   },
   {
    "duration": 13,
    "start_time": "2022-10-24T08:27:12.743Z"
   },
   {
    "duration": 25,
    "start_time": "2022-10-24T08:27:12.757Z"
   },
   {
    "duration": 9,
    "start_time": "2022-10-24T08:27:12.783Z"
   },
   {
    "duration": 40,
    "start_time": "2022-10-24T08:27:12.794Z"
   },
   {
    "duration": 5,
    "start_time": "2022-10-24T08:27:12.836Z"
   },
   {
    "duration": 344,
    "start_time": "2022-10-24T08:27:12.842Z"
   },
   {
    "duration": 16,
    "start_time": "2022-10-24T08:27:13.187Z"
   },
   {
    "duration": 34,
    "start_time": "2022-10-24T08:27:13.204Z"
   },
   {
    "duration": 3,
    "start_time": "2022-10-24T08:27:13.240Z"
   },
   {
    "duration": 77,
    "start_time": "2022-10-24T08:27:13.245Z"
   },
   {
    "duration": 166,
    "start_time": "2022-10-24T08:27:13.323Z"
   },
   {
    "duration": 151,
    "start_time": "2022-10-24T08:27:13.491Z"
   },
   {
    "duration": 94,
    "start_time": "2022-10-24T08:27:13.644Z"
   },
   {
    "duration": 465,
    "start_time": "2022-10-24T08:27:13.740Z"
   },
   {
    "duration": 49,
    "start_time": "2022-10-24T08:27:14.207Z"
   },
   {
    "duration": 7,
    "start_time": "2022-10-24T08:27:14.258Z"
   },
   {
    "duration": 10,
    "start_time": "2022-10-24T08:27:14.267Z"
   },
   {
    "duration": 20,
    "start_time": "2022-10-24T08:27:14.278Z"
   },
   {
    "duration": 44,
    "start_time": "2022-10-24T08:27:14.300Z"
   },
   {
    "duration": 108,
    "start_time": "2022-10-24T08:27:14.345Z"
   },
   {
    "duration": 13,
    "start_time": "2022-10-24T08:27:14.455Z"
   },
   {
    "duration": 13,
    "start_time": "2022-10-24T08:27:14.469Z"
   },
   {
    "duration": 13,
    "start_time": "2022-10-24T08:27:14.484Z"
   },
   {
    "duration": 22,
    "start_time": "2022-10-24T08:27:14.499Z"
   },
   {
    "duration": 50,
    "start_time": "2022-10-24T10:42:00.550Z"
   },
   {
    "duration": 1435,
    "start_time": "2022-10-24T10:42:09.941Z"
   },
   {
    "duration": 563,
    "start_time": "2022-10-24T10:42:11.378Z"
   },
   {
    "duration": 20,
    "start_time": "2022-10-24T10:42:11.943Z"
   },
   {
    "duration": 12,
    "start_time": "2022-10-24T10:42:11.965Z"
   },
   {
    "duration": 25,
    "start_time": "2022-10-24T10:42:11.979Z"
   },
   {
    "duration": 15,
    "start_time": "2022-10-24T10:42:12.006Z"
   },
   {
    "duration": 82,
    "start_time": "2022-10-24T10:42:12.023Z"
   },
   {
    "duration": 25,
    "start_time": "2022-10-24T10:42:12.106Z"
   },
   {
    "duration": 26,
    "start_time": "2022-10-24T10:42:12.132Z"
   },
   {
    "duration": 17,
    "start_time": "2022-10-24T10:42:12.161Z"
   },
   {
    "duration": 7,
    "start_time": "2022-10-24T10:42:12.179Z"
   },
   {
    "duration": 436,
    "start_time": "2022-10-24T10:42:12.188Z"
   },
   {
    "duration": 31,
    "start_time": "2022-10-24T10:42:12.626Z"
   },
   {
    "duration": 36,
    "start_time": "2022-10-24T10:42:12.659Z"
   },
   {
    "duration": 5,
    "start_time": "2022-10-24T10:42:12.697Z"
   },
   {
    "duration": 108,
    "start_time": "2022-10-24T10:42:12.704Z"
   },
   {
    "duration": 178,
    "start_time": "2022-10-24T10:42:12.814Z"
   },
   {
    "duration": 221,
    "start_time": "2022-10-24T10:42:12.994Z"
   },
   {
    "duration": 118,
    "start_time": "2022-10-24T10:42:13.217Z"
   },
   {
    "duration": 518,
    "start_time": "2022-10-24T10:42:13.337Z"
   },
   {
    "duration": 55,
    "start_time": "2022-10-24T10:42:13.857Z"
   },
   {
    "duration": 10,
    "start_time": "2022-10-24T10:42:13.914Z"
   },
   {
    "duration": 29,
    "start_time": "2022-10-24T10:42:13.926Z"
   },
   {
    "duration": 26,
    "start_time": "2022-10-24T10:42:13.956Z"
   },
   {
    "duration": 35,
    "start_time": "2022-10-24T10:42:13.984Z"
   },
   {
    "duration": 117,
    "start_time": "2022-10-24T10:42:14.021Z"
   },
   {
    "duration": 20,
    "start_time": "2022-10-24T10:42:14.140Z"
   },
   {
    "duration": 14,
    "start_time": "2022-10-24T10:42:14.163Z"
   },
   {
    "duration": 36,
    "start_time": "2022-10-24T10:42:14.179Z"
   },
   {
    "duration": 13,
    "start_time": "2022-10-24T10:42:14.217Z"
   },
   {
    "duration": 51,
    "start_time": "2022-10-24T13:10:38.737Z"
   },
   {
    "duration": 1526,
    "start_time": "2022-10-24T13:10:45.265Z"
   },
   {
    "duration": 633,
    "start_time": "2022-10-24T13:10:46.794Z"
   },
   {
    "duration": 20,
    "start_time": "2022-10-24T13:10:47.429Z"
   },
   {
    "duration": 25,
    "start_time": "2022-10-24T13:10:47.451Z"
   },
   {
    "duration": 32,
    "start_time": "2022-10-24T13:10:47.478Z"
   },
   {
    "duration": 16,
    "start_time": "2022-10-24T13:10:47.512Z"
   },
   {
    "duration": 88,
    "start_time": "2022-10-24T13:10:47.529Z"
   },
   {
    "duration": 36,
    "start_time": "2022-10-24T13:10:47.620Z"
   },
   {
    "duration": 11,
    "start_time": "2022-10-24T13:10:47.658Z"
   },
   {
    "duration": 27,
    "start_time": "2022-10-24T13:10:47.672Z"
   },
   {
    "duration": 24,
    "start_time": "2022-10-24T13:10:47.701Z"
   },
   {
    "duration": 449,
    "start_time": "2022-10-24T13:10:47.727Z"
   },
   {
    "duration": 20,
    "start_time": "2022-10-24T13:10:48.178Z"
   },
   {
    "duration": 29,
    "start_time": "2022-10-24T13:10:48.200Z"
   },
   {
    "duration": 23,
    "start_time": "2022-10-24T13:10:48.231Z"
   },
   {
    "duration": 78,
    "start_time": "2022-10-24T13:10:48.256Z"
   },
   {
    "duration": 197,
    "start_time": "2022-10-24T13:10:48.335Z"
   },
   {
    "duration": 197,
    "start_time": "2022-10-24T13:10:48.534Z"
   },
   {
    "duration": 122,
    "start_time": "2022-10-24T13:10:48.733Z"
   },
   {
    "duration": 520,
    "start_time": "2022-10-24T13:10:48.857Z"
   },
   {
    "duration": 58,
    "start_time": "2022-10-24T13:10:49.379Z"
   },
   {
    "duration": 25,
    "start_time": "2022-10-24T13:10:49.439Z"
   },
   {
    "duration": 26,
    "start_time": "2022-10-24T13:10:49.466Z"
   },
   {
    "duration": 31,
    "start_time": "2022-10-24T13:10:49.495Z"
   },
   {
    "duration": 51,
    "start_time": "2022-10-24T13:10:49.529Z"
   },
   {
    "duration": 113,
    "start_time": "2022-10-24T13:10:49.581Z"
   },
   {
    "duration": 15,
    "start_time": "2022-10-24T13:10:49.696Z"
   },
   {
    "duration": 15,
    "start_time": "2022-10-24T13:10:49.714Z"
   },
   {
    "duration": 30,
    "start_time": "2022-10-24T13:10:49.730Z"
   },
   {
    "duration": 18,
    "start_time": "2022-10-24T13:10:49.762Z"
   },
   {
    "duration": 90,
    "start_time": "2022-10-24T13:11:28.459Z"
   },
   {
    "duration": 71,
    "start_time": "2022-10-24T13:11:41.365Z"
   },
   {
    "duration": 78,
    "start_time": "2022-10-24T13:11:44.634Z"
   },
   {
    "duration": 91,
    "start_time": "2022-10-24T13:11:45.155Z"
   },
   {
    "duration": 70,
    "start_time": "2022-10-24T13:11:45.612Z"
   },
   {
    "duration": 4,
    "start_time": "2022-10-24T13:11:49.683Z"
   },
   {
    "duration": 179,
    "start_time": "2022-10-24T13:11:49.690Z"
   },
   {
    "duration": 19,
    "start_time": "2022-10-24T13:11:49.871Z"
   },
   {
    "duration": 39,
    "start_time": "2022-10-24T13:11:49.892Z"
   },
   {
    "duration": 32,
    "start_time": "2022-10-24T13:11:49.933Z"
   },
   {
    "duration": 66,
    "start_time": "2022-10-24T13:11:49.966Z"
   },
   {
    "duration": 81,
    "start_time": "2022-10-24T13:11:50.034Z"
   },
   {
    "duration": 88,
    "start_time": "2022-10-24T13:11:50.117Z"
   },
   {
    "duration": 72,
    "start_time": "2022-10-24T13:11:50.208Z"
   },
   {
    "duration": 26,
    "start_time": "2022-10-24T13:11:50.281Z"
   },
   {
    "duration": 9,
    "start_time": "2022-10-24T13:11:50.309Z"
   },
   {
    "duration": 39,
    "start_time": "2022-10-24T13:11:50.320Z"
   },
   {
    "duration": 6,
    "start_time": "2022-10-24T13:11:50.362Z"
   },
   {
    "duration": 468,
    "start_time": "2022-10-24T13:11:50.370Z"
   },
   {
    "duration": 20,
    "start_time": "2022-10-24T13:11:50.840Z"
   },
   {
    "duration": 30,
    "start_time": "2022-10-24T13:11:50.862Z"
   },
   {
    "duration": 6,
    "start_time": "2022-10-24T13:11:50.894Z"
   },
   {
    "duration": 109,
    "start_time": "2022-10-24T13:11:50.901Z"
   },
   {
    "duration": 197,
    "start_time": "2022-10-24T13:11:51.012Z"
   },
   {
    "duration": 202,
    "start_time": "2022-10-24T13:11:51.211Z"
   },
   {
    "duration": 143,
    "start_time": "2022-10-24T13:11:51.415Z"
   },
   {
    "duration": 558,
    "start_time": "2022-10-24T13:11:51.560Z"
   },
   {
    "duration": 101,
    "start_time": "2022-10-24T13:11:52.120Z"
   },
   {
    "duration": 12,
    "start_time": "2022-10-24T13:11:52.223Z"
   },
   {
    "duration": 27,
    "start_time": "2022-10-24T13:11:52.237Z"
   },
   {
    "duration": 32,
    "start_time": "2022-10-24T13:11:52.266Z"
   },
   {
    "duration": 34,
    "start_time": "2022-10-24T13:11:52.300Z"
   },
   {
    "duration": 133,
    "start_time": "2022-10-24T13:11:52.353Z"
   },
   {
    "duration": 20,
    "start_time": "2022-10-24T13:11:52.489Z"
   },
   {
    "duration": 16,
    "start_time": "2022-10-24T13:11:52.511Z"
   },
   {
    "duration": 33,
    "start_time": "2022-10-24T13:11:52.529Z"
   },
   {
    "duration": 29,
    "start_time": "2022-10-24T13:11:52.564Z"
   },
   {
    "duration": 78,
    "start_time": "2022-10-24T13:12:54.155Z"
   },
   {
    "duration": 70,
    "start_time": "2022-10-24T13:12:54.861Z"
   },
   {
    "duration": 16,
    "start_time": "2022-10-24T13:13:32.984Z"
   },
   {
    "duration": 170,
    "start_time": "2022-10-24T13:13:42.619Z"
   },
   {
    "duration": 111,
    "start_time": "2022-10-24T13:13:43.189Z"
   },
   {
    "duration": 111,
    "start_time": "2022-10-24T13:13:55.412Z"
   },
   {
    "duration": 20,
    "start_time": "2022-10-24T13:13:59.243Z"
   },
   {
    "duration": 112,
    "start_time": "2022-10-24T13:13:59.832Z"
   },
   {
    "duration": 3,
    "start_time": "2022-10-24T13:14:03.669Z"
   },
   {
    "duration": 181,
    "start_time": "2022-10-24T13:14:03.675Z"
   },
   {
    "duration": 19,
    "start_time": "2022-10-24T13:14:03.858Z"
   },
   {
    "duration": 13,
    "start_time": "2022-10-24T13:14:03.878Z"
   },
   {
    "duration": 24,
    "start_time": "2022-10-24T13:14:03.893Z"
   },
   {
    "duration": 42,
    "start_time": "2022-10-24T13:14:03.920Z"
   },
   {
    "duration": 65,
    "start_time": "2022-10-24T13:14:03.964Z"
   },
   {
    "duration": 167,
    "start_time": "2022-10-24T13:14:04.031Z"
   },
   {
    "duration": 27,
    "start_time": "2022-10-24T13:14:04.200Z"
   },
   {
    "duration": 27,
    "start_time": "2022-10-24T13:14:04.229Z"
   },
   {
    "duration": 19,
    "start_time": "2022-10-24T13:14:04.260Z"
   },
   {
    "duration": 7,
    "start_time": "2022-10-24T13:14:04.281Z"
   },
   {
    "duration": 375,
    "start_time": "2022-10-24T13:14:04.290Z"
   },
   {
    "duration": 23,
    "start_time": "2022-10-24T13:14:04.667Z"
   },
   {
    "duration": 32,
    "start_time": "2022-10-24T13:14:04.692Z"
   },
   {
    "duration": 30,
    "start_time": "2022-10-24T13:14:04.726Z"
   },
   {
    "duration": 80,
    "start_time": "2022-10-24T13:14:04.758Z"
   },
   {
    "duration": 191,
    "start_time": "2022-10-24T13:14:04.840Z"
   },
   {
    "duration": 182,
    "start_time": "2022-10-24T13:14:05.033Z"
   },
   {
    "duration": 121,
    "start_time": "2022-10-24T13:14:05.217Z"
   },
   {
    "duration": 518,
    "start_time": "2022-10-24T13:14:05.340Z"
   },
   {
    "duration": 63,
    "start_time": "2022-10-24T13:14:05.860Z"
   },
   {
    "duration": 11,
    "start_time": "2022-10-24T13:14:05.924Z"
   },
   {
    "duration": 29,
    "start_time": "2022-10-24T13:14:05.937Z"
   },
   {
    "duration": 42,
    "start_time": "2022-10-24T13:14:05.968Z"
   },
   {
    "duration": 52,
    "start_time": "2022-10-24T13:14:06.012Z"
   },
   {
    "duration": 115,
    "start_time": "2022-10-24T13:14:06.066Z"
   },
   {
    "duration": 16,
    "start_time": "2022-10-24T13:14:06.183Z"
   },
   {
    "duration": 21,
    "start_time": "2022-10-24T13:14:06.202Z"
   },
   {
    "duration": 43,
    "start_time": "2022-10-24T13:14:06.225Z"
   },
   {
    "duration": 11,
    "start_time": "2022-10-24T13:14:06.270Z"
   },
   {
    "duration": 5,
    "start_time": "2022-10-24T13:14:43.050Z"
   },
   {
    "duration": 177,
    "start_time": "2022-10-24T13:14:43.058Z"
   },
   {
    "duration": 25,
    "start_time": "2022-10-24T13:14:43.237Z"
   },
   {
    "duration": 10,
    "start_time": "2022-10-24T13:14:43.264Z"
   },
   {
    "duration": 20,
    "start_time": "2022-10-24T13:14:43.276Z"
   },
   {
    "duration": 16,
    "start_time": "2022-10-24T13:14:43.298Z"
   },
   {
    "duration": 83,
    "start_time": "2022-10-24T13:14:43.316Z"
   },
   {
    "duration": 146,
    "start_time": "2022-10-24T13:14:43.401Z"
   },
   {
    "duration": 26,
    "start_time": "2022-10-24T13:14:43.554Z"
   },
   {
    "duration": 8,
    "start_time": "2022-10-24T13:14:43.582Z"
   },
   {
    "duration": 23,
    "start_time": "2022-10-24T13:14:43.591Z"
   },
   {
    "duration": 7,
    "start_time": "2022-10-24T13:14:43.617Z"
   },
   {
    "duration": 371,
    "start_time": "2022-10-24T13:14:43.626Z"
   },
   {
    "duration": 19,
    "start_time": "2022-10-24T13:14:44.001Z"
   },
   {
    "duration": 60,
    "start_time": "2022-10-24T13:14:44.023Z"
   },
   {
    "duration": 5,
    "start_time": "2022-10-24T13:14:44.085Z"
   },
   {
    "duration": 95,
    "start_time": "2022-10-24T13:14:44.092Z"
   },
   {
    "duration": 286,
    "start_time": "2022-10-24T13:14:44.189Z"
   },
   {
    "duration": 191,
    "start_time": "2022-10-24T13:14:44.477Z"
   },
   {
    "duration": 117,
    "start_time": "2022-10-24T13:14:44.669Z"
   },
   {
    "duration": 469,
    "start_time": "2022-10-24T13:14:44.788Z"
   },
   {
    "duration": 69,
    "start_time": "2022-10-24T13:14:45.259Z"
   },
   {
    "duration": 10,
    "start_time": "2022-10-24T13:14:45.329Z"
   },
   {
    "duration": 16,
    "start_time": "2022-10-24T13:14:45.354Z"
   },
   {
    "duration": 28,
    "start_time": "2022-10-24T13:14:45.372Z"
   },
   {
    "duration": 51,
    "start_time": "2022-10-24T13:14:45.403Z"
   },
   {
    "duration": 120,
    "start_time": "2022-10-24T13:14:45.456Z"
   },
   {
    "duration": 18,
    "start_time": "2022-10-24T13:14:45.578Z"
   },
   {
    "duration": 20,
    "start_time": "2022-10-24T13:14:45.598Z"
   },
   {
    "duration": 17,
    "start_time": "2022-10-24T13:14:45.619Z"
   },
   {
    "duration": 9,
    "start_time": "2022-10-24T13:14:45.655Z"
   },
   {
    "duration": 431,
    "start_time": "2022-10-24T13:15:29.970Z"
   },
   {
    "duration": 19,
    "start_time": "2022-10-24T13:29:02.564Z"
   },
   {
    "duration": 17,
    "start_time": "2022-10-24T13:29:13.163Z"
   },
   {
    "duration": 4,
    "start_time": "2022-10-24T13:29:32.073Z"
   },
   {
    "duration": 196,
    "start_time": "2022-10-24T13:29:32.079Z"
   },
   {
    "duration": 19,
    "start_time": "2022-10-24T13:29:32.277Z"
   },
   {
    "duration": 21,
    "start_time": "2022-10-24T13:29:32.298Z"
   },
   {
    "duration": 34,
    "start_time": "2022-10-24T13:29:32.321Z"
   },
   {
    "duration": 15,
    "start_time": "2022-10-24T13:29:32.357Z"
   },
   {
    "duration": 58,
    "start_time": "2022-10-24T13:29:32.374Z"
   },
   {
    "duration": 174,
    "start_time": "2022-10-24T13:29:32.434Z"
   },
   {
    "duration": 27,
    "start_time": "2022-10-24T13:29:32.609Z"
   },
   {
    "duration": 18,
    "start_time": "2022-10-24T13:29:32.638Z"
   },
   {
    "duration": 24,
    "start_time": "2022-10-24T13:29:32.659Z"
   },
   {
    "duration": 7,
    "start_time": "2022-10-24T13:29:32.685Z"
   },
   {
    "duration": 351,
    "start_time": "2022-10-24T13:29:32.694Z"
   },
   {
    "duration": 20,
    "start_time": "2022-10-24T13:29:33.046Z"
   },
   {
    "duration": 24,
    "start_time": "2022-10-24T13:29:33.068Z"
   },
   {
    "duration": 31,
    "start_time": "2022-10-24T13:29:33.094Z"
   },
   {
    "duration": 28,
    "start_time": "2022-10-24T13:29:33.127Z"
   },
   {
    "duration": 79,
    "start_time": "2022-10-24T13:29:33.157Z"
   },
   {
    "duration": 200,
    "start_time": "2022-10-24T13:29:33.238Z"
   },
   {
    "duration": 186,
    "start_time": "2022-10-24T13:29:33.440Z"
   },
   {
    "duration": 112,
    "start_time": "2022-10-24T13:29:33.628Z"
   },
   {
    "duration": 485,
    "start_time": "2022-10-24T13:29:33.741Z"
   },
   {
    "duration": 68,
    "start_time": "2022-10-24T13:29:34.228Z"
   },
   {
    "duration": 22,
    "start_time": "2022-10-24T13:29:34.298Z"
   },
   {
    "duration": 58,
    "start_time": "2022-10-24T13:29:34.322Z"
   },
   {
    "duration": 58,
    "start_time": "2022-10-24T13:29:34.382Z"
   },
   {
    "duration": 43,
    "start_time": "2022-10-24T13:29:34.442Z"
   },
   {
    "duration": 118,
    "start_time": "2022-10-24T13:29:34.487Z"
   },
   {
    "duration": 17,
    "start_time": "2022-10-24T13:29:34.608Z"
   },
   {
    "duration": 76,
    "start_time": "2022-10-24T13:29:34.628Z"
   },
   {
    "duration": 70,
    "start_time": "2022-10-24T13:29:34.705Z"
   },
   {
    "duration": 49,
    "start_time": "2022-10-24T13:29:34.777Z"
   },
   {
    "duration": 17,
    "start_time": "2022-10-24T13:31:16.935Z"
   },
   {
    "duration": 4,
    "start_time": "2022-10-24T13:31:22.234Z"
   },
   {
    "duration": 184,
    "start_time": "2022-10-24T13:31:22.240Z"
   },
   {
    "duration": 29,
    "start_time": "2022-10-24T13:31:22.425Z"
   },
   {
    "duration": 32,
    "start_time": "2022-10-24T13:31:22.456Z"
   },
   {
    "duration": 31,
    "start_time": "2022-10-24T13:31:22.491Z"
   },
   {
    "duration": 29,
    "start_time": "2022-10-24T13:31:22.523Z"
   },
   {
    "duration": 89,
    "start_time": "2022-10-24T13:31:22.554Z"
   },
   {
    "duration": 154,
    "start_time": "2022-10-24T13:31:22.645Z"
   },
   {
    "duration": 25,
    "start_time": "2022-10-24T13:31:22.801Z"
   },
   {
    "duration": 18,
    "start_time": "2022-10-24T13:31:22.828Z"
   },
   {
    "duration": 17,
    "start_time": "2022-10-24T13:31:22.856Z"
   },
   {
    "duration": 22,
    "start_time": "2022-10-24T13:31:22.875Z"
   },
   {
    "duration": 472,
    "start_time": "2022-10-24T13:31:22.898Z"
   },
   {
    "duration": 20,
    "start_time": "2022-10-24T13:31:23.372Z"
   },
   {
    "duration": 19,
    "start_time": "2022-10-24T13:31:23.394Z"
   },
   {
    "duration": 55,
    "start_time": "2022-10-24T13:31:23.416Z"
   },
   {
    "duration": 5,
    "start_time": "2022-10-24T13:31:23.473Z"
   },
   {
    "duration": 111,
    "start_time": "2022-10-24T13:31:23.479Z"
   },
   {
    "duration": 194,
    "start_time": "2022-10-24T13:31:23.592Z"
   },
   {
    "duration": 177,
    "start_time": "2022-10-24T13:31:23.788Z"
   },
   {
    "duration": 117,
    "start_time": "2022-10-24T13:31:23.967Z"
   },
   {
    "duration": 457,
    "start_time": "2022-10-24T13:31:24.086Z"
   },
   {
    "duration": 64,
    "start_time": "2022-10-24T13:31:24.545Z"
   },
   {
    "duration": 9,
    "start_time": "2022-10-24T13:31:24.611Z"
   },
   {
    "duration": 14,
    "start_time": "2022-10-24T13:31:24.622Z"
   },
   {
    "duration": 40,
    "start_time": "2022-10-24T13:31:24.637Z"
   },
   {
    "duration": 35,
    "start_time": "2022-10-24T13:31:24.679Z"
   },
   {
    "duration": 125,
    "start_time": "2022-10-24T13:31:24.715Z"
   },
   {
    "duration": 23,
    "start_time": "2022-10-24T13:31:24.842Z"
   },
   {
    "duration": 18,
    "start_time": "2022-10-24T13:31:24.867Z"
   },
   {
    "duration": 11,
    "start_time": "2022-10-24T13:31:24.887Z"
   },
   {
    "duration": 40,
    "start_time": "2022-10-24T13:31:24.899Z"
   },
   {
    "duration": 17,
    "start_time": "2022-10-24T13:33:25.000Z"
   },
   {
    "duration": 20,
    "start_time": "2022-10-24T13:34:00.693Z"
   },
   {
    "duration": 18,
    "start_time": "2022-10-24T13:34:06.401Z"
   },
   {
    "duration": 16,
    "start_time": "2022-10-24T13:34:11.196Z"
   },
   {
    "duration": 350,
    "start_time": "2022-10-24T13:34:15.044Z"
   },
   {
    "duration": 5,
    "start_time": "2022-10-24T13:34:18.461Z"
   },
   {
    "duration": 167,
    "start_time": "2022-10-24T13:34:18.468Z"
   },
   {
    "duration": 25,
    "start_time": "2022-10-24T13:34:18.637Z"
   },
   {
    "duration": 16,
    "start_time": "2022-10-24T13:34:18.665Z"
   },
   {
    "duration": 22,
    "start_time": "2022-10-24T13:34:18.684Z"
   },
   {
    "duration": 17,
    "start_time": "2022-10-24T13:34:18.708Z"
   },
   {
    "duration": 65,
    "start_time": "2022-10-24T13:34:18.755Z"
   },
   {
    "duration": 163,
    "start_time": "2022-10-24T13:34:18.822Z"
   },
   {
    "duration": 28,
    "start_time": "2022-10-24T13:34:18.986Z"
   },
   {
    "duration": 8,
    "start_time": "2022-10-24T13:34:19.015Z"
   },
   {
    "duration": 47,
    "start_time": "2022-10-24T13:34:19.026Z"
   },
   {
    "duration": 6,
    "start_time": "2022-10-24T13:34:19.074Z"
   },
   {
    "duration": 350,
    "start_time": "2022-10-24T13:34:19.081Z"
   },
   {
    "duration": 30,
    "start_time": "2022-10-24T13:34:19.433Z"
   },
   {
    "duration": 23,
    "start_time": "2022-10-24T13:34:19.465Z"
   },
   {
    "duration": 51,
    "start_time": "2022-10-24T13:34:19.491Z"
   },
   {
    "duration": 6,
    "start_time": "2022-10-24T13:34:19.554Z"
   },
   {
    "duration": 121,
    "start_time": "2022-10-24T13:34:19.562Z"
   },
   {
    "duration": 178,
    "start_time": "2022-10-24T13:34:19.685Z"
   },
   {
    "duration": 191,
    "start_time": "2022-10-24T13:34:19.865Z"
   },
   {
    "duration": 115,
    "start_time": "2022-10-24T13:34:20.058Z"
   },
   {
    "duration": 469,
    "start_time": "2022-10-24T13:34:20.175Z"
   },
   {
    "duration": 66,
    "start_time": "2022-10-24T13:34:20.646Z"
   },
   {
    "duration": 11,
    "start_time": "2022-10-24T13:34:20.714Z"
   },
   {
    "duration": 43,
    "start_time": "2022-10-24T13:34:20.726Z"
   },
   {
    "duration": 32,
    "start_time": "2022-10-24T13:34:20.771Z"
   },
   {
    "duration": 34,
    "start_time": "2022-10-24T13:34:20.805Z"
   },
   {
    "duration": 105,
    "start_time": "2022-10-24T13:34:20.853Z"
   },
   {
    "duration": 19,
    "start_time": "2022-10-24T13:34:20.961Z"
   },
   {
    "duration": 32,
    "start_time": "2022-10-24T13:34:20.982Z"
   },
   {
    "duration": 39,
    "start_time": "2022-10-24T13:34:21.015Z"
   },
   {
    "duration": 15,
    "start_time": "2022-10-24T13:34:21.056Z"
   },
   {
    "duration": 33,
    "start_time": "2022-10-24T13:36:51.563Z"
   },
   {
    "duration": 3,
    "start_time": "2022-10-24T13:36:55.819Z"
   },
   {
    "duration": 165,
    "start_time": "2022-10-24T13:36:55.824Z"
   },
   {
    "duration": 17,
    "start_time": "2022-10-24T13:36:55.991Z"
   },
   {
    "duration": 10,
    "start_time": "2022-10-24T13:36:56.010Z"
   },
   {
    "duration": 46,
    "start_time": "2022-10-24T13:36:56.023Z"
   },
   {
    "duration": 15,
    "start_time": "2022-10-24T13:36:56.070Z"
   },
   {
    "duration": 67,
    "start_time": "2022-10-24T13:36:56.087Z"
   },
   {
    "duration": 133,
    "start_time": "2022-10-24T13:36:56.155Z"
   },
   {
    "duration": 26,
    "start_time": "2022-10-24T13:36:56.289Z"
   },
   {
    "duration": 7,
    "start_time": "2022-10-24T13:36:56.317Z"
   },
   {
    "duration": 37,
    "start_time": "2022-10-24T13:36:56.326Z"
   },
   {
    "duration": 5,
    "start_time": "2022-10-24T13:36:56.365Z"
   },
   {
    "duration": 509,
    "start_time": "2022-10-24T13:36:56.372Z"
   },
   {
    "duration": 16,
    "start_time": "2022-10-24T13:36:56.883Z"
   },
   {
    "duration": 20,
    "start_time": "2022-10-24T13:36:56.901Z"
   },
   {
    "duration": 47,
    "start_time": "2022-10-24T13:36:56.923Z"
   },
   {
    "duration": 5,
    "start_time": "2022-10-24T13:36:56.971Z"
   },
   {
    "duration": 83,
    "start_time": "2022-10-24T13:36:56.978Z"
   },
   {
    "duration": 175,
    "start_time": "2022-10-24T13:36:57.063Z"
   },
   {
    "duration": 171,
    "start_time": "2022-10-24T13:36:57.239Z"
   },
   {
    "duration": 109,
    "start_time": "2022-10-24T13:36:57.412Z"
   },
   {
    "duration": 479,
    "start_time": "2022-10-24T13:36:57.522Z"
   },
   {
    "duration": 61,
    "start_time": "2022-10-24T13:36:58.003Z"
   },
   {
    "duration": 9,
    "start_time": "2022-10-24T13:36:58.066Z"
   },
   {
    "duration": 25,
    "start_time": "2022-10-24T13:36:58.077Z"
   },
   {
    "duration": 27,
    "start_time": "2022-10-24T13:36:58.104Z"
   },
   {
    "duration": 38,
    "start_time": "2022-10-24T13:36:58.132Z"
   },
   {
    "duration": 114,
    "start_time": "2022-10-24T13:36:58.172Z"
   },
   {
    "duration": 14,
    "start_time": "2022-10-24T13:36:58.289Z"
   },
   {
    "duration": 18,
    "start_time": "2022-10-24T13:36:58.305Z"
   },
   {
    "duration": 17,
    "start_time": "2022-10-24T13:36:58.324Z"
   },
   {
    "duration": 26,
    "start_time": "2022-10-24T13:36:58.342Z"
   },
   {
    "duration": 28,
    "start_time": "2022-10-24T13:37:45.860Z"
   },
   {
    "duration": 53,
    "start_time": "2022-10-24T13:43:37.710Z"
   },
   {
    "duration": 32,
    "start_time": "2022-10-24T13:43:42.304Z"
   },
   {
    "duration": 4,
    "start_time": "2022-10-24T13:43:52.468Z"
   },
   {
    "duration": 210,
    "start_time": "2022-10-24T13:43:52.474Z"
   },
   {
    "duration": 20,
    "start_time": "2022-10-24T13:43:52.686Z"
   },
   {
    "duration": 29,
    "start_time": "2022-10-24T13:43:52.707Z"
   },
   {
    "duration": 33,
    "start_time": "2022-10-24T13:43:52.739Z"
   },
   {
    "duration": 16,
    "start_time": "2022-10-24T13:43:52.774Z"
   },
   {
    "duration": 88,
    "start_time": "2022-10-24T13:43:52.792Z"
   },
   {
    "duration": 164,
    "start_time": "2022-10-24T13:43:52.881Z"
   },
   {
    "duration": 28,
    "start_time": "2022-10-24T13:43:53.053Z"
   },
   {
    "duration": 37,
    "start_time": "2022-10-24T13:43:53.083Z"
   },
   {
    "duration": 52,
    "start_time": "2022-10-24T13:43:53.122Z"
   },
   {
    "duration": 27,
    "start_time": "2022-10-24T13:43:53.176Z"
   },
   {
    "duration": 362,
    "start_time": "2022-10-24T13:43:53.205Z"
   },
   {
    "duration": 18,
    "start_time": "2022-10-24T13:43:53.569Z"
   },
   {
    "duration": 48,
    "start_time": "2022-10-24T13:43:53.589Z"
   },
   {
    "duration": 33,
    "start_time": "2022-10-24T13:43:53.640Z"
   },
   {
    "duration": 56,
    "start_time": "2022-10-24T13:43:53.675Z"
   },
   {
    "duration": 0,
    "start_time": "2022-10-24T13:43:53.733Z"
   },
   {
    "duration": 0,
    "start_time": "2022-10-24T13:43:53.735Z"
   },
   {
    "duration": 0,
    "start_time": "2022-10-24T13:43:53.736Z"
   },
   {
    "duration": 0,
    "start_time": "2022-10-24T13:43:53.737Z"
   },
   {
    "duration": 0,
    "start_time": "2022-10-24T13:43:53.739Z"
   },
   {
    "duration": 0,
    "start_time": "2022-10-24T13:43:53.740Z"
   },
   {
    "duration": 0,
    "start_time": "2022-10-24T13:43:53.741Z"
   },
   {
    "duration": 0,
    "start_time": "2022-10-24T13:43:53.742Z"
   },
   {
    "duration": 0,
    "start_time": "2022-10-24T13:43:53.744Z"
   },
   {
    "duration": 0,
    "start_time": "2022-10-24T13:43:53.745Z"
   },
   {
    "duration": 0,
    "start_time": "2022-10-24T13:43:53.746Z"
   },
   {
    "duration": 0,
    "start_time": "2022-10-24T13:43:53.747Z"
   },
   {
    "duration": 0,
    "start_time": "2022-10-24T13:43:53.748Z"
   },
   {
    "duration": 0,
    "start_time": "2022-10-24T13:43:53.749Z"
   },
   {
    "duration": 0,
    "start_time": "2022-10-24T13:43:53.750Z"
   },
   {
    "duration": 0,
    "start_time": "2022-10-24T13:43:53.751Z"
   },
   {
    "duration": 31,
    "start_time": "2022-10-24T13:44:34.571Z"
   },
   {
    "duration": 19,
    "start_time": "2022-10-24T13:44:39.713Z"
   },
   {
    "duration": 3,
    "start_time": "2022-10-24T13:44:42.587Z"
   },
   {
    "duration": 219,
    "start_time": "2022-10-24T13:44:42.594Z"
   },
   {
    "duration": 19,
    "start_time": "2022-10-24T13:44:42.815Z"
   },
   {
    "duration": 37,
    "start_time": "2022-10-24T13:44:42.836Z"
   },
   {
    "duration": 23,
    "start_time": "2022-10-24T13:44:42.875Z"
   },
   {
    "duration": 48,
    "start_time": "2022-10-24T13:44:42.901Z"
   },
   {
    "duration": 82,
    "start_time": "2022-10-24T13:44:42.951Z"
   },
   {
    "duration": 151,
    "start_time": "2022-10-24T13:44:43.035Z"
   },
   {
    "duration": 27,
    "start_time": "2022-10-24T13:44:43.187Z"
   },
   {
    "duration": 55,
    "start_time": "2022-10-24T13:44:43.216Z"
   },
   {
    "duration": 36,
    "start_time": "2022-10-24T13:44:43.273Z"
   },
   {
    "duration": 40,
    "start_time": "2022-10-24T13:44:43.311Z"
   },
   {
    "duration": 368,
    "start_time": "2022-10-24T13:44:43.353Z"
   },
   {
    "duration": 18,
    "start_time": "2022-10-24T13:44:43.723Z"
   },
   {
    "duration": 60,
    "start_time": "2022-10-24T13:44:43.756Z"
   },
   {
    "duration": 32,
    "start_time": "2022-10-24T13:44:43.818Z"
   },
   {
    "duration": 42,
    "start_time": "2022-10-24T13:44:43.852Z"
   },
   {
    "duration": 0,
    "start_time": "2022-10-24T13:44:43.896Z"
   },
   {
    "duration": 0,
    "start_time": "2022-10-24T13:44:43.897Z"
   },
   {
    "duration": 0,
    "start_time": "2022-10-24T13:44:43.899Z"
   },
   {
    "duration": 0,
    "start_time": "2022-10-24T13:44:43.900Z"
   },
   {
    "duration": 0,
    "start_time": "2022-10-24T13:44:43.901Z"
   },
   {
    "duration": 0,
    "start_time": "2022-10-24T13:44:43.902Z"
   },
   {
    "duration": 0,
    "start_time": "2022-10-24T13:44:43.903Z"
   },
   {
    "duration": 0,
    "start_time": "2022-10-24T13:44:43.904Z"
   },
   {
    "duration": 0,
    "start_time": "2022-10-24T13:44:43.905Z"
   },
   {
    "duration": 0,
    "start_time": "2022-10-24T13:44:43.906Z"
   },
   {
    "duration": 0,
    "start_time": "2022-10-24T13:44:43.907Z"
   },
   {
    "duration": 0,
    "start_time": "2022-10-24T13:44:43.908Z"
   },
   {
    "duration": 0,
    "start_time": "2022-10-24T13:44:43.909Z"
   },
   {
    "duration": 0,
    "start_time": "2022-10-24T13:44:43.910Z"
   },
   {
    "duration": 0,
    "start_time": "2022-10-24T13:44:43.911Z"
   },
   {
    "duration": 0,
    "start_time": "2022-10-24T13:44:43.912Z"
   },
   {
    "duration": 32,
    "start_time": "2022-10-24T13:44:55.337Z"
   },
   {
    "duration": 31,
    "start_time": "2022-10-24T13:47:01.977Z"
   },
   {
    "duration": 30,
    "start_time": "2022-10-24T13:47:16.172Z"
   },
   {
    "duration": 30,
    "start_time": "2022-10-24T13:47:39.008Z"
   },
   {
    "duration": 32,
    "start_time": "2022-10-24T13:48:33.607Z"
   },
   {
    "duration": 40,
    "start_time": "2022-10-24T13:49:46.487Z"
   },
   {
    "duration": 30,
    "start_time": "2022-10-24T13:49:55.903Z"
   },
   {
    "duration": 30,
    "start_time": "2022-10-24T13:50:00.603Z"
   },
   {
    "duration": 31,
    "start_time": "2022-10-24T13:51:28.052Z"
   },
   {
    "duration": 46,
    "start_time": "2022-10-24T13:51:38.121Z"
   },
   {
    "duration": 31,
    "start_time": "2022-10-24T13:51:41.020Z"
   },
   {
    "duration": 31,
    "start_time": "2022-10-24T13:51:45.250Z"
   },
   {
    "duration": 43,
    "start_time": "2022-10-25T11:01:36.518Z"
   },
   {
    "duration": 1337,
    "start_time": "2022-10-25T11:01:39.649Z"
   },
   {
    "duration": 671,
    "start_time": "2022-10-25T11:01:40.988Z"
   },
   {
    "duration": 18,
    "start_time": "2022-10-25T11:01:41.660Z"
   },
   {
    "duration": 10,
    "start_time": "2022-10-25T11:01:41.680Z"
   },
   {
    "duration": 23,
    "start_time": "2022-10-25T11:01:41.691Z"
   },
   {
    "duration": 13,
    "start_time": "2022-10-25T11:01:41.715Z"
   },
   {
    "duration": 81,
    "start_time": "2022-10-25T11:01:41.729Z"
   },
   {
    "duration": 130,
    "start_time": "2022-10-25T11:01:41.811Z"
   },
   {
    "duration": 22,
    "start_time": "2022-10-25T11:01:41.942Z"
   },
   {
    "duration": 6,
    "start_time": "2022-10-25T11:01:41.977Z"
   },
   {
    "duration": 14,
    "start_time": "2022-10-25T11:01:41.985Z"
   },
   {
    "duration": 4,
    "start_time": "2022-10-25T11:01:42.001Z"
   },
   {
    "duration": 366,
    "start_time": "2022-10-25T11:01:42.007Z"
   },
   {
    "duration": 15,
    "start_time": "2022-10-25T11:01:42.377Z"
   },
   {
    "duration": 24,
    "start_time": "2022-10-25T11:01:42.393Z"
   },
   {
    "duration": 14,
    "start_time": "2022-10-25T11:01:42.419Z"
   },
   {
    "duration": 48,
    "start_time": "2022-10-25T11:01:42.435Z"
   },
   {
    "duration": 4,
    "start_time": "2022-10-25T11:01:42.485Z"
   },
   {
    "duration": 66,
    "start_time": "2022-10-25T11:01:42.490Z"
   },
   {
    "duration": 177,
    "start_time": "2022-10-25T11:01:42.558Z"
   },
   {
    "duration": 157,
    "start_time": "2022-10-25T11:01:42.737Z"
   },
   {
    "duration": 98,
    "start_time": "2022-10-25T11:01:42.895Z"
   },
   {
    "duration": 443,
    "start_time": "2022-10-25T11:01:42.994Z"
   },
   {
    "duration": 57,
    "start_time": "2022-10-25T11:01:43.438Z"
   },
   {
    "duration": 8,
    "start_time": "2022-10-25T11:01:43.497Z"
   },
   {
    "duration": 10,
    "start_time": "2022-10-25T11:01:43.506Z"
   },
   {
    "duration": 21,
    "start_time": "2022-10-25T11:01:43.517Z"
   },
   {
    "duration": 47,
    "start_time": "2022-10-25T11:01:43.540Z"
   },
   {
    "duration": 97,
    "start_time": "2022-10-25T11:01:43.589Z"
   },
   {
    "duration": 12,
    "start_time": "2022-10-25T11:01:43.688Z"
   },
   {
    "duration": 11,
    "start_time": "2022-10-25T11:01:43.702Z"
   },
   {
    "duration": 10,
    "start_time": "2022-10-25T11:01:43.715Z"
   },
   {
    "duration": 9,
    "start_time": "2022-10-25T11:01:43.726Z"
   },
   {
    "duration": 32,
    "start_time": "2022-10-25T11:17:33.324Z"
   },
   {
    "duration": 32,
    "start_time": "2022-10-25T11:17:42.316Z"
   },
   {
    "duration": 33,
    "start_time": "2022-10-25T11:17:49.810Z"
   },
   {
    "duration": 31,
    "start_time": "2022-10-25T11:17:52.846Z"
   },
   {
    "duration": 31,
    "start_time": "2022-10-25T11:17:59.494Z"
   },
   {
    "duration": 362,
    "start_time": "2022-10-25T11:18:05.116Z"
   },
   {
    "duration": 359,
    "start_time": "2022-10-25T11:18:20.824Z"
   },
   {
    "duration": 74,
    "start_time": "2022-10-25T11:18:49.715Z"
   },
   {
    "duration": 370,
    "start_time": "2022-10-25T11:18:55.845Z"
   },
   {
    "duration": 357,
    "start_time": "2022-10-25T11:19:05.410Z"
   },
   {
    "duration": 12,
    "start_time": "2022-10-25T11:19:54.811Z"
   },
   {
    "duration": 23,
    "start_time": "2022-10-25T11:20:00.241Z"
   },
   {
    "duration": 28,
    "start_time": "2022-10-25T11:20:02.505Z"
   },
   {
    "duration": 374,
    "start_time": "2022-10-25T11:20:11.256Z"
   },
   {
    "duration": 379,
    "start_time": "2022-10-25T11:20:22.424Z"
   },
   {
    "duration": 363,
    "start_time": "2022-10-25T11:20:36.294Z"
   },
   {
    "duration": 36,
    "start_time": "2022-10-25T11:21:16.100Z"
   },
   {
    "duration": 368,
    "start_time": "2022-10-25T11:21:23.357Z"
   },
   {
    "duration": 360,
    "start_time": "2022-10-25T11:21:38.877Z"
   },
   {
    "duration": 351,
    "start_time": "2022-10-25T11:21:55.145Z"
   },
   {
    "duration": 12,
    "start_time": "2022-10-25T11:22:04.903Z"
   },
   {
    "duration": 145,
    "start_time": "2022-10-25T11:22:10.454Z"
   },
   {
    "duration": 34,
    "start_time": "2022-10-25T11:22:22.579Z"
   },
   {
    "duration": 10,
    "start_time": "2022-10-25T11:22:35.854Z"
   },
   {
    "duration": 36,
    "start_time": "2022-10-25T11:22:40.190Z"
   },
   {
    "duration": 32,
    "start_time": "2022-10-25T11:23:04.615Z"
   },
   {
    "duration": 34,
    "start_time": "2022-10-25T11:23:10.910Z"
   },
   {
    "duration": 32,
    "start_time": "2022-10-25T11:23:15.087Z"
   },
   {
    "duration": 36,
    "start_time": "2022-10-25T11:23:34.736Z"
   },
   {
    "duration": 35,
    "start_time": "2022-10-25T11:23:52.499Z"
   },
   {
    "duration": 34,
    "start_time": "2022-10-25T11:24:02.455Z"
   },
   {
    "duration": 77,
    "start_time": "2022-10-25T11:24:15.832Z"
   },
   {
    "duration": 40,
    "start_time": "2022-10-25T11:24:22.695Z"
   },
   {
    "duration": 35,
    "start_time": "2022-10-25T11:24:34.299Z"
   },
   {
    "duration": 34,
    "start_time": "2022-10-25T11:24:38.629Z"
   },
   {
    "duration": 31,
    "start_time": "2022-10-25T11:25:02.102Z"
   },
   {
    "duration": 31,
    "start_time": "2022-10-25T11:25:08.726Z"
   },
   {
    "duration": 8,
    "start_time": "2022-10-25T11:46:54.422Z"
   },
   {
    "duration": 0,
    "start_time": "2022-10-25T11:47:41.261Z"
   },
   {
    "duration": 0,
    "start_time": "2022-10-25T11:47:41.262Z"
   },
   {
    "duration": 0,
    "start_time": "2022-10-25T11:47:41.263Z"
   },
   {
    "duration": 0,
    "start_time": "2022-10-25T11:47:41.264Z"
   },
   {
    "duration": 0,
    "start_time": "2022-10-25T11:47:41.265Z"
   },
   {
    "duration": 1,
    "start_time": "2022-10-25T11:47:41.265Z"
   },
   {
    "duration": 0,
    "start_time": "2022-10-25T11:47:41.267Z"
   },
   {
    "duration": 0,
    "start_time": "2022-10-25T11:47:41.268Z"
   },
   {
    "duration": 0,
    "start_time": "2022-10-25T11:47:41.268Z"
   },
   {
    "duration": 0,
    "start_time": "2022-10-25T11:47:41.269Z"
   },
   {
    "duration": 0,
    "start_time": "2022-10-25T11:47:41.270Z"
   },
   {
    "duration": 0,
    "start_time": "2022-10-25T11:47:41.271Z"
   },
   {
    "duration": 0,
    "start_time": "2022-10-25T11:47:41.272Z"
   },
   {
    "duration": 1,
    "start_time": "2022-10-25T11:47:41.272Z"
   },
   {
    "duration": 0,
    "start_time": "2022-10-25T11:47:41.273Z"
   },
   {
    "duration": 0,
    "start_time": "2022-10-25T11:47:41.274Z"
   },
   {
    "duration": 0,
    "start_time": "2022-10-25T11:47:41.275Z"
   },
   {
    "duration": 0,
    "start_time": "2022-10-25T11:47:41.276Z"
   },
   {
    "duration": 0,
    "start_time": "2022-10-25T11:47:41.277Z"
   },
   {
    "duration": 0,
    "start_time": "2022-10-25T11:47:41.278Z"
   },
   {
    "duration": 0,
    "start_time": "2022-10-25T11:47:41.279Z"
   },
   {
    "duration": 0,
    "start_time": "2022-10-25T11:47:41.280Z"
   },
   {
    "duration": 0,
    "start_time": "2022-10-25T11:47:41.281Z"
   },
   {
    "duration": 0,
    "start_time": "2022-10-25T11:47:41.282Z"
   },
   {
    "duration": 0,
    "start_time": "2022-10-25T11:47:41.284Z"
   },
   {
    "duration": 0,
    "start_time": "2022-10-25T11:47:41.284Z"
   },
   {
    "duration": 0,
    "start_time": "2022-10-25T11:47:41.286Z"
   },
   {
    "duration": 0,
    "start_time": "2022-10-25T11:47:41.287Z"
   },
   {
    "duration": 0,
    "start_time": "2022-10-25T11:47:41.288Z"
   },
   {
    "duration": 0,
    "start_time": "2022-10-25T11:47:41.288Z"
   },
   {
    "duration": 0,
    "start_time": "2022-10-25T11:47:41.290Z"
   },
   {
    "duration": 0,
    "start_time": "2022-10-25T11:47:41.291Z"
   },
   {
    "duration": 0,
    "start_time": "2022-10-25T11:47:41.292Z"
   },
   {
    "duration": 0,
    "start_time": "2022-10-25T11:47:41.293Z"
   },
   {
    "duration": 0,
    "start_time": "2022-10-25T11:47:41.294Z"
   },
   {
    "duration": 0,
    "start_time": "2022-10-25T11:47:41.295Z"
   },
   {
    "duration": 2,
    "start_time": "2022-10-25T11:48:10.402Z"
   },
   {
    "duration": 140,
    "start_time": "2022-10-25T11:48:10.406Z"
   },
   {
    "duration": 16,
    "start_time": "2022-10-25T11:48:10.547Z"
   },
   {
    "duration": 9,
    "start_time": "2022-10-25T11:48:10.577Z"
   },
   {
    "duration": 17,
    "start_time": "2022-10-25T11:48:10.587Z"
   },
   {
    "duration": 14,
    "start_time": "2022-10-25T11:48:10.605Z"
   },
   {
    "duration": 76,
    "start_time": "2022-10-25T11:48:10.621Z"
   },
   {
    "duration": 116,
    "start_time": "2022-10-25T11:48:10.699Z"
   },
   {
    "duration": 25,
    "start_time": "2022-10-25T11:48:10.816Z"
   },
   {
    "duration": 9,
    "start_time": "2022-10-25T11:48:10.843Z"
   },
   {
    "duration": 35,
    "start_time": "2022-10-25T11:48:10.855Z"
   },
   {
    "duration": 13,
    "start_time": "2022-10-25T11:48:10.892Z"
   },
   {
    "duration": 354,
    "start_time": "2022-10-25T11:48:10.906Z"
   },
   {
    "duration": 21,
    "start_time": "2022-10-25T11:48:11.261Z"
   },
   {
    "duration": 27,
    "start_time": "2022-10-25T11:48:11.284Z"
   },
   {
    "duration": 16,
    "start_time": "2022-10-25T11:48:11.312Z"
   },
   {
    "duration": 25,
    "start_time": "2022-10-25T11:48:11.329Z"
   },
   {
    "duration": 4,
    "start_time": "2022-10-25T11:48:11.377Z"
   },
   {
    "duration": 66,
    "start_time": "2022-10-25T11:48:11.382Z"
   },
   {
    "duration": 177,
    "start_time": "2022-10-25T11:48:11.449Z"
   },
   {
    "duration": 178,
    "start_time": "2022-10-25T11:48:11.628Z"
   },
   {
    "duration": 96,
    "start_time": "2022-10-25T11:48:11.807Z"
   },
   {
    "duration": 397,
    "start_time": "2022-10-25T11:48:11.905Z"
   },
   {
    "duration": 48,
    "start_time": "2022-10-25T11:48:12.303Z"
   },
   {
    "duration": 8,
    "start_time": "2022-10-25T11:48:12.353Z"
   },
   {
    "duration": 22,
    "start_time": "2022-10-25T11:48:12.362Z"
   },
   {
    "duration": 32,
    "start_time": "2022-10-25T11:48:12.385Z"
   },
   {
    "duration": 17,
    "start_time": "2022-10-25T11:48:12.419Z"
   },
   {
    "duration": 48,
    "start_time": "2022-10-25T11:48:12.439Z"
   },
   {
    "duration": 75,
    "start_time": "2022-10-25T11:48:12.489Z"
   },
   {
    "duration": 24,
    "start_time": "2022-10-25T11:48:12.565Z"
   },
   {
    "duration": 11,
    "start_time": "2022-10-25T11:48:12.590Z"
   },
   {
    "duration": 73,
    "start_time": "2022-10-25T11:48:12.602Z"
   },
   {
    "duration": 0,
    "start_time": "2022-10-25T11:48:12.677Z"
   },
   {
    "duration": 0,
    "start_time": "2022-10-25T11:48:12.679Z"
   },
   {
    "duration": 0,
    "start_time": "2022-10-25T11:48:12.679Z"
   },
   {
    "duration": 8,
    "start_time": "2022-10-25T11:48:32.397Z"
   },
   {
    "duration": 8,
    "start_time": "2022-10-25T11:48:32.893Z"
   },
   {
    "duration": 1224,
    "start_time": "2022-10-25T11:48:34.069Z"
   },
   {
    "duration": 1162,
    "start_time": "2022-10-25T11:49:57.734Z"
   },
   {
    "duration": 1142,
    "start_time": "2022-10-25T11:50:50.220Z"
   },
   {
    "duration": 22,
    "start_time": "2022-10-25T11:53:41.369Z"
   },
   {
    "duration": 20,
    "start_time": "2022-10-25T11:53:51.276Z"
   },
   {
    "duration": 19,
    "start_time": "2022-10-25T11:53:57.093Z"
   },
   {
    "duration": 1133,
    "start_time": "2022-10-25T11:55:05.892Z"
   },
   {
    "duration": 1095,
    "start_time": "2022-10-25T11:56:20.982Z"
   },
   {
    "duration": 1096,
    "start_time": "2022-10-25T11:56:50.962Z"
   },
   {
    "duration": 33,
    "start_time": "2022-10-25T12:00:25.046Z"
   },
   {
    "duration": 30,
    "start_time": "2022-10-25T12:00:30.877Z"
   },
   {
    "duration": 75,
    "start_time": "2022-10-25T12:00:38.353Z"
   },
   {
    "duration": 29,
    "start_time": "2022-10-25T12:00:42.908Z"
   },
   {
    "duration": 78,
    "start_time": "2022-10-25T12:00:45.207Z"
   },
   {
    "duration": 16,
    "start_time": "2022-10-25T12:04:17.160Z"
   },
   {
    "duration": 67,
    "start_time": "2022-10-25T12:04:25.066Z"
   },
   {
    "duration": 79,
    "start_time": "2022-10-25T12:05:08.326Z"
   },
   {
    "duration": 20,
    "start_time": "2022-10-25T12:05:11.623Z"
   },
   {
    "duration": 16,
    "start_time": "2022-10-25T12:06:20.756Z"
   },
   {
    "duration": 13,
    "start_time": "2022-10-25T12:06:31.079Z"
   },
   {
    "duration": 9,
    "start_time": "2022-10-25T12:06:32.748Z"
   },
   {
    "duration": 9,
    "start_time": "2022-10-25T12:06:33.156Z"
   },
   {
    "duration": 8,
    "start_time": "2022-10-25T12:06:36.659Z"
   },
   {
    "duration": 52,
    "start_time": "2022-10-25T14:02:27.760Z"
   },
   {
    "duration": 1441,
    "start_time": "2022-10-25T14:02:32.092Z"
   },
   {
    "duration": 1040,
    "start_time": "2022-10-25T14:02:33.535Z"
   },
   {
    "duration": 24,
    "start_time": "2022-10-25T14:02:34.577Z"
   },
   {
    "duration": 14,
    "start_time": "2022-10-25T14:02:34.604Z"
   },
   {
    "duration": 28,
    "start_time": "2022-10-25T14:02:34.619Z"
   },
   {
    "duration": 18,
    "start_time": "2022-10-25T14:02:34.649Z"
   },
   {
    "duration": 99,
    "start_time": "2022-10-25T14:02:34.669Z"
   },
   {
    "duration": 161,
    "start_time": "2022-10-25T14:02:34.770Z"
   },
   {
    "duration": 29,
    "start_time": "2022-10-25T14:02:34.933Z"
   },
   {
    "duration": 8,
    "start_time": "2022-10-25T14:02:34.965Z"
   },
   {
    "duration": 20,
    "start_time": "2022-10-25T14:02:34.975Z"
   },
   {
    "duration": 31,
    "start_time": "2022-10-25T14:02:34.997Z"
   },
   {
    "duration": 413,
    "start_time": "2022-10-25T14:02:35.029Z"
   },
   {
    "duration": 18,
    "start_time": "2022-10-25T14:02:35.443Z"
   },
   {
    "duration": 32,
    "start_time": "2022-10-25T14:02:35.462Z"
   },
   {
    "duration": 39,
    "start_time": "2022-10-25T14:02:35.495Z"
   },
   {
    "duration": 32,
    "start_time": "2022-10-25T14:02:35.536Z"
   },
   {
    "duration": 6,
    "start_time": "2022-10-25T14:02:35.570Z"
   },
   {
    "duration": 101,
    "start_time": "2022-10-25T14:02:35.578Z"
   },
   {
    "duration": 164,
    "start_time": "2022-10-25T14:02:35.681Z"
   },
   {
    "duration": 183,
    "start_time": "2022-10-25T14:02:35.847Z"
   },
   {
    "duration": 118,
    "start_time": "2022-10-25T14:02:36.032Z"
   },
   {
    "duration": 538,
    "start_time": "2022-10-25T14:02:36.152Z"
   },
   {
    "duration": 73,
    "start_time": "2022-10-25T14:02:36.692Z"
   },
   {
    "duration": 11,
    "start_time": "2022-10-25T14:02:36.767Z"
   },
   {
    "duration": 28,
    "start_time": "2022-10-25T14:02:36.779Z"
   },
   {
    "duration": 46,
    "start_time": "2022-10-25T14:02:36.810Z"
   },
   {
    "duration": 22,
    "start_time": "2022-10-25T14:02:36.859Z"
   },
   {
    "duration": 47,
    "start_time": "2022-10-25T14:02:36.883Z"
   },
   {
    "duration": 113,
    "start_time": "2022-10-25T14:02:36.931Z"
   },
   {
    "duration": 17,
    "start_time": "2022-10-25T14:02:37.046Z"
   },
   {
    "duration": 29,
    "start_time": "2022-10-25T14:02:37.065Z"
   },
   {
    "duration": 45,
    "start_time": "2022-10-25T14:02:37.095Z"
   },
   {
    "duration": 21,
    "start_time": "2022-10-25T14:02:37.141Z"
   },
   {
    "duration": 24,
    "start_time": "2022-10-25T14:02:37.164Z"
   },
   {
    "duration": 75,
    "start_time": "2022-10-25T14:07:24.492Z"
   },
   {
    "duration": 95,
    "start_time": "2022-10-25T14:10:29.921Z"
   },
   {
    "duration": 38,
    "start_time": "2022-10-25T14:10:34.919Z"
   },
   {
    "duration": 39,
    "start_time": "2022-10-25T14:10:41.078Z"
   },
   {
    "duration": 323,
    "start_time": "2022-10-25T14:10:46.985Z"
   },
   {
    "duration": 4,
    "start_time": "2022-10-25T14:10:51.210Z"
   },
   {
    "duration": 173,
    "start_time": "2022-10-25T14:10:51.216Z"
   },
   {
    "duration": 36,
    "start_time": "2022-10-25T14:10:51.391Z"
   },
   {
    "duration": 28,
    "start_time": "2022-10-25T14:10:51.428Z"
   },
   {
    "duration": 27,
    "start_time": "2022-10-25T14:10:51.458Z"
   },
   {
    "duration": 31,
    "start_time": "2022-10-25T14:10:51.486Z"
   },
   {
    "duration": 72,
    "start_time": "2022-10-25T14:10:51.518Z"
   },
   {
    "duration": 146,
    "start_time": "2022-10-25T14:10:51.592Z"
   },
   {
    "duration": 28,
    "start_time": "2022-10-25T14:10:51.740Z"
   },
   {
    "duration": 9,
    "start_time": "2022-10-25T14:10:51.770Z"
   },
   {
    "duration": 48,
    "start_time": "2022-10-25T14:10:51.784Z"
   },
   {
    "duration": 7,
    "start_time": "2022-10-25T14:10:51.834Z"
   },
   {
    "duration": 462,
    "start_time": "2022-10-25T14:10:51.843Z"
   },
   {
    "duration": 19,
    "start_time": "2022-10-25T14:10:52.307Z"
   },
   {
    "duration": 52,
    "start_time": "2022-10-25T14:10:52.328Z"
   },
   {
    "duration": 19,
    "start_time": "2022-10-25T14:10:52.382Z"
   },
   {
    "duration": 44,
    "start_time": "2022-10-25T14:10:52.403Z"
   },
   {
    "duration": 6,
    "start_time": "2022-10-25T14:10:52.450Z"
   },
   {
    "duration": 88,
    "start_time": "2022-10-25T14:10:52.457Z"
   },
   {
    "duration": 163,
    "start_time": "2022-10-25T14:10:52.547Z"
   },
   {
    "duration": 192,
    "start_time": "2022-10-25T14:10:52.711Z"
   },
   {
    "duration": 107,
    "start_time": "2022-10-25T14:10:52.905Z"
   },
   {
    "duration": 461,
    "start_time": "2022-10-25T14:10:53.014Z"
   },
   {
    "duration": 68,
    "start_time": "2022-10-25T14:10:53.476Z"
   },
   {
    "duration": 11,
    "start_time": "2022-10-25T14:10:53.546Z"
   },
   {
    "duration": 14,
    "start_time": "2022-10-25T14:10:53.559Z"
   },
   {
    "duration": 64,
    "start_time": "2022-10-25T14:10:53.576Z"
   },
   {
    "duration": 27,
    "start_time": "2022-10-25T14:10:53.642Z"
   },
   {
    "duration": 52,
    "start_time": "2022-10-25T14:10:53.673Z"
   },
   {
    "duration": 130,
    "start_time": "2022-10-25T14:10:53.727Z"
   },
   {
    "duration": 19,
    "start_time": "2022-10-25T14:10:53.859Z"
   },
   {
    "duration": 12,
    "start_time": "2022-10-25T14:10:53.880Z"
   },
   {
    "duration": 13,
    "start_time": "2022-10-25T14:10:53.894Z"
   },
   {
    "duration": 9,
    "start_time": "2022-10-25T14:10:53.923Z"
   },
   {
    "duration": 9,
    "start_time": "2022-10-25T14:10:53.934Z"
   },
   {
    "duration": 42,
    "start_time": "2022-10-25T14:11:41.172Z"
   },
   {
    "duration": 31,
    "start_time": "2022-10-25T14:14:12.900Z"
   },
   {
    "duration": 50,
    "start_time": "2022-10-25T14:14:22.847Z"
   },
   {
    "duration": 1339,
    "start_time": "2022-10-25T14:14:40.903Z"
   },
   {
    "duration": 188,
    "start_time": "2022-10-25T14:14:42.244Z"
   },
   {
    "duration": 24,
    "start_time": "2022-10-25T14:14:42.433Z"
   },
   {
    "duration": 13,
    "start_time": "2022-10-25T14:14:42.459Z"
   },
   {
    "duration": 25,
    "start_time": "2022-10-25T14:14:42.474Z"
   },
   {
    "duration": 40,
    "start_time": "2022-10-25T14:14:42.500Z"
   },
   {
    "duration": 83,
    "start_time": "2022-10-25T14:14:42.541Z"
   },
   {
    "duration": 159,
    "start_time": "2022-10-25T14:14:42.626Z"
   },
   {
    "duration": 38,
    "start_time": "2022-10-25T14:14:42.787Z"
   },
   {
    "duration": 7,
    "start_time": "2022-10-25T14:14:42.829Z"
   },
   {
    "duration": 24,
    "start_time": "2022-10-25T14:14:42.838Z"
   },
   {
    "duration": 6,
    "start_time": "2022-10-25T14:14:42.864Z"
   },
   {
    "duration": 449,
    "start_time": "2022-10-25T14:14:42.872Z"
   },
   {
    "duration": 19,
    "start_time": "2022-10-25T14:14:43.324Z"
   },
   {
    "duration": 32,
    "start_time": "2022-10-25T14:14:43.345Z"
   },
   {
    "duration": 18,
    "start_time": "2022-10-25T14:14:43.378Z"
   },
   {
    "duration": 33,
    "start_time": "2022-10-25T14:14:43.423Z"
   },
   {
    "duration": 6,
    "start_time": "2022-10-25T14:14:43.457Z"
   },
   {
    "duration": 100,
    "start_time": "2022-10-25T14:14:43.464Z"
   },
   {
    "duration": 169,
    "start_time": "2022-10-25T14:14:43.566Z"
   },
   {
    "duration": 173,
    "start_time": "2022-10-25T14:14:43.737Z"
   },
   {
    "duration": 104,
    "start_time": "2022-10-25T14:14:43.912Z"
   },
   {
    "duration": 469,
    "start_time": "2022-10-25T14:14:44.023Z"
   },
   {
    "duration": 66,
    "start_time": "2022-10-25T14:14:44.494Z"
   },
   {
    "duration": 12,
    "start_time": "2022-10-25T14:14:44.562Z"
   },
   {
    "duration": 12,
    "start_time": "2022-10-25T14:14:44.576Z"
   },
   {
    "duration": 54,
    "start_time": "2022-10-25T14:14:44.590Z"
   },
   {
    "duration": 21,
    "start_time": "2022-10-25T14:14:44.648Z"
   },
   {
    "duration": 32,
    "start_time": "2022-10-25T14:14:44.671Z"
   },
   {
    "duration": 118,
    "start_time": "2022-10-25T14:14:44.723Z"
   },
   {
    "duration": 18,
    "start_time": "2022-10-25T14:14:44.842Z"
   },
   {
    "duration": 12,
    "start_time": "2022-10-25T14:14:44.862Z"
   },
   {
    "duration": 9,
    "start_time": "2022-10-25T14:14:44.875Z"
   },
   {
    "duration": 8,
    "start_time": "2022-10-25T14:14:44.885Z"
   },
   {
    "duration": 37,
    "start_time": "2022-10-25T14:14:44.895Z"
   },
   {
    "duration": 54,
    "start_time": "2022-10-27T06:16:21.174Z"
   },
   {
    "duration": 1492,
    "start_time": "2022-10-27T06:16:24.954Z"
   },
   {
    "duration": 732,
    "start_time": "2022-10-27T06:16:26.448Z"
   },
   {
    "duration": 22,
    "start_time": "2022-10-27T06:16:27.181Z"
   },
   {
    "duration": 12,
    "start_time": "2022-10-27T06:16:27.206Z"
   },
   {
    "duration": 33,
    "start_time": "2022-10-27T06:16:27.219Z"
   },
   {
    "duration": 18,
    "start_time": "2022-10-27T06:16:27.253Z"
   },
   {
    "duration": 90,
    "start_time": "2022-10-27T06:16:27.272Z"
   },
   {
    "duration": 157,
    "start_time": "2022-10-27T06:16:27.363Z"
   },
   {
    "duration": 34,
    "start_time": "2022-10-27T06:16:27.522Z"
   },
   {
    "duration": 7,
    "start_time": "2022-10-27T06:16:27.560Z"
   },
   {
    "duration": 32,
    "start_time": "2022-10-27T06:16:27.569Z"
   },
   {
    "duration": 6,
    "start_time": "2022-10-27T06:16:27.602Z"
   },
   {
    "duration": 422,
    "start_time": "2022-10-27T06:16:27.609Z"
   },
   {
    "duration": 21,
    "start_time": "2022-10-27T06:16:28.033Z"
   },
   {
    "duration": 51,
    "start_time": "2022-10-27T06:16:28.057Z"
   },
   {
    "duration": 22,
    "start_time": "2022-10-27T06:16:28.128Z"
   },
   {
    "duration": 76,
    "start_time": "2022-10-27T06:16:28.152Z"
   },
   {
    "duration": 7,
    "start_time": "2022-10-27T06:16:28.231Z"
   },
   {
    "duration": 104,
    "start_time": "2022-10-27T06:16:28.240Z"
   },
   {
    "duration": 187,
    "start_time": "2022-10-27T06:16:28.346Z"
   },
   {
    "duration": 188,
    "start_time": "2022-10-27T06:16:28.535Z"
   },
   {
    "duration": 133,
    "start_time": "2022-10-27T06:16:28.729Z"
   },
   {
    "duration": 535,
    "start_time": "2022-10-27T06:16:28.864Z"
   },
   {
    "duration": 144,
    "start_time": "2022-10-27T06:16:29.400Z"
   },
   {
    "duration": 10,
    "start_time": "2022-10-27T06:16:29.545Z"
   },
   {
    "duration": 10,
    "start_time": "2022-10-27T06:16:29.557Z"
   },
   {
    "duration": 92,
    "start_time": "2022-10-27T06:16:29.569Z"
   },
   {
    "duration": 78,
    "start_time": "2022-10-27T06:16:29.664Z"
   },
   {
    "duration": 33,
    "start_time": "2022-10-27T06:16:29.744Z"
   },
   {
    "duration": 209,
    "start_time": "2022-10-27T06:16:29.831Z"
   },
   {
    "duration": 18,
    "start_time": "2022-10-27T06:16:30.042Z"
   },
   {
    "duration": 72,
    "start_time": "2022-10-27T06:16:30.062Z"
   },
   {
    "duration": 33,
    "start_time": "2022-10-27T06:16:30.136Z"
   },
   {
    "duration": 8,
    "start_time": "2022-10-27T06:16:30.171Z"
   },
   {
    "duration": 52,
    "start_time": "2022-10-27T06:16:30.181Z"
   }
  ],
  "kernelspec": {
   "display_name": "Python 3 (ipykernel)",
   "language": "python",
   "name": "python3"
  },
  "language_info": {
   "codemirror_mode": {
    "name": "ipython",
    "version": 3
   },
   "file_extension": ".py",
   "mimetype": "text/x-python",
   "name": "python",
   "nbconvert_exporter": "python",
   "pygments_lexer": "ipython3",
   "version": "3.9.12"
  },
  "toc": {
   "base_numbering": "1",
   "nav_menu": {},
   "number_sections": true,
   "sideBar": true,
   "skip_h1_title": true,
   "title_cell": "Table of Contents",
   "title_sidebar": "Contents",
   "toc_cell": false,
   "toc_position": {
    "height": "calc(100% - 180px)",
    "left": "10px",
    "top": "150px",
    "width": "302.222px"
   },
   "toc_section_display": true,
   "toc_window_display": true
  }
 },
 "nbformat": 4,
 "nbformat_minor": 2
}
